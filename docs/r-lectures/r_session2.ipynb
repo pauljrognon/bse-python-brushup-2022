{
  "cells": [
    {
      "cell_type": "markdown",
      "metadata": {
        "id": "FVgm8I6b9p3j"
      },
      "source": [
        "# Session 2\n",
        "\n",
        "By **Paul Rognon & Miquel Torrens i Dinarès**\n",
        "\n",
        "*Barcelona School of Economics* –\n",
        "*Data Science Center*\n",
        "\n",
        "June 25th, 2023"
      ]
    },
    {
      "cell_type": "markdown",
      "metadata": {
        "id": "RIYUd3OF_ZV3"
      },
      "source": [
        "---\n",
        "## 7. Control flows\n",
        "\n",
        "We cover `if` statements, and the basic loops: `for`, `while`, `repeat`."
      ]
    },
    {
      "cell_type": "markdown",
      "metadata": {
        "id": "Lg1UZGGC27k8"
      },
      "source": [
        "### 7.1 `if`-statements\n",
        "\n",
        "`if`-statements are used to run operations only if some condition is met. They start with the keyword `if` followed by the condition statement which must output a boolean. Then comes a block of operations to be run if the condition is met. Another block starting with keyword `else` can be added to define operations to be run if the condition is not met."
      ]
    },
    {
      "cell_type": "code",
      "execution_count": 1,
      "metadata": {
        "id": "W2JUhPUb27A1",
        "colab": {
          "base_uri": "https://localhost:8080/"
        },
        "outputId": "67c7a808-055a-4f5d-9796-8fba0d74cb52"
      },
      "outputs": [
        {
          "output_type": "stream",
          "name": "stdout",
          "text": [
            "* Person: Man.\n",
            "* Gender is male.\n",
            "* Is the person under age: No. \n"
          ]
        }
      ],
      "source": [
        "gender <- 'male'\n",
        "age <- 20\n",
        "\n",
        "# If-statement: use logical object as condition, then indent conditional actions\n",
        "# Isolate condition in parenthesis, with pre- and post- single space\n",
        "cat('* Person: ')\n",
        "if (gender == 'female') {  # \"if\" clauses use \"{\" and \"}\"\n",
        "  if (age > 18) {\n",
        "    cat('Woman.\\n')\n",
        "  } else {\n",
        "    cat('Girl.\\n')\n",
        "  }\n",
        "} else if (gender == 'male') {  # \"else if\" tell what happens if there is another mutually exclusive condition\n",
        "  if (age > 18) {\n",
        "    cat('Man.\\n')\n",
        "  } else {\n",
        "    cat('Boy.\\n')\n",
        "  }\n",
        "} else {  # \"else\" tell what happens if previous conditions do not hold\n",
        "  cat('Other gender.\\n')\n",
        "}\n",
        "\n",
        "# Other ways to use if-statements\n",
        "if (gender == 'male') cat('* Gender is male.\\n')  # You can skip the clause if single-line (not recommended)\n",
        "under.age <- ifelse(age < 18, 'Yes.', 'No.')  # Assign first element if condition holds, second element otherwise (single element operation)\n",
        "cat('* Is the person under age:', under.age, '\\n')"
      ]
    },
    {
      "cell_type": "markdown",
      "metadata": {
        "id": "wyr3aRET8CB5"
      },
      "source": [
        "Note that `if`-conditions do not require an `else` statement, this is used when something in the code must happen either-or. If you only want a part of the code to run (without `else` contingency), you can just write `if (...) { ... }` and omit the rest."
      ]
    },
    {
      "cell_type": "markdown",
      "metadata": {
        "id": "BKxPeJSe8iQn"
      },
      "source": [
        "### 7.2 `for`-loops\n",
        "\n",
        "These are used when you want to repeatedly apply a set of operations, for example on the elements of an *iterable* object. A `for`-loop will replicate the computations for each element of the $n$ elements of the object and provide $n$ results."
      ]
    },
    {
      "cell_type": "code",
      "execution_count": 2,
      "metadata": {
        "id": "qZ7_Mv03-7B_",
        "colab": {
          "base_uri": "https://localhost:8080/"
        },
        "outputId": "ce1e812e-dd86-4c86-fd7a-6d8627cc4ee7"
      },
      "outputs": [
        {
          "output_type": "stream",
          "name": "stdout",
          "text": [
            "Iteration: 1 \n",
            "Iteration: 2 \n",
            "Iteration: 3 \n",
            "Iteration: 4 \n",
            "Iteration: 5 \n",
            "Iteration: 6 \n",
            "[1]       NA       NA 2.000000 3.316625 4.472136 5.567764\n"
          ]
        }
      ],
      "source": [
        "n <- 5  # 5 elements\n",
        "x <- rep(NA, n)  # Set an empty vector with n elements\n",
        "for (i in 1:(2*n)) {  # For element \"i\" from 1 to 2*n, perform the following operations\n",
        "  cat('Iteration:', i, '\\n')\n",
        "  result <- i^2 - 5\n",
        "  if (result < 0) {\n",
        "    next  # Next stops the run of operations in the block and make the loop move to the next iteration\n",
        "  }\n",
        "  x[i] <- sqrt(result)  # Set the i-th element with the squared root\n",
        "  if (i > n) {\n",
        "    break  # break stops the loop all together, no more operations are run if break is reached\n",
        "  }\n",
        "}\n",
        "\n",
        "# Check the outcome\n",
        "print(x)"
      ]
    },
    {
      "cell_type": "markdown",
      "metadata": {
        "id": "uu573i_8_DnS"
      },
      "source": [
        "The set of operations can be of any difficulty and length, this is just regular code: the only difference is that you repeat them for each element on the iterable object.\n",
        "\n",
        "Keep in mind that a lot of `for`-loops can be converted to an `apply`-type operation, which in general is faster.\n",
        "\n",
        "**Note:** there are two *reserved* words when looping: `next` and `break`. These are used to prevent loops from getting stuck or running into errors.\n",
        "\n",
        "*   `next`: this will make a loop jump immediately to the next iteration, without running the remaining body of the loop from that point on (on the current iteration)\n",
        "*   `break`: it will make the loop stop completely, i.e. you exit the loop and proceed with the rest of the code normally.\n",
        "\n"
      ]
    },
    {
      "cell_type": "markdown",
      "metadata": {
        "id": "DcKRkEm89pJT"
      },
      "source": [
        "### 7.3 `while`-loops (and `repeat`)\n",
        "\n",
        "These are used when you want to execute operations as long as a certain condition holds. It is structured like a `for`-loop, but mixed with an `if`-statement: at each iteration you are testing if a condition still holds. This condition is tested every time the body loop is executed, until it does not hold."
      ]
    },
    {
      "cell_type": "code",
      "execution_count": 3,
      "metadata": {
        "id": "dL3bnv697YDi",
        "colab": {
          "base_uri": "https://localhost:8080/"
        },
        "outputId": "993751dc-be47-4d94-8ed7-a7458ac1faea"
      },
      "outputs": [
        {
          "output_type": "stream",
          "name": "stdout",
          "text": [
            "* Count: 1 \n",
            "* Count: 2 \n",
            "* Count: 3 \n",
            "* Count: 4 \n",
            "* Count: 5 \n",
            "* Count: 6 \n",
            "* Count: 7 \n",
            "* Count: 8 \n",
            "* Count: 9 \n",
            "* Count: 10 \n",
            "* Count: 1 \n",
            "* Count: 2 \n",
            "* Count: 3 \n",
            "* Count: 4 \n",
            "* Count: 5 \n",
            "* Count: 6 \n",
            "* Count: 7 \n",
            "* Count: 8 \n",
            "* Count: 9 \n",
            "* Count: 10 \n"
          ]
        }
      ],
      "source": [
        "count <- 0\n",
        "while (count < 10) {\n",
        "  count <- count + 1\n",
        "  cat('* Count:', count, '\\n')\n",
        "}\n",
        "\n",
        "# \"repeat\" works in the same way but needs a \"break\" to stop\n",
        "count <- 0\n",
        "repeat {\n",
        "  count <- count + 1\n",
        "  cat('* Count:', count, '\\n')\n",
        "  if (count == 10) {\n",
        "    break\n",
        "  }\n",
        "}"
      ]
    },
    {
      "cell_type": "markdown",
      "metadata": {
        "id": "B1BlSIRHZo3G"
      },
      "source": [
        "### 7.4 Parallelisation\n",
        "\n",
        "Loops sometimes involve heavy computations and can be costly to evaluate in terms of computing time. Most programming languages natively use one single core in your computer to run a script, but most modern computers have multiple cores, and so in some situations it might be helpful to involve more cores in a computation to divide the *parallelisable* workload onto more than one core. This can sensibly cuts computation time.\n",
        "\n",
        "By *parallelisable* we mean settings in which iterations are mutually independent from each other, this is not the case when the result of one iteration depends on the previous one.\n",
        "\n",
        "We introduce a package to easily make `for`-loops parallel on multiple cores."
      ]
    },
    {
      "cell_type": "code",
      "execution_count": 1,
      "metadata": {
        "id": "lUxQYMEiEuyr",
        "colab": {
          "base_uri": "https://localhost:8080/",
          "height": 208
        },
        "outputId": "ef716e59-21e2-4aa2-ca2c-bffd7672363c"
      },
      "outputs": [
        {
          "output_type": "stream",
          "name": "stderr",
          "text": [
            "Loading required package: doMC\n",
            "\n",
            "Loading required package: foreach\n",
            "\n",
            "Loading required package: iterators\n",
            "\n",
            "Loading required package: parallel\n",
            "\n"
          ]
        },
        {
          "output_type": "stream",
          "name": "stdout",
          "text": [
            "[1] -4 -1  4 11 20 31\n",
            "[1] -4 -1  4 11 20 31\n"
          ]
        },
        {
          "output_type": "display_data",
          "data": {
            "text/html": [
              "TRUE"
            ],
            "text/markdown": "TRUE",
            "text/latex": "TRUE",
            "text/plain": [
              "[1] TRUE"
            ]
          },
          "metadata": {}
        }
      ],
      "source": [
        "# You need some libraries for this\n",
        "if (! require(doMC)) { install.packages('doMC') }  # Not installed by default\n",
        "library(foreach)  # Parallel loop\n",
        "library(doMC)\n",
        "\n",
        "n <- 1e4  # 10^4 = 10,000 elements\n",
        "\n",
        "# Regular for-loop\n",
        "x1 <- rep(NA, n)  # Set an empty vector with n elements\n",
        "for (i in 1:n) {  # For element \"i\" from 1:n, perform the following operations\n",
        "  x1[i] <- i^2 - 5\n",
        "}\n",
        "\n",
        "# Parallelised loop\n",
        "ncores <- 2\n",
        "#ncores <- parallel::detectCores() - 1  # if you want to dedicate all but one core to this\n",
        "doMC::registerDoMC(cores = ncores)  # This asks the computer to dedicate \"ncores\" to this computation\n",
        "x2 <- foreach::foreach(i = 1:n, .errorhandling = 'pass') %dopar% {\n",
        "  out <- i^2 - 5\n",
        "  return(out)\n",
        "}\n",
        "# \"foreach\" returns a list by default: look into the argument \".combine\" to change that\n",
        "x2 <- unlist(x2)  # function \"unlist()\" is awesome: turn a list into a vector\n",
        "\n",
        "# Check the outcome\n",
        "print(head(x1))\n",
        "print(head(x2))\n",
        "identical(x1, x2)  # Same result\n"
      ]
    },
    {
      "cell_type": "markdown",
      "metadata": {
        "id": "DnYJHbRKU4vc"
      },
      "source": [
        "### 7.5 Error handling\n",
        "\n",
        "Coding errors (a.k.a. *bugs*) happen. But it is much better if they can be easily caught and corrected, and that's why we have to write code that is as easy to *debug* as possible. Being able to spot where errors might happen fast and find a solution to suppress or by-pass them. Let us introduce some tools to deal with them."
      ]
    },
    {
      "cell_type": "code",
      "execution_count": 3,
      "metadata": {
        "id": "Y_1c_O60U_NU",
        "colab": {
          "base_uri": "https://localhost:8080/",
          "height": 34
        },
        "outputId": "63c85bbb-ebb0-4a57-bf10-82a205609846"
      },
      "outputs": [
        {
          "output_type": "display_data",
          "data": {
            "text/html": [
              "3"
            ],
            "text/markdown": "3",
            "text/latex": "3",
            "text/plain": [
              "[1] 3"
            ]
          },
          "metadata": {}
        }
      ],
      "source": [
        "# Say you have written a function like this\n",
        "average <- function(x) {\n",
        "  n <- length(x)\n",
        "  avg <- sum(x) / n\n",
        "  return(avg)\n",
        "}\n",
        "\n",
        "average(1:5)  # Ok"
      ]
    },
    {
      "cell_type": "code",
      "execution_count": 6,
      "metadata": {
        "id": "tOA0KHpk_uCl",
        "colab": {
          "base_uri": "https://localhost:8080/",
          "height": 130
        },
        "outputId": "7a2ee647-1040-425d-f5dd-40fafc9f137e"
      },
      "outputs": [
        {
          "output_type": "error",
          "ename": "ERROR",
          "evalue": "ignored",
          "traceback": [
            "Error in sum(x): invalid 'type' (character) of argument\nTraceback:\n",
            "1. average(LETTERS[1:4])"
          ]
        }
      ],
      "source": [
        "average(LETTERS[1:4])  # Error"
      ]
    },
    {
      "cell_type": "code",
      "execution_count": 4,
      "metadata": {
        "id": "sYUvHjVr_s0z",
        "colab": {
          "base_uri": "https://localhost:8080/",
          "height": 34
        },
        "outputId": "9c967033-4068-4b18-8fc9-f211c5a66d82"
      },
      "outputs": [
        {
          "output_type": "display_data",
          "data": {
            "text/html": [
              "&lt;NA&gt;"
            ],
            "text/markdown": "&lt;NA&gt;",
            "text/latex": "<NA>",
            "text/plain": [
              "[1] NA"
            ]
          },
          "metadata": {}
        }
      ],
      "source": [
        "average(c(1:5, NA))  # Not an error, but not the output we intended to"
      ]
    },
    {
      "cell_type": "markdown",
      "metadata": {
        "id": "o9cne05z-UnB"
      },
      "source": [
        "Obviously, our `average()` function cannot deal with averaging letters or `NA`s, but our code did not foresee that, which causes a *bug* in the code. In this function the error is obvious, but that is not always the case, that's why the function `debug()` is helpful."
      ]
    },
    {
      "cell_type": "code",
      "execution_count": 8,
      "metadata": {
        "id": "0M7A_Bn0-qI9",
        "colab": {
          "base_uri": "https://localhost:8080/",
          "height": 478
        },
        "outputId": "290c2f0e-6627-4fb9-b4bb-7a42560630ea"
      },
      "outputs": [
        {
          "output_type": "stream",
          "name": "stdout",
          "text": [
            "debugging in: average(LETTERS[1:4])\n",
            "debug at <text>#2: {\n",
            "    if (!is.numeric(x)) {\n",
            "        stop(\"average cannot be computed because data is not numeric.\")\n",
            "    }\n",
            "    if (any(is.na(x))) {\n",
            "        warning(\"\\\"x\\\" contains \\\"NA\\\" values.\")\n",
            "        if (rm.na == TRUE) {\n",
            "            x <- x[which(!is.na(x))]\n",
            "        }\n",
            "    }\n",
            "    n <- length(x)\n",
            "    avg <- sum(x)/n\n",
            "    return(avg)\n",
            "}\n",
            "debug at <text>#4: if (!is.numeric(x)) {\n",
            "    stop(\"average cannot be computed because data is not numeric.\")\n",
            "}\n",
            "debug at <text>#5: stop(\"average cannot be computed because data is not numeric.\")\n"
          ]
        },
        {
          "output_type": "error",
          "ename": "ERROR",
          "evalue": "ignored",
          "traceback": [
            "Error in average(LETTERS[1:4]): average cannot be computed because data is not numeric.\nTraceback:\n",
            "1. average(LETTERS[1:4])",
            "2. stop(\"average cannot be computed because data is not numeric.\")   # at line 5 of file <text>"
          ]
        }
      ],
      "source": [
        "debug(average)\n",
        "average(LETTERS[1:4])  # Error\n",
        "undebug(average)  # Stop debugging"
      ]
    },
    {
      "cell_type": "markdown",
      "metadata": {
        "id": "eL-BMHHZ-upJ"
      },
      "source": [
        "This function runs the code of what you're debugging line by line, and is interactive in RStudio and other IDEs (you can run function code line by line to inspect what is going on). In this case you spot what and where it goes wrong: `Error in sum(x): invalid 'type' (character) of argument`.\n",
        "\n",
        "There are two ways to deal with this kind of errors: one is to fix it using control flows, the second one is to set-up a *controlled* error."
      ]
    },
    {
      "cell_type": "code",
      "execution_count": 9,
      "metadata": {
        "id": "So8SeO8C-HRy",
        "colab": {
          "base_uri": "https://localhost:8080/",
          "height": 34
        },
        "outputId": "701c5e32-b022-4106-a1a6-8eb9d31d3f48"
      },
      "outputs": [
        {
          "output_type": "display_data",
          "data": {
            "text/html": [
              "3"
            ],
            "text/markdown": "3",
            "text/latex": "3",
            "text/plain": [
              "[1] 3"
            ]
          },
          "metadata": {}
        }
      ],
      "source": [
        "# Re-write a more solid function (add one argument)\n",
        "average <- function(x, rm.na = TRUE) {  # rm.na = TRUE means \"TRUE\" is the default of this parameter unless specified otherwise\n",
        "  # Deal with averaging non-numeric things: controlled error\n",
        "  if (! is.numeric(x)) {\n",
        "    stop('average cannot be computed because data is not numeric.')  # stops execution and executes an error action\n",
        "  }\n",
        "\n",
        "  # Deal with NAs: either solve by removing them, or controlled \"warning\"\n",
        "  if (any(is.na(x))) {  # Function \"any()\": VERY USEFUL; tells if any element of x satisfies condition inside\n",
        "    warning('\"x\" contains \"NA\" values.')  # \"warning\" gives a heads up of something potentially problematic while allowing the code to continue\n",
        "    if (rm.na == TRUE) {\n",
        "      x <- x[which(! is.na(x))]\n",
        "    }\n",
        "  }\n",
        "\n",
        "  # Computation\n",
        "  n <- length(x)\n",
        "  avg <- sum(x) / n\n",
        "  return(avg)\n",
        "}\n",
        "\n",
        "# Try again\n",
        "average(1:5)  # Changes nothin when there is no problem"
      ]
    },
    {
      "cell_type": "markdown",
      "metadata": {
        "id": "sUpL5-lfDjPg"
      },
      "source": [
        "*Note:* similarly to `any(<logical_condition>)`, there is the function `all(<logical_condition>)`, testing that the conditions holds for all the elements (instead of *at least one*). These two functions are really helfpul to avoid potentially heavy loops."
      ]
    },
    {
      "cell_type": "code",
      "execution_count": 10,
      "metadata": {
        "id": "gfvmfgbAB66d",
        "colab": {
          "base_uri": "https://localhost:8080/",
          "height": 148
        },
        "outputId": "ff5b2ed1-8bc0-4a1e-d145-8f84113c879a"
      },
      "outputs": [
        {
          "output_type": "error",
          "ename": "ERROR",
          "evalue": "ignored",
          "traceback": [
            "Error in average(LETTERS[1:5]): average cannot be computed because data is not numeric.\nTraceback:\n",
            "1. average(LETTERS[1:5])",
            "2. stop(\"average cannot be computed because data is not numeric.\")   # at line 5 of file <text>"
          ]
        }
      ],
      "source": [
        "average(LETTERS[1:5])  # Now the controlled error pops up (good)"
      ]
    },
    {
      "cell_type": "code",
      "execution_count": 11,
      "metadata": {
        "id": "ZinhS9MRCFY-",
        "colab": {
          "base_uri": "https://localhost:8080/",
          "height": 69
        },
        "outputId": "309c42e6-eff2-4ba5-a97b-c617edacf9d9"
      },
      "outputs": [
        {
          "output_type": "stream",
          "name": "stderr",
          "text": [
            "Warning message in average(c(1:5, NA)):\n",
            "“\"x\" contains \"NA\" values.”\n"
          ]
        },
        {
          "output_type": "display_data",
          "data": {
            "text/html": [
              "3"
            ],
            "text/markdown": "3",
            "text/latex": "3",
            "text/plain": [
              "[1] 3"
            ]
          },
          "metadata": {}
        }
      ],
      "source": [
        "average(c(1:5, NA))  # Does the computation but it warns you that something is irregular"
      ]
    },
    {
      "cell_type": "markdown",
      "metadata": {
        "id": "FT9bQSvsARR0"
      },
      "source": [
        "You can also use the `try()` function that will allow for the error to run but proceed with the posterior code regardless."
      ]
    },
    {
      "cell_type": "code",
      "execution_count": 12,
      "metadata": {
        "id": "qkFGxU36CkHZ",
        "colab": {
          "base_uri": "https://localhost:8080/"
        },
        "outputId": "40ccb235-1f4e-4432-91f9-4977aa6cd0df"
      },
      "outputs": [
        {
          "output_type": "stream",
          "name": "stdout",
          "text": [
            "Error in average(LETTERS[1:5]) : \n",
            "  average cannot be computed because data is not numeric.\n",
            "* RESULT: The average could not be computed.\n",
            "* RESULT: The average is: 3 .\n"
          ]
        }
      ],
      "source": [
        "att1 <- try(average(LETTERS[1:5]))  # Put the commend inside the \"try()\" function\n",
        "if (class(att1) == 'try-error') {  # if try() \"fails\", the object returned is of this class\n",
        "  cat('* RESULT: The average could not be computed.\\n')\n",
        "} else {  # if it doesn't fail, then the result is as if \"try()\" had not been executed\n",
        "  cat('* RESULT: The average is:', att1, '.\\n')\n",
        "}\n",
        "\n",
        "att2 <- try(average(1:5))\n",
        "if (class(att2) == 'try-error') {\n",
        "  cat('* RESULT: The average could not be computed.\\n')\n",
        "} else {\n",
        "  cat('* RESULT: The average is:', att2, '.\\n')\n",
        "}\n",
        "\n",
        "# try() is verbose by default but it can be made silent if you don't want the error to be printed (check arguments)"
      ]
    },
    {
      "cell_type": "markdown",
      "metadata": {
        "id": "z0_5bRNjl3-I"
      },
      "source": [
        "---\n",
        "## 8. Stats and math"
      ]
    },
    {
      "cell_type": "markdown",
      "metadata": {
        "id": "7jEV2OIO_b96"
      },
      "source": [
        "### 8.1 Basic functions\n",
        "\n",
        "One of `R`'s strengths is large amount of statistical methods implemented, either natively or within packages. Here we provide the very basics to get you started, and introducte some of the functions that are bread and butter for statistical and mathematical programmers."
      ]
    },
    {
      "cell_type": "markdown",
      "source": [
        "Basic mathematical functions (operators aside)"
      ],
      "metadata": {
        "id": "ScsShcaNc59N"
      }
    },
    {
      "cell_type": "code",
      "execution_count": 14,
      "metadata": {
        "id": "y0gOQyNY-tDz",
        "colab": {
          "base_uri": "https://localhost:8080/",
          "height": 323
        },
        "outputId": "8ec51b79-55b8-4da2-f6e2-c2e912880fee"
      },
      "outputs": [
        {
          "output_type": "display_data",
          "data": {
            "text/html": [
              "3"
            ],
            "text/markdown": "3",
            "text/latex": "3",
            "text/plain": [
              "[1] 3"
            ]
          },
          "metadata": {}
        },
        {
          "output_type": "display_data",
          "data": {
            "text/html": [
              "<style>\n",
              ".list-inline {list-style: none; margin:0; padding: 0}\n",
              ".list-inline>li {display: inline-block}\n",
              ".list-inline>li:not(:last-child)::after {content: \"\\00b7\"; padding: 0 .5ex}\n",
              "</style>\n",
              "<ol class=list-inline><li>-1</li><li>0</li><li>1</li></ol>\n"
            ],
            "text/markdown": "1. -1\n2. 0\n3. 1\n\n\n",
            "text/latex": "\\begin{enumerate*}\n\\item -1\n\\item 0\n\\item 1\n\\end{enumerate*}\n",
            "text/plain": [
              "[1] -1  0  1"
            ]
          },
          "metadata": {}
        },
        {
          "output_type": "display_data",
          "data": {
            "text/html": [
              "20.0855369231877"
            ],
            "text/markdown": "20.0855369231877",
            "text/latex": "20.0855369231877",
            "text/plain": [
              "[1] 20.08554"
            ]
          },
          "metadata": {}
        },
        {
          "output_type": "display_data",
          "data": {
            "text/html": [
              "4.60517018598809"
            ],
            "text/markdown": "4.60517018598809",
            "text/latex": "4.60517018598809",
            "text/plain": [
              "[1] 4.60517"
            ]
          },
          "metadata": {}
        },
        {
          "output_type": "display_data",
          "data": {
            "text/html": [
              "2"
            ],
            "text/markdown": "2",
            "text/latex": "2",
            "text/plain": [
              "[1] 2"
            ]
          },
          "metadata": {}
        },
        {
          "output_type": "display_data",
          "data": {
            "text/html": [
              "6"
            ],
            "text/markdown": "6",
            "text/latex": "6",
            "text/plain": [
              "[1] 6"
            ]
          },
          "metadata": {}
        },
        {
          "output_type": "display_data",
          "data": {
            "text/html": [
              "5"
            ],
            "text/markdown": "5",
            "text/latex": "5",
            "text/plain": [
              "[1] 5"
            ]
          },
          "metadata": {}
        },
        {
          "output_type": "display_data",
          "data": {
            "text/html": [
              "0.841470984807897"
            ],
            "text/markdown": "0.841470984807897",
            "text/latex": "0.841470984807897",
            "text/plain": [
              "[1] 0.841471"
            ]
          },
          "metadata": {}
        },
        {
          "output_type": "display_data",
          "data": {
            "text/html": [
              "0.54030230586814"
            ],
            "text/markdown": "0.54030230586814",
            "text/latex": "0.54030230586814",
            "text/plain": [
              "[1] 0.5403023"
            ]
          },
          "metadata": {}
        },
        {
          "output_type": "display_data",
          "data": {
            "text/html": [
              "1.5574077246549"
            ],
            "text/markdown": "1.5574077246549",
            "text/latex": "1.5574077246549",
            "text/plain": [
              "[1] 1.557408"
            ]
          },
          "metadata": {}
        },
        {
          "output_type": "display_data",
          "data": {
            "text/html": [
              "10"
            ],
            "text/markdown": "10",
            "text/latex": "10",
            "text/plain": [
              "[1] 10"
            ]
          },
          "metadata": {}
        },
        {
          "output_type": "display_data",
          "data": {
            "text/html": [
              "120"
            ],
            "text/markdown": "120",
            "text/latex": "120",
            "text/plain": [
              "[1] 120"
            ]
          },
          "metadata": {}
        },
        {
          "output_type": "display_data",
          "data": {
            "text/html": [
              "<table class=\"dataframe\">\n",
              "<caption>A matrix: 2 × 6 of type int</caption>\n",
              "<tbody>\n",
              "\t<tr><td>1</td><td>1</td><td>1</td><td>2</td><td>2</td><td>3</td></tr>\n",
              "\t<tr><td>2</td><td>3</td><td>4</td><td>3</td><td>4</td><td>4</td></tr>\n",
              "</tbody>\n",
              "</table>\n"
            ],
            "text/markdown": "\nA matrix: 2 × 6 of type int\n\n| 1 | 1 | 1 | 2 | 2 | 3 |\n| 2 | 3 | 4 | 3 | 4 | 4 |\n\n",
            "text/latex": "A matrix: 2 × 6 of type int\n\\begin{tabular}{llllll}\n\t 1 & 1 & 1 & 2 & 2 & 3\\\\\n\t 2 & 3 & 4 & 3 & 4 & 4\\\\\n\\end{tabular}\n",
            "text/plain": [
              "     [,1] [,2] [,3] [,4] [,5] [,6]\n",
              "[1,] 1    1    1    2    2    3   \n",
              "[2,] 2    3    4    3    4    4   "
            ]
          },
          "metadata": {}
        }
      ],
      "source": [
        "abs(-3)\n",
        "sign(c(-4, 0, 7))\n",
        "exp(3)\n",
        "log(100); log10(100); log2(64)  # Note you can separate commands with \";\"\n",
        "sqrt(25)\n",
        "sin(1); cos(1); tan(1)\n",
        "choose(5, 3)  # Combinatorial number (n choose k)\n",
        "factorial(5)  # Factorial number: x!\n",
        "combn(1:4, 2)  # Provides all combinations of \"2\" elements in the set 1:4"
      ]
    },
    {
      "cell_type": "markdown",
      "source": [
        "Basic statistical summaries"
      ],
      "metadata": {
        "id": "mRq88b1Wc9At"
      }
    },
    {
      "cell_type": "code",
      "execution_count": 15,
      "metadata": {
        "id": "gQClAq1kiGgX",
        "colab": {
          "base_uri": "https://localhost:8080/",
          "height": 364
        },
        "outputId": "a2166690-6a1c-44e8-a18c-50a7fcf69ff2"
      },
      "outputs": [
        {
          "output_type": "display_data",
          "data": {
            "text/html": [
              "3"
            ],
            "text/markdown": "3",
            "text/latex": "3",
            "text/plain": [
              "[1] 3"
            ]
          },
          "metadata": {}
        },
        {
          "output_type": "display_data",
          "data": {
            "text/html": [
              "-3"
            ],
            "text/markdown": "-3",
            "text/latex": "-3",
            "text/plain": [
              "[1] -3"
            ]
          },
          "metadata": {}
        },
        {
          "output_type": "display_data",
          "data": {
            "text/html": [
              "0"
            ],
            "text/markdown": "0",
            "text/latex": "0",
            "text/plain": [
              "[1] 0"
            ]
          },
          "metadata": {}
        },
        {
          "output_type": "display_data",
          "data": {
            "text/html": [
              "0"
            ],
            "text/markdown": "0",
            "text/latex": "0",
            "text/plain": [
              "[1] 0"
            ]
          },
          "metadata": {}
        },
        {
          "output_type": "display_data",
          "data": {
            "text/html": [
              "<style>\n",
              ".list-inline {list-style: none; margin:0; padding: 0}\n",
              ".list-inline>li {display: inline-block}\n",
              ".list-inline>li:not(:last-child)::after {content: \"\\00b7\"; padding: 0 .5ex}\n",
              "</style>\n",
              "<ol class=list-inline><li>1</li><li>1</li><li>1</li><li>1</li><li>1</li><li>1</li></ol>\n"
            ],
            "text/markdown": "1. 1\n2. 1\n3. 1\n4. 1\n5. 1\n6. 1\n\n\n",
            "text/latex": "\\begin{enumerate*}\n\\item 1\n\\item 1\n\\item 1\n\\item 1\n\\item 1\n\\item 1\n\\end{enumerate*}\n",
            "text/plain": [
              "[1] 1 1 1 1 1 1"
            ]
          },
          "metadata": {}
        },
        {
          "output_type": "display_data",
          "data": {
            "text/plain": [
              "x\n",
              "-3 -2 -1  0  1  2  3 \n",
              " 1  1  1  1  1  1  1 "
            ]
          },
          "metadata": {}
        },
        {
          "output_type": "display_data",
          "data": {
            "text/plain": [
              "    y\n",
              "x    -6 -4 -2 0 2 4 6\n",
              "  -3  1  0  0 0 0 0 0\n",
              "  -2  0  1  0 0 0 0 0\n",
              "  -1  0  0  1 0 0 0 0\n",
              "  0   0  0  0 1 0 0 0\n",
              "  1   0  0  0 0 1 0 0\n",
              "  2   0  0  0 0 0 1 0\n",
              "  3   0  0  0 0 0 0 1"
            ]
          },
          "metadata": {}
        },
        {
          "output_type": "display_data",
          "data": {
            "text/html": [
              "<style>\n",
              ".dl-inline {width: auto; margin:0; padding: 0}\n",
              ".dl-inline>dt, .dl-inline>dd {float: none; width: auto; display: inline-block}\n",
              ".dl-inline>dt::after {content: \":\\0020\"; padding-right: .5ex}\n",
              ".dl-inline>dt:not(:first-of-type) {padding-left: .5ex}\n",
              "</style><dl class=dl-inline><dt>10%</dt><dd>20.9</dd><dt>50%</dt><dd>100.5</dd><dt>90%</dt><dd>180.1</dd></dl>\n"
            ],
            "text/markdown": "10%\n:   20.950%\n:   100.590%\n:   180.1\n\n",
            "text/latex": "\\begin{description*}\n\\item[10\\textbackslash{}\\%] 20.9\n\\item[50\\textbackslash{}\\%] 100.5\n\\item[90\\textbackslash{}\\%] 180.1\n\\end{description*}\n",
            "text/plain": [
              "  10%   50%   90% \n",
              " 20.9 100.5 180.1 "
            ]
          },
          "metadata": {}
        },
        {
          "output_type": "display_data",
          "data": {
            "text/html": [
              "<style>\n",
              ".list-inline {list-style: none; margin:0; padding: 0}\n",
              ".list-inline>li {display: inline-block}\n",
              ".list-inline>li:not(:last-child)::after {content: \"\\00b7\"; padding: 0 .5ex}\n",
              "</style>\n",
              "<ol class=list-inline><li>-3</li><li>3</li></ol>\n"
            ],
            "text/markdown": "1. -3\n2. 3\n\n\n",
            "text/latex": "\\begin{enumerate*}\n\\item -3\n\\item 3\n\\end{enumerate*}\n",
            "text/plain": [
              "[1] -3  3"
            ]
          },
          "metadata": {}
        },
        {
          "output_type": "display_data",
          "data": {
            "text/html": [
              "<style>\n",
              ".list-inline {list-style: none; margin:0; padding: 0}\n",
              ".list-inline>li {display: inline-block}\n",
              ".list-inline>li:not(:last-child)::after {content: \"\\00b7\"; padding: 0 .5ex}\n",
              "</style>\n",
              "<ol class=list-inline><li>1</li><li>2</li><li>3</li><li>4</li><li>5</li><li>6</li><li>7</li></ol>\n"
            ],
            "text/markdown": "1. 1\n2. 2\n3. 3\n4. 4\n5. 5\n6. 6\n7. 7\n\n\n",
            "text/latex": "\\begin{enumerate*}\n\\item 1\n\\item 2\n\\item 3\n\\item 4\n\\item 5\n\\item 6\n\\item 7\n\\end{enumerate*}\n",
            "text/plain": [
              "[1] 1 2 3 4 5 6 7"
            ]
          },
          "metadata": {}
        }
      ],
      "source": [
        "x <- seq(-3, 3, 1)\n",
        "y <- seq(-6, 6, 2)\n",
        "max(x)  # Cumulative maximum: cummax(x)\n",
        "min(x)  # cummin(x)\n",
        "sum(x)  # cumsum(x)\n",
        "prod(x)  # cumprod(x)\n",
        "diff(x)  # With respect to previous value in the vector\n",
        "table(x)  # Abs. Frequencies\n",
        "table(x, y)  # Contingency table\n",
        "quantile(1:200, probs = c(0.1, 0.5, 0.9))\n",
        "range(x)\n",
        "rank(x)"
      ]
    },
    {
      "cell_type": "markdown",
      "source": [
        "More descriptive statistics"
      ],
      "metadata": {
        "id": "nNnCaqtXdB3E"
      }
    },
    {
      "cell_type": "code",
      "execution_count": 16,
      "metadata": {
        "id": "qi9CeRxFiJeB",
        "colab": {
          "base_uri": "https://localhost:8080/",
          "height": 121
        },
        "outputId": "2749d0b8-3cd5-404a-cd78-578250f6dfe2"
      },
      "outputs": [
        {
          "output_type": "display_data",
          "data": {
            "text/html": [
              "0"
            ],
            "text/markdown": "0",
            "text/latex": "0",
            "text/plain": [
              "[1] 0"
            ]
          },
          "metadata": {}
        },
        {
          "output_type": "display_data",
          "data": {
            "text/html": [
              "0"
            ],
            "text/markdown": "0",
            "text/latex": "0",
            "text/plain": [
              "[1] 0"
            ]
          },
          "metadata": {}
        },
        {
          "output_type": "display_data",
          "data": {
            "text/html": [
              "1"
            ],
            "text/markdown": "1",
            "text/latex": "1",
            "text/plain": [
              "[1] 1"
            ]
          },
          "metadata": {}
        },
        {
          "output_type": "display_data",
          "data": {
            "text/html": [
              "9.33333333333333"
            ],
            "text/markdown": "9.33333333333333",
            "text/latex": "9.33333333333333",
            "text/plain": [
              "[1] 9.333333"
            ]
          },
          "metadata": {}
        },
        {
          "output_type": "display_data",
          "data": {
            "text/html": [
              "2.16024689946929"
            ],
            "text/markdown": "2.16024689946929",
            "text/latex": "2.16024689946929",
            "text/plain": [
              "[1] 2.160247"
            ]
          },
          "metadata": {}
        },
        {
          "output_type": "display_data",
          "data": {
            "text/html": [
              "4.66666666666667"
            ],
            "text/markdown": "4.66666666666667",
            "text/latex": "4.66666666666667",
            "text/plain": [
              "[1] 4.666667"
            ]
          },
          "metadata": {}
        }
      ],
      "source": [
        "mean(x)\n",
        "median(x)\n",
        "cor(x, y)\n",
        "cov(x, y)\n",
        "sd(x)\n",
        "var(x)"
      ]
    },
    {
      "cell_type": "markdown",
      "metadata": {
        "id": "VT5bK4wkPN63"
      },
      "source": [
        "Here are some useful matrix algebra functions (to use on `matrix`-type objects):\n",
        "\n",
        "*   `t` (matrix transpose), `diag` (matrix diagonal)\n",
        "*   `crossprod`, `tcrossprod`, `outer` (cross-, transpose-cross- and outer-products)\n",
        "*   `eigen`, `qr`, `svd` (eigen, QR and SVD decompositions)\n",
        "*   `rcond` (condition number)\n",
        "*   `solve` (matrix inverse, or systems of equations)"
      ]
    },
    {
      "cell_type": "markdown",
      "metadata": {
        "id": "xE3ng5mIWJJm"
      },
      "source": [
        "### 8.2 Statistical distributions (characterisation and simulation)\n",
        "\n",
        "You can find PDFs and CDFs for a wide variety of parametric distributions, as well as easily get random samples from them. Here are some basics to simulate things in `R`:"
      ]
    },
    {
      "cell_type": "code",
      "execution_count": 17,
      "metadata": {
        "id": "eVM2wXZRPmTs",
        "colab": {
          "base_uri": "https://localhost:8080/",
          "height": 69
        },
        "outputId": "7f39db9a-040e-4ac5-a3e7-6a43bfbfee79"
      },
      "outputs": [
        {
          "output_type": "display_data",
          "data": {
            "text/html": [
              "5"
            ],
            "text/markdown": "5",
            "text/latex": "5",
            "text/plain": [
              "[1] 5"
            ]
          },
          "metadata": {}
        },
        {
          "output_type": "display_data",
          "data": {
            "text/html": [
              "<style>\n",
              ".list-inline {list-style: none; margin:0; padding: 0}\n",
              ".list-inline>li {display: inline-block}\n",
              ".list-inline>li:not(:last-child)::after {content: \"\\00b7\"; padding: 0 .5ex}\n",
              "</style>\n",
              "<ol class=list-inline><li>1</li><li>4</li><li>1</li></ol>\n"
            ],
            "text/markdown": "1. 1\n2. 4\n3. 1\n\n\n",
            "text/latex": "\\begin{enumerate*}\n\\item 1\n\\item 4\n\\item 1\n\\end{enumerate*}\n",
            "text/plain": [
              "[1] 1 4 1"
            ]
          },
          "metadata": {}
        },
        {
          "output_type": "display_data",
          "data": {
            "text/html": [
              "<style>\n",
              ".list-inline {list-style: none; margin:0; padding: 0}\n",
              ".list-inline>li {display: inline-block}\n",
              ".list-inline>li:not(:last-child)::after {content: \"\\00b7\"; padding: 0 .5ex}\n",
              "</style>\n",
              "<ol class=list-inline><li>2</li><li>3</li><li>1</li></ol>\n"
            ],
            "text/markdown": "1. 2\n2. 3\n3. 1\n\n\n",
            "text/latex": "\\begin{enumerate*}\n\\item 2\n\\item 3\n\\item 1\n\\end{enumerate*}\n",
            "text/plain": [
              "[1] 2 3 1"
            ]
          },
          "metadata": {}
        }
      ],
      "source": [
        "set.seed(666)\n",
        "sample(1:10, 1)  # Most basic simulation function: sample 1 element out of 1:10\n",
        "sample(1:5, 3, replace = TRUE)  # Replace TRUE puts the sampled values back in the pool\n",
        "sample(1:5, 3, replace = FALSE)  # Once a value is drawn, it cannot be drawn again"
      ]
    },
    {
      "cell_type": "markdown",
      "metadata": {
        "id": "1c0C18HKNV-h"
      },
      "source": [
        "There are four key letters to deal with a given available parametric distribution:\n",
        "\n",
        "*   `d`: provides the *density* (PDF) of the distribution at the supplied value\n",
        "*   `p`: provides the *cumulative probability* (CDF) up to the supplied value\n",
        "*   `q`: provides the *quantile* of the distribution for a given probability\n",
        "*   `r`: provides a *random* sample of the supplied size for the specified distribution\n",
        "\n",
        "We illustrate this with the Normal distribution:"
      ]
    },
    {
      "cell_type": "code",
      "execution_count": 18,
      "metadata": {
        "id": "5cmvsYhQQiWI",
        "colab": {
          "base_uri": "https://localhost:8080/",
          "height": 121
        },
        "outputId": "64187087-a7f5-4969-e91c-97a7e3c9eb48"
      },
      "outputs": [
        {
          "output_type": "display_data",
          "data": {
            "text/html": [
              "0.241970724519143"
            ],
            "text/markdown": "0.241970724519143",
            "text/latex": "0.241970724519143",
            "text/plain": [
              "[1] 0.2419707"
            ]
          },
          "metadata": {}
        },
        {
          "output_type": "display_data",
          "data": {
            "text/html": [
              "0.841344746068543"
            ],
            "text/markdown": "0.841344746068543",
            "text/latex": "0.841344746068543",
            "text/plain": [
              "[1] 0.8413447"
            ]
          },
          "metadata": {}
        },
        {
          "output_type": "display_data",
          "data": {
            "text/html": [
              "0.2533471031358"
            ],
            "text/markdown": "0.2533471031358",
            "text/latex": "0.2533471031358",
            "text/plain": [
              "[1] 0.2533471"
            ]
          },
          "metadata": {}
        },
        {
          "output_type": "display_data",
          "data": {
            "text/html": [
              "0.158655253931457"
            ],
            "text/markdown": "0.158655253931457",
            "text/latex": "0.158655253931457",
            "text/plain": [
              "[1] 0.1586553"
            ]
          },
          "metadata": {}
        },
        {
          "output_type": "display_data",
          "data": {
            "text/html": [
              "-0.2533471031358"
            ],
            "text/markdown": "-0.2533471031358",
            "text/latex": "-0.2533471031358",
            "text/plain": [
              "[1] -0.2533471"
            ]
          },
          "metadata": {}
        },
        {
          "output_type": "display_data",
          "data": {
            "text/html": [
              "<style>\n",
              ".list-inline {list-style: none; margin:0; padding: 0}\n",
              ".list-inline>li {display: inline-block}\n",
              ".list-inline>li:not(:last-child)::after {content: \"\\00b7\"; padding: 0 .5ex}\n",
              "</style>\n",
              "<ol class=list-inline><li>-0.802519568703793</li><li>-1.79224083446114</li><li>-0.0420324540227439</li><li>2.15004261784474</li><li>-1.77023083820321</li><li>0.864653594565389</li></ol>\n"
            ],
            "text/markdown": "1. -0.802519568703793\n2. -1.79224083446114\n3. -0.0420324540227439\n4. 2.15004261784474\n5. -1.77023083820321\n6. 0.864653594565389\n\n\n",
            "text/latex": "\\begin{enumerate*}\n\\item -0.802519568703793\n\\item -1.79224083446114\n\\item -0.0420324540227439\n\\item 2.15004261784474\n\\item -1.77023083820321\n\\item 0.864653594565389\n\\end{enumerate*}\n",
            "text/plain": [
              "[1] -0.80251957 -1.79224083 -0.04203245  2.15004262 -1.77023084  0.86465359"
            ]
          },
          "metadata": {}
        }
      ],
      "source": [
        "x <- 1  # Any value on the real line\n",
        "a <- 0.6  # Any value between 0 and 1\n",
        "n <- 1e3  # Any integer (note the scientific notation: 10^3 = 1,000)\n",
        "\n",
        "dnorm(x, mean = 0, sd = 1)  # PDF of the Normal at x = 1 (density)\n",
        "pnorm(x, mean = 0, sd = 1)  # CDF of the Normal: returns P(X < 1)\n",
        "qnorm(a, mean = 0, sd = 1)  # Quantile: returns x such that P(X < x) = 0.6\n",
        "pnorm(x, mean = 0, sd = 1, lower.tail = FALSE)  # Upper-tail CDF of the Normal: returns P(X > 1)\n",
        "qnorm(a, mean = 0, sd = 1, lower.tail = FALSE)  # Quantile, but opposite tail P(X > x) = 0.6, i.e. P(X < x) = 1 - 0.6\n",
        "head(rnorm(n, mean = 0, sd = 1))  # Here we ask for 1,000 random draws of a N(0, 1): note we require a different parameter!"
      ]
    },
    {
      "cell_type": "markdown",
      "metadata": {
        "id": "MVqiQwYEQjAf"
      },
      "source": [
        "\n",
        "Every distribution will have its set of parameters: the Normal here has `mean` and `sd`, which you can specify to whatever values you need, and if not specificied are taken to be `mean = 0`, and `sd = 1` (the standard Normal). But for example the `chisq` ($χ_{\\nu}^{2}$) requires the parameter `df` (degrees of freedom, $\\nu$), with no default, or the binomial needs to be supplied `size` ($n$) and `prob` ($p$).\n",
        "\n",
        "Here I list the most common distributions available and their command name: `beta`, `binom`, `cauchy`, `chisq`, `exp`, `f`, `gamma`, `geom`, `hyper`, `lnorm` (log-normal), `logis`, `multinom`, `nbinom` (negative binomial), `norm`, `pois`, `t`, `unif`, `weibull`, `wilcox`, `birthday`, `tukey`. There are also functions to simulate from multivariate distributions, but they typically come from external packages (for example, the Normal distribution is in the CRAN package `mvnorm`). Look them up!\n",
        "\n",
        "There are also various statistical tests that are readily available, even a summary is beyond the scope of this intro course. This set of tests is close to uncountable, so as a basic rule, if you look for \"R [name of the test]\" in your favourite search engine, you will most likely find what command you need quickly, for example you can do an ANOVA test with the command `anova`."
      ]
    },
    {
      "cell_type": "markdown",
      "metadata": {
        "id": "lJ2QZn5OH4Vn"
      },
      "source": [
        "### 8.3 Statistical models\n",
        "\n",
        "As a final note, `R` is equipped with numerous statistical models, here we show how to run a linear regression."
      ]
    },
    {
      "cell_type": "code",
      "execution_count": 53,
      "metadata": {
        "id": "n8jQfu4YWt_O"
      },
      "outputs": [],
      "source": [
        "# Draw some data\n",
        "set.seed(666)\n",
        "n <- 100  # rows\n",
        "p <- 50  # columns\n",
        "X <- matrix(rnorm(n * p), nrow = n, ncol = p)  # Regression matrix\n",
        "b <- c(1, 1, 1/2, 1/2, rep(0, p - 4))  # Regression coefficients\n",
        "y <- X %*% b + rnorm(n)  # Model: y = X * b + epsilon, epsilon is N(0, 1)\n",
        "df <- cbind.data.frame(y, X)  # Put all the data into one data.frame\n",
        "colnames(df) <- c('y', paste('var', 1:p, sep = ''))  # Column names\n",
        "\n",
        "# Linear regression\n",
        "model <- lm(y ~ var1 + var2, data = df)  # \"lm\" is linear model: you declare a \"formula\" with the \"~\" symbol,\n",
        "                                         # and add variables (names) with \"+\"\n",
        "model <- lm(y ~ ., data = df)  # The dot tells it to add all variables"
      ]
    },
    {
      "cell_type": "markdown",
      "source": [
        "Some useful diagnostics"
      ],
      "metadata": {
        "id": "d5mC2AUacwyd"
      }
    },
    {
      "cell_type": "code",
      "execution_count": 54,
      "metadata": {
        "id": "xGHgqgApkF7M",
        "colab": {
          "base_uri": "https://localhost:8080/",
          "height": 1000
        },
        "outputId": "1eb4c005-0736-44b4-ebfb-85378c6cc5ce"
      },
      "outputs": [
        {
          "output_type": "display_data",
          "data": {
            "text/plain": [
              "\n",
              "Call:\n",
              "lm(formula = y ~ ., data = df)\n",
              "\n",
              "Residuals:\n",
              "     Min       1Q   Median       3Q      Max \n",
              "-1.85209 -0.44267  0.03548  0.45171  1.60441 \n",
              "\n",
              "Coefficients:\n",
              "              Estimate Std. Error t value Pr(>|t|)    \n",
              "(Intercept) -0.0972054  0.1293670  -0.751  0.45601    \n",
              "var1         0.8675616  0.1221973   7.100 4.65e-09 ***\n",
              "var2         1.0101160  0.1229673   8.215 8.99e-11 ***\n",
              "var3         0.7222472  0.1373306   5.259 3.16e-06 ***\n",
              "var4         0.5443718  0.1368960   3.977  0.00023 ***\n",
              "var5        -0.1920666  0.1507418  -1.274  0.20862    \n",
              "var6        -0.1268034  0.1636196  -0.775  0.44207    \n",
              "var7        -0.0859963  0.1222497  -0.703  0.48511    \n",
              "var8         0.0671576  0.1630104   0.412  0.68215    \n",
              "var9        -0.1211380  0.1301038  -0.931  0.35637    \n",
              "var10       -0.0020973  0.1297702  -0.016  0.98717    \n",
              "var11        0.1749164  0.1438082   1.216  0.22969    \n",
              "var12       -0.0526155  0.1462959  -0.360  0.72065    \n",
              "var13        0.2009111  0.1343164   1.496  0.14112    \n",
              "var14       -0.2733351  0.1210974  -2.257  0.02849 *  \n",
              "var15        0.2728135  0.1380232   1.977  0.05373 .  \n",
              "var16       -0.1273695  0.1300232  -0.980  0.33210    \n",
              "var17        0.0810815  0.1419483   0.571  0.57047    \n",
              "var18       -0.0875188  0.1216090  -0.720  0.47514    \n",
              "var19       -0.3142951  0.1304842  -2.409  0.01982 *  \n",
              "var20       -0.2793551  0.1481550  -1.886  0.06529 .  \n",
              "var21        0.1174433  0.1620858   0.725  0.47216    \n",
              "var22       -0.0386011  0.1435442  -0.269  0.78912    \n",
              "var23        0.1056372  0.1214347   0.870  0.38859    \n",
              "var24        0.2497858  0.1441591   1.733  0.08944 .  \n",
              "var25       -0.2179101  0.1445678  -1.507  0.13815    \n",
              "var26        0.0829086  0.1580452   0.525  0.60224    \n",
              "var27       -0.1365329  0.1354677  -1.008  0.31847    \n",
              "var28        0.2715009  0.1658391   1.637  0.10801    \n",
              "var29       -0.1954284  0.1296886  -1.507  0.13826    \n",
              "var30       -0.0829588  0.1337705  -0.620  0.53803    \n",
              "var31        0.2287958  0.1180904   1.937  0.05846 .  \n",
              "var32        0.0344723  0.1377009   0.250  0.80337    \n",
              "var33        0.0527801  0.1232461   0.428  0.67035    \n",
              "var34       -0.0004392  0.1162996  -0.004  0.99700    \n",
              "var35        0.0987559  0.1230976   0.802  0.42628    \n",
              "var36        0.0425538  0.1276708   0.333  0.74032    \n",
              "var37        0.2412908  0.1252784   1.926  0.05991 .  \n",
              "var38        0.0502137  0.1344340   0.374  0.71037    \n",
              "var39        0.1716808  0.1556868   1.103  0.27553    \n",
              "var40       -0.0975610  0.1081948  -0.902  0.37162    \n",
              "var41        0.0389306  0.1325148   0.294  0.77016    \n",
              "var42       -0.0895673  0.1118277  -0.801  0.42703    \n",
              "var43       -0.1185985  0.1056086  -1.123  0.26691    \n",
              "var44        0.0546713  0.1170871   0.467  0.64262    \n",
              "var45        0.1552234  0.1065051   1.457  0.15138    \n",
              "var46        0.0737796  0.1429112   0.516  0.60799    \n",
              "var47        0.1557650  0.1347075   1.156  0.25316    \n",
              "var48        0.0207517  0.1077752   0.193  0.84811    \n",
              "var49       -0.0222888  0.1353260  -0.165  0.86985    \n",
              "var50       -0.0137175  0.1211147  -0.113  0.91029    \n",
              "---\n",
              "Signif. codes:  0 ‘***’ 0.001 ‘**’ 0.01 ‘*’ 0.05 ‘.’ 0.1 ‘ ’ 1\n",
              "\n",
              "Residual standard error: 0.9051 on 49 degrees of freedom\n",
              "Multiple R-squared:  0.9147,\tAdjusted R-squared:  0.8277 \n",
              "F-statistic: 10.51 on 50 and 49 DF,  p-value: 3.716e-14\n"
            ]
          },
          "metadata": {}
        },
        {
          "output_type": "display_data",
          "data": {
            "text/html": [
              "<style>\n",
              ".dl-inline {width: auto; margin:0; padding: 0}\n",
              ".dl-inline>dt, .dl-inline>dd {float: none; width: auto; display: inline-block}\n",
              ".dl-inline>dt::after {content: \":\\0020\"; padding-right: .5ex}\n",
              ".dl-inline>dt:not(:first-of-type) {padding-left: .5ex}\n",
              "</style><dl class=dl-inline><dt>(Intercept)</dt><dd>-0.0972053628295793</dd><dt>var1</dt><dd>0.867561635588142</dd><dt>var2</dt><dd>1.01011597832828</dd><dt>var3</dt><dd>0.722247160274496</dd><dt>var4</dt><dd>0.544371784919104</dd><dt>var5</dt><dd>-0.192066598412759</dd></dl>\n"
            ],
            "text/markdown": "(Intercept)\n:   -0.0972053628295793var1\n:   0.867561635588142var2\n:   1.01011597832828var3\n:   0.722247160274496var4\n:   0.544371784919104var5\n:   -0.192066598412759\n\n",
            "text/latex": "\\begin{description*}\n\\item[(Intercept)] -0.0972053628295793\n\\item[var1] 0.867561635588142\n\\item[var2] 1.01011597832828\n\\item[var3] 0.722247160274496\n\\item[var4] 0.544371784919104\n\\item[var5] -0.192066598412759\n\\end{description*}\n",
            "text/plain": [
              "(Intercept)        var1        var2        var3        var4        var5 \n",
              "-0.09720536  0.86756164  1.01011598  0.72224716  0.54437178 -0.19206660 "
            ]
          },
          "metadata": {}
        },
        {
          "output_type": "display_data",
          "data": {
            "text/html": [
              "<table class=\"dataframe\">\n",
              "<caption>A matrix: 6 × 2 of type dbl</caption>\n",
              "<thead>\n",
              "\t<tr><th></th><th scope=col>2.5 %</th><th scope=col>97.5 %</th></tr>\n",
              "</thead>\n",
              "<tbody>\n",
              "\t<tr><th scope=row>(Intercept)</th><td>-0.3571781</td><td>0.1627674</td></tr>\n",
              "\t<tr><th scope=row>var1</th><td> 0.6219970</td><td>1.1131262</td></tr>\n",
              "\t<tr><th scope=row>var2</th><td> 0.7630040</td><td>1.2572280</td></tr>\n",
              "\t<tr><th scope=row>var3</th><td> 0.4462710</td><td>0.9982233</td></tr>\n",
              "\t<tr><th scope=row>var4</th><td> 0.2692690</td><td>0.8194746</td></tr>\n",
              "\t<tr><th scope=row>var5</th><td>-0.4949935</td><td>0.1108603</td></tr>\n",
              "</tbody>\n",
              "</table>\n"
            ],
            "text/markdown": "\nA matrix: 6 × 2 of type dbl\n\n| <!--/--> | 2.5 % | 97.5 % |\n|---|---|---|\n| (Intercept) | -0.3571781 | 0.1627674 |\n| var1 |  0.6219970 | 1.1131262 |\n| var2 |  0.7630040 | 1.2572280 |\n| var3 |  0.4462710 | 0.9982233 |\n| var4 |  0.2692690 | 0.8194746 |\n| var5 | -0.4949935 | 0.1108603 |\n\n",
            "text/latex": "A matrix: 6 × 2 of type dbl\n\\begin{tabular}{r|ll}\n  & 2.5 \\% & 97.5 \\%\\\\\n\\hline\n\t(Intercept) & -0.3571781 & 0.1627674\\\\\n\tvar1 &  0.6219970 & 1.1131262\\\\\n\tvar2 &  0.7630040 & 1.2572280\\\\\n\tvar3 &  0.4462710 & 0.9982233\\\\\n\tvar4 &  0.2692690 & 0.8194746\\\\\n\tvar5 & -0.4949935 & 0.1108603\\\\\n\\end{tabular}\n",
            "text/plain": [
              "            2.5 %      97.5 %   \n",
              "(Intercept) -0.3571781 0.1627674\n",
              "var1         0.6219970 1.1131262\n",
              "var2         0.7630040 1.2572280\n",
              "var3         0.4462710 0.9982233\n",
              "var4         0.2692690 0.8194746\n",
              "var5        -0.4949935 0.1108603"
            ]
          },
          "metadata": {}
        },
        {
          "output_type": "display_data",
          "data": {
            "text/html": [
              "<style>\n",
              ".dl-inline {width: auto; margin:0; padding: 0}\n",
              ".dl-inline>dt, .dl-inline>dd {float: none; width: auto; display: inline-block}\n",
              ".dl-inline>dt::after {content: \":\\0020\"; padding-right: .5ex}\n",
              ".dl-inline>dt:not(:first-of-type) {padding-left: .5ex}\n",
              "</style><dl class=dl-inline><dt>1</dt><dd>0.427356695198144</dd><dt>2</dt><dd>0.982531878775401</dd><dt>3</dt><dd>-0.0817323282245176</dd><dt>4</dt><dd>4.92210504711478</dd><dt>5</dt><dd>-3.13904850295375</dd><dt>6</dt><dd>0.321909326565657</dd></dl>\n"
            ],
            "text/markdown": "1\n:   0.4273566951981442\n:   0.9825318787754013\n:   -0.08173232822451764\n:   4.922105047114785\n:   -3.139048502953756\n:   0.321909326565657\n\n",
            "text/latex": "\\begin{description*}\n\\item[1] 0.427356695198144\n\\item[2] 0.982531878775401\n\\item[3] -0.0817323282245176\n\\item[4] 4.92210504711478\n\\item[5] -3.13904850295375\n\\item[6] 0.321909326565657\n\\end{description*}\n",
            "text/plain": [
              "          1           2           3           4           5           6 \n",
              " 0.42735670  0.98253188 -0.08173233  4.92210505 -3.13904850  0.32190933 "
            ]
          },
          "metadata": {}
        },
        {
          "output_type": "display_data",
          "data": {
            "text/html": [
              "<style>\n",
              ".dl-inline {width: auto; margin:0; padding: 0}\n",
              ".dl-inline>dt, .dl-inline>dd {float: none; width: auto; display: inline-block}\n",
              ".dl-inline>dt::after {content: \":\\0020\"; padding-right: .5ex}\n",
              ".dl-inline>dt:not(:first-of-type) {padding-left: .5ex}\n",
              "</style><dl class=dl-inline><dt>1</dt><dd>-0.50505047354012</dd><dt>2</dt><dd>0.393274504576358</dd><dt>3</dt><dd>0.176376728652023</dd><dt>4</dt><dd>-0.963086095425228</dd><dt>5</dt><dd>0.0857768408440955</dd><dt>6</dt><dd>0.254677063301565</dd></dl>\n"
            ],
            "text/markdown": "1\n:   -0.505050473540122\n:   0.3932745045763583\n:   0.1763767286520234\n:   -0.9630860954252285\n:   0.08577684084409556\n:   0.254677063301565\n\n",
            "text/latex": "\\begin{description*}\n\\item[1] -0.50505047354012\n\\item[2] 0.393274504576358\n\\item[3] 0.176376728652023\n\\item[4] -0.963086095425228\n\\item[5] 0.0857768408440955\n\\item[6] 0.254677063301565\n\\end{description*}\n",
            "text/plain": [
              "          1           2           3           4           5           6 \n",
              "-0.50505047  0.39327450  0.17637673 -0.96308610  0.08577684  0.25467706 "
            ]
          },
          "metadata": {}
        }
      ],
      "source": [
        "# These following functions are generic: they work for most models in R!\n",
        "summary(model)  # This gives you the classical table with the results\n",
        "head(coef(model))  # Estimated coefficients (beta hat)\n",
        "head(confint(model))  # Confidence intervals for the coefficients (you can change significance)\n",
        "head(fitted(model))  # Fitted values - regression line\n",
        "head(resid(model))  # Model residuals"
      ]
    },
    {
      "cell_type": "markdown",
      "source": [
        "Prediction"
      ],
      "metadata": {
        "id": "JOMQxR8-c08F"
      }
    },
    {
      "cell_type": "code",
      "source": [
        "# We create five new observations and use the estimated model to predict\n",
        "new.df <- matrix(rnorm(5 * p), nrow = 5, ncol = p) # \"predict\" function requires a data.frame\n",
        "colnames(new.df) <- colnames(df)[-1]  # Needs to be in the same format\n",
        "predict(model, newdata = as.data.frame(new.df))  # Prediction for a new observation with covariates rnorm(n)"
      ],
      "metadata": {
        "id": "ZNfHdV5qc16O",
        "colab": {
          "base_uri": "https://localhost:8080/",
          "height": 34
        },
        "outputId": "5b0c65d4-378a-4e48-9be7-f2ca745d8616"
      },
      "execution_count": 21,
      "outputs": [
        {
          "output_type": "display_data",
          "data": {
            "text/html": [
              "<style>\n",
              ".dl-inline {width: auto; margin:0; padding: 0}\n",
              ".dl-inline>dt, .dl-inline>dd {float: none; width: auto; display: inline-block}\n",
              ".dl-inline>dt::after {content: \":\\0020\"; padding-right: .5ex}\n",
              ".dl-inline>dt:not(:first-of-type) {padding-left: .5ex}\n",
              "</style><dl class=dl-inline><dt>1</dt><dd>1.79879242251393</dd><dt>2</dt><dd>-2.40281987323315</dd><dt>3</dt><dd>-1.889108263616</dd><dt>4</dt><dd>-1.28121888614748</dd><dt>5</dt><dd>1.45665965335889</dd></dl>\n"
            ],
            "text/markdown": "1\n:   1.798792422513932\n:   -2.402819873233153\n:   -1.8891082636164\n:   -1.281218886147485\n:   1.45665965335889\n\n",
            "text/latex": "\\begin{description*}\n\\item[1] 1.79879242251393\n\\item[2] -2.40281987323315\n\\item[3] -1.889108263616\n\\item[4] -1.28121888614748\n\\item[5] 1.45665965335889\n\\end{description*}\n",
            "text/plain": [
              "        1         2         3         4         5 \n",
              " 1.798792 -2.402820 -1.889108 -1.281219  1.456660 "
            ]
          },
          "metadata": {}
        }
      ]
    },
    {
      "cell_type": "markdown",
      "metadata": {
        "id": "aKu7MBrVWvb1"
      },
      "source": [
        " If your outcome is binary, for example, use `glm(..., link = 'binomial')` instead as the modelling function (the rest stays the same). Many models are natively built into `R`, but many others are not. This is where packages kick in: if you're trying to use a method that is not built-in, it is likely that someone has written a package implementing it."
      ]
    },
    {
      "cell_type": "markdown",
      "metadata": {
        "id": "NNC3hZuvBLmZ"
      },
      "source": [
        "---\n",
        "## 9. String manipulation\n",
        "\n",
        "Sometimes instead of numbers you may need to work with text data. We present some functions to manipulate text data (strings) easily."
      ]
    },
    {
      "cell_type": "markdown",
      "source": [
        "Length, splitting and pasting"
      ],
      "metadata": {
        "id": "AF4WZ3VTe2yE"
      }
    },
    {
      "cell_type": "code",
      "execution_count": 22,
      "metadata": {
        "id": "KCNzmzWtkz6M",
        "colab": {
          "base_uri": "https://localhost:8080/",
          "height": 86
        },
        "outputId": "5c9e947a-3f8e-4385-bd0d-b57ede6cbb23"
      },
      "outputs": [
        {
          "output_type": "display_data",
          "data": {
            "text/html": [
              "24"
            ],
            "text/markdown": "24",
            "text/latex": "24",
            "text/plain": [
              "[1] 24"
            ]
          },
          "metadata": {}
        },
        {
          "output_type": "stream",
          "name": "stdout",
          "text": [
            "[1] \"abcd\"  \"dcba\"  \"efg\"   \"1xyz\"  \"mnop0\"\n"
          ]
        },
        {
          "output_type": "display_data",
          "data": {
            "text/html": [
              "'abcd_dcba'"
            ],
            "text/markdown": "'abcd_dcba'",
            "text/latex": "'abcd\\_dcba'",
            "text/plain": [
              "[1] \"abcd_dcba\""
            ]
          },
          "metadata": {}
        },
        {
          "output_type": "display_data",
          "data": {
            "text/html": [
              "'abcd+dcba+efg+1xyz+mnop0'"
            ],
            "text/markdown": "'abcd+dcba+efg+1xyz+mnop0'",
            "text/latex": "'abcd+dcba+efg+1xyz+mnop0'",
            "text/plain": [
              "[1] \"abcd+dcba+efg+1xyz+mnop0\""
            ]
          },
          "metadata": {}
        }
      ],
      "source": [
        "raw.text <- 'abcd dcba efg 1xyz mnop0'  # Say you have some raw text\n",
        "\n",
        "# Number of characters in a string\n",
        "nchar(raw.text)\n",
        "\n",
        "# Splitting\n",
        "data <- strsplit(raw.text, ' ')  # You can split it into several elements (cut by \" \")\n",
        "data <- unlist(data)  # \"strsplit\" returns a list\n",
        "print(data)\n",
        "\n",
        "# Paste elements\n",
        "paste(data[1], data[2], sep = '_')  # Paste two elements with separator\n",
        "paste(data, collapse = '+')  # Paste all elements with collapsing character"
      ]
    },
    {
      "cell_type": "markdown",
      "source": [
        "Some typography"
      ],
      "metadata": {
        "id": "gsvU-3DDfJjT"
      }
    },
    {
      "cell_type": "code",
      "execution_count": 55,
      "metadata": {
        "id": "q4mhyhCn6w3S",
        "colab": {
          "base_uri": "https://localhost:8080/",
          "height": 139
        },
        "outputId": "6b941f96-fa97-4017-e37a-ad2ee93006c2"
      },
      "outputs": [
        {
          "output_type": "display_data",
          "data": {
            "text/html": [
              "<style>\n",
              ".list-inline {list-style: none; margin:0; padding: 0}\n",
              ".list-inline>li {display: inline-block}\n",
              ".list-inline>li:not(:last-child)::after {content: \"\\00b7\"; padding: 0 .5ex}\n",
              "</style>\n",
              "<ol class=list-inline><li>'A'</li><li>'B'</li><li>'C'</li><li>'D'</li><li>'E'</li><li>'F'</li></ol>\n"
            ],
            "text/markdown": "1. 'A'\n2. 'B'\n3. 'C'\n4. 'D'\n5. 'E'\n6. 'F'\n\n\n",
            "text/latex": "\\begin{enumerate*}\n\\item 'A'\n\\item 'B'\n\\item 'C'\n\\item 'D'\n\\item 'E'\n\\item 'F'\n\\end{enumerate*}\n",
            "text/plain": [
              "[1] \"A\" \"B\" \"C\" \"D\" \"E\" \"F\""
            ]
          },
          "metadata": {}
        },
        {
          "output_type": "display_data",
          "data": {
            "text/html": [
              "<style>\n",
              ".list-inline {list-style: none; margin:0; padding: 0}\n",
              ".list-inline>li {display: inline-block}\n",
              ".list-inline>li:not(:last-child)::after {content: \"\\00b7\"; padding: 0 .5ex}\n",
              "</style>\n",
              "<ol class=list-inline><li>'a'</li><li>'b'</li><li>'c'</li><li>'d'</li><li>'e'</li><li>'f'</li></ol>\n"
            ],
            "text/markdown": "1. 'a'\n2. 'b'\n3. 'c'\n4. 'd'\n5. 'e'\n6. 'f'\n\n\n",
            "text/latex": "\\begin{enumerate*}\n\\item 'a'\n\\item 'b'\n\\item 'c'\n\\item 'd'\n\\item 'e'\n\\item 'f'\n\\end{enumerate*}\n",
            "text/plain": [
              "[1] \"a\" \"b\" \"c\" \"d\" \"e\" \"f\""
            ]
          },
          "metadata": {}
        },
        {
          "output_type": "display_data",
          "data": {
            "text/html": [
              "<style>\n",
              ".list-inline {list-style: none; margin:0; padding: 0}\n",
              ".list-inline>li {display: inline-block}\n",
              ".list-inline>li:not(:last-child)::after {content: \"\\00b7\"; padding: 0 .5ex}\n",
              "</style>\n",
              "<ol class=list-inline><li>'A'</li><li>'B'</li><li>'C'</li><li>'D'</li></ol>\n"
            ],
            "text/markdown": "1. 'A'\n2. 'B'\n3. 'C'\n4. 'D'\n\n\n",
            "text/latex": "\\begin{enumerate*}\n\\item 'A'\n\\item 'B'\n\\item 'C'\n\\item 'D'\n\\end{enumerate*}\n",
            "text/plain": [
              "[1] \"A\" \"B\" \"C\" \"D\""
            ]
          },
          "metadata": {}
        },
        {
          "output_type": "display_data",
          "data": {
            "text/html": [
              "'µ'"
            ],
            "text/markdown": "'µ'",
            "text/latex": "'µ'",
            "text/plain": [
              "[1] \"µ\""
            ]
          },
          "metadata": {}
        },
        {
          "output_type": "display_data",
          "data": {
            "text/html": [
              "'caps are yelling in writing'"
            ],
            "text/markdown": "'caps are yelling in writing'",
            "text/latex": "'caps are yelling in writing'",
            "text/plain": [
              "[1] \"caps are yelling in writing\""
            ]
          },
          "metadata": {}
        },
        {
          "output_type": "display_data",
          "data": {
            "text/html": [
              "'BUT SOMETIMES IT IS NECESSARY'"
            ],
            "text/markdown": "'BUT SOMETIMES IT IS NECESSARY'",
            "text/latex": "'BUT SOMETIMES IT IS NECESSARY'",
            "text/plain": [
              "[1] \"BUT SOMETIMES IT IS NECESSARY\""
            ]
          },
          "metadata": {}
        },
        {
          "output_type": "display_data",
          "data": {
            "text/html": [
              "'this string is too long.'"
            ],
            "text/markdown": "'this string is too long.'",
            "text/latex": "'this string is too long.'",
            "text/plain": [
              "[1] \"this string is too long.\""
            ]
          },
          "metadata": {}
        }
      ],
      "source": [
        "# Set of letters\n",
        "head(LETTERS)  # Uppercase\n",
        "head(letters)  # Lowercase\n",
        "LETTERS[1:4]  # A, B, C, D (can be subsetted like any other object)\n",
        "\"\\u00b5\"  # Some non-roman characters are encoded: this prints the greek letter \"mu\" (unicode)\n",
        "\n",
        "# Transform to upper- or lower-case\n",
        "tolower('CAPS ARE YELLING IN WRITING')\n",
        "toupper('but sometimes it is necessary')\n",
        "\n",
        "# Suppress white spaces before the first non white space character and after the last non white space character\n",
        "trimws('   this string is too long.   ')"
      ]
    },
    {
      "cell_type": "code",
      "execution_count": 24,
      "metadata": {
        "id": "NnIqTXOViaax",
        "colab": {
          "base_uri": "https://localhost:8080/",
          "height": 191
        },
        "outputId": "d4da6057-2f9d-498b-f3a4-1016b44b21c2"
      },
      "outputs": [
        {
          "output_type": "display_data",
          "data": {
            "text/html": [
              "1"
            ],
            "text/markdown": "1",
            "text/latex": "1",
            "text/plain": [
              "[1] 1"
            ]
          },
          "metadata": {}
        },
        {
          "output_type": "display_data",
          "data": {
            "text/html": [
              "<style>\n",
              ".list-inline {list-style: none; margin:0; padding: 0}\n",
              ".list-inline>li {display: inline-block}\n",
              ".list-inline>li:not(:last-child)::after {content: \"\\00b7\"; padding: 0 .5ex}\n",
              "</style>\n",
              "<ol class=list-inline><li>TRUE</li><li>TRUE</li><li>FALSE</li><li>FALSE</li><li>FALSE</li></ol>\n"
            ],
            "text/markdown": "1. TRUE\n2. TRUE\n3. FALSE\n4. FALSE\n5. FALSE\n\n\n",
            "text/latex": "\\begin{enumerate*}\n\\item TRUE\n\\item TRUE\n\\item FALSE\n\\item FALSE\n\\item FALSE\n\\end{enumerate*}\n",
            "text/plain": [
              "[1]  TRUE  TRUE FALSE FALSE FALSE"
            ]
          },
          "metadata": {}
        },
        {
          "output_type": "display_data",
          "data": {
            "text/html": [
              "1"
            ],
            "text/markdown": "1",
            "text/latex": "1",
            "text/plain": [
              "[1] 1"
            ]
          },
          "metadata": {}
        },
        {
          "output_type": "display_data",
          "data": {
            "text/html": [
              "<style>\n",
              ".list-inline {list-style: none; margin:0; padding: 0}\n",
              ".list-inline>li {display: inline-block}\n",
              ".list-inline>li:not(:last-child)::after {content: \"\\00b7\"; padding: 0 .5ex}\n",
              "</style>\n",
              "<ol class=list-inline><li>'ab'</li><li>'dc'</li><li>'ef'</li><li>'1x'</li><li>'mn'</li></ol>\n"
            ],
            "text/markdown": "1. 'ab'\n2. 'dc'\n3. 'ef'\n4. '1x'\n5. 'mn'\n\n\n",
            "text/latex": "\\begin{enumerate*}\n\\item 'ab'\n\\item 'dc'\n\\item 'ef'\n\\item '1x'\n\\item 'mn'\n\\end{enumerate*}\n",
            "text/plain": [
              "[1] \"ab\" \"dc\" \"ef\" \"1x\" \"mn\""
            ]
          },
          "metadata": {}
        },
        {
          "output_type": "display_data",
          "data": {
            "text/html": [
              "'ABcd'"
            ],
            "text/markdown": "'ABcd'",
            "text/latex": "'ABcd'",
            "text/plain": [
              "[1] \"ABcd\""
            ]
          },
          "metadata": {}
        },
        {
          "output_type": "stream",
          "name": "stdout",
          "text": [
            "1 \n",
            "2 \n",
            "3 \n",
            "4 \n",
            "5 \n"
          ]
        }
      ],
      "source": [
        "# Identify elements with certain patterns\n",
        "grep('bc', data)  # Returns indices of elements containing \"bc\"\n",
        "grepl('a', data)  # Returns logical instead of indices\n",
        "agrep('bco', data)  # \"Approx.\" grep, grep with partial matching, looks for elements \"close\" to matching pattern ('bco' is nowhere but I get 1)\n",
        "\n",
        "# Subtract characters in a specific position\n",
        "substr(data, 1, 2)  # Get characters from 1 to 2 (of each element)\n",
        "\n",
        "# You can also replace parts of the string with something else\n",
        "gsub('ab', 'AB', data[1])  # Careful with order of arguments\n",
        "\n",
        "# Line change\n",
        "for (i in 1:5) cat(i, '\\n')  # Print \"i\" and write next in a new line"
      ]
    },
    {
      "cell_type": "markdown",
      "metadata": {
        "id": "eGxC_iYc1Ijy"
      },
      "source": [
        "With respect to text display on the console, there are three (plus bonus) common ways of printing:\n",
        "\n",
        "*   `print()`: works with anything but output is less \"pretty\"/readable\n",
        "*   `cat()`: easier to manipulate (works like `paste()`) but only works on atomic types (logical, integer, real, character...) and names\n",
        "*   `message()`: mostly used inside functions to display text on events occuring in your code\n",
        "*   `sink()`: this allows you to write output on an external file. Basically, write `sink([file_name].txt)`, and then whatever is printed after that (with `print`/`cat`) will be written on `[file_name].txt`. To stop the connection, write `sink()` again (no arguments) and the display is back to the command line."
      ]
    },
    {
      "cell_type": "code",
      "source": [
        "sink('testing_sink.txt')\n",
        "print('testing the sink function!')\n",
        "sink()\n",
        "# Due to specificities in printing in Colab, the output file is blank. It works perfectly in RStudio"
      ],
      "metadata": {
        "colab": {
          "base_uri": "https://localhost:8080/"
        },
        "id": "9HSm6343gHvM",
        "outputId": "707cff87-e3b2-4e5b-86e9-b14f2d0dcf8e"
      },
      "execution_count": 56,
      "outputs": [
        {
          "output_type": "stream",
          "name": "stdout",
          "text": [
            "[1] \"testing the sink function!\"\n"
          ]
        }
      ]
    },
    {
      "cell_type": "markdown",
      "metadata": {
        "id": "79s6-z85t8_8"
      },
      "source": [
        "Finally, the operations on text above may be applied to strings that are not \"exact\", i.e. imagine that instead of finding the character \"1\", you want to find \"a number\", or \"that starts with A\". Then you use *regular expressions*. Luckily, the rules in `R` for regular expressions are the standard for any language."
      ]
    },
    {
      "cell_type": "code",
      "execution_count": 26,
      "metadata": {
        "id": "tO1Pg_6ct-q3",
        "colab": {
          "base_uri": "https://localhost:8080/",
          "height": 139
        },
        "outputId": "4d99fe1f-1eec-4b49-b66f-8774646556ef"
      },
      "outputs": [
        {
          "output_type": "display_data",
          "data": {
            "text/html": [
              "1"
            ],
            "text/markdown": "1",
            "text/latex": "1",
            "text/plain": [
              "[1] 1"
            ]
          },
          "metadata": {}
        },
        {
          "output_type": "display_data",
          "data": {
            "text/html": [
              "2"
            ],
            "text/markdown": "2",
            "text/latex": "2",
            "text/plain": [
              "[1] 2"
            ]
          },
          "metadata": {}
        },
        {
          "output_type": "display_data",
          "data": {
            "text/html": [
              "<style>\n",
              ".list-inline {list-style: none; margin:0; padding: 0}\n",
              ".list-inline>li {display: inline-block}\n",
              ".list-inline>li:not(:last-child)::after {content: \"\\00b7\"; padding: 0 .5ex}\n",
              "</style>\n",
              "<ol class=list-inline><li>1</li><li>2</li><li>5</li></ol>\n"
            ],
            "text/markdown": "1. 1\n2. 2\n3. 5\n\n\n",
            "text/latex": "\\begin{enumerate*}\n\\item 1\n\\item 2\n\\item 5\n\\end{enumerate*}\n",
            "text/plain": [
              "[1] 1 2 5"
            ]
          },
          "metadata": {}
        },
        {
          "output_type": "display_data",
          "data": {
            "text/html": [
              "<style>\n",
              ".list-inline {list-style: none; margin:0; padding: 0}\n",
              ".list-inline>li {display: inline-block}\n",
              ".list-inline>li:not(:last-child)::after {content: \"\\00b7\"; padding: 0 .5ex}\n",
              "</style>\n",
              "<ol class=list-inline><li>1</li><li>2</li><li>3</li></ol>\n"
            ],
            "text/markdown": "1. 1\n2. 2\n3. 3\n\n\n",
            "text/latex": "\\begin{enumerate*}\n\\item 1\n\\item 2\n\\item 3\n\\end{enumerate*}\n",
            "text/plain": [
              "[1] 1 2 3"
            ]
          },
          "metadata": {}
        },
        {
          "output_type": "display_data",
          "data": {
            "text/html": [
              "<style>\n",
              ".list-inline {list-style: none; margin:0; padding: 0}\n",
              ".list-inline>li {display: inline-block}\n",
              ".list-inline>li:not(:last-child)::after {content: \"\\00b7\"; padding: 0 .5ex}\n",
              "</style>\n",
              "<ol class=list-inline><li>1</li><li>2</li></ol>\n"
            ],
            "text/markdown": "1. 1\n2. 2\n\n\n",
            "text/latex": "\\begin{enumerate*}\n\\item 1\n\\item 2\n\\end{enumerate*}\n",
            "text/plain": [
              "[1] 1 2"
            ]
          },
          "metadata": {}
        },
        {
          "output_type": "display_data",
          "data": {
            "text/html": [
              "<style>\n",
              ".list-inline {list-style: none; margin:0; padding: 0}\n",
              ".list-inline>li {display: inline-block}\n",
              ".list-inline>li:not(:last-child)::after {content: \"\\00b7\"; padding: 0 .5ex}\n",
              "</style>\n",
              "<ol class=list-inline><li>1</li><li>2</li><li>3</li></ol>\n"
            ],
            "text/markdown": "1. 1\n2. 2\n3. 3\n\n\n",
            "text/latex": "\\begin{enumerate*}\n\\item 1\n\\item 2\n\\item 3\n\\end{enumerate*}\n",
            "text/plain": [
              "[1] 1 2 3"
            ]
          },
          "metadata": {}
        },
        {
          "output_type": "display_data",
          "data": {
            "text/html": [
              "1"
            ],
            "text/markdown": "1",
            "text/latex": "1",
            "text/plain": [
              "[1] 1"
            ]
          },
          "metadata": {}
        }
      ],
      "source": [
        "data <- c('abcd', 'dcba', 'efg', '1xyz', 'mnop0')\n",
        "\n",
        "# Find the strings that...\n",
        "grep('^a', data)  # start with \"a\"\n",
        "grep('a$', data)  # end with \"a\"\n",
        "grep('[am]', data)  # have any of the characters \"a\", \"m\"\n",
        "grep('[ab|fg]', data)  # have either the characters \"ab\" or \"fg\"\n",
        "grep('[a-c]', data)  # have a character in the range \"a\"-\"c\"\n",
        "grep('[:digit:]', data)  # have a digit\n",
        "grep('a[?=b]', data)  # have \"a\" followed by \"b\"\n",
        "# ..."
      ]
    },
    {
      "cell_type": "markdown",
      "metadata": {
        "id": "mBYpaAsSyNZZ"
      },
      "source": [
        "Regular expressions are a **very** rich language, you can virtually find one for anything you can think of, and they are generic. Here is a link to a cheat sheet that contains a very complete summary of the expressions you can apply:\n",
        "*   https://evoldyn.gitlab.io/evomics-2018/ref-sheets/R_strings.pdf\n"
      ]
    },
    {
      "cell_type": "markdown",
      "metadata": {
        "id": "brHgz2tosvFz"
      },
      "source": [
        "Finally, it is worth mentioning that simple text in `R` revolves around standard roman letters, anything else needs to be *encoded* carefully: letters with accents (`è`, `ã`,  `ö`, `ê`, ...) and other special characters. I don't recommend using them unless strictly necessary. For example, a natural text in Catalan contains certain characters (accents, or letters like `ç`), and may need to be converted prior to everything, else it may cause errors. There is a very helpful function that translates encodings from one to the other.\n",
        "\n"
      ]
    },
    {
      "cell_type": "code",
      "execution_count": 27,
      "metadata": {
        "id": "-wVAJfll1QSB",
        "colab": {
          "base_uri": "https://localhost:8080/",
          "height": 69
        },
        "outputId": "7c116f3a-8436-436a-c772-cb8cd714a57d"
      },
      "outputs": [
        {
          "output_type": "display_data",
          "data": {
            "text/html": [
              "'UTF-8'"
            ],
            "text/markdown": "'UTF-8'",
            "text/latex": "'UTF-8'",
            "text/plain": [
              "[1] \"UTF-8\""
            ]
          },
          "metadata": {}
        },
        {
          "output_type": "stream",
          "name": "stdout",
          "text": [
            "[1] \"El pingüí està glaçat però a ell li fa il·lusió passar fred.\"\n",
            "[1] \"El pingui esta glacat pero a ell li fa il.lusio passar fred.\"\n"
          ]
        }
      ],
      "source": [
        "txt <- \"El pingüí està glaçat però a ell li fa il·lusió passar fred.\"\n",
        "Encoding(txt)  # UTF-8\n",
        "\n",
        "# Strip down to simple roman characters\n",
        "new.txt <- iconv(txt, from = 'UTF-8', to = 'ASCII//TRANSLIT')\n",
        "print(txt)\n",
        "print(new.txt)  # Converts to full-roman simple characters"
      ]
    },
    {
      "cell_type": "markdown",
      "metadata": {
        "id": "SjgZq0Yj3DIP"
      },
      "source": [
        "For more advanced things, a nice package to deal with strings in `R` is `stringr`, check it out."
      ]
    },
    {
      "cell_type": "markdown",
      "metadata": {
        "id": "TTAdo_uDBPk3"
      },
      "source": [
        "---\n",
        "## 10. Basic data visualization"
      ]
    },
    {
      "cell_type": "markdown",
      "metadata": {
        "id": "xbps2NIweIT-"
      },
      "source": [
        "Base `R` offers an flexible framework to produce high quality plots, which sometimes requires a bit of practice. Let us cover some basic static plots, and the essential tools to build some of your own.\n",
        "\n",
        "Some basic built-in charts:"
      ]
    },
    {
      "cell_type": "code",
      "execution_count": 28,
      "metadata": {
        "id": "R8wPDD3HfZcv",
        "colab": {
          "base_uri": "https://localhost:8080/",
          "height": 1000
        },
        "outputId": "f6b720a4-e350-4941-8857-3ee517ebb219"
      },
      "outputs": [
        {
          "output_type": "display_data",
          "data": {
            "text/plain": [
              "plot without title"
            ],
            "image/png": "[encoded data removed]"
          },
          "metadata": {
            "image/png": {
              "width": 420,
              "height": 420
            }
          }
        },
        {
          "output_type": "display_data",
          "data": {
            "text/plain": [
              "plot without title"
            ],
            "image/png": "[encoded data removed]"
          },
          "metadata": {
            "image/png": {
              "width": 420,
              "height": 420
            }
          }
        },
        {
          "output_type": "display_data",
          "data": {
            "text/plain": [
              "Plot with title “Histogram of x”"
            ],
            "image/png": "[encoded data removed]"
          },
          "metadata": {
            "image/png": {
              "width": 420,
              "height": 420
            }
          }
        },
        {
          "output_type": "display_data",
          "data": {
            "text/plain": [
              "Plot with title “Histogram of y”"
            ],
            "image/png": "[encoded data removed]"
          },
          "metadata": {
            "image/png": {
              "width": 420,
              "height": 420
            }
          }
        },
        {
          "output_type": "display_data",
          "data": {
            "text/plain": [
              "plot without title"
            ],
            "image/png": "[encoded data removed]"
          },
          "metadata": {
            "image/png": {
              "width": 420,
              "height": 420
            }
          }
        }
      ],
      "source": [
        "set.seed(666)\n",
        "x <- rnorm(1e3, mean = 1, sd = 2)\n",
        "y <- rnorm(1e3, mean = -1, sd = 0.5)\n",
        "z <- sample(LETTERS[1:4], 1e3, replace = TRUE)\n",
        "\n",
        "# Boxplot (look at the set of arguments)\n",
        "boxplot(x)\n",
        "boxplot(x, y)  # Joint plot\n",
        "\n",
        "# Histogram\n",
        "hist(x)\n",
        "hist(y, breaks = 50)  # Number of columns\n",
        "\n",
        "# Barplot (categorical variable)\n",
        "barplot(table(z))"
      ]
    },
    {
      "cell_type": "markdown",
      "metadata": {
        "id": "KWzlrkrZiLV-"
      },
      "source": [
        "However, the generic function to generate static charts in `R` is `plot()`. The functions we just used have `plot()` underlying their structure, and use the same parameters. This function allows for a large number of arguments that allow to fully customize it to what you might need."
      ]
    },
    {
      "cell_type": "code",
      "execution_count": 29,
      "metadata": {
        "id": "rP0V0w83ioOZ",
        "colab": {
          "base_uri": "https://localhost:8080/",
          "height": 437
        },
        "outputId": "458aaac5-ebd6-45b1-f41f-5c1a148c4cc9"
      },
      "outputs": [
        {
          "output_type": "display_data",
          "data": {
            "text/plain": [
              "Plot with title “This is a scatter plot”"
            ],
            "image/png": "[encoded data removed]"
          },
          "metadata": {
            "image/png": {
              "width": 420,
              "height": 420
            }
          }
        }
      ],
      "source": [
        "plot(x, y, col = 'black', pch = 16,  # \"pch\" is a parameter determining the shape of the dot\n",
        "  xlab = 'Name of the x-axis',\n",
        "  ylab = 'Name of the y-axis',\n",
        "  main = 'This is a scatter plot')"
      ]
    },
    {
      "cell_type": "markdown",
      "metadata": {
        "id": "3g5hQqfbxI0k"
      },
      "source": [
        "One key-parameter is `type`, which determines the nature of the plot. By default this is of `type = 'p'`, i.e. of points. Set it to `type = 'l'` for a line plot, or, for example, or to `type = 'n'` to just plot the plot frame."
      ]
    },
    {
      "cell_type": "code",
      "execution_count": 30,
      "metadata": {
        "id": "XWXUYQwuxEpx",
        "colab": {
          "base_uri": "https://localhost:8080/",
          "height": 437
        },
        "outputId": "51e404b7-d6df-42d0-bb8e-374f7d0a4bdf"
      },
      "outputs": [
        {
          "output_type": "display_data",
          "data": {
            "text/plain": [
              "plot without title"
            ],
            "image/png": "[encoded data removed]"
          },
          "metadata": {
            "image/png": {
              "width": 420,
              "height": 420
            }
          }
        }
      ],
      "source": [
        "# Line plots\n",
        "plot(sort(x), cumsum(sort(x)), type = 'l',\n",
        "  xlab = 'Name of the x-axis',\n",
        "  ylab = 'Name of the y-axis')"
      ]
    },
    {
      "cell_type": "code",
      "source": [
        "# Line plots\n",
        "plot(sort(x), cumsum(sort(x)), type = 'n',\n",
        "  xlab = 'Name of the x-axis',\n",
        "  ylab = 'Name of the y-axis')"
      ],
      "metadata": {
        "colab": {
          "base_uri": "https://localhost:8080/",
          "height": 437
        },
        "id": "42Qs0PVqOlt4",
        "outputId": "e633aa98-6731-43f2-fa3b-fc6a80f2593f"
      },
      "execution_count": 57,
      "outputs": [
        {
          "output_type": "display_data",
          "data": {
            "text/plain": [
              "plot without title"
            ],
            "image/png": "[encoded data removed]"
          },
          "metadata": {
            "image/png": {
              "width": 420,
              "height": 420
            }
          }
        }
      ]
    },
    {
      "cell_type": "markdown",
      "metadata": {
        "id": "ORWfn_SJkV2C"
      },
      "source": [
        "Also note the `col` parameter, which is used to specify the colour. This parameter is quite flexible, many generic colours are available as text (`black`, `blue`, `red`, etc.), but you can also give it integers (default colours), RGB codes and hexadecimal codes.\n",
        "\n",
        "Other very relevant parameters:\n",
        "\n",
        "*  `xlim`: two-position vector to establish limits of the $x$-axis\n",
        "*  `ylim`: same for the $y$-axis\n",
        "*  `xaxt`: boolean to have values on the $x$-axis or not\n",
        "*  `yaxt`: boolean to have values on the $y$-axis or not\n",
        "*  `asp`: sets the aspect-ratio of the plot\n",
        "*  `frame.plot`: draw a frame on the edges of the plot\n",
        "*  `log`: to use a logarithmic scale on either axis\n",
        "\n",
        "There are other more general graphical parameters that you can specify as well, such as `pch`, we highlight the following:\n",
        "\n",
        "*   `bg`: background colours of the plot symbols\n",
        "*   `cex`: size of the plot symbols (by default is 1)\n",
        "*   `lty` (for line plots): type of line (solid, dashed, points...)\n",
        "*   `lwd` (for line plots): width of the lines\n",
        "\n",
        "The `plot()` function is the backbone to most static diagrams in `R`. We introduce a few more functions to complement it:"
      ]
    },
    {
      "cell_type": "code",
      "execution_count": 31,
      "metadata": {
        "id": "GzAHp6vIYoJ-"
      },
      "outputs": [],
      "source": [
        "# Run again a simple linear model\n",
        "set.seed(666)\n",
        "n <- 100  # rows\n",
        "X <- matrix(rnorm(n), nrow = n, ncol = 1)  # Regression matrix\n",
        "b <- 1  # Regression coefficient\n",
        "y <- X %*% b + rnorm(n)  # Model: y = X * b + epsilon, epsilon is N(0, 1)\n",
        "df <- cbind.data.frame(y, X)  # Put all the data into one data.frame\n",
        "colnames(df) <- c('y', 'x')  # Column names"
      ]
    },
    {
      "cell_type": "code",
      "execution_count": 32,
      "metadata": {
        "id": "Z2oCUvGDrcdG",
        "colab": {
          "base_uri": "https://localhost:8080/",
          "height": 437
        },
        "outputId": "b7301d76-e17d-4080-e072-0043591bcf77"
      },
      "outputs": [
        {
          "output_type": "display_data",
          "data": {
            "text/plain": [
              "Plot with title “Simple linear model”"
            ],
            "image/png": "[encoded data removed]"
          },
          "metadata": {
            "image/png": {
              "width": 420,
              "height": 420
            }
          }
        }
      ],
      "source": [
        "# We will plot the estimated equation\n",
        "plot(df[, 'x'], df[, 'y'],\n",
        "  xlab = 'Explanatory variable',\n",
        "  ylab = 'Response variable',\n",
        "  main = 'Simple linear model',\n",
        "  type = 'n')  # Create only the framework\n",
        "\n",
        "# Filling the plot\n",
        "grid()  # Adds a fine grid\n",
        "neg.x <- which(df[, 'x'] < 0)  # Observations that have negative \"x\"\n",
        "pos.x <- which(df[, 'x'] > 0)  # Observations that have positive \"x\"\n",
        "points(df[neg.x, 'x'], df[neg.x, 'y'], col = 'blue', pch = 16)  # Blue points for negative x's\n",
        "points(df[pos.x, 'x'], df[pos.x, 'y'], col = 'red', pch = 16)  # Red points for negative x's\n",
        "abline(lm(y ~ x, data = df))  # Add line with regression model\n",
        "abline(v = 0, lty = 2)  # Add a line \"vertical\" at 0\n",
        "abline(h = 0, lty = 2)  # Add a line \"horizontal\" at 0\n",
        "text(-2, -5.5, 'here is an extreme value')  # Add text to the plot at given coordinates\n",
        "\n",
        "# Legend\n",
        "legend('topleft', legend = c('positive', 'negative'), col = c('red', 'blue'), pch = 16)\n",
        "\n",
        "# The function \"lines()\" lets draw custom lines:\n",
        "# Try replacing the FALSE with a TRUE to add an orange line to the plot\n",
        "if (FALSE) {\n",
        "  values <- seq(-3, 3, 0.01)\n",
        "  lines(values, sin(values), col = 'orange', lwd = 2)\n",
        "}"
      ]
    },
    {
      "cell_type": "markdown",
      "metadata": {
        "id": "C1_m9oGi1Nk_"
      },
      "source": [
        "Finally, note that you can make multiple plots on the same frame, and that you can store them out as `.png`, `.jpeg`, or `.pdf` (recommended). Here is how:"
      ]
    },
    {
      "cell_type": "code",
      "execution_count": 58,
      "metadata": {
        "id": "3uFeD2E92QhN",
        "colab": {
          "base_uri": "https://localhost:8080/",
          "height": 34
        },
        "outputId": "a1ebe7e6-4e58-437e-ba7f-bb2eea56795a"
      },
      "outputs": [
        {
          "output_type": "display_data",
          "data": {
            "text/html": [
              "<strong>png:</strong> 2"
            ],
            "text/markdown": "**png:** 2",
            "text/latex": "\\textbf{png:} 2",
            "text/plain": [
              "png \n",
              "  2 "
            ]
          },
          "metadata": {}
        }
      ],
      "source": [
        "set.seed(666)\n",
        "x <- rnorm(1e3, mean = 1, sd = 2)\n",
        "y <- rnorm(1e3, mean = -1, sd = 0.5)\n",
        "\n",
        "# Define the external file as at <file_path.ext>\n",
        "png('example.png',  height = 480, width=600)  # To save as .png\n",
        "#jpeg(<file_path.jpeg>, height = 4, width = 6)  # To save as .jpeg\n",
        "#pdf(<file_path.pdf>, height = 4, width = 6)  # To save as .pdf\n",
        "par(mfrow = c(1, 2))  # 1 row and two columns of plots\n",
        "plot(density(x), xlim = c(-6, 6), col = 'blue')  # This plots a kernel density estimate\n",
        "plot(density(y), xlim = c(-6, 6), col = 'red')\n",
        "dev.off()  # If you save it externally, run this at the end to close connection!"
      ]
    },
    {
      "cell_type": "markdown",
      "metadata": {
        "id": "ZI0WQtPGBWpr"
      },
      "source": [
        "---\n",
        "## 11. Popular packages\n",
        "\n",
        "Out of all the packages available in `R`, some became very popular and gold standards. We highlight here a few of the most popular ones.\n",
        "\n",
        "The [`tidyverse`](https://www.tidyverse.org/) suite developped by the organization behind RStudio is particularly popular. They are very powerful and very well documented packages. Some of the packages are natively embedded in RStudio. Each package has a \"cheatsheet\" that gives an overview of all the possibilites of the package.\n"
      ]
    },
    {
      "cell_type": "markdown",
      "metadata": {
        "id": "KEIVqR6J1mHf"
      },
      "source": [
        "### 11.1 `dplyr`\n",
        "\n",
        "This is a `tidyverse` package that is designed to clean, process, and manipulate data in a faster and more compact way than the canonical methods we have shown before. In short, it offers a fast alternative to manage tabular data (`data.frame`) with simpler *grammar* than base `R`. We highlight the main operations that can be done with `dplyr`, and offer the corresponding base method to compare."
      ]
    },
    {
      "cell_type": "code",
      "execution_count": 59,
      "metadata": {
        "id": "eenV79MLAPiL",
        "colab": {
          "base_uri": "https://localhost:8080/",
          "height": 321
        },
        "outputId": "ee32590d-abc4-4707-bd36-fdf1e983674a"
      },
      "outputs": [
        {
          "output_type": "display_data",
          "data": {
            "text/html": [
              "<style>\n",
              ".list-inline {list-style: none; margin:0; padding: 0}\n",
              ".list-inline>li {display: inline-block}\n",
              ".list-inline>li:not(:last-child)::after {content: \"\\00b7\"; padding: 0 .5ex}\n",
              "</style>\n",
              "<ol class=list-inline><li>6940</li><li>8</li></ol>\n"
            ],
            "text/markdown": "1. 6940\n2. 8\n\n\n",
            "text/latex": "\\begin{enumerate*}\n\\item 6940\n\\item 8\n\\end{enumerate*}\n",
            "text/plain": [
              "[1] 6940    8"
            ]
          },
          "metadata": {}
        },
        {
          "output_type": "display_data",
          "data": {
            "text/html": [
              "'data.frame'"
            ],
            "text/markdown": "'data.frame'",
            "text/latex": "'data.frame'",
            "text/plain": [
              "[1] \"data.frame\""
            ]
          },
          "metadata": {}
        },
        {
          "output_type": "display_data",
          "data": {
            "text/html": [
              "<table class=\"dataframe\">\n",
              "<caption>A data.frame: 6 × 8</caption>\n",
              "<thead>\n",
              "\t<tr><th></th><th scope=col>city</th><th scope=col>tmpd</th><th scope=col>dptp</th><th scope=col>date</th><th scope=col>pm25tmean2</th><th scope=col>pm10tmean2</th><th scope=col>o3tmean2</th><th scope=col>no2tmean2</th></tr>\n",
              "\t<tr><th></th><th scope=col>&lt;chr&gt;</th><th scope=col>&lt;dbl&gt;</th><th scope=col>&lt;dbl&gt;</th><th scope=col>&lt;date&gt;</th><th scope=col>&lt;dbl&gt;</th><th scope=col>&lt;dbl&gt;</th><th scope=col>&lt;dbl&gt;</th><th scope=col>&lt;dbl&gt;</th></tr>\n",
              "</thead>\n",
              "<tbody>\n",
              "\t<tr><th scope=row>1</th><td>chic</td><td>31.5</td><td>31.500</td><td>1987-01-01</td><td>NA</td><td>34.00000</td><td>4.250000</td><td>19.98810</td></tr>\n",
              "\t<tr><th scope=row>2</th><td>chic</td><td>33.0</td><td>29.875</td><td>1987-01-02</td><td>NA</td><td>      NA</td><td>3.304348</td><td>23.19099</td></tr>\n",
              "\t<tr><th scope=row>3</th><td>chic</td><td>33.0</td><td>27.375</td><td>1987-01-03</td><td>NA</td><td>34.16667</td><td>3.333333</td><td>23.81548</td></tr>\n",
              "\t<tr><th scope=row>4</th><td>chic</td><td>29.0</td><td>28.625</td><td>1987-01-04</td><td>NA</td><td>47.00000</td><td>4.375000</td><td>30.43452</td></tr>\n",
              "\t<tr><th scope=row>5</th><td>chic</td><td>32.0</td><td>28.875</td><td>1987-01-05</td><td>NA</td><td>      NA</td><td>4.750000</td><td>30.33333</td></tr>\n",
              "\t<tr><th scope=row>6</th><td>chic</td><td>40.0</td><td>35.125</td><td>1987-01-06</td><td>NA</td><td>48.00000</td><td>5.833333</td><td>25.77233</td></tr>\n",
              "</tbody>\n",
              "</table>\n"
            ],
            "text/markdown": "\nA data.frame: 6 × 8\n\n| <!--/--> | city &lt;chr&gt; | tmpd &lt;dbl&gt; | dptp &lt;dbl&gt; | date &lt;date&gt; | pm25tmean2 &lt;dbl&gt; | pm10tmean2 &lt;dbl&gt; | o3tmean2 &lt;dbl&gt; | no2tmean2 &lt;dbl&gt; |\n|---|---|---|---|---|---|---|---|---|\n| 1 | chic | 31.5 | 31.500 | 1987-01-01 | NA | 34.00000 | 4.250000 | 19.98810 |\n| 2 | chic | 33.0 | 29.875 | 1987-01-02 | NA |       NA | 3.304348 | 23.19099 |\n| 3 | chic | 33.0 | 27.375 | 1987-01-03 | NA | 34.16667 | 3.333333 | 23.81548 |\n| 4 | chic | 29.0 | 28.625 | 1987-01-04 | NA | 47.00000 | 4.375000 | 30.43452 |\n| 5 | chic | 32.0 | 28.875 | 1987-01-05 | NA |       NA | 4.750000 | 30.33333 |\n| 6 | chic | 40.0 | 35.125 | 1987-01-06 | NA | 48.00000 | 5.833333 | 25.77233 |\n\n",
            "text/latex": "A data.frame: 6 × 8\n\\begin{tabular}{r|llllllll}\n  & city & tmpd & dptp & date & pm25tmean2 & pm10tmean2 & o3tmean2 & no2tmean2\\\\\n  & <chr> & <dbl> & <dbl> & <date> & <dbl> & <dbl> & <dbl> & <dbl>\\\\\n\\hline\n\t1 & chic & 31.5 & 31.500 & 1987-01-01 & NA & 34.00000 & 4.250000 & 19.98810\\\\\n\t2 & chic & 33.0 & 29.875 & 1987-01-02 & NA &       NA & 3.304348 & 23.19099\\\\\n\t3 & chic & 33.0 & 27.375 & 1987-01-03 & NA & 34.16667 & 3.333333 & 23.81548\\\\\n\t4 & chic & 29.0 & 28.625 & 1987-01-04 & NA & 47.00000 & 4.375000 & 30.43452\\\\\n\t5 & chic & 32.0 & 28.875 & 1987-01-05 & NA &       NA & 4.750000 & 30.33333\\\\\n\t6 & chic & 40.0 & 35.125 & 1987-01-06 & NA & 48.00000 & 5.833333 & 25.77233\\\\\n\\end{tabular}\n",
            "text/plain": [
              "  city tmpd dptp   date       pm25tmean2 pm10tmean2 o3tmean2 no2tmean2\n",
              "1 chic 31.5 31.500 1987-01-01 NA         34.00000   4.250000 19.98810 \n",
              "2 chic 33.0 29.875 1987-01-02 NA               NA   3.304348 23.19099 \n",
              "3 chic 33.0 27.375 1987-01-03 NA         34.16667   3.333333 23.81548 \n",
              "4 chic 29.0 28.625 1987-01-04 NA         47.00000   4.375000 30.43452 \n",
              "5 chic 32.0 28.875 1987-01-05 NA               NA   4.750000 30.33333 \n",
              "6 chic 40.0 35.125 1987-01-06 NA         48.00000   5.833333 25.77233 "
            ]
          },
          "metadata": {}
        }
      ],
      "source": [
        "# Load the package\n",
        "library(dplyr)\n",
        "\n",
        "# Dataset: air pollution and temperature data for the city of Chicago (IL)\n",
        "link <- \"https://raw.githubusercontent.com/barcelonagse-datascience/academic_files/master/data/chicago\"\n",
        "chicago <- readRDS(url(link, \"rb\"))  # url() declares the link as an active file\n",
        "\n",
        "# General info\n",
        "dim(chicago)  # 6940x8\n",
        "class(chicago)  # data.frame\n",
        "head(chicago)"
      ]
    },
    {
      "cell_type": "markdown",
      "source": [
        "`dplyr::select` lets you select colnames with easy to write logical conditions"
      ],
      "metadata": {
        "id": "ld5fwQbZctLb"
      }
    },
    {
      "cell_type": "code",
      "execution_count": 35,
      "metadata": {
        "id": "B1Q-IYSABXab"
      },
      "outputs": [],
      "source": [
        "# select(): keep sets of columns\n",
        "data <- dplyr::select(chicago, city:dptp)  # Select variables from 'city' to 'dptp'\n",
        "data <- dplyr::select(chicago, -(city:dptp))  # All but this range\n",
        "data <- dplyr::select(chicago, ends_with('2'))  # That the column name ends in '2'\n",
        "data <- dplyr::select(chicago, starts_with('d'))  # That it starts with 'd'\n",
        "\n",
        "# Same thing with base R...\n",
        "if (FALSE) {\n",
        "  data <- chicago[, colnames(chicago) %in% colnames(chicago)[1:3]]\n",
        "  data <- chicago[, ! colnames(chicago) %in% colnames(chicago)[1:3]]  # NOT in\n",
        "  data <- chicago[, grep('2$', colnames(chicago))]\n",
        "  data <- chicago[, grep('^d', colnames(chicago))]\n",
        "}"
      ]
    },
    {
      "cell_type": "markdown",
      "source": [
        "`dplyr::filter` lets you filter rows with easy to write logical conditions"
      ],
      "metadata": {
        "id": "PQnc11Ddc40h"
      }
    },
    {
      "cell_type": "code",
      "execution_count": 36,
      "metadata": {
        "id": "p6JowYnQDMMI",
        "colab": {
          "base_uri": "https://localhost:8080/",
          "height": 86
        },
        "outputId": "0c5704c1-53f8-475e-b5a9-e4c4aa665440"
      },
      "outputs": [
        {
          "output_type": "display_data",
          "data": {
            "text/plain": [
              "   Min. 1st Qu.  Median    Mean 3rd Qu.    Max. \n",
              "  31.20   32.70   33.90   36.68   38.85   51.54 "
            ]
          },
          "metadata": {}
        },
        {
          "output_type": "display_data",
          "data": {
            "text/plain": [
              "   Min. 1st Qu.  Median    Mean 3rd Qu.    Max. \n",
              "     81      82      82      83      84      86 "
            ]
          },
          "metadata": {}
        }
      ],
      "source": [
        "# filter(): keep sets of observations\n",
        "chic.f <- dplyr::filter(chicago, (pm25tmean2 > 30) & (tmpd > 80)) # Select all rows where pm25tmean2 > 30 & tmpd > 80\n",
        "\n",
        "summary(chic.f[, 'pm25tmean2'])\n",
        "summary(chic.f[, 'tmpd'])\n",
        "\n",
        "# Same thing with base R...\n",
        "if (FALSE) {\n",
        "  chic.f <- chicago[which(chicago[, 'pm25tmean2'] > 30 & chicago[, 'tmpd'] > 80), ]\n",
        "}"
      ]
    },
    {
      "cell_type": "markdown",
      "source": [
        "`dplyr::arrange` lets you sort a data frame by the values of one or several columns easily"
      ],
      "metadata": {
        "id": "ZcLYaXrKdGVo"
      }
    },
    {
      "cell_type": "code",
      "execution_count": 37,
      "metadata": {
        "id": "lzAI09ulE8fj"
      },
      "outputs": [],
      "source": [
        "# arrange(): sort the observations by some criterion\n",
        "chicago <- dplyr::arrange(chicago, date)  # by date (ascending)\n",
        "chicago <- dplyr::arrange(chicago, desc(date))  # descending\n",
        "\n",
        "# Same thing with base R...\n",
        "if (FALSE) {\n",
        "  chicago <- chicago[order(chicago[, 'date'], decreasing = FALSE), ]\n",
        "  chicago <- chicago[order(chicago[, 'date'], decreasing = TRUE), ]\n",
        "}"
      ]
    },
    {
      "cell_type": "markdown",
      "source": [
        "`dplyr::rename` lets you rename one or several columns easily"
      ],
      "metadata": {
        "id": "0tqmi4DDddOV"
      }
    },
    {
      "cell_type": "code",
      "execution_count": 61,
      "metadata": {
        "id": "_2Bar3rAFcke"
      },
      "outputs": [],
      "source": [
        "# rename(): change column names\n",
        "chicago <- dplyr::rename(chicago, dewpoint = dptp, pm25 = pm25tmean2)  # Some names are obscure\n",
        "\n",
        "# Same thing with base R...\n",
        "if (FALSE) {\n",
        "  colnames(chicago)[colnames(chicago) == 'dptp'] <- 'dewpoint'\n",
        "  colnames(chicago)[colnames(chicago) == 'pm25'] <- 'pm25tmean2'\n",
        "}"
      ]
    },
    {
      "cell_type": "markdown",
      "source": [
        "`dplyr::mutate` lets you create new colums by transforming existing columns easily"
      ],
      "metadata": {
        "id": "A7Q-e4v1dosc"
      }
    },
    {
      "cell_type": "code",
      "execution_count": 39,
      "metadata": {
        "id": "UmR9W60yGPrq"
      },
      "outputs": [],
      "source": [
        "# mutate(): compute transformations of variables\n",
        "chicago <- dplyr::mutate(chicago, pm25detrend = pm25 - mean(pm25, na.rm = TRUE))\n",
        "\n",
        "# Same thing with base R...\n",
        "# (check also base function: with())\n",
        "if (FALSE) {\n",
        "  chicago[, 'pm25detrend'] <- chicago[, 'pm25'] - mean(chicago[, 'pm25'], na.rm = TRUE)\n",
        "  #chicago[, 'pm25detrend'] <- scale(chicago[, 'pm25'], center = TRUE, scale = FALSE)  # Even simpler\n",
        "}"
      ]
    },
    {
      "cell_type": "markdown",
      "source": [
        "`dplyr::group_by` lets you group your rows by some criterion and operate on the groups. It is particularly use with `dplyr::summarize()` that performs reduce operations / gets a summary value of your choice."
      ],
      "metadata": {
        "id": "FIr5mN2_d-9b"
      }
    },
    {
      "cell_type": "code",
      "execution_count": 62,
      "metadata": {
        "id": "GUkHBYC3G7qp",
        "colab": {
          "base_uri": "https://localhost:8080/",
          "height": 492
        },
        "outputId": "90c3e9b4-cab5-4897-b880-80898cc97eed"
      },
      "outputs": [
        {
          "output_type": "display_data",
          "data": {
            "text/html": [
              "<table class=\"dataframe\">\n",
              "<caption>A tibble: 6 × 4</caption>\n",
              "<thead>\n",
              "\t<tr><th scope=col>year</th><th scope=col>yearlypm25</th><th scope=col>o3</th><th scope=col>no2</th></tr>\n",
              "\t<tr><th scope=col>&lt;dbl&gt;</th><th scope=col>&lt;dbl&gt;</th><th scope=col>&lt;dbl&gt;</th><th scope=col>&lt;dbl&gt;</th></tr>\n",
              "</thead>\n",
              "<tbody>\n",
              "\t<tr><td>2000</td><td>16.93806</td><td>55.76103</td><td>23.46082</td></tr>\n",
              "\t<tr><td>2001</td><td>16.92632</td><td>51.81984</td><td>25.06522</td></tr>\n",
              "\t<tr><td>2002</td><td>15.27335</td><td>54.88043</td><td>22.73750</td></tr>\n",
              "\t<tr><td>2003</td><td>15.23183</td><td>56.16608</td><td>24.62500</td></tr>\n",
              "\t<tr><td>2004</td><td>14.62864</td><td>44.48240</td><td>23.39130</td></tr>\n",
              "\t<tr><td>2005</td><td>16.18556</td><td>58.84126</td><td>22.62387</td></tr>\n",
              "</tbody>\n",
              "</table>\n"
            ],
            "text/markdown": "\nA tibble: 6 × 4\n\n| year &lt;dbl&gt; | yearlypm25 &lt;dbl&gt; | o3 &lt;dbl&gt; | no2 &lt;dbl&gt; |\n|---|---|---|---|\n| 2000 | 16.93806 | 55.76103 | 23.46082 |\n| 2001 | 16.92632 | 51.81984 | 25.06522 |\n| 2002 | 15.27335 | 54.88043 | 22.73750 |\n| 2003 | 15.23183 | 56.16608 | 24.62500 |\n| 2004 | 14.62864 | 44.48240 | 23.39130 |\n| 2005 | 16.18556 | 58.84126 | 22.62387 |\n\n",
            "text/latex": "A tibble: 6 × 4\n\\begin{tabular}{llll}\n year & yearlypm25 & o3 & no2\\\\\n <dbl> & <dbl> & <dbl> & <dbl>\\\\\n\\hline\n\t 2000 & 16.93806 & 55.76103 & 23.46082\\\\\n\t 2001 & 16.92632 & 51.81984 & 25.06522\\\\\n\t 2002 & 15.27335 & 54.88043 & 22.73750\\\\\n\t 2003 & 15.23183 & 56.16608 & 24.62500\\\\\n\t 2004 & 14.62864 & 44.48240 & 23.39130\\\\\n\t 2005 & 16.18556 & 58.84126 & 22.62387\\\\\n\\end{tabular}\n",
            "text/plain": [
              "  year yearlypm25 o3       no2     \n",
              "1 2000 16.93806   55.76103 23.46082\n",
              "2 2001 16.92632   51.81984 25.06522\n",
              "3 2002 15.27335   54.88043 22.73750\n",
              "4 2003 15.23183   56.16608 24.62500\n",
              "5 2004 14.62864   44.48240 23.39130\n",
              "6 2005 16.18556   58.84126 22.62387"
            ]
          },
          "metadata": {}
        },
        {
          "output_type": "display_data",
          "data": {
            "text/html": [
              "<table class=\"dataframe\">\n",
              "<caption>A matrix: 6 × 3 of type dbl</caption>\n",
              "<tbody>\n",
              "\t<tr><th scope=row>2000</th><td>16.93806</td><td>55.76103</td><td>23.46082</td></tr>\n",
              "\t<tr><th scope=row>2001</th><td>16.92632</td><td>51.81984</td><td>25.06522</td></tr>\n",
              "\t<tr><th scope=row>2002</th><td>15.27335</td><td>54.88043</td><td>22.73750</td></tr>\n",
              "\t<tr><th scope=row>2003</th><td>15.23183</td><td>56.16608</td><td>24.62500</td></tr>\n",
              "\t<tr><th scope=row>2004</th><td>14.62864</td><td>44.48240</td><td>23.39130</td></tr>\n",
              "\t<tr><th scope=row>2005</th><td>16.18556</td><td>58.84126</td><td>22.62387</td></tr>\n",
              "</tbody>\n",
              "</table>\n"
            ],
            "text/markdown": "\nA matrix: 6 × 3 of type dbl\n\n| 2000 | 16.93806 | 55.76103 | 23.46082 |\n| 2001 | 16.92632 | 51.81984 | 25.06522 |\n| 2002 | 15.27335 | 54.88043 | 22.73750 |\n| 2003 | 15.23183 | 56.16608 | 24.62500 |\n| 2004 | 14.62864 | 44.48240 | 23.39130 |\n| 2005 | 16.18556 | 58.84126 | 22.62387 |\n\n",
            "text/latex": "A matrix: 6 × 3 of type dbl\n\\begin{tabular}{r|lll}\n\t2000 & 16.93806 & 55.76103 & 23.46082\\\\\n\t2001 & 16.92632 & 51.81984 & 25.06522\\\\\n\t2002 & 15.27335 & 54.88043 & 22.73750\\\\\n\t2003 & 15.23183 & 56.16608 & 24.62500\\\\\n\t2004 & 14.62864 & 44.48240 & 23.39130\\\\\n\t2005 & 16.18556 & 58.84126 & 22.62387\\\\\n\\end{tabular}\n",
            "text/plain": [
              "     [,1]     [,2]     [,3]    \n",
              "2000 16.93806 55.76103 23.46082\n",
              "2001 16.92632 51.81984 25.06522\n",
              "2002 15.27335 54.88043 22.73750\n",
              "2003 15.23183 56.16608 24.62500\n",
              "2004 14.62864 44.48240 23.39130\n",
              "2005 16.18556 58.84126 22.62387"
            ]
          },
          "metadata": {}
        }
      ],
      "source": [
        "# For example, we might want to know what the average annual level of PM2.5 is.\n",
        "chicago_new <- mutate(chicago, year = as.POSIXlt(date)$year + 1900 )\n",
        "\n",
        "# group_by() and summarize(): generate summary stats based on strata\n",
        "years <- dplyr::group_by(chicago_new, year)\n",
        "summ <- dplyr::summarize(years, yearlypm25 = mean(pm25, na.rm=TRUE),\n",
        "  o3 = max(o3tmean2, na.rm = TRUE), no2 = median(no2tmean2, na.rm = TRUE))\n",
        "tail(summ)\n",
        "\n",
        "# Same thing with base R...\n",
        "if (TRUE) {\n",
        "  summ2 <- cbind(\n",
        "    tapply(chicago_new[, 'pm25'], chicago_new[, 'year'], mean, na.rm = TRUE),\n",
        "    tapply(chicago_new[, 'o3tmean2'], chicago_new[, 'year'], max, na.rm = TRUE),\n",
        "    tapply(chicago_new[, 'no2tmean2'], chicago_new[, 'year'], median, na.rm = TRUE))\n",
        "  tail(summ2)\n",
        "}"
      ]
    },
    {
      "cell_type": "markdown",
      "metadata": {
        "id": "rNc7mBs2RGb5"
      },
      "source": [
        "You can also do the usual `join` operations using\n",
        "\n",
        "*   `inner_join(df1, df2, by = c('<column_name(s)>'))`\n",
        "*   `outer_join(df1, df2, by = c('<column_name(s)>'))`\n",
        "*   `left_join(df1, df2, by = c('<column_name(s)>'))`\n",
        "*   `right_join(df1, df2, by = c('<column_name(s)>'))`\n",
        "\n",
        "Natively this can be done with the `merge()` function we introduced before."
      ]
    },
    {
      "cell_type": "markdown",
      "metadata": {
        "id": "HSsk-WRLS1wy"
      },
      "source": [
        "Finally a key feature of `dplyr` is the pipeline operator, `%>%`. This operator lets you perform multiple multiple `dplyr` operations in a single statement."
      ]
    },
    {
      "cell_type": "code",
      "execution_count": 41,
      "metadata": {
        "id": "LFxpcjbZTLnV",
        "colab": {
          "base_uri": "https://localhost:8080/",
          "height": 474
        },
        "outputId": "ed7a82c8-b196-461e-f8b3-caa1719303a7"
      },
      "outputs": [
        {
          "output_type": "display_data",
          "data": {
            "text/html": [
              "<table class=\"dataframe\">\n",
              "<caption>A tibble: 12 × 4</caption>\n",
              "<thead>\n",
              "\t<tr><th scope=col>month</th><th scope=col>pm25_max</th><th scope=col>o3_max</th><th scope=col>no2_max</th></tr>\n",
              "\t<tr><th scope=col>&lt;dbl&gt;</th><th scope=col>&lt;dbl&gt;</th><th scope=col>&lt;dbl&gt;</th><th scope=col>&lt;dbl&gt;</th></tr>\n",
              "</thead>\n",
              "<tbody>\n",
              "\t<tr><td> 1</td><td>49.47143</td><td>28.22222</td><td>52.44697</td></tr>\n",
              "\t<tr><td> 2</td><td>61.50000</td><td>37.37500</td><td>57.56439</td></tr>\n",
              "\t<tr><td> 3</td><td>47.73750</td><td>39.05000</td><td>53.89485</td></tr>\n",
              "\t<tr><td> 4</td><td>46.70000</td><td>47.94907</td><td>57.52542</td></tr>\n",
              "\t<tr><td> 5</td><td>56.50000</td><td>52.75000</td><td>51.28535</td></tr>\n",
              "\t<tr><td> 6</td><td>51.53750</td><td>66.58750</td><td>52.20833</td></tr>\n",
              "\t<tr><td> 7</td><td>41.40000</td><td>59.54167</td><td>62.47998</td></tr>\n",
              "\t<tr><td> 8</td><td>44.48750</td><td>53.96701</td><td>55.90522</td></tr>\n",
              "\t<tr><td> 9</td><td>56.50000</td><td>57.48864</td><td>53.13333</td></tr>\n",
              "\t<tr><td>10</td><td>43.60000</td><td>47.09275</td><td>59.51562</td></tr>\n",
              "\t<tr><td>11</td><td>41.70000</td><td>29.45833</td><td>50.00000</td></tr>\n",
              "\t<tr><td>12</td><td>42.30000</td><td>27.70833</td><td>50.28154</td></tr>\n",
              "</tbody>\n",
              "</table>\n"
            ],
            "text/markdown": "\nA tibble: 12 × 4\n\n| month &lt;dbl&gt; | pm25_max &lt;dbl&gt; | o3_max &lt;dbl&gt; | no2_max &lt;dbl&gt; |\n|---|---|---|---|\n|  1 | 49.47143 | 28.22222 | 52.44697 |\n|  2 | 61.50000 | 37.37500 | 57.56439 |\n|  3 | 47.73750 | 39.05000 | 53.89485 |\n|  4 | 46.70000 | 47.94907 | 57.52542 |\n|  5 | 56.50000 | 52.75000 | 51.28535 |\n|  6 | 51.53750 | 66.58750 | 52.20833 |\n|  7 | 41.40000 | 59.54167 | 62.47998 |\n|  8 | 44.48750 | 53.96701 | 55.90522 |\n|  9 | 56.50000 | 57.48864 | 53.13333 |\n| 10 | 43.60000 | 47.09275 | 59.51562 |\n| 11 | 41.70000 | 29.45833 | 50.00000 |\n| 12 | 42.30000 | 27.70833 | 50.28154 |\n\n",
            "text/latex": "A tibble: 12 × 4\n\\begin{tabular}{llll}\n month & pm25\\_max & o3\\_max & no2\\_max\\\\\n <dbl> & <dbl> & <dbl> & <dbl>\\\\\n\\hline\n\t  1 & 49.47143 & 28.22222 & 52.44697\\\\\n\t  2 & 61.50000 & 37.37500 & 57.56439\\\\\n\t  3 & 47.73750 & 39.05000 & 53.89485\\\\\n\t  4 & 46.70000 & 47.94907 & 57.52542\\\\\n\t  5 & 56.50000 & 52.75000 & 51.28535\\\\\n\t  6 & 51.53750 & 66.58750 & 52.20833\\\\\n\t  7 & 41.40000 & 59.54167 & 62.47998\\\\\n\t  8 & 44.48750 & 53.96701 & 55.90522\\\\\n\t  9 & 56.50000 & 57.48864 & 53.13333\\\\\n\t 10 & 43.60000 & 47.09275 & 59.51562\\\\\n\t 11 & 41.70000 & 29.45833 & 50.00000\\\\\n\t 12 & 42.30000 & 27.70833 & 50.28154\\\\\n\\end{tabular}\n",
            "text/plain": [
              "   month pm25_max o3_max   no2_max \n",
              "1   1    49.47143 28.22222 52.44697\n",
              "2   2    61.50000 37.37500 57.56439\n",
              "3   3    47.73750 39.05000 53.89485\n",
              "4   4    46.70000 47.94907 57.52542\n",
              "5   5    56.50000 52.75000 51.28535\n",
              "6   6    51.53750 66.58750 52.20833\n",
              "7   7    41.40000 59.54167 62.47998\n",
              "8   8    44.48750 53.96701 55.90522\n",
              "9   9    56.50000 57.48864 53.13333\n",
              "10 10    43.60000 47.09275 59.51562\n",
              "11 11    41.70000 29.45833 50.00000\n",
              "12 12    42.30000 27.70833 50.28154"
            ]
          },
          "metadata": {}
        }
      ],
      "source": [
        "# Repeat the previous operation by month (with the pipeline)\n",
        "# Structure (L-to-R): result <- first(x) %>% second %>% third\n",
        "summ <- mutate(chicago, month = as.POSIXlt(date)$mon + 1) %>%\n",
        "  group_by(month) %>%\n",
        "  summarize(pm25_max = max(pm25, na.rm = TRUE),\n",
        "    o3_max = max(o3tmean2, na.rm = TRUE),\n",
        "    no2_max = max(no2tmean2, na.rm = TRUE))\n",
        "\n",
        "summ"
      ]
    },
    {
      "cell_type": "markdown",
      "metadata": {
        "id": "V0a8HxOaDv7W"
      },
      "source": [
        "### 11.2 `data.table`\n",
        "\n",
        "This is an alternative library to `dplyr`, and its main advantage is speed. In particular, when doing merges (joins) and when reading data. For small datasets the difference may not be relevant, but this changes quickly whenever you deal with *large* datasets (+100 Mb). `data.table` provides an enhanced version of `data.frame`'s, and is compatible with most base methods that work with data frames. It also has its own `data.table` methods.\n",
        "\n",
        "Check the official [*vignette*](https://cran.r-project.org/web/packages/data.table/vignettes/datatable-intro.html) of `data.table` for an introduction. A complete [cheat sheet](https://raw.githubusercontent.com/rstudio/cheatsheets/master/datatable.pdf) is also available online."
      ]
    },
    {
      "cell_type": "markdown",
      "metadata": {
        "id": "bEFpqv-I1uyG"
      },
      "source": [
        "### 11.3 `ggplot2`\n",
        "\n",
        "`ggplot2` is the `tidyverse` package for plotting. It implements a grammar of graphics, a coherent system for describing and building graphs.\n",
        "\n",
        "The fundamental idea is to treat plots as an object in `R` (namely a `ggplot` object), and to which you can add *layers*, using the simple `+` operator, to make it more complete. This can become particularly helpful for highly complex plots where there are many layers of information, simplifying the amount of code significantly.\n",
        "\n",
        "Tutorials and a helpful cheat sheet can be found at the official site of the package:\n",
        "\n",
        "*   https://ggplot2.tidyverse.org/index.html\n",
        "\n",
        "You start with `ggplot()` that creates an emplty plot, and then supply a dataset and aesthetic mapping with `aes()`. You then add on graphical layers (like `geom_point()` for a scatter plot or `geom_histogram()` for an histogram). A single plot can have multiple `geom` layers. You then adjust scales with functions like `scale_colour_brewer()`, faceting specifications with functions like `facet_wrap()`, or coordinate systems with functions like `coord_flip()`.\n",
        "\n",
        "A very brief example:"
      ]
    },
    {
      "cell_type": "code",
      "execution_count": 42,
      "metadata": {
        "id": "Sfj2vpA0bm5a",
        "colab": {
          "base_uri": "https://localhost:8080/",
          "height": 286
        },
        "outputId": "f77faf94-832e-4d5f-c307-8fa7734093cd"
      },
      "outputs": [
        {
          "output_type": "display_data",
          "data": {
            "text/html": [
              "<table class=\"dataframe\">\n",
              "<caption>A data.frame: 6 × 11</caption>\n",
              "<thead>\n",
              "\t<tr><th></th><th scope=col>mpg</th><th scope=col>cyl</th><th scope=col>disp</th><th scope=col>hp</th><th scope=col>drat</th><th scope=col>wt</th><th scope=col>qsec</th><th scope=col>vs</th><th scope=col>am</th><th scope=col>gear</th><th scope=col>carb</th></tr>\n",
              "\t<tr><th></th><th scope=col>&lt;dbl&gt;</th><th scope=col>&lt;dbl&gt;</th><th scope=col>&lt;dbl&gt;</th><th scope=col>&lt;dbl&gt;</th><th scope=col>&lt;dbl&gt;</th><th scope=col>&lt;dbl&gt;</th><th scope=col>&lt;dbl&gt;</th><th scope=col>&lt;dbl&gt;</th><th scope=col>&lt;dbl&gt;</th><th scope=col>&lt;dbl&gt;</th><th scope=col>&lt;dbl&gt;</th></tr>\n",
              "</thead>\n",
              "<tbody>\n",
              "\t<tr><th scope=row>Mazda RX4</th><td>21.0</td><td>6</td><td>160</td><td>110</td><td>3.90</td><td>2.620</td><td>16.46</td><td>0</td><td>1</td><td>4</td><td>4</td></tr>\n",
              "\t<tr><th scope=row>Mazda RX4 Wag</th><td>21.0</td><td>6</td><td>160</td><td>110</td><td>3.90</td><td>2.875</td><td>17.02</td><td>0</td><td>1</td><td>4</td><td>4</td></tr>\n",
              "\t<tr><th scope=row>Datsun 710</th><td>22.8</td><td>4</td><td>108</td><td> 93</td><td>3.85</td><td>2.320</td><td>18.61</td><td>1</td><td>1</td><td>4</td><td>1</td></tr>\n",
              "\t<tr><th scope=row>Hornet 4 Drive</th><td>21.4</td><td>6</td><td>258</td><td>110</td><td>3.08</td><td>3.215</td><td>19.44</td><td>1</td><td>0</td><td>3</td><td>1</td></tr>\n",
              "\t<tr><th scope=row>Hornet Sportabout</th><td>18.7</td><td>8</td><td>360</td><td>175</td><td>3.15</td><td>3.440</td><td>17.02</td><td>0</td><td>0</td><td>3</td><td>2</td></tr>\n",
              "\t<tr><th scope=row>Valiant</th><td>18.1</td><td>6</td><td>225</td><td>105</td><td>2.76</td><td>3.460</td><td>20.22</td><td>1</td><td>0</td><td>3</td><td>1</td></tr>\n",
              "</tbody>\n",
              "</table>\n"
            ],
            "text/markdown": "\nA data.frame: 6 × 11\n\n| <!--/--> | mpg &lt;dbl&gt; | cyl &lt;dbl&gt; | disp &lt;dbl&gt; | hp &lt;dbl&gt; | drat &lt;dbl&gt; | wt &lt;dbl&gt; | qsec &lt;dbl&gt; | vs &lt;dbl&gt; | am &lt;dbl&gt; | gear &lt;dbl&gt; | carb &lt;dbl&gt; |\n|---|---|---|---|---|---|---|---|---|---|---|---|\n| Mazda RX4 | 21.0 | 6 | 160 | 110 | 3.90 | 2.620 | 16.46 | 0 | 1 | 4 | 4 |\n| Mazda RX4 Wag | 21.0 | 6 | 160 | 110 | 3.90 | 2.875 | 17.02 | 0 | 1 | 4 | 4 |\n| Datsun 710 | 22.8 | 4 | 108 |  93 | 3.85 | 2.320 | 18.61 | 1 | 1 | 4 | 1 |\n| Hornet 4 Drive | 21.4 | 6 | 258 | 110 | 3.08 | 3.215 | 19.44 | 1 | 0 | 3 | 1 |\n| Hornet Sportabout | 18.7 | 8 | 360 | 175 | 3.15 | 3.440 | 17.02 | 0 | 0 | 3 | 2 |\n| Valiant | 18.1 | 6 | 225 | 105 | 2.76 | 3.460 | 20.22 | 1 | 0 | 3 | 1 |\n\n",
            "text/latex": "A data.frame: 6 × 11\n\\begin{tabular}{r|lllllllllll}\n  & mpg & cyl & disp & hp & drat & wt & qsec & vs & am & gear & carb\\\\\n  & <dbl> & <dbl> & <dbl> & <dbl> & <dbl> & <dbl> & <dbl> & <dbl> & <dbl> & <dbl> & <dbl>\\\\\n\\hline\n\tMazda RX4 & 21.0 & 6 & 160 & 110 & 3.90 & 2.620 & 16.46 & 0 & 1 & 4 & 4\\\\\n\tMazda RX4 Wag & 21.0 & 6 & 160 & 110 & 3.90 & 2.875 & 17.02 & 0 & 1 & 4 & 4\\\\\n\tDatsun 710 & 22.8 & 4 & 108 &  93 & 3.85 & 2.320 & 18.61 & 1 & 1 & 4 & 1\\\\\n\tHornet 4 Drive & 21.4 & 6 & 258 & 110 & 3.08 & 3.215 & 19.44 & 1 & 0 & 3 & 1\\\\\n\tHornet Sportabout & 18.7 & 8 & 360 & 175 & 3.15 & 3.440 & 17.02 & 0 & 0 & 3 & 2\\\\\n\tValiant & 18.1 & 6 & 225 & 105 & 2.76 & 3.460 & 20.22 & 1 & 0 & 3 & 1\\\\\n\\end{tabular}\n",
            "text/plain": [
              "                  mpg  cyl disp hp  drat wt    qsec  vs am gear carb\n",
              "Mazda RX4         21.0 6   160  110 3.90 2.620 16.46 0  1  4    4   \n",
              "Mazda RX4 Wag     21.0 6   160  110 3.90 2.875 17.02 0  1  4    4   \n",
              "Datsun 710        22.8 4   108   93 3.85 2.320 18.61 1  1  4    1   \n",
              "Hornet 4 Drive    21.4 6   258  110 3.08 3.215 19.44 1  0  3    1   \n",
              "Hornet Sportabout 18.7 8   360  175 3.15 3.440 17.02 0  0  3    2   \n",
              "Valiant           18.1 6   225  105 2.76 3.460 20.22 1  0  3    1   "
            ]
          },
          "metadata": {}
        }
      ],
      "source": [
        "# Use the \"mtcars\" built-in data\n",
        "head(mtcars)"
      ]
    },
    {
      "cell_type": "code",
      "execution_count": 43,
      "metadata": {
        "id": "pbRRSSajbWXH",
        "colab": {
          "base_uri": "https://localhost:8080/",
          "height": 437
        },
        "outputId": "769679da-b414-4b20-fe22-af4bae992d2c"
      },
      "outputs": [
        {
          "output_type": "display_data",
          "data": {
            "text/plain": [
              "plot without title"
            ],
            "image/png": "[encoded data removed]"
          },
          "metadata": {
            "image/png": {
              "width": 420,
              "height": 420
            }
          }
        }
      ],
      "source": [
        "# We use now colour and size parameters using other features\n",
        "library(ggplot2)\n",
        "ggplot(data = mtcars, aes(x = hp, y = qsec, size = cyl)) +  # variables \"hp\" on x-axis, \"qsec\" on y-axis,\n",
        "  geom_point(aes(col = factor(am))) +  # Color of the dot (Type of car: automatic or manual)\n",
        "  ggtitle('Scatter plot') + ylab('Acceleration') + xlab('Horse Power')"
      ]
    },
    {
      "cell_type": "markdown",
      "source": [
        "The [R Graphics Cookbook](https://r-graphics.org/) by Winston Chang offers ready-to-use recipes to quickly plot with `ggplot2`."
      ],
      "metadata": {
        "id": "sBG_IkxxkS-K"
      }
    },
    {
      "cell_type": "markdown",
      "metadata": {
        "id": "rq_yW9HvbTnG"
      },
      "source": [
        "Another popular plotting packahe is [`plotly`](https://plotly.com/r/). It is a cross-platform graphic interface that can deal with complex and interactive plotting needs. It is quite similar in spirit to `ggplot2`."
      ]
    },
    {
      "cell_type": "markdown",
      "metadata": {
        "id": "kAim-02a1yPo"
      },
      "source": [
        "### 11.4 `shiny`\n",
        "\n",
        "This is a propular package to create interactive webpages with `R`. The idea is to code all visual elements of a webpage that is centered around visualizing and interacting with some data that runs in `R` on the back. It is fairly simple and intuitive to use and implement, and produces outstanding results in a minimal amount of development time.\n",
        "\n",
        "A proper introduction to `shiny` is well beyond the scope of this course, but the official tutorials are excellent to get you going:\n",
        "\n",
        "*   https://shiny.rstudio.com/tutorial/\n",
        "\n",
        "Have a look at the [gallery](https://shiny.rstudio.com/gallery/) to see what you can do with this and spark your creativity.\n"
      ]
    },
    {
      "cell_type": "markdown",
      "metadata": {
        "id": "k3QsbI4MBe9O"
      },
      "source": [
        "---\n",
        "## 12. Notes on relevant topics\n",
        "\n",
        "We introduce some specific topics that can be dealt with in `R`."
      ]
    },
    {
      "cell_type": "markdown",
      "metadata": {
        "id": "N_7dDG2S1gWT"
      },
      "source": [
        "### 12.1 Working with time and dates\n",
        "\n",
        "Dates are another type of object in `R`, which you can be operated on like other objects. They are of class `Date` (dates), `POSIXt` (dates and times) and `POSIXct` (dates and times with a time zone) -- you can use `is.` and `as.` operations on them."
      ]
    },
    {
      "cell_type": "code",
      "execution_count": 44,
      "metadata": {
        "id": "IWFLPt-0_OHG",
        "colab": {
          "base_uri": "https://localhost:8080/",
          "height": 69
        },
        "outputId": "b6503ac3-137e-48e2-87f1-4d86802ae801"
      },
      "outputs": [
        {
          "output_type": "stream",
          "name": "stdout",
          "text": [
            "[1] \"2023-06-24 15:37:20 UTC\"\n"
          ]
        },
        {
          "output_type": "display_data",
          "data": {
            "text/html": [
              "<style>\n",
              ".list-inline {list-style: none; margin:0; padding: 0}\n",
              ".list-inline>li {display: inline-block}\n",
              ".list-inline>li:not(:last-child)::after {content: \"\\00b7\"; padding: 0 .5ex}\n",
              "</style>\n",
              "<ol class=list-inline><li>'POSIXct'</li><li>'POSIXt'</li></ol>\n"
            ],
            "text/markdown": "1. 'POSIXct'\n2. 'POSIXt'\n\n\n",
            "text/latex": "\\begin{enumerate*}\n\\item 'POSIXct'\n\\item 'POSIXt'\n\\end{enumerate*}\n",
            "text/plain": [
              "[1] \"POSIXct\" \"POSIXt\" "
            ]
          },
          "metadata": {}
        },
        {
          "output_type": "display_data",
          "data": {
            "text/plain": [
              "[1] \"2022-01-04 15:00:00 UTC\""
            ]
          },
          "metadata": {}
        }
      ],
      "source": [
        "# Time registered in the computed\n",
        "today <- Sys.Date()  # Current time (class: Date)\n",
        "now <- Sys.time()  # Current time\n",
        "print(now)\n",
        "class(now)\n",
        "\n",
        "# Convert string to date and time format (look at how format is indicated!)\n",
        "date1 <- strptime('2022-01-04 15:00:00', format = '%Y-%m-%d %H:%M:%S')\n",
        "date2 <- strptime('2022-01-03 14:00:00', format = '%Y-%m-%d %H:%M:%S', tz = 'GMT')  # Add a time zone\n",
        "date3 <- as.Date('2022-01-04', format = '%Y-%m-%d')  # If you only have date (no time)\n",
        "\n",
        "# You can also create a POSICt object by giving all the individual data and time values to the function ISOdatatime\n",
        "ISOdatetime(year = 2022, month = 01, day = 04, hour = 15, min = 0, sec = 0)"
      ]
    },
    {
      "cell_type": "code",
      "execution_count": 45,
      "metadata": {
        "id": "4CkvjWQEArYD",
        "colab": {
          "base_uri": "https://localhost:8080/",
          "height": 52
        },
        "outputId": "8ff36725-aed7-4a5d-b631-5c3c05160453"
      },
      "outputs": [
        {
          "output_type": "stream",
          "name": "stdout",
          "text": [
            " POSIXct[1:1], format: \"2022-01-04 15:00:00\"\n"
          ]
        },
        {
          "output_type": "display_data",
          "data": {
            "text/html": [
              "1641308400"
            ],
            "text/markdown": "1641308400",
            "text/latex": "1641308400",
            "text/plain": [
              "[1] 1641308400\n",
              "attr(,\"tzone\")\n",
              "[1] \"\""
            ]
          },
          "metadata": {}
        }
      ],
      "source": [
        "# You can also coerce to \"POSIXct\" like in other classes\n",
        "date1 <- as.POSIXct('2022-01-04 15:00', format = '%Y-%m-%d %H:%M')\n",
        "str(date1)\n",
        "unclass(date1)  # it is subsettable!"
      ]
    },
    {
      "cell_type": "code",
      "execution_count": 46,
      "metadata": {
        "id": "blfC6b-FEnDM",
        "colab": {
          "base_uri": "https://localhost:8080/",
          "height": 121
        },
        "outputId": "f91ae42b-4601-4022-d523-2195592a766a"
      },
      "outputs": [
        {
          "output_type": "display_data",
          "data": {
            "text/plain": [
              "Time difference of 19532.65 days"
            ]
          },
          "metadata": {}
        },
        {
          "output_type": "display_data",
          "data": {
            "text/html": [
              "'June'"
            ],
            "text/markdown": "'June'",
            "text/latex": "'June'",
            "text/plain": [
              "[1] \"June\""
            ]
          },
          "metadata": {}
        },
        {
          "output_type": "display_data",
          "data": {
            "text/html": [
              "'Q2'"
            ],
            "text/markdown": "'Q2'",
            "text/latex": "'Q2'",
            "text/plain": [
              "[1] \"Q2\""
            ]
          },
          "metadata": {}
        },
        {
          "output_type": "display_data",
          "data": {
            "text/html": [
              "'Saturday'"
            ],
            "text/markdown": "'Saturday'",
            "text/latex": "'Saturday'",
            "text/plain": [
              "[1] \"Saturday\""
            ]
          },
          "metadata": {}
        },
        {
          "output_type": "display_data",
          "data": {
            "text/html": [
              "<style>\n",
              ".list-inline {list-style: none; margin:0; padding: 0}\n",
              ".list-inline>li {display: inline-block}\n",
              ".list-inline>li:not(:last-child)::after {content: \"\\00b7\"; padding: 0 .5ex}\n",
              "</style>\n",
              "<ol class=list-inline><li><time datetime=\"2017-01-04\">2017-01-04</time></li><li><time datetime=\"2018-01-04\">2018-01-04</time></li><li><time datetime=\"2019-01-04\">2019-01-04</time></li><li><time datetime=\"2020-01-04\">2020-01-04</time></li><li><time datetime=\"2021-01-04\">2021-01-04</time></li><li><time datetime=\"2022-01-04\">2022-01-04</time></li></ol>\n"
            ],
            "text/markdown": "1. 2017-01-04\n2. 2018-01-04\n3. 2019-01-04\n4. 2020-01-04\n5. 2021-01-04\n6. 2022-01-04\n\n\n",
            "text/latex": "\\begin{enumerate*}\n\\item 2017-01-04\n\\item 2018-01-04\n\\item 2019-01-04\n\\item 2020-01-04\n\\item 2021-01-04\n\\item 2022-01-04\n\\end{enumerate*}\n",
            "text/plain": [
              "[1] \"2017-01-04\" \"2018-01-04\" \"2019-01-04\" \"2020-01-04\" \"2021-01-04\"\n",
              "[6] \"2022-01-04\""
            ]
          },
          "metadata": {}
        },
        {
          "output_type": "display_data",
          "data": {
            "text/html": [
              "'15:00:00'"
            ],
            "text/markdown": "'15:00:00'",
            "text/latex": "'15:00:00'",
            "text/plain": [
              "[1] \"15:00:00\""
            ]
          },
          "metadata": {}
        }
      ],
      "source": [
        "# Some information encoded in a time object\n",
        "julian(now)  # Julian time\n",
        "months(now)\n",
        "quarters(now)\n",
        "weekdays(now)\n",
        "seq.Date(from = as.Date('2017-01-04'),\n",
        "  to = as.Date('2022-01-04'),\n",
        "  by = \"year\")  # Sequence of dates\n",
        "\n",
        "# You can format it the way you need\n",
        "format(date1, format = '%H:%M:%S')\n",
        "# There is a large number of formats: type \"?strptime\" to discover all abbreviations"
      ]
    },
    {
      "cell_type": "code",
      "execution_count": 47,
      "metadata": {
        "id": "lOaT7BM4FBkF",
        "colab": {
          "base_uri": "https://localhost:8080/",
          "height": 104
        },
        "outputId": "b6b6ced8-de24-4b49-9077-935615f6ec35"
      },
      "outputs": [
        {
          "output_type": "display_data",
          "data": {
            "text/plain": [
              "Time difference of 1.041667 days"
            ]
          },
          "metadata": {}
        },
        {
          "output_type": "display_data",
          "data": {
            "text/plain": [
              "Time difference of 1.041667 days"
            ]
          },
          "metadata": {}
        },
        {
          "output_type": "display_data",
          "data": {
            "text/plain": [
              "[1] \"2022-01-04 15:00:01 UTC\""
            ]
          },
          "metadata": {}
        },
        {
          "output_type": "display_data",
          "data": {
            "text/html": [
              "TRUE"
            ],
            "text/markdown": "TRUE",
            "text/latex": "TRUE",
            "text/plain": [
              "[1] TRUE"
            ]
          },
          "metadata": {}
        },
        {
          "output_type": "display_data",
          "data": {
            "text/html": [
              "<time datetime=\"2020-12-15\">2020-12-15</time>"
            ],
            "text/markdown": "2020-12-15",
            "text/latex": "2020-12-15",
            "text/plain": [
              "[1] \"2020-12-15\""
            ]
          },
          "metadata": {}
        }
      ],
      "source": [
        "# Time difference between to time objects\n",
        "difftime(date1, date2)\n",
        "\n",
        "# In fact, you can operate with time objects as if they were numeric\n",
        "date1 - date2  # Same\n",
        "date1 + 1  # Units are seconds\n",
        "date1 > date2\n",
        "\n",
        "# Count days from a date\n",
        "as.Date(7654, origin = \"2000-01-01\")"
      ]
    },
    {
      "cell_type": "markdown",
      "metadata": {
        "id": "GKGArPE17mSJ"
      },
      "source": [
        "Here we have only provided basic and native ways to deal with time objects in `R`. I recommend you have a look at the `lubridate` package for more advanced programming with dates and times. A link to the *cheat sheet*:\n",
        "\n",
        "*  https://rawgit.com/rstudio/cheatsheets/main/lubridate.pdf\n"
      ]
    },
    {
      "cell_type": "markdown",
      "metadata": {
        "id": "jwhBtbMj1hT_"
      },
      "source": [
        "### 12.2 Web scrapping and `html` parsing\n",
        "\n",
        "This basically consists on reading web pages from `R` and processing the information that the `html` contains. There are no base methods capable of dealing adequately with this task, thus for such purpose a popular package is `rvest`.\n",
        "\n",
        "To illustrate this, we will try to access weather forecast data for Manhattan, NY from the website of the U.S. [National Weather Service](https://forecast.weather.gov), and lay out the weather forecast we retrieve on a simple table."
      ]
    },
    {
      "cell_type": "code",
      "execution_count": 63,
      "metadata": {
        "id": "xkUH2YyjLFf2"
      },
      "outputs": [],
      "source": [
        "library(rvest)  # To access and read HTML\n",
        "\n",
        "# URL containing weather forecast in Manhattan, NY\n",
        "wurl <- 'https://forecast.weather.gov/MapClick.php?lat=40.7145&lon=-74.006#.YcSmhB3OGNY'\n",
        "html <- rvest::read_html(wurl)  # Read the HTML of the webpage"
      ]
    },
    {
      "cell_type": "code",
      "execution_count": 64,
      "metadata": {
        "id": "mf5ff7IUNTWj",
        "colab": {
          "base_uri": "https://localhost:8080/",
          "height": 191
        },
        "outputId": "47ba3d50-6a30-446a-d05e-f7f611bde275"
      },
      "outputs": [
        {
          "output_type": "display_data",
          "data": {
            "text/plain": [
              "{xml_nodeset (9)}\n",
              "[1] <p class=\"temp temp-high\">High: 78 °F</p>\n",
              "[2] <p class=\"temp temp-low\">Low: 70 °F</p>\n",
              "[3] <p class=\"temp temp-high\">High: 81 °F</p>\n",
              "[4] <p class=\"temp temp-low\">Low: 71 °F</p>\n",
              "[5] <p class=\"temp temp-high\">High: 79 °F</p>\n",
              "[6] <p class=\"temp temp-low\">Low: 70 °F</p>\n",
              "[7] <p class=\"temp temp-high\">High: 76 °F</p>\n",
              "[8] <p class=\"temp temp-low\">Low: 69 °F</p>\n",
              "[9] <p class=\"temp temp-high\">High: 77 °F</p>"
            ]
          },
          "metadata": {}
        }
      ],
      "source": [
        "# Parse the nodes in the HTML\n",
        "nodes <- rvest::html_nodes(html, \".temp\")\n",
        "nodes"
      ]
    },
    {
      "cell_type": "code",
      "execution_count": 65,
      "metadata": {
        "id": "a-bZBZeLPbO1"
      },
      "outputs": [],
      "source": [
        "# Extract the text from each node\n",
        "node.txt <- sapply(nodes, rvest::html_text)"
      ]
    },
    {
      "cell_type": "code",
      "execution_count": 66,
      "metadata": {
        "id": "H9n9BH8TP2ki",
        "colab": {
          "base_uri": "https://localhost:8080/",
          "height": 195
        },
        "outputId": "6dbaa928-fee1-43c5-b628-90f7bca0c33f"
      },
      "outputs": [
        {
          "output_type": "display_data",
          "data": {
            "text/html": [
              "<table class=\"dataframe\">\n",
              "<caption>A matrix: 4 × 2 of type dbl</caption>\n",
              "<tbody>\n",
              "\t<tr><td>78</td><td>70</td></tr>\n",
              "\t<tr><td>81</td><td>71</td></tr>\n",
              "\t<tr><td>79</td><td>70</td></tr>\n",
              "\t<tr><td>76</td><td>69</td></tr>\n",
              "</tbody>\n",
              "</table>\n"
            ],
            "text/markdown": "\nA matrix: 4 × 2 of type dbl\n\n| 78 | 70 |\n| 81 | 71 |\n| 79 | 70 |\n| 76 | 69 |\n\n",
            "text/latex": "A matrix: 4 × 2 of type dbl\n\\begin{tabular}{ll}\n\t 78 & 70\\\\\n\t 81 & 71\\\\\n\t 79 & 70\\\\\n\t 76 & 69\\\\\n\\end{tabular}\n",
            "text/plain": [
              "     [,1] [,2]\n",
              "[1,] 78   70  \n",
              "[2,] 81   71  \n",
              "[3,] 79   70  \n",
              "[4,] 76   69  "
            ]
          },
          "metadata": {}
        }
      ],
      "source": [
        "# Extract numerical values\n",
        "nums <- readr::parse_number(node.txt)\n",
        "n <- length(nums) - 1  # Ignore the last element\n",
        "forecasts <- cbind(nums[seq(1, n, 2)], nums[seq(2, n, 2)])\n",
        "forecasts"
      ]
    },
    {
      "cell_type": "code",
      "execution_count": 67,
      "metadata": {
        "id": "03eF7SJSRdVv",
        "colab": {
          "base_uri": "https://localhost:8080/",
          "height": 192
        },
        "outputId": "bf3e6f2f-dd2a-4f1e-c754-a5d18f438510"
      },
      "outputs": [
        {
          "output_type": "display_data",
          "data": {
            "text/html": [
              "<table class=\"dataframe\">\n",
              "<caption>A matrix: 4 × 2 of type dbl</caption>\n",
              "<thead>\n",
              "\t<tr><th></th><th scope=col>High</th><th scope=col>low</th></tr>\n",
              "</thead>\n",
              "<tbody>\n",
              "\t<tr><th scope=row>2022-01-04</th><td>78</td><td>70</td></tr>\n",
              "\t<tr><th scope=row>2022-01-05</th><td>81</td><td>71</td></tr>\n",
              "\t<tr><th scope=row>2022-01-06</th><td>79</td><td>70</td></tr>\n",
              "\t<tr><th scope=row>2022-01-07</th><td>76</td><td>69</td></tr>\n",
              "</tbody>\n",
              "</table>\n"
            ],
            "text/markdown": "\nA matrix: 4 × 2 of type dbl\n\n| <!--/--> | High | low |\n|---|---|---|\n| 2022-01-04 | 78 | 70 |\n| 2022-01-05 | 81 | 71 |\n| 2022-01-06 | 79 | 70 |\n| 2022-01-07 | 76 | 69 |\n\n",
            "text/latex": "A matrix: 4 × 2 of type dbl\n\\begin{tabular}{r|ll}\n  & High & low\\\\\n\\hline\n\t2022-01-04 & 78 & 70\\\\\n\t2022-01-05 & 81 & 71\\\\\n\t2022-01-06 & 79 & 70\\\\\n\t2022-01-07 & 76 & 69\\\\\n\\end{tabular}\n",
            "text/plain": [
              "           High low\n",
              "2022-01-04 78   70 \n",
              "2022-01-05 81   71 \n",
              "2022-01-06 79   70 \n",
              "2022-01-07 76   69 "
            ]
          },
          "metadata": {}
        }
      ],
      "source": [
        "# Make it pretty\n",
        "colnames(forecasts) <- c('High', 'low')\n",
        "rownames(forecasts) <- as.character(seq.Date(\n",
        "  from = as.Date('2022-01-04'),\n",
        "  to = as.Date('2022-01-07'),\n",
        "  by = \"day\"))\n",
        "forecasts  # Remember you can save this object as an R Data file"
      ]
    },
    {
      "cell_type": "markdown",
      "metadata": {
        "id": "2a7fmYYWRhTA"
      },
      "source": [
        "This is an extremely simple example, but there are uncountable things you can do with `html` data. I recommend you go deeper into what `rvest` can do if this is something you are interested in.\n",
        "\n",
        "One last **disclaimer:** web scrapping on certain scales may not be allowed depending on the site, or even not completely legal under some jurisdictions, especially if you use what you gather with commercial purposes. Many sites provide what's called a [`robots.txt`](https://developers.google.com/search/docs/advanced/robots/intro) file that tells you what you are allowed to do with data you collect from their website."
      ]
    },
    {
      "cell_type": "markdown",
      "metadata": {
        "id": "G6gqdB7GZn-0"
      },
      "source": [
        "**Kudos for reaching the end!**"
      ]
    }
  ],
  "metadata": {
    "colab": {
      "provenance": [],
      "toc_visible": true
    },
    "kernelspec": {
      "display_name": "R",
      "language": "R",
      "name": "ir"
    },
    "language_info": {
      "codemirror_mode": "r",
      "file_extension": ".r",
      "mimetype": "text/x-r-source",
      "name": "R",
      "pygments_lexer": "r",
      "version": "3.6.1"
    }
  },
  "nbformat": 4,
  "nbformat_minor": 0
}