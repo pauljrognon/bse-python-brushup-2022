{
 "cells": [
  {
   "cell_type": "markdown",
   "metadata": {
    "id": "FVgm8I6b9p3j"
   },
   "source": [
    "# Session 1\n",
    "\n",
    "By **Paul Rognon & Miquel Torrens i Dinarès**\n",
    "\n",
    "*Barcelona School of Economics* – \n",
    "*Data Science Center*\n",
    "\n",
    "March 16th, 2023"
   ]
  },
  {
   "cell_type": "markdown",
   "metadata": {
    "id": "nO8q98LH9mkk"
   },
   "source": [
    "## Getting started\n",
    "\n",
    "### What is R?\n",
    "\n",
    "R refers to both:\n",
    "- A programming language.\n",
    "- A program (it runs on a computer). The program's purpose is to interpret the language and convert it into instructions for a computer.\n",
    "(Like Python)\n",
    "\n",
    "Current release of R is version 4.2.2.\n",
    "\n",
    "R does have a graphical interface: [R-GUI console](https://cran.r-project.org/). In R-GUI you can submit R language commands one by one.\n",
    "\n",
    "Most of the time you will want to submit a series of commands (your code) and thus you will write a *script* with extension `.R`. For example you could write the following script and save it with extension `.R`:\n",
    "```\n",
    "message <- \"Hello World!\"\n",
    "print(message)\n",
    "```\n",
    "Then to execute your script, open the GUI and run `source('path to your .R file')`.\n",
    "\n",
    "You can write a script with any basic text editor. However it is more convenient to use an IDE (integrated development environment). The most popular IDE for R is [RStudio](https://posit.co/products/open-source/rstudio/). Shortly, RStudio is an interface with four quadrants: one for editing a script, one displaying the commands run and their printed output (the console), one showing the objects in the environment, one that displays the working directory, plots, packages and help. [Here](https://rladiessydney.org/courses/ryouwithme/01-basicbasics-1/) is a tour of RStudio. Note that RStudio now supports Python programming too.\n",
    "\n",
    "### R in Jupyter Notebooks and Google Colab\n",
    "\n",
    "You can run R code in Jupyter notebooks. You can do it through the Jupyter Notebook application, see this [guide](https://docs.anaconda.com/navigator/tutorials/r-lang/).\n",
    "\n",
    "Google Colab can also run Jupyter notebooks with R code. To create a R notebook in Colab, enter this [link](https://colab.research.google.com/notebook#create=true&language=r). If you go to `Runtime`>`Change runtime type`, you will see the Runtime type is now set to 'R'.\n",
    "\n",
    "## 1. The R Environment\n",
    "\n",
    "* Complete user manual: https://cran.r-project.org/doc/manuals/r-release/R-lang.html.\n",
    "* As a beginner, I recommend to start coding your scripts using [RStudio](https://posit.co/products/open-source/rstudio/).\n",
    "* As you gain experience and deal with more demanding projects, you can work directly on the (current release: `R 4.2.2`), or even on the Terminal"
   ]
  },
  {
   "cell_type": "markdown",
   "metadata": {
    "id": "zkc7Hm-OURVc"
   },
   "source": [
    "### 1.1 Introduction\n",
    "\n",
    "When you open an `R` session, a **console** is displayed, which is where all operations in `R` are run. This is built on an `R` environment that we will call the **workspace**. This is the playing field that will contain everything needed to run your code.\n",
    "\n",
    "In an `R` workspace there are objects that can store data or functions but also operators... For example: we can create a vector `x` and use the function `mean`."
   ]
  },
  {
   "cell_type": "code",
   "execution_count": 1,
   "metadata": {
    "id": "RXN_-b9x5kKC"
   },
   "outputs": [
    {
     "data": {
      "text/html": [
       "5"
      ],
      "text/latex": [
       "5"
      ],
      "text/markdown": [
       "5"
      ],
      "text/plain": [
       "[1] 5"
      ]
     },
     "metadata": {},
     "output_type": "display_data"
    }
   ],
   "source": [
    "x <- 0:10  # This defines a numeric vector \"x\" with integers from 0 to 10\n",
    "mean(x)  # This computes the mean of the vector"
   ]
  },
  {
   "cell_type": "markdown",
   "metadata": {
    "id": "J7YeNbYL-Xi_"
   },
   "source": [
    "Here we displayed an object storing values, an operator, and a function. To create an object, we used an operator of assignment `<-` (right-to-left), and we called a function on this object by placing it inside brackets, the object is then taken as an *argument* of the function. We also showed how to comment your code: use `#` to let `R` know it should not run the rest of the line."
   ]
  },
  {
   "cell_type": "markdown",
   "metadata": {
    "id": "ntVaezMLGKBy"
   },
   "source": [
    "Functions can have more than one argument. Arguments let you to control on what and how the function should be run."
   ]
  },
  {
   "cell_type": "code",
   "execution_count": null,
   "metadata": {
    "id": "Txvcmv65O9F8"
   },
   "outputs": [],
   "source": [
    "pi  # This is a special object built into R\n",
    "round(pi)  # This functions rounds a number to any decimal point (by default, 0)\n",
    "round(pi, digits = 1)  # The argument \"digits\" controls the number of decimals\n",
    "round(pi, digits = 4)"
   ]
  },
  {
   "cell_type": "markdown",
   "metadata": {},
   "source": [
    "Some functions do not require arguments. For example, you can explore the objects in your workspace using"
   ]
  },
  {
   "cell_type": "code",
   "execution_count": null,
   "metadata": {
    "id": "4gsIrkr--W8k"
   },
   "outputs": [],
   "source": [
    "ls()"
   ]
  },
  {
   "cell_type": "markdown",
   "metadata": {
    "id": "8WapugRKP5dS"
   },
   "source": [
    "You can know which arguments are admitted by each function, alongside with a detailed function description, by using the `help()` function, or by typing in an `?` in front of the name of the function:"
   ]
  },
  {
   "cell_type": "code",
   "execution_count": null,
   "metadata": {
    "id": "YK0HYT8zP9JF"
   },
   "outputs": [],
   "source": [
    "?mean"
   ]
  },
  {
   "cell_type": "markdown",
   "metadata": {
    "id": "NEW1Juw2AlDf"
   },
   "source": [
    "`R` has a wide array of general functions and operators embedded natively that allow you to do pretty much anything basic. Those functions not readily available that you might require for specific purposes will need to be either (a) installed and loaded from external packages, or (b) coded by you.\n",
    "\n",
    "Objects storing data can be manually coded from scratch or generated by importing data, either numeric, in text, or any other format (maps, JSON, SQL, etc.)."
   ]
  },
  {
   "cell_type": "markdown",
   "metadata": {
    "id": "4D6bsbX3FT1g"
   },
   "source": [
    "Finally, don't forget to exit your `R` session once your job is done! Do that using the quit function"
   ]
  },
  {
   "cell_type": "code",
   "execution_count": null,
   "metadata": {
    "id": "A1dGtbsCFNK1"
   },
   "outputs": [],
   "source": [
    "q()"
   ]
  },
  {
   "cell_type": "markdown",
   "metadata": {
    "id": "OtEJHHSmEp00"
   },
   "source": [
    "Use the command `rm(list = ls())` instead if you don't want to leave the session but want to remove every object in it. The `rm()` function will remove what's inside its parenthesis from the workspace, but use it with caution."
   ]
  },
  {
   "cell_type": "markdown",
   "metadata": {
    "id": "oN9glXDbQfZi"
   },
   "source": [
    "### 1.2 General rules to programming (with `R`)\n",
    "\n",
    "1. **Reproducibility** is everything: so you and others can keep track of your analysis, it is important to conserve your code. Develop and save your code in an `R` script (file with extension `.R`) or a notebook (Jupyter Notebook `.ipynb`, R markdown `.rmd`). Commands submitted to the console are **NOT** saved.\n",
    "2. Make your code as **robust** as possible: be conservative and write safe code, taking all possibilities into account. Being lazy today will cause problems tomorrow.\n",
    "2. **Comment your code thoroughly** and clarify everything, someone else might read it and needs to know what's happening (even yourself in the future)\n",
    "3. Follow a **style guide** and do it **consistently**: spacing, indenting, format..., just like you do writing natural language. Hadley Wickham, a leading developper of R solutions, published his own [style guide](http://adv-r.had.co.nz/Style.html). It's an example that you can tweak to make it your own: just stick to the basics, stay consistent and write as if it were to be read. Remember: **clean code = happy programmer**."
   ]
  },
  {
   "cell_type": "markdown",
   "metadata": {
    "id": "fJsTPPStEKjr"
   },
   "source": [
    "---\n",
    "## 2. Input/Output\n"
   ]
  },
  {
   "cell_type": "markdown",
   "metadata": {
    "id": "9cbkwHfuRgKR"
   },
   "source": [
    "### 2.1 Importing functions (libraries)\n",
    "\n",
    "*Libraries* (a.k.a. *packages*) are bundles of functions generally related to one particular topic. For example, the `xtable` package includes a set of functions to convert a table into $\\LaTeX$ readable format.\n",
    "\n",
    "In `R`, packages need to be installed prior to its use and then loaded into the workspace."
   ]
  },
  {
   "cell_type": "code",
   "execution_count": null,
   "metadata": {
    "id": "AG9YdjeVZbLj"
   },
   "outputs": [],
   "source": [
    "# Install the required package (use single or double quotation marks)\n",
    "install.packages('xtable')\n",
    "\n",
    "# Load it into your workspace\n",
    "library(xtable)  # Option 1\n",
    "require(xtable)  # Option 2"
   ]
  },
  {
   "cell_type": "markdown",
   "metadata": {
    "id": "ppZykh6BZlEl"
   },
   "source": [
    "In effects, `library()` and `require()` do the same: import every function from the package into your workspace -- the only practical difference is that if the loaded package is not available, `library` will crash, while `require` just returns a warning."
   ]
  },
  {
   "cell_type": "code",
   "execution_count": null,
   "metadata": {
    "id": "jvSlJ8WXay4e"
   },
   "outputs": [],
   "source": [
    "# The following command will give an error\n",
    "require(mombf)\n",
    "library(mombf)"
   ]
  },
  {
   "cell_type": "markdown",
   "metadata": {
    "id": "HpW8roioa16C"
   },
   "source": [
    "There are two ways to call a function from an installed package:"
   ]
  },
  {
   "cell_type": "code",
   "execution_count": null,
   "metadata": {
    "id": "EREEMAh9UOty"
   },
   "outputs": [],
   "source": [
    "data1 <- matrix(1:9, ncol = 3, nrow = 3)\n",
    "data2 <- xtable(data1)  # NOT recommended\n",
    "data2 <- xtable::xtable(data1)  # RECOMMENDED (double colon)\n",
    "print(data1)\n",
    "print(data2)"
   ]
  },
  {
   "cell_type": "markdown",
   "metadata": {
    "id": "2rEPnDmtLy7P"
   },
   "source": [
    "I would recommend that you use **only** the essential libraries you need for your task. Since packages are generally coded by other users, they might\n",
    "* change over time (affecting the time-consistency of the code)\n",
    "* be more prone to errors (smaller critical mass to properly test them)\n",
    "* be *sui generis* with respect to `R`'s proper code structure (susceptible to transient trends)\n",
    "* cause cross-platform trouble and run into replication problems.\n",
    "\n",
    "In summary, if you can do the same thing using only base packages (with reasonable effort), it's much safer to avoid imports in the long run. In the case you need to use an external package, keep it simple and go for the most robust choice, avoid obscure packages and functions that you don't rely on 100%.\n",
    "\n",
    "There is an officious list of `R` \"approved\" packages in the *Comprehensive R Archive Network* (CRAN). This is no definitive guarantee that a package is rock solid, but at least the packages featured in CRAN have been checked on functional criteria and satisfy a set of quality standards."
   ]
  },
  {
   "cell_type": "markdown",
   "metadata": {
    "id": "dFgSAb2kREcQ"
   },
   "source": [
    "### 2.2 Importing and exporting external data\n",
    "\n",
    "Here we detail the process of importing and exporting data into an `R` session. Some popular native functions:\n",
    "\n",
    "```\n",
    "read.table()  # General function\n",
    "read.csv()  # Import data from a CSV\n",
    "read.csv2()  # CSV when \",\" is decimal point and a \";\" is field separator\n",
    "read.txt()  # Import from TXT file\n",
    "read.fwf()  # Read fixed width format files\n",
    "readLines()  # Import lines of text\n",
    "download.file()  # To download a data file from a URL\n",
    "```\n",
    "\n",
    "You need to supply the file path to these functions to load the data itself.\n",
    "\n",
    "The library of functions foreign will help you to read a number of different other data formats. Most commercial softwares have their own reading methods. For example, to import from Excel you need the function read_excel() in the readxl package. The haven package contains functions to read output files from other popular dinosaur softwares such as Stata, SPSS or SAS. If you use RStudio, some of these imports are automatised in the tab *Import dataset*.\n",
    "\n"
   ]
  },
  {
   "cell_type": "markdown",
   "metadata": {
    "id": "LaNI0m3fDLq5"
   },
   "source": [
    "Similarly to the reading functions, there are equivalent writing functions to save your output into non-`R` generic formats: `write.csv()`,  `write.table()`, or `writeLines()`."
   ]
  },
  {
   "cell_type": "markdown",
   "metadata": {
    "id": "8Ha4MnE-dipM"
   },
   "source": [
    "### 2.3 Importing and exporting R files\n",
    "\n",
    "Sometimes you will want to save an object created in `R` to an external file. There are two natural formats to produce `R` outputs: `.RData` or `.rda` (more than one object can be stored), and `.rds` (only one object)."
   ]
  },
  {
   "cell_type": "code",
   "execution_count": null,
   "metadata": {
    "id": "0g9XsVdKdjfF"
   },
   "outputs": [],
   "source": [
    "# Write an object on an external file (.RData, rda, rds)\n",
    "save(data1, file = 'data1.RData')  # .RData or .rda\n",
    "saveRDS(data2, file = 'data2.rds')  # .rds\n",
    "save.image(file = 'workspace.RData')  # This saves the entire workspace"
   ]
  },
  {
   "cell_type": "markdown",
   "metadata": {
    "id": "qXgNRPd5geOT"
   },
   "source": [
    "Similarly, you might want to read a file produced in `R`. an `.RData`, again two ways to load them:"
   ]
  },
  {
   "cell_type": "code",
   "execution_count": null,
   "metadata": {
    "id": "GFjvZjtNf2nu"
   },
   "outputs": [],
   "source": [
    "rm(data1, data2)  # Remove objects in the workspace to prove this works\n",
    "load('data1.RData')  # This loads into workspace with the name it was saved with\n",
    "data2 <- readRDS('data2.rds')  # This needs an assigment\n",
    "data1 <- get(load('data1.RData'))  # This is even safer, to control the names of what you're loading\n",
    "print(data1)\n",
    "print(data2)"
   ]
  },
  {
   "cell_type": "markdown",
   "metadata": {
    "id": "r8I8LATCgm0O"
   },
   "source": [
    "You can actually run an `R` script itself by supplying the command `source()` with the `.R` file path."
   ]
  },
  {
   "cell_type": "markdown",
   "metadata": {
    "id": "1ep9MlzU38Pr"
   },
   "source": [
    "Other relevant self-explanatory functions for file management (outside of your workspace):\n",
    "\n",
    "```\n",
    "dir.create()\n",
    "file.create()\n",
    "file.rename()\n",
    "file.copy()\n",
    "file.remove()\n",
    "file.exists()\n",
    "file.info()\n",
    "```\n",
    "\n"
   ]
  },
  {
   "cell_type": "markdown",
   "metadata": {
    "id": "OrmUKuJc452B"
   },
   "source": [
    "---\n",
    "## 3. Objects and object classes\n",
    "\n",
    "The **class** of an object determines (a) its structure and (b) what/how functions can be applied to it."
   ]
  },
  {
   "cell_type": "markdown",
   "metadata": {
    "id": "bmalr6RWkSmh"
   },
   "source": [
    "### 3.1 Common object classes"
   ]
  },
  {
   "cell_type": "markdown",
   "metadata": {
    "id": "Yt8L78Sr-knT"
   },
   "source": [
    "Here we summarise some of the most common object classes:\n",
    "\n",
    "1. Vectors: essentially three types (but not only)\n",
    "\n",
    "  a. `numeric` (float or double) and `integer`\n",
    "\n",
    "    The difference between them is integers use no decimal points and so are less demanding in terms of memory.\n",
    "\n",
    "  b. `character` and `factor`\n",
    "  \n",
    "    Factors are characters that can only take a specific set of values (known as `levels`), as in a categorical variable.\n",
    "\n",
    "  c. `logical`\n",
    "  \n",
    "    *Booleans*, they can only be `TRUE` or `FALSE`.\n",
    "\n",
    "2. `list`\n",
    "\n",
    "    They allow you to have different objects (maybe of different class) in one single objects, using *slots*, having one object in each slot.\n",
    "\n",
    "3. `data.frame`\n",
    "\n",
    "    Rectangular data structure similar to a matrix, with rows and columns, where each column can be of a different type.\n",
    "  \n",
    "4. `matrix` and `array`\n",
    "\n",
    "    Matrices are similar to a `data.frame`; they are less flexible (all its elements have to be of the same class) but computations with matrices are more efficient (fast). `array`s are a generalisation of a matrix (they can potentially have more dimensions).\n"
   ]
  },
  {
   "cell_type": "code",
   "execution_count": null,
   "metadata": {
    "id": "L3PUZv2JF_Xq"
   },
   "outputs": [],
   "source": [
    "# Types of vectors\n",
    "# [c() creates a vector: it is a function to concatenate elements]\n",
    "x1 <- c(1.4, 2.3, 3.2, 4.1)  # numeric\n",
    "x2 <- c(1L, 2L, 3L, 4L)  # integer\n",
    "x3 <- c('A', 'B', 'C', 'A')  # character\n",
    "x4 <- factor(c('A', 'B', 'C', 'A'))  # declare it as factor with levels \"A\", \"B\" and \"C\"\n",
    "x5 <- c(TRUE, FALSE, TRUE, FALSE)  # logical\n",
    "\n",
    "# The \"class\" function tells you what class an object is\n",
    "class(x1)  # To obtain a boolean, try: is.numeric(x1)\n",
    "class(x2)  # Try: is.integer(x2)\n",
    "class(x3)  # Try: is.character(x3)\n",
    "class(x4)  # Try: is.factor(x4)\n",
    "class(x5)  # Try: is.logical(x5)"
   ]
  },
  {
   "cell_type": "markdown",
   "metadata": {
    "id": "-B5cWldBfhnE"
   },
   "source": [
    "Some classes can be *coerced* into other classes: for example a numeric vector can be coerced into a character vector, and vice versa if the elements of the vector are digits. But numeric vectors cannot be coerced into logical. Use the functions\n",
    "- `as.numeric()`,\n",
    "- `as.integer()`,\n",
    "- `as.character()`,\n",
    "- `as.factor()`,\n",
    "- `as.logical()`,\n",
    "\n",
    "to convert objects into other classes.\n",
    "\n",
    "If some class is not coercible into another, you may be able to use a coercible middle class to do the trick. For example, if `x` is a factor with values in 1, 2, 3, you may coerce it into numeric using"
   ]
  },
  {
   "cell_type": "code",
   "execution_count": null,
   "metadata": {
    "id": "eBr8nOdAhJpL"
   },
   "outputs": [],
   "source": [
    "x <- as.factor(c(4:6, 6:4))  # x is a factor\n",
    "cat('* Class of \"x\":', class(x), '\\n')\n",
    "print(x)  # This will print the levels\n",
    "\n",
    "# Factors are not coercible to numeric\n",
    "y <- as.numeric(x)\n",
    "print(y)  # WRONG result\n",
    "\n",
    "# Use character as a translator\n",
    "z <- as.numeric(as.character(x))  # factor -> character -> numeric\n",
    "cat('* Class of \"z\":', class(z), '\\n')\n",
    "print(z)"
   ]
  },
  {
   "cell_type": "markdown",
   "metadata": {
    "id": "moZCgAovi2fW"
   },
   "source": [
    "As for the rest of object classes, here's how to create them:"
   ]
  },
  {
   "cell_type": "code",
   "execution_count": null,
   "metadata": {
    "id": "hJ_408O-JH5P"
   },
   "outputs": [],
   "source": [
    "# Create a list\n",
    "a <- list('a' = x, 'b' = z) # with two \"slots\", with names \"a\" and \"b\"\n",
    "print(a)\n",
    "\n",
    "# Create a data.frame\n",
    "b <- data.frame('col1' = x, 'col2' = y, 'col3' = z)\n",
    "print(b)\n",
    "\n",
    "# Create a matrix\n",
    "m <- matrix(1:12, ncol = 3)\n",
    "print(m)"
   ]
  },
  {
   "cell_type": "markdown",
   "metadata": {
    "id": "Q12iP6JTIpHu"
   },
   "source": [
    "These classes are coercible as well, using `as.list()`, `as.data.frame()`, and `as.matrix()`, but **BE CAREFUL** in any type of class coercion, and always inspect the coerced object to make sure the result is in the correct desired format.\n",
    "\n",
    "In more advanced levels you will encounter more classes that stem from this basic set, and more complex, such as [`S4` objects](http://adv-r.had.co.nz/S4.html). You will also learn to create your own classes."
   ]
  },
  {
   "cell_type": "markdown",
   "metadata": {
    "id": "vpw6a8TJrvf-"
   },
   "source": [
    "### 3.2 Functions applicable to a class\n",
    "\n",
    "Functions are applied to specific classes. For example, the function `mean()` can be applied to an object of class `numeric`, but applying it to an object of class `character` or `factor` would generate an error in your workspace:"
   ]
  },
  {
   "cell_type": "code",
   "execution_count": null,
   "metadata": {
    "id": "3BRt1YgwtOhG"
   },
   "outputs": [],
   "source": [
    "x1 <- c(1, 7, 4, 8, 6, 0)\n",
    "x2 <- as.factor(c('a', 'c', 'd', 'b', 'b', 'd'))\n",
    "print(mean(x1))  # OK\n",
    "print(mean(x2))  # Can't do it"
   ]
  },
  {
   "cell_type": "markdown",
   "metadata": {
    "id": "4RZLkSyBtygj"
   },
   "source": [
    "**Note:** characters require quotation marks, otherwise it would be as if you were creating a vector with objects `a`, `b`, `c` and `d`, which do not exist. Recall that in `R` single (`'`) and double (`\"`) quotation marks are equivalent.\n",
    "\n",
    "Other functions are applicable to both classes, but mind you they might produce different types of output:"
   ]
  },
  {
   "cell_type": "code",
   "execution_count": null,
   "metadata": {
    "id": "lD77LkBQtG6s"
   },
   "outputs": [],
   "source": [
    "cat('* Summary of object \"x1\"\\n')\n",
    "summary(x1)\n",
    "cat('* Summary of object \"x2\"\\n')\n",
    "summary(x2)"
   ]
  },
  {
   "cell_type": "markdown",
   "metadata": {
    "id": "9pMx-rKTu4hU"
   },
   "source": [
    "You can find out if a function is usable on your object class with the function `methods()`, which will display all classes that a given (native) function can handle:"
   ]
  },
  {
   "cell_type": "code",
   "execution_count": null,
   "metadata": {
    "id": "Korr627TvEsc"
   },
   "outputs": [],
   "source": [
    "methods(summary)"
   ]
  },
  {
   "cell_type": "markdown",
   "metadata": {
    "id": "BPuurT0xosRM"
   },
   "source": [
    "### 3.3 Quick object inspection"
   ]
  },
  {
   "cell_type": "markdown",
   "metadata": {
    "id": "T02e0klVxvRy"
   },
   "source": [
    "Sometimes we have an object of a given class that you want to inspect."
   ]
  },
  {
   "cell_type": "code",
   "execution_count": null,
   "metadata": {
    "id": "EAtJfo8yx6MQ"
   },
   "outputs": [],
   "source": [
    "set.seed(666)  # This functions \"controls\" the random\n",
    "x <- rnorm(10000, mean = 0, sd = 1)  # 10K random values from a standard normal\n",
    "y <- list(A = 1:100, B = letters[1:22], C = rnorm(10), D = c(TRUE, TRUE, FALSE))\n",
    "z <- data.frame(col1 = 1:100, col2 = 101:200, col3 = 201:300)\n",
    "w <- as.matrix(z)\n",
    "\n",
    "cat('* Structure of object \"x\"\\n')\n",
    "str(x)  # This functions provides the structure of the object\n",
    "cat('* Structure of object \"y\"\\n')\n",
    "str(y)\n",
    "cat('* Structure of object \"z\"\\n')\n",
    "str(z)"
   ]
  },
  {
   "cell_type": "markdown",
   "metadata": {
    "id": "sNrLU8hVozYn"
   },
   "source": [
    "The function `summary` above applies to most classes, and some other quick-look functions are also useful."
   ]
  },
  {
   "cell_type": "code",
   "execution_count": null,
   "metadata": {
    "id": "KgaOuMT7whE1"
   },
   "outputs": [],
   "source": [
    "x <- round(x, 4)  # For display purposes\n",
    "\n",
    "head(x)  # Provide first values\n",
    "head(x, n = 10)\n",
    "tail(x)  # Provide last values\n",
    "x[1]\n",
    "x[7287]  # Provide value no. 7,287\n",
    "x[10001]  # Returns NA: element 10K+1 doesn't exist"
   ]
  },
  {
   "cell_type": "markdown",
   "metadata": {
    "id": "uc6FWAV40Gu-"
   },
   "source": [
    "Note that indexing in `R` is as in natural language: it starts at `1` (Python is at `0`).\n",
    "\n",
    "Different classes have different attributes that can be inspected:\n"
   ]
  },
  {
   "cell_type": "code",
   "execution_count": null,
   "metadata": {
    "id": "Pj8RLKZ01Kah"
   },
   "outputs": [],
   "source": [
    "# Matrices and data.frames have dimensions and they have names\n",
    "dim(z)  # Dimension\n",
    "nrow(z)  # No. of rows\n",
    "ncol(z)  # No. of columns\n",
    "colnames(z)  # Names of the columns\n",
    "head(rownames(z))  # Names of the rows\n",
    "rownames(z) <- paste('row', 1:nrow(z), sep = '')  # All these can be changed\n",
    "head(rownames(z))"
   ]
  },
  {
   "cell_type": "code",
   "execution_count": null,
   "metadata": {
    "id": "VNpMZfGrHFBa"
   },
   "outputs": [],
   "source": [
    "# Lists can also have names but no dimension (they have length)\n",
    "names(y)\n",
    "length(y)"
   ]
  },
  {
   "cell_type": "code",
   "execution_count": null,
   "metadata": {
    "id": "SeYMIQpkHHZf"
   },
   "outputs": [],
   "source": [
    "# So do vectors\n",
    "names(x)  # This vector has no names, but they can be assigned\n",
    "length(x)\n",
    "names(x) <- paste('val', 1:length(x), sep = '')\n",
    "head(names(x))"
   ]
  },
  {
   "cell_type": "code",
   "execution_count": null,
   "metadata": {
    "id": "pbGOmB92HInN"
   },
   "outputs": [],
   "source": [
    "# For non-continuous vectors, this is a really useful function\n",
    "v <- c('A', 'B', 'A', 'C', 'C', 'A', 'A', 'B', 'C')\n",
    "table(v)  # Absolute frequencies (VERY USEFUL function)"
   ]
  },
  {
   "cell_type": "markdown",
   "metadata": {
    "id": "wd1s0I432Swu"
   },
   "source": [
    "and different operators to access its elements"
   ]
  },
  {
   "cell_type": "code",
   "execution_count": null,
   "metadata": {
    "id": "wLDRnV0KHR7W"
   },
   "outputs": [],
   "source": [
    "# Lists: double parenthesis (index or name)\n",
    "y[[1]]  # First element of the list is a vector\n",
    "y[[1]] <- y[[1]][1:10]  # Lets shorten it: keep first ten values (reassignment)\n",
    "y[[1]]  # Repeat: now shorter vector\n",
    "y[['A']]  # same result\n",
    "y$A  # same, but NOT recommended: \"partial matching\" can cause errors"
   ]
  },
  {
   "cell_type": "code",
   "execution_count": null,
   "metadata": {
    "id": "J4g-FaeIHUBG"
   },
   "outputs": [],
   "source": [
    "# Why not use the \"$\" operator? Let's see what can happen\n",
    "names(y) <- c('Abcd', 'Defg', 'Hijk', 'Lmno')  # Let's set new names\n",
    "y[['A']]  # NA (well-done!): a slot named \"A\" does not exist\n",
    "y$A  # Returns an element, WRONG: I call for 'A' and it gives me something with a different name"
   ]
  },
  {
   "cell_type": "code",
   "execution_count": null,
   "metadata": {
    "id": "FtHMETPjHVgf"
   },
   "outputs": [],
   "source": [
    "# data.frames and matrices: ROWS before *comma*, COLUMNS after\n",
    "head(z[, 1])  # column 1\n",
    "head(z[1, ])  # row 1\n",
    "head(z[1, 1])  # element 1 in column 1\n",
    "head(z[, 'col1'])\n",
    "head(z['row1', ])"
   ]
  },
  {
   "cell_type": "code",
   "execution_count": null,
   "metadata": {
    "id": "C2myoUtK2T_-"
   },
   "outputs": [],
   "source": [
    "# Vectors: single parenthesis (access either by index or by name)\n",
    "x[1]\n",
    "x['val1']  # same\n",
    "x[-1]  # negative indices used to drop elements: all elements except the first\n",
    "x[-(1:5)]  # return every element except those in 1 to 5\n",
    "x[11:20][7]  # you can \"double\" subsets: return element 7 from the set 11 to 20"
   ]
  },
  {
   "cell_type": "code",
   "execution_count": null,
   "metadata": {
    "id": "6-_cvkx_HX4h"
   },
   "outputs": [],
   "source": [
    "# Operator \"$\" works also for data.frames, but not for matrices\n",
    "head(z$col1)  # In data.frame: NOT recommended\n",
    "try(head(w$col1))  # In matrix: ERROR (we introduce \"try()\" later on)\n",
    "\n",
    "colnames(z) <- c('Abcd', 'Defg', 'Hijk')  # Same exercise: partial matching\n",
    "head(z[, 'A'])  # ERROR: good!\n",
    "head(z$A)  # Again: it gives you something you're not asking for"
   ]
  },
  {
   "cell_type": "markdown",
   "metadata": {
    "id": "G9zgb-1v0sR-"
   },
   "source": [
    "Generally, avoid the use of the `$` operator: it's shorter code but more prone to errors (code of lower quality and robustness), especially in lists and `data.frame`'s. Instead, use either indexing or (if named) full quotation."
   ]
  },
  {
   "cell_type": "markdown",
   "metadata": {
    "id": "oLjxvmSqo12f"
   },
   "source": [
    "---\n",
    "## 4. Operators"
   ]
  },
  {
   "cell_type": "markdown",
   "metadata": {
    "id": "CwMWyAL9o49K"
   },
   "source": [
    "Operators are functions in the form of symbols to perform specific mathematical or logical computations. We provide a list of the native `R` operators with an example:"
   ]
  },
  {
   "cell_type": "markdown",
   "metadata": {
    "id": "c36iyh1m-v_e"
   },
   "source": [
    "### 4.1 Basic operators"
   ]
  },
  {
   "cell_type": "markdown",
   "metadata": {
    "id": "dpElV0aqfji5"
   },
   "source": [
    "*   **Arithmetic** operators"
   ]
  },
  {
   "cell_type": "code",
   "execution_count": null,
   "metadata": {
    "id": "PFkHjU2p1AjS"
   },
   "outputs": [],
   "source": [
    "# Numeric and integer vectors\n",
    "3 + 1  # addition\n",
    "3 - 1  # subtraction\n",
    "5 * 2  # multiplication\n",
    "5 / 2  # division\n",
    "5 %% 2  # remainder\n",
    "5 %/% 2  # quotient\n",
    "2 ** 3  # exponentiation, also: 2^3\n",
    "exp(1)  # e^1 = 2.718282... (NOT an operator)\n",
    "\n",
    "# Matrix operators\n",
    "A <- matrix(1:9, ncol = 3)\n",
    "B <- matrix(10:18, ncol = 3)\n",
    "A * B  # elementwise multiplication (!)\n",
    "A %*% B  # matrix multiplication\n",
    "A %o% B  # outer product"
   ]
  },
  {
   "cell_type": "markdown",
   "metadata": {
    "id": "6arLGI1e2t2A"
   },
   "source": [
    "*   **Relational** operators (returning a boolean)"
   ]
  },
  {
   "cell_type": "code",
   "execution_count": null,
   "metadata": {
    "id": "uDd_mKIg3-VB"
   },
   "outputs": [],
   "source": [
    "7 > 2  # bigger than\n",
    "7 < 2  # smaller than\n",
    "7 >= 2  # bigger or equal than\n",
    "7 <= 2  # smaller or equal than\n",
    "7 == 2  # equal to\n",
    "7 != 2  # different than"
   ]
  },
  {
   "cell_type": "markdown",
   "metadata": {
    "id": "aQFbk47A237G"
   },
   "source": [
    "*   **Logical** operators (test if a statement is true)"
   ]
  },
  {
   "cell_type": "code",
   "execution_count": null,
   "metadata": {
    "id": "ZP1dh82H3Asw"
   },
   "outputs": [],
   "source": [
    "(7 > 2) & (3 > 4)  # AND\n",
    "(7 > 2) | (3 > 4)  # OR\n",
    "! (7 > 2)  # NOT\n",
    "xor(7 > 2, 3 > 4)  # AND/OR (not an operator)"
   ]
  },
  {
   "cell_type": "markdown",
   "metadata": {
    "id": "uuHduECL5Oid"
   },
   "source": [
    "If the elements to which we apply a logical operator are vectors (of the same length), the operator will return a logical vector comparing the two input vectors elementwise: you can use double `AND` or `OR` to inspect only the first element: `x && y`, or `x || y`."
   ]
  },
  {
   "cell_type": "markdown",
   "metadata": {
    "id": "rHTXUZLEffB7"
   },
   "source": [
    "*   **Miscellaneous** operators"
   ]
  },
  {
   "cell_type": "code",
   "execution_count": null,
   "metadata": {
    "id": "-UsGZmc76PBm"
   },
   "outputs": [],
   "source": [
    "2:8  # Integer sequence of 2 to 8\n",
    "7 %in% 2:8  # Is an element inside of a vector"
   ]
  },
  {
   "cell_type": "markdown",
   "metadata": {
    "id": "-HDmp_Fr9ztV"
   },
   "source": [
    "Some other basic operators are already covered in other sections, like the help operator (`?`), component/slot extraction (`$` and `@`), indexing (`[` and `[[`), formula (`~`) and library access (`::` or `:::`)."
   ]
  },
  {
   "cell_type": "markdown",
   "metadata": {
    "id": "jxR5KndhfcL-"
   },
   "source": [
    "*   **Assignment** operators: we cover them in the next subsection."
   ]
  },
  {
   "cell_type": "markdown",
   "metadata": {
    "id": "hh9FnoUm1Jwv"
   },
   "source": [
    "Like in every language, operators in `R` have *precedence*, i.e. in the same expression some operators are applied before others. Think of math: in an equation we multiply before we add, thus in the expression `x <- 1 + 3 * 4` gives 13 instead of 16, i.e. `*` has precedence over `+`. There is a precedence order for all operators in `R`: explore the precedence list using the command `?Syntax`."
   ]
  },
  {
   "cell_type": "markdown",
   "metadata": {
    "id": "-4tcuu1rQtav"
   },
   "source": [
    "### 4.2 Assignment\n",
    "\n",
    "In `R`, objects can be created, re-written and removed without restrictions. Once an object is declared, the expression we are assigning to it is evaluated. The standard method of assigment is the use of the operator `<-`, even though there are other options. We illustrate the most common ones:"
   ]
  },
  {
   "cell_type": "code",
   "execution_count": null,
   "metadata": {
    "id": "lQwjitPcQ-Ms"
   },
   "outputs": [],
   "source": [
    "# Vector\n",
    "rm(x)  # Remove the object from the workspace\n",
    "x <- c(1, 7, 4, 8, 6, 0)\n",
    "\n",
    "# Here the expression \"mean(x)\" will be evaluated 4 times\n",
    "x1 <- mean(x)  # Good :-)\n",
    "x2 = mean(x)  # NOT good: \"=\" is *not* an assigment operator\n",
    "x3 <<- mean(x)  # Used only in functions to declare an object in a superior environment\n",
    "assign('x4', mean(x))  # Good: useful when the object has an \"unknown\" name\n",
    "mean(x) -> x5  # Good, but standard is to assign right to left (same with ->>)\n",
    "\n",
    "# Test if the four objects were assigned correctly\n",
    "identical(x1, x2, x3, x4, x5)  # It returns TRUE if the objects are equal"
   ]
  },
  {
   "cell_type": "markdown",
   "metadata": {
    "id": "GzPe2n7vqNH1"
   },
   "source": [
    "For more advanced assignment methods, I recommend you also check the functions `get()`, `with()`, and `within()`.\n",
    "\n",
    "Multiple assignments require multiple operators:"
   ]
  },
  {
   "cell_type": "code",
   "execution_count": null,
   "metadata": {
    "id": "jwOyrq6mJ9rm"
   },
   "outputs": [],
   "source": [
    "obj1 <- obj2 <- 1:5\n",
    "#obj1, obj2 <- 1:5  # NOT POSSIBLE"
   ]
  },
  {
   "cell_type": "markdown",
   "metadata": {
    "id": "Qy8qW14KRCl2"
   },
   "source": [
    "**(!) NOTE** – Although technically you can assign an expression using the `=` symbol, `=` is not formally an assignment operator in `R`, and its use is designed for functions. That's why it is **not** recommended despite widespread misuse. In short, refrain from assignment use."
   ]
  },
  {
   "cell_type": "markdown",
   "metadata": {
    "id": "t_kwBMjbzSoE"
   },
   "source": [
    "### 4.3 Reserved words\n",
    "\n",
    "There are certain reserved words in `R` (keywords) that cannot be assigned or over-written since they are essential built-in elements. We list the most important, words for:\n",
    "\n",
    "*   Booleans: `TRUE`, `FALSE`.\n",
    "*   Iterables: `if`, `else` (`if`-statements), `for`, `in`, `next` (`for`-loops), `while`, `break`, `repeat` (`while`-loops).\n",
    "*   Functions: `function`, `...`.\n",
    "*   Particular values: `NA`, `NULL`, `NaN`, `Inf`.\n",
    "\n",
    "We review most of them later on.\n",
    "\n",
    "Still, even if the rest functions in `R` can be over-written (stuff like `mean <- 3` is factually perpetrable), refrain from doing it."
   ]
  },
  {
   "cell_type": "markdown",
   "metadata": {
    "id": "8E6XKl5y_RHy"
   },
   "source": [
    "---\n",
    "## 5. Functions\n",
    "\n",
    "Functions are often used to encapsulate a sequence of expressions that need to be executed numerous times, with some explicitly specified set of parameters or *arguments* that give it flexibility. Functions are stored in the `R` environment like any other object, in this case with class `function`."
   ]
  },
  {
   "cell_type": "markdown",
   "metadata": {
    "id": "QRmsljaBAMt0"
   },
   "source": [
    "### 5.1 Coding functions"
   ]
  },
  {
   "cell_type": "markdown",
   "metadata": {
    "id": "U90PYA3c-Ugg"
   },
   "source": [
    "Coding functions in `R` is fairly simple. You only need three basic things: the `function` function, the list of inputs (if any) it requires, and the `return` function to output your desired object (if any). "
   ]
  },
  {
   "cell_type": "code",
   "execution_count": null,
   "metadata": {
    "id": "ItgzmSoymPcs"
   },
   "outputs": [],
   "source": [
    "# Define function to compute the mean of numeric vector\n",
    "average <- function(x) {  # input \"arguments\" inside parenthesis,\n",
    "  n <- length(x)          # commands of the function inside \"{\" and \"}\"\n",
    "  avg <- sum(x) / n\n",
    "  return(avg)  # \"return\" assigns the outcome to \"average\"\n",
    "}\n",
    "\n",
    "# Use it\n",
    "avg1 <- mean(1:10)\n",
    "avg2 <- average(1:10)  # Here you call your first function\n",
    "identical(avg1, avg2)  # They should be the same"
   ]
  },
  {
   "cell_type": "code",
   "execution_count": null,
   "metadata": {
    "id": "_A1Ig34U9sm8"
   },
   "outputs": [],
   "source": [
    "# Function to compute the squared of the mean\n",
    "mean.sq <- function(x, ...) {  # \"...\" indicates: pass any other arguments to function below\n",
    "  out <- mean(x, ...)  # \"...\" reads other arguments passed that apply to \"mean\"\n",
    "  return(out)  # \"return\" assigns the outcome to \"average\"\n",
    "}\n",
    "\n",
    "# Use it\n",
    "avgsq <- mean.sq(1:10, na.rm = TRUE)  # \"na.rm\" is an argument of inside function \"mean\""
   ]
  },
  {
   "cell_type": "code",
   "execution_count": null,
   "metadata": {
    "id": "BZlJXMAc9SsF"
   },
   "outputs": [],
   "source": [
    "# Function to compute the mode\n",
    "the.mode <- function(x, print.it = TRUE) {  # Some arguments can have a default value\n",
    "  freqs <- sort(table(x), decreasing = TRUE)  # Nested function\n",
    "  value <- names(freqs)[1]\n",
    "  if (print.it == TRUE) {\n",
    "    cat('The mode is:', value, '\\n')\n",
    "  }\n",
    "  return(value)\n",
    "}\n",
    "\n",
    "# Compute this functions\n",
    "(mode1 <- the.mode(c(2, 2, 3, 4, 4, 4, 1)))  # parenthesis around a call makes R print the output\n",
    "(mode2 <- the.mode(c(2, 2, 3, 4, 4, 4, 1), print.it = FALSE))  # change default\n",
    "(mode3 <- the.mode(c('A', 'D', 'B', 'B', 'C')))"
   ]
  },
  {
   "cell_type": "code",
   "execution_count": null,
   "metadata": {
    "id": "FACq6zcP9wYc"
   },
   "outputs": [],
   "source": [
    "# You can create a function calling to other functions of yours\n",
    "mean.and.mode <- function(x, y) {  # Multiple arguments\n",
    "  obj1 <- average(x)\n",
    "  obj2 <- the.mode(y)\n",
    "  return(list(mean = obj1, mode = obj2))\n",
    "  #return(c(obj1, obj2))  # More simple alternative: return a vector\n",
    "}\n",
    "\n",
    "# Use it\n",
    "mean.and.mode(1:10, c(2, 2, 3, 4, 4, 4, 1))  # Assigning is not mandatory"
   ]
  },
  {
   "cell_type": "code",
   "execution_count": null,
   "metadata": {
    "id": "l8nTkzvs9xik"
   },
   "outputs": [],
   "source": [
    "# Arguments and outputs are not even mandatory for a function\n",
    "hello.world <- function() {  # Keep the parenthesis though!\n",
    "  cat('Hello world! My coding teacher is awesome.\\n')\n",
    "}\n",
    "\n",
    "# Not a very helpful function\n",
    "hello.world()"
   ]
  },
  {
   "cell_type": "markdown",
   "metadata": {
    "id": "REYMd48elirV"
   },
   "source": [
    "By default, if no `return()` function is used, a function will return the last expression evaluated (although this is not recommended praxis).\n",
    "\n",
    "**Important: what happens in a function stays in the function.** Keep in mind that functions have their own *environment*: everything inside `{` and `}` occurs on a separate environment *inferior* to the global one. This means that once you're **inside** the function, what exists in the \"superior\" environment (the workspace you're in) is known, but the objects created therein live in that separate space and are not poured onto the superior global environment, unless you explicitely tell them to (as one does using `return`, or *double* assignment `<<-`)."
   ]
  },
  {
   "cell_type": "markdown",
   "metadata": {
    "id": "yVGLRGoZAT7U"
   },
   "source": [
    "### 5.2 The `apply` family of functions"
   ]
  },
  {
   "cell_type": "markdown",
   "metadata": {
    "id": "UhMCK5ZvChzH"
   },
   "source": [
    "Sometimes you will encounter situations in which you want to apply a function repeatedly to elements of an object without using expensive loops. The set of `apply` functions are efficient and elegant ways to do that. There are more `apply`-type of functions, but here we present the four more common ones\n",
    "\n",
    "*   `apply`: used to iterate over the dimensions of a `data.frame` or `matrix` or larger `array`-type objects, the simplest case being to apply a function on each row/column\n",
    "*   `lapply`: uses `apply` on `list`-type objects, and also outputs a `list`\n",
    "*   `tapply`: summarises a vector by groups defined by another vector, i.e. say you want the group-mean of variable `x`, where in one column you have the value of `x` and the group they belong to in another\n",
    "*   `sapply`: uses `apply` on sets of vector-type objects, returning a vector\n",
    "\n",
    "Check out other functions like `vapply` (similar to `sapply`), `mapply` (for multiple parallel data structures), `mcapply` (multi-core), `mclapply` (multi-core `lapply` from the `parallel` package).\n"
   ]
  },
  {
   "cell_type": "code",
   "execution_count": null,
   "metadata": {
    "id": "0lkjT_7RH419"
   },
   "outputs": [],
   "source": [
    "df1 <- data.frame(x = 1:10, y = 11:20, z = -10:-1)\n",
    "df2 <- data.frame(x = 1:10, group = c(rep('A', 5), rep('B', 5)))\n",
    "df3 <- data.frame(x = c('a', 'b', 'c', 'a'), y = c('e', 'e', 'f', 'f'))\n",
    "l1 <- list(A = 1:10, B = 11:20, C = -10:-1)\n",
    "\n",
    "# On the columns of df: find the max of each\n",
    "apply(df1, 2, max)  # \"2\" is the dimension: in this case is columns (1 = rows)\n",
    "                    # order of arguments: object, dimension, function to apply\n",
    "# Check out also \"sweep()\": same syntax, used to \"sweep out\" a summary statistic\n",
    "\n",
    "# Same operation but now the vectors are elements of a list\n",
    "lapply(l1, max)  # output object is a list (here you need no dimension)\n",
    "\n",
    "# Compute the mean of \"x\" as a function of \"group\"\n",
    "tapply(df2[, 'x'], df2[, 'group'], mean)\n",
    "\n",
    "# Similar to \"apply\" but directly on a set of vectors\n",
    "sapply(df1, class)\n",
    "\n",
    "# Check how many unique elements are in each column\n",
    "apply(df3, 2, function(x) { length(unique(x)) })  # This is an \"anonymous\" function! It is never defined"
   ]
  },
  {
   "cell_type": "markdown",
   "metadata": {
    "id": "sti1npb-Hp_G"
   },
   "source": [
    "The `apply` family of functions are formally *functionals*: functions that take another function as an argument. They are very important and frequently used in `R`, and can become quite complex quickly. I recommend the following link to Hadley Wickham's book if you wish to go deeper on the set of `apply` functions: http://adv-r.had.co.nz/Functionals.html."
   ]
  },
  {
   "cell_type": "markdown",
   "metadata": {
    "id": "rr70cUvrAHvJ"
   },
   "source": [
    "### 5.4 Useful miscellaneous functions\n",
    "\n",
    "Here I introduce a few generic functions that are very helpful but are employed in many contexts and are not explicitely introduced anywhere else in this course."
   ]
  },
  {
   "cell_type": "code",
   "execution_count": null,
   "metadata": {
    "id": "EWdGCnOD2K0g"
   },
   "outputs": [],
   "source": [
    "# Replication of elements\n",
    "x <- rep(1:3, 2)  # replicate 1:3 two times\n",
    "print(x)\n",
    "\n",
    "unique(x)  # Returns unique elements in x\n",
    "duplicated(x)  # Returns logical stating whether elements have been found before\n",
    "rev(x)  # Return elements in x in reverse"
   ]
  },
  {
   "cell_type": "code",
   "execution_count": null,
   "metadata": {
    "id": "aDtfTPXE34D_"
   },
   "outputs": [],
   "source": [
    "x <- seq(0, 1, 0.1)  # Return a sequence from 0 to 1, with distance between elements of 0.1\n",
    "y <- seq(-1e3, 1e3, 1e2)  # From -10^3 to 10^3 every 10^2\n",
    "format(y, scientific = TRUE)  # This is a very flexible function with various uses\n",
    "format(y, scientific = FALSE)"
   ]
  },
  {
   "cell_type": "code",
   "execution_count": null,
   "metadata": {
    "id": "hSPjiVLU5PhV"
   },
   "outputs": [],
   "source": [
    "# Subdivision of vectors\n",
    "x <- 1:5\n",
    "y <- 3:7\n",
    "z <- as.factor(c(rep('A', 3), rep('B', 2)))  # Declare character as factor\n",
    "\n",
    "intersect(x, y)  # Returns intersection set of elements in x and y\n",
    "union(x, y)  # Returns union set of elements in x or y\n",
    "setdiff(x, y)  # Returns elements in x not in y\n",
    "\n",
    "split(x, z)  # group elements in x as a function of a factor z\n",
    "cut(x, breaks = 2)  # divides elements in x into \"breaks\" number of groups"
   ]
  },
  {
   "cell_type": "code",
   "execution_count": null,
   "metadata": {
    "id": "sMHMzVYm2G6-"
   },
   "outputs": [],
   "source": [
    "# Basic checks of numeric elements\n",
    "x <- 10.3\n",
    "is.na(x)  # logical on wehter x is NA\n",
    "is.finite(x)  # logical on wehter x is not +Inf or -Inf\n",
    "ceiling(x)  # Returns closest integer to x from above\n",
    "floor(x)  # Returns closest integer to x from below"
   ]
  },
  {
   "cell_type": "markdown",
   "metadata": {
    "id": "RQMq6byR-72x"
   },
   "source": [
    "---\n",
    "## 6. Dataset manipulation: subsetting and merging\n",
    "\n",
    "Often times you want to perform access/slice/filter operations, i.e. clean, subset, merge and, in a nutshell, manipulate datasets. Here we present basic operations that allow us to perform these tasks. We had a preview in Section 3.2. on how to select elements on different classes of objects, but here we concentrate on common relational datasets, such as `data.frame`'s and matrices."
   ]
  },
  {
   "cell_type": "markdown",
   "metadata": {
    "id": "6pvVp8PYotDU"
   },
   "source": [
    "### 6.1 Subset and expand\n",
    "\n",
    "We start covering the operations to subset or expand a dataset."
   ]
  },
  {
   "cell_type": "code",
   "execution_count": null,
   "metadata": {
    "id": "JAdYWH2Rptmj"
   },
   "outputs": [],
   "source": [
    "set.seed(666)  # This function \"controls random\", i.e. we all get the same random numbers\n",
    "df <- data.frame(x = 1:10, y = rep(c('A', 'B'), 5), z = rnorm(10))\n",
    "\n",
    "# Select a set of observations (KEY: position of the comma)\n",
    "df1 <- df[which(df[, 'x'] > 6), ]  # Select observations where variable x > 6\n",
    "df2 <- df[which(df[, 'x'] > 6 & df[, 'y'] == 'A'), ]  # Double condition\n",
    "\n",
    "# Select a set of columns (KEY: position of the comma)\n",
    "df3 <- df[, which(colnames(df) != 'x')]  # Select every column except \"x\": this is more robust than \"df[, -1]\" \n",
    "df3 <- df[, which(colnames(df) %in% c('A', 'B'))]  # Identical with %in% operator"
   ]
  },
  {
   "cell_type": "code",
   "execution_count": null,
   "metadata": {
    "id": "frk2uqDmXp5p"
   },
   "outputs": [],
   "source": [
    "# Order the observations by the value of a row, or column\n",
    "df4 <- df[order(df[, 'z'], decreasing = TRUE), ]  # Order rows by value of column \"z\" (highest-to-lowest)\n",
    "df5 <- df[, c('z', 'y', 'x')]  # Change order of columns\n",
    "\n",
    "# Add columns or rows\n",
    "df6 <- cbind.data.frame(df5, w = 11:20) # cbind for matrix\n",
    "df6[, 'v'] <- 21:30  # add a new column from a new object\n",
    "df7 <- rbind.data.frame(df5[1:5, ], df5[6:10, ]) # rbind for matrix\n",
    "df7[11, ] <- c(11, 'B', 0)  # add a new observation from a new object"
   ]
  },
  {
   "cell_type": "code",
   "execution_count": null,
   "metadata": {
    "id": "USeS5rLAXsHM"
   },
   "outputs": [],
   "source": [
    "# Rename variables or observations, change class, transform\n",
    "colnames(df5) <- c('Z', 'Y', 'X')\n",
    "rownames(df5) <- paste('obs', 1:nrow(df5), sep = '')\n",
    "df5[, 'X'] <- as.integer(df5[, 'X'])  # it's ok to re-write: it is reversible\n",
    "df5[, 'Z'] <- df5[, 'Z'] * 3  # modify an existing column\n",
    "colnames(df5)\n",
    "rownames(df5)"
   ]
  },
  {
   "cell_type": "markdown",
   "metadata": {
    "id": "TbUWb9tOqPhe"
   },
   "source": [
    "Some thoughts on these operations:\n",
    "\n",
    "*   The function `which()` is one you should get acquainted with very well. It depicts the elements of a set *which* satisfy the logical condition(s) in parenthesis.\n",
    "*   Be aware of the distinction between `sort()` and `order()`: the former grabs a set of values and puts them from lowest to highest, the latter gives you the indices in the vector of said order, not the values themselves.\n",
    "*   One helpful function we have not looked into is `subset()`, which essentially does the same thing we did above. It works well for simple commands, but the framework above is more flexible and can deal with complex operations. Feel free to use it though! Try: `subset(airquality, Temp > 80, select = c(Ozone, Temp))`.\n",
    "*   Notice I never modify the original object I am subsetting. It is important that when you subset that you don't over-write previously existing objects (and, in particular, the object you are subsetting), unless you recursively subset one particular object. These operations are **irreversible**, in the sense that if you over-write the object being subsetted, the information that was cut out cannot be re-used anywhere else in your code. Often times this is not desirable. If you have memory problems in your CPU, you have to balance this with keeping as few possible copies of the data as possible, but try to keep the originals intact in your workspace."
   ]
  },
  {
   "cell_type": "markdown",
   "metadata": {
    "id": "8vRD1JpYwKFN"
   },
   "source": [
    "### 6.2. Merge and join\n",
    "\n",
    "Beyond the straightforward expansion or selection of rows and columns explained before, one may want to *merge* two datasets, e.g. we have different data on the same set of individuals, or different years, etc. This usually involves joining two full datasets, instead of just adding rows or columns based on some coditions."
   ]
  },
  {
   "cell_type": "code",
   "execution_count": null,
   "metadata": {
    "id": "wxP8wK_X0yF1"
   },
   "outputs": [],
   "source": [
    "set.seed(666)\n",
    "df1 <- data.frame(id1 = sample(1:10, replace = FALSE), col1 = rnorm(10), col2 = rchisq(10, df = 1))\n",
    "df2 <- data.frame(id2 = sample(1:10, replace = FALSE), col3 = rnorm(10), col4 = rchisq(10, df = 1))\n",
    "head(df1, 5)\n",
    "head(df2, 5)\n",
    "\n",
    "# Joint datasets using \"match\"\n",
    "df3 <- cbind.data.frame(df1, df2[match(df1[, 'id1'], df2[, 'id2']), -1])  # Exclude \"id\" column to avoid redundancy\n",
    "head(df3, 5)\n",
    "\n",
    "# Joint datasets using \"merge\"\n",
    "colnames(df1)[1] <- 'id'\n",
    "colnames(df2)[1] <- 'id'\n",
    "df3 <- merge(df1, df2, by = 'id')  # This is fine but be careful if ID lists and column names are not equal\n",
    "head(df3, 5)  # The original order is altered"
   ]
  },
  {
   "cell_type": "markdown",
   "metadata": {
    "id": "lNLeTX1f0jw_"
   },
   "source": [
    "The function `match()` basically looks for the elements of the first vector present in the second vector, and returns the corresponding indices of the latter in the order of the former. It is another hall-of-famer function in `R` and is super useful in a number of contexts. Use it!\n",
    "\n",
    "Using `merge()` is also a good option, especially if you're familiar with classic database management, as it is well equipped to easily do *inner* (default), *outer* and *cross* joints."
   ]
  }
 ],
 "metadata": {
  "colab": {
   "collapsed_sections": [
    "fJsTPPStEKjr",
    "OrmUKuJc452B",
    "bmalr6RWkSmh",
    "vpw6a8TJrvf-",
    "BPuurT0xosRM",
    "oLjxvmSqo12f",
    "c36iyh1m-v_e",
    "-4tcuu1rQtav",
    "QRmsljaBAMt0",
    "yVGLRGoZAT7U",
    "rr70cUvrAHvJ",
    "RQMq6byR-72x",
    "6pvVp8PYotDU",
    "8vRD1JpYwKFN",
    "RIYUd3OF_ZV3",
    "Lg1UZGGC27k8",
    "BKxPeJSe8iQn",
    "DcKRkEm89pJT",
    "B1BlSIRHZo3G",
    "DnYJHbRKU4vc",
    "z0_5bRNjl3-I",
    "7jEV2OIO_b96",
    "xE3ng5mIWJJm",
    "lJ2QZn5OH4Vn",
    "NNC3hZuvBLmZ",
    "TTAdo_uDBPk3",
    "ZI0WQtPGBWpr"
   ],
   "name": "R1.ipynb",
   "provenance": []
  },
  "kernelspec": {
   "display_name": "R",
   "language": "R",
   "name": "ir"
  },
  "language_info": {
   "codemirror_mode": "r",
   "file_extension": ".r",
   "mimetype": "text/x-r-source",
   "name": "R",
   "pygments_lexer": "r",
   "version": "3.6.1"
  }
 },
 "nbformat": 4,
 "nbformat_minor": 1
}
