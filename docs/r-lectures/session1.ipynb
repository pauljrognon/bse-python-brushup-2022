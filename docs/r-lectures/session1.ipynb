{
  "cells": [
    {
      "cell_type": "markdown",
      "metadata": {
        "id": "FVgm8I6b9p3j"
      },
      "source": [
        "# Session 1\n",
        "\n",
        "By **Paul Rognon & Miquel Torrens i Dinarès**\n",
        "\n",
        "*Barcelona School of Economics* – \n",
        "*Data Science Center*\n",
        "\n",
        "March 16th, 2023"
      ]
    },
    {
      "cell_type": "markdown",
      "metadata": {
        "id": "nO8q98LH9mkk"
      },
      "source": [
        "## Getting started\n",
        "\n",
        "### What is R?\n",
        "\n",
        "R refers to both:\n",
        "- A programming language.\n",
        "- A program (it runs on a computer). The program's purpose is to interpret the language and convert it into instructions for a computer.\n",
        "(Like Python)\n",
        "\n",
        "Current release of R is version [4.2.2](https://cran.r-project.org/).\n",
        "\n",
        "R does have a graphical interface: the R-GUI console. In R-GUI you can submit R language commands one by one.\n",
        "\n",
        "Most of the time you will want to submit a series of commands (your code) and thus you will write a *script* with extension `.R`. For example you could write the following script and save it with extension `.R`:\n",
        "```\n",
        "message <- \"Hello World!\"\n",
        "print(message)\n",
        "```\n",
        "Then to execute your script, open the GUI and run `source('path to your .R file')`.\n",
        "\n",
        "You can write a script with any basic text editor. However it is more convenient to use an IDE (integrated development environment). The most popular IDE for R is [RStudio](https://posit.co/products/open-source/rstudio/). Shortly, RStudio is an interface with four quadrants: one for editing a script, one displaying the commands run and their printed output (the console), one showing the objects in the environment, one that displays the working directory, plots, packages and help. [Here](https://rladiessydney.org/courses/ryouwithme/01-basicbasics-1/) is a tour of RStudio. Note that RStudio now supports Python programming too.\n",
        "\n",
        "### R in Jupyter Notebooks and Google Colab\n",
        "\n",
        "You can run R code in Jupyter notebooks. You can do it through the Jupyter Notebook application, see this [guide](https://docs.anaconda.com/navigator/tutorials/r-lang/).\n",
        "\n",
        "Google Colab can also run Jupyter notebooks with R code. To create a R notebook in Colab, click this [link](https://colab.research.google.com/notebook#create=true&language=r). If you go to `Runtime`>`Change runtime type`, you will see the Runtime type is now set to 'R'."
      ]
    },
    {
      "cell_type": "markdown",
      "source": [
        "## 1. The R Environment"
      ],
      "metadata": {
        "id": "M4s-pqKsqWMP"
      }
    },
    {
      "cell_type": "markdown",
      "metadata": {
        "id": "zkc7Hm-OURVc"
      },
      "source": [
        "\n",
        "### 1.1 Introduction\n",
        "When you open an `R` session, a **console** is displayed, which is where all operations in `R` are run. This is built on an `R` environment that we will call the **workspace**. This is the playing field that will contain everything needed to run your code.\n",
        "\n",
        "In an `R` workspace there are objects that can store data or functions but also operators. For example: we can create a vector `x` and use the function `mean`."
      ]
    },
    {
      "cell_type": "code",
      "execution_count": 31,
      "metadata": {
        "id": "RXN_-b9x5kKC",
        "colab": {
          "base_uri": "https://localhost:8080/",
          "height": 34
        },
        "outputId": "e4f394d5-2cca-4e64-fc12-8df44b5fc573"
      },
      "outputs": [
        {
          "output_type": "display_data",
          "data": {
            "text/html": [
              "5"
            ],
            "text/markdown": "5",
            "text/latex": "5",
            "text/plain": [
              "[1] 5"
            ]
          },
          "metadata": {}
        }
      ],
      "source": [
        "x <- 0:10  # This defines a numeric vector \"x\" with integers from 0 to 10\n",
        "mean(x)  # This computes the mean of the vector"
      ]
    },
    {
      "cell_type": "markdown",
      "metadata": {
        "id": "J7YeNbYL-Xi_"
      },
      "source": [
        "Here we displayed an object storing values, an operator, and a function. To create an object, we used an operator of assignment `<-` (right-to-left), and we called a function on this object by placing it inside brackets, the object is then taken as an *argument* of the function. We also showed how to comment your code: use `#` to let `R` know it should not run the rest of the line."
      ]
    },
    {
      "cell_type": "markdown",
      "metadata": {
        "id": "ntVaezMLGKBy"
      },
      "source": [
        "Functions can have more than one argument. Arguments let you to control on what and how the function should be run."
      ]
    },
    {
      "cell_type": "code",
      "execution_count": 32,
      "metadata": {
        "id": "Txvcmv65O9F8",
        "colab": {
          "base_uri": "https://localhost:8080/",
          "height": 86
        },
        "outputId": "c5a0cfcc-b1bc-4069-f8ad-5d0babd19340"
      },
      "outputs": [
        {
          "output_type": "display_data",
          "data": {
            "text/html": [
              "3.14159265358979"
            ],
            "text/markdown": "3.14159265358979",
            "text/latex": "3.14159265358979",
            "text/plain": [
              "[1] 3.141593"
            ]
          },
          "metadata": {}
        },
        {
          "output_type": "display_data",
          "data": {
            "text/html": [
              "3"
            ],
            "text/markdown": "3",
            "text/latex": "3",
            "text/plain": [
              "[1] 3"
            ]
          },
          "metadata": {}
        },
        {
          "output_type": "display_data",
          "data": {
            "text/html": [
              "3.1"
            ],
            "text/markdown": "3.1",
            "text/latex": "3.1",
            "text/plain": [
              "[1] 3.1"
            ]
          },
          "metadata": {}
        },
        {
          "output_type": "display_data",
          "data": {
            "text/html": [
              "3.1416"
            ],
            "text/markdown": "3.1416",
            "text/latex": "3.1416",
            "text/plain": [
              "[1] 3.1416"
            ]
          },
          "metadata": {}
        }
      ],
      "source": [
        "pi  # This is a special object built into R\n",
        "round(pi)  # This functions rounds a number to any decimal point (by default, 0)\n",
        "round(pi, digits = 1)  # The argument \"digits\" controls the number of decimals\n",
        "round(pi, digits = 4)"
      ]
    },
    {
      "cell_type": "markdown",
      "metadata": {
        "id": "FzWOVgSsoua0"
      },
      "source": [
        "Some functions do not require arguments. For example, you can explore the objects in your workspace using"
      ]
    },
    {
      "cell_type": "code",
      "execution_count": 33,
      "metadata": {
        "id": "4gsIrkr--W8k",
        "colab": {
          "base_uri": "https://localhost:8080/",
          "height": 34
        },
        "outputId": "bb074aba-d98c-4e4d-963a-617398df516b"
      },
      "outputs": [
        {
          "output_type": "display_data",
          "data": {
            "text/html": [
              "<style>\n",
              ".list-inline {list-style: none; margin:0; padding: 0}\n",
              ".list-inline>li {display: inline-block}\n",
              ".list-inline>li:not(:last-child)::after {content: \"\\00b7\"; padding: 0 .5ex}\n",
              "</style>\n",
              "<ol class=list-inline><li>'a'</li><li>'b'</li><li>'data1'</li><li>'data2'</li><li>'file_path'</li><li>'m'</li><li>'tips_df'</li><li>'w'</li><li>'x'</li><li>'x1'</li><li>'x2'</li><li>'x3'</li><li>'x4'</li><li>'x5'</li><li>'y'</li><li>'z'</li></ol>\n"
            ],
            "text/markdown": "1. 'a'\n2. 'b'\n3. 'data1'\n4. 'data2'\n5. 'file_path'\n6. 'm'\n7. 'tips_df'\n8. 'w'\n9. 'x'\n10. 'x1'\n11. 'x2'\n12. 'x3'\n13. 'x4'\n14. 'x5'\n15. 'y'\n16. 'z'\n\n\n",
            "text/latex": "\\begin{enumerate*}\n\\item 'a'\n\\item 'b'\n\\item 'data1'\n\\item 'data2'\n\\item 'file\\_path'\n\\item 'm'\n\\item 'tips\\_df'\n\\item 'w'\n\\item 'x'\n\\item 'x1'\n\\item 'x2'\n\\item 'x3'\n\\item 'x4'\n\\item 'x5'\n\\item 'y'\n\\item 'z'\n\\end{enumerate*}\n",
            "text/plain": [
              " [1] \"a\"         \"b\"         \"data1\"     \"data2\"     \"file_path\" \"m\"        \n",
              " [7] \"tips_df\"   \"w\"         \"x\"         \"x1\"        \"x2\"        \"x3\"       \n",
              "[13] \"x4\"        \"x5\"        \"y\"         \"z\"        "
            ]
          },
          "metadata": {}
        }
      ],
      "source": [
        "ls()"
      ]
    },
    {
      "cell_type": "markdown",
      "metadata": {
        "id": "8WapugRKP5dS"
      },
      "source": [
        "You can know which arguments are admitted by each function, alongside with a detailed function description, by using the `help()` function, or by typing in an `?` in front of the name of the function:"
      ]
    },
    {
      "cell_type": "code",
      "execution_count": 34,
      "metadata": {
        "id": "YK0HYT8zP9JF"
      },
      "outputs": [],
      "source": [
        "?mean"
      ]
    },
    {
      "cell_type": "markdown",
      "metadata": {
        "id": "NEW1Juw2AlDf"
      },
      "source": [
        "`R` has a wide array of general functions and operators embedded natively that allow you to do pretty much anything basic. Those functions not readily available that you might require for specific purposes will need to be either (a) installed and loaded from external packages, or (b) coded by you.\n",
        "\n",
        "Objects storing data can be manually coded from scratch or generated by importing data, either numeric, in text, or any other format (maps, JSON, SQL, etc.)."
      ]
    },
    {
      "cell_type": "markdown",
      "metadata": {
        "id": "4D6bsbX3FT1g"
      },
      "source": [
        "Finally, don't forget to exit your `R` session once your job is done! Do that using the quit function"
      ]
    },
    {
      "cell_type": "code",
      "execution_count": 35,
      "metadata": {
        "id": "A1dGtbsCFNK1"
      },
      "outputs": [],
      "source": [
        "q()"
      ]
    },
    {
      "cell_type": "markdown",
      "metadata": {
        "id": "OtEJHHSmEp00"
      },
      "source": [
        "Use the command `rm(list = ls())` instead if you don't want to leave the session but want to remove every object in it. The `rm()` function will remove what's inside its parenthesis from the workspace, but use it with caution."
      ]
    },
    {
      "cell_type": "markdown",
      "metadata": {
        "id": "oN9glXDbQfZi"
      },
      "source": [
        "### 1.2 General rules to programming (with `R`)\n",
        "\n",
        "1. **Reproducibility** is everything: so you and others can keep track of your analysis, it is important to conserve your code. Develop and save your code in an `R` script (file with extension `.R`) or a notebook (Jupyter Notebook `.ipynb`, R markdown `.rmd`). Commands submitted to the console are **NOT** saved.\n",
        "2. Make your code as **robust** as possible: be conservative and write safe code, taking all possibilities into account. Being lazy today will cause problems tomorrow.\n",
        "2. **Comment your code thoroughly** and clarify everything, someone else might read it and needs to know what's happening (even yourself in the future)\n",
        "3. Follow a **style guide** and do it **consistently**: spacing, indenting, format..., just like you do writing natural language. Hadley Wickham, a leading developper of R solutions, published his own [style guide](http://adv-r.had.co.nz/Style.html). It's an example that you can tweak to make it your own: just stick to the basics, stay consistent and write as if it were to be read. Remember: **clean code = happy programmer**."
      ]
    },
    {
      "cell_type": "markdown",
      "metadata": {
        "id": "fJsTPPStEKjr"
      },
      "source": [
        "---\n",
        "## 2. Input/Output\n"
      ]
    },
    {
      "cell_type": "markdown",
      "metadata": {
        "id": "9cbkwHfuRgKR"
      },
      "source": [
        "### 2.1 Importing functions (libraries)\n",
        "\n",
        "*Libraries* (a.k.a. *packages*) are bundles of functions generally related to one particular topic. For example, the `xtable` package includes a set of functions to convert a table into $\\LaTeX$ readable format.\n",
        "\n",
        "In `R`, packages need to be installed prior to its use and then loaded into the workspace."
      ]
    },
    {
      "cell_type": "code",
      "execution_count": 36,
      "metadata": {
        "id": "AG9YdjeVZbLj",
        "colab": {
          "base_uri": "https://localhost:8080/"
        },
        "outputId": "6e8b3536-2e4c-4554-c029-2661dbe4e94b"
      },
      "outputs": [
        {
          "output_type": "stream",
          "name": "stderr",
          "text": [
            "Installing package into ‘/usr/local/lib/R/site-library’\n",
            "(as ‘lib’ is unspecified)\n",
            "\n"
          ]
        }
      ],
      "source": [
        "# Install the required package (use single or double quotation marks)\n",
        "install.packages('xtable')\n",
        "\n",
        "# Load it into your workspace\n",
        "library(xtable)  # Option 1\n",
        "require(xtable)  # Option 2"
      ]
    },
    {
      "cell_type": "markdown",
      "metadata": {
        "id": "ppZykh6BZlEl"
      },
      "source": [
        "In effects, `library()` and `require()` do the same: import every function from the package into your workspace -- the only practical difference is that if the loaded package is not available, `library` will crash, while `require` just returns a warning."
      ]
    },
    {
      "cell_type": "code",
      "execution_count": 37,
      "metadata": {
        "id": "jvSlJ8WXay4e",
        "colab": {
          "base_uri": "https://localhost:8080/",
          "height": 200
        },
        "outputId": "ccaaa782-3494-4f0d-870c-a0d680a70ea4"
      },
      "outputs": [
        {
          "output_type": "stream",
          "name": "stderr",
          "text": [
            "Loading required package: mombf\n",
            "\n",
            "Warning message in library(package, lib.loc = lib.loc, character.only = TRUE, logical.return = TRUE, :\n",
            "“there is no package called ‘mombf’”\n"
          ]
        },
        {
          "output_type": "error",
          "ename": "ERROR",
          "evalue": "ignored",
          "traceback": [
            "Error in library(mombf): there is no package called ‘mombf’\nTraceback:\n",
            "1. library(mombf)"
          ]
        }
      ],
      "source": [
        "# The following command will give an error\n",
        "require(mombf)\n",
        "library(mombf)"
      ]
    },
    {
      "cell_type": "markdown",
      "metadata": {
        "id": "HpW8roioa16C"
      },
      "source": [
        "There are two ways to call a function from an installed package:"
      ]
    },
    {
      "cell_type": "code",
      "execution_count": 38,
      "metadata": {
        "id": "EREEMAh9UOty",
        "colab": {
          "base_uri": "https://localhost:8080/"
        },
        "outputId": "185bd260-673a-4dd2-feca-d911ad3dbf39"
      },
      "outputs": [
        {
          "output_type": "stream",
          "name": "stdout",
          "text": [
            "     [,1] [,2] [,3]\n",
            "[1,]    1    4    7\n",
            "[2,]    2    5    8\n",
            "[3,]    3    6    9\n",
            "% latex table generated in R 4.2.2 by xtable 1.8-4 package\n",
            "% Wed Mar 15 20:33:51 2023\n",
            "\\begin{table}[ht]\n",
            "\\centering\n",
            "\\begin{tabular}{rrrr}\n",
            "  \\hline\n",
            " & 1 & 2 & 3 \\\\ \n",
            "  \\hline\n",
            "1 &   1 &   4 &   7 \\\\ \n",
            "  2 &   2 &   5 &   8 \\\\ \n",
            "  3 &   3 &   6 &   9 \\\\ \n",
            "   \\hline\n",
            "\\end{tabular}\n",
            "\\end{table}\n"
          ]
        }
      ],
      "source": [
        "data1 <- matrix(1:9, ncol = 3, nrow = 3)\n",
        "data2 <- xtable(data1)  \n",
        "data2 <- xtable::xtable(data1) # This is useful when several functions have the same name in your environment\n",
        "print(data1)\n",
        "print(data2)"
      ]
    },
    {
      "cell_type": "markdown",
      "metadata": {
        "id": "2rEPnDmtLy7P"
      },
      "source": [
        "There are many packages available on repositories. There is some large probability that there is an existing  package doing what you want to code. For simplicity and ease, you might just rely on existing packages. Well developped packages can also run significantly faster than your own code. This is an important consideration when dealing with high-dimensional data.\n",
        "\n",
        "There are nevertheless downsides on relying on packages. Since packages are generally coded by other users, they might\n",
        "* change over time (affecting the time-consistency of the code)\n",
        "* be more prone to errors (in particular libraries with few users)\n",
        "* cause cross-platform trouble and run into replication problems.\n",
        "\n",
        "*Comprehensive R Archive Network* (CRAN) is a repository of packages that must comply with some quality standards. However, availability on CRAN is no definitive guarantee that a package is rock solid."
      ]
    },
    {
      "cell_type": "markdown",
      "metadata": {
        "id": "dFgSAb2kREcQ"
      },
      "source": [
        "### 2.2 Importing and exporting external data\n",
        "\n",
        "Here we detail the process of importing and exporting data into an `R` session. Some popular native functions:\n",
        "\n",
        "```\n",
        "read.table()  # General function\n",
        "read.csv()  # Import data from a CSV\n",
        "read.csv2()  # CSV when \",\" is decimal point and a \";\" is field separator\n",
        "read.txt()  # Import from TXT file\n",
        "read.fwf()  # Read fixed width format files\n",
        "readLines()  # Import lines of text\n",
        "download.file()  # To download a data file from a URL\n",
        "```\n",
        "\n",
        "You need to supply the file path to these functions to load the data itself."
      ]
    },
    {
      "cell_type": "code",
      "execution_count": 39,
      "metadata": {
        "id": "YTbsfZUaoua7"
      },
      "outputs": [],
      "source": [
        "# On your personal computer\n",
        "#file_path <- \"Path to the file that you want create e.g C:/Users/Paul/desktop/tips.csv\"\n",
        "\n",
        "# On colab\n",
        "file_path <- \"/content/tips.csv\"\n",
        "download.file(\"https://raw.githubusercontent.com/barcelonagse-datascience/academic_files/master/data/tips.csv\",destfile=file_path)"
      ]
    },
    {
      "cell_type": "code",
      "execution_count": 40,
      "metadata": {
        "colab": {
          "base_uri": "https://localhost:8080/",
          "height": 255
        },
        "id": "o2uGmi4toua7",
        "outputId": "ab840b5e-d9ea-46f1-efdf-7e10c1949868"
      },
      "outputs": [
        {
          "output_type": "display_data",
          "data": {
            "text/html": [
              "<table class=\"dataframe\">\n",
              "<caption>A data.frame: 5 × 7</caption>\n",
              "<thead>\n",
              "\t<tr><th></th><th scope=col>total_bill</th><th scope=col>tip</th><th scope=col>sex</th><th scope=col>smoker</th><th scope=col>day</th><th scope=col>time</th><th scope=col>size</th></tr>\n",
              "\t<tr><th></th><th scope=col>&lt;dbl&gt;</th><th scope=col>&lt;dbl&gt;</th><th scope=col>&lt;chr&gt;</th><th scope=col>&lt;chr&gt;</th><th scope=col>&lt;chr&gt;</th><th scope=col>&lt;chr&gt;</th><th scope=col>&lt;int&gt;</th></tr>\n",
              "</thead>\n",
              "<tbody>\n",
              "\t<tr><th scope=row>1</th><td>16.99</td><td>1.01</td><td>Female</td><td>No</td><td>Sun</td><td>Dinner</td><td>2</td></tr>\n",
              "\t<tr><th scope=row>2</th><td>10.34</td><td>1.66</td><td>Male  </td><td>No</td><td>Sun</td><td>Dinner</td><td>3</td></tr>\n",
              "\t<tr><th scope=row>3</th><td>21.01</td><td>3.50</td><td>Male  </td><td>No</td><td>Sun</td><td>Dinner</td><td>3</td></tr>\n",
              "\t<tr><th scope=row>4</th><td>23.68</td><td>3.31</td><td>Male  </td><td>No</td><td>Sun</td><td>Dinner</td><td>2</td></tr>\n",
              "\t<tr><th scope=row>5</th><td>24.59</td><td>3.61</td><td>Female</td><td>No</td><td>Sun</td><td>Dinner</td><td>4</td></tr>\n",
              "</tbody>\n",
              "</table>\n"
            ],
            "text/markdown": "\nA data.frame: 5 × 7\n\n| <!--/--> | total_bill &lt;dbl&gt; | tip &lt;dbl&gt; | sex &lt;chr&gt; | smoker &lt;chr&gt; | day &lt;chr&gt; | time &lt;chr&gt; | size &lt;int&gt; |\n|---|---|---|---|---|---|---|---|\n| 1 | 16.99 | 1.01 | Female | No | Sun | Dinner | 2 |\n| 2 | 10.34 | 1.66 | Male   | No | Sun | Dinner | 3 |\n| 3 | 21.01 | 3.50 | Male   | No | Sun | Dinner | 3 |\n| 4 | 23.68 | 3.31 | Male   | No | Sun | Dinner | 2 |\n| 5 | 24.59 | 3.61 | Female | No | Sun | Dinner | 4 |\n\n",
            "text/latex": "A data.frame: 5 × 7\n\\begin{tabular}{r|lllllll}\n  & total\\_bill & tip & sex & smoker & day & time & size\\\\\n  & <dbl> & <dbl> & <chr> & <chr> & <chr> & <chr> & <int>\\\\\n\\hline\n\t1 & 16.99 & 1.01 & Female & No & Sun & Dinner & 2\\\\\n\t2 & 10.34 & 1.66 & Male   & No & Sun & Dinner & 3\\\\\n\t3 & 21.01 & 3.50 & Male   & No & Sun & Dinner & 3\\\\\n\t4 & 23.68 & 3.31 & Male   & No & Sun & Dinner & 2\\\\\n\t5 & 24.59 & 3.61 & Female & No & Sun & Dinner & 4\\\\\n\\end{tabular}\n",
            "text/plain": [
              "  total_bill tip  sex    smoker day time   size\n",
              "1 16.99      1.01 Female No     Sun Dinner 2   \n",
              "2 10.34      1.66 Male   No     Sun Dinner 3   \n",
              "3 21.01      3.50 Male   No     Sun Dinner 3   \n",
              "4 23.68      3.31 Male   No     Sun Dinner 2   \n",
              "5 24.59      3.61 Female No     Sun Dinner 4   "
            ]
          },
          "metadata": {}
        }
      ],
      "source": [
        "tips_df <- read.csv(file_path) # tips.csv is comma separated, read.csv parses the csv file into a data frame object\n",
        "tips_df[1:5,]"
      ]
    },
    {
      "cell_type": "markdown",
      "metadata": {
        "id": "rxY3-Q4Uoua8"
      },
      "source": [
        "The library of functions `foreign` will help you to read a number of different other data formats. Most commercial softwares have their own reading methods. For example, to import from Excel you need the function `read_excel()` in the `readxl` package. The `haven` package contains functions to read output files from other popular softwares such as Stata, SPSS or SAS. \n",
        "\n",
        "\n",
        "If you use RStudio, some of these imports are automatised. The *Import dataset* button in the Environment quadrant is an extremely helpful and intuitive way to import data."
      ]
    },
    {
      "cell_type": "markdown",
      "metadata": {
        "id": "LaNI0m3fDLq5"
      },
      "source": [
        "Similarly to the reading functions, there are equivalent writing functions to save your output data tables into non-`R` generic formats: `write.csv()`,  `write.table()`, or `writeLines()`."
      ]
    },
    {
      "cell_type": "markdown",
      "metadata": {
        "id": "8Ha4MnE-dipM"
      },
      "source": [
        "### 2.3 Importing and exporting R files\n",
        "\n",
        "Sometimes you will want to save an R object which is not a data table to an external file. There are two natural formats to produce `R` outputs: `.RData` or `.rda` (more than one object can be stored), and `.rds` (only one object)."
      ]
    },
    {
      "cell_type": "code",
      "execution_count": 41,
      "metadata": {
        "id": "0g9XsVdKdjfF"
      },
      "outputs": [],
      "source": [
        "# Write an object on an external file (.RData, rda, rds)\n",
        "save(data1, file = 'data1.RData')  # .RData or .rda\n",
        "saveRDS(data2, file = 'data2.rds')  # .rds\n",
        "save.image(file = 'workspace.RData')  # This saves the entire workspace"
      ]
    },
    {
      "cell_type": "markdown",
      "metadata": {
        "id": "qXgNRPd5geOT"
      },
      "source": [
        "Similarly, you might want to read a file produced in `R`. an `.RData`, again two ways to load them:"
      ]
    },
    {
      "cell_type": "code",
      "execution_count": 42,
      "metadata": {
        "id": "GFjvZjtNf2nu",
        "colab": {
          "base_uri": "https://localhost:8080/"
        },
        "outputId": "8ab6f7aa-78ef-42d0-c444-b08712a2f333"
      },
      "outputs": [
        {
          "output_type": "stream",
          "name": "stdout",
          "text": [
            "     [,1] [,2] [,3]\n",
            "[1,]    1    4    7\n",
            "[2,]    2    5    8\n",
            "[3,]    3    6    9\n",
            "% latex table generated in R 4.2.2 by xtable 1.8-4 package\n",
            "% Wed Mar 15 20:34:00 2023\n",
            "\\begin{table}[ht]\n",
            "\\centering\n",
            "\\begin{tabular}{rrrr}\n",
            "  \\hline\n",
            " & 1 & 2 & 3 \\\\ \n",
            "  \\hline\n",
            "1 &   1 &   4 &   7 \\\\ \n",
            "  2 &   2 &   5 &   8 \\\\ \n",
            "  3 &   3 &   6 &   9 \\\\ \n",
            "   \\hline\n",
            "\\end{tabular}\n",
            "\\end{table}\n"
          ]
        }
      ],
      "source": [
        "rm(data1, data2)  # Remove objects in the workspace to prove this works\n",
        "load('data1.RData')  # This loads into workspace with the name it was saved with\n",
        "data2 <- readRDS('data2.rds')  # This needs an assigment\n",
        "data1 <- get(load('data1.RData'))  # This is even safer, to control the names of what you're loading\n",
        "print(data1)\n",
        "print(data2)"
      ]
    },
    {
      "cell_type": "markdown",
      "metadata": {
        "id": "1ep9MlzU38Pr"
      },
      "source": [
        "Other relevant functions for file management (outside of your workspace):\n",
        "\n",
        "```\n",
        "dir.create()\n",
        "file.create()\n",
        "file.rename()\n",
        "file.copy()\n",
        "file.remove()\n",
        "file.exists()\n",
        "file.info()\n",
        "```\n",
        "\n"
      ]
    },
    {
      "cell_type": "markdown",
      "metadata": {
        "id": "OrmUKuJc452B"
      },
      "source": [
        "---\n",
        "## 3. Objects and object classes\n",
        "\n",
        "The **class** of an object determines (a) its structure and (b) what/how functions can be applied to it."
      ]
    },
    {
      "cell_type": "markdown",
      "metadata": {
        "id": "bmalr6RWkSmh"
      },
      "source": [
        "### 3.1 Common object classes\n",
        "\n",
        "We will see some of the most common object classes in R."
      ]
    },
    {
      "cell_type": "markdown",
      "metadata": {
        "id": "Yt8L78Sr-knT"
      },
      "source": [
        "1. Vectors are single-valued objects or a collection of values of the same type. Basic (‘atomic’) vector types are:\n",
        "\n",
        "  a. `integer`\n",
        "\n",
        "  b. `double`\n",
        "  \n",
        "  c. `character` (equivalent to string in other languages)\n",
        "\n",
        "  d. `logical` (`TRUE` or `FALSE`)\n",
        "\n",
        "  e. `complex`\n",
        "\n",
        "Integers use no decimal points while double do. Integers and double types are gathered under the umbrella term `numeric`.\n",
        "\n",
        "Note that `factors` are special type of vectors that can only take a specific set of values (known as `levels`), as in a categorical variable.\n"
      ]
    },
    {
      "cell_type": "code",
      "execution_count": 43,
      "metadata": {
        "id": "L3PUZv2JF_Xq",
        "colab": {
          "base_uri": "https://localhost:8080/",
          "height": 104
        },
        "outputId": "1d7a6c4c-7578-4728-a0d4-1705fd8ef779"
      },
      "outputs": [
        {
          "output_type": "display_data",
          "data": {
            "text/html": [
              "'numeric'"
            ],
            "text/markdown": "'numeric'",
            "text/latex": "'numeric'",
            "text/plain": [
              "[1] \"numeric\""
            ]
          },
          "metadata": {}
        },
        {
          "output_type": "display_data",
          "data": {
            "text/html": [
              "'integer'"
            ],
            "text/markdown": "'integer'",
            "text/latex": "'integer'",
            "text/plain": [
              "[1] \"integer\""
            ]
          },
          "metadata": {}
        },
        {
          "output_type": "display_data",
          "data": {
            "text/html": [
              "'character'"
            ],
            "text/markdown": "'character'",
            "text/latex": "'character'",
            "text/plain": [
              "[1] \"character\""
            ]
          },
          "metadata": {}
        },
        {
          "output_type": "display_data",
          "data": {
            "text/html": [
              "'factor'"
            ],
            "text/markdown": "'factor'",
            "text/latex": "'factor'",
            "text/plain": [
              "[1] \"factor\""
            ]
          },
          "metadata": {}
        },
        {
          "output_type": "display_data",
          "data": {
            "text/html": [
              "'logical'"
            ],
            "text/markdown": "'logical'",
            "text/latex": "'logical'",
            "text/plain": [
              "[1] \"logical\""
            ]
          },
          "metadata": {}
        }
      ],
      "source": [
        "# Types of vectors\n",
        "# [c() creates a vector: it is a function to concatenate elements]\n",
        "x1 <- c(1.4, 2.3, 3.2, 4.1)  # numeric\n",
        "x2 <- c(1L, 2L, 3L, 4L)  # integer\n",
        "x3 <- c('A', 'B', 'C', 'A')  # character\n",
        "x4 <- factor(c('A', 'B', 'C', 'A'))  # declare it as factor with levels \"A\", \"B\" and \"C\"\n",
        "x5 <- c(TRUE, FALSE, TRUE, FALSE)  # logical\n",
        "\n",
        "# The \"class\" function tells you what class an object is\n",
        "class(x1)  # To obtain a boolean, try: is.numeric(x1)\n",
        "class(x2)  # Try: is.integer(x2)\n",
        "class(x3)  # Try: is.character(x3)\n",
        "class(x4)  # Try: is.factor(x4)\n",
        "class(x5)  # Try: is.logical(x5)"
      ]
    },
    {
      "cell_type": "markdown",
      "metadata": {
        "id": "-B5cWldBfhnE"
      },
      "source": [
        "Some classes can be *coerced* into other classes: for example a numeric vector can be coerced into a character vector, and vice versa if the elements of the vector are digits. But numeric vectors cannot be coerced into logical. Use the functions\n",
        "- `as.numeric()`,\n",
        "- `as.integer()`,\n",
        "- `as.character()`,\n",
        "- `as.factor()`,\n",
        "- `as.logical()`,\n",
        "\n",
        "to convert objects into other classes.\n",
        "\n",
        "If some class is not coercible into another, you may be able to use a coercible middle class to do the trick. For example, if `x` is a factor with values in 1, 2, 3, you may coerce it into numeric using"
      ]
    },
    {
      "cell_type": "code",
      "execution_count": 44,
      "metadata": {
        "id": "eBr8nOdAhJpL",
        "colab": {
          "base_uri": "https://localhost:8080/"
        },
        "outputId": "8a20bceb-b443-4b63-bb0d-f23856d92839"
      },
      "outputs": [
        {
          "output_type": "stream",
          "name": "stdout",
          "text": [
            "* Class of \"x\": factor \n",
            "[1] 4 5 6 6 5 4\n",
            "Levels: 4 5 6\n",
            "[1] 1 2 3 3 2 1\n",
            "* Class of \"z\": numeric \n",
            "[1] 4 5 6 6 5 4\n"
          ]
        }
      ],
      "source": [
        "x <- as.factor(c(4:6, 6:4))  # x is a factor\n",
        "cat('* Class of \"x\":', class(x), '\\n')\n",
        "print(x)  # This will print the levels\n",
        "\n",
        "# Factors are not coercible to numeric\n",
        "y <- as.numeric(x)\n",
        "print(y)  # WRONG result\n",
        "\n",
        "# Use character as a translator\n",
        "z <- as.numeric(as.character(x))  # factor -> character -> numeric\n",
        "cat('* Class of \"z\":', class(z), '\\n')\n",
        "print(z)"
      ]
    },
    {
      "cell_type": "markdown",
      "metadata": {
        "id": "moZCgAovi2fW"
      },
      "source": [
        "2. `list`\n",
        "\n",
        "    `Lists` are generalisation of a vector. They allow you to have different objects (maybe of different class) in one single objects, using *slots*, having one object in each slot."
      ]
    },
    {
      "cell_type": "code",
      "execution_count": 45,
      "metadata": {
        "id": "hJ_408O-JH5P",
        "colab": {
          "base_uri": "https://localhost:8080/"
        },
        "outputId": "7338604d-dd2d-4749-ed0a-cb123396682f"
      },
      "outputs": [
        {
          "output_type": "stream",
          "name": "stdout",
          "text": [
            "$a\n",
            "[1] 4 5 6 6 5 4\n",
            "Levels: 4 5 6\n",
            "\n",
            "$b\n",
            "[1] 4 5 6 6 5 4\n",
            "\n"
          ]
        }
      ],
      "source": [
        "# Create a list\n",
        "a <- list('a' = x, 'b' = z) # with two \"slots\", with names \"a\" and \"b\"\n",
        "print(a)"
      ]
    },
    {
      "cell_type": "markdown",
      "source": [
        "3. `data.frame`\n",
        "\n",
        "    Rectangular data structure similar to a matrix, with rows and columns, where each column can be of a different type."
      ],
      "metadata": {
        "id": "w7ACSH_9tBBk"
      }
    },
    {
      "cell_type": "code",
      "source": [
        "# Create a data.frame\n",
        "b <- data.frame('col1' = x, 'col2' = y, 'col3' = z)\n",
        "print(b)"
      ],
      "metadata": {
        "colab": {
          "base_uri": "https://localhost:8080/"
        },
        "id": "F4ejNdpps_1s",
        "outputId": "83ba13bc-d5b1-4c5d-c041-f50176dfb2c2"
      },
      "execution_count": 46,
      "outputs": [
        {
          "output_type": "stream",
          "name": "stdout",
          "text": [
            "  col1 col2 col3\n",
            "1    4    1    4\n",
            "2    5    2    5\n",
            "3    6    3    6\n",
            "4    6    3    6\n",
            "5    5    2    5\n",
            "6    4    1    4\n"
          ]
        }
      ]
    },
    {
      "cell_type": "markdown",
      "source": [
        "4. `matrix` and `array`\n",
        "\n",
        "    Matrices are similar to a `data.frame`; they are less flexible (all its elements have to be of the same class) but computations with matrices are more efficient (fast). `arrays` are a generalisation of a matrix (they can potentially have more dimensions).\n"
      ],
      "metadata": {
        "id": "5JUsx3FytDbD"
      }
    },
    {
      "cell_type": "code",
      "source": [
        "# Create a matrix of integers\n",
        "m <- matrix(1:12, ncol = 3)\n",
        "print(m)\n",
        "\n",
        "# Create a matrix of characters\n",
        "m <- matrix(rep('1',12), ncol = 3)\n",
        "print(m)"
      ],
      "metadata": {
        "colab": {
          "base_uri": "https://localhost:8080/"
        },
        "id": "s0MQQiTttGvC",
        "outputId": "2b7cc2cd-b062-4011-cecf-f9394f79f330"
      },
      "execution_count": 47,
      "outputs": [
        {
          "output_type": "stream",
          "name": "stdout",
          "text": [
            "     [,1] [,2] [,3]\n",
            "[1,]    1    5    9\n",
            "[2,]    2    6   10\n",
            "[3,]    3    7   11\n",
            "[4,]    4    8   12\n",
            "     [,1] [,2] [,3]\n",
            "[1,] \"1\"  \"1\"  \"1\" \n",
            "[2,] \"1\"  \"1\"  \"1\" \n",
            "[3,] \"1\"  \"1\"  \"1\" \n",
            "[4,] \"1\"  \"1\"  \"1\" \n"
          ]
        }
      ]
    },
    {
      "cell_type": "markdown",
      "metadata": {
        "id": "Q12iP6JTIpHu"
      },
      "source": [
        "These classes are coercible as well, using `as.list()`, `as.data.frame()`, and `as.matrix()`, but **BE CAREFUL** in any type of class coercion, and always inspect the coerced object to make sure the result is in the correct desired format.\n",
        "\n",
        "When you will program at a more advanced level, you will encounter more classes that stem from this basic set, and more complex. You will also learn to create your own classes."
      ]
    },
    {
      "cell_type": "markdown",
      "metadata": {
        "id": "vpw6a8TJrvf-"
      },
      "source": [
        "### 3.2 Functions applicable to a class\n",
        "\n",
        "Functions are another type of R objects, we will learn more about them later. It is important to emphasize here that the same function can have different behaviours depending on the class of objects it is applied to. For example, the function `mean()` can be applied to an object of class `numeric`, but applying it to an object of class `character` or `factor` would generate an error in your workspace:"
      ]
    },
    {
      "cell_type": "code",
      "execution_count": 48,
      "metadata": {
        "id": "3BRt1YgwtOhG",
        "colab": {
          "base_uri": "https://localhost:8080/"
        },
        "outputId": "08a72671-d146-4c6f-fe07-5e0444e9e40d"
      },
      "outputs": [
        {
          "output_type": "stream",
          "name": "stdout",
          "text": [
            "[1] 4.333333\n"
          ]
        },
        {
          "output_type": "stream",
          "name": "stderr",
          "text": [
            "Warning message in mean.default(x2):\n",
            "“argument is not numeric or logical: returning NA”\n"
          ]
        },
        {
          "output_type": "stream",
          "name": "stdout",
          "text": [
            "[1] NA\n"
          ]
        }
      ],
      "source": [
        "x1 <- c(1, 7, 4, 8, 6, 0)\n",
        "x2 <- as.factor(c('a', 'c', 'd', 'b', 'b', 'd'))\n",
        "print(mean(x1))  # OK\n",
        "print(mean(x2))  # Can't do it"
      ]
    },
    {
      "cell_type": "markdown",
      "metadata": {
        "id": "4RZLkSyBtygj"
      },
      "source": [
        "**Note:** characters require quotation marks, otherwise it would be as if you were creating a vector with objects `a`, `b`, `c` and `d`, which do not exist. Recall that in `R` single (`'`) and double (`\"`) quotation marks are equivalent.\n",
        "\n",
        "Other functions are applicable to both classes, but mind you they might produce different types of output:"
      ]
    },
    {
      "cell_type": "code",
      "execution_count": 49,
      "metadata": {
        "id": "lD77LkBQtG6s",
        "colab": {
          "base_uri": "https://localhost:8080/",
          "height": 104
        },
        "outputId": "4abfcfe4-a766-4e13-9fec-80314f6a21d7"
      },
      "outputs": [
        {
          "output_type": "stream",
          "name": "stdout",
          "text": [
            "* Summary of object \"x1\"\n"
          ]
        },
        {
          "output_type": "display_data",
          "data": {
            "text/plain": [
              "   Min. 1st Qu.  Median    Mean 3rd Qu.    Max. \n",
              "  0.000   1.750   5.000   4.333   6.750   8.000 "
            ]
          },
          "metadata": {}
        },
        {
          "output_type": "stream",
          "name": "stdout",
          "text": [
            "* Summary of object \"x2\"\n"
          ]
        },
        {
          "output_type": "display_data",
          "data": {
            "text/html": [
              "<style>\n",
              ".dl-inline {width: auto; margin:0; padding: 0}\n",
              ".dl-inline>dt, .dl-inline>dd {float: none; width: auto; display: inline-block}\n",
              ".dl-inline>dt::after {content: \":\\0020\"; padding-right: .5ex}\n",
              ".dl-inline>dt:not(:first-of-type) {padding-left: .5ex}\n",
              "</style><dl class=dl-inline><dt>a</dt><dd>1</dd><dt>b</dt><dd>2</dd><dt>c</dt><dd>1</dd><dt>d</dt><dd>2</dd></dl>\n"
            ],
            "text/markdown": "a\n:   1b\n:   2c\n:   1d\n:   2\n\n",
            "text/latex": "\\begin{description*}\n\\item[a] 1\n\\item[b] 2\n\\item[c] 1\n\\item[d] 2\n\\end{description*}\n",
            "text/plain": [
              "a b c d \n",
              "1 2 1 2 "
            ]
          },
          "metadata": {}
        }
      ],
      "source": [
        "cat('* Summary of object \"x1\"\\n')\n",
        "summary(x1)\n",
        "cat('* Summary of object \"x2\"\\n')\n",
        "summary(x2)"
      ]
    },
    {
      "cell_type": "markdown",
      "metadata": {
        "id": "9pMx-rKTu4hU"
      },
      "source": [
        "You can find out if a function is usable on your object class with the function `methods()`, which will display all classes that a given (native) function can handle:"
      ]
    },
    {
      "cell_type": "code",
      "execution_count": 50,
      "metadata": {
        "id": "Korr627TvEsc",
        "colab": {
          "base_uri": "https://localhost:8080/",
          "height": 382
        },
        "outputId": "f9b6f2ca-56e2-4770-c1d0-c6f20654a05c"
      },
      "outputs": [
        {
          "output_type": "display_data",
          "data": {
            "text/plain": [
              " [1] summary.aov                         summary.aovlist*                   \n",
              " [3] summary.aspell*                     summary.check_packages_in_dir*     \n",
              " [5] summary.connection                  summary.data.frame                 \n",
              " [7] summary.Date                        summary.default                    \n",
              " [9] summary.ecdf*                       summary.factor                     \n",
              "[11] summary.glm                         summary.infl*                      \n",
              "[13] summary.lm                          summary.loess*                     \n",
              "[15] summary.manova                      summary.matrix                     \n",
              "[17] summary.mlm*                        summary.nls*                       \n",
              "[19] summary.packageStatus*              summary.POSIXct                    \n",
              "[21] summary.POSIXlt                     summary.ppr*                       \n",
              "[23] summary.prcomp*                     summary.princomp*                  \n",
              "[25] summary.proc_time                   summary.rlang_error*               \n",
              "[27] summary.rlang_message*              summary.rlang_trace*               \n",
              "[29] summary.rlang_warning*              summary.rlang:::list_of_conditions*\n",
              "[31] summary.srcfile                     summary.srcref                     \n",
              "[33] summary.stepfun                     summary.stl*                       \n",
              "[35] summary.table                       summary.tukeysmooth*               \n",
              "[37] summary.vctrs_sclr*                 summary.vctrs_vctr*                \n",
              "[39] summary.warnings                   \n",
              "see '?methods' for accessing help and source code"
            ]
          },
          "metadata": {}
        }
      ],
      "source": [
        "methods(summary)"
      ]
    },
    {
      "cell_type": "markdown",
      "metadata": {
        "id": "BPuurT0xosRM"
      },
      "source": [
        "### 3.3 Quick object inspection"
      ]
    },
    {
      "cell_type": "markdown",
      "metadata": {
        "id": "T02e0klVxvRy"
      },
      "source": [
        "Sometimes we have an object of a given class that we want to inspect, as in learning more about it beyond just printing it. The function `str` returns the structure of an object."
      ]
    },
    {
      "cell_type": "code",
      "execution_count": 51,
      "metadata": {
        "id": "EAtJfo8yx6MQ",
        "colab": {
          "base_uri": "https://localhost:8080/"
        },
        "outputId": "a61417c1-ae5b-4166-e04e-3bcaf4d134e3"
      },
      "outputs": [
        {
          "output_type": "stream",
          "name": "stdout",
          "text": [
            "* Structure of object \"x\"\n",
            " num [1:10000] 0.753 2.014 -0.355 2.028 -2.217 ...\n",
            "* Structure of object \"y\"\n",
            "List of 4\n",
            " $ A: int [1:100] 1 2 3 4 5 6 7 8 9 10 ...\n",
            " $ B: chr [1:22] \"a\" \"b\" \"c\" \"d\" ...\n",
            " $ C: num [1:10] 0.413 -0.8354 0.8998 -0.0885 -0.6267 ...\n",
            " $ D: logi [1:3] TRUE TRUE FALSE\n",
            "* Structure of object \"z\"\n",
            "'data.frame':\t100 obs. of  3 variables:\n",
            " $ col1: int  1 2 3 4 5 6 7 8 9 10 ...\n",
            " $ col2: int  101 102 103 104 105 106 107 108 109 110 ...\n",
            " $ col3: int  201 202 203 204 205 206 207 208 209 210 ...\n"
          ]
        }
      ],
      "source": [
        "set.seed(666)  # This functions \"controls\" the random\n",
        "x <- rnorm(10000, mean = 0, sd = 1)  # 10K random values from a standard normal\n",
        "y <- list(A = 1:100, B = letters[1:22], C = rnorm(10), D = c(TRUE, TRUE, FALSE))\n",
        "z <- data.frame(col1 = 1:100, col2 = 101:200, col3 = 201:300)\n",
        "w <- as.matrix(z)\n",
        "\n",
        "cat('* Structure of object \"x\"\\n')\n",
        "str(x)  # This functions provides the structure of the object\n",
        "cat('* Structure of object \"y\"\\n')\n",
        "str(y)\n",
        "cat('* Structure of object \"z\"\\n')\n",
        "str(z)"
      ]
    },
    {
      "cell_type": "markdown",
      "metadata": {
        "id": "sNrLU8hVozYn"
      },
      "source": [
        "The function `summary` that we mentionned above applies to most classes."
      ]
    },
    {
      "cell_type": "code",
      "source": [
        "print(summary(x))\n",
        "print(summary(y))\n",
        "print(summary(z))"
      ],
      "metadata": {
        "colab": {
          "base_uri": "https://localhost:8080/"
        },
        "id": "i9seFI7L63Jp",
        "outputId": "d215ba42-7d86-46d2-d17b-db27bf638191"
      },
      "execution_count": 52,
      "outputs": [
        {
          "output_type": "stream",
          "name": "stdout",
          "text": [
            "    Min.  1st Qu.   Median     Mean  3rd Qu.     Max. \n",
            "-3.73887 -0.65872  0.02748  0.01521  0.68787  3.65146 \n",
            "  Length Class  Mode     \n",
            "A 100    -none- numeric  \n",
            "B  22    -none- character\n",
            "C  10    -none- numeric  \n",
            "D   3    -none- logical  \n",
            "      col1             col2            col3      \n",
            " Min.   :  1.00   Min.   :101.0   Min.   :201.0  \n",
            " 1st Qu.: 25.75   1st Qu.:125.8   1st Qu.:225.8  \n",
            " Median : 50.50   Median :150.5   Median :250.5  \n",
            " Mean   : 50.50   Mean   :150.5   Mean   :250.5  \n",
            " 3rd Qu.: 75.25   3rd Qu.:175.2   3rd Qu.:275.2  \n",
            " Max.   :100.00   Max.   :200.0   Max.   :300.0  \n"
          ]
        }
      ]
    },
    {
      "cell_type": "markdown",
      "metadata": {
        "id": "uc6FWAV40Gu-"
      },
      "source": [
        "### 3.4 Object attributes\n",
        "Object attributes also gets you information on objects. They are specific to classes.\n",
        "\n",
        "Matrices and data.frames have dimensions and names"
      ]
    },
    {
      "cell_type": "code",
      "execution_count": 53,
      "metadata": {
        "id": "Pj8RLKZ01Kah",
        "colab": {
          "base_uri": "https://localhost:8080/",
          "height": 121
        },
        "outputId": "6f903b26-4870-477c-d867-3b17bc4b6d20"
      },
      "outputs": [
        {
          "output_type": "display_data",
          "data": {
            "text/html": [
              "<style>\n",
              ".list-inline {list-style: none; margin:0; padding: 0}\n",
              ".list-inline>li {display: inline-block}\n",
              ".list-inline>li:not(:last-child)::after {content: \"\\00b7\"; padding: 0 .5ex}\n",
              "</style>\n",
              "<ol class=list-inline><li>100</li><li>3</li></ol>\n"
            ],
            "text/markdown": "1. 100\n2. 3\n\n\n",
            "text/latex": "\\begin{enumerate*}\n\\item 100\n\\item 3\n\\end{enumerate*}\n",
            "text/plain": [
              "[1] 100   3"
            ]
          },
          "metadata": {}
        },
        {
          "output_type": "display_data",
          "data": {
            "text/html": [
              "100"
            ],
            "text/markdown": "100",
            "text/latex": "100",
            "text/plain": [
              "[1] 100"
            ]
          },
          "metadata": {}
        },
        {
          "output_type": "display_data",
          "data": {
            "text/html": [
              "3"
            ],
            "text/markdown": "3",
            "text/latex": "3",
            "text/plain": [
              "[1] 3"
            ]
          },
          "metadata": {}
        },
        {
          "output_type": "display_data",
          "data": {
            "text/html": [
              "<style>\n",
              ".list-inline {list-style: none; margin:0; padding: 0}\n",
              ".list-inline>li {display: inline-block}\n",
              ".list-inline>li:not(:last-child)::after {content: \"\\00b7\"; padding: 0 .5ex}\n",
              "</style>\n",
              "<ol class=list-inline><li>'col1'</li><li>'col2'</li><li>'col3'</li></ol>\n"
            ],
            "text/markdown": "1. 'col1'\n2. 'col2'\n3. 'col3'\n\n\n",
            "text/latex": "\\begin{enumerate*}\n\\item 'col1'\n\\item 'col2'\n\\item 'col3'\n\\end{enumerate*}\n",
            "text/plain": [
              "[1] \"col1\" \"col2\" \"col3\""
            ]
          },
          "metadata": {}
        },
        {
          "output_type": "display_data",
          "data": {
            "text/html": [
              "<style>\n",
              ".list-inline {list-style: none; margin:0; padding: 0}\n",
              ".list-inline>li {display: inline-block}\n",
              ".list-inline>li:not(:last-child)::after {content: \"\\00b7\"; padding: 0 .5ex}\n",
              "</style>\n",
              "<ol class=list-inline><li>'1'</li><li>'2'</li><li>'3'</li><li>'4'</li><li>'5'</li><li>'6'</li></ol>\n"
            ],
            "text/markdown": "1. '1'\n2. '2'\n3. '3'\n4. '4'\n5. '5'\n6. '6'\n\n\n",
            "text/latex": "\\begin{enumerate*}\n\\item '1'\n\\item '2'\n\\item '3'\n\\item '4'\n\\item '5'\n\\item '6'\n\\end{enumerate*}\n",
            "text/plain": [
              "[1] \"1\" \"2\" \"3\" \"4\" \"5\" \"6\""
            ]
          },
          "metadata": {}
        },
        {
          "output_type": "display_data",
          "data": {
            "text/html": [
              "<style>\n",
              ".list-inline {list-style: none; margin:0; padding: 0}\n",
              ".list-inline>li {display: inline-block}\n",
              ".list-inline>li:not(:last-child)::after {content: \"\\00b7\"; padding: 0 .5ex}\n",
              "</style>\n",
              "<ol class=list-inline><li>'row1'</li><li>'row2'</li><li>'row3'</li><li>'row4'</li><li>'row5'</li><li>'row6'</li></ol>\n"
            ],
            "text/markdown": "1. 'row1'\n2. 'row2'\n3. 'row3'\n4. 'row4'\n5. 'row5'\n6. 'row6'\n\n\n",
            "text/latex": "\\begin{enumerate*}\n\\item 'row1'\n\\item 'row2'\n\\item 'row3'\n\\item 'row4'\n\\item 'row5'\n\\item 'row6'\n\\end{enumerate*}\n",
            "text/plain": [
              "[1] \"row1\" \"row2\" \"row3\" \"row4\" \"row5\" \"row6\""
            ]
          },
          "metadata": {}
        }
      ],
      "source": [
        "dim(z)  # Dimension\n",
        "nrow(z)  # No. of rows\n",
        "ncol(z)  # No. of columns\n",
        "colnames(z)  # Names of the columns\n",
        "head(rownames(z))  # Names of the rows\n",
        "rownames(z) <- paste('row', 1:nrow(z), sep = '')  # All these can be changed\n",
        "head(rownames(z))"
      ]
    },
    {
      "cell_type": "markdown",
      "source": [
        "Lists and vectors can also have names but no dimension (they have length)."
      ],
      "metadata": {
        "id": "Lh_Pv9yv7-81"
      }
    },
    {
      "cell_type": "code",
      "execution_count": 54,
      "metadata": {
        "id": "VNpMZfGrHFBa",
        "colab": {
          "base_uri": "https://localhost:8080/",
          "height": 52
        },
        "outputId": "e66da15d-3540-409d-cd9b-4c85b2f88e6d"
      },
      "outputs": [
        {
          "output_type": "display_data",
          "data": {
            "text/html": [
              "<style>\n",
              ".list-inline {list-style: none; margin:0; padding: 0}\n",
              ".list-inline>li {display: inline-block}\n",
              ".list-inline>li:not(:last-child)::after {content: \"\\00b7\"; padding: 0 .5ex}\n",
              "</style>\n",
              "<ol class=list-inline><li>'A'</li><li>'B'</li><li>'C'</li><li>'D'</li></ol>\n"
            ],
            "text/markdown": "1. 'A'\n2. 'B'\n3. 'C'\n4. 'D'\n\n\n",
            "text/latex": "\\begin{enumerate*}\n\\item 'A'\n\\item 'B'\n\\item 'C'\n\\item 'D'\n\\end{enumerate*}\n",
            "text/plain": [
              "[1] \"A\" \"B\" \"C\" \"D\""
            ]
          },
          "metadata": {}
        },
        {
          "output_type": "display_data",
          "data": {
            "text/html": [
              "4"
            ],
            "text/markdown": "4",
            "text/latex": "4",
            "text/plain": [
              "[1] 4"
            ]
          },
          "metadata": {}
        }
      ],
      "source": [
        "names(y)\n",
        "length(y)"
      ]
    },
    {
      "cell_type": "code",
      "execution_count": 55,
      "metadata": {
        "id": "SeYMIQpkHHZf",
        "colab": {
          "base_uri": "https://localhost:8080/",
          "height": 69
        },
        "outputId": "a4c48df0-3432-4060-bf98-31a1b6237b7a"
      },
      "outputs": [
        {
          "output_type": "display_data",
          "data": {
            "text/plain": [
              "NULL"
            ]
          },
          "metadata": {}
        },
        {
          "output_type": "display_data",
          "data": {
            "text/html": [
              "10000"
            ],
            "text/markdown": "10000",
            "text/latex": "10000",
            "text/plain": [
              "[1] 10000"
            ]
          },
          "metadata": {}
        },
        {
          "output_type": "display_data",
          "data": {
            "text/html": [
              "<style>\n",
              ".list-inline {list-style: none; margin:0; padding: 0}\n",
              ".list-inline>li {display: inline-block}\n",
              ".list-inline>li:not(:last-child)::after {content: \"\\00b7\"; padding: 0 .5ex}\n",
              "</style>\n",
              "<ol class=list-inline><li>'val1'</li><li>'val2'</li><li>'val3'</li><li>'val4'</li><li>'val5'</li><li>'val6'</li></ol>\n"
            ],
            "text/markdown": "1. 'val1'\n2. 'val2'\n3. 'val3'\n4. 'val4'\n5. 'val5'\n6. 'val6'\n\n\n",
            "text/latex": "\\begin{enumerate*}\n\\item 'val1'\n\\item 'val2'\n\\item 'val3'\n\\item 'val4'\n\\item 'val5'\n\\item 'val6'\n\\end{enumerate*}\n",
            "text/plain": [
              "[1] \"val1\" \"val2\" \"val3\" \"val4\" \"val5\" \"val6\""
            ]
          },
          "metadata": {}
        }
      ],
      "source": [
        "names(x)  # This vector has no names, but they can be assigned\n",
        "length(x)\n",
        "names(x) <- paste('val', 1:length(x), sep = '')\n",
        "head(names(x))"
      ]
    },
    {
      "cell_type": "code",
      "execution_count": 56,
      "metadata": {
        "id": "pbGOmB92HInN",
        "colab": {
          "base_uri": "https://localhost:8080/",
          "height": 69
        },
        "outputId": "dc894c59-66d9-4710-e6f8-b587d990497a"
      },
      "outputs": [
        {
          "output_type": "display_data",
          "data": {
            "text/plain": [
              "v\n",
              "A B C \n",
              "4 2 3 "
            ]
          },
          "metadata": {}
        }
      ],
      "source": [
        "# For non-continuous vectors, this is a really useful function\n",
        "v <- c('A', 'B', 'A', 'C', 'C', 'A', 'A', 'B', 'C')\n",
        "table(v)  # Absolute frequencies (VERY USEFUL function)"
      ]
    },
    {
      "cell_type": "markdown",
      "metadata": {
        "id": "wd1s0I432Swu"
      },
      "source": [
        "### 3.5 Indexing\n",
        "The ways to access elements of multi-valued objects depend on their class."
      ]
    },
    {
      "cell_type": "markdown",
      "source": [
        "Vectors: use single square brackets (access either by position or by name)"
      ],
      "metadata": {
        "id": "cptuu8zq93Oj"
      }
    },
    {
      "cell_type": "code",
      "execution_count": 60,
      "metadata": {
        "id": "C2myoUtK2T_-",
        "colab": {
          "base_uri": "https://localhost:8080/",
          "height": 104
        },
        "outputId": "ba1e4e9b-d064-436e-96c3-b9b7a309f6d5"
      },
      "outputs": [
        {
          "output_type": "display_data",
          "data": {
            "text/html": [
              "<style>\n",
              ".dl-inline {width: auto; margin:0; padding: 0}\n",
              ".dl-inline>dt, .dl-inline>dd {float: none; width: auto; display: inline-block}\n",
              ".dl-inline>dt::after {content: \":\\0020\"; padding-right: .5ex}\n",
              ".dl-inline>dt:not(:first-of-type) {padding-left: .5ex}\n",
              "</style><dl class=dl-inline><dt>val1</dt><dd>0.753311046217783</dd><dt>val2</dt><dd>2.01435466569865</dd></dl>\n"
            ],
            "text/markdown": "val1\n:   0.753311046217783val2\n:   2.01435466569865\n\n",
            "text/latex": "\\begin{description*}\n\\item[val1] 0.753311046217783\n\\item[val2] 2.01435466569865\n\\end{description*}\n",
            "text/plain": [
              "    val1     val2 \n",
              "0.753311 2.014355 "
            ]
          },
          "metadata": {}
        },
        {
          "output_type": "display_data",
          "data": {
            "text/html": [
              "<strong>val1:</strong> 0.753311046217783"
            ],
            "text/markdown": "**val1:** 0.753311046217783",
            "text/latex": "\\textbf{val1:} 0.753311046217783",
            "text/plain": [
              "    val1 \n",
              "0.753311 "
            ]
          },
          "metadata": {}
        },
        {
          "output_type": "display_data",
          "data": {
            "text/html": [
              "<style>\n",
              ".dl-inline {width: auto; margin:0; padding: 0}\n",
              ".dl-inline>dt, .dl-inline>dd {float: none; width: auto; display: inline-block}\n",
              ".dl-inline>dt::after {content: \":\\0020\"; padding-right: .5ex}\n",
              ".dl-inline>dt:not(:first-of-type) {padding-left: .5ex}\n",
              "</style><dl class=dl-inline><dt>val2</dt><dd>2.01435466569865</dd><dt>val3</dt><dd>-0.355134460371891</dd><dt>val4</dt><dd>2.02816784264222</dd><dt>val5</dt><dd>-2.21687445114244</dd><dt>val6</dt><dd>0.758396178001042</dd><dt>val7</dt><dd>-1.3061852590117</dd></dl>\n"
            ],
            "text/markdown": "val2\n:   2.01435466569865val3\n:   -0.355134460371891val4\n:   2.02816784264222val5\n:   -2.21687445114244val6\n:   0.758396178001042val7\n:   -1.3061852590117\n\n",
            "text/latex": "\\begin{description*}\n\\item[val2] 2.01435466569865\n\\item[val3] -0.355134460371891\n\\item[val4] 2.02816784264222\n\\item[val5] -2.21687445114244\n\\item[val6] 0.758396178001042\n\\item[val7] -1.3061852590117\n\\end{description*}\n",
            "text/plain": [
              "      val2       val3       val4       val5       val6       val7 \n",
              " 2.0143547 -0.3551345  2.0281678 -2.2168745  0.7583962 -1.3061853 "
            ]
          },
          "metadata": {}
        },
        {
          "output_type": "display_data",
          "data": {
            "text/html": [
              "<style>\n",
              ".dl-inline {width: auto; margin:0; padding: 0}\n",
              ".dl-inline>dt, .dl-inline>dd {float: none; width: auto; display: inline-block}\n",
              ".dl-inline>dt::after {content: \":\\0020\"; padding-right: .5ex}\n",
              ".dl-inline>dt:not(:first-of-type) {padding-left: .5ex}\n",
              "</style><dl class=dl-inline><dt>val6</dt><dd>0.758396178001042</dd><dt>val7</dt><dd>-1.3061852590117</dd><dt>val8</dt><dd>-0.802519568703793</dd><dt>val9</dt><dd>-1.79224083446114</dd><dt>val10</dt><dd>-0.0420324540227439</dd><dt>val11</dt><dd>2.15004261784474</dd></dl>\n"
            ],
            "text/markdown": "val6\n:   0.758396178001042val7\n:   -1.3061852590117val8\n:   -0.802519568703793val9\n:   -1.79224083446114val10\n:   -0.0420324540227439val11\n:   2.15004261784474\n\n",
            "text/latex": "\\begin{description*}\n\\item[val6] 0.758396178001042\n\\item[val7] -1.3061852590117\n\\item[val8] -0.802519568703793\n\\item[val9] -1.79224083446114\n\\item[val10] -0.0420324540227439\n\\item[val11] 2.15004261784474\n\\end{description*}\n",
            "text/plain": [
              "       val6        val7        val8        val9       val10       val11 \n",
              " 0.75839618 -1.30618526 -0.80251957 -1.79224083 -0.04203245  2.15004262 "
            ]
          },
          "metadata": {}
        },
        {
          "output_type": "display_data",
          "data": {
            "text/html": [
              "<strong>val17:</strong> 0.85830054437592"
            ],
            "text/markdown": "**val17:** 0.85830054437592",
            "text/latex": "\\textbf{val17:} 0.85830054437592",
            "text/plain": [
              "    val17 \n",
              "0.8583005 "
            ]
          },
          "metadata": {}
        }
      ],
      "source": [
        "x[1:2]\n",
        "x['val1']  # same\n",
        "head(x[-1])  # negative indices used to drop elements: all elements except the first\n",
        "head(x[-(1:5)])  # return every element except those in 1 to 5\n",
        "x[11:20][7]  # you can \"double\" subsets: return element 7 from the set 11 to 20"
      ]
    },
    {
      "cell_type": "markdown",
      "source": [
        "Lists: double square brackets (position or name)"
      ],
      "metadata": {
        "id": "aEYJnTG5_yjz"
      }
    },
    {
      "cell_type": "code",
      "execution_count": 61,
      "metadata": {
        "id": "wLDRnV0KHR7W",
        "colab": {
          "base_uri": "https://localhost:8080/",
          "height": 104
        },
        "outputId": "878e3cc5-82e8-4655-aea8-5f4ebd6dfb19"
      },
      "outputs": [
        {
          "output_type": "display_data",
          "data": {
            "text/html": [
              "<style>\n",
              ".list-inline {list-style: none; margin:0; padding: 0}\n",
              ".list-inline>li {display: inline-block}\n",
              ".list-inline>li:not(:last-child)::after {content: \"\\00b7\"; padding: 0 .5ex}\n",
              "</style>\n",
              "<ol class=list-inline><li>1</li><li>2</li><li>3</li><li>4</li><li>5</li><li>6</li><li>7</li><li>8</li><li>9</li><li>10</li><li>11</li><li>12</li><li>13</li><li>14</li><li>15</li><li>16</li><li>17</li><li>18</li><li>19</li><li>20</li><li>21</li><li>22</li><li>23</li><li>24</li><li>25</li><li>26</li><li>27</li><li>28</li><li>29</li><li>30</li><li>31</li><li>32</li><li>33</li><li>34</li><li>35</li><li>36</li><li>37</li><li>38</li><li>39</li><li>40</li><li>41</li><li>42</li><li>43</li><li>44</li><li>45</li><li>46</li><li>47</li><li>48</li><li>49</li><li>50</li><li>51</li><li>52</li><li>53</li><li>54</li><li>55</li><li>56</li><li>57</li><li>58</li><li>59</li><li>60</li><li>61</li><li>62</li><li>63</li><li>64</li><li>65</li><li>66</li><li>67</li><li>68</li><li>69</li><li>70</li><li>71</li><li>72</li><li>73</li><li>74</li><li>75</li><li>76</li><li>77</li><li>78</li><li>79</li><li>80</li><li>81</li><li>82</li><li>83</li><li>84</li><li>85</li><li>86</li><li>87</li><li>88</li><li>89</li><li>90</li><li>91</li><li>92</li><li>93</li><li>94</li><li>95</li><li>96</li><li>97</li><li>98</li><li>99</li><li>100</li></ol>\n"
            ],
            "text/markdown": "1. 1\n2. 2\n3. 3\n4. 4\n5. 5\n6. 6\n7. 7\n8. 8\n9. 9\n10. 10\n11. 11\n12. 12\n13. 13\n14. 14\n15. 15\n16. 16\n17. 17\n18. 18\n19. 19\n20. 20\n21. 21\n22. 22\n23. 23\n24. 24\n25. 25\n26. 26\n27. 27\n28. 28\n29. 29\n30. 30\n31. 31\n32. 32\n33. 33\n34. 34\n35. 35\n36. 36\n37. 37\n38. 38\n39. 39\n40. 40\n41. 41\n42. 42\n43. 43\n44. 44\n45. 45\n46. 46\n47. 47\n48. 48\n49. 49\n50. 50\n51. 51\n52. 52\n53. 53\n54. 54\n55. 55\n56. 56\n57. 57\n58. 58\n59. 59\n60. 60\n61. 61\n62. 62\n63. 63\n64. 64\n65. 65\n66. 66\n67. 67\n68. 68\n69. 69\n70. 70\n71. 71\n72. 72\n73. 73\n74. 74\n75. 75\n76. 76\n77. 77\n78. 78\n79. 79\n80. 80\n81. 81\n82. 82\n83. 83\n84. 84\n85. 85\n86. 86\n87. 87\n88. 88\n89. 89\n90. 90\n91. 91\n92. 92\n93. 93\n94. 94\n95. 95\n96. 96\n97. 97\n98. 98\n99. 99\n100. 100\n\n\n",
            "text/latex": "\\begin{enumerate*}\n\\item 1\n\\item 2\n\\item 3\n\\item 4\n\\item 5\n\\item 6\n\\item 7\n\\item 8\n\\item 9\n\\item 10\n\\item 11\n\\item 12\n\\item 13\n\\item 14\n\\item 15\n\\item 16\n\\item 17\n\\item 18\n\\item 19\n\\item 20\n\\item 21\n\\item 22\n\\item 23\n\\item 24\n\\item 25\n\\item 26\n\\item 27\n\\item 28\n\\item 29\n\\item 30\n\\item 31\n\\item 32\n\\item 33\n\\item 34\n\\item 35\n\\item 36\n\\item 37\n\\item 38\n\\item 39\n\\item 40\n\\item 41\n\\item 42\n\\item 43\n\\item 44\n\\item 45\n\\item 46\n\\item 47\n\\item 48\n\\item 49\n\\item 50\n\\item 51\n\\item 52\n\\item 53\n\\item 54\n\\item 55\n\\item 56\n\\item 57\n\\item 58\n\\item 59\n\\item 60\n\\item 61\n\\item 62\n\\item 63\n\\item 64\n\\item 65\n\\item 66\n\\item 67\n\\item 68\n\\item 69\n\\item 70\n\\item 71\n\\item 72\n\\item 73\n\\item 74\n\\item 75\n\\item 76\n\\item 77\n\\item 78\n\\item 79\n\\item 80\n\\item 81\n\\item 82\n\\item 83\n\\item 84\n\\item 85\n\\item 86\n\\item 87\n\\item 88\n\\item 89\n\\item 90\n\\item 91\n\\item 92\n\\item 93\n\\item 94\n\\item 95\n\\item 96\n\\item 97\n\\item 98\n\\item 99\n\\item 100\n\\end{enumerate*}\n",
            "text/plain": [
              "  [1]   1   2   3   4   5   6   7   8   9  10  11  12  13  14  15  16  17  18\n",
              " [19]  19  20  21  22  23  24  25  26  27  28  29  30  31  32  33  34  35  36\n",
              " [37]  37  38  39  40  41  42  43  44  45  46  47  48  49  50  51  52  53  54\n",
              " [55]  55  56  57  58  59  60  61  62  63  64  65  66  67  68  69  70  71  72\n",
              " [73]  73  74  75  76  77  78  79  80  81  82  83  84  85  86  87  88  89  90\n",
              " [91]  91  92  93  94  95  96  97  98  99 100"
            ]
          },
          "metadata": {}
        },
        {
          "output_type": "display_data",
          "data": {
            "text/html": [
              "<style>\n",
              ".list-inline {list-style: none; margin:0; padding: 0}\n",
              ".list-inline>li {display: inline-block}\n",
              ".list-inline>li:not(:last-child)::after {content: \"\\00b7\"; padding: 0 .5ex}\n",
              "</style>\n",
              "<ol class=list-inline><li>1</li><li>2</li><li>3</li><li>4</li><li>5</li><li>6</li><li>7</li><li>8</li><li>9</li><li>10</li></ol>\n"
            ],
            "text/markdown": "1. 1\n2. 2\n3. 3\n4. 4\n5. 5\n6. 6\n7. 7\n8. 8\n9. 9\n10. 10\n\n\n",
            "text/latex": "\\begin{enumerate*}\n\\item 1\n\\item 2\n\\item 3\n\\item 4\n\\item 5\n\\item 6\n\\item 7\n\\item 8\n\\item 9\n\\item 10\n\\end{enumerate*}\n",
            "text/plain": [
              " [1]  1  2  3  4  5  6  7  8  9 10"
            ]
          },
          "metadata": {}
        },
        {
          "output_type": "display_data",
          "data": {
            "text/html": [
              "<style>\n",
              ".list-inline {list-style: none; margin:0; padding: 0}\n",
              ".list-inline>li {display: inline-block}\n",
              ".list-inline>li:not(:last-child)::after {content: \"\\00b7\"; padding: 0 .5ex}\n",
              "</style>\n",
              "<ol class=list-inline><li>1</li><li>2</li><li>3</li><li>4</li><li>5</li><li>6</li><li>7</li><li>8</li><li>9</li><li>10</li></ol>\n"
            ],
            "text/markdown": "1. 1\n2. 2\n3. 3\n4. 4\n5. 5\n6. 6\n7. 7\n8. 8\n9. 9\n10. 10\n\n\n",
            "text/latex": "\\begin{enumerate*}\n\\item 1\n\\item 2\n\\item 3\n\\item 4\n\\item 5\n\\item 6\n\\item 7\n\\item 8\n\\item 9\n\\item 10\n\\end{enumerate*}\n",
            "text/plain": [
              " [1]  1  2  3  4  5  6  7  8  9 10"
            ]
          },
          "metadata": {}
        },
        {
          "output_type": "display_data",
          "data": {
            "text/html": [
              "<style>\n",
              ".list-inline {list-style: none; margin:0; padding: 0}\n",
              ".list-inline>li {display: inline-block}\n",
              ".list-inline>li:not(:last-child)::after {content: \"\\00b7\"; padding: 0 .5ex}\n",
              "</style>\n",
              "<ol class=list-inline><li>1</li><li>2</li><li>3</li><li>4</li><li>5</li><li>6</li><li>7</li><li>8</li><li>9</li><li>10</li></ol>\n"
            ],
            "text/markdown": "1. 1\n2. 2\n3. 3\n4. 4\n5. 5\n6. 6\n7. 7\n8. 8\n9. 9\n10. 10\n\n\n",
            "text/latex": "\\begin{enumerate*}\n\\item 1\n\\item 2\n\\item 3\n\\item 4\n\\item 5\n\\item 6\n\\item 7\n\\item 8\n\\item 9\n\\item 10\n\\end{enumerate*}\n",
            "text/plain": [
              " [1]  1  2  3  4  5  6  7  8  9 10"
            ]
          },
          "metadata": {}
        }
      ],
      "source": [
        "y[[1]]  # First element of the list is a vector\n",
        "y[[1]] <- y[[1]][1:10]  # Lets shorten it: keep first ten values (reassignment)\n",
        "y[[1]]  # Repeat: now shorter vector\n",
        "y[['A']]  # same result\n",
        "y$A  # same, but NOT recommended: \"partial matching\" can cause errors"
      ]
    },
    {
      "cell_type": "markdown",
      "source": [
        "Why not use the \"$\" operator? Let's see what can happen"
      ],
      "metadata": {
        "id": "6Mn-j-18_2wy"
      }
    },
    {
      "cell_type": "code",
      "execution_count": 62,
      "metadata": {
        "id": "J4g-FaeIHUBG",
        "colab": {
          "base_uri": "https://localhost:8080/",
          "height": 52
        },
        "outputId": "6c3b2635-4af3-42be-cb94-3266e98a1791"
      },
      "outputs": [
        {
          "output_type": "display_data",
          "data": {
            "text/plain": [
              "NULL"
            ]
          },
          "metadata": {}
        },
        {
          "output_type": "display_data",
          "data": {
            "text/html": [
              "<style>\n",
              ".list-inline {list-style: none; margin:0; padding: 0}\n",
              ".list-inline>li {display: inline-block}\n",
              ".list-inline>li:not(:last-child)::after {content: \"\\00b7\"; padding: 0 .5ex}\n",
              "</style>\n",
              "<ol class=list-inline><li>1</li><li>2</li><li>3</li><li>4</li><li>5</li><li>6</li><li>7</li><li>8</li><li>9</li><li>10</li></ol>\n"
            ],
            "text/markdown": "1. 1\n2. 2\n3. 3\n4. 4\n5. 5\n6. 6\n7. 7\n8. 8\n9. 9\n10. 10\n\n\n",
            "text/latex": "\\begin{enumerate*}\n\\item 1\n\\item 2\n\\item 3\n\\item 4\n\\item 5\n\\item 6\n\\item 7\n\\item 8\n\\item 9\n\\item 10\n\\end{enumerate*}\n",
            "text/plain": [
              " [1]  1  2  3  4  5  6  7  8  9 10"
            ]
          },
          "metadata": {}
        }
      ],
      "source": [
        "names(y) <- c('Abcd', 'Defg', 'Hijk', 'Lmno')  # Let's set new names\n",
        "y[['A']]  # NA (well-done!): a slot named \"A\" does not exist\n",
        "y$A  # Returns an element, WRONG: I call for 'A' and it gives me something with a different name"
      ]
    },
    {
      "cell_type": "markdown",
      "source": [
        "data.frames and matrices: single square brackets with two entries separated by a comma, the first entry is for ROWS , the second for COLUMNS. Omitting an entry retrieves a row or a column."
      ],
      "metadata": {
        "id": "uCVmhZe3AKQ5"
      }
    },
    {
      "cell_type": "code",
      "execution_count": 64,
      "metadata": {
        "id": "FtHMETPjHVgf",
        "colab": {
          "base_uri": "https://localhost:8080/",
          "height": 294
        },
        "outputId": "0a63e870-f24a-4923-ad0e-a3a7d0e4237f"
      },
      "outputs": [
        {
          "output_type": "display_data",
          "data": {
            "text/html": [
              "1"
            ],
            "text/markdown": "1",
            "text/latex": "1",
            "text/plain": [
              "[1] 1"
            ]
          },
          "metadata": {}
        },
        {
          "output_type": "display_data",
          "data": {
            "text/html": [
              "<style>\n",
              ".list-inline {list-style: none; margin:0; padding: 0}\n",
              ".list-inline>li {display: inline-block}\n",
              ".list-inline>li:not(:last-child)::after {content: \"\\00b7\"; padding: 0 .5ex}\n",
              "</style>\n",
              "<ol class=list-inline><li>1</li><li>2</li><li>3</li><li>4</li><li>5</li><li>6</li></ol>\n"
            ],
            "text/markdown": "1. 1\n2. 2\n3. 3\n4. 4\n5. 5\n6. 6\n\n\n",
            "text/latex": "\\begin{enumerate*}\n\\item 1\n\\item 2\n\\item 3\n\\item 4\n\\item 5\n\\item 6\n\\end{enumerate*}\n",
            "text/plain": [
              "[1] 1 2 3 4 5 6"
            ]
          },
          "metadata": {}
        },
        {
          "output_type": "display_data",
          "data": {
            "text/html": [
              "<table class=\"dataframe\">\n",
              "<caption>A data.frame: 1 × 3</caption>\n",
              "<thead>\n",
              "\t<tr><th></th><th scope=col>col1</th><th scope=col>col2</th><th scope=col>col3</th></tr>\n",
              "\t<tr><th></th><th scope=col>&lt;int&gt;</th><th scope=col>&lt;int&gt;</th><th scope=col>&lt;int&gt;</th></tr>\n",
              "</thead>\n",
              "<tbody>\n",
              "\t<tr><th scope=row>row1</th><td>1</td><td>101</td><td>201</td></tr>\n",
              "</tbody>\n",
              "</table>\n"
            ],
            "text/markdown": "\nA data.frame: 1 × 3\n\n| <!--/--> | col1 &lt;int&gt; | col2 &lt;int&gt; | col3 &lt;int&gt; |\n|---|---|---|---|\n| row1 | 1 | 101 | 201 |\n\n",
            "text/latex": "A data.frame: 1 × 3\n\\begin{tabular}{r|lll}\n  & col1 & col2 & col3\\\\\n  & <int> & <int> & <int>\\\\\n\\hline\n\trow1 & 1 & 101 & 201\\\\\n\\end{tabular}\n",
            "text/plain": [
              "     col1 col2 col3\n",
              "row1 1    101  201 "
            ]
          },
          "metadata": {}
        },
        {
          "output_type": "display_data",
          "data": {
            "text/html": [
              "<style>\n",
              ".list-inline {list-style: none; margin:0; padding: 0}\n",
              ".list-inline>li {display: inline-block}\n",
              ".list-inline>li:not(:last-child)::after {content: \"\\00b7\"; padding: 0 .5ex}\n",
              "</style>\n",
              "<ol class=list-inline><li>1</li><li>2</li><li>3</li><li>4</li><li>5</li><li>6</li></ol>\n"
            ],
            "text/markdown": "1. 1\n2. 2\n3. 3\n4. 4\n5. 5\n6. 6\n\n\n",
            "text/latex": "\\begin{enumerate*}\n\\item 1\n\\item 2\n\\item 3\n\\item 4\n\\item 5\n\\item 6\n\\end{enumerate*}\n",
            "text/plain": [
              "[1] 1 2 3 4 5 6"
            ]
          },
          "metadata": {}
        },
        {
          "output_type": "display_data",
          "data": {
            "text/html": [
              "<table class=\"dataframe\">\n",
              "<caption>A data.frame: 1 × 3</caption>\n",
              "<thead>\n",
              "\t<tr><th></th><th scope=col>col1</th><th scope=col>col2</th><th scope=col>col3</th></tr>\n",
              "\t<tr><th></th><th scope=col>&lt;int&gt;</th><th scope=col>&lt;int&gt;</th><th scope=col>&lt;int&gt;</th></tr>\n",
              "</thead>\n",
              "<tbody>\n",
              "\t<tr><th scope=row>row1</th><td>1</td><td>101</td><td>201</td></tr>\n",
              "</tbody>\n",
              "</table>\n"
            ],
            "text/markdown": "\nA data.frame: 1 × 3\n\n| <!--/--> | col1 &lt;int&gt; | col2 &lt;int&gt; | col3 &lt;int&gt; |\n|---|---|---|---|\n| row1 | 1 | 101 | 201 |\n\n",
            "text/latex": "A data.frame: 1 × 3\n\\begin{tabular}{r|lll}\n  & col1 & col2 & col3\\\\\n  & <int> & <int> & <int>\\\\\n\\hline\n\trow1 & 1 & 101 & 201\\\\\n\\end{tabular}\n",
            "text/plain": [
              "     col1 col2 col3\n",
              "row1 1    101  201 "
            ]
          },
          "metadata": {}
        }
      ],
      "source": [
        "z[1, 1]  # element 1 in column 1\n",
        "head(z[, 1])  # column 1\n",
        "head(z[1, ])  # row 1\n",
        "head(z[, 'col1'])\n",
        "head(z['row1', ])"
      ]
    },
    {
      "cell_type": "markdown",
      "source": [
        "You can also use \"$\" in data.frames to retrieve columns, but not for matrices"
      ],
      "metadata": {
        "id": "UO4AEZwzBoND"
      }
    },
    {
      "cell_type": "code",
      "execution_count": 69,
      "metadata": {
        "id": "6-_cvkx_HX4h",
        "colab": {
          "base_uri": "https://localhost:8080/",
          "height": 69
        },
        "outputId": "3af356f0-c947-440b-d516-3737668e9961"
      },
      "outputs": [
        {
          "output_type": "display_data",
          "data": {
            "text/html": [
              "<style>\n",
              ".list-inline {list-style: none; margin:0; padding: 0}\n",
              ".list-inline>li {display: inline-block}\n",
              ".list-inline>li:not(:last-child)::after {content: \"\\00b7\"; padding: 0 .5ex}\n",
              "</style>\n",
              "<ol class=list-inline><li>1</li><li>2</li><li>3</li><li>4</li><li>5</li><li>6</li></ol>\n"
            ],
            "text/markdown": "1. 1\n2. 2\n3. 3\n4. 4\n5. 5\n6. 6\n\n\n",
            "text/latex": "\\begin{enumerate*}\n\\item 1\n\\item 2\n\\item 3\n\\item 4\n\\item 5\n\\item 6\n\\end{enumerate*}\n",
            "text/plain": [
              "[1] 1 2 3 4 5 6"
            ]
          },
          "metadata": {}
        },
        {
          "output_type": "stream",
          "name": "stdout",
          "text": [
            "Error in w$col1 : $ operator is invalid for atomic vectors\n"
          ]
        },
        {
          "output_type": "display_data",
          "data": {
            "text/html": [
              "<style>\n",
              ".list-inline {list-style: none; margin:0; padding: 0}\n",
              ".list-inline>li {display: inline-block}\n",
              ".list-inline>li:not(:last-child)::after {content: \"\\00b7\"; padding: 0 .5ex}\n",
              "</style>\n",
              "<ol class=list-inline><li>1</li><li>2</li><li>3</li><li>4</li><li>5</li><li>6</li></ol>\n"
            ],
            "text/markdown": "1. 1\n2. 2\n3. 3\n4. 4\n5. 5\n6. 6\n\n\n",
            "text/latex": "\\begin{enumerate*}\n\\item 1\n\\item 2\n\\item 3\n\\item 4\n\\item 5\n\\item 6\n\\end{enumerate*}\n",
            "text/plain": [
              "[1] 1 2 3 4 5 6"
            ]
          },
          "metadata": {}
        }
      ],
      "source": [
        "head(z$col1)  # In data.frame: NOT recommended because of partial matching again\n",
        "try(head(w$col1))  # In matrix: ERROR (we introduce \"try()\" later on)\n",
        "\n",
        "colnames(z) <- c('Abcd', 'Defg', 'Hijk')  # Same exercise: partial matching\n",
        "#head(z[, 'A'])  # ERROR: good!\n",
        "head(z$A)  # Again: it gives you something you're not asking for"
      ]
    },
    {
      "cell_type": "markdown",
      "metadata": {
        "id": "G9zgb-1v0sR-"
      },
      "source": [
        "Generally, avoid the use of the `$` operator: it's shorter code but more prone to errors (code of lower quality and robustness), especially in lists and `data.frame`'s. Instead, use either position indexing or (if named) full quotation."
      ]
    },
    {
      "cell_type": "markdown",
      "metadata": {
        "id": "oLjxvmSqo12f"
      },
      "source": [
        "---\n",
        "## 4. Operators"
      ]
    },
    {
      "cell_type": "markdown",
      "metadata": {
        "id": "CwMWyAL9o49K"
      },
      "source": [
        "We provide a list of the native `R` operators with an example:"
      ]
    },
    {
      "cell_type": "markdown",
      "metadata": {
        "id": "c36iyh1m-v_e"
      },
      "source": [
        "### 4.1 Basic operators"
      ]
    },
    {
      "cell_type": "markdown",
      "metadata": {
        "id": "dpElV0aqfji5"
      },
      "source": [
        "*   **Arithmetic** operators"
      ]
    },
    {
      "cell_type": "code",
      "execution_count": 70,
      "metadata": {
        "id": "PFkHjU2p1AjS",
        "colab": {
          "base_uri": "https://localhost:8080/",
          "height": 448
        },
        "outputId": "fc1ccc39-51a9-4717-c348-6372471f805a"
      },
      "outputs": [
        {
          "output_type": "display_data",
          "data": {
            "text/html": [
              "4"
            ],
            "text/markdown": "4",
            "text/latex": "4",
            "text/plain": [
              "[1] 4"
            ]
          },
          "metadata": {}
        },
        {
          "output_type": "display_data",
          "data": {
            "text/html": [
              "2"
            ],
            "text/markdown": "2",
            "text/latex": "2",
            "text/plain": [
              "[1] 2"
            ]
          },
          "metadata": {}
        },
        {
          "output_type": "display_data",
          "data": {
            "text/html": [
              "10"
            ],
            "text/markdown": "10",
            "text/latex": "10",
            "text/plain": [
              "[1] 10"
            ]
          },
          "metadata": {}
        },
        {
          "output_type": "display_data",
          "data": {
            "text/html": [
              "2.5"
            ],
            "text/markdown": "2.5",
            "text/latex": "2.5",
            "text/plain": [
              "[1] 2.5"
            ]
          },
          "metadata": {}
        },
        {
          "output_type": "display_data",
          "data": {
            "text/html": [
              "1"
            ],
            "text/markdown": "1",
            "text/latex": "1",
            "text/plain": [
              "[1] 1"
            ]
          },
          "metadata": {}
        },
        {
          "output_type": "display_data",
          "data": {
            "text/html": [
              "2"
            ],
            "text/markdown": "2",
            "text/latex": "2",
            "text/plain": [
              "[1] 2"
            ]
          },
          "metadata": {}
        },
        {
          "output_type": "display_data",
          "data": {
            "text/html": [
              "8"
            ],
            "text/markdown": "8",
            "text/latex": "8",
            "text/plain": [
              "[1] 8"
            ]
          },
          "metadata": {}
        },
        {
          "output_type": "display_data",
          "data": {
            "text/html": [
              "2.71828182845905"
            ],
            "text/markdown": "2.71828182845905",
            "text/latex": "2.71828182845905",
            "text/plain": [
              "[1] 2.718282"
            ]
          },
          "metadata": {}
        },
        {
          "output_type": "display_data",
          "data": {
            "text/html": [
              "<table class=\"dataframe\">\n",
              "<caption>A matrix: 3 × 3 of type int</caption>\n",
              "<tbody>\n",
              "\t<tr><td>10</td><td>52</td><td>112</td></tr>\n",
              "\t<tr><td>22</td><td>70</td><td>136</td></tr>\n",
              "\t<tr><td>36</td><td>90</td><td>162</td></tr>\n",
              "</tbody>\n",
              "</table>\n"
            ],
            "text/markdown": "\nA matrix: 3 × 3 of type int\n\n| 10 | 52 | 112 |\n| 22 | 70 | 136 |\n| 36 | 90 | 162 |\n\n",
            "text/latex": "A matrix: 3 × 3 of type int\n\\begin{tabular}{lll}\n\t 10 & 52 & 112\\\\\n\t 22 & 70 & 136\\\\\n\t 36 & 90 & 162\\\\\n\\end{tabular}\n",
            "text/plain": [
              "     [,1] [,2] [,3]\n",
              "[1,] 10   52   112 \n",
              "[2,] 22   70   136 \n",
              "[3,] 36   90   162 "
            ]
          },
          "metadata": {}
        },
        {
          "output_type": "display_data",
          "data": {
            "text/html": [
              "<table class=\"dataframe\">\n",
              "<caption>A matrix: 3 × 3 of type dbl</caption>\n",
              "<tbody>\n",
              "\t<tr><td>138</td><td>174</td><td>210</td></tr>\n",
              "\t<tr><td>171</td><td>216</td><td>261</td></tr>\n",
              "\t<tr><td>204</td><td>258</td><td>312</td></tr>\n",
              "</tbody>\n",
              "</table>\n"
            ],
            "text/markdown": "\nA matrix: 3 × 3 of type dbl\n\n| 138 | 174 | 210 |\n| 171 | 216 | 261 |\n| 204 | 258 | 312 |\n\n",
            "text/latex": "A matrix: 3 × 3 of type dbl\n\\begin{tabular}{lll}\n\t 138 & 174 & 210\\\\\n\t 171 & 216 & 261\\\\\n\t 204 & 258 & 312\\\\\n\\end{tabular}\n",
            "text/plain": [
              "     [,1] [,2] [,3]\n",
              "[1,] 138  174  210 \n",
              "[2,] 171  216  261 \n",
              "[3,] 204  258  312 "
            ]
          },
          "metadata": {}
        },
        {
          "output_type": "display_data",
          "data": {
            "text/html": [
              "<style>\n",
              ".list-inline {list-style: none; margin:0; padding: 0}\n",
              ".list-inline>li {display: inline-block}\n",
              ".list-inline>li:not(:last-child)::after {content: \"\\00b7\"; padding: 0 .5ex}\n",
              "</style>\n",
              "<ol class=list-inline><li>10</li><li>20</li><li>30</li><li>40</li><li>50</li><li>60</li><li>70</li><li>80</li><li>90</li><li>11</li><li>22</li><li>33</li><li>44</li><li>55</li><li>66</li><li>77</li><li>88</li><li>99</li><li>12</li><li>24</li><li>36</li><li>48</li><li>60</li><li>72</li><li>84</li><li>96</li><li>108</li><li>13</li><li>26</li><li>39</li><li>52</li><li>65</li><li>78</li><li>91</li><li>104</li><li>117</li><li>14</li><li>28</li><li>42</li><li>56</li><li>70</li><li>84</li><li>98</li><li>112</li><li>126</li><li>15</li><li>30</li><li>45</li><li>60</li><li>75</li><li>90</li><li>105</li><li>120</li><li>135</li><li>16</li><li>32</li><li>48</li><li>64</li><li>80</li><li>96</li><li>112</li><li>128</li><li>144</li><li>17</li><li>34</li><li>51</li><li>68</li><li>85</li><li>102</li><li>119</li><li>136</li><li>153</li><li>18</li><li>36</li><li>54</li><li>72</li><li>90</li><li>108</li><li>126</li><li>144</li><li>162</li></ol>\n"
            ],
            "text/markdown": "1. 10\n2. 20\n3. 30\n4. 40\n5. 50\n6. 60\n7. 70\n8. 80\n9. 90\n10. 11\n11. 22\n12. 33\n13. 44\n14. 55\n15. 66\n16. 77\n17. 88\n18. 99\n19. 12\n20. 24\n21. 36\n22. 48\n23. 60\n24. 72\n25. 84\n26. 96\n27. 108\n28. 13\n29. 26\n30. 39\n31. 52\n32. 65\n33. 78\n34. 91\n35. 104\n36. 117\n37. 14\n38. 28\n39. 42\n40. 56\n41. 70\n42. 84\n43. 98\n44. 112\n45. 126\n46. 15\n47. 30\n48. 45\n49. 60\n50. 75\n51. 90\n52. 105\n53. 120\n54. 135\n55. 16\n56. 32\n57. 48\n58. 64\n59. 80\n60. 96\n61. 112\n62. 128\n63. 144\n64. 17\n65. 34\n66. 51\n67. 68\n68. 85\n69. 102\n70. 119\n71. 136\n72. 153\n73. 18\n74. 36\n75. 54\n76. 72\n77. 90\n78. 108\n79. 126\n80. 144\n81. 162\n\n\n",
            "text/latex": "\\begin{enumerate*}\n\\item 10\n\\item 20\n\\item 30\n\\item 40\n\\item 50\n\\item 60\n\\item 70\n\\item 80\n\\item 90\n\\item 11\n\\item 22\n\\item 33\n\\item 44\n\\item 55\n\\item 66\n\\item 77\n\\item 88\n\\item 99\n\\item 12\n\\item 24\n\\item 36\n\\item 48\n\\item 60\n\\item 72\n\\item 84\n\\item 96\n\\item 108\n\\item 13\n\\item 26\n\\item 39\n\\item 52\n\\item 65\n\\item 78\n\\item 91\n\\item 104\n\\item 117\n\\item 14\n\\item 28\n\\item 42\n\\item 56\n\\item 70\n\\item 84\n\\item 98\n\\item 112\n\\item 126\n\\item 15\n\\item 30\n\\item 45\n\\item 60\n\\item 75\n\\item 90\n\\item 105\n\\item 120\n\\item 135\n\\item 16\n\\item 32\n\\item 48\n\\item 64\n\\item 80\n\\item 96\n\\item 112\n\\item 128\n\\item 144\n\\item 17\n\\item 34\n\\item 51\n\\item 68\n\\item 85\n\\item 102\n\\item 119\n\\item 136\n\\item 153\n\\item 18\n\\item 36\n\\item 54\n\\item 72\n\\item 90\n\\item 108\n\\item 126\n\\item 144\n\\item 162\n\\end{enumerate*}\n",
            "text/plain": [
              ", , 1, 1\n",
              "\n",
              "     [,1] [,2] [,3]\n",
              "[1,]   10   40   70\n",
              "[2,]   20   50   80\n",
              "[3,]   30   60   90\n",
              "\n",
              ", , 2, 1\n",
              "\n",
              "     [,1] [,2] [,3]\n",
              "[1,]   11   44   77\n",
              "[2,]   22   55   88\n",
              "[3,]   33   66   99\n",
              "\n",
              ", , 3, 1\n",
              "\n",
              "     [,1] [,2] [,3]\n",
              "[1,]   12   48   84\n",
              "[2,]   24   60   96\n",
              "[3,]   36   72  108\n",
              "\n",
              ", , 1, 2\n",
              "\n",
              "     [,1] [,2] [,3]\n",
              "[1,]   13   52   91\n",
              "[2,]   26   65  104\n",
              "[3,]   39   78  117\n",
              "\n",
              ", , 2, 2\n",
              "\n",
              "     [,1] [,2] [,3]\n",
              "[1,]   14   56   98\n",
              "[2,]   28   70  112\n",
              "[3,]   42   84  126\n",
              "\n",
              ", , 3, 2\n",
              "\n",
              "     [,1] [,2] [,3]\n",
              "[1,]   15   60  105\n",
              "[2,]   30   75  120\n",
              "[3,]   45   90  135\n",
              "\n",
              ", , 1, 3\n",
              "\n",
              "     [,1] [,2] [,3]\n",
              "[1,]   16   64  112\n",
              "[2,]   32   80  128\n",
              "[3,]   48   96  144\n",
              "\n",
              ", , 2, 3\n",
              "\n",
              "     [,1] [,2] [,3]\n",
              "[1,]   17   68  119\n",
              "[2,]   34   85  136\n",
              "[3,]   51  102  153\n",
              "\n",
              ", , 3, 3\n",
              "\n",
              "     [,1] [,2] [,3]\n",
              "[1,]   18   72  126\n",
              "[2,]   36   90  144\n",
              "[3,]   54  108  162\n"
            ]
          },
          "metadata": {}
        }
      ],
      "source": [
        "# Numeric and integer vectors\n",
        "3 + 1  # addition\n",
        "3 - 1  # subtraction\n",
        "5 * 2  # multiplication\n",
        "5 / 2  # division\n",
        "5 %% 2  # remainder\n",
        "5 %/% 2  # quotient\n",
        "2 ** 3  # exponentiation, also: 2^3\n",
        "exp(1)  # e^1 = 2.718282... (NOT an operator)\n",
        "\n",
        "# Matrix operators\n",
        "A <- matrix(1:9, ncol = 3)\n",
        "B <- matrix(10:18, ncol = 3)\n",
        "B_transposed <- t(B)\n",
        "A * B  # elementwise multiplication (!)\n",
        "A %*% B  # matrix multiplication\n",
        "A %o% B  # outer product (matrix multiplication A%*%t(B)"
      ]
    },
    {
      "cell_type": "markdown",
      "metadata": {
        "id": "6arLGI1e2t2A"
      },
      "source": [
        "*   **Relational** operators (returning a boolean)"
      ]
    },
    {
      "cell_type": "code",
      "execution_count": null,
      "metadata": {
        "id": "uDd_mKIg3-VB"
      },
      "outputs": [],
      "source": [
        "7 > 2  # bigger than\n",
        "7 < 2  # smaller than\n",
        "7 >= 2  # bigger or equal than\n",
        "7 <= 2  # smaller or equal than\n",
        "7 == 2  # equal to\n",
        "7 != 2  # different than"
      ]
    },
    {
      "cell_type": "markdown",
      "metadata": {
        "id": "aQFbk47A237G"
      },
      "source": [
        "*   **Logical** operators"
      ]
    },
    {
      "cell_type": "code",
      "execution_count": null,
      "metadata": {
        "id": "ZP1dh82H3Asw"
      },
      "outputs": [],
      "source": [
        "(7 > 2) & (3 > 4)  # AND\n",
        "(7 > 2) | (3 > 4)  # OR\n",
        "! (7 > 2)  # NOT\n",
        "xor(7 > 2, 3 > 4)  # AND/OR"
      ]
    },
    {
      "cell_type": "markdown",
      "metadata": {
        "id": "uuHduECL5Oid"
      },
      "source": [
        "If the elements to which we apply a logical operator are vectors (of the same length), the operator will return a logical vector comparing the two input vectors elementwise: you can use double `AND` or `OR` to inspect only the first element: `x && y`, or `x || y`."
      ]
    },
    {
      "cell_type": "markdown",
      "metadata": {
        "id": "rHTXUZLEffB7"
      },
      "source": [
        "*   **Miscellaneous** operators"
      ]
    },
    {
      "cell_type": "code",
      "execution_count": null,
      "metadata": {
        "id": "-UsGZmc76PBm"
      },
      "outputs": [],
      "source": [
        "2:8  # Integer sequence of 2 to 8\n",
        "7 %in% 2:8  # logical values answering \"Is 7 an element of the vector 2:8?\"\""
      ]
    },
    {
      "cell_type": "markdown",
      "metadata": {
        "id": "-HDmp_Fr9ztV"
      },
      "source": [
        "Some other basic operators are already covered in other sections, like the help operator (`?`), component/slot extraction (`$` and `@`), indexing (`[` and `[[`), formula (`~`) and library access (`::`)."
      ]
    },
    {
      "cell_type": "markdown",
      "metadata": {
        "id": "jxR5KndhfcL-"
      },
      "source": [
        "*   **Assignment** operators: we cover them in the next subsection."
      ]
    },
    {
      "cell_type": "markdown",
      "metadata": {
        "id": "hh9FnoUm1Jwv"
      },
      "source": [
        "Like in every language, operators in `R` have *precedence*, i.e. in the single expression some operators are applied before others. Think of math: in an equation we multiply before we add, thus in the expression `x <- 1 + 3 * 4` gives 13 instead of 16, i.e. `*` has precedence over `+`. There is a precedence order for all operators in `R`: explore the precedence list using the command `?Syntax`."
      ]
    },
    {
      "cell_type": "markdown",
      "metadata": {
        "id": "-4tcuu1rQtav"
      },
      "source": [
        "### 4.2 Assignment\n",
        "\n",
        "In `R`, objects can be created, re-written and removed without restrictions. Once an object is declared, the expression we are assigning to it is evaluated. The standard method of assigment is the use of the operator `<-`, even though there are other options. We illustrate the most common ones:"
      ]
    },
    {
      "cell_type": "code",
      "execution_count": 72,
      "metadata": {
        "id": "lQwjitPcQ-Ms",
        "colab": {
          "base_uri": "https://localhost:8080/",
          "height": 34
        },
        "outputId": "28daad42-be6e-43bd-8bfa-38ccce76b3e9"
      },
      "outputs": [
        {
          "output_type": "display_data",
          "data": {
            "text/html": [
              "TRUE"
            ],
            "text/markdown": "TRUE",
            "text/latex": "TRUE",
            "text/plain": [
              "[1] TRUE"
            ]
          },
          "metadata": {}
        }
      ],
      "source": [
        "# Vector\n",
        "rm(x)  # Remove the object from the workspace\n",
        "x <- c(1, 7, 4, 8, 6, 0)\n",
        "\n",
        "# Here the expression \"mean(x)\" will be evaluated 4 times\n",
        "x1 <- mean(x)  # Good :-)\n",
        "x2 = mean(x)  # NOT good: \"=\" is *not* an assigment operator\n",
        "x3 <<- mean(x)  # Used only in functions to declare an object in a superior environment\n",
        "assign('x4', mean(x))  # Good: useful when the object has an \"unknown\" name\n",
        "mean(x) -> x5  # it works, but standard is to assign right to left (same with ->>)\n",
        "\n",
        "# Test if the four objects were assigned correctly\n",
        "identical(x1, x2, x3, x4, x5)  # It returns TRUE if the objects are equal"
      ]
    },
    {
      "cell_type": "markdown",
      "metadata": {
        "id": "GzPe2n7vqNH1"
      },
      "source": [
        "For more advanced assignment methods, check the functions `get()`, `with()`, and `within()`.\n",
        "\n",
        "Multiple assignments require multiple operators:"
      ]
    },
    {
      "cell_type": "code",
      "execution_count": 74,
      "metadata": {
        "id": "jwOyrq6mJ9rm",
        "colab": {
          "base_uri": "https://localhost:8080/",
          "height": 52
        },
        "outputId": "ca48c467-7c10-4efd-8f92-821fe491e127"
      },
      "outputs": [
        {
          "output_type": "display_data",
          "data": {
            "text/html": [
              "<style>\n",
              ".list-inline {list-style: none; margin:0; padding: 0}\n",
              ".list-inline>li {display: inline-block}\n",
              ".list-inline>li:not(:last-child)::after {content: \"\\00b7\"; padding: 0 .5ex}\n",
              "</style>\n",
              "<ol class=list-inline><li>1</li><li>2</li><li>3</li><li>4</li><li>5</li></ol>\n"
            ],
            "text/markdown": "1. 1\n2. 2\n3. 3\n4. 4\n5. 5\n\n\n",
            "text/latex": "\\begin{enumerate*}\n\\item 1\n\\item 2\n\\item 3\n\\item 4\n\\item 5\n\\end{enumerate*}\n",
            "text/plain": [
              "[1] 1 2 3 4 5"
            ]
          },
          "metadata": {}
        },
        {
          "output_type": "display_data",
          "data": {
            "text/html": [
              "<style>\n",
              ".list-inline {list-style: none; margin:0; padding: 0}\n",
              ".list-inline>li {display: inline-block}\n",
              ".list-inline>li:not(:last-child)::after {content: \"\\00b7\"; padding: 0 .5ex}\n",
              "</style>\n",
              "<ol class=list-inline><li>1</li><li>2</li><li>3</li><li>4</li><li>5</li></ol>\n"
            ],
            "text/markdown": "1. 1\n2. 2\n3. 3\n4. 4\n5. 5\n\n\n",
            "text/latex": "\\begin{enumerate*}\n\\item 1\n\\item 2\n\\item 3\n\\item 4\n\\item 5\n\\end{enumerate*}\n",
            "text/plain": [
              "[1] 1 2 3 4 5"
            ]
          },
          "metadata": {}
        }
      ],
      "source": [
        "obj1 <- obj2 <- 1:5\n",
        "obj1\n",
        "obj2\n",
        "#obj1, obj2 <- 1:5  # NOT POSSIBLE"
      ]
    },
    {
      "cell_type": "markdown",
      "metadata": {
        "id": "Qy8qW14KRCl2"
      },
      "source": [
        "**(!) NOTE** – Although technically you can assign an expression using the `=` symbol, `=` is not formally an assignment operator in `R`, and its use is designed for functions. That's why it is **not** recommended despite widespread misuse. In short, refrain from assignment use."
      ]
    },
    {
      "cell_type": "markdown",
      "metadata": {
        "id": "t_kwBMjbzSoE"
      },
      "source": [
        "### 4.3 Reserved words\n",
        "\n",
        "There are certain reserved words in `R` (keywords) that cannot be assigned or over-written since they are essential built-in elements. We list the most important, words for:\n",
        "\n",
        "*   Booleans: `TRUE`, `FALSE`.\n",
        "*   Iterables: `if`, `else` (`if`-statements), `for`, `in`, `next` (`for`-loops), `while`, `break`, `repeat` (`while`-loops).\n",
        "*   Functions: `function`, `...`.\n",
        "*   Particular values: `NA`, `NULL`, `NaN`, `Inf`.\n",
        "\n",
        "We review most of them later on.\n",
        "\n",
        "Still, even if the rest functions in `R` can be over-written (stuff like `mean <- 3` is factually perpetrable), refrain from doing it."
      ]
    },
    {
      "cell_type": "markdown",
      "metadata": {
        "id": "8E6XKl5y_RHy"
      },
      "source": [
        "---\n",
        "## 5. Functions\n",
        "\n",
        "Functions are often used to encapsulate a sequence of expressions that need to be executed numerous times, with some explicitly specified set of parameters or *arguments* that give it flexibility. Functions are stored in the `R` environment like any other object, in this case with class `function`."
      ]
    },
    {
      "cell_type": "markdown",
      "metadata": {
        "id": "QRmsljaBAMt0"
      },
      "source": [
        "### 5.1 Coding functions"
      ]
    },
    {
      "cell_type": "markdown",
      "metadata": {
        "id": "U90PYA3c-Ugg"
      },
      "source": [
        "Coding functions in `R` is fairly simple. You only need three basic things: the `function` keyword, the list of arguments (if any) it requires, and the `return` keyword to inform the output (if any). "
      ]
    },
    {
      "cell_type": "code",
      "execution_count": 80,
      "metadata": {
        "id": "ItgzmSoymPcs",
        "colab": {
          "base_uri": "https://localhost:8080/",
          "height": 34
        },
        "outputId": "640c7481-11c3-47e7-ab81-0a0af643136f"
      },
      "outputs": [
        {
          "output_type": "display_data",
          "data": {
            "text/html": [
              "TRUE"
            ],
            "text/markdown": "TRUE",
            "text/latex": "TRUE",
            "text/plain": [
              "[1] TRUE"
            ]
          },
          "metadata": {}
        }
      ],
      "source": [
        "# Define function to compute the mean of numeric vector\n",
        "average <- function(x) {  # input \"arguments\" inside parenthesis,\n",
        "  n <- length(x)          # commands of the function inside \"{\" and \"}\"\n",
        "  avg <- sum(x) / n\n",
        "  return(avg)  # \"return\" assigns the outcome to \"average\"\n",
        "}\n",
        "\n",
        "# Use it\n",
        "avg1 <- mean(1:10)\n",
        "avg2 <- average(1:10)  # Here you call your first function\n",
        "identical(avg1, avg2)  # They should be the same"
      ]
    },
    {
      "cell_type": "code",
      "execution_count": 81,
      "metadata": {
        "id": "_A1Ig34U9sm8"
      },
      "outputs": [],
      "source": [
        "# Function to compute the squared of the mean\n",
        "mean.sq <- function(x, ...) {  # \"...\" indicates: pass any other arguments to function below\n",
        "  out <- mean(x, ...)  # \"...\" reads other passed arguments that apply to \"mean\", e.g trim or na.rm\n",
        "  return(out)  # \"return\" assigns the outcome to \"average\"\n",
        "}\n",
        "\n",
        "# Use it\n",
        "avgsq <- mean.sq(1:10, na.rm = TRUE)  # \"na.rm\" is an argument of inside function \"mean\""
      ]
    },
    {
      "cell_type": "code",
      "execution_count": 82,
      "metadata": {
        "id": "BZlJXMAc9SsF",
        "colab": {
          "base_uri": "https://localhost:8080/",
          "height": 104
        },
        "outputId": "bba58ef7-0667-4f85-db5b-adde5004c053"
      },
      "outputs": [
        {
          "output_type": "stream",
          "name": "stdout",
          "text": [
            "The mode is: 4 \n"
          ]
        },
        {
          "output_type": "display_data",
          "data": {
            "text/html": [
              "'4'"
            ],
            "text/markdown": "'4'",
            "text/latex": "'4'",
            "text/plain": [
              "[1] \"4\""
            ]
          },
          "metadata": {}
        },
        {
          "output_type": "display_data",
          "data": {
            "text/html": [
              "'4'"
            ],
            "text/markdown": "'4'",
            "text/latex": "'4'",
            "text/plain": [
              "[1] \"4\""
            ]
          },
          "metadata": {}
        },
        {
          "output_type": "stream",
          "name": "stdout",
          "text": [
            "The mode is: B \n"
          ]
        },
        {
          "output_type": "display_data",
          "data": {
            "text/html": [
              "'B'"
            ],
            "text/markdown": "'B'",
            "text/latex": "'B'",
            "text/plain": [
              "[1] \"B\""
            ]
          },
          "metadata": {}
        }
      ],
      "source": [
        "# Function to compute the mode (the most frequent value)\n",
        "the.mode <- function(x, print.it = TRUE) {  # Some arguments can have a default value\n",
        "  freqs <- sort(table(x), decreasing = TRUE)  # Nested function\n",
        "  value <- names(freqs)[1]\n",
        "  if (print.it == TRUE) {\n",
        "    cat('The mode is:', value, '\\n')\n",
        "  }\n",
        "  return(value)\n",
        "}\n",
        "\n",
        "# Compute this functions\n",
        "(mode1 <- the.mode(c(2, 2, 3, 4, 4, 4, 1)))  # parenthesis around a call makes R print the output\n",
        "(mode2 <- the.mode(c(2, 2, 3, 4, 4, 4, 1), print.it = FALSE))  # change default\n",
        "(mode3 <- the.mode(c('A', 'D', 'B', 'B', 'C')))"
      ]
    },
    {
      "cell_type": "markdown",
      "source": [
        "Note the table function that returns the a frequency table."
      ],
      "metadata": {
        "id": "f-bvt67AG6Qj"
      }
    },
    {
      "cell_type": "code",
      "source": [
        "table(obj1)"
      ],
      "metadata": {
        "colab": {
          "base_uri": "https://localhost:8080/",
          "height": 69
        },
        "id": "XItitKp9G6Cr",
        "outputId": "97622735-4e0e-4415-b25d-766bcada589d"
      },
      "execution_count": 78,
      "outputs": [
        {
          "output_type": "display_data",
          "data": {
            "text/plain": [
              "obj1\n",
              "1 2 3 4 5 \n",
              "1 1 1 1 1 "
            ]
          },
          "metadata": {}
        }
      ]
    },
    {
      "cell_type": "code",
      "execution_count": 83,
      "metadata": {
        "id": "FACq6zcP9wYc",
        "colab": {
          "base_uri": "https://localhost:8080/",
          "height": 132
        },
        "outputId": "c56551de-e2e8-4161-a649-e52bcb378ae8"
      },
      "outputs": [
        {
          "output_type": "stream",
          "name": "stdout",
          "text": [
            "The mode is: 4 \n"
          ]
        },
        {
          "output_type": "display_data",
          "data": {
            "text/html": [
              "<dl>\n",
              "\t<dt>$mean</dt>\n",
              "\t\t<dd>5.5</dd>\n",
              "\t<dt>$mode</dt>\n",
              "\t\t<dd>'4'</dd>\n",
              "</dl>\n"
            ],
            "text/markdown": "$mean\n:   5.5\n$mode\n:   '4'\n\n\n",
            "text/latex": "\\begin{description}\n\\item[\\$mean] 5.5\n\\item[\\$mode] '4'\n\\end{description}\n",
            "text/plain": [
              "$mean\n",
              "[1] 5.5\n",
              "\n",
              "$mode\n",
              "[1] \"4\"\n"
            ]
          },
          "metadata": {}
        }
      ],
      "source": [
        "# You can create a function calling to other functions of yours\n",
        "mean.and.mode <- function(x, y) {  # Multiple arguments\n",
        "  obj1 <- average(x)\n",
        "  obj2 <- the.mode(y)\n",
        "  return(list(mean = obj1, mode = obj2))\n",
        "  #return(c(obj1, obj2))  # More simple alternative: return a vector\n",
        "}\n",
        "\n",
        "# Use it\n",
        "mean.and.mode(1:10, c(2, 2, 3, 4, 4, 4, 1))  # Assigning is not mandatory"
      ]
    },
    {
      "cell_type": "code",
      "execution_count": 84,
      "metadata": {
        "id": "l8nTkzvs9xik",
        "colab": {
          "base_uri": "https://localhost:8080/"
        },
        "outputId": "1a734d44-a6d5-43b6-953b-f780aa7dcf1c"
      },
      "outputs": [
        {
          "output_type": "stream",
          "name": "stdout",
          "text": [
            "Hello world! My coding teacher is awesome.\n"
          ]
        }
      ],
      "source": [
        "# Arguments and outputs are not even mandatory for a function\n",
        "hello.world <- function() {  # Keep the parenthesis though!\n",
        "  cat('Hello world! My coding teacher is awesome.\\n')\n",
        "}\n",
        "\n",
        "# Not a very helpful function\n",
        "hello.world()"
      ]
    },
    {
      "cell_type": "markdown",
      "metadata": {
        "id": "REYMd48elirV"
      },
      "source": [
        "By default, if no `return()` function is used, a function will return the last expression evaluated (although this is not recommended).\n",
        "\n",
        "**Important: what happens in a function stays in the function.** Keep in mind that functions have their own *environment*: everything inside `{` and `}` occurs on a separate environment *inferior* to the global one. This means that once you're **inside** the function, what exists in the \"superior\" environment (the workspace you're in) is known, but the objects created therein live in that separate space and are not poured onto the superior global environment, unless you explicitely tell them to (as one does using `return`, or *double* assignment `<<-`)."
      ]
    },
    {
      "cell_type": "markdown",
      "metadata": {
        "id": "yVGLRGoZAT7U"
      },
      "source": [
        "### 5.2 The `apply` family of functions"
      ]
    },
    {
      "cell_type": "markdown",
      "metadata": {
        "id": "UhMCK5ZvChzH"
      },
      "source": [
        "Sometimes you will encounter situations in which you want to apply a function repeatedly to elements of an object without using expensive loops. The set of `apply` functions are efficient and elegant ways to do that. There are more `apply`-type of functions, but here we present the four more common ones\n",
        "\n",
        "*   `apply`: used to iterate over the dimensions of a `data.frame` or `matrix` or larger `array`-type objects, the simplest case being to apply a function on each row/column\n",
        "*   `lapply`: uses `apply` on `list`-type objects, and also outputs a `list`\n",
        "*   `tapply`: summarises a vector by groups defined by another vector, i.e. say you want the group-mean of variable `x`, where in one column you have the value of `x` and the group they belong to in another\n",
        "*   `sapply`: uses `apply` on sets of vector-type objects, returning a vector\n",
        "\n",
        "Check out other functions like `vapply` (similar to `sapply`), `mapply` (for multiple parallel data structures), `mcapply` (multi-core), `mclapply` (multi-core `lapply` from the `parallel` package).\n"
      ]
    },
    {
      "cell_type": "code",
      "execution_count": null,
      "metadata": {
        "id": "0lkjT_7RH419"
      },
      "outputs": [],
      "source": [
        "df1 <- data.frame(x = 1:10, y = 11:20, z = -10:-1)\n",
        "df2 <- data.frame(x = 1:10, group = c(rep('A', 5), rep('B', 5)))\n",
        "df3 <- data.frame(x = c('a', 'b', 'c', 'a'), y = c('e', 'e', 'f', 'f'))\n",
        "l1 <- list(A = 1:10, B = 11:20, C = -10:-1)\n",
        "\n",
        "# On the columns of df: find the max of each\n",
        "apply(df1, 2, max)  # \"2\" is the dimension: in this case is columns (1 = rows)\n",
        "                    # order of arguments: object, dimension, function to apply\n",
        "# Check out also \"sweep()\": same syntax, used to \"sweep out\" a summary statistic\n",
        "\n",
        "# Same operation but now the vectors are elements of a list\n",
        "lapply(l1, max)  # output object is a list (here you need no dimension)\n",
        "\n",
        "# Compute the mean of \"x\" as a function of \"group\"\n",
        "tapply(df2[, 'x'], df2[, 'group'], mean)\n",
        "\n",
        "# Similar to \"apply\" but directly on a set of vectors\n",
        "sapply(df1, class)\n",
        "\n",
        "# Check how many unique elements are in each column\n",
        "apply(df3, 2, function(x) { length(unique(x)) })  # This is an \"anonymous\" function! It is never defined"
      ]
    },
    {
      "cell_type": "markdown",
      "metadata": {
        "id": "sti1npb-Hp_G"
      },
      "source": [
        "The `apply` family of functions are formally *functionals*: functions that take another function as an argument. They are very important and frequently used in `R`, and can become quite complex quickly. I recommend the following link to Hadley Wickham's book if you wish to go deeper on the set of `apply` functions: http://adv-r.had.co.nz/Functionals.html."
      ]
    },
    {
      "cell_type": "markdown",
      "metadata": {
        "id": "rr70cUvrAHvJ"
      },
      "source": [
        "### 5.4 Useful miscellaneous functions\n",
        "\n",
        "Here I introduce a few generic functions that are very helpful but are employed in many contexts and are not explicitely introduced anywhere else in this course."
      ]
    },
    {
      "cell_type": "code",
      "execution_count": 95,
      "metadata": {
        "id": "EWdGCnOD2K0g",
        "colab": {
          "base_uri": "https://localhost:8080/",
          "height": 86
        },
        "outputId": "b5dacd85-ff8c-4915-b55e-1e248ac3a5d8"
      },
      "outputs": [
        {
          "output_type": "stream",
          "name": "stdout",
          "text": [
            "[1] 1 2 3 1 2 3\n"
          ]
        },
        {
          "output_type": "display_data",
          "data": {
            "text/html": [
              "<style>\n",
              ".list-inline {list-style: none; margin:0; padding: 0}\n",
              ".list-inline>li {display: inline-block}\n",
              ".list-inline>li:not(:last-child)::after {content: \"\\00b7\"; padding: 0 .5ex}\n",
              "</style>\n",
              "<ol class=list-inline><li>1</li><li>2</li><li>3</li></ol>\n"
            ],
            "text/markdown": "1. 1\n2. 2\n3. 3\n\n\n",
            "text/latex": "\\begin{enumerate*}\n\\item 1\n\\item 2\n\\item 3\n\\end{enumerate*}\n",
            "text/plain": [
              "[1] 1 2 3"
            ]
          },
          "metadata": {}
        },
        {
          "output_type": "display_data",
          "data": {
            "text/html": [
              "<style>\n",
              ".list-inline {list-style: none; margin:0; padding: 0}\n",
              ".list-inline>li {display: inline-block}\n",
              ".list-inline>li:not(:last-child)::after {content: \"\\00b7\"; padding: 0 .5ex}\n",
              "</style>\n",
              "<ol class=list-inline><li>FALSE</li><li>FALSE</li><li>FALSE</li><li>TRUE</li><li>TRUE</li><li>TRUE</li></ol>\n"
            ],
            "text/markdown": "1. FALSE\n2. FALSE\n3. FALSE\n4. TRUE\n5. TRUE\n6. TRUE\n\n\n",
            "text/latex": "\\begin{enumerate*}\n\\item FALSE\n\\item FALSE\n\\item FALSE\n\\item TRUE\n\\item TRUE\n\\item TRUE\n\\end{enumerate*}\n",
            "text/plain": [
              "[1] FALSE FALSE FALSE  TRUE  TRUE  TRUE"
            ]
          },
          "metadata": {}
        },
        {
          "output_type": "display_data",
          "data": {
            "text/html": [
              "<style>\n",
              ".list-inline {list-style: none; margin:0; padding: 0}\n",
              ".list-inline>li {display: inline-block}\n",
              ".list-inline>li:not(:last-child)::after {content: \"\\00b7\"; padding: 0 .5ex}\n",
              "</style>\n",
              "<ol class=list-inline><li>3</li><li>2</li><li>1</li><li>3</li><li>2</li><li>1</li></ol>\n"
            ],
            "text/markdown": "1. 3\n2. 2\n3. 1\n4. 3\n5. 2\n6. 1\n\n\n",
            "text/latex": "\\begin{enumerate*}\n\\item 3\n\\item 2\n\\item 1\n\\item 3\n\\item 2\n\\item 1\n\\end{enumerate*}\n",
            "text/plain": [
              "[1] 3 2 1 3 2 1"
            ]
          },
          "metadata": {}
        }
      ],
      "source": [
        "# Replication of elements\n",
        "x <- rep(1:3, 2)  # replicate 1:3 two times\n",
        "print(x)\n",
        "\n",
        "unique(x)  # Returns unique elements in x\n",
        "duplicated(x)  # Returns logical stating whether elements have been found before\n",
        "rev(x)  # Return elements in x in reverse"
      ]
    },
    {
      "cell_type": "code",
      "execution_count": 86,
      "metadata": {
        "id": "aDtfTPXE34D_",
        "colab": {
          "base_uri": "https://localhost:8080/",
          "height": 52
        },
        "outputId": "ba23edea-7f7d-4f3d-d8d4-04bf6384adcf"
      },
      "outputs": [
        {
          "output_type": "display_data",
          "data": {
            "text/html": [
              "<style>\n",
              ".list-inline {list-style: none; margin:0; padding: 0}\n",
              ".list-inline>li {display: inline-block}\n",
              ".list-inline>li:not(:last-child)::after {content: \"\\00b7\"; padding: 0 .5ex}\n",
              "</style>\n",
              "<ol class=list-inline><li>'-1e+03'</li><li>'-9e+02'</li><li>'-8e+02'</li><li>'-7e+02'</li><li>'-6e+02'</li><li>'-5e+02'</li><li>'-4e+02'</li><li>'-3e+02'</li><li>'-2e+02'</li><li>'-1e+02'</li><li>' 0e+00'</li><li>' 1e+02'</li><li>' 2e+02'</li><li>' 3e+02'</li><li>' 4e+02'</li><li>' 5e+02'</li><li>' 6e+02'</li><li>' 7e+02'</li><li>' 8e+02'</li><li>' 9e+02'</li><li>' 1e+03'</li></ol>\n"
            ],
            "text/markdown": "1. '-1e+03'\n2. '-9e+02'\n3. '-8e+02'\n4. '-7e+02'\n5. '-6e+02'\n6. '-5e+02'\n7. '-4e+02'\n8. '-3e+02'\n9. '-2e+02'\n10. '-1e+02'\n11. ' 0e+00'\n12. ' 1e+02'\n13. ' 2e+02'\n14. ' 3e+02'\n15. ' 4e+02'\n16. ' 5e+02'\n17. ' 6e+02'\n18. ' 7e+02'\n19. ' 8e+02'\n20. ' 9e+02'\n21. ' 1e+03'\n\n\n",
            "text/latex": "\\begin{enumerate*}\n\\item '-1e+03'\n\\item '-9e+02'\n\\item '-8e+02'\n\\item '-7e+02'\n\\item '-6e+02'\n\\item '-5e+02'\n\\item '-4e+02'\n\\item '-3e+02'\n\\item '-2e+02'\n\\item '-1e+02'\n\\item ' 0e+00'\n\\item ' 1e+02'\n\\item ' 2e+02'\n\\item ' 3e+02'\n\\item ' 4e+02'\n\\item ' 5e+02'\n\\item ' 6e+02'\n\\item ' 7e+02'\n\\item ' 8e+02'\n\\item ' 9e+02'\n\\item ' 1e+03'\n\\end{enumerate*}\n",
            "text/plain": [
              " [1] \"-1e+03\" \"-9e+02\" \"-8e+02\" \"-7e+02\" \"-6e+02\" \"-5e+02\" \"-4e+02\" \"-3e+02\"\n",
              " [9] \"-2e+02\" \"-1e+02\" \" 0e+00\" \" 1e+02\" \" 2e+02\" \" 3e+02\" \" 4e+02\" \" 5e+02\"\n",
              "[17] \" 6e+02\" \" 7e+02\" \" 8e+02\" \" 9e+02\" \" 1e+03\""
            ]
          },
          "metadata": {}
        },
        {
          "output_type": "display_data",
          "data": {
            "text/html": [
              "<style>\n",
              ".list-inline {list-style: none; margin:0; padding: 0}\n",
              ".list-inline>li {display: inline-block}\n",
              ".list-inline>li:not(:last-child)::after {content: \"\\00b7\"; padding: 0 .5ex}\n",
              "</style>\n",
              "<ol class=list-inline><li>'-1000'</li><li>' -900'</li><li>' -800'</li><li>' -700'</li><li>' -600'</li><li>' -500'</li><li>' -400'</li><li>' -300'</li><li>' -200'</li><li>' -100'</li><li><span style=white-space:pre-wrap>'    0'</span></li><li><span style=white-space:pre-wrap>'  100'</span></li><li><span style=white-space:pre-wrap>'  200'</span></li><li><span style=white-space:pre-wrap>'  300'</span></li><li><span style=white-space:pre-wrap>'  400'</span></li><li><span style=white-space:pre-wrap>'  500'</span></li><li><span style=white-space:pre-wrap>'  600'</span></li><li><span style=white-space:pre-wrap>'  700'</span></li><li><span style=white-space:pre-wrap>'  800'</span></li><li><span style=white-space:pre-wrap>'  900'</span></li><li>' 1000'</li></ol>\n"
            ],
            "text/markdown": "1. '-1000'\n2. ' -900'\n3. ' -800'\n4. ' -700'\n5. ' -600'\n6. ' -500'\n7. ' -400'\n8. ' -300'\n9. ' -200'\n10. ' -100'\n11. <span style=white-space:pre-wrap>'    0'</span>\n12. <span style=white-space:pre-wrap>'  100'</span>\n13. <span style=white-space:pre-wrap>'  200'</span>\n14. <span style=white-space:pre-wrap>'  300'</span>\n15. <span style=white-space:pre-wrap>'  400'</span>\n16. <span style=white-space:pre-wrap>'  500'</span>\n17. <span style=white-space:pre-wrap>'  600'</span>\n18. <span style=white-space:pre-wrap>'  700'</span>\n19. <span style=white-space:pre-wrap>'  800'</span>\n20. <span style=white-space:pre-wrap>'  900'</span>\n21. ' 1000'\n\n\n",
            "text/latex": "\\begin{enumerate*}\n\\item '-1000'\n\\item ' -900'\n\\item ' -800'\n\\item ' -700'\n\\item ' -600'\n\\item ' -500'\n\\item ' -400'\n\\item ' -300'\n\\item ' -200'\n\\item ' -100'\n\\item '    0'\n\\item '  100'\n\\item '  200'\n\\item '  300'\n\\item '  400'\n\\item '  500'\n\\item '  600'\n\\item '  700'\n\\item '  800'\n\\item '  900'\n\\item ' 1000'\n\\end{enumerate*}\n",
            "text/plain": [
              " [1] \"-1000\" \" -900\" \" -800\" \" -700\" \" -600\" \" -500\" \" -400\" \" -300\" \" -200\"\n",
              "[10] \" -100\" \"    0\" \"  100\" \"  200\" \"  300\" \"  400\" \"  500\" \"  600\" \"  700\"\n",
              "[19] \"  800\" \"  900\" \" 1000\""
            ]
          },
          "metadata": {}
        }
      ],
      "source": [
        "x <- seq(0, 1, 0.1)  # Return a sequence from 0 to 1, with distance between elements of 0.1\n",
        "y <- seq(-1e3, 1e3, 1e2)  # From -10^3 to 10^3 every 10^2\n",
        "format(y, scientific = TRUE)  # This is a very flexible function with various uses\n",
        "format(y, scientific = FALSE)"
      ]
    },
    {
      "cell_type": "code",
      "source": [
        "x <- c(8,10,4,-5,-2)\n",
        "diff(x) #computes the first difference"
      ],
      "metadata": {
        "colab": {
          "base_uri": "https://localhost:8080/",
          "height": 34
        },
        "id": "-1wOc84UKC7F",
        "outputId": "fac9dbeb-2a63-40c6-f820-d52b3711fd9a"
      },
      "execution_count": 99,
      "outputs": [
        {
          "output_type": "display_data",
          "data": {
            "text/html": [
              "<style>\n",
              ".list-inline {list-style: none; margin:0; padding: 0}\n",
              ".list-inline>li {display: inline-block}\n",
              ".list-inline>li:not(:last-child)::after {content: \"\\00b7\"; padding: 0 .5ex}\n",
              "</style>\n",
              "<ol class=list-inline><li>2</li><li>-6</li><li>-9</li><li>3</li></ol>\n"
            ],
            "text/markdown": "1. 2\n2. -6\n3. -9\n4. 3\n\n\n",
            "text/latex": "\\begin{enumerate*}\n\\item 2\n\\item -6\n\\item -9\n\\item 3\n\\end{enumerate*}\n",
            "text/plain": [
              "[1]  2 -6 -9  3"
            ]
          },
          "metadata": {}
        }
      ]
    },
    {
      "cell_type": "code",
      "execution_count": 93,
      "metadata": {
        "id": "hSPjiVLU5PhV",
        "colab": {
          "base_uri": "https://localhost:8080/",
          "height": 219
        },
        "outputId": "daf194c4-1dbb-4a84-f45f-24ac3720cbed"
      },
      "outputs": [
        {
          "output_type": "display_data",
          "data": {
            "text/html": [
              "<style>\n",
              ".list-inline {list-style: none; margin:0; padding: 0}\n",
              ".list-inline>li {display: inline-block}\n",
              ".list-inline>li:not(:last-child)::after {content: \"\\00b7\"; padding: 0 .5ex}\n",
              "</style>\n",
              "<ol class=list-inline><li>3</li><li>4</li><li>5</li><li>6</li><li>7</li></ol>\n"
            ],
            "text/markdown": "1. 3\n2. 4\n3. 5\n4. 6\n5. 7\n\n\n",
            "text/latex": "\\begin{enumerate*}\n\\item 3\n\\item 4\n\\item 5\n\\item 6\n\\item 7\n\\end{enumerate*}\n",
            "text/plain": [
              "[1] 3 4 5 6 7"
            ]
          },
          "metadata": {}
        },
        {
          "output_type": "display_data",
          "data": {
            "text/html": [
              "<style>\n",
              ".list-inline {list-style: none; margin:0; padding: 0}\n",
              ".list-inline>li {display: inline-block}\n",
              ".list-inline>li:not(:last-child)::after {content: \"\\00b7\"; padding: 0 .5ex}\n",
              "</style>\n",
              "<ol class=list-inline><li>1</li><li>2</li><li>3</li><li>4</li><li>5</li><li>6</li><li>7</li><li>8</li><li>9</li><li>10</li></ol>\n"
            ],
            "text/markdown": "1. 1\n2. 2\n3. 3\n4. 4\n5. 5\n6. 6\n7. 7\n8. 8\n9. 9\n10. 10\n\n\n",
            "text/latex": "\\begin{enumerate*}\n\\item 1\n\\item 2\n\\item 3\n\\item 4\n\\item 5\n\\item 6\n\\item 7\n\\item 8\n\\item 9\n\\item 10\n\\end{enumerate*}\n",
            "text/plain": [
              " [1]  1  2  3  4  5  6  7  8  9 10"
            ]
          },
          "metadata": {}
        },
        {
          "output_type": "display_data",
          "data": {
            "text/html": [
              "<style>\n",
              ".list-inline {list-style: none; margin:0; padding: 0}\n",
              ".list-inline>li {display: inline-block}\n",
              ".list-inline>li:not(:last-child)::after {content: \"\\00b7\"; padding: 0 .5ex}\n",
              "</style>\n",
              "<ol class=list-inline><li>1</li><li>2</li><li>8</li><li>9</li><li>10</li></ol>\n"
            ],
            "text/markdown": "1. 1\n2. 2\n3. 8\n4. 9\n5. 10\n\n\n",
            "text/latex": "\\begin{enumerate*}\n\\item 1\n\\item 2\n\\item 8\n\\item 9\n\\item 10\n\\end{enumerate*}\n",
            "text/plain": [
              "[1]  1  2  8  9 10"
            ]
          },
          "metadata": {}
        },
        {
          "output_type": "display_data",
          "data": {
            "text/html": [
              "<dl>\n",
              "\t<dt>$A</dt>\n",
              "\t\t<dd><style>\n",
              ".list-inline {list-style: none; margin:0; padding: 0}\n",
              ".list-inline>li {display: inline-block}\n",
              ".list-inline>li:not(:last-child)::after {content: \"\\00b7\"; padding: 0 .5ex}\n",
              "</style>\n",
              "<ol class=list-inline><li>1</li><li>2</li><li>3</li><li>6</li><li>7</li><li>8</li></ol>\n",
              "</dd>\n",
              "\t<dt>$B</dt>\n",
              "\t\t<dd><style>\n",
              ".list-inline {list-style: none; margin:0; padding: 0}\n",
              ".list-inline>li {display: inline-block}\n",
              ".list-inline>li:not(:last-child)::after {content: \"\\00b7\"; padding: 0 .5ex}\n",
              "</style>\n",
              "<ol class=list-inline><li>4</li><li>5</li><li>9</li><li>10</li></ol>\n",
              "</dd>\n",
              "</dl>\n"
            ],
            "text/markdown": "$A\n:   1. 1\n2. 2\n3. 3\n4. 6\n5. 7\n6. 8\n\n\n\n$B\n:   1. 4\n2. 5\n3. 9\n4. 10\n\n\n\n\n\n",
            "text/latex": "\\begin{description}\n\\item[\\$A] \\begin{enumerate*}\n\\item 1\n\\item 2\n\\item 3\n\\item 6\n\\item 7\n\\item 8\n\\end{enumerate*}\n\n\\item[\\$B] \\begin{enumerate*}\n\\item 4\n\\item 5\n\\item 9\n\\item 10\n\\end{enumerate*}\n\n\\end{description}\n",
            "text/plain": [
              "$A\n",
              "[1] 1 2 3 6 7 8\n",
              "\n",
              "$B\n",
              "[1]  4  5  9 10\n"
            ]
          },
          "metadata": {}
        },
        {
          "output_type": "display_data",
          "data": {
            "text/html": [
              "<style>\n",
              ".list-inline {list-style: none; margin:0; padding: 0}\n",
              ".list-inline>li {display: inline-block}\n",
              ".list-inline>li:not(:last-child)::after {content: \"\\00b7\"; padding: 0 .5ex}\n",
              "</style>\n",
              "<ol class=list-inline><li>(0,2]</li><li>(0,2]</li><li>(2,4]</li><li>(2,4]</li><li>(4,6]</li><li>(4,6]</li><li>(6,8]</li><li>(6,8]</li><li>(8,10]</li><li>(8,10]</li></ol>\n",
              "\n",
              "<details>\n",
              "\t<summary style=display:list-item;cursor:pointer>\n",
              "\t\t<strong>Levels</strong>:\n",
              "\t</summary>\n",
              "\t<style>\n",
              "\t.list-inline {list-style: none; margin:0; padding: 0}\n",
              "\t.list-inline>li {display: inline-block}\n",
              "\t.list-inline>li:not(:last-child)::after {content: \"\\00b7\"; padding: 0 .5ex}\n",
              "\t</style>\n",
              "\t<ol class=list-inline><li>'(0,2]'</li><li>'(2,4]'</li><li>'(4,6]'</li><li>'(6,8]'</li><li>'(8,10]'</li></ol>\n",
              "</details>"
            ],
            "text/markdown": "1. (0,2]\n2. (0,2]\n3. (2,4]\n4. (2,4]\n5. (4,6]\n6. (4,6]\n7. (6,8]\n8. (6,8]\n9. (8,10]\n10. (8,10]\n\n\n\n**Levels**: 1. '(0,2]'\n2. '(2,4]'\n3. '(4,6]'\n4. '(6,8]'\n5. '(8,10]'\n\n\n",
            "text/latex": "\\begin{enumerate*}\n\\item (0,2{]}\n\\item (0,2{]}\n\\item (2,4{]}\n\\item (2,4{]}\n\\item (4,6{]}\n\\item (4,6{]}\n\\item (6,8{]}\n\\item (6,8{]}\n\\item (8,10{]}\n\\item (8,10{]}\n\\end{enumerate*}\n\n\\emph{Levels}: \\begin{enumerate*}\n\\item '(0,2{]}'\n\\item '(2,4{]}'\n\\item '(4,6{]}'\n\\item '(6,8{]}'\n\\item '(8,10{]}'\n\\end{enumerate*}\n",
            "text/plain": [
              " [1] (0,2]  (0,2]  (2,4]  (2,4]  (4,6]  (4,6]  (6,8]  (6,8]  (8,10] (8,10]\n",
              "Levels: (0,2] (2,4] (4,6] (6,8] (8,10]"
            ]
          },
          "metadata": {}
        }
      ],
      "source": [
        "# Subdivision of vectors\n",
        "x <- 1:10\n",
        "y <- 3:7\n",
        "z <- as.factor(c(rep('A', 3), rep('B', 2)))  # Declare character as factor\n",
        "\n",
        "intersect(x, y)  # Returns intersection set of elements in x and y\n",
        "union(x, y)  # Returns union set of elements in x or y\n",
        "setdiff(x, y)  # Returns elements in x not in y\n",
        "\n",
        "split(x, z)  # group elements in x as a function of a factor z\n",
        "cut(x, breaks = 2*(0:5))  # divides elements in x into \"breaks\" number of groups, used to \"bucket\" vectors"
      ]
    },
    {
      "cell_type": "code",
      "execution_count": 131,
      "metadata": {
        "id": "sMHMzVYm2G6-",
        "colab": {
          "base_uri": "https://localhost:8080/",
          "height": 86
        },
        "outputId": "03f4e2ee-4f66-4086-aaa5-76d341d265a1"
      },
      "outputs": [
        {
          "output_type": "display_data",
          "data": {
            "text/html": [
              "FALSE"
            ],
            "text/markdown": "FALSE",
            "text/latex": "FALSE",
            "text/plain": [
              "[1] FALSE"
            ]
          },
          "metadata": {}
        },
        {
          "output_type": "display_data",
          "data": {
            "text/html": [
              "TRUE"
            ],
            "text/markdown": "TRUE",
            "text/latex": "TRUE",
            "text/plain": [
              "[1] TRUE"
            ]
          },
          "metadata": {}
        },
        {
          "output_type": "display_data",
          "data": {
            "text/html": [
              "11"
            ],
            "text/markdown": "11",
            "text/latex": "11",
            "text/plain": [
              "[1] 11"
            ]
          },
          "metadata": {}
        },
        {
          "output_type": "display_data",
          "data": {
            "text/html": [
              "10"
            ],
            "text/markdown": "10",
            "text/latex": "10",
            "text/plain": [
              "[1] 10"
            ]
          },
          "metadata": {}
        }
      ],
      "source": [
        "# Basic checks of numeric elements\n",
        "x <- 10.3\n",
        "is.na(x)  # logical on wehter x is NA\n",
        "is.finite(x)  # logical on wehter x is not +Inf or -Inf\n",
        "ceiling(x)  # Returns closest integer to x from above\n",
        "floor(x)  # Returns closest integer to x from below"
      ]
    },
    {
      "cell_type": "markdown",
      "metadata": {
        "id": "RQMq6byR-72x"
      },
      "source": [
        "## 6. Dataset manipulation\n",
        "\n",
        "Often times you want to perform access/slice/filter operations, i.e. clean, subset, merge and, in a nutshell, manipulate datasets. Here we present basic operations that allow us to perform these tasks."
      ]
    },
    {
      "cell_type": "markdown",
      "metadata": {
        "id": "6pvVp8PYotDU"
      },
      "source": [
        "### 6.1 Filtering, ordering and expanding\n"
      ]
    },
    {
      "cell_type": "markdown",
      "source": [
        "Selecting columns and rows with boolean filters"
      ],
      "metadata": {
        "id": "9H_2j7JmMQmr"
      }
    },
    {
      "cell_type": "code",
      "execution_count": 114,
      "metadata": {
        "id": "JAdYWH2Rptmj",
        "colab": {
          "base_uri": "https://localhost:8080/",
          "height": 367
        },
        "outputId": "6238b893-343f-48a4-9d3a-4e58acd5db93"
      },
      "outputs": [
        {
          "output_type": "display_data",
          "data": {
            "text/html": [
              "<table class=\"dataframe\">\n",
              "<caption>A data.frame: 4 × 3</caption>\n",
              "<thead>\n",
              "\t<tr><th></th><th scope=col>x</th><th scope=col>y</th><th scope=col>z</th></tr>\n",
              "\t<tr><th></th><th scope=col>&lt;int&gt;</th><th scope=col>&lt;chr&gt;</th><th scope=col>&lt;dbl&gt;</th></tr>\n",
              "</thead>\n",
              "<tbody>\n",
              "\t<tr><th scope=row>7</th><td> 7</td><td>A</td><td>-1.30618526</td></tr>\n",
              "\t<tr><th scope=row>8</th><td> 8</td><td>B</td><td>-0.80251957</td></tr>\n",
              "\t<tr><th scope=row>9</th><td> 9</td><td>A</td><td>-1.79224083</td></tr>\n",
              "\t<tr><th scope=row>10</th><td>10</td><td>B</td><td>-0.04203245</td></tr>\n",
              "</tbody>\n",
              "</table>\n"
            ],
            "text/markdown": "\nA data.frame: 4 × 3\n\n| <!--/--> | x &lt;int&gt; | y &lt;chr&gt; | z &lt;dbl&gt; |\n|---|---|---|---|\n| 7 |  7 | A | -1.30618526 |\n| 8 |  8 | B | -0.80251957 |\n| 9 |  9 | A | -1.79224083 |\n| 10 | 10 | B | -0.04203245 |\n\n",
            "text/latex": "A data.frame: 4 × 3\n\\begin{tabular}{r|lll}\n  & x & y & z\\\\\n  & <int> & <chr> & <dbl>\\\\\n\\hline\n\t7 &  7 & A & -1.30618526\\\\\n\t8 &  8 & B & -0.80251957\\\\\n\t9 &  9 & A & -1.79224083\\\\\n\t10 & 10 & B & -0.04203245\\\\\n\\end{tabular}\n",
            "text/plain": [
              "   x  y z          \n",
              "7   7 A -1.30618526\n",
              "8   8 B -0.80251957\n",
              "9   9 A -1.79224083\n",
              "10 10 B -0.04203245"
            ]
          },
          "metadata": {}
        },
        {
          "output_type": "display_data",
          "data": {
            "text/html": [
              "<table class=\"dataframe\">\n",
              "<caption>A data.frame: 2 × 3</caption>\n",
              "<thead>\n",
              "\t<tr><th></th><th scope=col>x</th><th scope=col>y</th><th scope=col>z</th></tr>\n",
              "\t<tr><th></th><th scope=col>&lt;int&gt;</th><th scope=col>&lt;chr&gt;</th><th scope=col>&lt;dbl&gt;</th></tr>\n",
              "</thead>\n",
              "<tbody>\n",
              "\t<tr><th scope=row>7</th><td>7</td><td>A</td><td>-1.306185</td></tr>\n",
              "\t<tr><th scope=row>9</th><td>9</td><td>A</td><td>-1.792241</td></tr>\n",
              "</tbody>\n",
              "</table>\n"
            ],
            "text/markdown": "\nA data.frame: 2 × 3\n\n| <!--/--> | x &lt;int&gt; | y &lt;chr&gt; | z &lt;dbl&gt; |\n|---|---|---|---|\n| 7 | 7 | A | -1.306185 |\n| 9 | 9 | A | -1.792241 |\n\n",
            "text/latex": "A data.frame: 2 × 3\n\\begin{tabular}{r|lll}\n  & x & y & z\\\\\n  & <int> & <chr> & <dbl>\\\\\n\\hline\n\t7 & 7 & A & -1.306185\\\\\n\t9 & 9 & A & -1.792241\\\\\n\\end{tabular}\n",
            "text/plain": [
              "  x y z        \n",
              "7 7 A -1.306185\n",
              "9 9 A -1.792241"
            ]
          },
          "metadata": {}
        }
      ],
      "source": [
        "set.seed(666)  # This function \"controls random\"\n",
        "df <- data.frame(x = 1:10, y = rep(c('A', 'B'), 5), z = rnorm(10))\n",
        "\n",
        "# Select rows (KEY: position of the comma)\n",
        "df1 <- df[df[, 'x'] > 6, ]  # Select observations where variable x > 6\n",
        "df2 <- df[df[, 'x'] > 6 & df[, 'y'] == 'A', ]  # Double condition\n",
        "\n",
        "df1\n",
        "df2"
      ]
    },
    {
      "cell_type": "code",
      "source": [
        "# Select columns (KEY: position of the comma)\n",
        "df3 <- df[, colnames(df) != 'x']  # Select every column except \"x\": this is more robust than \"df[, -1]\" \n",
        "df3bis <- df[,colnames(df) %in% c('y', 'z')]  # Identical with %in% operator\n",
        "\n",
        "df3\n",
        "df3bis"
      ],
      "metadata": {
        "colab": {
          "base_uri": "https://localhost:8080/",
          "height": 806
        },
        "id": "enXZK04BLXQ3",
        "outputId": "73efeb39-d7b0-4df6-986c-63bc1130fe2f"
      },
      "execution_count": 119,
      "outputs": [
        {
          "output_type": "display_data",
          "data": {
            "text/html": [
              "<table class=\"dataframe\">\n",
              "<caption>A data.frame: 10 × 2</caption>\n",
              "<thead>\n",
              "\t<tr><th scope=col>y</th><th scope=col>z</th></tr>\n",
              "\t<tr><th scope=col>&lt;chr&gt;</th><th scope=col>&lt;dbl&gt;</th></tr>\n",
              "</thead>\n",
              "<tbody>\n",
              "\t<tr><td>A</td><td> 0.75331105</td></tr>\n",
              "\t<tr><td>B</td><td> 2.01435467</td></tr>\n",
              "\t<tr><td>A</td><td>-0.35513446</td></tr>\n",
              "\t<tr><td>B</td><td> 2.02816784</td></tr>\n",
              "\t<tr><td>A</td><td>-2.21687445</td></tr>\n",
              "\t<tr><td>B</td><td> 0.75839618</td></tr>\n",
              "\t<tr><td>A</td><td>-1.30618526</td></tr>\n",
              "\t<tr><td>B</td><td>-0.80251957</td></tr>\n",
              "\t<tr><td>A</td><td>-1.79224083</td></tr>\n",
              "\t<tr><td>B</td><td>-0.04203245</td></tr>\n",
              "</tbody>\n",
              "</table>\n"
            ],
            "text/markdown": "\nA data.frame: 10 × 2\n\n| y &lt;chr&gt; | z &lt;dbl&gt; |\n|---|---|\n| A |  0.75331105 |\n| B |  2.01435467 |\n| A | -0.35513446 |\n| B |  2.02816784 |\n| A | -2.21687445 |\n| B |  0.75839618 |\n| A | -1.30618526 |\n| B | -0.80251957 |\n| A | -1.79224083 |\n| B | -0.04203245 |\n\n",
            "text/latex": "A data.frame: 10 × 2\n\\begin{tabular}{ll}\n y & z\\\\\n <chr> & <dbl>\\\\\n\\hline\n\t A &  0.75331105\\\\\n\t B &  2.01435467\\\\\n\t A & -0.35513446\\\\\n\t B &  2.02816784\\\\\n\t A & -2.21687445\\\\\n\t B &  0.75839618\\\\\n\t A & -1.30618526\\\\\n\t B & -0.80251957\\\\\n\t A & -1.79224083\\\\\n\t B & -0.04203245\\\\\n\\end{tabular}\n",
            "text/plain": [
              "   y z          \n",
              "1  A  0.75331105\n",
              "2  B  2.01435467\n",
              "3  A -0.35513446\n",
              "4  B  2.02816784\n",
              "5  A -2.21687445\n",
              "6  B  0.75839618\n",
              "7  A -1.30618526\n",
              "8  B -0.80251957\n",
              "9  A -1.79224083\n",
              "10 B -0.04203245"
            ]
          },
          "metadata": {}
        },
        {
          "output_type": "display_data",
          "data": {
            "text/html": [
              "<table class=\"dataframe\">\n",
              "<caption>A data.frame: 10 × 2</caption>\n",
              "<thead>\n",
              "\t<tr><th scope=col>y</th><th scope=col>z</th></tr>\n",
              "\t<tr><th scope=col>&lt;chr&gt;</th><th scope=col>&lt;dbl&gt;</th></tr>\n",
              "</thead>\n",
              "<tbody>\n",
              "\t<tr><td>A</td><td> 0.75331105</td></tr>\n",
              "\t<tr><td>B</td><td> 2.01435467</td></tr>\n",
              "\t<tr><td>A</td><td>-0.35513446</td></tr>\n",
              "\t<tr><td>B</td><td> 2.02816784</td></tr>\n",
              "\t<tr><td>A</td><td>-2.21687445</td></tr>\n",
              "\t<tr><td>B</td><td> 0.75839618</td></tr>\n",
              "\t<tr><td>A</td><td>-1.30618526</td></tr>\n",
              "\t<tr><td>B</td><td>-0.80251957</td></tr>\n",
              "\t<tr><td>A</td><td>-1.79224083</td></tr>\n",
              "\t<tr><td>B</td><td>-0.04203245</td></tr>\n",
              "</tbody>\n",
              "</table>\n"
            ],
            "text/markdown": "\nA data.frame: 10 × 2\n\n| y &lt;chr&gt; | z &lt;dbl&gt; |\n|---|---|\n| A |  0.75331105 |\n| B |  2.01435467 |\n| A | -0.35513446 |\n| B |  2.02816784 |\n| A | -2.21687445 |\n| B |  0.75839618 |\n| A | -1.30618526 |\n| B | -0.80251957 |\n| A | -1.79224083 |\n| B | -0.04203245 |\n\n",
            "text/latex": "A data.frame: 10 × 2\n\\begin{tabular}{ll}\n y & z\\\\\n <chr> & <dbl>\\\\\n\\hline\n\t A &  0.75331105\\\\\n\t B &  2.01435467\\\\\n\t A & -0.35513446\\\\\n\t B &  2.02816784\\\\\n\t A & -2.21687445\\\\\n\t B &  0.75839618\\\\\n\t A & -1.30618526\\\\\n\t B & -0.80251957\\\\\n\t A & -1.79224083\\\\\n\t B & -0.04203245\\\\\n\\end{tabular}\n",
            "text/plain": [
              "   y z          \n",
              "1  A  0.75331105\n",
              "2  B  2.01435467\n",
              "3  A -0.35513446\n",
              "4  B  2.02816784\n",
              "5  A -2.21687445\n",
              "6  B  0.75839618\n",
              "7  A -1.30618526\n",
              "8  B -0.80251957\n",
              "9  A -1.79224083\n",
              "10 B -0.04203245"
            ]
          },
          "metadata": {}
        }
      ]
    },
    {
      "cell_type": "markdown",
      "source": [
        "Ordering the rows by the values of a column and reordering columns  "
      ],
      "metadata": {
        "id": "PZuO9duOMMBV"
      }
    },
    {
      "cell_type": "code",
      "execution_count": 124,
      "metadata": {
        "id": "frk2uqDmXp5p"
      },
      "outputs": [],
      "source": [
        "df4 <- df[order(df[, 'z'], decreasing = TRUE), ]  # Order rows by value of column \"z\" (highest-to-lowest)\n",
        "df5 <- df[, c('z', 'y', 'x')]  # Changes order of columns"
      ]
    },
    {
      "cell_type": "markdown",
      "source": [
        "Adding columns or rows"
      ],
      "metadata": {
        "id": "Yp6Mze3pMqlZ"
      }
    },
    {
      "cell_type": "code",
      "source": [
        "df6 <- cbind.data.frame(df5, w = 11:20) # cbind for matrix\n",
        "df6[, 'v'] <- 21:30  # add a new column from a new object\n",
        "df7 <- rbind.data.frame(df5[1:5, ], df5[6:10, ]) # rbind for matrix\n",
        "df7[11, ] <- c(11, 'B', 0)  # add a new observation from a new object\n",
        "df6\n",
        "df7"
      ],
      "metadata": {
        "colab": {
          "base_uri": "https://localhost:8080/",
          "height": 838
        },
        "id": "opiZwCaoMquJ",
        "outputId": "33be4865-3888-4bb3-ee79-a0adf9ff5c5d"
      },
      "execution_count": 127,
      "outputs": [
        {
          "output_type": "display_data",
          "data": {
            "text/html": [
              "<table class=\"dataframe\">\n",
              "<caption>A data.frame: 10 × 5</caption>\n",
              "<thead>\n",
              "\t<tr><th scope=col>z</th><th scope=col>y</th><th scope=col>x</th><th scope=col>w</th><th scope=col>v</th></tr>\n",
              "\t<tr><th scope=col>&lt;dbl&gt;</th><th scope=col>&lt;chr&gt;</th><th scope=col>&lt;int&gt;</th><th scope=col>&lt;int&gt;</th><th scope=col>&lt;int&gt;</th></tr>\n",
              "</thead>\n",
              "<tbody>\n",
              "\t<tr><td> 0.75331105</td><td>A</td><td> 1</td><td>11</td><td>21</td></tr>\n",
              "\t<tr><td> 2.01435467</td><td>B</td><td> 2</td><td>12</td><td>22</td></tr>\n",
              "\t<tr><td>-0.35513446</td><td>A</td><td> 3</td><td>13</td><td>23</td></tr>\n",
              "\t<tr><td> 2.02816784</td><td>B</td><td> 4</td><td>14</td><td>24</td></tr>\n",
              "\t<tr><td>-2.21687445</td><td>A</td><td> 5</td><td>15</td><td>25</td></tr>\n",
              "\t<tr><td> 0.75839618</td><td>B</td><td> 6</td><td>16</td><td>26</td></tr>\n",
              "\t<tr><td>-1.30618526</td><td>A</td><td> 7</td><td>17</td><td>27</td></tr>\n",
              "\t<tr><td>-0.80251957</td><td>B</td><td> 8</td><td>18</td><td>28</td></tr>\n",
              "\t<tr><td>-1.79224083</td><td>A</td><td> 9</td><td>19</td><td>29</td></tr>\n",
              "\t<tr><td>-0.04203245</td><td>B</td><td>10</td><td>20</td><td>30</td></tr>\n",
              "</tbody>\n",
              "</table>\n"
            ],
            "text/markdown": "\nA data.frame: 10 × 5\n\n| z &lt;dbl&gt; | y &lt;chr&gt; | x &lt;int&gt; | w &lt;int&gt; | v &lt;int&gt; |\n|---|---|---|---|---|\n|  0.75331105 | A |  1 | 11 | 21 |\n|  2.01435467 | B |  2 | 12 | 22 |\n| -0.35513446 | A |  3 | 13 | 23 |\n|  2.02816784 | B |  4 | 14 | 24 |\n| -2.21687445 | A |  5 | 15 | 25 |\n|  0.75839618 | B |  6 | 16 | 26 |\n| -1.30618526 | A |  7 | 17 | 27 |\n| -0.80251957 | B |  8 | 18 | 28 |\n| -1.79224083 | A |  9 | 19 | 29 |\n| -0.04203245 | B | 10 | 20 | 30 |\n\n",
            "text/latex": "A data.frame: 10 × 5\n\\begin{tabular}{lllll}\n z & y & x & w & v\\\\\n <dbl> & <chr> & <int> & <int> & <int>\\\\\n\\hline\n\t  0.75331105 & A &  1 & 11 & 21\\\\\n\t  2.01435467 & B &  2 & 12 & 22\\\\\n\t -0.35513446 & A &  3 & 13 & 23\\\\\n\t  2.02816784 & B &  4 & 14 & 24\\\\\n\t -2.21687445 & A &  5 & 15 & 25\\\\\n\t  0.75839618 & B &  6 & 16 & 26\\\\\n\t -1.30618526 & A &  7 & 17 & 27\\\\\n\t -0.80251957 & B &  8 & 18 & 28\\\\\n\t -1.79224083 & A &  9 & 19 & 29\\\\\n\t -0.04203245 & B & 10 & 20 & 30\\\\\n\\end{tabular}\n",
            "text/plain": [
              "   z           y x  w  v \n",
              "1   0.75331105 A  1 11 21\n",
              "2   2.01435467 B  2 12 22\n",
              "3  -0.35513446 A  3 13 23\n",
              "4   2.02816784 B  4 14 24\n",
              "5  -2.21687445 A  5 15 25\n",
              "6   0.75839618 B  6 16 26\n",
              "7  -1.30618526 A  7 17 27\n",
              "8  -0.80251957 B  8 18 28\n",
              "9  -1.79224083 A  9 19 29\n",
              "10 -0.04203245 B 10 20 30"
            ]
          },
          "metadata": {}
        },
        {
          "output_type": "display_data",
          "data": {
            "text/html": [
              "<table class=\"dataframe\">\n",
              "<caption>A data.frame: 11 × 3</caption>\n",
              "<thead>\n",
              "\t<tr><th></th><th scope=col>z</th><th scope=col>y</th><th scope=col>x</th></tr>\n",
              "\t<tr><th></th><th scope=col>&lt;chr&gt;</th><th scope=col>&lt;chr&gt;</th><th scope=col>&lt;chr&gt;</th></tr>\n",
              "</thead>\n",
              "<tbody>\n",
              "\t<tr><th scope=row>1</th><td>0.753311046217783  </td><td>A</td><td>1 </td></tr>\n",
              "\t<tr><th scope=row>2</th><td>2.01435466569865   </td><td>B</td><td>2 </td></tr>\n",
              "\t<tr><th scope=row>3</th><td>-0.355134460371891 </td><td>A</td><td>3 </td></tr>\n",
              "\t<tr><th scope=row>4</th><td>2.02816784264222   </td><td>B</td><td>4 </td></tr>\n",
              "\t<tr><th scope=row>5</th><td>-2.21687445114244  </td><td>A</td><td>5 </td></tr>\n",
              "\t<tr><th scope=row>6</th><td>0.758396178001042  </td><td>B</td><td>6 </td></tr>\n",
              "\t<tr><th scope=row>7</th><td>-1.3061852590117   </td><td>A</td><td>7 </td></tr>\n",
              "\t<tr><th scope=row>8</th><td>-0.802519568703793 </td><td>B</td><td>8 </td></tr>\n",
              "\t<tr><th scope=row>9</th><td>-1.79224083446114  </td><td>A</td><td>9 </td></tr>\n",
              "\t<tr><th scope=row>10</th><td>-0.0420324540227439</td><td>B</td><td>10</td></tr>\n",
              "\t<tr><th scope=row>11</th><td>11                 </td><td>B</td><td>0 </td></tr>\n",
              "</tbody>\n",
              "</table>\n"
            ],
            "text/markdown": "\nA data.frame: 11 × 3\n\n| <!--/--> | z &lt;chr&gt; | y &lt;chr&gt; | x &lt;chr&gt; |\n|---|---|---|---|\n| 1 | 0.753311046217783   | A | 1  |\n| 2 | 2.01435466569865    | B | 2  |\n| 3 | -0.355134460371891  | A | 3  |\n| 4 | 2.02816784264222    | B | 4  |\n| 5 | -2.21687445114244   | A | 5  |\n| 6 | 0.758396178001042   | B | 6  |\n| 7 | -1.3061852590117    | A | 7  |\n| 8 | -0.802519568703793  | B | 8  |\n| 9 | -1.79224083446114   | A | 9  |\n| 10 | -0.0420324540227439 | B | 10 |\n| 11 | 11                  | B | 0  |\n\n",
            "text/latex": "A data.frame: 11 × 3\n\\begin{tabular}{r|lll}\n  & z & y & x\\\\\n  & <chr> & <chr> & <chr>\\\\\n\\hline\n\t1 & 0.753311046217783   & A & 1 \\\\\n\t2 & 2.01435466569865    & B & 2 \\\\\n\t3 & -0.355134460371891  & A & 3 \\\\\n\t4 & 2.02816784264222    & B & 4 \\\\\n\t5 & -2.21687445114244   & A & 5 \\\\\n\t6 & 0.758396178001042   & B & 6 \\\\\n\t7 & -1.3061852590117    & A & 7 \\\\\n\t8 & -0.802519568703793  & B & 8 \\\\\n\t9 & -1.79224083446114   & A & 9 \\\\\n\t10 & -0.0420324540227439 & B & 10\\\\\n\t11 & 11                  & B & 0 \\\\\n\\end{tabular}\n",
            "text/plain": [
              "   z                   y x \n",
              "1  0.753311046217783   A 1 \n",
              "2  2.01435466569865    B 2 \n",
              "3  -0.355134460371891  A 3 \n",
              "4  2.02816784264222    B 4 \n",
              "5  -2.21687445114244   A 5 \n",
              "6  0.758396178001042   B 6 \n",
              "7  -1.3061852590117    A 7 \n",
              "8  -0.802519568703793  B 8 \n",
              "9  -1.79224083446114   A 9 \n",
              "10 -0.0420324540227439 B 10\n",
              "11 11                  B 0 "
            ]
          },
          "metadata": {}
        }
      ]
    },
    {
      "cell_type": "markdown",
      "source": [
        "Renaming variables or rows, changing the type of a column, transforming a column"
      ],
      "metadata": {
        "id": "EE0ka1gYNBFn"
      }
    },
    {
      "cell_type": "code",
      "execution_count": 129,
      "metadata": {
        "id": "USeS5rLAXsHM",
        "colab": {
          "base_uri": "https://localhost:8080/",
          "height": 52
        },
        "outputId": "5f76bdbb-bd59-492a-ab07-9fd641851ca8"
      },
      "outputs": [
        {
          "output_type": "display_data",
          "data": {
            "text/html": [
              "<style>\n",
              ".list-inline {list-style: none; margin:0; padding: 0}\n",
              ".list-inline>li {display: inline-block}\n",
              ".list-inline>li:not(:last-child)::after {content: \"\\00b7\"; padding: 0 .5ex}\n",
              "</style>\n",
              "<ol class=list-inline><li>'Z'</li><li>'Y'</li><li>'X'</li></ol>\n"
            ],
            "text/markdown": "1. 'Z'\n2. 'Y'\n3. 'X'\n\n\n",
            "text/latex": "\\begin{enumerate*}\n\\item 'Z'\n\\item 'Y'\n\\item 'X'\n\\end{enumerate*}\n",
            "text/plain": [
              "[1] \"Z\" \"Y\" \"X\""
            ]
          },
          "metadata": {}
        },
        {
          "output_type": "display_data",
          "data": {
            "text/html": [
              "<style>\n",
              ".list-inline {list-style: none; margin:0; padding: 0}\n",
              ".list-inline>li {display: inline-block}\n",
              ".list-inline>li:not(:last-child)::after {content: \"\\00b7\"; padding: 0 .5ex}\n",
              "</style>\n",
              "<ol class=list-inline><li>'obs1'</li><li>'obs2'</li><li>'obs3'</li><li>'obs4'</li><li>'obs5'</li><li>'obs6'</li><li>'obs7'</li><li>'obs8'</li><li>'obs9'</li><li>'obs10'</li></ol>\n"
            ],
            "text/markdown": "1. 'obs1'\n2. 'obs2'\n3. 'obs3'\n4. 'obs4'\n5. 'obs5'\n6. 'obs6'\n7. 'obs7'\n8. 'obs8'\n9. 'obs9'\n10. 'obs10'\n\n\n",
            "text/latex": "\\begin{enumerate*}\n\\item 'obs1'\n\\item 'obs2'\n\\item 'obs3'\n\\item 'obs4'\n\\item 'obs5'\n\\item 'obs6'\n\\item 'obs7'\n\\item 'obs8'\n\\item 'obs9'\n\\item 'obs10'\n\\end{enumerate*}\n",
            "text/plain": [
              " [1] \"obs1\"  \"obs2\"  \"obs3\"  \"obs4\"  \"obs5\"  \"obs6\"  \"obs7\"  \"obs8\"  \"obs9\" \n",
              "[10] \"obs10\""
            ]
          },
          "metadata": {}
        }
      ],
      "source": [
        "colnames(df5) <- c('Z', 'Y', 'X')\n",
        "rownames(df5) <- paste('obs', 1:nrow(df5), sep = '')\n",
        "df5[, 'X'] <- as.integer(df5[, 'X'])  # it's ok to re-write: it is reversible\n",
        "df5[, 'Z'] <- df5[, 'Z'] * 3  # modify an existing column\n",
        "colnames(df5)\n",
        "rownames(df5)"
      ]
    },
    {
      "cell_type": "markdown",
      "metadata": {
        "id": "TbUWb9tOqPhe"
      },
      "source": [
        "Some remarks on these operations:\n",
        "*   Note the difference between `sort()` and `order()`: the former returns the object but sorted, the latter returns the ranks, not the values themselves.\n",
        "*   One helpful function we have not looked at is `subset()`, which does filtering as we did above. It works well for simple commands, but the framework above is more flexible and can deal with complex operations. Feel free to use it though! Try: `subset(airquality, Temp > 80, select = c(Ozone, Temp))`.\n",
        "*   Notice that we never modified the original object when manipulating the datasets, we always created a new object. You are allowed over-write existing objects, but datasets operations are **irreversible**,and you may lose information."
      ]
    },
    {
      "cell_type": "markdown",
      "metadata": {
        "id": "8vRD1JpYwKFN"
      },
      "source": [
        "### 6.2. Merge and join\n",
        "\n",
        "Beyond the straightforward expansion or selection of rows and columns explained before, one may want to *merge* two datasets, e.g. we have different data on the same set of individuals, or different years, etc. This usually involves joining two full datasets, instead of just adding rows or columns based on some coditions."
      ]
    },
    {
      "cell_type": "code",
      "execution_count": 130,
      "metadata": {
        "id": "wxP8wK_X0yF1",
        "colab": {
          "base_uri": "https://localhost:8080/",
          "height": 969
        },
        "outputId": "66924bd4-3521-4050-8643-f27823898a66"
      },
      "outputs": [
        {
          "output_type": "display_data",
          "data": {
            "text/html": [
              "<table class=\"dataframe\">\n",
              "<caption>A data.frame: 5 × 3</caption>\n",
              "<thead>\n",
              "\t<tr><th></th><th scope=col>id1</th><th scope=col>col1</th><th scope=col>col2</th></tr>\n",
              "\t<tr><th></th><th scope=col>&lt;int&gt;</th><th scope=col>&lt;dbl&gt;</th><th scope=col>&lt;dbl&gt;</th></tr>\n",
              "</thead>\n",
              "<tbody>\n",
              "\t<tr><th scope=row>1</th><td>5</td><td> 1.23528305</td><td>3.0634462</td></tr>\n",
              "\t<tr><th scope=row>2</th><td>9</td><td>-0.08365711</td><td>0.8760082</td></tr>\n",
              "\t<tr><th scope=row>3</th><td>4</td><td> 0.25683143</td><td>2.8367350</td></tr>\n",
              "\t<tr><th scope=row>4</th><td>1</td><td>-1.07362365</td><td>0.3991052</td></tr>\n",
              "\t<tr><th scope=row>5</th><td>2</td><td>-0.62286788</td><td>1.5607040</td></tr>\n",
              "</tbody>\n",
              "</table>\n"
            ],
            "text/markdown": "\nA data.frame: 5 × 3\n\n| <!--/--> | id1 &lt;int&gt; | col1 &lt;dbl&gt; | col2 &lt;dbl&gt; |\n|---|---|---|---|\n| 1 | 5 |  1.23528305 | 3.0634462 |\n| 2 | 9 | -0.08365711 | 0.8760082 |\n| 3 | 4 |  0.25683143 | 2.8367350 |\n| 4 | 1 | -1.07362365 | 0.3991052 |\n| 5 | 2 | -0.62286788 | 1.5607040 |\n\n",
            "text/latex": "A data.frame: 5 × 3\n\\begin{tabular}{r|lll}\n  & id1 & col1 & col2\\\\\n  & <int> & <dbl> & <dbl>\\\\\n\\hline\n\t1 & 5 &  1.23528305 & 3.0634462\\\\\n\t2 & 9 & -0.08365711 & 0.8760082\\\\\n\t3 & 4 &  0.25683143 & 2.8367350\\\\\n\t4 & 1 & -1.07362365 & 0.3991052\\\\\n\t5 & 2 & -0.62286788 & 1.5607040\\\\\n\\end{tabular}\n",
            "text/plain": [
              "  id1 col1        col2     \n",
              "1 5    1.23528305 3.0634462\n",
              "2 9   -0.08365711 0.8760082\n",
              "3 4    0.25683143 2.8367350\n",
              "4 1   -1.07362365 0.3991052\n",
              "5 2   -0.62286788 1.5607040"
            ]
          },
          "metadata": {}
        },
        {
          "output_type": "display_data",
          "data": {
            "text/html": [
              "<table class=\"dataframe\">\n",
              "<caption>A data.frame: 5 × 3</caption>\n",
              "<thead>\n",
              "\t<tr><th></th><th scope=col>id2</th><th scope=col>col3</th><th scope=col>col4</th></tr>\n",
              "\t<tr><th></th><th scope=col>&lt;int&gt;</th><th scope=col>&lt;dbl&gt;</th><th scope=col>&lt;dbl&gt;</th></tr>\n",
              "</thead>\n",
              "<tbody>\n",
              "\t<tr><th scope=row>1</th><td> 1</td><td>-0.9564482</td><td>0.1428781</td></tr>\n",
              "\t<tr><th scope=row>2</th><td> 8</td><td> 1.1390113</td><td>1.5188775</td></tr>\n",
              "\t<tr><th scope=row>3</th><td>10</td><td>-1.4151442</td><td>0.1644284</td></tr>\n",
              "\t<tr><th scope=row>4</th><td> 6</td><td> 0.2009336</td><td>0.4742982</td></tr>\n",
              "\t<tr><th scope=row>5</th><td> 7</td><td>-1.2343732</td><td>0.1326316</td></tr>\n",
              "</tbody>\n",
              "</table>\n"
            ],
            "text/markdown": "\nA data.frame: 5 × 3\n\n| <!--/--> | id2 &lt;int&gt; | col3 &lt;dbl&gt; | col4 &lt;dbl&gt; |\n|---|---|---|---|\n| 1 |  1 | -0.9564482 | 0.1428781 |\n| 2 |  8 |  1.1390113 | 1.5188775 |\n| 3 | 10 | -1.4151442 | 0.1644284 |\n| 4 |  6 |  0.2009336 | 0.4742982 |\n| 5 |  7 | -1.2343732 | 0.1326316 |\n\n",
            "text/latex": "A data.frame: 5 × 3\n\\begin{tabular}{r|lll}\n  & id2 & col3 & col4\\\\\n  & <int> & <dbl> & <dbl>\\\\\n\\hline\n\t1 &  1 & -0.9564482 & 0.1428781\\\\\n\t2 &  8 &  1.1390113 & 1.5188775\\\\\n\t3 & 10 & -1.4151442 & 0.1644284\\\\\n\t4 &  6 &  0.2009336 & 0.4742982\\\\\n\t5 &  7 & -1.2343732 & 0.1326316\\\\\n\\end{tabular}\n",
            "text/plain": [
              "  id2 col3       col4     \n",
              "1  1  -0.9564482 0.1428781\n",
              "2  8   1.1390113 1.5188775\n",
              "3 10  -1.4151442 0.1644284\n",
              "4  6   0.2009336 0.4742982\n",
              "5  7  -1.2343732 0.1326316"
            ]
          },
          "metadata": {}
        },
        {
          "output_type": "display_data",
          "data": {
            "text/html": [
              "<table class=\"dataframe\">\n",
              "<caption>A data.frame: 5 × 5</caption>\n",
              "<thead>\n",
              "\t<tr><th></th><th scope=col>id1</th><th scope=col>col1</th><th scope=col>col2</th><th scope=col>col3</th><th scope=col>col4</th></tr>\n",
              "\t<tr><th></th><th scope=col>&lt;int&gt;</th><th scope=col>&lt;dbl&gt;</th><th scope=col>&lt;dbl&gt;</th><th scope=col>&lt;dbl&gt;</th><th scope=col>&lt;dbl&gt;</th></tr>\n",
              "</thead>\n",
              "<tbody>\n",
              "\t<tr><th scope=row>8</th><td>5</td><td> 1.23528305</td><td>3.0634462</td><td>-0.3334186</td><td>0.3311042</td></tr>\n",
              "\t<tr><th scope=row>6</th><td>9</td><td>-0.08365711</td><td>0.8760082</td><td>-0.1211411</td><td>0.9001866</td></tr>\n",
              "\t<tr><th scope=row>7</th><td>4</td><td> 0.25683143</td><td>2.8367350</td><td> 0.6722846</td><td>2.3237402</td></tr>\n",
              "\t<tr><th scope=row>1</th><td>1</td><td>-1.07362365</td><td>0.3991052</td><td>-0.9564482</td><td>0.1428781</td></tr>\n",
              "\t<tr><th scope=row>10</th><td>2</td><td>-0.62286788</td><td>1.5607040</td><td> 2.3682631</td><td>0.3960097</td></tr>\n",
              "</tbody>\n",
              "</table>\n"
            ],
            "text/markdown": "\nA data.frame: 5 × 5\n\n| <!--/--> | id1 &lt;int&gt; | col1 &lt;dbl&gt; | col2 &lt;dbl&gt; | col3 &lt;dbl&gt; | col4 &lt;dbl&gt; |\n|---|---|---|---|---|---|\n| 8 | 5 |  1.23528305 | 3.0634462 | -0.3334186 | 0.3311042 |\n| 6 | 9 | -0.08365711 | 0.8760082 | -0.1211411 | 0.9001866 |\n| 7 | 4 |  0.25683143 | 2.8367350 |  0.6722846 | 2.3237402 |\n| 1 | 1 | -1.07362365 | 0.3991052 | -0.9564482 | 0.1428781 |\n| 10 | 2 | -0.62286788 | 1.5607040 |  2.3682631 | 0.3960097 |\n\n",
            "text/latex": "A data.frame: 5 × 5\n\\begin{tabular}{r|lllll}\n  & id1 & col1 & col2 & col3 & col4\\\\\n  & <int> & <dbl> & <dbl> & <dbl> & <dbl>\\\\\n\\hline\n\t8 & 5 &  1.23528305 & 3.0634462 & -0.3334186 & 0.3311042\\\\\n\t6 & 9 & -0.08365711 & 0.8760082 & -0.1211411 & 0.9001866\\\\\n\t7 & 4 &  0.25683143 & 2.8367350 &  0.6722846 & 2.3237402\\\\\n\t1 & 1 & -1.07362365 & 0.3991052 & -0.9564482 & 0.1428781\\\\\n\t10 & 2 & -0.62286788 & 1.5607040 &  2.3682631 & 0.3960097\\\\\n\\end{tabular}\n",
            "text/plain": [
              "   id1 col1        col2      col3       col4     \n",
              "8  5    1.23528305 3.0634462 -0.3334186 0.3311042\n",
              "6  9   -0.08365711 0.8760082 -0.1211411 0.9001866\n",
              "7  4    0.25683143 2.8367350  0.6722846 2.3237402\n",
              "1  1   -1.07362365 0.3991052 -0.9564482 0.1428781\n",
              "10 2   -0.62286788 1.5607040  2.3682631 0.3960097"
            ]
          },
          "metadata": {}
        },
        {
          "output_type": "display_data",
          "data": {
            "text/html": [
              "<table class=\"dataframe\">\n",
              "<caption>A data.frame: 5 × 5</caption>\n",
              "<thead>\n",
              "\t<tr><th></th><th scope=col>id</th><th scope=col>col1</th><th scope=col>col2</th><th scope=col>col3</th><th scope=col>col4</th></tr>\n",
              "\t<tr><th></th><th scope=col>&lt;int&gt;</th><th scope=col>&lt;dbl&gt;</th><th scope=col>&lt;dbl&gt;</th><th scope=col>&lt;dbl&gt;</th><th scope=col>&lt;dbl&gt;</th></tr>\n",
              "</thead>\n",
              "<tbody>\n",
              "\t<tr><th scope=row>1</th><td>1</td><td>-1.0736237</td><td>0.3991052</td><td>-0.9564482</td><td>0.1428781</td></tr>\n",
              "\t<tr><th scope=row>2</th><td>2</td><td>-0.6228679</td><td>1.5607040</td><td> 2.3682631</td><td>0.3960097</td></tr>\n",
              "\t<tr><th scope=row>3</th><td>3</td><td> 0.2849911</td><td>1.3178794</td><td> 0.2514136</td><td>0.6331147</td></tr>\n",
              "\t<tr><th scope=row>4</th><td>4</td><td> 0.2568314</td><td>2.8367350</td><td> 0.6722846</td><td>2.3237402</td></tr>\n",
              "\t<tr><th scope=row>5</th><td>5</td><td> 1.2352831</td><td>3.0634462</td><td>-0.3334186</td><td>0.3311042</td></tr>\n",
              "</tbody>\n",
              "</table>\n"
            ],
            "text/markdown": "\nA data.frame: 5 × 5\n\n| <!--/--> | id &lt;int&gt; | col1 &lt;dbl&gt; | col2 &lt;dbl&gt; | col3 &lt;dbl&gt; | col4 &lt;dbl&gt; |\n|---|---|---|---|---|---|\n| 1 | 1 | -1.0736237 | 0.3991052 | -0.9564482 | 0.1428781 |\n| 2 | 2 | -0.6228679 | 1.5607040 |  2.3682631 | 0.3960097 |\n| 3 | 3 |  0.2849911 | 1.3178794 |  0.2514136 | 0.6331147 |\n| 4 | 4 |  0.2568314 | 2.8367350 |  0.6722846 | 2.3237402 |\n| 5 | 5 |  1.2352831 | 3.0634462 | -0.3334186 | 0.3311042 |\n\n",
            "text/latex": "A data.frame: 5 × 5\n\\begin{tabular}{r|lllll}\n  & id & col1 & col2 & col3 & col4\\\\\n  & <int> & <dbl> & <dbl> & <dbl> & <dbl>\\\\\n\\hline\n\t1 & 1 & -1.0736237 & 0.3991052 & -0.9564482 & 0.1428781\\\\\n\t2 & 2 & -0.6228679 & 1.5607040 &  2.3682631 & 0.3960097\\\\\n\t3 & 3 &  0.2849911 & 1.3178794 &  0.2514136 & 0.6331147\\\\\n\t4 & 4 &  0.2568314 & 2.8367350 &  0.6722846 & 2.3237402\\\\\n\t5 & 5 &  1.2352831 & 3.0634462 & -0.3334186 & 0.3311042\\\\\n\\end{tabular}\n",
            "text/plain": [
              "  id col1       col2      col3       col4     \n",
              "1 1  -1.0736237 0.3991052 -0.9564482 0.1428781\n",
              "2 2  -0.6228679 1.5607040  2.3682631 0.3960097\n",
              "3 3   0.2849911 1.3178794  0.2514136 0.6331147\n",
              "4 4   0.2568314 2.8367350  0.6722846 2.3237402\n",
              "5 5   1.2352831 3.0634462 -0.3334186 0.3311042"
            ]
          },
          "metadata": {}
        }
      ],
      "source": [
        "set.seed(666)\n",
        "df1 <- data.frame(id1 = sample(1:10, replace = FALSE), col1 = rnorm(10), col2 = rchisq(10, df = 1))\n",
        "df2 <- data.frame(id2 = sample(1:10, replace = FALSE), col3 = rnorm(10), col4 = rchisq(10, df = 1))\n",
        "head(df1, 5)\n",
        "head(df2, 5)\n",
        "\n",
        "# Joint datasets using \"match\"\n",
        "df3 <- cbind.data.frame(df1, df2[match(df1[, 'id1'], df2[, 'id2']), -1])  # Exclude \"id\" column to avoid redundancy\n",
        "head(df3, 5)\n",
        "\n",
        "# Joint datasets using \"merge\"\n",
        "colnames(df1)[1] <- 'id'\n",
        "colnames(df2)[1] <- 'id'\n",
        "df3 <- merge(df1, df2, by = 'id')  # This is fine but be careful if ID lists and column names are not equal\n",
        "head(df3, 5)  # The original order is altered"
      ]
    },
    {
      "cell_type": "markdown",
      "metadata": {
        "id": "lNLeTX1f0jw_"
      },
      "source": [
        "The function `match()` basically looks for the elements of the first vector present in the second vector, and returns the corresponding indices of the latter in the order of the former. It is another hall-of-famer function in `R` and is super useful in a number of contexts. Use it!\n",
        "\n",
        "Using `merge()` is also a good option, especially if you're familiar with database management, as it is well equipped to easily do *inner* (default), *outer* and *cross* joints."
      ]
    }
  ],
  "metadata": {
    "colab": {
      "provenance": [],
      "toc_visible": true
    },
    "kernelspec": {
      "display_name": "R",
      "language": "R",
      "name": "ir"
    },
    "language_info": {
      "codemirror_mode": "r",
      "file_extension": ".r",
      "mimetype": "text/x-r-source",
      "name": "R",
      "pygments_lexer": "r",
      "version": "3.6.1"
    }
  },
  "nbformat": 4,
  "nbformat_minor": 0
}