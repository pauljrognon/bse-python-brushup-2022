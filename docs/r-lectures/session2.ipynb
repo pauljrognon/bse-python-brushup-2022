{
  "cells": [
    {
      "cell_type": "markdown",
      "metadata": {
        "id": "FVgm8I6b9p3j"
      },
      "source": [
        "# Session 2\n",
        "\n",
        "By **Paul Rognon & Miquel Torrens i Dinarès**\n",
        "\n",
        "*Barcelona School of Economics* – \n",
        "*Data Science Center*\n",
        "\n",
        "March 16th, 2023"
      ]
    },
    {
      "cell_type": "markdown",
      "metadata": {
        "id": "RIYUd3OF_ZV3"
      },
      "source": [
        "---\n",
        "## 7. Control flows\n",
        "\n",
        "We cover `if` statements, and the basic loops: `for`, `while`, `repeat`."
      ]
    },
    {
      "cell_type": "markdown",
      "metadata": {
        "id": "Lg1UZGGC27k8"
      },
      "source": [
        "### 7.1 `if`-statements\n",
        "\n",
        "`if`-statements are used to run operations only if some condition is met. They start with the keyword `if` followed by the condition statement which must output a boolean. Then comes a block of operations to be run if the condition is met. Another block starting with keyword `else` can be added to define operations to be run if the condition is not met."
      ]
    },
    {
      "cell_type": "code",
      "execution_count": null,
      "metadata": {
        "id": "W2JUhPUb27A1"
      },
      "outputs": [],
      "source": [
        "gender <- 'male'\n",
        "age <- 20 \n",
        "\n",
        "# If-statement: use logical object as condition, then indent conditional actions\n",
        "# Isolate condition in parenthesis, with pre- and post- single space\n",
        "cat('* Person: ')\n",
        "if (gender == 'female') {  # \"if\" clauses use \"{\" and \"}\"\n",
        "  if (age > 18) {\n",
        "    cat('Woman.\\n')\n",
        "  } else {\n",
        "    cat('Girl.\\n')\n",
        "  }\n",
        "} else if (gender == 'male') {  # \"else if\" tell what happens if there is another mutually exclusive condition\n",
        "  if (age > 18) {\n",
        "    cat('Man.\\n')\n",
        "  } else {\n",
        "    cat('Boy.\\n')\n",
        "  }\n",
        "} else {  # \"else\" tell what happens if previous conditions do not hold\n",
        "  cat('Other gender.\\n')\n",
        "}\n",
        "\n",
        "# Other ways to use if-statements\n",
        "if (gender == 'male') cat('* Gender is male.\\n')  # You can skip the clause if single-line (not recommended)\n",
        "under.age <- ifelse(age < 18, 'Yes.', 'No.')  # Assign first element if condition holds, second element otherwise (single element operation)\n",
        "cat('* Is the person under age:', under.age, '\\n')"
      ]
    },
    {
      "cell_type": "markdown",
      "metadata": {
        "id": "wyr3aRET8CB5"
      },
      "source": [
        "Note that `if`-conditions do not require an `else` statement, this is used when something in the code must happen either-or. If you only want a part of the code to run (without `else` contingency), you can just write `if (...) { ... }` and omit the rest."
      ]
    },
    {
      "cell_type": "markdown",
      "metadata": {
        "id": "BKxPeJSe8iQn"
      },
      "source": [
        "### 7.2 `for`-loops\n",
        "\n",
        "These are used when you want to apply a set of operations on an *iterable* object. A `for`-loop will replicate the computations for each element of the $n$ elements of the object and provide $n$ results."
      ]
    },
    {
      "cell_type": "code",
      "execution_count": null,
      "metadata": {
        "id": "qZ7_Mv03-7B_"
      },
      "outputs": [],
      "source": [
        "n <- 5  # 5 elements\n",
        "x <- rep(NA, n)  # Set an empty vector with n elements\n",
        "for (i in 1:(2*n)) {  # For element \"i\" from 1 to 2*n, perform the following operations\n",
        "  cat('Iteration:', i, '\\n')\n",
        "  result <- i^2 - 5  \n",
        "  if (result < 0) {\n",
        "    next  # This is necessary because later I compute the squared root\n",
        "  }\n",
        "  x[i] <- sqrt(result)  # Set the i-th element with the squared root\n",
        "  if (i > n) {\n",
        "    break  # I only have n elements in the vector, the n+1 could not be assigned\n",
        "  }\n",
        "}\n",
        "\n",
        "# Check the outcome\n",
        "print(x)"
      ]
    },
    {
      "cell_type": "markdown",
      "metadata": {
        "id": "uu573i_8_DnS"
      },
      "source": [
        "The set of operations can be of any difficulty and length, this is just regular code: the only difference is that you repeat them for each element on the iterable object.\n",
        "\n",
        "Keep in mind that a lot of `for`-loops can be converted to an `apply`-type operation, which in general is faster. \n",
        "\n",
        "**Note:** there are two *reserved* words when looping: `next` and `break`. These are used to prevent loops from getting stuck or running into errors.\n",
        "\n",
        "*   `next`: this will make a loop jump immediately to the next iteration, without running the remaining body of the loop from that point on (on the current iteration)\n",
        "*   `break`: it will make the loop stop completely, i.e. you exit the loop and proceed with the rest of the code normally.\n",
        "\n"
      ]
    },
    {
      "cell_type": "markdown",
      "metadata": {
        "id": "DcKRkEm89pJT"
      },
      "source": [
        "### 7.3 `while`-loops (and `repeat`)\n",
        "\n",
        "These are used when you want to execute operations as long as a certain condition holds. It is structured like a `for`-loop, but mixed with an `if`-statement: at each iteration you are testing if a condition still holds. This condition is tested every time the body loop is executed, until it does not hold."
      ]
    },
    {
      "cell_type": "code",
      "execution_count": null,
      "metadata": {
        "id": "dL3bnv697YDi"
      },
      "outputs": [],
      "source": [
        "count <- 0\n",
        "while (count < 10) {\n",
        "  count <- count + 1\n",
        "  cat('* Count:', count, '\\n')\n",
        "}\n",
        "\n",
        "# \"repeat\" works in the same way but needs a \"break\" to stop\n",
        "count <- 0\n",
        "repeat {\n",
        "  count <- count + 1\n",
        "  cat('* Count:', count, '\\n')\n",
        "  if (count == 10) {\n",
        "    break\n",
        "  }\n",
        "}"
      ]
    },
    {
      "cell_type": "markdown",
      "metadata": {
        "id": "B1BlSIRHZo3G"
      },
      "source": [
        "### 7.4 Parallelisation\n",
        "\n",
        "Loops sometimes involve heavy computations and can be costly to evaluate in terms of computing time. Most programming languages natively use one single core in your computer to run a script, but most modern computers have multiple cores, and so in some situations it might be helpful to involve more cores in a computation to divide the *parallelisable* workload onto more than one core. This can sensibly cuts computation time.\n",
        "\n",
        "By *parallelisable* we mean settings in which iterations are mutually independent from each other, this is not the case when the result of one iteration implicates the next one.\n",
        "\n",
        "We introduce a package to easily make `for`-loops parallel on multiple cores."
      ]
    },
    {
      "cell_type": "code",
      "execution_count": 6,
      "metadata": {
        "id": "lUxQYMEiEuyr",
        "colab": {
          "base_uri": "https://localhost:8080/",
          "height": 104
        },
        "outputId": "b35535cd-816a-47a4-a6cd-e13add1e3bcc"
      },
      "outputs": [
        {
          "output_type": "display_data",
          "data": {
            "text/plain": [
              "Time difference of 0.008584976 secs"
            ]
          },
          "metadata": {}
        },
        {
          "output_type": "display_data",
          "data": {
            "text/plain": [
              "Time difference of 1.614246 secs"
            ]
          },
          "metadata": {}
        },
        {
          "output_type": "stream",
          "name": "stdout",
          "text": [
            "[1] -4 -1  4 11 20 31\n",
            "[1] -4 -1  4 11 20 31\n"
          ]
        },
        {
          "output_type": "display_data",
          "data": {
            "text/html": [
              "TRUE"
            ],
            "text/markdown": "TRUE",
            "text/latex": "TRUE",
            "text/plain": [
              "[1] TRUE"
            ]
          },
          "metadata": {}
        }
      ],
      "source": [
        "# You need some libraries for this\n",
        "if (! require(doMC)) { install.packages('doMC') }  # Not installed by default\n",
        "library(foreach)  # Parallel loop\n",
        "library(parallel)  # To set number of cores\n",
        "library(doMC)\n",
        "\n",
        "n <- 1e4  # 10^4 = 10,000 elements\n",
        "\n",
        "# Regular for-loop\n",
        "x1 <- rep(NA, n)  # Set an empty vector with n elements\n",
        "for (i in 1:n) {  # For element \"i\" from 1:n, perform the following operations\n",
        "  x1[i] <- i^2 - 5\n",
        "}\n",
        "\n",
        "# Parallelised loop\n",
        "ncores <- 2\n",
        "#ncores <- parallel::detectCores() - 1  # if you want to dedicate all but one core to this\n",
        "doMC::registerDoMC(cores = ncores)  # This asks the computer to dedicate \"ncores\" to this computation\n",
        "x2 <- foreach::foreach(i = 1:n, .errorhandling = 'pass') %dopar% {\n",
        "  out <- i^2 - 5\n",
        "  return(out)\n",
        "}\n",
        "# \"foreach\" returns a list by default: look into the argument \".combine\" to change that\n",
        "x2 <- unlist(x2)  # function \"unlist()\" is awesome: turn a list into a vector\n",
        "\n",
        "# Check the outcome\n",
        "print(head(x1))\n",
        "print(head(x2))\n",
        "identical(x1, x2)  # Same result\n"
      ]
    },
    {
      "cell_type": "markdown",
      "metadata": {
        "id": "DnYJHbRKU4vc"
      },
      "source": [
        "### 7.5 Error handling\n",
        "\n",
        "Coding errors (a.k.a. *bugs*) happen. But it is much better if they can be easily caught and corrected, and that's why we have to write code that is as easy to *debug* as possible. Being able to spot where errors might happen fast and find a solution to suppress or by-pass them. Let us introduce some tools to deal with them."
      ]
    },
    {
      "cell_type": "code",
      "execution_count": 7,
      "metadata": {
        "id": "Y_1c_O60U_NU",
        "colab": {
          "base_uri": "https://localhost:8080/",
          "height": 34
        },
        "outputId": "a2f4d98b-1a94-4136-c85f-bac4202fbf5f"
      },
      "outputs": [
        {
          "output_type": "display_data",
          "data": {
            "text/html": [
              "3"
            ],
            "text/markdown": "3",
            "text/latex": "3",
            "text/plain": [
              "[1] 3"
            ]
          },
          "metadata": {}
        }
      ],
      "source": [
        "# Say you have written a function like this\n",
        "average <- function(x) {\n",
        "  n <- length(x)\n",
        "  avg <- sum(x) / n\n",
        "  return(avg)\n",
        "}\n",
        "\n",
        "average(1:5)  # Ok"
      ]
    },
    {
      "cell_type": "code",
      "execution_count": 8,
      "metadata": {
        "id": "tOA0KHpk_uCl",
        "colab": {
          "base_uri": "https://localhost:8080/",
          "height": 130
        },
        "outputId": "79e4298f-c46b-43f2-faec-1f78e3e6b2e2"
      },
      "outputs": [
        {
          "output_type": "error",
          "ename": "ERROR",
          "evalue": "ignored",
          "traceback": [
            "Error in sum(x): invalid 'type' (character) of argument\nTraceback:\n",
            "1. average(LETTERS[1:4])"
          ]
        }
      ],
      "source": [
        "average(LETTERS[1:4])  # Error"
      ]
    },
    {
      "cell_type": "code",
      "execution_count": 9,
      "metadata": {
        "id": "sYUvHjVr_s0z",
        "colab": {
          "base_uri": "https://localhost:8080/",
          "height": 34
        },
        "outputId": "59c686ab-a068-4dba-9d41-927b5f3ff9ab"
      },
      "outputs": [
        {
          "output_type": "display_data",
          "data": {
            "text/html": [
              "&lt;NA&gt;"
            ],
            "text/markdown": "&lt;NA&gt;",
            "text/latex": "<NA>",
            "text/plain": [
              "[1] NA"
            ]
          },
          "metadata": {}
        }
      ],
      "source": [
        "average(c(1:5, NA))  # Not an error, but not the output we intended to"
      ]
    },
    {
      "cell_type": "markdown",
      "metadata": {
        "id": "o9cne05z-UnB"
      },
      "source": [
        "Obviously, our `average()` function cannot deal with averaging letters or `NA`s, but our code did not foresee that, which causes a *bug* in the code. In this function the error is obvious, but that is not always the case, that's why the function `debug()` is helpful."
      ]
    },
    {
      "cell_type": "code",
      "execution_count": 10,
      "metadata": {
        "id": "0M7A_Bn0-qI9",
        "colab": {
          "base_uri": "https://localhost:8080/",
          "height": 269
        },
        "outputId": "dd52b41b-8ac6-4125-e663-994ed63991d5"
      },
      "outputs": [
        {
          "output_type": "stream",
          "name": "stdout",
          "text": [
            "debugging in: average(LETTERS[1:4])\n",
            "debug at <text>#2: {\n",
            "    n <- length(x)\n",
            "    avg <- sum(x)/n\n",
            "    return(avg)\n",
            "}\n",
            "debug at <text>#3: n <- length(x)\n",
            "debug at <text>#4: avg <- sum(x)/n\n"
          ]
        },
        {
          "output_type": "error",
          "ename": "ERROR",
          "evalue": "ignored",
          "traceback": [
            "Error in sum(x): invalid 'type' (character) of argument\nTraceback:\n",
            "1. average(LETTERS[1:4])"
          ]
        }
      ],
      "source": [
        "debug(average)\n",
        "average(LETTERS[1:4])  # Error\n",
        "undebug(average)  # Stop debugging"
      ]
    },
    {
      "cell_type": "markdown",
      "metadata": {
        "id": "eL-BMHHZ-upJ"
      },
      "source": [
        "This function runs the code of what you're debugging line by line, and is interactive in RStudio and other IDEs (you can run function code line by line and other operations in the middle of the execution to inspect what is going on). In this case you spot what and where it goes wrong: `Error in sum(x): invalid 'type' (character) of argument`.\n",
        "\n",
        "There are two ways to deal with this kind of errors: one is to fix it using control flows, the second one is to set-up a *controlled* error."
      ]
    },
    {
      "cell_type": "code",
      "execution_count": 13,
      "metadata": {
        "id": "So8SeO8C-HRy",
        "colab": {
          "base_uri": "https://localhost:8080/",
          "height": 34
        },
        "outputId": "d005def4-1596-4f9e-cb2d-dcde238df1dd"
      },
      "outputs": [
        {
          "output_type": "display_data",
          "data": {
            "text/html": [
              "3"
            ],
            "text/markdown": "3",
            "text/latex": "3",
            "text/plain": [
              "[1] 3"
            ]
          },
          "metadata": {}
        }
      ],
      "source": [
        "# Re-write a more solid function (add one argument)\n",
        "average <- function(x, rm.na = TRUE) {  # rm.na = TRUE means \"TRUE\" is the default of this parameter unless specified otherwise\n",
        "  # Deal with averaging non-numeric things: controlled error\n",
        "  if (! is.numeric(x)) {\n",
        "    stop('average cannot be computed because data is not numeric.')  # stops execution and executes an error action\n",
        "  }\n",
        "\n",
        "  # Deal with NAs: either solve by removing them, or controlled \"warning\"\n",
        "  if (any(is.na(x))) {  # Function \"any()\": VERY USEFUL; tells if any element of x satisfies condition inside\n",
        "    warning('\"x\" contains \"NA\" values.')  # \"warning\" gives a heads up of something potentially problematic while allowing the code to continue\n",
        "    if (rm.na == TRUE) {\n",
        "      x <- x[which(! is.na(x))]\n",
        "    }\n",
        "  }\n",
        "\n",
        "  # Computation\n",
        "  n <- length(x)\n",
        "  avg <- sum(x) / n\n",
        "  return(avg)\n",
        "}\n",
        "\n",
        "# Try again\n",
        "average(1:5)  # Changes nothin when there is no problem"
      ]
    },
    {
      "cell_type": "markdown",
      "metadata": {
        "id": "sUpL5-lfDjPg"
      },
      "source": [
        "*Note:* similarly to `any(<logical_condition>)`, there is the function `all(<logical_condition>)`, testing that the conditions holds for all the elements (instead of *at least one*). These two functions are really helfpul to avoid potentially heavy loops."
      ]
    },
    {
      "cell_type": "code",
      "execution_count": 14,
      "metadata": {
        "id": "gfvmfgbAB66d",
        "colab": {
          "base_uri": "https://localhost:8080/",
          "height": 148
        },
        "outputId": "73a915f7-fe34-4088-d9a2-ed44b7e0a224"
      },
      "outputs": [
        {
          "output_type": "error",
          "ename": "ERROR",
          "evalue": "ignored",
          "traceback": [
            "Error in average(LETTERS[1:5]): average cannot be computed because data is not numeric.\nTraceback:\n",
            "1. average(LETTERS[1:5])",
            "2. stop(\"average cannot be computed because data is not numeric.\")   # at line 5 of file <text>"
          ]
        }
      ],
      "source": [
        "average(LETTERS[1:5])  # Now the controlled error pops up (good)"
      ]
    },
    {
      "cell_type": "code",
      "execution_count": 15,
      "metadata": {
        "id": "ZinhS9MRCFY-",
        "colab": {
          "base_uri": "https://localhost:8080/",
          "height": 69
        },
        "outputId": "064936f5-e294-4336-fe5c-ccd2dbc6bf3f"
      },
      "outputs": [
        {
          "output_type": "stream",
          "name": "stderr",
          "text": [
            "Warning message in average(c(1:5, NA)):\n",
            "“\"x\" contains \"NA\" values.”\n"
          ]
        },
        {
          "output_type": "display_data",
          "data": {
            "text/html": [
              "3"
            ],
            "text/markdown": "3",
            "text/latex": "3",
            "text/plain": [
              "[1] 3"
            ]
          },
          "metadata": {}
        }
      ],
      "source": [
        "average(c(1:5, NA))  # Does the computation but it warns you that something is irregular"
      ]
    },
    {
      "cell_type": "markdown",
      "metadata": {
        "id": "FT9bQSvsARR0"
      },
      "source": [
        "You can also use the `try()` function that will allow for the error to run but proceed with the posterior code regardless."
      ]
    },
    {
      "cell_type": "code",
      "execution_count": 16,
      "metadata": {
        "id": "qkFGxU36CkHZ",
        "colab": {
          "base_uri": "https://localhost:8080/"
        },
        "outputId": "f9e6e60e-37e3-46cf-d18f-612ce991a2aa"
      },
      "outputs": [
        {
          "output_type": "stream",
          "name": "stdout",
          "text": [
            "Error in average(LETTERS[1:5]) : \n",
            "  average cannot be computed because data is not numeric.\n",
            "* RESULT: The average could not be computed.\n",
            "* RESULT: The average is: 3 .\n"
          ]
        }
      ],
      "source": [
        "att1 <- try(average(LETTERS[1:5]))  # Put the commend inside the \"try()\" function\n",
        "if (class(att1) == 'try-error') {  # if try() \"fails\", the object returned is of this class\n",
        "  cat('* RESULT: The average could not be computed.\\n')\n",
        "} else {  # if it doesn't fail, then the result is as if \"try()\" had not been executed\n",
        "  cat('* RESULT: The average is:', att1, '.\\n')\n",
        "}\n",
        "\n",
        "att2 <- try(average(1:5))\n",
        "if (class(att2) == 'try-error') {\n",
        "  cat('* RESULT: The average could not be computed.\\n')\n",
        "} else {\n",
        "  cat('* RESULT: The average is:', att2, '.\\n')\n",
        "}\n",
        "\n",
        "# try() is verbose by default but it can be made silent if you don't want the error to be printed (check arguments)"
      ]
    },
    {
      "cell_type": "markdown",
      "metadata": {
        "id": "z0_5bRNjl3-I"
      },
      "source": [
        "---\n",
        "## 8. Stats and math"
      ]
    },
    {
      "cell_type": "markdown",
      "metadata": {
        "id": "7jEV2OIO_b96"
      },
      "source": [
        "### 8.1 Basic functions\n",
        "\n",
        "One of `R`'s strengths is large amount of statistical methods implemented, either natively or within packages. Here we provide the very basics to get you started, and introducte some of the functions that are bread and butter for statistical and mathematical programmers."
      ]
    },
    {
      "cell_type": "markdown",
      "source": [
        "Basic mathematical functions (operators aside)"
      ],
      "metadata": {
        "id": "ScsShcaNc59N"
      }
    },
    {
      "cell_type": "code",
      "execution_count": null,
      "metadata": {
        "id": "y0gOQyNY-tDz"
      },
      "outputs": [],
      "source": [
        "abs(-3)\n",
        "sign(c(-4, 0, 7))\n",
        "exp(3)\n",
        "log(100); log10(100); log2(64)  # Note you can separate commands with \";\"\n",
        "sqrt(25)\n",
        "sin(1); cos(1); tan(1)\n",
        "choose(5, 3)  # Combinatorial number (n choose k)\n",
        "factorial(5)  # Factorial number: x!\n",
        "combn(1:4, 2)  # Provides all combinations of \"2\" elements in the set 1:4"
      ]
    },
    {
      "cell_type": "markdown",
      "source": [
        "Basic statistical summaries"
      ],
      "metadata": {
        "id": "mRq88b1Wc9At"
      }
    },
    {
      "cell_type": "code",
      "execution_count": null,
      "metadata": {
        "id": "gQClAq1kiGgX"
      },
      "outputs": [],
      "source": [
        "x <- seq(-3, 3, 1)\n",
        "y <- seq(-6, 6, 2)\n",
        "max(x)  # Cumulative maximum: cummax(x)\n",
        "min(x)  # cummin(x)\n",
        "sum(x)  # cumsum(x)\n",
        "prod(x)  # cumprod(x)\n",
        "diff(x)  # With respect to previous value in the vector\n",
        "table(x)  # Abs. Frequencies\n",
        "table(x, y)  # Contingency table\n",
        "quantile(1:200, probs = c(0.1, 0.5, 0.9))\n",
        "range(x)\n",
        "rank(x)"
      ]
    },
    {
      "cell_type": "markdown",
      "source": [
        "More descriptive statistics"
      ],
      "metadata": {
        "id": "nNnCaqtXdB3E"
      }
    },
    {
      "cell_type": "code",
      "execution_count": null,
      "metadata": {
        "id": "qi9CeRxFiJeB"
      },
      "outputs": [],
      "source": [
        "mean(x)\n",
        "median(x)\n",
        "cor(x, y)\n",
        "cov(x, y)\n",
        "sd(x)\n",
        "var(x)"
      ]
    },
    {
      "cell_type": "markdown",
      "metadata": {
        "id": "VT5bK4wkPN63"
      },
      "source": [
        "Here are some useful matrix algebra functions (to use on `matrix`-type objects):\n",
        "\n",
        "*   `t` (matrix transpose), `diag` (matrix diagonal)\n",
        "*   `crossprod`, `tcrossprod`, `outer` (cross-, transpose-cross- and outer-products)\n",
        "*   `eigen`, `qr`, `svd` (eigen, QR and SVD decompositions)\n",
        "*   `rcond` (condition number)\n",
        "*   `solve` (matrix inverse, or systems of equations)"
      ]
    },
    {
      "cell_type": "markdown",
      "metadata": {
        "id": "xE3ng5mIWJJm"
      },
      "source": [
        "### 8.2 Statistical distributions (characterisation and simulation)\n",
        "\n",
        "You can find PDFs and CDFs for a wide variety of parametric distributions, as well as easily get random samples from them. Here are some basics to simulate things in `R`:"
      ]
    },
    {
      "cell_type": "code",
      "execution_count": null,
      "metadata": {
        "id": "eVM2wXZRPmTs"
      },
      "outputs": [],
      "source": [
        "set.seed(666)\n",
        "sample(1:10, 1)  # Most basic simulation function: sample 1 element out of 1:10\n",
        "sample(1:5, 3, replace = TRUE)  # Replace TRUE puts the sampled values back in the pool\n",
        "sample(1:5, 3, replace = FALSE)  # Once a value is drawn, it cannot be drawn again"
      ]
    },
    {
      "cell_type": "markdown",
      "metadata": {
        "id": "1c0C18HKNV-h"
      },
      "source": [
        "There are four key letters to deal with a given available parametric distribution:\n",
        "\n",
        "*   `d`: provides the *density* (PDF) of the distribution at the supplied value \n",
        "*   `p`: provides the *cumulative probability* (CDF) up to the supplied value\n",
        "*   `q`: provides the *quantile* of the distribution for a given probability\n",
        "*   `r`: provides a *random* sample of the supplied size for the specified distribution\n",
        "\n",
        "We illustrate this with the Normal distribution:"
      ]
    },
    {
      "cell_type": "code",
      "execution_count": null,
      "metadata": {
        "id": "5cmvsYhQQiWI"
      },
      "outputs": [],
      "source": [
        "x <- 1  # Any value on the real line\n",
        "a <- 0.6  # Any value between 0 and 1\n",
        "n <- 1e3  # Any integer (note the scientific notation: 10^3 = 1,000)\n",
        "\n",
        "dnorm(x, mean = 0, sd = 1)  # PDF of the Normal at x = 1 (density)\n",
        "pnorm(x, mean = 0, sd = 1)  # CDF of the Normal: returns P(X < 1)\n",
        "qnorm(a, mean = 0, sd = 1)  # Quantile: returns x such that P(X < x) = 0.6\n",
        "pnorm(x, mean = 0, sd = 1, lower.tail = FALSE)  # Upper-tail CDF of the Normal: returns P(X > 1)\n",
        "qnorm(a, mean = 0, sd = 1, lower.tail = FALSE)  # Quantile, but opposite tail P(X > x) = 0.6, i.e. P(X < x) = 1 - 0.6\n",
        "head(rnorm(n, mean = 0, sd = 1))  # Here we ask for 1,000 random draws of a N(0, 1): note we require a different parameter!"
      ]
    },
    {
      "cell_type": "markdown",
      "metadata": {
        "id": "MVqiQwYEQjAf"
      },
      "source": [
        "\n",
        "Every distribution will have its set of parameters: the Normal here has `mean` and `sd`, which you can specify to whatever values you need, and if not specificied are taken to be `mean = 0`, and `sd = 1` (the standard Normal). But for example the `chisq` ($χ_{\\nu}^{2}$) requires the parameter `df` (degrees of freedom, $\\nu$), with no default, or the binomial needs to be supplied `size` ($p$) and `prob` ($k$). \n",
        "\n",
        "Here I list the most common distributions available and their command name: `beta`, `binom`, `cauchy`, `chisq`, `exp`, `f`, `gamma`, `geom`, `hyper`, `lnorm` (log-normal), `logis`, `multinom`, `nbinom` (negative binomial), `norm`, `pois`, `t`, `unif`, `weibull`, `wilcox`, `birthday`, `tukey`. There are also functions to simulate from multivariate distributions, but they typically come from external packages (for example, the Normal distribution is in the CRAN package `mvnorm`). Look them up!\n",
        "\n",
        "There are also various statistical tests that are readily available, even a summary is beyond the scope of this intro course. This set of tests is close to uncountable, so as a basic rule, if you look for \"R [name of the test]\" in your favourite search engine, you will most likely find what command you need quickly, for example you can do an ANOVA test with the command `anova`."
      ]
    },
    {
      "cell_type": "markdown",
      "metadata": {
        "id": "lJ2QZn5OH4Vn"
      },
      "source": [
        "### 8.3 Statistical models\n",
        "\n",
        "As a final note, `R` is equipped with numerous statistical models, here we show how to run a linear regression."
      ]
    },
    {
      "cell_type": "code",
      "execution_count": null,
      "metadata": {
        "id": "n8jQfu4YWt_O"
      },
      "outputs": [],
      "source": [
        "# Draw some data\n",
        "set.seed(666)\n",
        "n <- 100  # rows\n",
        "p <- 50  # columns\n",
        "X <- matrix(rnorm(n * p), nrow = n, ncol = p)  # Regression matrix\n",
        "b <- c(1, 1, 1/2, 1/2, rep(0, p - 4))  # Regression coefficients\n",
        "y <- X %*% b + rnorm(n)  # Model: y = X * b + epsilon, epsilon is N(0, 1)\n",
        "df <- cbind.data.frame(y, X)  # Put all the data into one data.frame\n",
        "colnames(df) <- c('y', paste('var', 1:p, sep = ''))  # Column names\n",
        "\n",
        "# Linear regression\n",
        "model <- lm(y ~ var1 + var2, data = df)  # \"lm\" is linear model: you declare a \"formula\" with the \"~\" symbol,\n",
        "                                         # and add variables (names) with \"+\"\n",
        "model <- lm(y ~ ., data = df)  # The dot tells it to add all variables"
      ]
    },
    {
      "cell_type": "markdown",
      "source": [
        "Some useful diagnostics"
      ],
      "metadata": {
        "id": "d5mC2AUacwyd"
      }
    },
    {
      "cell_type": "code",
      "execution_count": null,
      "metadata": {
        "id": "xGHgqgApkF7M"
      },
      "outputs": [],
      "source": [
        "# These following functions are generic: they work for most models in R!\n",
        "summary(model)  # This gives you the classical table with the results\n",
        "head(coef(model))  # Estimated coefficients (beta hat)\n",
        "head(confint(model))  # Confidence intervals for the coefficients (you can change significance)\n",
        "head(fitted(model))  # Fitted values - regression line\n",
        "head(resid(model))  # Model residuals"
      ]
    },
    {
      "cell_type": "markdown",
      "source": [
        "Prediction"
      ],
      "metadata": {
        "id": "JOMQxR8-c08F"
      }
    },
    {
      "cell_type": "code",
      "source": [
        "# We create five new observations and use the estimated model to predict\n",
        "new.df <- matrix(rnorm(5 * p), nrow = 5, ncol = p) # \"predict\" function requires a data.frame\n",
        "colnames(new.df) <- colnames(df)[-1]  # Needs to be in the same format\n",
        "predict(model, newdata = as.data.frame(new.df))  # Prediction for a new observation with covariates rnorm(n)"
      ],
      "metadata": {
        "id": "ZNfHdV5qc16O"
      },
      "execution_count": null,
      "outputs": []
    },
    {
      "cell_type": "markdown",
      "metadata": {
        "id": "aKu7MBrVWvb1"
      },
      "source": [
        " If your outcome is binary, for example, use `glm(..., link = 'binomial')` instead as the modelling function (the rest stays the same). Many models are natively built into `R`, but many others are not. This is where packages kick in: if you're trying to estimate a model that is not built-in, most likely it has been used before and someone has written a package on it. Use the search engine rule again and you may find a solution!"
      ]
    },
    {
      "cell_type": "markdown",
      "metadata": {
        "id": "NNC3hZuvBLmZ"
      },
      "source": [
        "---\n",
        "## 9. String manipulation\n",
        "\n",
        "Sometimes instead of numbers you may need to work with text data. We present some functions to manipulate text data (strings) easily."
      ]
    },
    {
      "cell_type": "markdown",
      "source": [
        "Length, splitting and pasting"
      ],
      "metadata": {
        "id": "AF4WZ3VTe2yE"
      }
    },
    {
      "cell_type": "code",
      "execution_count": 18,
      "metadata": {
        "id": "KCNzmzWtkz6M",
        "colab": {
          "base_uri": "https://localhost:8080/",
          "height": 86
        },
        "outputId": "c1a18446-d385-4cc0-ad7b-0862c9d63eb3"
      },
      "outputs": [
        {
          "output_type": "display_data",
          "data": {
            "text/html": [
              "24"
            ],
            "text/markdown": "24",
            "text/latex": "24",
            "text/plain": [
              "[1] 24"
            ]
          },
          "metadata": {}
        },
        {
          "output_type": "stream",
          "name": "stdout",
          "text": [
            "[1] \"abcd\"  \"dcba\"  \"efg\"   \"1xyz\"  \"mnop0\"\n"
          ]
        },
        {
          "output_type": "display_data",
          "data": {
            "text/html": [
              "'abcd_dcba'"
            ],
            "text/markdown": "'abcd_dcba'",
            "text/latex": "'abcd\\_dcba'",
            "text/plain": [
              "[1] \"abcd_dcba\""
            ]
          },
          "metadata": {}
        },
        {
          "output_type": "display_data",
          "data": {
            "text/html": [
              "'abcd+dcba+efg+1xyz+mnop0'"
            ],
            "text/markdown": "'abcd+dcba+efg+1xyz+mnop0'",
            "text/latex": "'abcd+dcba+efg+1xyz+mnop0'",
            "text/plain": [
              "[1] \"abcd+dcba+efg+1xyz+mnop0\""
            ]
          },
          "metadata": {}
        }
      ],
      "source": [
        "raw.text <- 'abcd dcba efg 1xyz mnop0'  # Say you have some raw text\n",
        "\n",
        "# Number of characters in a string\n",
        "nchar(raw.text)\n",
        "\n",
        "# Splitting\n",
        "data <- strsplit(raw.text, ' ')  # You can split it into several elements (cut by \" \")\n",
        "data <- unlist(data)  # \"strsplit\" returns a list\n",
        "print(data)\n",
        "\n",
        "# Paste elements\n",
        "paste(data[1], data[2], sep = '_')  # Paste two elements with separator\n",
        "paste(data, collapse = '+')  # Paste all elements with collapsing character"
      ]
    },
    {
      "cell_type": "markdown",
      "source": [
        "Some typography"
      ],
      "metadata": {
        "id": "gsvU-3DDfJjT"
      }
    },
    {
      "cell_type": "code",
      "execution_count": 17,
      "metadata": {
        "id": "q4mhyhCn6w3S",
        "colab": {
          "base_uri": "https://localhost:8080/",
          "height": 139
        },
        "outputId": "bf14fb26-e3ed-4d59-d86c-7063b30492bd"
      },
      "outputs": [
        {
          "output_type": "display_data",
          "data": {
            "text/html": [
              "<style>\n",
              ".list-inline {list-style: none; margin:0; padding: 0}\n",
              ".list-inline>li {display: inline-block}\n",
              ".list-inline>li:not(:last-child)::after {content: \"\\00b7\"; padding: 0 .5ex}\n",
              "</style>\n",
              "<ol class=list-inline><li>'A'</li><li>'B'</li><li>'C'</li><li>'D'</li><li>'E'</li><li>'F'</li></ol>\n"
            ],
            "text/markdown": "1. 'A'\n2. 'B'\n3. 'C'\n4. 'D'\n5. 'E'\n6. 'F'\n\n\n",
            "text/latex": "\\begin{enumerate*}\n\\item 'A'\n\\item 'B'\n\\item 'C'\n\\item 'D'\n\\item 'E'\n\\item 'F'\n\\end{enumerate*}\n",
            "text/plain": [
              "[1] \"A\" \"B\" \"C\" \"D\" \"E\" \"F\""
            ]
          },
          "metadata": {}
        },
        {
          "output_type": "display_data",
          "data": {
            "text/html": [
              "<style>\n",
              ".list-inline {list-style: none; margin:0; padding: 0}\n",
              ".list-inline>li {display: inline-block}\n",
              ".list-inline>li:not(:last-child)::after {content: \"\\00b7\"; padding: 0 .5ex}\n",
              "</style>\n",
              "<ol class=list-inline><li>'a'</li><li>'b'</li><li>'c'</li><li>'d'</li><li>'e'</li><li>'f'</li></ol>\n"
            ],
            "text/markdown": "1. 'a'\n2. 'b'\n3. 'c'\n4. 'd'\n5. 'e'\n6. 'f'\n\n\n",
            "text/latex": "\\begin{enumerate*}\n\\item 'a'\n\\item 'b'\n\\item 'c'\n\\item 'd'\n\\item 'e'\n\\item 'f'\n\\end{enumerate*}\n",
            "text/plain": [
              "[1] \"a\" \"b\" \"c\" \"d\" \"e\" \"f\""
            ]
          },
          "metadata": {}
        },
        {
          "output_type": "display_data",
          "data": {
            "text/html": [
              "<style>\n",
              ".list-inline {list-style: none; margin:0; padding: 0}\n",
              ".list-inline>li {display: inline-block}\n",
              ".list-inline>li:not(:last-child)::after {content: \"\\00b7\"; padding: 0 .5ex}\n",
              "</style>\n",
              "<ol class=list-inline><li>'A'</li><li>'B'</li><li>'C'</li><li>'D'</li></ol>\n"
            ],
            "text/markdown": "1. 'A'\n2. 'B'\n3. 'C'\n4. 'D'\n\n\n",
            "text/latex": "\\begin{enumerate*}\n\\item 'A'\n\\item 'B'\n\\item 'C'\n\\item 'D'\n\\end{enumerate*}\n",
            "text/plain": [
              "[1] \"A\" \"B\" \"C\" \"D\""
            ]
          },
          "metadata": {}
        },
        {
          "output_type": "display_data",
          "data": {
            "text/html": [
              "'µ'"
            ],
            "text/markdown": "'µ'",
            "text/latex": "'µ'",
            "text/plain": [
              "[1] \"µ\""
            ]
          },
          "metadata": {}
        },
        {
          "output_type": "display_data",
          "data": {
            "text/html": [
              "'caps are yelling in writing'"
            ],
            "text/markdown": "'caps are yelling in writing'",
            "text/latex": "'caps are yelling in writing'",
            "text/plain": [
              "[1] \"caps are yelling in writing\""
            ]
          },
          "metadata": {}
        },
        {
          "output_type": "display_data",
          "data": {
            "text/html": [
              "'BUT SOMETIMES IT IS NECESSARY'"
            ],
            "text/markdown": "'BUT SOMETIMES IT IS NECESSARY'",
            "text/latex": "'BUT SOMETIMES IT IS NECESSARY'",
            "text/plain": [
              "[1] \"BUT SOMETIMES IT IS NECESSARY\""
            ]
          },
          "metadata": {}
        },
        {
          "output_type": "display_data",
          "data": {
            "text/html": [
              "'this string is too long.'"
            ],
            "text/markdown": "'this string is too long.'",
            "text/latex": "'this string is too long.'",
            "text/plain": [
              "[1] \"this string is too long.\""
            ]
          },
          "metadata": {}
        }
      ],
      "source": [
        "# Set of letters\n",
        "head(LETTERS)  # Uppercase\n",
        "head(letters)  # Lowercase\n",
        "LETTERS[1:4]  # A, B, C, D (can be subsetted like any other object)\n",
        "\"\\u00b5\"  # Some non-roman characters are encoded: this prints the greek letter \"mu\" (unicode)\n",
        "\n",
        "# Transform to upper- or lower-case\n",
        "tolower('CAPS ARE YELLING IN WRITING')\n",
        "toupper('but sometimes it is necessary')\n",
        "\n",
        "# Suppress white spaces from start or finish of a string\n",
        "trimws('   this string is too long.   ')"
      ]
    },
    {
      "cell_type": "code",
      "execution_count": 19,
      "metadata": {
        "id": "NnIqTXOViaax",
        "colab": {
          "base_uri": "https://localhost:8080/",
          "height": 208
        },
        "outputId": "f4ebe2f0-dce1-4088-82d7-e4d6ec45f329"
      },
      "outputs": [
        {
          "output_type": "display_data",
          "data": {
            "text/html": [
              "1"
            ],
            "text/markdown": "1",
            "text/latex": "1",
            "text/plain": [
              "[1] 1"
            ]
          },
          "metadata": {}
        },
        {
          "output_type": "display_data",
          "data": {
            "text/html": [
              "<style>\n",
              ".list-inline {list-style: none; margin:0; padding: 0}\n",
              ".list-inline>li {display: inline-block}\n",
              ".list-inline>li:not(:last-child)::after {content: \"\\00b7\"; padding: 0 .5ex}\n",
              "</style>\n",
              "<ol class=list-inline><li>TRUE</li><li>TRUE</li><li>FALSE</li><li>FALSE</li><li>FALSE</li></ol>\n"
            ],
            "text/markdown": "1. TRUE\n2. TRUE\n3. FALSE\n4. FALSE\n5. FALSE\n\n\n",
            "text/latex": "\\begin{enumerate*}\n\\item TRUE\n\\item TRUE\n\\item FALSE\n\\item FALSE\n\\item FALSE\n\\end{enumerate*}\n",
            "text/plain": [
              "[1]  TRUE  TRUE FALSE FALSE FALSE"
            ]
          },
          "metadata": {}
        },
        {
          "output_type": "display_data",
          "data": {
            "text/html": [
              "1"
            ],
            "text/markdown": "1",
            "text/latex": "1",
            "text/plain": [
              "[1] 1"
            ]
          },
          "metadata": {}
        },
        {
          "output_type": "display_data",
          "data": {
            "text/html": [
              "<style>\n",
              ".list-inline {list-style: none; margin:0; padding: 0}\n",
              ".list-inline>li {display: inline-block}\n",
              ".list-inline>li:not(:last-child)::after {content: \"\\00b7\"; padding: 0 .5ex}\n",
              "</style>\n",
              "<ol class=list-inline><li>'ab'</li><li>'dc'</li><li>'ef'</li><li>'1x'</li><li>'mn'</li></ol>\n"
            ],
            "text/markdown": "1. 'ab'\n2. 'dc'\n3. 'ef'\n4. '1x'\n5. 'mn'\n\n\n",
            "text/latex": "\\begin{enumerate*}\n\\item 'ab'\n\\item 'dc'\n\\item 'ef'\n\\item '1x'\n\\item 'mn'\n\\end{enumerate*}\n",
            "text/plain": [
              "[1] \"ab\" \"dc\" \"ef\" \"1x\" \"mn\""
            ]
          },
          "metadata": {}
        },
        {
          "output_type": "display_data",
          "data": {
            "text/html": [
              "'ABcd'"
            ],
            "text/markdown": "'ABcd'",
            "text/latex": "'ABcd'",
            "text/plain": [
              "[1] \"ABcd\""
            ]
          },
          "metadata": {}
        },
        {
          "output_type": "stream",
          "name": "stdout",
          "text": [
            "1 \n",
            "2 \n",
            "3 \n",
            "4 \n",
            "5 \n",
            " 5"
          ]
        }
      ],
      "source": [
        "# Identify elements with certain patterns\n",
        "grep('bc', data)  # Returns indices of elements containing \"bc\"\n",
        "grepl('a', data)  # Returns logical instead of indices\n",
        "agrep('bco', data)  # \"Approx.\" grep, grep with partial matching, looks for elements \"close\" to matching pattern ('bco' is nowhere but I get 1)\n",
        "\n",
        "# Subtract characters in a specific position\n",
        "substr(data, 1, 2)  # Get characters from 1 to 2 (of each element)\n",
        "\n",
        "# You can also replace parts of the string with something else\n",
        "gsub('ab', 'AB', data[1])  # Careful with order of arguments\n",
        "\n",
        "# Line change\n",
        "for (i in 1:5) cat(i, '\\n')  # Print \"i\" and write next in a new line"
      ]
    },
    {
      "cell_type": "markdown",
      "metadata": {
        "id": "eGxC_iYc1Ijy"
      },
      "source": [
        "With respect to text display on the console, there are three (plus bonus) common ways of printing:\n",
        "\n",
        "*   `print()`: works with anything but output is less \"pretty\"/readable\n",
        "*   `cat()`: easier to manipulate (works like `paste()`) but only works on atomic types (logical, integer, real, character...) and names\n",
        "*   `message()`: mostly used inside functions to display text on events occuring in your code\n",
        "*   `sink()`: this allows you to write output on an external file. Basically, write `sink([file_name].txt)`, and then whatever is printed after that (with `print`/`cat`) will be written on `[file_name].txt`. To stop the connection, write `sink()` again (no arguments) and the display is back to the command line."
      ]
    },
    {
      "cell_type": "code",
      "source": [
        "sink('testing_sink.txt')\n",
        "print('testing the sink function!')\n",
        "sink()\n",
        "# Due to specificities in printing in Colab, the output file is blank. It works perfectly in RStudio"
      ],
      "metadata": {
        "colab": {
          "base_uri": "https://localhost:8080/"
        },
        "id": "9HSm6343gHvM",
        "outputId": "f9bd7ba1-cb43-4040-9a20-ea496876c00d"
      },
      "execution_count": 24,
      "outputs": [
        {
          "output_type": "stream",
          "name": "stdout",
          "text": [
            "[1] \"testing the sink function!\"\n"
          ]
        }
      ]
    },
    {
      "cell_type": "markdown",
      "metadata": {
        "id": "79s6-z85t8_8"
      },
      "source": [
        "Finally, the operations on text above may be applied to strings that are not \"exact\", i.e. imagine that instead of finding the character \"1\", you want to find \"a number\", or \"that starts with A\". Then you use *regular expressions*. Luckily, the rules in `R` for regular expressions are the standard for any language."
      ]
    },
    {
      "cell_type": "code",
      "execution_count": null,
      "metadata": {
        "id": "tO1Pg_6ct-q3"
      },
      "outputs": [],
      "source": [
        "data <- c('abcd', 'dcba', 'efg', '1xyz', 'mnop0')\n",
        "\n",
        "# Find the strings that...\n",
        "grep('^a', data)  # start with \"a\"\n",
        "grep('a$', data)  # end with \"a\"\n",
        "grep('[am]', data)  # have any of the characters \"a\", \"m\"\n",
        "grep('[ab|fg]', data)  # have either the characters \"ab\" or \"fg\"\n",
        "grep('[a-c]', data)  # have a character in the range \"a\"-\"c\"\n",
        "grep('[:digit:]', data)  # have a digit\n",
        "grep('a[?=b]', data)  # have \"a\" followed by \"b\"\n",
        "# ..."
      ]
    },
    {
      "cell_type": "markdown",
      "metadata": {
        "id": "mBYpaAsSyNZZ"
      },
      "source": [
        "Regular expressions are a **very** rich language, you can virtually find one for anything you can think of, and they are generic. Here is a link to a cheat sheet that contains a very complete summary of the expressions you can apply:\n",
        "*   https://evoldyn.gitlab.io/evomics-2018/ref-sheets/R_strings.pdf\n"
      ]
    },
    {
      "cell_type": "markdown",
      "metadata": {
        "id": "brHgz2tosvFz"
      },
      "source": [
        "Finally, it is worth mentioning that simple text in `R` revolves around standard roman letters, anything else needs to be *encoded* carefully: letters with accents (`è`, `ã`,  `ö`, `ê`, ...) and other special characters that need to be processed adequately. I don't recommend using them unless strictly necessary. For example, a natural text in Catalan contains certain characters (accents, or letters like `ç`), and may need to be converted prior to everything, else it may cause errors. There is a very helpful function that translates encodings from one to the other.\n",
        "\n"
      ]
    },
    {
      "cell_type": "code",
      "execution_count": 25,
      "metadata": {
        "id": "-wVAJfll1QSB",
        "colab": {
          "base_uri": "https://localhost:8080/",
          "height": 69
        },
        "outputId": "6727e0aa-faf9-475b-d9c8-2341cc87616e"
      },
      "outputs": [
        {
          "output_type": "display_data",
          "data": {
            "text/html": [
              "'UTF-8'"
            ],
            "text/markdown": "'UTF-8'",
            "text/latex": "'UTF-8'",
            "text/plain": [
              "[1] \"UTF-8\""
            ]
          },
          "metadata": {}
        },
        {
          "output_type": "stream",
          "name": "stdout",
          "text": [
            "[1] \"El pingüí està glaçat però a ell li fa il·lusió passar fred.\"\n",
            "[1] \"El pingui esta glacat pero a ell li fa il.lusio passar fred.\"\n"
          ]
        }
      ],
      "source": [
        "txt <- \"El pingüí està glaçat però a ell li fa il·lusió passar fred.\"\n",
        "Encoding(txt)  # UTF-8\n",
        "\n",
        "# Strip down to simple roman characters\n",
        "new.txt <- iconv(txt, from = 'UTF-8', to = 'ASCII//TRANSLIT')\n",
        "print(txt)\n",
        "print(new.txt)  # Converts to full-roman simple characters"
      ]
    },
    {
      "cell_type": "markdown",
      "metadata": {
        "id": "SjgZq0Yj3DIP"
      },
      "source": [
        "For more advanced things, a nice package to deal with strings in `R` is `stringr`, check it out."
      ]
    },
    {
      "cell_type": "markdown",
      "metadata": {
        "id": "TTAdo_uDBPk3"
      },
      "source": [
        "---\n",
        "## 10. Basic data visualization"
      ]
    },
    {
      "cell_type": "markdown",
      "metadata": {
        "id": "xbps2NIweIT-"
      },
      "source": [
        "Beyond numerical summaries, charts and graphs are often fundamental to communicate and understand the information contained in your data. `R` offers an extremely flexible framework to produce high quality plots, which sometimes requires a bit of practice. Let us cover some basic static plots, and the essential tools to build some of your own.\n",
        "\n",
        "Some basic built-in charts:"
      ]
    },
    {
      "cell_type": "code",
      "execution_count": null,
      "metadata": {
        "id": "R8wPDD3HfZcv"
      },
      "outputs": [],
      "source": [
        "set.seed(666)\n",
        "x <- rnorm(1e3, mean = 1, sd = 2)\n",
        "y <- rnorm(1e3, mean = -1, sd = 0.5)\n",
        "z <- sample(LETTERS[1:4], 1e3, replace = TRUE)\n",
        "\n",
        "# Boxplot (look at the set of arguments)\n",
        "boxplot(x)\n",
        "boxplot(x, y)  # Joint plot\n",
        "\n",
        "# Histogram\n",
        "hist(x)\n",
        "hist(y, breaks = 50)  # Number of columns\n",
        "\n",
        "# Barplot (categorical variable)\n",
        "barplot(table(z))"
      ]
    },
    {
      "cell_type": "markdown",
      "metadata": {
        "id": "KWzlrkrZiLV-"
      },
      "source": [
        "However, the generic function to generate static charts in `R` is `plot()`. The functions we just used have `plot()` underlying their structure, and use the same parameters. This function allows for a large number of arguments that allow to fully customize it to what you might need."
      ]
    },
    {
      "cell_type": "code",
      "execution_count": null,
      "metadata": {
        "id": "rP0V0w83ioOZ"
      },
      "outputs": [],
      "source": [
        "plot(x, y, col = 'black', pch = 16,  # \"pch\" is a parameter determining the shape of the dot\n",
        "  xlab = 'Name of the x-axis',\n",
        "  ylab = 'Name of the y-axis',\n",
        "  main = 'This is a scatter plot')"
      ]
    },
    {
      "cell_type": "markdown",
      "metadata": {
        "id": "3g5hQqfbxI0k"
      },
      "source": [
        "One key-parameter is `type`, which determines the nature of the plot. By default this is of `type = 'p'`, i.e. of points. Set it to `type = 'l'` for a line plot, or, for example, or to `type = 'n'` to just plot the framework. "
      ]
    },
    {
      "cell_type": "code",
      "execution_count": null,
      "metadata": {
        "id": "XWXUYQwuxEpx"
      },
      "outputs": [],
      "source": [
        "# Line plots\n",
        "plot(sort(x), cumsum(sort(x)), type = 'l',\n",
        "  xlab = 'Name of the x-axis',\n",
        "  ylab = 'Name of the y-axis')"
      ]
    },
    {
      "cell_type": "markdown",
      "metadata": {
        "id": "ORWfn_SJkV2C"
      },
      "source": [
        "Also note the `col` parameter, which is used to specify the colour. This parameter is quite flexible, many generic colours are available as text (`black`, `blue`, `red`, etc.), but you can also give it integers (default colours), RGB codes and hexadecimal codes. \n",
        "\n",
        "Other very relevant parameters:\n",
        "\n",
        "*  `xlim`: two-position vector to establish limits of the $x$-axis\n",
        "*  `ylim`: same for the $y$-axis\n",
        "*  `xaxt`: boolean to have values on the $x$-axis\n",
        "*  `yaxt`: boolean to have values on the $y$-axis\n",
        "*  `asp`: sets the aspect-ratio of the plot\n",
        "*  `frame.plot`: draw a frame on the edges of the plot\n",
        "*  `log`: to use a logarithmic scale on either axis\n",
        "\n",
        "There are other more general graphical parameters that you can specify as well, such as `col` or `pch`, we highlight the following:\n",
        "\n",
        "*   `bg`: background colours of the plot symbols\n",
        "*   `cex`: size of the plot symbols (by default is 1)\n",
        "*   `col`: for colour, but also if you want to regulate opacity of the symbols, e.g. `col = alpha(cols, 0.5)` gives them an opacity of 50%\n",
        "*   `lty` (for line plots): type of line (solid, dashed, points...)\n",
        "*   `lwd` (for line plots): width of the lines\n",
        "\n",
        "The `plot()` function is the backbone to most static diagrams in `R`. We introduce a few more functions to complement it:"
      ]
    },
    {
      "cell_type": "code",
      "execution_count": null,
      "metadata": {
        "id": "GzAHp6vIYoJ-"
      },
      "outputs": [],
      "source": [
        "# Run again a simple linear model\n",
        "set.seed(666)\n",
        "n <- 100  # rows\n",
        "X <- matrix(rnorm(n), nrow = n, ncol = 1)  # Regression matrix\n",
        "b <- 1  # Regression coefficient\n",
        "y <- X %*% b + rnorm(n)  # Model: y = X * b + epsilon, epsilon is N(0, 1)\n",
        "df <- cbind.data.frame(y, X)  # Put all the data into one data.frame\n",
        "colnames(df) <- c('y', 'x')  # Column names"
      ]
    },
    {
      "cell_type": "code",
      "execution_count": null,
      "metadata": {
        "id": "Z2oCUvGDrcdG"
      },
      "outputs": [],
      "source": [
        "# We will plot the estimated equation\n",
        "plot(df[, 'x'], df[, 'y'],\n",
        "  xlab = 'Explanatory variable',\n",
        "  ylab = 'Response variable',\n",
        "  main = 'Simple linear model',\n",
        "  type = 'n')  # Create only the framework\n",
        "\n",
        "# Filling the plot\n",
        "grid()  # Adds a fine grid\n",
        "neg.x <- which(df[, 'x'] < 0)  # Observations that have negative \"x\"\n",
        "pos.x <- which(df[, 'x'] > 0)  # Observations that have positive \"x\"\n",
        "points(df[neg.x, 'x'], df[neg.x, 'y'], col = 'blue', pch = 16)  # Blue points for negative x's\n",
        "points(df[pos.x, 'x'], df[pos.x, 'y'], col = 'red', pch = 16)  # Red points for negative x's\n",
        "abline(lm(y ~ x, data = df))  # Add line with regression model\n",
        "abline(v = 0, lty = 2)  # Add a line \"vertical\" at 0\n",
        "abline(h = 0, lty = 2)  # Add a line \"horizontal\" at 0\n",
        "text(-2, -5.5, 'here is an extreme value')  # Add text to the plot at given coordinates\n",
        "\n",
        "# Legend\n",
        "legend('topleft', legend = c('positive', 'negative'), col = c('red', 'blue'), pch = 16)  \n",
        "\n",
        "# For a line plot you would need the function \"lines()\" -- works just the same\n",
        "# Try replacing the FALSE with a TRUE to ruin your plot\n",
        "if (FALSE) {\n",
        "  values <- seq(-3, 3, 0.01)\n",
        "  lines(values, sin(values), col = 'orange', lwd = 2)\n",
        "}"
      ]
    },
    {
      "cell_type": "markdown",
      "metadata": {
        "id": "C1_m9oGi1Nk_"
      },
      "source": [
        "**All these functions are super flexible**, I recommend exploring them.\n",
        "\n",
        "Finally, note that you can make multiple plots on the same frame, and that you can store them out as `.png`, `.jpeg`, or `.pdf` (recommended). Here is how:"
      ]
    },
    {
      "cell_type": "code",
      "execution_count": null,
      "metadata": {
        "id": "3uFeD2E92QhN"
      },
      "outputs": [],
      "source": [
        "set.seed(666)\n",
        "x <- rnorm(1e3, mean = 1, sd = 2)\n",
        "y <- rnorm(1e3, mean = -1, sd = 0.5)\n",
        "\n",
        "# Define the external file as at <file_path.ext>\n",
        "#png(<file_path.png>, height = 4, width = 6)  # To save as .png\n",
        "#jpeg(<file_path.jpeg>, height = 4, width = 6)  # To save as .jpeg\n",
        "#pdf(<file_path.pdf>, height = 4, width = 6)  # To save as .pdf\n",
        "par(mfrow = c(1, 2))  # 1 row and two columns of plots\n",
        "plot(density(x), xlim = c(-6, 6), col = 'blue')  # This plots a kernelised density of the sample\n",
        "plot(density(y), xlim = c(-6, 6), col = 'red')\n",
        "#dev.off()  # If you save it externally, run this at the end to close connection!"
      ]
    },
    {
      "cell_type": "markdown",
      "metadata": {
        "id": "ZI0WQtPGBWpr"
      },
      "source": [
        "---\n",
        "## 11. Popular packages\n",
        "\n",
        "Out of all the packages available in `R`, some are used by a wide variety of user's and have transformed them into the gold standard to process some operations. The list of useful packages is endless, so we will just highlight a few of the most popular ones. Feel free, however, to explore the package universe, there is pretty much on for anything you can think of."
      ]
    },
    {
      "cell_type": "markdown",
      "metadata": {
        "id": "KEIVqR6J1mHf"
      },
      "source": [
        "### 11.1 `dplyr`\n",
        "\n",
        "This is a popular package that is designed to clean, process, and manipulate data in a faster and more compact way than the canonical methods we have exposed above. In short, it offers a fast alternative to manage tabular data (`data.frame`) with simpler *grammar* than base `R`. We highlight the main operations that can be done with `dplyr`, and offer the corresponding base method to compare."
      ]
    },
    {
      "cell_type": "code",
      "execution_count": null,
      "metadata": {
        "id": "eenV79MLAPiL"
      },
      "outputs": [],
      "source": [
        "# Load the package\n",
        "library(dplyr)\n",
        "\n",
        "# Dataset: air pollution and temperature data for the city of Chicago (IL)\n",
        "link <- \"https://raw.githubusercontent.com/barcelonagse-datascience/academic_files/master/data/chicago\"\n",
        "chicago <- readRDS(url(link, \"rb\"))  # url() declares the link as an active file\n",
        "\n",
        "# General info\n",
        "dim(chicago)  # 6940x8\n",
        "class(chicago)  # data.frame\n",
        "head(chicago)"
      ]
    },
    {
      "cell_type": "code",
      "execution_count": null,
      "metadata": {
        "id": "B1Q-IYSABXab"
      },
      "outputs": [],
      "source": [
        "# select(): keep sets of columns\n",
        "data <- dplyr::select(chicago, city:dptp)  # Select variables from 'city' to 'dptp'\n",
        "data <- dplyr::select(chicago, -(city:dptp))  # All but this range\n",
        "data <- dplyr::select(chicago, ends_with('2'))  # That the column name ends in '2'\n",
        "data <- dplyr::select(chicago, starts_with('d'))  # That it starts with 'd'\n",
        "\n",
        "# Same thing with base R...\n",
        "if (FALSE) {\n",
        "  data <- chicago[, colnames(chicago) %in% colnames(chicago)[1:3]]\n",
        "  data <- chicago[, ! colnames(chicago) %in% colnames(chicago)[1:3]]  # NOT in\n",
        "  data <- chicago[, grep('2$', colnames(chicago))]\n",
        "  data <- chicago[, grep('^d', colnames(chicago))]\n",
        "}"
      ]
    },
    {
      "cell_type": "code",
      "execution_count": null,
      "metadata": {
        "id": "p6JowYnQDMMI"
      },
      "outputs": [],
      "source": [
        "# filter(): keep sets of observations\n",
        "chic.f <- dplyr::filter(chicago, (pm25tmean2 > 30) & (tmpd > 80))\n",
        "\n",
        "summary(chic.f[, 'pm25tmean2'])\n",
        "summary(chic.f[, 'tmpd'])\n",
        "\n",
        "# Same thing with base R...\n",
        "if (FALSE) {\n",
        "  chic.f <- chicago[which(chicago[, 'pm25tmean2'] > 30 & chicago[, 'tmpd'] > 80), ]\n",
        "}"
      ]
    },
    {
      "cell_type": "code",
      "execution_count": null,
      "metadata": {
        "id": "lzAI09ulE8fj"
      },
      "outputs": [],
      "source": [
        "# arrange(): sort the observations by some criterion\n",
        "chicago <- dplyr::arrange(chicago, date)  # by date (ascending)\n",
        "chicago <- dplyr::arrange(chicago, desc(date))  # descending\n",
        "\n",
        "# Same thing with base R...\n",
        "if (FALSE) {\n",
        "  chicago <- chicago[order(chicago[, 'date'], decreasing = FALSE), ]\n",
        "  chicago <- chicago[order(chicago[, 'date'], decreasing = TRUE), ]\n",
        "}"
      ]
    },
    {
      "cell_type": "code",
      "execution_count": null,
      "metadata": {
        "id": "_2Bar3rAFcke"
      },
      "outputs": [],
      "source": [
        "# rename(): change column names\n",
        "chicago <- dplyr::rename(chicago, dewpoint = dptp, pm25 = pm25tmean2)  # Some names are obscure\n",
        "\n",
        "# Same thing with base R...\n",
        "if (FALSE) {\n",
        "  colnames(chicago)[colnames(chicago) == 'dptp'] <- 'dewpoint'\n",
        "  colnames(chicago)[colnames(chicago) == 'pm25'] <- 'pm25tmean2'\n",
        "}"
      ]
    },
    {
      "cell_type": "code",
      "execution_count": null,
      "metadata": {
        "id": "UmR9W60yGPrq"
      },
      "outputs": [],
      "source": [
        "# mutate(): compute transformations of variables\n",
        "chicago <- dplyr::mutate(chicago, pm25detrend = pm25 - mean(pm25, na.rm = TRUE))\n",
        "\n",
        "# Same thing with base R...\n",
        "# (check also base function: with())\n",
        "if (FALSE) {\n",
        "  chicago[, 'pm25detrend'] <- chicago[, 'pm25'] - mean(chicago[, 'pm25'], na.rm = TRUE)\n",
        "  #chicago[, 'pm25detrend'] <- scale(chicago[, 'pm25'], center = TRUE, scale = FALSE)  # Even simpler\n",
        "}"
      ]
    },
    {
      "cell_type": "code",
      "execution_count": null,
      "metadata": {
        "id": "GUkHBYC3G7qp"
      },
      "outputs": [],
      "source": [
        "# For example, we might want to know what the average annual level of PM2.5 is. \n",
        "# The stratum is the year and that is something we can derive from the date variable.\n",
        "chicago_new <- mutate(chicago, year = as.POSIXlt(date)$year + 1900 )\n",
        "\n",
        "# group_by() and summarize(): generate summary stats based on strata\n",
        "years <- dplyr::group_by(chicago_new, year)\n",
        "summ <- dplyr::summarize(years, yearlypm25 = mean(pm25, na.rm=TRUE),\n",
        "  o3 = max(o3tmean2, na.rm = TRUE), no2 = median(no2tmean2, na.rm = TRUE))\n",
        "tail(summ)\n",
        "\n",
        "# Same thing with base R...\n",
        "if (TRUE) {\n",
        "  summ2 <- cbind(\n",
        "    tapply(chicago_new[, 'pm25'], chicago_new[, 'year'], mean, na.rm = TRUE),\n",
        "    tapply(chicago_new[, 'o3tmean2'], chicago_new[, 'year'], max, na.rm = TRUE),\n",
        "    tapply(chicago_new[, 'no2tmean2'], chicago_new[, 'year'], median, na.rm = TRUE))\n",
        "  tail(summ2)\n",
        "}"
      ]
    },
    {
      "cell_type": "markdown",
      "metadata": {
        "id": "rNc7mBs2RGb5"
      },
      "source": [
        "You can also do the usual `join` operations using\n",
        "\n",
        "*   `inner_join(df1, df2, by = c('<column_name(s)>'))`\n",
        "*   `outer_join(df1, df2, by = c('<column_name(s)>'))`\n",
        "*   `left_join(df1, df2, by = c('<column_name(s)>'))`\n",
        "*   `right_join(df1, df2, by = c('<column_name(s)>'))`\n",
        "\n",
        "Natively this can be done with the `merge()` function we introduced before."
      ]
    },
    {
      "cell_type": "markdown",
      "metadata": {
        "id": "HSsk-WRLS1wy"
      },
      "source": [
        "A final feature of this syntax is the use of the *funny* pipeline operator, `%>%`. This operator enables to concatenate together multiple `dplyr` functions in a sequence."
      ]
    },
    {
      "cell_type": "code",
      "execution_count": null,
      "metadata": {
        "id": "LFxpcjbZTLnV"
      },
      "outputs": [],
      "source": [
        "# Repeat the previous operation by month (with the pipeline)\n",
        "# Structure (L-to-R): result <- first(x) %>% second %>% third\n",
        "summ <- mutate(chicago, month = as.POSIXlt(date)$mon + 1) %>%\n",
        "  group_by(month) %>%\n",
        "  summarize(pm25_max = max(pm25, na.rm = TRUE),\n",
        "    o3_max = max(o3tmean2, na.rm = TRUE),\n",
        "    no2_max = max(no2tmean2, na.rm = TRUE))\n",
        "\n",
        "summ"
      ]
    },
    {
      "cell_type": "markdown",
      "metadata": {
        "id": "1qpHwPbkUU4t"
      },
      "source": [
        "Use responsibly and with caution, this becomes complicated quickly and debugging can turn into a nightmare."
      ]
    },
    {
      "cell_type": "markdown",
      "metadata": {
        "id": "V0a8HxOaDv7W"
      },
      "source": [
        "### 11.2 `data.table`\n",
        "\n",
        "This is an alternative library to `dplyr`, and its main advantage is speed. In particular, when doing merges (joins) and when reading data. For small datasets the difference may not be relevant, but this changes quickly whenever you deal with *large* datasets (+100 Mb). `data.table` provides an enhanced version of `data.frame`'s, and is compatible with most base methods to manage them, although it has expanded `data.table` methods.\n",
        "\n",
        "You can follow the official [*vignette*](https://cran.r-project.org/web/packages/data.table/vignettes/datatable-intro.html) of `data.table` for an introduction. A complete [cheat sheet](https://raw.githubusercontent.com/rstudio/cheatsheets/master/datatable.pdf) is also available online."
      ]
    },
    {
      "cell_type": "markdown",
      "metadata": {
        "id": "bEFpqv-I1uyG"
      },
      "source": [
        "### 11.3 `ggplot2`\n",
        "\n",
        "This is one of the most used and abused libraries in `R`, which is designed to make the plotting part of the work a little bit more simple and short. The fundamental idea is to treat plots as any other object in `R` (in particular a `ggplot` object), and to which you can add *layers*, using the simple `+` operator, to make it more complete. This can become particularly helpful for highly complex plots where there are many layers of information, simplifying the amount of code significantly.\n",
        "\n",
        "A very brief example:"
      ]
    },
    {
      "cell_type": "code",
      "execution_count": null,
      "metadata": {
        "id": "Sfj2vpA0bm5a"
      },
      "outputs": [],
      "source": [
        "# Use the \"mtcars\" built-in data\n",
        "head(mtcars)"
      ]
    },
    {
      "cell_type": "code",
      "execution_count": null,
      "metadata": {
        "id": "pbRRSSajbWXH"
      },
      "outputs": [],
      "source": [
        "# We use now colour and size parameters using other features\n",
        "library(ggplot2)\n",
        "ggplot(data = mtcars, aes(x = hp, y = qsec, size = cyl)) +  # variables \"hp\" on x-axis, \"qsec\" on y-axis, \n",
        "  geom_point(aes(col = factor(am))) +  # Color of the dot (Type of car: automatic or manual)\n",
        "  ggtitle('Scatter plot') + ylab('Acceleration') + xlab('Horse Power') "
      ]
    },
    {
      "cell_type": "markdown",
      "metadata": {
        "id": "rq_yW9HvbTnG"
      },
      "source": [
        "Tutorials and a helpful cheat sheet can be found at the official site of the package:\n",
        "\n",
        "*   https://ggplot2.tidyverse.org/index.html\n",
        "\n",
        "The use of `ggplot` is a matter of personal taste and its results are more of an aesthetic nature, since the appearence of a plot is highly malleable with \"little\" work on the coder's end. Personally, if I have to escape from base `R` plotting, I've felt more inclined to use the [`plotly` package](https://plotly.com/r/) in the past, which is a cross-platform graphic interface that can deal with complex and interactive plotting needs, but they are both quite similar in spirit."
      ]
    },
    {
      "cell_type": "markdown",
      "metadata": {
        "id": "kAim-02a1yPo"
      },
      "source": [
        "### 11.4 `shiny`\n",
        "\n",
        "This is a very useful package that is widely used to create interactive webpages with `R`. The idea is to code all visual elements of a webpage that is centered around visualizing and interacting with some data that runs in `R` on the back. It is fairly simple and intuitive to use and implement, and produces outstanding results in a minimal amount of time of development.\n",
        "\n",
        "A proper introduction to `shiny` is well beyond the scope of this course, but the official tutorials are excellent to get you going:\n",
        "\n",
        "*   https://shiny.rstudio.com/tutorial/\n",
        "\n",
        "Have a look at the [gallery](https://shiny.rstudio.com/gallery/) to see what you can do with this and spark your creativity.\n"
      ]
    },
    {
      "cell_type": "markdown",
      "metadata": {
        "id": "k3QsbI4MBe9O"
      },
      "source": [
        "---\n",
        "## 12. Notes on relevant topics\n",
        " \n",
        "We introduce some specific topics that can be dealt with in `R`."
      ]
    },
    {
      "cell_type": "markdown",
      "metadata": {
        "id": "N_7dDG2S1gWT"
      },
      "source": [
        "### 12.1 Working with time and dates\n",
        "\n",
        "Dates are another type of object in `R`, which you can be operated on like other objects. They are of class `Date` (dates), `POSIXt` (dates and times) and `POSIXct` (dates and times with a time zone) -- you can use `is.` and `as.` operations on them."
      ]
    },
    {
      "cell_type": "code",
      "execution_count": null,
      "metadata": {
        "id": "IWFLPt-0_OHG"
      },
      "outputs": [],
      "source": [
        "# Time registered in the computed\n",
        "today <- Sys.Date()  # Current time (class: Date)\n",
        "now <- Sys.time()  # Current time\n",
        "print(now)\n",
        "class(now)\n",
        "\n",
        "# Convert string to date and time format (look at how format is indicated!)\n",
        "date1 <- strptime('2022-01-04 15:00:00', format = '%Y-%m-%d %H:%M:%S')\n",
        "date2 <- strptime('2022-01-03 14:00:00', format = '%Y-%m-%d %H:%M:%S', tz = 'GMT')  # Add a time zone\n",
        "date3 <- as.Date('2022-01-04', format = '%Y-%m-%d')  # If you only have date (no time)\n",
        "\n",
        "# There is a less opaque function to do that\n",
        "ISOdatetime(year = 2022, month = 01, day = 04, hour = 15, min = 0, sec = 0)"
      ]
    },
    {
      "cell_type": "code",
      "execution_count": null,
      "metadata": {
        "id": "4CkvjWQEArYD"
      },
      "outputs": [],
      "source": [
        "# You can also coerce to \"POSIXct\" like in other classes\n",
        "date1 <- as.POSIXct('2022-01-04 15:00', format = '%Y-%m-%d %H:%M')\n",
        "str(date1)\n",
        "unclass(date1)  # it is subsettable!"
      ]
    },
    {
      "cell_type": "code",
      "execution_count": null,
      "metadata": {
        "id": "blfC6b-FEnDM"
      },
      "outputs": [],
      "source": [
        "# Some information encoded in a time object\n",
        "julian(now)  # Julian time\n",
        "months(now)\n",
        "quarters(now)\n",
        "weekdays(now)\n",
        "seq.Date(from = as.Date('2017-01-04'),\n",
        "  to = as.Date('2022-01-04'),\n",
        "  by = \"year\")  # Sequence of dates\n",
        "\n",
        "# You can format it the way you need\n",
        "format(date1, format = '%H:%M:%S')\n",
        "# There is a large number of formats: type \"?strptime\" to discover all abbreviations"
      ]
    },
    {
      "cell_type": "code",
      "execution_count": null,
      "metadata": {
        "id": "lOaT7BM4FBkF"
      },
      "outputs": [],
      "source": [
        "# Time difference between to time objects\n",
        "difftime(date1, date2)\n",
        "\n",
        "# In fact, you can operate with time objects as if they were numeric\n",
        "date1 - date2  # Same\n",
        "date1 + 1  # Units are seconds\n",
        "date1 > date2\n",
        "\n",
        "# Count days from a date\n",
        "as.Date(7654, origin = \"2000-01-01\")"
      ]
    },
    {
      "cell_type": "markdown",
      "metadata": {
        "id": "GKGArPE17mSJ"
      },
      "source": [
        "Here we have only provided basic native ways to dealing with time objects in `R`. I recommend you have a look at the `lubridate` package if you have more advanced or intensive needs. A link to the *cheat sheet*:\n",
        "\n",
        "*  https://rawgit.com/rstudio/cheatsheets/main/lubridate.pdf\n",
        "\n",
        "This package provides a lot of operations to manage date objects, as well as a few cool features."
      ]
    },
    {
      "cell_type": "markdown",
      "metadata": {
        "id": "jwhBtbMj1hT_"
      },
      "source": [
        "### 12.2 Web scrapping and `html` parsing\n",
        "\n",
        "This basically consists on reading web pages from `R` and processing the information that the `html` contains. There are no base methods capable of dealing adequately with this task, thus for such purpose a popular package is `rvest`.\n",
        "\n",
        "To illustrate this, we will try to access weather forecast data for Manhattan, NY from the website of the U.S. [National Weather Service](https://forecast.weather.gov), and lay out the weather forecast we retrieve on a simple table."
      ]
    },
    {
      "cell_type": "code",
      "execution_count": null,
      "metadata": {
        "id": "xkUH2YyjLFf2"
      },
      "outputs": [],
      "source": [
        "library(rvest)  # To access and read HTML\n",
        "\n",
        "# URL containing weather forecast in Manhattan, NY\n",
        "wurl <- 'https://forecast.weather.gov/MapClick.php?lat=40.7145&lon=-74.006#.YcSmhB3OGNY'\n",
        "html <- rvest::read_html(wurl)  # Read the HTML of the webpage"
      ]
    },
    {
      "cell_type": "code",
      "execution_count": null,
      "metadata": {
        "id": "mf5ff7IUNTWj"
      },
      "outputs": [],
      "source": [
        "# Parse the nodes in the HTML\n",
        "nodes <- rvest::html_nodes(html, \".temp\")\n",
        "nodes"
      ]
    },
    {
      "cell_type": "code",
      "execution_count": null,
      "metadata": {
        "id": "a-bZBZeLPbO1"
      },
      "outputs": [],
      "source": [
        "# Extract the text from each node\n",
        "node.txt <- sapply(nodes, rvest::html_text)"
      ]
    },
    {
      "cell_type": "code",
      "execution_count": null,
      "metadata": {
        "id": "H9n9BH8TP2ki"
      },
      "outputs": [],
      "source": [
        "# Extract numerical values\n",
        "nums <- readr::parse_number(node.txt)\n",
        "n <- length(nums) - 1  # Ignore the last element\n",
        "forecasts <- cbind(nums[seq(1, n, 2)], nums[seq(2, n, 2)])\n",
        "forecasts"
      ]
    },
    {
      "cell_type": "code",
      "execution_count": null,
      "metadata": {
        "id": "03eF7SJSRdVv"
      },
      "outputs": [],
      "source": [
        "# Make it pretty\n",
        "colnames(forecasts) <- c('High', 'low')\n",
        "rownames(forecasts) <- as.character(seq.Date(\n",
        "  from = as.Date('2022-01-04'),\n",
        "  to = as.Date('2022-01-07'),\n",
        "  by = \"day\"))\n",
        "forecasts  # Remember you can save this object as an R Data file"
      ]
    },
    {
      "cell_type": "markdown",
      "metadata": {
        "id": "2a7fmYYWRhTA"
      },
      "source": [
        "This is an extremely simple example, but there are uncountable things you can do with `html` data. I recommend you go deeper into what `rvest` can do if this is something you are interested in.\n",
        "\n",
        "One last **disclaimer:** web scrapping on certain scales may not be legit depending on the site, or even not completely legal under some jurisdictions, especially if you use what you gather with commercial purposes. Many sites provide what's called a [`robots.txt`](https://developers.google.com/search/docs/advanced/robots/intro) file that tells you what you are allowed to do with data you collect from their website. Respect that."
      ]
    },
    {
      "cell_type": "markdown",
      "metadata": {
        "id": "G6gqdB7GZn-0"
      },
      "source": [
        "**Kudos for reaching the end!**"
      ]
    }
  ],
  "metadata": {
    "colab": {
      "provenance": []
    },
    "kernelspec": {
      "display_name": "R",
      "language": "R",
      "name": "ir"
    },
    "language_info": {
      "codemirror_mode": "r",
      "file_extension": ".r",
      "mimetype": "text/x-r-source",
      "name": "R",
      "pygments_lexer": "r",
      "version": "3.6.1"
    }
  },
  "nbformat": 4,
  "nbformat_minor": 0
}