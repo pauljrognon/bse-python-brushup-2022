{
  "nbformat": 4,
  "nbformat_minor": 0,
  "metadata": {
    "colab": {
      "provenance": []
    },
    "kernelspec": {
      "name": "python3",
      "display_name": "Python 3"
    },
    "language_info": {
      "name": "python"
    }
  },
  "cells": [
    {
      "cell_type": "markdown",
      "source": [
        "# Graded Activity"
      ],
      "metadata": {
        "id": "E-GSHYNl6O01"
      }
    },
    {
      "cell_type": "markdown",
      "source": [
        "Complete the assignment in this notebook itself. Write your code in the code cells with \"#Your code here\" and run the cells to display the output of your code. Submit your notebook though Google Classroom."
      ],
      "metadata": {
        "id": "1kLMdZPD6THJ"
      }
    },
    {
      "cell_type": "markdown",
      "source": [
        "## Exercise 1\n",
        "Write a function named \"dictionary_maker\" that takes a single parameter, a list of 2 tuples with 2 elements. It must return the same data in the form of a dictionary, where the first element of every tuple is the key and the second element is the value.\n",
        "\n",
        "For example, if given: `[('foo', 1), ('bar', 3)]`, it should return `{'foo': 1, 'bar': 3}`\n",
        "\n",
        "Test your function with the list `[('Horta', 26), ('Sants', 30)]`, show the output.\n",
        "\n",
        "NOTE: Don't use any built-in functions!\n",
        "\n",
        "HINT: There are many ways of doing it. If you want to create a dictionary from a list of keys and a list of values, you can use the functions `dict` and `zip`."
      ],
      "metadata": {
        "id": "u34Aus5i7ToO"
      }
    },
    {
      "cell_type": "code",
      "source": [
        "# Your code here."
      ],
      "metadata": {
        "id": "mAk1qVuf9D8N"
      },
      "execution_count": null,
      "outputs": []
    },
    {
      "cell_type": "markdown",
      "source": [
        "## Exercise 2\n",
        "\n",
        "Say you are given a dataset from a repository of CVs. The individual CVs come as dictionaries and each dictionary looks like this:  \n",
        "`{ 'user': 'Laia', 'jobs': ['barmaid', 'university teacher', 'mechanic']}`  \n",
        "The dataset comes as a list of such CV-dictionaries."
      ],
      "metadata": {
        "id": "5uvMNXy28EoR"
      }
    },
    {
      "cell_type": "markdown",
      "source": [
        "Write a function named \"has_experience_as\" that takes two parameters:\n",
        "1. A list of CV's.\n",
        "2. A string (job_title)\n",
        "\n",
        "The function must return the list of users that has worked as job_title.  \n",
        "Test your function with the list `cvs` in the cell below and the job 'mechanic'. Show the output."
      ],
      "metadata": {
        "id": "PdCLNw7L9oiZ"
      }
    },
    {
      "cell_type": "code",
      "source": [
        "cvs = [{ 'user': 'Laia', 'jobs': ['barmaid', 'university teacher', 'mechanic']},\n",
        "       { 'user': 'Jaume', 'jobs': ['nurse', 'university teacher']},\n",
        "       { 'user': 'Judit', 'jobs': ['cook','mechanic','nurse', 'university teacher']}]\n",
        "\n",
        "# Your code here"
      ],
      "metadata": {
        "id": "Gi79Aov6-ZJl"
      },
      "execution_count": null,
      "outputs": []
    },
    {
      "cell_type": "markdown",
      "source": [
        "Write a function named \"job_counts\" that takes one parameter, the list of CVs, and returns a dictionary where the keys are all possible jobs done by the users and the values are the number of users that have experience in each job. Test your function with the list `cvs` above and show the output."
      ],
      "metadata": {
        "id": "AMm9ZMS-PHS2"
      }
    },
    {
      "cell_type": "code",
      "source": [
        "#Your code here"
      ],
      "metadata": {
        "id": "uI6aOzNSPzwR"
      },
      "execution_count": null,
      "outputs": []
    },
    {
      "cell_type": "markdown",
      "source": [
        "Write a function, named \"most_popular_job\" that takes one parameter, a list of CVs, and returns a tuple (str, int) that represents the most frequent job among CVs and the number of times it appears. Test your function with the list `cvs` above and show the output.\n",
        "\n",
        "HINT: You can use your \"job_counts\"\n",
        "function.\n",
        "\n",
        "HINT: There are plenty of ways of doing it. You can use the method '.items' on dictionaries to iterate over them like a list of tuples. You can also access all the keys and all the values of a dictionary with the methods `.keys()` and `.values()`."
      ],
      "metadata": {
        "id": "gX8gEHNCP8yf"
      }
    },
    {
      "cell_type": "code",
      "execution_count": null,
      "metadata": {
        "id": "JVgIcCUMygPG"
      },
      "outputs": [],
      "source": [
        "# Your code here\n"
      ]
    },
    {
      "cell_type": "markdown",
      "source": [
        "## Exercise 3"
      ],
      "metadata": {
        "id": "H7zl0x8MA3lL"
      }
    },
    {
      "cell_type": "markdown",
      "source": [
        "[Open Data Barcelona](https://opendata-ajuntament.barcelona.cat) provides lots of fun data about our city. \n",
        "\n",
        "You will study the evolution of mean tax revenues in Barcelona between the years 2016 and 2015.\n",
        "\n",
        "Barcelona is divided in districts and each district is divided in 'barri' or neighborhood. Each neighborhood of Barcelona is divided in several census tracts. In '2015_renda.csv' and '2016_renda.csv' you have the mean tax revenues (tax revenues / number of tax returns) in each census tract of the city for the years 2015 and 2016. \n",
        "\n",
        "The columns are in Catalan, here's the translation to English: \n",
        "\n",
        "Any = Year  \n",
        "Codi_Districte = District Code  \n",
        "Nom_Districte = District Name  \n",
        "Codi_Barri = Neighborhood Code  \n",
        "Nom_Barri = Neighborhood Name  \n",
        "Seccio_Censal = Census Tract Number  \n",
        "Import_Euros = Mean tax revenues"
      ],
      "metadata": {
        "id": "QRHUEoy7A5xg"
      }
    },
    {
      "cell_type": "markdown",
      "source": [
        "Read the two files '2015_renda.csv' and '2016_renda.csv' into Pandas dataframes."
      ],
      "metadata": {
        "id": "mFxxVQchBehu"
      }
    },
    {
      "cell_type": "code",
      "source": [
        "# Your code here."
      ],
      "metadata": {
        "id": "3iPhBmN2CtWo"
      },
      "execution_count": null,
      "outputs": []
    },
    {
      "cell_type": "markdown",
      "source": [
        "Obtain a single dataframe with mean tax revenues information of both 2015 and 2016"
      ],
      "metadata": {
        "id": "X3V4pL9YCvNR"
      }
    },
    {
      "cell_type": "code",
      "source": [
        "# Your code here."
      ],
      "metadata": {
        "id": "q6yknnquDeZC"
      },
      "execution_count": null,
      "outputs": []
    },
    {
      "cell_type": "markdown",
      "source": [
        "Compute the growth rate in mean tax revenues for each census tract."
      ],
      "metadata": {
        "id": "YXmZP5r1DIFJ"
      }
    },
    {
      "cell_type": "code",
      "source": [
        "# Your code here."
      ],
      "metadata": {
        "id": "0wJ7R14FDZAm"
      },
      "execution_count": null,
      "outputs": []
    },
    {
      "cell_type": "markdown",
      "source": [
        "Sort the dataset by the growth rate in mean tax revenues you just computed."
      ],
      "metadata": {
        "id": "S3cvoFhVDrAJ"
      }
    },
    {
      "cell_type": "code",
      "source": [
        "# Your code here."
      ],
      "metadata": {
        "id": "k7hBGEM2Drpi"
      },
      "execution_count": null,
      "outputs": []
    },
    {
      "cell_type": "markdown",
      "source": [
        "Compute the mean growth rate per neighborhood (barri)."
      ],
      "metadata": {
        "id": "ds-uLCXFD73C"
      }
    },
    {
      "cell_type": "code",
      "source": [
        "# Your code here."
      ],
      "metadata": {
        "id": "IcNwRvI6D814"
      },
      "execution_count": null,
      "outputs": []
    },
    {
      "cell_type": "markdown",
      "source": [
        "Get the list of neighborhoods of Barcelona ranked by the mean growth rate in mean tax revenues."
      ],
      "metadata": {
        "id": "0nBSHe4GEFmK"
      }
    },
    {
      "cell_type": "code",
      "source": [
        "# Your code here."
      ],
      "metadata": {
        "id": "Sahv9gNZEGPa"
      },
      "execution_count": null,
      "outputs": []
    }
  ]
}