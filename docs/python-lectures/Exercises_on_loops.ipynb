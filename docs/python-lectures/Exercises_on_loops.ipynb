{
  "nbformat": 4,
  "nbformat_minor": 0,
  "metadata": {
    "colab": {
      "provenance": [],
      "collapsed_sections": []
    },
    "kernelspec": {
      "name": "python3",
      "display_name": "Python 3"
    },
    "language_info": {
      "name": "python"
    }
  },
  "cells": [
    {
      "cell_type": "markdown",
      "source": [
        "# Exercise 1\n",
        "\n",
        "Write a function \"only_adults\" that takes as input a list of numbers and returns only the numbers larger than or equal to 18."
      ],
      "metadata": {
        "id": "G2rdrZ1TGRlS"
      }
    },
    {
      "cell_type": "code",
      "execution_count": null,
      "metadata": {
        "id": "LsOMNSOBGILX"
      },
      "outputs": [],
      "source": [
        "# Your code here"
      ]
    },
    {
      "cell_type": "markdown",
      "source": [
        "# Exercise 2\n",
        "\n",
        "Write a function \"get_only_adults\" that takes as input a list of numbers, removes any `None` values from the list and returns only the numbers larger than or equal to 18."
      ],
      "metadata": {
        "id": "yvFK_4--GgCZ"
      }
    },
    {
      "cell_type": "code",
      "execution_count": null,
      "metadata": {
        "id": "9eLoub-fGixT"
      },
      "outputs": [],
      "source": [
        "# Your code here"
      ]
    },
    {
      "cell_type": "markdown",
      "source": [
        "# Exercise 3\n",
        "Write a function \"are_all_adults\" that takes as input a list of numbers and returns True if they are all >= 18, and returns False otherwise. Is this a map, filter, or reduce?"
      ],
      "metadata": {
        "id": "XtpsyxrUG2tY"
      }
    },
    {
      "cell_type": "code",
      "execution_count": null,
      "metadata": {
        "id": "i9NCV4YZGi6r"
      },
      "outputs": [],
      "source": [
        "# Your code here"
      ]
    },
    {
      "cell_type": "markdown",
      "source": [
        "# Exercise 4\n",
        "Write a function \"count_nones\" that takes as input a list of any type of element and returns a count of how many of those elements are of type `None`. Is this a map, filter, or reduce?"
      ],
      "metadata": {
        "id": "b22euArKHMvD"
      }
    },
    {
      "cell_type": "code",
      "source": [
        "# Your code here"
      ],
      "metadata": {
        "id": "X7gvScRpHJMO"
      },
      "execution_count": null,
      "outputs": []
    },
    {
      "cell_type": "markdown",
      "source": [
        "# Exercise 5\n",
        "Write a function \"longest_word\" that takes as input a list of strings and returns the longest string in the list.\n",
        "Hint: you may need to use two \"accumulators\""
      ],
      "metadata": {
        "id": "bwCzUof2HdSX"
      }
    },
    {
      "cell_type": "code",
      "execution_count": null,
      "metadata": {
        "id": "_CYAhusdGjBU"
      },
      "outputs": [],
      "source": [
        "# Your code here"
      ]
    },
    {
      "cell_type": "markdown",
      "source": [
        "# Exercise 6\n",
        "Write a function \"second_highest_number\" that takes as input a list of numbers and returns the second highest one. Assume that the numbers will be unique (no duplicates). HINT: You may want to write two functions."
      ],
      "metadata": {
        "id": "XI-o8P_jICZW"
      }
    },
    {
      "cell_type": "code",
      "execution_count": null,
      "metadata": {
        "id": "7ElaxUMbGjSy"
      },
      "outputs": [],
      "source": [
        "# Your code here"
      ]
    }
  ]
}