{
 "cells": [
  {
   "cell_type": "markdown",
   "metadata": {
    "id": "k901S0J55TMo"
   },
   "source": [
    "# Session 2\n",
    "\n",
    "By **Paul Rognon & Miquel Torrens i Dinarès & Maxim Fedotov**\n",
    "\n",
    "*Barcelona School of Economics* –\n",
    "*Data Science Center*\n",
    "\n",
    "June 25th, 2023"
   ]
  },
  {
   "cell_type": "markdown",
   "metadata": {
    "id": "ipnrDmFFEG8i"
   },
   "source": [
    "---\n",
    "## Modules and imports"
   ]
  },
  {
   "cell_type": "markdown",
   "metadata": {
    "id": "Dyt0cU2PFGPD"
   },
   "source": [
    "*Modules* are Python files, thus with extension `.py`. You can bring the data and methods defined in a module to your coding environment by using `import`."
   ]
  },
  {
   "cell_type": "code",
   "execution_count": 1,
   "metadata": {
    "colab": {
     "base_uri": "https://localhost:8080/",
     "height": 166
    },
    "id": "PdPTr3fuY8FE",
    "outputId": "77947d48-2f72-479d-a4c9-87f2295265b9"
   },
   "outputs": [
    {
     "ename": "NameError",
     "evalue": "name 'sin' is not defined",
     "output_type": "error",
     "traceback": [
      "\u001b[1;31m---------------------------------------------------------------------------\u001b[0m",
      "\u001b[1;31mNameError\u001b[0m                                 Traceback (most recent call last)",
      "Cell \u001b[1;32mIn[1], line 1\u001b[0m\n\u001b[1;32m----> 1\u001b[0m x \u001b[38;5;241m=\u001b[39m \u001b[43msin\u001b[49m(\u001b[38;5;241m5\u001b[39m)\n",
      "\u001b[1;31mNameError\u001b[0m: name 'sin' is not defined"
     ]
    }
   ],
   "source": [
    "x = sin(5)  # The \"sin\" function does not exist"
   ]
  },
  {
   "cell_type": "markdown",
   "metadata": {},
   "source": [
    "The function `sin` is part of the module `math`."
   ]
  },
  {
   "cell_type": "code",
   "execution_count": 2,
   "metadata": {
    "colab": {
     "base_uri": "https://localhost:8080/"
    },
    "id": "H4HFgP1aYkt6",
    "outputId": "9407afb1-ba82-4d1c-cb1c-348b32e32282"
   },
   "outputs": [
    {
     "name": "stdout",
     "output_type": "stream",
     "text": [
      "-0.9589242746631385\n"
     ]
    }
   ],
   "source": [
    "import math  # You need to import the module \"math\"\n",
    "x = math.sin(5)\n",
    "print(x)"
   ]
  },
  {
   "cell_type": "markdown",
   "metadata": {
    "id": "aFc2XminZRGl"
   },
   "source": [
    "There are some other useful tricks to import data and methods: you can import a single function from a module, or rename it."
   ]
  },
  {
   "cell_type": "code",
   "execution_count": 75,
   "metadata": {
    "colab": {
     "base_uri": "https://localhost:8080/"
    },
    "id": "0rdS_Z1YZXK4",
    "outputId": "7e591804-af58-4dd1-f948-406f3b74da0a"
   },
   "outputs": [
    {
     "name": "stdout",
     "output_type": "stream",
     "text": [
      "0.1411200080598672\n"
     ]
    }
   ],
   "source": [
    "from math import sin  # Imports a single function\n",
    "from math import sin as sinus  # Nickname, useful when you import something with a long name\n",
    "print(sinus(3))"
   ]
  },
  {
   "cell_type": "markdown",
   "metadata": {
    "id": "BIJs6rFWZ1PM"
   },
   "source": [
    "Let us discuss here a couple of fundamental modules in Python:"
   ]
  },
  {
   "cell_type": "markdown",
   "metadata": {
    "id": "neOHzwXCFDhr"
   },
   "source": [
    "### `numpy` (Numerical Python)\n",
    "\n",
    "*   User's manual: https://numpy.org/doc/stable/\n",
    "\n",
    "This is Python's stack for scientific computing. The fundamental data structure it brings is **`numpy` `array`**. It is Python's matrix-type object and is used in the majority of modules for data analysis, statistics and machine learning.\n",
    "\n",
    "These arrays contain data that must all be of the same type (dtype):"
   ]
  },
  {
   "cell_type": "code",
   "execution_count": 76,
   "metadata": {
    "colab": {
     "base_uri": "https://localhost:8080/"
    },
    "id": "oIjyNud0dGIB",
    "outputId": "ae4af8be-13a9-4091-9359-9e5450fca5bf"
   },
   "outputs": [
    {
     "name": "stdout",
     "output_type": "stream",
     "text": [
      "[[  1   2   3   4   5   6]\n",
      " [ 42  53  43  62   7   4]\n",
      " [ -3  -1  -4  -8 -52  -4]\n",
      " [ 10   0   4   1   0   1]]\n",
      "int32\n"
     ]
    }
   ],
   "source": [
    "# Import module \n",
    "import numpy as np  # usually imported with name \"np\"\n",
    "\n",
    "# Creating an array\n",
    "A = np.array([[1, 2, 3, 4, 5, 6], \n",
    "              [42, 53, 43 ,62, 7, 4], \n",
    "              [-3, -1, -4 ,-8, -52, -4], \n",
    "              [10, 0, 4 , 1, 0, 1]])\n",
    "print(A)\n",
    "print(A.dtype)"
   ]
  },
  {
   "cell_type": "markdown",
   "metadata": {
    "id": "acCVtlQpdha9"
   },
   "source": [
    "We can access the elements in an array using multi-index notation (counting starts from 0, slicing `a:b` is inclusive:exclusive, negative indices, etc.)"
   ]
  },
  {
   "cell_type": "code",
   "execution_count": 77,
   "metadata": {
    "id": "tu5JZ_xKdtn1"
   },
   "outputs": [
    {
     "name": "stdout",
     "output_type": "stream",
     "text": [
      "[[  1   2   3   4   5   6]\n",
      " [ 42  53  43  62   7   4]\n",
      " [ -3  -1  -4  -8 -52  -4]\n",
      " [ 10   0   4   1   0   1]]\n",
      "[[ -4 -52]\n",
      " [  4   0]]\n"
     ]
    }
   ],
   "source": [
    "print(A)\n",
    "# Print from row 3 onwards, columns 3 and 5\n",
    "print(A[2:, [2, 4]])"
   ]
  },
  {
   "cell_type": "code",
   "execution_count": 78,
   "metadata": {
    "colab": {
     "base_uri": "https://localhost:8080/"
    },
    "id": "KGkO4J8aebVg",
    "outputId": "65b29d8a-9d23-4a51-e87c-a80f5c806313"
   },
   "outputs": [
    {
     "name": "stdout",
     "output_type": "stream",
     "text": [
      "(4, 6)\n",
      "(6, 4)\n",
      "(6, 4)\n"
     ]
    },
    {
     "data": {
      "text/plain": [
       "array([[   91,   584,  -333,    32],\n",
       "       [  584, 10331, -1227,   658],\n",
       "       [ -333, -1227,  2810,   -58],\n",
       "       [   32,   658,   -58,   118]])"
      ]
     },
     "execution_count": 78,
     "metadata": {},
     "output_type": "execute_result"
    }
   ],
   "source": [
    "# Attributes\n",
    "A.shape  # dimension\n",
    "A.min()  # minimum (you can similarly use max, sum, etc.)\n",
    "A.diagonal()  # diagonal\n",
    "B = A.transpose()  # transposing\n",
    "C = A.reshape(6, 4)  # rearrange values to change dimension (CAREFUL!)\n",
    "print(A.shape)\n",
    "print(B.shape)\n",
    "print(C.shape)\n",
    "A.dot(B)  # dot-product (with array B)\n"
   ]
  },
  {
   "cell_type": "markdown",
   "metadata": {
    "id": "JnQHBnQ6FT-R"
   },
   "source": [
    "#### `array` operations"
   ]
  },
  {
   "cell_type": "markdown",
   "metadata": {
    "id": "OulgR7t4g4pX"
   },
   "source": [
    "Mathematical symbols take on mathematical meanings in `numpy`, and so the `+` operator between two `np.array` just tries to add them together elementwise (it works differently to `list`-type objects). To concatenate you need a specific function.\n"
   ]
  },
  {
   "cell_type": "code",
   "execution_count": 79,
   "metadata": {
    "colab": {
     "base_uri": "https://localhost:8080/"
    },
    "id": "xx1yoFLYhiVo",
    "outputId": "b10b865d-7be2-4bad-a018-7d52482ca97c"
   },
   "outputs": [
    {
     "name": "stdout",
     "output_type": "stream",
     "text": [
      "[5 7 9]\n",
      "[1 2 3 4 5 6]\n"
     ]
    }
   ],
   "source": [
    "# Numpy array addition: \n",
    "a, b = np.array([1, 2, 3]), np.array([4, 5, 6])\n",
    "print(a + b)  # Addition\n",
    "print(np.concatenate([a,b]))  # Concatenation"
   ]
  },
  {
   "cell_type": "markdown",
   "metadata": {
    "id": "rjsp0uQiFLwy"
   },
   "source": [
    "### `pandas` (Panel Data - Rectangular Data Structures)"
   ]
  },
  {
   "cell_type": "markdown",
   "metadata": {
    "id": "3K-y3YrOjpYj"
   },
   "source": [
    "This is the module in Python for doing rectangular-data management, analysis and plotting. It provides tools to read and write external data.\n"
   ]
  },
  {
   "cell_type": "code",
   "execution_count": 80,
   "metadata": {
    "colab": {
     "base_uri": "https://localhost:8080/"
    },
    "id": "i-wfPqHzi20o",
    "outputId": "ec4a9980-0b13-45b7-be17-bd0588f644aa"
   },
   "outputs": [
    {
     "name": "stdout",
     "output_type": "stream",
     "text": [
      "   total_bill   tip     sex smoker  day    time  size\n",
      "0       16.99  1.01  Female     No  Sun  Dinner     2\n",
      "1       10.34  1.66    Male     No  Sun  Dinner     3\n",
      "2       21.01  3.50    Male     No  Sun  Dinner     3\n",
      "3       23.68  3.31    Male     No  Sun  Dinner     2\n",
      "4       24.59  3.61  Female     No  Sun  Dinner     4\n",
      "<class 'pandas.core.frame.DataFrame'>\n",
      "<class 'pandas.core.series.Series'>\n"
     ]
    }
   ],
   "source": [
    "import pandas as pd  # Usually imported with name \"pd\"\n",
    "\n",
    "file_path = \"https://raw.githubusercontent.com/barcelonagse-datascience/academic_files/master/data/tips.csv\"\n",
    "tips = pd.read_csv(file_path)  # read_csv allows importing .CSV files\n",
    "print(tips.head(5))  # head gives first rows (arg = number of rows)\n",
    "\n",
    "# Data formats in pandas\n",
    "print(type(tips))\n",
    "print(type(tips['tip']))"
   ]
  },
  {
   "cell_type": "markdown",
   "metadata": {
    "id": "LkF0FABWdezQ"
   },
   "source": [
    "There are the two basic data formats in `pandas`: `Series` and `DataFrame`. A `Series` is the equivalent to a vector in linear algebra. A `DataFrame` is the equivalent to a rectangular data structure. These types are equipped with several attributes useful for data management and analysis. In the tips example, the variable object `tips` is a `DataFrame`, while any individual column would be a `Series`."
   ]
  },
  {
   "cell_type": "markdown",
   "metadata": {
    "id": "RCESXNfRGQhm"
   },
   "source": [
    "---\n",
    "## 7. Structured data operations (`pandas`)"
   ]
  },
  {
   "cell_type": "markdown",
   "metadata": {
    "id": "RwSlaPsxfh_a"
   },
   "source": [
    "### `Series`"
   ]
  },
  {
   "cell_type": "markdown",
   "metadata": {
    "id": "CW7nQyAlflWx"
   },
   "source": [
    "They are typically obtained by extracting a column from a `DataFrame`, in that case they are accessed via the column label / index (a number or a string). They can also be defined manually:"
   ]
  },
  {
   "cell_type": "code",
   "execution_count": 81,
   "metadata": {
    "colab": {
     "base_uri": "https://localhost:8080/"
    },
    "id": "AV1XFsdVfhrM",
    "outputId": "9cd68866-6ed7-4fa5-f595-1131e10a678d"
   },
   "outputs": [
    {
     "name": "stdout",
     "output_type": "stream",
     "text": [
      "<class 'pandas.core.series.Series'>\n"
     ]
    },
    {
     "data": {
      "text/plain": [
       "0       1.0\n",
       "1      15.0\n",
       "2      -5.0\n",
       "3       NaN\n",
       "4       4.0\n",
       "5     123.0\n",
       "6       0.0\n",
       "7      78.0\n",
       "8       0.0\n",
       "9       1.0\n",
       "10     -4.0\n",
       "dtype: float64"
      ]
     },
     "execution_count": 81,
     "metadata": {},
     "output_type": "execute_result"
    }
   ],
   "source": [
    "print(type(tips['total_bill']))\n",
    "\n",
    "# Here no indices are specified (by default they are numerical)\n",
    "a_series = pd.Series([1, 15, -5, None, 4, 123, 0, 78, 0, 1, -4])\n",
    "a_series"
   ]
  },
  {
   "cell_type": "code",
   "execution_count": 82,
   "metadata": {
    "colab": {
     "base_uri": "https://localhost:8080/"
    },
    "id": "Rh0dMfKagF-d",
    "outputId": "ded5d8f5-059d-4558-8f43-59d425a0304d"
   },
   "outputs": [
    {
     "data": {
      "text/plain": [
       "1.0"
      ]
     },
     "execution_count": 82,
     "metadata": {},
     "output_type": "execute_result"
    }
   ],
   "source": [
    "# Accessing a certain value via the index\n",
    "a_series[0]"
   ]
  },
  {
   "cell_type": "markdown",
   "metadata": {},
   "source": [
    "Importantly, values in `pandas` `Series` and `DataFrame` are indexed by labels that can be edited and manipulated. "
   ]
  },
  {
   "cell_type": "code",
   "execution_count": 83,
   "metadata": {
    "colab": {
     "base_uri": "https://localhost:8080/"
    },
    "id": "Kbn8gNHggJsV",
    "outputId": "a16347ae-4c0b-4412-b159-994c24b5841d"
   },
   "outputs": [
    {
     "name": "stdout",
     "output_type": "stream",
     "text": [
      "[  1.  15.  -5.  nan   4. 123.   0.  78.   0.   1.  -4.]\n",
      "<class 'pandas.core.indexes.range.RangeIndex'>\n",
      "[ 0  1  2  3  4  5  6  7  8  9 10]\n"
     ]
    }
   ],
   "source": [
    "# .values returns a numpy.ndarray of the values\n",
    "print(a_series.values)\n",
    "# .index returns the index of the series in a object of type RangeIndex\n",
    "print(type(a_series.index))\n",
    "# .index.values returns the index values of the series in a numpy array\n",
    "print(a_series.index.values) # default index values are 0 to the number of entries-1  "
   ]
  },
  {
   "cell_type": "code",
   "execution_count": 84,
   "metadata": {
    "colab": {
     "base_uri": "https://localhost:8080/"
    },
    "id": "VvmXzQThhSKW",
    "outputId": "15eefef1-3f74-4219-fee5-1db6feee00e4"
   },
   "outputs": [
    {
     "data": {
      "text/plain": [
       "array(['a', 'b', 'c', 'd', 'e', 'f', 'g', 'h', 'i', 'j', 'k'],\n",
       "      dtype=object)"
      ]
     },
     "execution_count": 84,
     "metadata": {},
     "output_type": "execute_result"
    }
   ],
   "source": [
    "# You can overwrite the index directly: \n",
    "a_series.index = [\"a\", \"b\", \"c\", \"d\", \"e\", \"f\", \"g\", \"h\", \"i\", \"j\", \"k\"]\n",
    "a_series.index.values"
   ]
  },
  {
   "cell_type": "markdown",
   "metadata": {
    "id": "6vS1oWK1ho5d"
   },
   "source": [
    "Accessing values via the labels in the index can be very useful, but sometimes you want to access the values by their order in the series as if it was a Python list. In other words \"I want the first value!\", without having to know the name of the label. You can do this with `.iloc`:\n"
   ]
  },
  {
   "cell_type": "code",
   "execution_count": 85,
   "metadata": {
    "colab": {
     "base_uri": "https://localhost:8080/"
    },
    "id": "jX0gOqszlHza",
    "outputId": "68010209-abfe-4508-c0bf-346fd5cd35b6"
   },
   "outputs": [
    {
     "data": {
      "text/plain": [
       "(1.0, 1.0, -4.0)"
      ]
     },
     "execution_count": 85,
     "metadata": {},
     "output_type": "execute_result"
    }
   ],
   "source": [
    "a_series.iloc[0], a_series[\"a\"], a_series.iloc[-1]\n"
   ]
  },
  {
   "cell_type": "code",
   "execution_count": 86,
   "metadata": {
    "colab": {
     "base_uri": "https://localhost:8080/"
    },
    "id": "lz9XaTt1mFrN",
    "outputId": "0efe57b1-5e20-47bd-dac8-3dd49d70bad1"
   },
   "outputs": [
    {
     "name": "stdout",
     "output_type": "stream",
     "text": [
      "2      -5.0\n",
      "10     -4.0\n",
      "6       0.0\n",
      "8       0.0\n",
      "0       1.0\n",
      "9       1.0\n",
      "4       4.0\n",
      "1      15.0\n",
      "7      78.0\n",
      "5     123.0\n",
      "3       NaN\n",
      "dtype: float64\n"
     ]
    },
    {
     "data": {
      "text/plain": [
       "(1.0, -5.0)"
      ]
     },
     "execution_count": 86,
     "metadata": {},
     "output_type": "execute_result"
    }
   ],
   "source": [
    "# This just resets the index to default values\n",
    "a_series = a_series.reset_index(drop = True)\n",
    "\n",
    "# now if I sort the values from smaller to greater:\n",
    "x = a_series.sort_values()\n",
    "print(x)\n",
    "x[0], x.iloc[0] \n",
    "# the indices remain, so x indexed by 0 is 1\n",
    "# the ordering changes, so the first element of x is -5.0, the minimum"
   ]
  },
  {
   "cell_type": "markdown",
   "metadata": {
    "id": "nBv2VEZ6z5MF"
   },
   "source": [
    "`.index` and `.value` are attributes of Pandas series. Other attributes that are worth highlighting:\n",
    "\n",
    "*   `.map`\n",
    "*   `.corr`\n",
    "*   `.describe`\n",
    "*   `.hist`\n",
    "*   `.plot`\n",
    "*   `.size`\n",
    "*   `.value_counts`\n",
    "*   `.sort_values`"
   ]
  },
  {
   "cell_type": "markdown",
   "metadata": {
    "id": "4jCJ7CDS1B9c"
   },
   "source": [
    "For example:"
   ]
  },
  {
   "cell_type": "code",
   "execution_count": 87,
   "metadata": {
    "colab": {
     "base_uri": "https://localhost:8080/"
    },
    "id": "DE0jn-Tuz6Q5",
    "outputId": "1afeb272-0d34-4764-d723-ef88c55111e0"
   },
   "outputs": [
    {
     "data": {
      "text/plain": [
       "count     10.000000\n",
       "mean      21.300000\n",
       "std       43.410316\n",
       "min       -5.000000\n",
       "25%        0.000000\n",
       "50%        1.000000\n",
       "75%       12.250000\n",
       "max      123.000000\n",
       "dtype: float64"
      ]
     },
     "execution_count": 87,
     "metadata": {},
     "output_type": "execute_result"
    }
   ],
   "source": [
    "a_series.describe()"
   ]
  },
  {
   "cell_type": "markdown",
   "metadata": {
    "id": "RmxMKWj41gIu"
   },
   "source": [
    "### Operations with `Series`"
   ]
  },
  {
   "cell_type": "markdown",
   "metadata": {
    "id": "vkOthCCwnJ5l"
   },
   "source": [
    "`Series` are based on `numpy` arrays. Like arrays, we can operate on series element-wise. The result is another series with data type depending on the type of operations performed.\n"
   ]
  },
  {
   "cell_type": "code",
   "execution_count": 88,
   "metadata": {
    "colab": {
     "base_uri": "https://localhost:8080/",
     "height": 235
    },
    "id": "IFwLE9_anTxm",
    "outputId": "60883ff5-8ef4-4e9e-df20-3bd645f532e2"
   },
   "outputs": [
    {
     "name": "stdout",
     "output_type": "stream",
     "text": [
      "0     2\n",
      "1    16\n",
      "2    11\n",
      "3    20\n",
      "dtype: int64\n",
      "0     True\n",
      "1    False\n",
      "2     True\n",
      "3     True\n",
      "dtype: bool\n"
     ]
    }
   ],
   "source": [
    "series1 = pd.Series([1, 3, 5, 7])\n",
    "series2 = pd.Series([0, 10, -1, 6])\n",
    "\n",
    "series3 = 2 * series1 + abs(series2)\n",
    "series4 = series1 > series2 \n",
    "\n",
    "print(series3)\n",
    "print(series4)\n",
    "# Take a look at the different Series objects!"
   ]
  },
  {
   "cell_type": "markdown",
   "metadata": {
    "id": "fJxzTTJMpLRX"
   },
   "source": [
    "What goes on in the previous examples is more subtle than it looks. How does Python know which elements from each series to join in the required operation together? What happens is that the indices happened to be the same. So when we ask something like\n",
    "\n",
    "`series3 = series1 + series2`,\n",
    "\n",
    "Python looks for entries in each series with the same index label and then does an elementwise summation that it stores in a like-wise index in Series 3.\n",
    "\n",
    "Consider instead the following example:\n"
   ]
  },
  {
   "cell_type": "code",
   "execution_count": 89,
   "metadata": {
    "colab": {
     "base_uri": "https://localhost:8080/"
    },
    "id": "IX9hf81tpY5a",
    "outputId": "b40fe21f-fc71-4823-b087-8b1a7ca60be9"
   },
   "outputs": [
    {
     "name": "stdout",
     "output_type": "stream",
     "text": [
      "A   NaN\n",
      "B   NaN\n",
      "C   NaN\n",
      "D   NaN\n",
      "dtype: float64\n"
     ]
    }
   ],
   "source": [
    "series1 = pd.Series([1, 10], index=[\"A\", \"B\"])\n",
    "series2 = pd.Series([4, -1], index=[\"C\", \"D\"])\n",
    "series3 = series1 + series2\n",
    "print(series3)"
   ]
  },
  {
   "cell_type": "markdown",
   "metadata": {
    "id": "d5NV02lcpiVB"
   },
   "source": [
    "This aspect makes it very easy to work with series that we have sorted or manipulated otherwise; there is always the address to access a value. This helps prevent accidentally combining values we didn't mean to combine!"
   ]
  },
  {
   "cell_type": "code",
   "execution_count": 90,
   "metadata": {
    "id": "U_V0iQXnvh-e"
   },
   "outputs": [],
   "source": [
    "# accessing by list of index labels\n",
    "a_series.index = [\"A\", \"B\", \"C\", \"D\", \"E\", \"F\", \"G\", \"H\", \"I\", \"J\", \"K\"]\n",
    "x = a_series[[\"A\", \"K\"]]"
   ]
  },
  {
   "cell_type": "code",
   "execution_count": 91,
   "metadata": {
    "colab": {
     "base_uri": "https://localhost:8080/"
    },
    "id": "hy8rOvDXwC9y",
    "outputId": "8db045e8-b5dc-459f-a79a-611650a43204"
   },
   "outputs": [
    {
     "data": {
      "text/plain": [
       "A      1.0\n",
       "B     15.0\n",
       "C     -5.0\n",
       "D      NaN\n",
       "E      4.0\n",
       "F    123.0\n",
       "G      0.0\n",
       "H     78.0\n",
       "I      0.0\n",
       "J      1.0\n",
       "K     -4.0\n",
       "dtype: float64"
      ]
     },
     "execution_count": 91,
     "metadata": {},
     "output_type": "execute_result"
    }
   ],
   "source": [
    "a_series"
   ]
  },
  {
   "cell_type": "code",
   "execution_count": 92,
   "metadata": {
    "colab": {
     "base_uri": "https://localhost:8080/"
    },
    "id": "Brsq8K9TwDWN",
    "outputId": "d2e66bb5-4dcd-4ba8-8846-3fd4a8ba87d5"
   },
   "outputs": [
    {
     "data": {
      "text/plain": [
       "A    1.0\n",
       "K   -4.0\n",
       "dtype: float64"
      ]
     },
     "execution_count": 92,
     "metadata": {},
     "output_type": "execute_result"
    }
   ],
   "source": [
    "x"
   ]
  },
  {
   "cell_type": "markdown",
   "metadata": {},
   "source": [
    "Notice the index of x is a SUBSET of the index of \"a_series\". \n",
    "This can be useful when needing to relate values back to the original \"a_series\"!"
   ]
  },
  {
   "cell_type": "markdown",
   "metadata": {
    "id": "hFrX8z9ZwxEc"
   },
   "source": [
    "Boolean masks are often used to filter data in Pandas. There are special boolean algebra operators to use in `numpy`/`pandas`, distinct from the and/or/not you will use in regular Python: `&` (AND), `|` (OR), `~` (NOT).\n"
   ]
  },
  {
   "cell_type": "code",
   "execution_count": 93,
   "metadata": {
    "id": "oq04uA8Zvqro"
   },
   "outputs": [
    {
     "data": {
      "text/plain": [
       "A    False\n",
       "B    False\n",
       "C    False\n",
       "D    False\n",
       "E    False\n",
       "F    False\n",
       "G     True\n",
       "H    False\n",
       "I     True\n",
       "J    False\n",
       "K    False\n",
       "dtype: bool"
      ]
     },
     "execution_count": 93,
     "metadata": {},
     "output_type": "execute_result"
    }
   ],
   "source": [
    "# Getting a boolean-valued series by checking a condition\n",
    "choose = (a_series == 0.0)\n",
    "choose"
   ]
  },
  {
   "cell_type": "code",
   "execution_count": 94,
   "metadata": {
    "id": "scBM8fbSvw2l"
   },
   "outputs": [
    {
     "name": "stdout",
     "output_type": "stream",
     "text": [
      "G    0.0\n",
      "I    0.0\n",
      "dtype: float64\n"
     ]
    },
    {
     "data": {
      "text/plain": [
       "A      1.0\n",
       "B     15.0\n",
       "C     -5.0\n",
       "D      NaN\n",
       "E      4.0\n",
       "F    123.0\n",
       "H     78.0\n",
       "J      1.0\n",
       "K     -4.0\n",
       "dtype: float64"
      ]
     },
     "execution_count": 94,
     "metadata": {},
     "output_type": "execute_result"
    }
   ],
   "source": [
    "x = a_series[choose]\n",
    "print(x)\n",
    "# or the complement\n",
    "a_series[~choose]"
   ]
  },
  {
   "cell_type": "markdown",
   "metadata": {
    "id": "_tpBwMYBxe79"
   },
   "source": [
    "### Missing values\n",
    "\n",
    "A series object in `pandas` can help us deal with missing data."
   ]
  },
  {
   "cell_type": "code",
   "execution_count": 95,
   "metadata": {
    "colab": {
     "base_uri": "https://localhost:8080/"
    },
    "id": "EOouM1SZx4oo",
    "outputId": "1d18aa2a-e81a-4761-ec31-aad463f1d79a"
   },
   "outputs": [
    {
     "name": "stdout",
     "output_type": "stream",
     "text": [
      "A     1\n",
      "B    10\n",
      "dtype: int64\n",
      "C    4\n",
      "D   -1\n",
      "dtype: int64\n",
      "A   NaN\n",
      "B   NaN\n",
      "C   NaN\n",
      "D   NaN\n",
      "dtype: float64\n"
     ]
    }
   ],
   "source": [
    "print(series1)\n",
    "print(series2)\n",
    "series3 = series1 + series2\n",
    "print(series3)"
   ]
  },
  {
   "cell_type": "markdown",
   "metadata": {
    "id": "-J3r1-gjx5Vz"
   },
   "source": [
    "What happened there is that in the operation labels could not be matched, so `pandas` tried to sum a numeric value with missing value, the result of which is a missing value.\n",
    "The way to manually specify in `pandas` that a value is missing is to use `None`, as below:"
   ]
  },
  {
   "cell_type": "code",
   "execution_count": 96,
   "metadata": {
    "colab": {
     "base_uri": "https://localhost:8080/"
    },
    "id": "x2sKM0fdyHDi",
    "outputId": "244715c9-5e61-4ba6-c012-ff70265b9a3f"
   },
   "outputs": [
    {
     "name": "stdout",
     "output_type": "stream",
     "text": [
      "0    1.0\n",
      "1    NaN\n",
      "2    2.0\n",
      "dtype: float64\n"
     ]
    }
   ],
   "source": [
    "temp = pd.Series([1, None, 2])\n",
    "print(temp)"
   ]
  },
  {
   "cell_type": "markdown",
   "metadata": {
    "id": "iyFuiqSfyNKa"
   },
   "source": [
    "`pandas` coerces `None` values to `NaN` (\"Not a Number\") values. We can create boolean masks on the basis of such values. The way to identify NaN or None values in a Series is to use either of the equivalent two attributes: `.isna()` and `.isnull()` (existing the opposite `.notna()` and `.notnull()`)."
   ]
  },
  {
   "cell_type": "code",
   "execution_count": 97,
   "metadata": {
    "colab": {
     "base_uri": "https://localhost:8080/"
    },
    "id": "YKL0BWZ4ys07",
    "outputId": "c78233b4-b568-4769-9a3b-13c05d4ae313"
   },
   "outputs": [
    {
     "name": "stdout",
     "output_type": "stream",
     "text": [
      "0    False\n",
      "1     True\n",
      "2    False\n",
      "dtype: bool\n",
      "0    False\n",
      "1     True\n",
      "2    False\n",
      "dtype: bool\n"
     ]
    }
   ],
   "source": [
    "print(temp.isna())\n",
    "print(temp.isnull())"
   ]
  },
  {
   "cell_type": "code",
   "execution_count": 98,
   "metadata": {
    "colab": {
     "base_uri": "https://localhost:8080/"
    },
    "id": "hXKCl1Vczg1z",
    "outputId": "e6241f02-0160-48ec-ca60-4f8b8d2c1f8c"
   },
   "outputs": [
    {
     "data": {
      "text/plain": [
       "0     True\n",
       "1    False\n",
       "2     True\n",
       "dtype: bool"
      ]
     },
     "execution_count": 98,
     "metadata": {},
     "output_type": "execute_result"
    }
   ],
   "source": [
    "temp.notna()\n",
    "temp.notnull()"
   ]
  },
  {
   "cell_type": "markdown",
   "metadata": {
    "id": "7wgzBXTO0jiU"
   },
   "source": [
    "### `DataFrame`"
   ]
  },
  {
   "cell_type": "markdown",
   "metadata": {
    "id": "Miqvm-D61ulF"
   },
   "source": [
    "This is `pandas` structure for rectangular data. Operationally it is similar to a dictionary of `Series`; each column of the `DataFrame` is a `Series` object, and comes with all the attributes/methods of a `Series`. An implication is that within each column the data type is common; across columns this can change.\n",
    "\n",
    "`DataFrame`'s differ from `numpy.ndarray`'s in the sense they can have more than one type of data and manipulable columns and row labels/indexes."
   ]
  },
  {
   "cell_type": "code",
   "execution_count": 99,
   "metadata": {
    "colab": {
     "base_uri": "https://localhost:8080/",
     "height": 206
    },
    "id": "sUiqHzru2EuJ",
    "outputId": "60e1937e-07d0-4b4a-c5a1-2d02e3bdbf62"
   },
   "outputs": [
    {
     "data": {
      "text/html": [
       "<div>\n",
       "<style scoped>\n",
       "    .dataframe tbody tr th:only-of-type {\n",
       "        vertical-align: middle;\n",
       "    }\n",
       "\n",
       "    .dataframe tbody tr th {\n",
       "        vertical-align: top;\n",
       "    }\n",
       "\n",
       "    .dataframe thead th {\n",
       "        text-align: right;\n",
       "    }\n",
       "</style>\n",
       "<table border=\"1\" class=\"dataframe\">\n",
       "  <thead>\n",
       "    <tr style=\"text-align: right;\">\n",
       "      <th></th>\n",
       "      <th>total_bill</th>\n",
       "      <th>tip</th>\n",
       "      <th>sex</th>\n",
       "      <th>smoker</th>\n",
       "      <th>day</th>\n",
       "      <th>time</th>\n",
       "      <th>size</th>\n",
       "    </tr>\n",
       "  </thead>\n",
       "  <tbody>\n",
       "    <tr>\n",
       "      <th>0</th>\n",
       "      <td>16.99</td>\n",
       "      <td>1.01</td>\n",
       "      <td>Female</td>\n",
       "      <td>No</td>\n",
       "      <td>Sun</td>\n",
       "      <td>Dinner</td>\n",
       "      <td>2</td>\n",
       "    </tr>\n",
       "    <tr>\n",
       "      <th>1</th>\n",
       "      <td>10.34</td>\n",
       "      <td>1.66</td>\n",
       "      <td>Male</td>\n",
       "      <td>No</td>\n",
       "      <td>Sun</td>\n",
       "      <td>Dinner</td>\n",
       "      <td>3</td>\n",
       "    </tr>\n",
       "    <tr>\n",
       "      <th>2</th>\n",
       "      <td>21.01</td>\n",
       "      <td>3.50</td>\n",
       "      <td>Male</td>\n",
       "      <td>No</td>\n",
       "      <td>Sun</td>\n",
       "      <td>Dinner</td>\n",
       "      <td>3</td>\n",
       "    </tr>\n",
       "    <tr>\n",
       "      <th>3</th>\n",
       "      <td>23.68</td>\n",
       "      <td>3.31</td>\n",
       "      <td>Male</td>\n",
       "      <td>No</td>\n",
       "      <td>Sun</td>\n",
       "      <td>Dinner</td>\n",
       "      <td>2</td>\n",
       "    </tr>\n",
       "    <tr>\n",
       "      <th>4</th>\n",
       "      <td>24.59</td>\n",
       "      <td>3.61</td>\n",
       "      <td>Female</td>\n",
       "      <td>No</td>\n",
       "      <td>Sun</td>\n",
       "      <td>Dinner</td>\n",
       "      <td>4</td>\n",
       "    </tr>\n",
       "  </tbody>\n",
       "</table>\n",
       "</div>"
      ],
      "text/plain": [
       "   total_bill   tip     sex smoker  day    time  size\n",
       "0       16.99  1.01  Female     No  Sun  Dinner     2\n",
       "1       10.34  1.66    Male     No  Sun  Dinner     3\n",
       "2       21.01  3.50    Male     No  Sun  Dinner     3\n",
       "3       23.68  3.31    Male     No  Sun  Dinner     2\n",
       "4       24.59  3.61  Female     No  Sun  Dinner     4"
      ]
     },
     "execution_count": 99,
     "metadata": {},
     "output_type": "execute_result"
    }
   ],
   "source": [
    "# Recall our \"tips\" dataset\n",
    "tips.head(5)  # head returns the first rows od a data frame"
   ]
  },
  {
   "cell_type": "code",
   "execution_count": 100,
   "metadata": {
    "colab": {
     "base_uri": "https://localhost:8080/"
    },
    "id": "2soiasvW2GmP",
    "outputId": "0e394ac7-9bac-4a53-e1e9-deddba37ea48"
   },
   "outputs": [
    {
     "name": "stdout",
     "output_type": "stream",
     "text": [
      "(244, 7)\n",
      "RangeIndex(start=0, stop=244, step=1)\n",
      "Index(['total_bill', 'tip', 'sex', 'smoker', 'day', 'time', 'size'], dtype='object')\n"
     ]
    }
   ],
   "source": [
    "# other important attributes: name of rows and columns\n",
    "print(tips.shape)\n",
    "print(tips.index)\n",
    "print(tips.columns)"
   ]
  },
  {
   "cell_type": "markdown",
   "metadata": {
    "id": "auK1XdC729qL"
   },
   "source": [
    "To access the columns of a `DataFrame` there are two standard ways."
   ]
  },
  {
   "cell_type": "code",
   "execution_count": 101,
   "metadata": {
    "id": "5QRthrPs3C6z"
   },
   "outputs": [
    {
     "data": {
      "text/plain": [
       "0      2\n",
       "1      3\n",
       "2      3\n",
       "3      2\n",
       "4      4\n",
       "      ..\n",
       "239    3\n",
       "240    2\n",
       "241    2\n",
       "242    2\n",
       "243    2\n",
       "Name: size, Length: 244, dtype: int64"
      ]
     },
     "execution_count": 101,
     "metadata": {},
     "output_type": "execute_result"
    }
   ],
   "source": [
    "tips.tip  # As if it were a method (NOT recommended)\n",
    "tips[\"size\"]  # As if it were a named index (RECOMMENDED)"
   ]
  },
  {
   "cell_type": "markdown",
   "metadata": {
    "id": "bcQnpynH3QQO"
   },
   "source": [
    "The latter is recommended because, for example, the column `size` cannot be accessed via the first option (it would be confused with the method `.size`). The result of this operation is an object of type `Series`.\n",
    "\n",
    "We can access various columns at a time, supplying a list of columns, obtaining a dataframe with the same index as the original and columns the chosen subset."
   ]
  },
  {
   "cell_type": "code",
   "execution_count": 102,
   "metadata": {
    "id": "wITxlEzs35oY"
   },
   "outputs": [
    {
     "data": {
      "text/html": [
       "<div>\n",
       "<style scoped>\n",
       "    .dataframe tbody tr th:only-of-type {\n",
       "        vertical-align: middle;\n",
       "    }\n",
       "\n",
       "    .dataframe tbody tr th {\n",
       "        vertical-align: top;\n",
       "    }\n",
       "\n",
       "    .dataframe thead th {\n",
       "        text-align: right;\n",
       "    }\n",
       "</style>\n",
       "<table border=\"1\" class=\"dataframe\">\n",
       "  <thead>\n",
       "    <tr style=\"text-align: right;\">\n",
       "      <th></th>\n",
       "      <th>tip</th>\n",
       "      <th>size</th>\n",
       "      <th>sex</th>\n",
       "    </tr>\n",
       "  </thead>\n",
       "  <tbody>\n",
       "    <tr>\n",
       "      <th>0</th>\n",
       "      <td>1.01</td>\n",
       "      <td>2</td>\n",
       "      <td>Female</td>\n",
       "    </tr>\n",
       "    <tr>\n",
       "      <th>1</th>\n",
       "      <td>1.66</td>\n",
       "      <td>3</td>\n",
       "      <td>Male</td>\n",
       "    </tr>\n",
       "    <tr>\n",
       "      <th>2</th>\n",
       "      <td>3.50</td>\n",
       "      <td>3</td>\n",
       "      <td>Male</td>\n",
       "    </tr>\n",
       "    <tr>\n",
       "      <th>3</th>\n",
       "      <td>3.31</td>\n",
       "      <td>2</td>\n",
       "      <td>Male</td>\n",
       "    </tr>\n",
       "    <tr>\n",
       "      <th>4</th>\n",
       "      <td>3.61</td>\n",
       "      <td>4</td>\n",
       "      <td>Female</td>\n",
       "    </tr>\n",
       "  </tbody>\n",
       "</table>\n",
       "</div>"
      ],
      "text/plain": [
       "    tip  size     sex\n",
       "0  1.01     2  Female\n",
       "1  1.66     3    Male\n",
       "2  3.50     3    Male\n",
       "3  3.31     2    Male\n",
       "4  3.61     4  Female"
      ]
     },
     "execution_count": 102,
     "metadata": {},
     "output_type": "execute_result"
    }
   ],
   "source": [
    "tips[[\"tip\", \"size\", \"sex\"]].head(5)"
   ]
  },
  {
   "cell_type": "markdown",
   "metadata": {
    "id": "Tfec7agC4V7k"
   },
   "source": [
    "Similarly, you can access rows instead of columns using their index labels or `.iloc`.\n",
    "\n",
    "*   Using a list of index labels: `tips.loc[ [index1, index2, ...] ]`\n",
    "*   Using a list of integer index location (i-loc): `tips.iloc[ [integer1, integer2, ...] ]`\n",
    "\n"
   ]
  },
  {
   "cell_type": "code",
   "execution_count": 103,
   "metadata": {
    "id": "5CtOXR2Q43h4"
   },
   "outputs": [
    {
     "data": {
      "text/html": [
       "<div>\n",
       "<style scoped>\n",
       "    .dataframe tbody tr th:only-of-type {\n",
       "        vertical-align: middle;\n",
       "    }\n",
       "\n",
       "    .dataframe tbody tr th {\n",
       "        vertical-align: top;\n",
       "    }\n",
       "\n",
       "    .dataframe thead th {\n",
       "        text-align: right;\n",
       "    }\n",
       "</style>\n",
       "<table border=\"1\" class=\"dataframe\">\n",
       "  <thead>\n",
       "    <tr style=\"text-align: right;\">\n",
       "      <th></th>\n",
       "      <th>sex</th>\n",
       "      <th>smoker</th>\n",
       "    </tr>\n",
       "  </thead>\n",
       "  <tbody>\n",
       "    <tr>\n",
       "      <th>1</th>\n",
       "      <td>Male</td>\n",
       "      <td>No</td>\n",
       "    </tr>\n",
       "    <tr>\n",
       "      <th>3</th>\n",
       "      <td>Male</td>\n",
       "      <td>No</td>\n",
       "    </tr>\n",
       "  </tbody>\n",
       "</table>\n",
       "</div>"
      ],
      "text/plain": [
       "    sex smoker\n",
       "1  Male     No\n",
       "3  Male     No"
      ]
     },
     "execution_count": 103,
     "metadata": {},
     "output_type": "execute_result"
    }
   ],
   "source": [
    "# Accessing rows AND columns!\n",
    "# Example of 2-dimension loc\n",
    "tips.loc[[1, 3], ['sex', 'smoker']]"
   ]
  },
  {
   "cell_type": "code",
   "execution_count": 104,
   "metadata": {
    "colab": {
     "base_uri": "https://localhost:8080/",
     "height": 112
    },
    "id": "06lpQTrN458V",
    "outputId": "a818aca8-2bd6-4b15-ddeb-b8c97ff33ee6"
   },
   "outputs": [
    {
     "data": {
      "text/html": [
       "<div>\n",
       "<style scoped>\n",
       "    .dataframe tbody tr th:only-of-type {\n",
       "        vertical-align: middle;\n",
       "    }\n",
       "\n",
       "    .dataframe tbody tr th {\n",
       "        vertical-align: top;\n",
       "    }\n",
       "\n",
       "    .dataframe thead th {\n",
       "        text-align: right;\n",
       "    }\n",
       "</style>\n",
       "<table border=\"1\" class=\"dataframe\">\n",
       "  <thead>\n",
       "    <tr style=\"text-align: right;\">\n",
       "      <th></th>\n",
       "      <th>sex</th>\n",
       "      <th>smoker</th>\n",
       "      <th>day</th>\n",
       "    </tr>\n",
       "  </thead>\n",
       "  <tbody>\n",
       "    <tr>\n",
       "      <th>1</th>\n",
       "      <td>Male</td>\n",
       "      <td>No</td>\n",
       "      <td>Sun</td>\n",
       "    </tr>\n",
       "    <tr>\n",
       "      <th>3</th>\n",
       "      <td>Male</td>\n",
       "      <td>No</td>\n",
       "      <td>Sun</td>\n",
       "    </tr>\n",
       "  </tbody>\n",
       "</table>\n",
       "</div>"
      ],
      "text/plain": [
       "    sex smoker  day\n",
       "1  Male     No  Sun\n",
       "3  Male     No  Sun"
      ]
     },
     "execution_count": 104,
     "metadata": {},
     "output_type": "execute_result"
    }
   ],
   "source": [
    "# Accessing rows AND columns!\n",
    "# Example of 2-dimensional iloc\n",
    "tips.iloc[[1, 3], 2:5]"
   ]
  },
  {
   "cell_type": "markdown",
   "metadata": {
    "id": "723-ayPy5C6F"
   },
   "source": [
    "Note that certain operations are exchangeable: the 3rd element of column \"sex\" can be obtained with either of the following ways:"
   ]
  },
  {
   "cell_type": "code",
   "execution_count": 105,
   "metadata": {
    "id": "e4EsLKeg5D09"
   },
   "outputs": [
    {
     "data": {
      "text/plain": [
       "'Male'"
      ]
     },
     "execution_count": 105,
     "metadata": {},
     "output_type": "execute_result"
    }
   ],
   "source": [
    "tips.sex[2]  # Access col as series, then the 3rd element of that\n",
    "tips.loc[2, \"sex\"]  # Access the entry in DF by giving the index labels of row and col\n",
    "tips.loc[2][\"sex\"]  # Accessing the whole row as a series, then using the column name as index label"
   ]
  },
  {
   "cell_type": "markdown",
   "metadata": {
    "id": "rEXyZ4x55nHU"
   },
   "source": [
    "As with `Series`, we can use a boolean-valued series to filder or extract data from a `DataFrame` provided that they share the same index labels. The simplest instance of this is to use series produced as boolean masks of columns of the dataframe. The output of this *filtering* operation is a dataframe with the subset of rows for which the boolean value with the same index in the mask is `True`."
   ]
  },
  {
   "cell_type": "code",
   "execution_count": 106,
   "metadata": {
    "colab": {
     "base_uri": "https://localhost:8080/"
    },
    "id": "spJ6vg-lWEFI",
    "outputId": "64e635b2-b534-4331-c0f1-fea3f2e91112"
   },
   "outputs": [
    {
     "data": {
      "text/plain": [
       "0      False\n",
       "1       True\n",
       "2       True\n",
       "3       True\n",
       "4      False\n",
       "       ...  \n",
       "239     True\n",
       "240    False\n",
       "241     True\n",
       "242     True\n",
       "243    False\n",
       "Name: sex, Length: 244, dtype: bool"
      ]
     },
     "execution_count": 106,
     "metadata": {},
     "output_type": "execute_result"
    }
   ],
   "source": [
    "# Creates a boolean series with the same index labels as the data frame tips\n",
    "tips['sex'] == \"Male\""
   ]
  },
  {
   "cell_type": "code",
   "execution_count": 107,
   "metadata": {
    "colab": {
     "base_uri": "https://localhost:8080/",
     "height": 206
    },
    "id": "cfxb75CS5x_0",
    "outputId": "57cfbc95-22bb-43cd-ebf7-ca1d48ce98ce"
   },
   "outputs": [
    {
     "data": {
      "text/html": [
       "<div>\n",
       "<style scoped>\n",
       "    .dataframe tbody tr th:only-of-type {\n",
       "        vertical-align: middle;\n",
       "    }\n",
       "\n",
       "    .dataframe tbody tr th {\n",
       "        vertical-align: top;\n",
       "    }\n",
       "\n",
       "    .dataframe thead th {\n",
       "        text-align: right;\n",
       "    }\n",
       "</style>\n",
       "<table border=\"1\" class=\"dataframe\">\n",
       "  <thead>\n",
       "    <tr style=\"text-align: right;\">\n",
       "      <th></th>\n",
       "      <th>total_bill</th>\n",
       "      <th>tip</th>\n",
       "      <th>sex</th>\n",
       "      <th>smoker</th>\n",
       "      <th>day</th>\n",
       "      <th>time</th>\n",
       "      <th>size</th>\n",
       "    </tr>\n",
       "  </thead>\n",
       "  <tbody>\n",
       "    <tr>\n",
       "      <th>1</th>\n",
       "      <td>10.34</td>\n",
       "      <td>1.66</td>\n",
       "      <td>Male</td>\n",
       "      <td>No</td>\n",
       "      <td>Sun</td>\n",
       "      <td>Dinner</td>\n",
       "      <td>3</td>\n",
       "    </tr>\n",
       "    <tr>\n",
       "      <th>2</th>\n",
       "      <td>21.01</td>\n",
       "      <td>3.50</td>\n",
       "      <td>Male</td>\n",
       "      <td>No</td>\n",
       "      <td>Sun</td>\n",
       "      <td>Dinner</td>\n",
       "      <td>3</td>\n",
       "    </tr>\n",
       "    <tr>\n",
       "      <th>3</th>\n",
       "      <td>23.68</td>\n",
       "      <td>3.31</td>\n",
       "      <td>Male</td>\n",
       "      <td>No</td>\n",
       "      <td>Sun</td>\n",
       "      <td>Dinner</td>\n",
       "      <td>2</td>\n",
       "    </tr>\n",
       "    <tr>\n",
       "      <th>5</th>\n",
       "      <td>25.29</td>\n",
       "      <td>4.71</td>\n",
       "      <td>Male</td>\n",
       "      <td>No</td>\n",
       "      <td>Sun</td>\n",
       "      <td>Dinner</td>\n",
       "      <td>4</td>\n",
       "    </tr>\n",
       "    <tr>\n",
       "      <th>6</th>\n",
       "      <td>8.77</td>\n",
       "      <td>2.00</td>\n",
       "      <td>Male</td>\n",
       "      <td>No</td>\n",
       "      <td>Sun</td>\n",
       "      <td>Dinner</td>\n",
       "      <td>2</td>\n",
       "    </tr>\n",
       "  </tbody>\n",
       "</table>\n",
       "</div>"
      ],
      "text/plain": [
       "   total_bill   tip   sex smoker  day    time  size\n",
       "1       10.34  1.66  Male     No  Sun  Dinner     3\n",
       "2       21.01  3.50  Male     No  Sun  Dinner     3\n",
       "3       23.68  3.31  Male     No  Sun  Dinner     2\n",
       "5       25.29  4.71  Male     No  Sun  Dinner     4\n",
       "6        8.77  2.00  Male     No  Sun  Dinner     2"
      ]
     },
     "execution_count": 107,
     "metadata": {},
     "output_type": "execute_result"
    }
   ],
   "source": [
    "tips[tips['sex'] == \"Male\"].head(5)"
   ]
  },
  {
   "cell_type": "code",
   "execution_count": 108,
   "metadata": {
    "colab": {
     "base_uri": "https://localhost:8080/",
     "height": 206
    },
    "id": "UCm8O1-h7cgI",
    "outputId": "da700e13-bd71-4aeb-f45b-d046fa000681"
   },
   "outputs": [
    {
     "data": {
      "text/html": [
       "<div>\n",
       "<style scoped>\n",
       "    .dataframe tbody tr th:only-of-type {\n",
       "        vertical-align: middle;\n",
       "    }\n",
       "\n",
       "    .dataframe tbody tr th {\n",
       "        vertical-align: top;\n",
       "    }\n",
       "\n",
       "    .dataframe thead th {\n",
       "        text-align: right;\n",
       "    }\n",
       "</style>\n",
       "<table border=\"1\" class=\"dataframe\">\n",
       "  <thead>\n",
       "    <tr style=\"text-align: right;\">\n",
       "      <th></th>\n",
       "      <th>total_bill</th>\n",
       "      <th>tip</th>\n",
       "      <th>sex</th>\n",
       "      <th>smoker</th>\n",
       "      <th>day</th>\n",
       "      <th>time</th>\n",
       "      <th>size</th>\n",
       "    </tr>\n",
       "  </thead>\n",
       "  <tbody>\n",
       "    <tr>\n",
       "      <th>1</th>\n",
       "      <td>10.34</td>\n",
       "      <td>1.66</td>\n",
       "      <td>Male</td>\n",
       "      <td>No</td>\n",
       "      <td>Sun</td>\n",
       "      <td>Dinner</td>\n",
       "      <td>3</td>\n",
       "    </tr>\n",
       "    <tr>\n",
       "      <th>2</th>\n",
       "      <td>21.01</td>\n",
       "      <td>3.50</td>\n",
       "      <td>Male</td>\n",
       "      <td>No</td>\n",
       "      <td>Sun</td>\n",
       "      <td>Dinner</td>\n",
       "      <td>3</td>\n",
       "    </tr>\n",
       "    <tr>\n",
       "      <th>3</th>\n",
       "      <td>23.68</td>\n",
       "      <td>3.31</td>\n",
       "      <td>Male</td>\n",
       "      <td>No</td>\n",
       "      <td>Sun</td>\n",
       "      <td>Dinner</td>\n",
       "      <td>2</td>\n",
       "    </tr>\n",
       "    <tr>\n",
       "      <th>5</th>\n",
       "      <td>25.29</td>\n",
       "      <td>4.71</td>\n",
       "      <td>Male</td>\n",
       "      <td>No</td>\n",
       "      <td>Sun</td>\n",
       "      <td>Dinner</td>\n",
       "      <td>4</td>\n",
       "    </tr>\n",
       "    <tr>\n",
       "      <th>6</th>\n",
       "      <td>8.77</td>\n",
       "      <td>2.00</td>\n",
       "      <td>Male</td>\n",
       "      <td>No</td>\n",
       "      <td>Sun</td>\n",
       "      <td>Dinner</td>\n",
       "      <td>2</td>\n",
       "    </tr>\n",
       "  </tbody>\n",
       "</table>\n",
       "</div>"
      ],
      "text/plain": [
       "   total_bill   tip   sex smoker  day    time  size\n",
       "1       10.34  1.66  Male     No  Sun  Dinner     3\n",
       "2       21.01  3.50  Male     No  Sun  Dinner     3\n",
       "3       23.68  3.31  Male     No  Sun  Dinner     2\n",
       "5       25.29  4.71  Male     No  Sun  Dinner     4\n",
       "6        8.77  2.00  Male     No  Sun  Dinner     2"
      ]
     },
     "execution_count": 108,
     "metadata": {},
     "output_type": "execute_result"
    }
   ],
   "source": [
    "tips[(tips['sex'] == \"Male\") & (tips['day'] == \"Sun\")].head(5)  # Multiple booleans (\"&\", \"|\", \"~\")"
   ]
  },
  {
   "cell_type": "markdown",
   "metadata": {
    "id": "mRDUV-tZ6E6F"
   },
   "source": [
    "A `DataFrame` comes with several attributes/methods for computing column-wise statistics and summaries. We highlight some of them:\n",
    "\n",
    "*   `.boxplot` (check out the `by = ` option)\n",
    "*   `.corr` and `.corrwith` (within and across `DataFrame`'s)\n",
    "*   `.dot`\n",
    "*   `.mean/median/max/quantile/sum`, etc.\n",
    "*   `.sample`\n",
    "*   `.sort_values`\n",
    "*   `.unique`\n"
   ]
  },
  {
   "cell_type": "markdown",
   "metadata": {
    "id": "-S2pP_wZ9E1b"
   },
   "source": [
    "### `GroupBy`"
   ]
  },
  {
   "cell_type": "markdown",
   "metadata": {
    "id": "tVa4KXKAATQn"
   },
   "source": [
    "This `DataFrame` method groups the `DataFrame` according to the values of a column, treating them as categorical values. It returns a groupby object."
   ]
  },
  {
   "cell_type": "code",
   "execution_count": 109,
   "metadata": {
    "colab": {
     "base_uri": "https://localhost:8080/"
    },
    "id": "VORb1QlvAjuu",
    "outputId": "3729b52c-988a-496f-a354-5fdbdaa05459"
   },
   "outputs": [
    {
     "name": "stdout",
     "output_type": "stream",
     "text": [
      "<pandas.core.groupby.generic.DataFrameGroupBy object at 0x000002202D703490>\n"
     ]
    },
    {
     "data": {
      "text/plain": [
       "[(1,\n",
       "       total_bill   tip     sex smoker   day    time  size\n",
       "  67         3.07  1.00  Female    Yes   Sat  Dinner     1\n",
       "  82        10.07  1.83  Female     No  Thur   Lunch     1\n",
       "  111        7.25  1.00  Female     No   Sat  Dinner     1\n",
       "  222        8.58  1.92    Male    Yes   Fri   Lunch     1),\n",
       " (2,\n",
       "       total_bill   tip     sex smoker   day    time  size\n",
       "  0         16.99  1.01  Female     No   Sun  Dinner     2\n",
       "  3         23.68  3.31    Male     No   Sun  Dinner     2\n",
       "  6          8.77  2.00    Male     No   Sun  Dinner     2\n",
       "  8         15.04  1.96    Male     No   Sun  Dinner     2\n",
       "  9         14.78  3.23    Male     No   Sun  Dinner     2\n",
       "  ..          ...   ...     ...    ...   ...     ...   ...\n",
       "  237       32.83  1.17    Male    Yes   Sat  Dinner     2\n",
       "  240       27.18  2.00  Female    Yes   Sat  Dinner     2\n",
       "  241       22.67  2.00    Male    Yes   Sat  Dinner     2\n",
       "  242       17.82  1.75    Male     No   Sat  Dinner     2\n",
       "  243       18.78  3.00  Female     No  Thur  Dinner     2\n",
       "  \n",
       "  [156 rows x 7 columns]),\n",
       " (3,\n",
       "       total_bill    tip     sex smoker   day    time  size\n",
       "  1         10.34   1.66    Male     No   Sun  Dinner     3\n",
       "  2         21.01   3.50    Male     No   Sun  Dinner     3\n",
       "  16        10.33   1.67  Female     No   Sun  Dinner     3\n",
       "  17        16.29   3.71    Male     No   Sun  Dinner     3\n",
       "  18        16.97   3.50  Female     No   Sun  Dinner     3\n",
       "  19        20.65   3.35    Male     No   Sat  Dinner     3\n",
       "  35        24.06   3.60    Male     No   Sat  Dinner     3\n",
       "  36        16.31   2.00    Male     No   Sat  Dinner     3\n",
       "  37        16.93   3.07  Female     No   Sat  Dinner     3\n",
       "  38        18.69   2.31    Male     No   Sat  Dinner     3\n",
       "  39        31.27   5.00    Male     No   Sat  Dinner     3\n",
       "  40        16.04   2.24    Male     No   Sat  Dinner     3\n",
       "  48        28.55   2.05    Male     No   Sun  Dinner     3\n",
       "  64        17.59   2.64    Male     No   Sat  Dinner     3\n",
       "  65        20.08   3.15    Male     No   Sat  Dinner     3\n",
       "  71        17.07   3.00  Female     No   Sat  Dinner     3\n",
       "  102       44.30   2.50  Female    Yes   Sat  Dinner     3\n",
       "  112       38.07   4.00    Male     No   Sun  Dinner     3\n",
       "  114       25.71   4.00  Female     No   Sun  Dinner     3\n",
       "  129       22.82   2.18    Male     No  Thur   Lunch     3\n",
       "  146       18.64   1.36  Female     No  Thur   Lunch     3\n",
       "  152       17.26   2.74    Male     No   Sun  Dinner     3\n",
       "  162       16.21   2.00  Female     No   Sun  Dinner     3\n",
       "  165       24.52   3.48    Male     No   Sun  Dinner     3\n",
       "  170       50.81  10.00    Male    Yes   Sat  Dinner     3\n",
       "  182       45.35   3.50    Male    Yes   Sun  Dinner     3\n",
       "  186       20.90   3.50  Female    Yes   Sun  Dinner     3\n",
       "  188       18.15   3.50  Female    Yes   Sun  Dinner     3\n",
       "  189       23.10   4.00    Male    Yes   Sun  Dinner     3\n",
       "  200       18.71   4.00    Male    Yes  Thur   Lunch     3\n",
       "  205       16.47   3.23  Female    Yes  Thur   Lunch     3\n",
       "  206       26.59   3.41    Male    Yes   Sat  Dinner     3\n",
       "  210       30.06   2.00    Male    Yes   Sat  Dinner     3\n",
       "  214       28.17   6.50  Female    Yes   Sat  Dinner     3\n",
       "  223       15.98   3.00  Female     No   Fri   Lunch     3\n",
       "  231       15.69   3.00    Male    Yes   Sat  Dinner     3\n",
       "  238       35.83   4.67  Female     No   Sat  Dinner     3\n",
       "  239       29.03   5.92    Male     No   Sat  Dinner     3),\n",
       " (4,\n",
       "       total_bill   tip     sex smoker   day    time  size\n",
       "  4         24.59  3.61  Female     No   Sun  Dinner     4\n",
       "  5         25.29  4.71    Male     No   Sun  Dinner     4\n",
       "  7         26.88  3.12    Male     No   Sun  Dinner     4\n",
       "  11        35.26  5.00  Female     No   Sun  Dinner     4\n",
       "  13        18.43  3.00    Male     No   Sun  Dinner     4\n",
       "  23        39.42  7.58    Male     No   Sat  Dinner     4\n",
       "  25        17.81  2.34    Male     No   Sat  Dinner     4\n",
       "  31        18.35  2.50    Male     No   Sat  Dinner     4\n",
       "  33        20.69  2.45  Female     No   Sat  Dinner     4\n",
       "  44        30.40  5.60    Male     No   Sun  Dinner     4\n",
       "  47        32.40  6.00    Male     No   Sun  Dinner     4\n",
       "  52        34.81  5.20  Female     No   Sun  Dinner     4\n",
       "  54        25.56  4.34    Male     No   Sun  Dinner     4\n",
       "  56        38.01  3.00    Male    Yes   Sat  Dinner     4\n",
       "  59        48.27  6.73    Male     No   Sat  Dinner     4\n",
       "  63        18.29  3.76    Male    Yes   Sat  Dinner     4\n",
       "  77        27.20  4.00    Male     No  Thur   Lunch     4\n",
       "  85        34.83  5.17  Female     No  Thur   Lunch     4\n",
       "  95        40.17  4.73    Male    Yes   Fri  Dinner     4\n",
       "  116       29.93  5.07    Male     No   Sun  Dinner     4\n",
       "  119       24.08  2.92  Female     No  Thur   Lunch     4\n",
       "  153       24.55  2.00    Male     No   Sun  Dinner     4\n",
       "  154       19.77  2.00    Male     No   Sun  Dinner     4\n",
       "  157       25.00  3.75  Female     No   Sun  Dinner     4\n",
       "  159       16.49  2.00    Male     No   Sun  Dinner     4\n",
       "  160       21.50  3.50    Male     No   Sun  Dinner     4\n",
       "  167       31.71  4.50    Male     No   Sun  Dinner     4\n",
       "  180       34.65  3.68    Male    Yes   Sun  Dinner     4\n",
       "  183       23.17  6.50    Male    Yes   Sun  Dinner     4\n",
       "  197       43.11  5.00  Female    Yes  Thur   Lunch     4\n",
       "  204       20.53  4.00    Male    Yes  Thur   Lunch     4\n",
       "  207       38.73  3.00    Male    Yes   Sat  Dinner     4\n",
       "  211       25.89  5.16    Male    Yes   Sat  Dinner     4\n",
       "  212       48.33  9.00    Male     No   Sat  Dinner     4\n",
       "  219       30.14  3.09  Female    Yes   Sat  Dinner     4\n",
       "  227       20.45  3.00    Male     No   Sat  Dinner     4\n",
       "  230       24.01  2.00    Male    Yes   Sat  Dinner     4),\n",
       " (5,\n",
       "       total_bill   tip     sex smoker   day    time  size\n",
       "  142       41.19  5.00    Male     No  Thur   Lunch     5\n",
       "  155       29.85  5.14  Female     No   Sun  Dinner     5\n",
       "  185       20.69  5.00    Male     No   Sun  Dinner     5\n",
       "  187       30.46  2.00    Male    Yes   Sun  Dinner     5\n",
       "  216       28.15  3.00    Male    Yes   Sat  Dinner     5),\n",
       " (6,\n",
       "       total_bill  tip     sex smoker   day    time  size\n",
       "  125       29.80  4.2  Female     No  Thur   Lunch     6\n",
       "  141       34.30  6.7    Male     No  Thur   Lunch     6\n",
       "  143       27.05  5.0  Female     No  Thur   Lunch     6\n",
       "  156       48.17  5.0    Male     No   Sun  Dinner     6)]"
      ]
     },
     "execution_count": 109,
     "metadata": {},
     "output_type": "execute_result"
    }
   ],
   "source": [
    "# Group tips DataFrame by size of table\n",
    "by_size = tips.groupby(\"size\")\n",
    "print(by_size)\n",
    "\n",
    "# If we coerce it to a list, we see something interesting: \n",
    "# it's basically a list of tuples\n",
    "# The first element is the \"category\" variable, the second\n",
    "# is a datafame. \n",
    "list(by_size)"
   ]
  },
  {
   "cell_type": "code",
   "execution_count": 110,
   "metadata": {
    "colab": {
     "base_uri": "https://localhost:8080/"
    },
    "id": "duXyLLnzBJsa",
    "outputId": "aaa9e2b9-c8e1-43a6-e302-0098ba6c237f"
   },
   "outputs": [
    {
     "data": {
      "text/plain": [
       "[('Female',\n",
       "       total_bill   tip     sex smoker   day    time  size\n",
       "  0         16.99  1.01  Female     No   Sun  Dinner     2\n",
       "  4         24.59  3.61  Female     No   Sun  Dinner     4\n",
       "  11        35.26  5.00  Female     No   Sun  Dinner     4\n",
       "  14        14.83  3.02  Female     No   Sun  Dinner     2\n",
       "  16        10.33  1.67  Female     No   Sun  Dinner     3\n",
       "  ..          ...   ...     ...    ...   ...     ...   ...\n",
       "  226       10.09  2.00  Female    Yes   Fri   Lunch     2\n",
       "  229       22.12  2.88  Female    Yes   Sat  Dinner     2\n",
       "  238       35.83  4.67  Female     No   Sat  Dinner     3\n",
       "  240       27.18  2.00  Female    Yes   Sat  Dinner     2\n",
       "  243       18.78  3.00  Female     No  Thur  Dinner     2\n",
       "  \n",
       "  [87 rows x 7 columns]),\n",
       " ('Male',\n",
       "       total_bill   tip   sex smoker  day    time  size\n",
       "  1         10.34  1.66  Male     No  Sun  Dinner     3\n",
       "  2         21.01  3.50  Male     No  Sun  Dinner     3\n",
       "  3         23.68  3.31  Male     No  Sun  Dinner     2\n",
       "  5         25.29  4.71  Male     No  Sun  Dinner     4\n",
       "  6          8.77  2.00  Male     No  Sun  Dinner     2\n",
       "  ..          ...   ...   ...    ...  ...     ...   ...\n",
       "  236       12.60  1.00  Male    Yes  Sat  Dinner     2\n",
       "  237       32.83  1.17  Male    Yes  Sat  Dinner     2\n",
       "  239       29.03  5.92  Male     No  Sat  Dinner     3\n",
       "  241       22.67  2.00  Male    Yes  Sat  Dinner     2\n",
       "  242       17.82  1.75  Male     No  Sat  Dinner     2\n",
       "  \n",
       "  [157 rows x 7 columns])]"
      ]
     },
     "execution_count": 110,
     "metadata": {},
     "output_type": "execute_result"
    }
   ],
   "source": [
    "list(tips.groupby(\"sex\"))"
   ]
  },
  {
   "cell_type": "code",
   "execution_count": 160,
   "metadata": {
    "colab": {
     "base_uri": "https://localhost:8080/"
    },
    "id": "-R7wbSOKBSDV",
    "outputId": "3ac04e9d-482b-4c7d-cf36-a8925e3a4d07"
   },
   "outputs": [
    {
     "name": "stdout",
     "output_type": "stream",
     "text": [
      "Female\n",
      "total_bill    18.056897\n",
      "tip            2.833448\n",
      "size           2.459770\n",
      "dtype: float64\n",
      "Male\n",
      "total_bill    20.744076\n",
      "tip            3.089618\n",
      "size           2.630573\n",
      "dtype: float64\n"
     ]
    }
   ],
   "source": [
    "# We can iterate through the groupby just like we would though a list of tuples!\n",
    "for sex, data in tips.groupby(\"sex\"):\n",
    "    print(sex)\n",
    "    print(data[['total_bill','tip','size']].mean())\n"
   ]
  },
  {
   "cell_type": "markdown",
   "metadata": {
    "id": "2XNww55FCCxr"
   },
   "source": [
    "We `groupby` to perform some operation on each group, that is to *map* over the groups. Very often this function is itself an aggregation (*reduction*). We want to somehow aggregate each group into a value or set of values that *describe* it.\n",
    "\n",
    "To apply functions to each element of a `groupby`, we use `.apply`:\n"
   ]
  },
  {
   "cell_type": "code",
   "execution_count": 112,
   "metadata": {
    "id": "LIH-cDcYCwuC"
   },
   "outputs": [
    {
     "data": {
      "text/plain": [
       "sex\n",
       "Female    44.30\n",
       "Male      50.81\n",
       "dtype: float64"
      ]
     },
     "execution_count": 112,
     "metadata": {},
     "output_type": "execute_result"
    }
   ],
   "source": [
    "# Get the maximum bill by gender: \n",
    "def max_bill(df):\n",
    "    return df['total_bill'].max()\n",
    "\n",
    "tips.groupby(\"sex\").apply(max_bill)"
   ]
  },
  {
   "cell_type": "markdown",
   "metadata": {
    "id": "15Yt4Yf_C835"
   },
   "source": [
    "Many aggregation functions that exist on `Series` and `DataFrames` (`mean`, `max`, `min`, etc.) can be called directly on the groupby object:"
   ]
  },
  {
   "cell_type": "code",
   "execution_count": 113,
   "metadata": {
    "id": "vtxi5Y5_DEBW"
   },
   "outputs": [
    {
     "name": "stdout",
     "output_type": "stream",
     "text": [
      "        total_bill   tip smoker   day   time  size\n",
      "sex                                               \n",
      "Female       44.30   6.5    Yes  Thur  Lunch     6\n",
      "Male         50.81  10.0    Yes  Thur  Lunch     6\n",
      "        total_bill       tip      size\n",
      "sex                                   \n",
      "Female   18.056897  2.833448  2.459770\n",
      "Male     20.744076  3.089618  2.630573\n"
     ]
    }
   ],
   "source": [
    "print(tips.groupby(\"sex\").max())\n",
    "print(tips.groupby(\"sex\").mean())"
   ]
  },
  {
   "cell_type": "markdown",
   "metadata": {
    "id": "eehSz5mJDbrV"
   },
   "source": [
    "We can `groupby` more than one column:"
   ]
  },
  {
   "cell_type": "code",
   "execution_count": 114,
   "metadata": {
    "id": "tOfKlZvkDavP"
   },
   "outputs": [
    {
     "data": {
      "text/plain": [
       "sex     day \n",
       "Female  Fri     2.781111\n",
       "        Sat     2.801786\n",
       "        Sun     3.367222\n",
       "        Thur    2.575625\n",
       "Male    Fri     2.693000\n",
       "        Sat     3.083898\n",
       "        Sun     3.220345\n",
       "        Thur    2.980333\n",
       "Name: tip, dtype: float64"
      ]
     },
     "execution_count": 114,
     "metadata": {},
     "output_type": "execute_result"
    }
   ],
   "source": [
    "tips.groupby([\"sex\", \"day\"])['tip'].mean()"
   ]
  },
  {
   "cell_type": "markdown",
   "metadata": {
    "id": "gkOY2q1Q9IFr"
   },
   "source": [
    "### Combining `DataFrame`'s"
   ]
  },
  {
   "cell_type": "markdown",
   "metadata": {
    "id": "nBvPJzomEJ-u"
   },
   "source": [
    "There are many ways to combine various `DataFrame`'s into a new one, extending in many ways what we already saw for operations on `Series`. The main ways of doing this are:\n",
    "\n",
    "*   **Concatenating**: pasting row-wise or column-wise and taking action on `NaN`s (this works more on the rectangular structure of the data)\n",
    "*   **Merging**: combining `DataFrame`'s using a common piece of information, e.g. an identifier column (this works more as a database operation)\n",
    "\n"
   ]
  },
  {
   "cell_type": "markdown",
   "metadata": {
    "id": "SlJ1dEZCmU4G"
   },
   "source": [
    "**Concatenate**"
   ]
  },
  {
   "cell_type": "code",
   "execution_count": 115,
   "metadata": {
    "colab": {
     "base_uri": "https://localhost:8080/",
     "height": 175
    },
    "id": "j4kHvoGOHxNL",
    "outputId": "0302088e-6f47-4390-d098-478145d95600"
   },
   "outputs": [
    {
     "data": {
      "text/html": [
       "<div>\n",
       "<style scoped>\n",
       "    .dataframe tbody tr th:only-of-type {\n",
       "        vertical-align: middle;\n",
       "    }\n",
       "\n",
       "    .dataframe tbody tr th {\n",
       "        vertical-align: top;\n",
       "    }\n",
       "\n",
       "    .dataframe thead th {\n",
       "        text-align: right;\n",
       "    }\n",
       "</style>\n",
       "<table border=\"1\" class=\"dataframe\">\n",
       "  <thead>\n",
       "    <tr style=\"text-align: right;\">\n",
       "      <th></th>\n",
       "      <th>A</th>\n",
       "      <th>B</th>\n",
       "      <th>C</th>\n",
       "    </tr>\n",
       "  </thead>\n",
       "  <tbody>\n",
       "    <tr>\n",
       "      <th>0</th>\n",
       "      <td>1</td>\n",
       "      <td>4.0</td>\n",
       "      <td>NaN</td>\n",
       "    </tr>\n",
       "    <tr>\n",
       "      <th>1</th>\n",
       "      <td>2</td>\n",
       "      <td>5.0</td>\n",
       "      <td>NaN</td>\n",
       "    </tr>\n",
       "    <tr>\n",
       "      <th>2</th>\n",
       "      <td>3</td>\n",
       "      <td>6.0</td>\n",
       "      <td>NaN</td>\n",
       "    </tr>\n",
       "    <tr>\n",
       "      <th>0</th>\n",
       "      <td>4</td>\n",
       "      <td>NaN</td>\n",
       "      <td>7.0</td>\n",
       "    </tr>\n",
       "  </tbody>\n",
       "</table>\n",
       "</div>"
      ],
      "text/plain": [
       "   A    B    C\n",
       "0  1  4.0  NaN\n",
       "1  2  5.0  NaN\n",
       "2  3  6.0  NaN\n",
       "0  4  NaN  7.0"
      ]
     },
     "execution_count": 115,
     "metadata": {},
     "output_type": "execute_result"
    }
   ],
   "source": [
    "# Concatenate\n",
    "df1 = pd.DataFrame({\"A\": pd.Series([1, 2, 3]), \"B\": pd.Series([4, 5, 6])})\n",
    "df2 = pd.DataFrame({\"A\": pd.Series([4]), \"C\": pd.Series([7])})\n",
    "pd.concat([df1, df2], axis = 0)\n",
    "# axis: 0 for pasting below, 1 for pasting on the side"
   ]
  },
  {
   "cell_type": "markdown",
   "metadata": {
    "id": "edoVaKqGmG04"
   },
   "source": [
    "Concatenation is mostly used when the rows index or columns index is shared.  \n",
    "For example, you might have data with the same columns and want to concatenate them on axis 0:"
   ]
  },
  {
   "cell_type": "code",
   "execution_count": 116,
   "metadata": {
    "colab": {
     "base_uri": "https://localhost:8080/",
     "height": 175
    },
    "id": "bKtAAPjHIsSE",
    "outputId": "381508ef-182b-41e9-803c-2d4c2e3b940c"
   },
   "outputs": [
    {
     "data": {
      "text/html": [
       "<div>\n",
       "<style scoped>\n",
       "    .dataframe tbody tr th:only-of-type {\n",
       "        vertical-align: middle;\n",
       "    }\n",
       "\n",
       "    .dataframe tbody tr th {\n",
       "        vertical-align: top;\n",
       "    }\n",
       "\n",
       "    .dataframe thead th {\n",
       "        text-align: right;\n",
       "    }\n",
       "</style>\n",
       "<table border=\"1\" class=\"dataframe\">\n",
       "  <thead>\n",
       "    <tr style=\"text-align: right;\">\n",
       "      <th></th>\n",
       "      <th>A</th>\n",
       "      <th>B</th>\n",
       "    </tr>\n",
       "  </thead>\n",
       "  <tbody>\n",
       "    <tr>\n",
       "      <th>0</th>\n",
       "      <td>1</td>\n",
       "      <td>4</td>\n",
       "    </tr>\n",
       "    <tr>\n",
       "      <th>1</th>\n",
       "      <td>2</td>\n",
       "      <td>5</td>\n",
       "    </tr>\n",
       "    <tr>\n",
       "      <th>2</th>\n",
       "      <td>3</td>\n",
       "      <td>6</td>\n",
       "    </tr>\n",
       "    <tr>\n",
       "      <th>0</th>\n",
       "      <td>4</td>\n",
       "      <td>7</td>\n",
       "    </tr>\n",
       "  </tbody>\n",
       "</table>\n",
       "</div>"
      ],
      "text/plain": [
       "   A  B\n",
       "0  1  4\n",
       "1  2  5\n",
       "2  3  6\n",
       "0  4  7"
      ]
     },
     "execution_count": 116,
     "metadata": {},
     "output_type": "execute_result"
    }
   ],
   "source": [
    "df1 = pd.DataFrame({\"A\": pd.Series([1, 2, 3]), \"B\": pd.Series([4, 5, 6])})\n",
    "df2 = pd.DataFrame({\"A\": pd.Series([4]), \"B\": pd.Series([7])})\n",
    "df3 = pd.concat([df1, df2], axis = 0)\n",
    "df3"
   ]
  },
  {
   "cell_type": "markdown",
   "metadata": {
    "id": "sCIe_ziLl2zH"
   },
   "source": [
    "Note what happened to the index of our concatenated dataframe above: we might want to reset it."
   ]
  },
  {
   "cell_type": "code",
   "execution_count": 117,
   "metadata": {
    "colab": {
     "base_uri": "https://localhost:8080/",
     "height": 175
    },
    "id": "gRNvjza7l3Wj",
    "outputId": "eade77af-4ae3-44dc-aebe-3cd111da6b7a"
   },
   "outputs": [
    {
     "data": {
      "text/html": [
       "<div>\n",
       "<style scoped>\n",
       "    .dataframe tbody tr th:only-of-type {\n",
       "        vertical-align: middle;\n",
       "    }\n",
       "\n",
       "    .dataframe tbody tr th {\n",
       "        vertical-align: top;\n",
       "    }\n",
       "\n",
       "    .dataframe thead th {\n",
       "        text-align: right;\n",
       "    }\n",
       "</style>\n",
       "<table border=\"1\" class=\"dataframe\">\n",
       "  <thead>\n",
       "    <tr style=\"text-align: right;\">\n",
       "      <th></th>\n",
       "      <th>index</th>\n",
       "      <th>A</th>\n",
       "      <th>B</th>\n",
       "    </tr>\n",
       "  </thead>\n",
       "  <tbody>\n",
       "    <tr>\n",
       "      <th>0</th>\n",
       "      <td>0</td>\n",
       "      <td>1</td>\n",
       "      <td>4</td>\n",
       "    </tr>\n",
       "    <tr>\n",
       "      <th>1</th>\n",
       "      <td>1</td>\n",
       "      <td>2</td>\n",
       "      <td>5</td>\n",
       "    </tr>\n",
       "    <tr>\n",
       "      <th>2</th>\n",
       "      <td>2</td>\n",
       "      <td>3</td>\n",
       "      <td>6</td>\n",
       "    </tr>\n",
       "    <tr>\n",
       "      <th>3</th>\n",
       "      <td>0</td>\n",
       "      <td>4</td>\n",
       "      <td>7</td>\n",
       "    </tr>\n",
       "  </tbody>\n",
       "</table>\n",
       "</div>"
      ],
      "text/plain": [
       "   index  A  B\n",
       "0      0  1  4\n",
       "1      1  2  5\n",
       "2      2  3  6\n",
       "3      0  4  7"
      ]
     },
     "execution_count": 117,
     "metadata": {},
     "output_type": "execute_result"
    }
   ],
   "source": [
    "df3.reset_index()"
   ]
  },
  {
   "cell_type": "markdown",
   "metadata": {
    "id": "p8OIEKm6mLvr"
   },
   "source": [
    "Similarly, you might have data with the same rows and different columns:"
   ]
  },
  {
   "cell_type": "code",
   "execution_count": 118,
   "metadata": {
    "colab": {
     "base_uri": "https://localhost:8080/",
     "height": 143
    },
    "id": "R6mehnrOIuKC",
    "outputId": "a8f5fcd9-b96a-48c1-f683-2cda5a49f603"
   },
   "outputs": [
    {
     "data": {
      "text/html": [
       "<div>\n",
       "<style scoped>\n",
       "    .dataframe tbody tr th:only-of-type {\n",
       "        vertical-align: middle;\n",
       "    }\n",
       "\n",
       "    .dataframe tbody tr th {\n",
       "        vertical-align: top;\n",
       "    }\n",
       "\n",
       "    .dataframe thead th {\n",
       "        text-align: right;\n",
       "    }\n",
       "</style>\n",
       "<table border=\"1\" class=\"dataframe\">\n",
       "  <thead>\n",
       "    <tr style=\"text-align: right;\">\n",
       "      <th></th>\n",
       "      <th>A</th>\n",
       "      <th>B</th>\n",
       "      <th>C</th>\n",
       "      <th>D</th>\n",
       "    </tr>\n",
       "  </thead>\n",
       "  <tbody>\n",
       "    <tr>\n",
       "      <th>0</th>\n",
       "      <td>1</td>\n",
       "      <td>4</td>\n",
       "      <td>4</td>\n",
       "      <td>7</td>\n",
       "    </tr>\n",
       "    <tr>\n",
       "      <th>1</th>\n",
       "      <td>2</td>\n",
       "      <td>5</td>\n",
       "      <td>5</td>\n",
       "      <td>12</td>\n",
       "    </tr>\n",
       "    <tr>\n",
       "      <th>2</th>\n",
       "      <td>3</td>\n",
       "      <td>6</td>\n",
       "      <td>8</td>\n",
       "      <td>1</td>\n",
       "    </tr>\n",
       "  </tbody>\n",
       "</table>\n",
       "</div>"
      ],
      "text/plain": [
       "   A  B  C   D\n",
       "0  1  4  4   7\n",
       "1  2  5  5  12\n",
       "2  3  6  8   1"
      ]
     },
     "execution_count": 118,
     "metadata": {},
     "output_type": "execute_result"
    }
   ],
   "source": [
    "df1 = pd.DataFrame({\"A\": pd.Series([1, 2, 3]), \"B\": pd.Series([4, 5, 6])})\n",
    "df2 = pd.DataFrame({\"C\": pd.Series([4,5,8]), \"D\": pd.Series([7,12,1])})\n",
    "pd.concat([df1, df2], axis = 1)"
   ]
  },
  {
   "cell_type": "markdown",
   "metadata": {
    "id": "Luvt5U2fmPSp"
   },
   "source": [
    "Note what happens if the rows do not align, and you concatenate on axis 1 (by rows):"
   ]
  },
  {
   "cell_type": "code",
   "execution_count": 119,
   "metadata": {
    "colab": {
     "base_uri": "https://localhost:8080/",
     "height": 143
    },
    "id": "Unn6_1LiIwb_",
    "outputId": "e705d9b2-8305-416f-c446-c5e3ac7f5767"
   },
   "outputs": [
    {
     "data": {
      "text/html": [
       "<div>\n",
       "<style scoped>\n",
       "    .dataframe tbody tr th:only-of-type {\n",
       "        vertical-align: middle;\n",
       "    }\n",
       "\n",
       "    .dataframe tbody tr th {\n",
       "        vertical-align: top;\n",
       "    }\n",
       "\n",
       "    .dataframe thead th {\n",
       "        text-align: right;\n",
       "    }\n",
       "</style>\n",
       "<table border=\"1\" class=\"dataframe\">\n",
       "  <thead>\n",
       "    <tr style=\"text-align: right;\">\n",
       "      <th></th>\n",
       "      <th>A</th>\n",
       "      <th>B</th>\n",
       "      <th>C</th>\n",
       "      <th>D</th>\n",
       "    </tr>\n",
       "  </thead>\n",
       "  <tbody>\n",
       "    <tr>\n",
       "      <th>0</th>\n",
       "      <td>1</td>\n",
       "      <td>4</td>\n",
       "      <td>7.0</td>\n",
       "      <td>10.0</td>\n",
       "    </tr>\n",
       "    <tr>\n",
       "      <th>1</th>\n",
       "      <td>2</td>\n",
       "      <td>5</td>\n",
       "      <td>NaN</td>\n",
       "      <td>NaN</td>\n",
       "    </tr>\n",
       "    <tr>\n",
       "      <th>2</th>\n",
       "      <td>3</td>\n",
       "      <td>6</td>\n",
       "      <td>NaN</td>\n",
       "      <td>NaN</td>\n",
       "    </tr>\n",
       "  </tbody>\n",
       "</table>\n",
       "</div>"
      ],
      "text/plain": [
       "   A  B    C     D\n",
       "0  1  4  7.0  10.0\n",
       "1  2  5  NaN   NaN\n",
       "2  3  6  NaN   NaN"
      ]
     },
     "execution_count": 119,
     "metadata": {},
     "output_type": "execute_result"
    }
   ],
   "source": [
    "df1 = pd.DataFrame({\"A\": pd.Series([1, 2, 3]), \"B\": pd.Series([4, 5, 6])})\n",
    "df2 = pd.DataFrame({\"C\": pd.Series([7]), \"D\": pd.Series([10])})\n",
    "pd.concat([df1, df2], axis = 1)"
   ]
  },
  {
   "cell_type": "markdown",
   "metadata": {
    "id": "QtPNrlieYBAH"
   },
   "source": [
    "Taking action on `NaN`s that may appear as a results of `concat` is done by specifying the `join` argument to `inner` or `outer` (defaults to `outer`)."
   ]
  },
  {
   "cell_type": "code",
   "execution_count": 120,
   "metadata": {
    "colab": {
     "base_uri": "https://localhost:8080/"
    },
    "id": "82iO002oIZUH",
    "outputId": "78695d22-3c2f-40bf-8a79-c0dc5f3f21ae"
   },
   "outputs": [
    {
     "name": "stdout",
     "output_type": "stream",
     "text": [
      "   A  B    A    C\n",
      "0  1  4  4.0  7.0\n",
      "1  2  5  NaN  NaN\n",
      "2  3  6  NaN  NaN\n",
      "   A  B  A  C\n",
      "0  1  4  4  7\n"
     ]
    }
   ],
   "source": [
    "df1 = pd.DataFrame({\"A\": pd.Series([1, 2, 3]), \"B\": pd.Series([4, 5, 6])})\n",
    "df2 = pd.DataFrame({\"A\": pd.Series([4]), \"C\": pd.Series([7])})\n",
    "print(pd.concat([df1, df2], axis = 1, join = \"outer\"))  # \"outer\" join\n",
    "print(pd.concat([df1, df2], axis = 1, join = \"inner\"))  # \"inner\" join"
   ]
  },
  {
   "cell_type": "markdown",
   "metadata": {
    "id": "PevCO_pGmYxp"
   },
   "source": [
    "**Merge**"
   ]
  },
  {
   "cell_type": "markdown",
   "metadata": {
    "id": "xR2E9PJFJLmL"
   },
   "source": [
    "`merge` is commonly used when your two `DataFrame`'s are connected but do not share an index or columns. With merge we will connect two `DataFrame`s on some common piece of information, e.g. a common column. To tell `merge` what to do with `NaN`'s we specify a type of `join`, just as with `concat`. There are four types of `join` operations:\n",
    "\n",
    "*   `inner`-join: **intersection** of *keys*\n",
    "*   `outer`-join: **union** of *keys*\n",
    "*   `left`-join: use *keys* from **left only**\n",
    "*   `right`-join: use *keys* from **right only**"
   ]
  },
  {
   "cell_type": "code",
   "execution_count": 121,
   "metadata": {
    "colab": {
     "base_uri": "https://localhost:8080/"
    },
    "id": "6JJSujTHmsWq",
    "outputId": "05baacbf-453d-44de-fd77-87a96aa3dd11"
   },
   "outputs": [
    {
     "name": "stdout",
     "output_type": "stream",
     "text": [
      "   A  B\n",
      "0  1  4\n",
      "1  2  5\n",
      "2  3  6\n",
      "\n",
      "\n",
      "   A  C\n",
      "0  3  7\n",
      "1  4  8\n"
     ]
    }
   ],
   "source": [
    "df1 = pd.DataFrame({\"A\": pd.Series([1, 2, 3]), \"B\": pd.Series([4, 5, 6])})\n",
    "df2 = pd.DataFrame({\"A\": pd.Series([3, 4]), \"C\": pd.Series([7, 8])})\n",
    "print(df1)\n",
    "print('\\n')\n",
    "print(df2)"
   ]
  },
  {
   "cell_type": "code",
   "execution_count": 122,
   "metadata": {
    "colab": {
     "base_uri": "https://localhost:8080/",
     "height": 112
    },
    "id": "46tt1Z1tJLUP",
    "outputId": "b7ed4e6f-9ffb-424d-8c2d-9710de23a9d1"
   },
   "outputs": [
    {
     "data": {
      "text/html": [
       "<div>\n",
       "<style scoped>\n",
       "    .dataframe tbody tr th:only-of-type {\n",
       "        vertical-align: middle;\n",
       "    }\n",
       "\n",
       "    .dataframe tbody tr th {\n",
       "        vertical-align: top;\n",
       "    }\n",
       "\n",
       "    .dataframe thead th {\n",
       "        text-align: right;\n",
       "    }\n",
       "</style>\n",
       "<table border=\"1\" class=\"dataframe\">\n",
       "  <thead>\n",
       "    <tr style=\"text-align: right;\">\n",
       "      <th></th>\n",
       "      <th>A</th>\n",
       "      <th>B</th>\n",
       "      <th>C</th>\n",
       "    </tr>\n",
       "  </thead>\n",
       "  <tbody>\n",
       "    <tr>\n",
       "      <th>0</th>\n",
       "      <td>3</td>\n",
       "      <td>6.0</td>\n",
       "      <td>7</td>\n",
       "    </tr>\n",
       "    <tr>\n",
       "      <th>1</th>\n",
       "      <td>4</td>\n",
       "      <td>NaN</td>\n",
       "      <td>8</td>\n",
       "    </tr>\n",
       "  </tbody>\n",
       "</table>\n",
       "</div>"
      ],
      "text/plain": [
       "   A    B  C\n",
       "0  3  6.0  7\n",
       "1  4  NaN  8"
      ]
     },
     "execution_count": 122,
     "metadata": {},
     "output_type": "execute_result"
    }
   ],
   "source": [
    "# Merging, \"on\" defines on what piece of information the DataFrame's will merge\n",
    "pd.merge(df1, df2, on = 'A', how = 'right')  # if column names differ, use \"left_on\" and \"right_on\""
   ]
  },
  {
   "cell_type": "code",
   "execution_count": 123,
   "metadata": {
    "colab": {
     "base_uri": "https://localhost:8080/",
     "height": 143
    },
    "id": "j0gJRMeMJ0gr",
    "outputId": "8e019407-f274-4e45-bb67-1f800df8e049"
   },
   "outputs": [
    {
     "data": {
      "text/html": [
       "<div>\n",
       "<style scoped>\n",
       "    .dataframe tbody tr th:only-of-type {\n",
       "        vertical-align: middle;\n",
       "    }\n",
       "\n",
       "    .dataframe tbody tr th {\n",
       "        vertical-align: top;\n",
       "    }\n",
       "\n",
       "    .dataframe thead th {\n",
       "        text-align: right;\n",
       "    }\n",
       "</style>\n",
       "<table border=\"1\" class=\"dataframe\">\n",
       "  <thead>\n",
       "    <tr style=\"text-align: right;\">\n",
       "      <th></th>\n",
       "      <th>A</th>\n",
       "      <th>B</th>\n",
       "      <th>C</th>\n",
       "    </tr>\n",
       "  </thead>\n",
       "  <tbody>\n",
       "    <tr>\n",
       "      <th>0</th>\n",
       "      <td>1</td>\n",
       "      <td>4</td>\n",
       "      <td>NaN</td>\n",
       "    </tr>\n",
       "    <tr>\n",
       "      <th>1</th>\n",
       "      <td>2</td>\n",
       "      <td>5</td>\n",
       "      <td>NaN</td>\n",
       "    </tr>\n",
       "    <tr>\n",
       "      <th>2</th>\n",
       "      <td>3</td>\n",
       "      <td>6</td>\n",
       "      <td>7.0</td>\n",
       "    </tr>\n",
       "  </tbody>\n",
       "</table>\n",
       "</div>"
      ],
      "text/plain": [
       "   A  B    C\n",
       "0  1  4  NaN\n",
       "1  2  5  NaN\n",
       "2  3  6  7.0"
      ]
     },
     "execution_count": 123,
     "metadata": {},
     "output_type": "execute_result"
    }
   ],
   "source": [
    "pd.merge(df1, df2, on = 'A', how = 'left')"
   ]
  },
  {
   "cell_type": "code",
   "execution_count": 124,
   "metadata": {
    "colab": {
     "base_uri": "https://localhost:8080/",
     "height": 175
    },
    "id": "U103WteCJ09k",
    "outputId": "cff1f2b9-56ca-4789-c341-022cbe6c35ff"
   },
   "outputs": [
    {
     "data": {
      "text/html": [
       "<div>\n",
       "<style scoped>\n",
       "    .dataframe tbody tr th:only-of-type {\n",
       "        vertical-align: middle;\n",
       "    }\n",
       "\n",
       "    .dataframe tbody tr th {\n",
       "        vertical-align: top;\n",
       "    }\n",
       "\n",
       "    .dataframe thead th {\n",
       "        text-align: right;\n",
       "    }\n",
       "</style>\n",
       "<table border=\"1\" class=\"dataframe\">\n",
       "  <thead>\n",
       "    <tr style=\"text-align: right;\">\n",
       "      <th></th>\n",
       "      <th>A</th>\n",
       "      <th>B</th>\n",
       "      <th>C</th>\n",
       "    </tr>\n",
       "  </thead>\n",
       "  <tbody>\n",
       "    <tr>\n",
       "      <th>0</th>\n",
       "      <td>1</td>\n",
       "      <td>4.0</td>\n",
       "      <td>NaN</td>\n",
       "    </tr>\n",
       "    <tr>\n",
       "      <th>1</th>\n",
       "      <td>2</td>\n",
       "      <td>5.0</td>\n",
       "      <td>NaN</td>\n",
       "    </tr>\n",
       "    <tr>\n",
       "      <th>2</th>\n",
       "      <td>3</td>\n",
       "      <td>6.0</td>\n",
       "      <td>7.0</td>\n",
       "    </tr>\n",
       "    <tr>\n",
       "      <th>3</th>\n",
       "      <td>4</td>\n",
       "      <td>NaN</td>\n",
       "      <td>8.0</td>\n",
       "    </tr>\n",
       "  </tbody>\n",
       "</table>\n",
       "</div>"
      ],
      "text/plain": [
       "   A    B    C\n",
       "0  1  4.0  NaN\n",
       "1  2  5.0  NaN\n",
       "2  3  6.0  7.0\n",
       "3  4  NaN  8.0"
      ]
     },
     "execution_count": 124,
     "metadata": {},
     "output_type": "execute_result"
    }
   ],
   "source": [
    "pd.merge(df1, df2, on = 'A', how = 'outer')"
   ]
  },
  {
   "cell_type": "code",
   "execution_count": 125,
   "metadata": {
    "colab": {
     "base_uri": "https://localhost:8080/",
     "height": 81
    },
    "id": "i8yGSFG1J3Af",
    "outputId": "a924c177-9810-4d57-e850-a9963b33780e"
   },
   "outputs": [
    {
     "data": {
      "text/html": [
       "<div>\n",
       "<style scoped>\n",
       "    .dataframe tbody tr th:only-of-type {\n",
       "        vertical-align: middle;\n",
       "    }\n",
       "\n",
       "    .dataframe tbody tr th {\n",
       "        vertical-align: top;\n",
       "    }\n",
       "\n",
       "    .dataframe thead th {\n",
       "        text-align: right;\n",
       "    }\n",
       "</style>\n",
       "<table border=\"1\" class=\"dataframe\">\n",
       "  <thead>\n",
       "    <tr style=\"text-align: right;\">\n",
       "      <th></th>\n",
       "      <th>A</th>\n",
       "      <th>B</th>\n",
       "      <th>C</th>\n",
       "    </tr>\n",
       "  </thead>\n",
       "  <tbody>\n",
       "    <tr>\n",
       "      <th>0</th>\n",
       "      <td>3</td>\n",
       "      <td>6</td>\n",
       "      <td>7</td>\n",
       "    </tr>\n",
       "  </tbody>\n",
       "</table>\n",
       "</div>"
      ],
      "text/plain": [
       "   A  B  C\n",
       "0  3  6  7"
      ]
     },
     "execution_count": 125,
     "metadata": {},
     "output_type": "execute_result"
    }
   ],
   "source": [
    "pd.merge(df1, df2, on='A', how = 'inner')"
   ]
  },
  {
   "cell_type": "markdown",
   "metadata": {
    "id": "YS858YXVHT9_"
   },
   "source": [
    "---\n",
    "## String manipulation"
   ]
  },
  {
   "cell_type": "markdown",
   "metadata": {
    "id": "KIyoQcKHWXrL"
   },
   "source": [
    "### Simple operations\n",
    "\n",
    "Strings are actually iterables, just like lists. They can be subset analogously:"
   ]
  },
  {
   "cell_type": "code",
   "execution_count": 126,
   "metadata": {
    "id": "jMwvvpUpU_H2"
   },
   "outputs": [
    {
     "data": {
      "text/plain": [
       "'python'"
      ]
     },
     "execution_count": 126,
     "metadata": {},
     "output_type": "execute_result"
    }
   ],
   "source": [
    "x = \"one python string\"\n",
    "x[4:10]"
   ]
  },
  {
   "cell_type": "code",
   "execution_count": 127,
   "metadata": {
    "colab": {
     "base_uri": "https://localhost:8080/"
    },
    "id": "mK2rS2DVVGhy",
    "outputId": "fc190386-6437-4fcb-9a79-003037253a44"
   },
   "outputs": [
    {
     "data": {
      "text/plain": [
       "True"
      ]
     },
     "execution_count": 127,
     "metadata": {},
     "output_type": "execute_result"
    }
   ],
   "source": [
    "# You can also turn a string into a list of strings via the \"split\" method:\n",
    "x = \"one python string\"\n",
    "y = x.split(\" \")\n",
    "y == [\"one\", \"python\", \"string\"]"
   ]
  },
  {
   "cell_type": "code",
   "execution_count": 128,
   "metadata": {
    "colab": {
     "base_uri": "https://localhost:8080/"
    },
    "id": "Mnay03Q1VQXb",
    "outputId": "5e80d15a-a5de-42cd-e0d4-ae67a5584847"
   },
   "outputs": [
    {
     "data": {
      "text/plain": [
       "True"
      ]
     },
     "execution_count": 128,
     "metadata": {},
     "output_type": "execute_result"
    }
   ],
   "source": [
    "# The reverse is also possible via the \"join\" method:\n",
    "space = \" \"\n",
    "z = space.join(y)\n",
    "z == x"
   ]
  },
  {
   "cell_type": "markdown",
   "metadata": {
    "id": "EE-blUVMVX3n"
   },
   "source": [
    "You can also make everything lower (or upper) case, replace certain substrings with other substrings, and check for the existence of a substring with `in`:"
   ]
  },
  {
   "cell_type": "code",
   "execution_count": 129,
   "metadata": {
    "id": "EBofjnfoVUKQ"
   },
   "outputs": [
    {
     "data": {
      "text/plain": [
       "'my python string'"
      ]
     },
     "execution_count": 129,
     "metadata": {},
     "output_type": "execute_result"
    }
   ],
   "source": [
    "z = \"My Python String\"\n",
    "z.lower()"
   ]
  },
  {
   "cell_type": "code",
   "execution_count": 130,
   "metadata": {
    "id": "GRv6XFXlVe66"
   },
   "outputs": [
    {
     "data": {
      "text/plain": [
       "'MY PYTHON STRING'"
      ]
     },
     "execution_count": 130,
     "metadata": {},
     "output_type": "execute_result"
    }
   ],
   "source": [
    "z.upper()"
   ]
  },
  {
   "cell_type": "code",
   "execution_count": 131,
   "metadata": {
    "colab": {
     "base_uri": "https://localhost:8080/"
    },
    "id": "Iq4Od0jmVgPp",
    "outputId": "c5eeed20-80d3-4dc8-c623-2b97892828ea"
   },
   "outputs": [
    {
     "name": "stdout",
     "output_type": "stream",
     "text": [
      "My R String\n"
     ]
    },
    {
     "data": {
      "text/plain": [
       "False"
      ]
     },
     "execution_count": 131,
     "metadata": {},
     "output_type": "execute_result"
    }
   ],
   "source": [
    "w = z.replace(\"Python\", \"R\")\n",
    "print(w)\n",
    "\"Python\" in w"
   ]
  },
  {
   "cell_type": "markdown",
   "metadata": {
    "id": "JuazOlFFV1ZV"
   },
   "source": [
    "There are many more easy-to-use, built-in tools for working with text data in Python. You can read more here:\n",
    "\n",
    "*   https://docs.python.org/3/library/stdtypes.html#string-method"
   ]
  },
  {
   "cell_type": "markdown",
   "metadata": {
    "id": "pihFEbEzWdLh"
   },
   "source": [
    "### Regular expressions\n",
    "\n",
    "A *regular expression* is a special sequence of characters that helps you match or find other strings or sets of strings, using a specialized syntax held in a pattern. Python uses the module `re` to deal with them.\n",
    "\n",
    "Let's pretend we have an `html` text. We want to find **all** words tagged as bold (`<b>word</b>`) in that `html` text, convert them to italics (`<i>word</i>`) and add the word \"freaking\" before them."
   ]
  },
  {
   "cell_type": "code",
   "execution_count": 132,
   "metadata": {
    "colab": {
     "base_uri": "https://localhost:8080/",
     "height": 35
    },
    "id": "O3w8rlYAYjap",
    "outputId": "dd580764-ca84-417b-a653-d97bce2bd550"
   },
   "outputs": [
    {
     "data": {
      "text/plain": [
       "'Why am I taking this <i>freaking course</i>? I want to go back to the <i>freaking holidays</i>.'"
      ]
     },
     "execution_count": 132,
     "metadata": {},
     "output_type": "execute_result"
    }
   ],
   "source": [
    "import re\n",
    "\n",
    "a_text = 'Why am I taking this <b>course</b>? I want to go back to the <b>holidays</b>.'\n",
    "\n",
    "# Preffix 'r' is an indicator of regular expression\n",
    "the_regex = r'<b>([a-z/s]+)</b>' #brackets are used to note a group of accepted characters; \\s matches whitespace (spaces, tabs and new lines); + means 1 or more of the preceding pattern\n",
    "replacement = r'<i>freaking \\1</i>' #\\1 is for group 1, we are asking to add after \"freaking\" the first group of characters that has been match\n",
    "\n",
    "# Function to replace a regular expression with another\n",
    "re.sub(the_regex, replacement, a_text)"
   ]
  },
  {
   "cell_type": "markdown",
   "metadata": {
    "id": "oEjqTySIb0qM"
   },
   "source": [
    "Some helpful `re` functions to play with regular expressions:\n",
    "\n",
    "*  `re.search(pattern, string)`: scan through `string` looking for locations where the regular expression `pattern` produces a match, and return a corresponding match object.\n",
    "*  `re.match(pattern, string)`: if zero or more characters at the beginning of `string` match the regular expression `pattern`, return a corresponding match object.\n",
    "*  `re.split(pattern, string)`: split `string` by the occurrences of `pattern`\n",
    "*  `re.sub(pattern, repl, string)`: return the `string `obtained by replacing the leftmost non-overlapping occurrences of `pattern` in string by the replacement `repl`\n",
    "*  `re.findall()`: search for *all* occurrences that match a given pattern"
   ]
  },
  {
   "cell_type": "markdown",
   "metadata": {
    "id": "URSYuLK_Yj_D"
   },
   "source": [
    "Regular expressions are relatively complex and there is a long list of combinations one can make, which are well outside the scope of this introduction. We limit to mentioning some special characters to form regular expressions:\n",
    "\n",
    "*  `^`: Start of string\n",
    "*  `$`: End of string\n",
    "*  `.`: One character, no matter which (except line break)\n",
    "*  `*`: match 0 or more repetitions of the preceding RE\n",
    "*  `+`: match 1 or more repetitions of the preceding RE\n",
    "*  `?`: match 0 or 1 repetition of the preceding RE\n",
    "*  `{m,n}`: Causes the resulting RE to match from m to n repetitions of the preceding RE. The comma and the n are optional depending on the case\n",
    "*  `|`: OR. E.g. A|B means match RE A or B\n",
    "*  `(...)`: Matches whatever regular expression is inside the parentheses\n",
    "*  `[]`: Defines a subset of characters to match\n",
    "*  `\\`: Either escapes special characters (permitting you to match characters like '*', '?', and so forth), or signals a special sequence (e.g. \\s means a white space).\n",
    "*  `\\w`: Matches a word (letters only)\n",
    "*  `\\W`: Matches a word (letters and characters, equivalent to `[^a-zA-Z0-9_]`)"
   ]
  },
  {
   "cell_type": "markdown",
   "metadata": {
    "id": "fhU1ztJFHGF5"
   },
   "source": [
    "---\n",
    "## Some advanced concepts\n"
   ]
  },
  {
   "cell_type": "markdown",
   "metadata": {
    "id": "da9FNoY55TqQ"
   },
   "source": [
    "### Copy vs. assignment\n",
    "\n",
    "Look at the following example:"
   ]
  },
  {
   "cell_type": "code",
   "execution_count": 161,
   "metadata": {
    "id": "8tVIDpDg8pck"
   },
   "outputs": [],
   "source": [
    "a = [1, 2, 5]\n",
    "b = a\n",
    "b[2] = 10"
   ]
  },
  {
   "cell_type": "code",
   "execution_count": 162,
   "metadata": {
    "colab": {
     "base_uri": "https://localhost:8080/"
    },
    "id": "FKi_NCMi8rQf",
    "outputId": "5819288e-64d2-4862-f387-fc9996b8cfbe"
   },
   "outputs": [
    {
     "name": "stdout",
     "output_type": "stream",
     "text": [
      "[1, 2, 10]\n",
      "[1, 2, 10]\n"
     ]
    }
   ],
   "source": [
    "print(a)\n",
    "print(b)"
   ]
  },
  {
   "cell_type": "markdown",
   "metadata": {
    "id": "7wR_qWwX8ygE"
   },
   "source": [
    "What happens is that really `a` and `b` point to the same place in the memory and share the same data."
   ]
  },
  {
   "cell_type": "code",
   "execution_count": 135,
   "metadata": {
    "colab": {
     "base_uri": "https://localhost:8080/"
    },
    "id": "EQtgh_OFt1NU",
    "outputId": "322636a4-fde6-4977-fdf6-cc385b996759"
   },
   "outputs": [
    {
     "name": "stdout",
     "output_type": "stream",
     "text": [
      "2337224046016\n",
      "2337224046016\n"
     ]
    }
   ],
   "source": [
    "print(id(a))\n",
    "print(id(b))"
   ]
  },
  {
   "cell_type": "markdown",
   "metadata": {
    "id": "Y7joANwotxwf"
   },
   "source": [
    "The way to create an object that will *copy* the data in `a` but not *share* the data with `a` is to use the method `copy()`."
   ]
  },
  {
   "cell_type": "code",
   "execution_count": 136,
   "metadata": {
    "colab": {
     "base_uri": "https://localhost:8080/"
    },
    "id": "DI51EYm767XB",
    "outputId": "6dcc32c0-b57d-417a-e3bf-8ae412817d64"
   },
   "outputs": [
    {
     "name": "stdout",
     "output_type": "stream",
     "text": [
      "2337224752064\n",
      "2337223888256\n"
     ]
    }
   ],
   "source": [
    "a = [1, 2, 5]\n",
    "b = a.copy()\n",
    "print(id(a))\n",
    "print(id(b))"
   ]
  },
  {
   "cell_type": "code",
   "execution_count": 137,
   "metadata": {
    "colab": {
     "base_uri": "https://localhost:8080/"
    },
    "id": "wMZgkFxl6-aP",
    "outputId": "c8db7171-ef58-45b2-c96d-60be01f984fe"
   },
   "outputs": [
    {
     "name": "stdout",
     "output_type": "stream",
     "text": [
      "[1, 2, 5]\n",
      "[1, 2, 10]\n"
     ]
    }
   ],
   "source": [
    "b[2] = 10\n",
    "print(a)\n",
    "print(b)"
   ]
  },
  {
   "cell_type": "markdown",
   "metadata": {
    "id": "22F3WKg_1gcf"
   },
   "source": [
    "Note that the behaviour we observed above for lists would not be the same for integers. For example:"
   ]
  },
  {
   "cell_type": "code",
   "execution_count": 138,
   "metadata": {
    "colab": {
     "base_uri": "https://localhost:8080/"
    },
    "id": "Bod0KIKlvg--",
    "outputId": "88a54cc7-444a-487f-9414-c13af3517f77"
   },
   "outputs": [
    {
     "name": "stdout",
     "output_type": "stream",
     "text": [
      "3\n",
      "2\n",
      "2337096952176\n",
      "2337096952144\n"
     ]
    }
   ],
   "source": [
    "a = 2\n",
    "b = a\n",
    "a += 1\n",
    "print(a)\n",
    "print(b)\n",
    "print(id(a))\n",
    "print(id(b))"
   ]
  },
  {
   "cell_type": "markdown",
   "metadata": {
    "id": "ZBck8utN9fk8"
   },
   "source": [
    "Things also become a little trickier when you deal with lists of lists. "
   ]
  },
  {
   "cell_type": "code",
   "execution_count": 139,
   "metadata": {
    "id": "DRLkIA6Y9x3A"
   },
   "outputs": [],
   "source": [
    "a = [1, [2, 3], 5, 'abc'] \n",
    "b = a.copy()\n",
    "b[1].append(100)"
   ]
  },
  {
   "cell_type": "code",
   "execution_count": 140,
   "metadata": {
    "colab": {
     "base_uri": "https://localhost:8080/"
    },
    "id": "jBTBcxWI9zdr",
    "outputId": "42be4189-4df1-4aab-f42c-eb1faf1fd360"
   },
   "outputs": [
    {
     "name": "stdout",
     "output_type": "stream",
     "text": [
      "[1, [2, 3, 100], 5, 'abc']\n",
      "[1, [2, 3, 100], 5, 'abc']\n"
     ]
    }
   ],
   "source": [
    "print(a)\n",
    "print(b)"
   ]
  },
  {
   "cell_type": "code",
   "execution_count": 141,
   "metadata": {
    "colab": {
     "base_uri": "https://localhost:8080/"
    },
    "id": "td9m-8kCuqAy",
    "outputId": "8eb29442-917f-4944-9821-f18dfb906e17"
   },
   "outputs": [
    {
     "name": "stdout",
     "output_type": "stream",
     "text": [
      "2337224779840\n",
      "2337224083840\n"
     ]
    }
   ],
   "source": [
    "print(id(a))\n",
    "print(id(b))"
   ]
  },
  {
   "cell_type": "markdown",
   "metadata": {
    "id": "jlPqMp4Y-CVx"
   },
   "source": [
    "What happened here is that both `a` and `b` still point to the deeper list `[2, 3]`. For this reason there is also the `deepcopy`."
   ]
  },
  {
   "cell_type": "code",
   "execution_count": 142,
   "metadata": {
    "colab": {
     "base_uri": "https://localhost:8080/"
    },
    "id": "6D2zE5S8-fXx",
    "outputId": "2dd11ac1-038a-4431-bb21-29683db86254"
   },
   "outputs": [
    {
     "name": "stdout",
     "output_type": "stream",
     "text": [
      "[1, [2, 3], 5, 'abc']\n",
      "[1, [2, 3, 100], 5, 'abc']\n"
     ]
    }
   ],
   "source": [
    "# Try now \n",
    "from copy import deepcopy\n",
    "a = [1, [2, 3], 5, 'abc'] \n",
    "b = deepcopy(a)\n",
    "b[1].append(100)\n",
    "print(a)\n",
    "print(b)"
   ]
  },
  {
   "cell_type": "code",
   "execution_count": 143,
   "metadata": {
    "colab": {
     "base_uri": "https://localhost:8080/"
    },
    "id": "Fouk-eCxulEJ",
    "outputId": "b0191204-86f1-41a1-85e1-8dadf260440a"
   },
   "outputs": [
    {
     "name": "stdout",
     "output_type": "stream",
     "text": [
      "2337224752064\n",
      "2337224645760\n"
     ]
    }
   ],
   "source": [
    "print(id(a))\n",
    "print(id(b))"
   ]
  },
  {
   "cell_type": "markdown",
   "metadata": {
    "id": "Ozf0M5-E2F1q"
   },
   "source": [
    "To conclude, be careful when you write statements such as `name1 = name2`."
   ]
  },
  {
   "cell_type": "markdown",
   "metadata": {
    "id": "uAx_G29H_DSa"
   },
   "source": [
    "### Default values in functions\n",
    "\n",
    "In Python one can assign default values to arguments of functions. For example:"
   ]
  },
  {
   "cell_type": "code",
   "execution_count": 144,
   "metadata": {
    "id": "YGEIgl-mEafg"
   },
   "outputs": [],
   "source": [
    "# New function \"f\"\n",
    "def f(a = 1, b = 2):\n",
    "    return a + b\n"
   ]
  },
  {
   "cell_type": "code",
   "execution_count": 145,
   "metadata": {
    "colab": {
     "base_uri": "https://localhost:8080/"
    },
    "id": "TUdmBujhEiXk",
    "outputId": "180af117-32c6-4edf-cc86-699afbebf304"
   },
   "outputs": [
    {
     "name": "stdout",
     "output_type": "stream",
     "text": [
      "3\n",
      "12\n",
      "5\n",
      "14\n",
      "14\n",
      "14\n"
     ]
    }
   ],
   "source": [
    "# Function \"f\" can be validly be called in the following ways\n",
    "print(f())\n",
    "print(f(10))\n",
    "print(f(b = 4))\n",
    "print(f(10, 4))\n",
    "print(f(a = 10, b = 4))\n",
    "print(f(b = 4, a = 10))"
   ]
  },
  {
   "cell_type": "code",
   "execution_count": 146,
   "metadata": {
    "colab": {
     "base_uri": "https://localhost:8080/",
     "height": 131
    },
    "id": "J1WDrSvcE1Tf",
    "outputId": "7adb5dd5-fca5-4650-e526-8f7eb72d1154"
   },
   "outputs": [
    {
     "ename": "SyntaxError",
     "evalue": "positional argument follows keyword argument (2957630882.py, line 2)",
     "output_type": "error",
     "traceback": [
      "\u001b[1;36m  File \u001b[1;32m\"C:\\Users\\u200038\\AppData\\Local\\Temp\\ipykernel_5692\\2957630882.py\"\u001b[1;36m, line \u001b[1;32m2\u001b[0m\n\u001b[1;33m    f(a = 10, 4)\u001b[0m\n\u001b[1;37m               ^\u001b[0m\n\u001b[1;31mSyntaxError\u001b[0m\u001b[1;31m:\u001b[0m positional argument follows keyword argument\n"
     ]
    }
   ],
   "source": [
    "# But NOT like this\n",
    "f(a = 10, 4)"
   ]
  },
  {
   "cell_type": "code",
   "execution_count": null,
   "metadata": {
    "colab": {
     "base_uri": "https://localhost:8080/"
    },
    "id": "BwK0V11j2jlz",
    "outputId": "3243be33-5f53-442c-c09f-b8c370f8b150"
   },
   "outputs": [],
   "source": [
    "# however this works\n",
    "f(10, b = 4)"
   ]
  },
  {
   "cell_type": "markdown",
   "metadata": {
    "id": "dJYnw-nV2VLL"
   },
   "source": [
    "You cannot omit an argument name, if you stated previous arguments names."
   ]
  },
  {
   "cell_type": "markdown",
   "metadata": {
    "id": "dUewJe_GHJRC"
   },
   "source": [
    "---\n",
    "## Particular topics"
   ]
  },
  {
   "cell_type": "markdown",
   "metadata": {
    "id": "QZH8TUiXhNb1"
   },
   "source": [
    "### Date and time objects\n",
    "\n",
    "We will now see how to deal with time and date types of objects in Python. To do this, we need a module named `datetime`, which contains the class `datetime`."
   ]
  },
  {
   "cell_type": "code",
   "execution_count": 165,
   "metadata": {
    "colab": {
     "base_uri": "https://localhost:8080/"
    },
    "id": "IBszoxOGLsdz",
    "outputId": "fc461606-d57f-4495-d7ff-e871287e4f91"
   },
   "outputs": [
    {
     "name": "stdout",
     "output_type": "stream",
     "text": [
      "2023-06-23 15:43:22.299555\n",
      "<class 'datetime.datetime'>\n"
     ]
    }
   ],
   "source": [
    "from datetime import datetime  # This is a module and a class\n",
    "\n",
    "# Current date\n",
    "current_time = datetime.now()\n",
    "print(current_time)\n",
    "print(type(current_time))"
   ]
  },
  {
   "cell_type": "markdown",
   "metadata": {
    "id": "SDP3u5RSMZWD"
   },
   "source": [
    "`current_time` is of class `datetime`, but this is just one of five distinct time-object classes:\n",
    "\n",
    "*   `datetime`: allows to work with times and dates together (month, day, year, hour, second, microsecond).\n",
    "*   `date`: works with dates only (month, day, year), independent of time. \n",
    "*   `time`: works with time only (hour, minute, second, microsecond), independent of date. \n",
    "*   `timedelta`: a duration of time used for measuring distance between to time points."
   ]
  },
  {
   "cell_type": "markdown",
   "metadata": {
    "id": "8d5hhZCANbaC"
   },
   "source": [
    "The most common scenario with time data is translating from and to strings, which is the most frequent format that we will encounter when importing times and dates."
   ]
  },
  {
   "cell_type": "code",
   "execution_count": 166,
   "metadata": {
    "colab": {
     "base_uri": "https://localhost:8080/"
    },
    "id": "UOPhI-hoNqm2",
    "outputId": "3b0b8d6c-b675-46cb-a5a3-dd841db065f6"
   },
   "outputs": [
    {
     "name": "stdout",
     "output_type": "stream",
     "text": [
      "2023-03-15 00:00:00\n",
      "<class 'datetime.datetime'>\n"
     ]
    }
   ],
   "source": [
    "today_date = '2023-03-15'\n",
    "\n",
    "# Create date object in given time format yyyy-mm-dd\n",
    "today_date = datetime.strptime(today_date, '%Y-%m-%d')\n",
    "\n",
    "print(today_date)\n",
    "print(type(today_date))"
   ]
  },
  {
   "cell_type": "markdown",
   "metadata": {
    "id": "Hd9mAzl5OEPt"
   },
   "source": [
    "Note we used the *pattern* `%Y-%m-%d` to indicate the year-month-day format we want to give the date object. A full list of date patterns can be found in the library's [documentation](https://docs.python.org/2/library/datetime.html#strftime-and-strptime-behavior)."
   ]
  },
  {
   "cell_type": "code",
   "execution_count": 167,
   "metadata": {
    "id": "5HvgXhqDN6Oh"
   },
   "outputs": [
    {
     "name": "stdout",
     "output_type": "stream",
     "text": [
      "* Month: 3\n",
      "* Year: 2023\n",
      "* Day of month: 15\n",
      "* Day of Week (number): 2\n"
     ]
    }
   ],
   "source": [
    "print('* Month:', today_date.month)  # Get month from date\n",
    "print('* Year:', today_date.year)  # Get month from year\n",
    "print('* Day of month:', today_date.day)  # ...\n",
    "print('* Day of Week (number):', today_date.weekday())  # Recall indexing"
   ]
  },
  {
   "cell_type": "code",
   "execution_count": 168,
   "metadata": {
    "id": "SLPTtMy4Pc5e"
   },
   "outputs": [
    {
     "name": "stdout",
     "output_type": "stream",
     "text": [
      "* Hour:  15\n",
      "* Minute:  43\n",
      "datetime.IsoCalendarDate(year=2023, week=25, weekday=5)\n"
     ]
    }
   ],
   "source": [
    "print('* Hour: ', current_time.hour)\n",
    "print('* Minute: ', current_time.minute)\n",
    "print(current_time.isocalendar())  # Returns (year, # week, # day)"
   ]
  },
  {
   "cell_type": "markdown",
   "metadata": {
    "id": "nnWt5MPjQVdc"
   },
   "source": [
    "You can convert from datetime to string with the function `strftime()`. With the argument `format`, you can change the date format in the resulting string."
   ]
  },
  {
   "cell_type": "code",
   "execution_count": 169,
   "metadata": {
    "colab": {
     "base_uri": "https://localhost:8080/"
    },
    "id": "wMb1Bq6QQDIG",
    "outputId": "62452202-03ed-4577-9efa-0842ed8216ba"
   },
   "outputs": [
    {
     "name": "stdout",
     "output_type": "stream",
     "text": [
      "15-03-2023\n",
      "<class 'str'>\n"
     ]
    }
   ],
   "source": [
    "today_str = datetime.strftime(today_date, format = '%d-%m-%Y')\n",
    "type(today_str)\n",
    "print(today_str)\n",
    "print(type(today_str))"
   ]
  },
  {
   "cell_type": "markdown",
   "metadata": {
    "id": "ocHTeNuIQoK-"
   },
   "source": [
    "To compute time difference or to operate on dates and times (add/subtract), we can use the `timedelta` type of object. These objects need not be anchored on a specific date and they can be a generic time frame."
   ]
  },
  {
   "cell_type": "code",
   "execution_count": 170,
   "metadata": {
    "colab": {
     "base_uri": "https://localhost:8080/"
    },
    "id": "SO5NnPXaRK77",
    "outputId": "4179a1d5-fa9f-4d98-e873-ea7c127398cb"
   },
   "outputs": [
    {
     "name": "stdout",
     "output_type": "stream",
     "text": [
      "21 days, 0:00:00\n",
      "<class 'datetime.timedelta'>\n",
      "21\n",
      "365\n"
     ]
    }
   ],
   "source": [
    "from datetime import timedelta\n",
    "\n",
    "# timedelta objects\n",
    "three_weeks = timedelta(weeks = 3)\n",
    "one_year = timedelta(days = 365)\n",
    "\n",
    "print(three_weeks)\n",
    "print(type(three_weeks))\n",
    "print(three_weeks.days)\n",
    "print(one_year.days)"
   ]
  },
  {
   "cell_type": "markdown",
   "metadata": {
    "id": "i9um5YCGSNMM"
   },
   "source": [
    "Let us now operate on these objects."
   ]
  },
  {
   "cell_type": "code",
   "execution_count": 171,
   "metadata": {
    "colab": {
     "base_uri": "https://localhost:8080/"
    },
    "id": "jph6ZW4ySPny",
    "outputId": "841f3684-c622-4d9a-9d67-26e9925da356"
   },
   "outputs": [
    {
     "name": "stdout",
     "output_type": "stream",
     "text": [
      "Today's date:  2023-06-23 15:43:22.385550\n",
      "Date after three weeks:  2023-07-14 15:43:22.385550\n",
      "Date one year ago:  2022-06-23 15:43:22.385550\n",
      "<class 'datetime.datetime'>\n"
     ]
    }
   ],
   "source": [
    "from datetime import datetime, timedelta\n",
    "\n",
    "# Current time\n",
    "now = datetime.now()\n",
    "print(\"Today's date: \", str(now))\n",
    "\n",
    "# Add three weeks to current date\n",
    "now_in_3weeks = now + three_weeks\n",
    "print('Date after three weeks: ', now_in_3weeks)\n",
    "\n",
    "# Subtract one year from current date\n",
    "one_year_ago = now - one_year\n",
    "print('Date one year ago: ', one_year_ago)\n",
    "print(type(one_year_ago))"
   ]
  },
  {
   "cell_type": "code",
   "execution_count": 172,
   "metadata": {
    "colab": {
     "base_uri": "https://localhost:8080/"
    },
    "id": "Zmbg3MZ-S5Pn",
    "outputId": "74b17332-69b4-4b9a-8fdf-7859634146a4"
   },
   "outputs": [
    {
     "name": "stdout",
     "output_type": "stream",
     "text": [
      "Time difference (days):  1470\n",
      "Time difference:  1469 days, 23:51:10\n",
      "<class 'datetime.timedelta'>\n"
     ]
    }
   ],
   "source": [
    "from datetime import date\n",
    "\n",
    "# Create two dates\n",
    "date1 = date(2011, 5, 28)\n",
    "date2 = date(2015, 6, 6)\n",
    "# create two dates with year, month, day, hour, minute, and second\n",
    "date1b = datetime(2011, 5, 28, 23, 1, 0)\n",
    "date2b = datetime(2015, 6, 6, 22, 52, 10)\n",
    "\n",
    "# Difference between two dates\n",
    "date_diff = date2 - date1\n",
    "date_diffb = date2b - date1b\n",
    "print(\"Time difference (days): \", date_diff.days)\n",
    "print(\"Time difference: \", date_diffb)\n",
    "print(type(date_diff))"
   ]
  },
  {
   "cell_type": "code",
   "execution_count": 173,
   "metadata": {
    "colab": {
     "base_uri": "https://localhost:8080/"
    },
    "id": "7JQWOhkXUYlc",
    "outputId": "81acae3d-a43e-4c14-eb59-b5a2a6786697"
   },
   "outputs": [
    {
     "name": "stdout",
     "output_type": "stream",
     "text": [
      "2015-06-06 22:52:10-04:00\n"
     ]
    }
   ],
   "source": [
    "# To work with time zones:\n",
    "from pytz import timezone\n",
    "\n",
    "# Create timezone US/Eastern\n",
    "est = timezone('US/Eastern')\n",
    "\n",
    "# Re-set date to local time\n",
    "loc_time = est.localize(datetime(2015, 6, 6, 22, 52, 10))\n",
    "print(loc_time)"
   ]
  },
  {
   "cell_type": "markdown",
   "metadata": {
    "id": "Cc2LG0zuUp9N"
   },
   "source": [
    "You can also work with time objects using `pandas`. You can convert text strings into `pandas` `Datetime` objects using:\n",
    "\n",
    "*  `to_datetime()`: to convert string dates/times to `datetime` objects.\n",
    "*  `to_timedelta()`: find differences in times.\n"
   ]
  },
  {
   "cell_type": "code",
   "execution_count": 174,
   "metadata": {
    "colab": {
     "base_uri": "https://localhost:8080/"
    },
    "id": "1WdXzwl7W4ix",
    "outputId": "b9f1406f-e790-4c1b-fb91-144cd8bd965a"
   },
   "outputs": [
    {
     "name": "stdout",
     "output_type": "stream",
     "text": [
      "2015-06-06 00:00:00\n",
      "DatetimeIndex(['2015-06-06', '2015-06-07', '2015-06-08', '2015-06-09',\n",
      "               '2015-06-10', '2015-06-11', '2015-06-12', '2015-06-13',\n",
      "               '2015-06-14', '2015-06-15', '2015-06-16', '2015-06-17'],\n",
      "              dtype='datetime64[ns]', freq=None)\n",
      "DatetimeIndex(['2015-06-06', '2015-06-07', '2015-06-08', '2015-06-09',\n",
      "               '2015-06-10', '2015-06-11', '2015-06-12', '2015-06-13',\n",
      "               '2015-06-14', '2015-06-15', '2015-06-16', '2015-06-17'],\n",
      "              dtype='datetime64[ns]', freq='D')\n"
     ]
    }
   ],
   "source": [
    "import pandas as pd\n",
    "import numpy as np\n",
    "\n",
    "# String to datetime\n",
    "good_date = pd.to_datetime(\"6th of June, 2015\")\n",
    "print(good_date)\n",
    "\n",
    "# Create date series to_timedelta() (add numpy)\n",
    "date_series = good_date + pd.to_timedelta(np.arange(12), 'D')\n",
    "print(date_series)\n",
    "\n",
    "# Create date series using date_range() function\n",
    "date_series = pd.date_range('06/06/2015', periods = 12, freq = 'D')\n",
    "print(date_series)"
   ]
  },
  {
   "cell_type": "code",
   "execution_count": 175,
   "metadata": {
    "colab": {
     "base_uri": "https://localhost:8080/",
     "height": 206
    },
    "id": "QVDOiXr5X7PC",
    "outputId": "9dfbb530-a3a1-40a5-9d39-3d72f813faa0"
   },
   "outputs": [
    {
     "data": {
      "text/html": [
       "<div>\n",
       "<style scoped>\n",
       "    .dataframe tbody tr th:only-of-type {\n",
       "        vertical-align: middle;\n",
       "    }\n",
       "\n",
       "    .dataframe tbody tr th {\n",
       "        vertical-align: top;\n",
       "    }\n",
       "\n",
       "    .dataframe thead th {\n",
       "        text-align: right;\n",
       "    }\n",
       "</style>\n",
       "<table border=\"1\" class=\"dataframe\">\n",
       "  <thead>\n",
       "    <tr style=\"text-align: right;\">\n",
       "      <th></th>\n",
       "      <th>date</th>\n",
       "    </tr>\n",
       "  </thead>\n",
       "  <tbody>\n",
       "    <tr>\n",
       "      <th>0</th>\n",
       "      <td>2015-06-06</td>\n",
       "    </tr>\n",
       "    <tr>\n",
       "      <th>1</th>\n",
       "      <td>2015-06-07</td>\n",
       "    </tr>\n",
       "    <tr>\n",
       "      <th>2</th>\n",
       "      <td>2015-06-08</td>\n",
       "    </tr>\n",
       "    <tr>\n",
       "      <th>3</th>\n",
       "      <td>2015-06-09</td>\n",
       "    </tr>\n",
       "    <tr>\n",
       "      <th>4</th>\n",
       "      <td>2015-06-10</td>\n",
       "    </tr>\n",
       "  </tbody>\n",
       "</table>\n",
       "</div>"
      ],
      "text/plain": [
       "        date\n",
       "0 2015-06-06\n",
       "1 2015-06-07\n",
       "2 2015-06-08\n",
       "3 2015-06-09\n",
       "4 2015-06-10"
      ]
     },
     "execution_count": 175,
     "metadata": {},
     "output_type": "execute_result"
    }
   ],
   "source": [
    "# Create a DataFrame with date as a column\n",
    "data = pd.DataFrame()\n",
    "data['date'] = date_series\n",
    "data.head()"
   ]
  },
  {
   "cell_type": "code",
   "execution_count": 176,
   "metadata": {
    "id": "pHUUa5ekYBYc"
   },
   "outputs": [
    {
     "data": {
      "text/html": [
       "<div>\n",
       "<style scoped>\n",
       "    .dataframe tbody tr th:only-of-type {\n",
       "        vertical-align: middle;\n",
       "    }\n",
       "\n",
       "    .dataframe tbody tr th {\n",
       "        vertical-align: top;\n",
       "    }\n",
       "\n",
       "    .dataframe thead th {\n",
       "        text-align: right;\n",
       "    }\n",
       "</style>\n",
       "<table border=\"1\" class=\"dataframe\">\n",
       "  <thead>\n",
       "    <tr style=\"text-align: right;\">\n",
       "      <th></th>\n",
       "      <th>date</th>\n",
       "      <th>year</th>\n",
       "      <th>month</th>\n",
       "      <th>day</th>\n",
       "      <th>hour</th>\n",
       "      <th>minute</th>\n",
       "    </tr>\n",
       "  </thead>\n",
       "  <tbody>\n",
       "    <tr>\n",
       "      <th>0</th>\n",
       "      <td>2015-06-06</td>\n",
       "      <td>2015</td>\n",
       "      <td>6</td>\n",
       "      <td>6</td>\n",
       "      <td>0</td>\n",
       "      <td>0</td>\n",
       "    </tr>\n",
       "    <tr>\n",
       "      <th>1</th>\n",
       "      <td>2015-06-07</td>\n",
       "      <td>2015</td>\n",
       "      <td>6</td>\n",
       "      <td>7</td>\n",
       "      <td>0</td>\n",
       "      <td>0</td>\n",
       "    </tr>\n",
       "    <tr>\n",
       "      <th>2</th>\n",
       "      <td>2015-06-08</td>\n",
       "      <td>2015</td>\n",
       "      <td>6</td>\n",
       "      <td>8</td>\n",
       "      <td>0</td>\n",
       "      <td>0</td>\n",
       "    </tr>\n",
       "    <tr>\n",
       "      <th>3</th>\n",
       "      <td>2015-06-09</td>\n",
       "      <td>2015</td>\n",
       "      <td>6</td>\n",
       "      <td>9</td>\n",
       "      <td>0</td>\n",
       "      <td>0</td>\n",
       "    </tr>\n",
       "    <tr>\n",
       "      <th>4</th>\n",
       "      <td>2015-06-10</td>\n",
       "      <td>2015</td>\n",
       "      <td>6</td>\n",
       "      <td>10</td>\n",
       "      <td>0</td>\n",
       "      <td>0</td>\n",
       "    </tr>\n",
       "  </tbody>\n",
       "</table>\n",
       "</div>"
      ],
      "text/plain": [
       "        date  year  month  day  hour  minute\n",
       "0 2015-06-06  2015      6    6     0       0\n",
       "1 2015-06-07  2015      6    7     0       0\n",
       "2 2015-06-08  2015      6    8     0       0\n",
       "3 2015-06-09  2015      6    9     0       0\n",
       "4 2015-06-10  2015      6   10     0       0"
      ]
     },
     "execution_count": 176,
     "metadata": {},
     "output_type": "execute_result"
    }
   ],
   "source": [
    "# .dt gives access to the series datetime properties if any\n",
    "# Extract year, month, day, hour, and minute; and assign to new columns\n",
    "data['year'] = data['date'].dt.year\n",
    "data['month'] = data['date'].dt.month\n",
    "data['day'] = data['date'].dt.day\n",
    "data['hour'] = data['date'].dt.hour\n",
    "data['minute'] = data['date'].dt.minute\n",
    "data.head()"
   ]
  },
  {
   "cell_type": "markdown",
   "metadata": {
    "id": "BMplqP-DJDN7"
   },
   "source": [
    "### Web scraping and `html` parsing\n",
    "\n",
    "Web *scraping* deals with the retrieval of information featured in some web page. It basically consists of reading the content in a URL, and posteriorly *parsing* it to extract the relevant information that you are looking for. This is an extensive topic in itself so we will just introduce the plain basics to get you started."
   ]
  },
  {
   "cell_type": "markdown",
   "metadata": {
    "id": "RDMf69mFhHB8"
   },
   "source": [
    "Before anything, note that most information in a HTML source is related to formatting and may not be of your interest. Therefore it would be wise to familiarise yourself with HTML tags. \n",
    "\n",
    "When scraping repeatedly a URL, we will need a *spider* that will *crawl* the target webpage and get us the desired content. Some tips:\n",
    "1.   Identify tags that contain useful information\n",
    "2.   Add randomised waiting periods between every access to website\n",
    "3.   Make use of logs to monitor progress\n",
    "4.   Regularly write collected data to an external file\n",
    "5.   **Always** respect `robots.txt` file defined by websites\n",
    "\n",
    "We use as an example Wikipedia in english. The target will be to  retrieve the summary of the featured article in Wikipedia along with all the URLs in it."
   ]
  },
  {
   "cell_type": "code",
   "execution_count": 177,
   "metadata": {
    "colab": {
     "base_uri": "https://localhost:8080/"
    },
    "id": "sl4cqMBpB2XU",
    "outputId": "d5cc5f93-0eec-4064-eab0-35a098af911a"
   },
   "outputs": [
    {
     "name": "stdout",
     "output_type": "stream",
     "text": [
      "<!DOCTYPE html>\n",
      "\n",
      "<html class=\"client-nojs vector-feature-language-in-header-enabled vector-feature-language-in-main-page-header-disabled vector-feature-sticky-header-disabled vector-feature-page-tools-pinned-disabled vector-feature-toc-pinned-enabled vector-feature-main-menu-pinned-disabled vector-feature-limited-width-enabled vector-feature-limited-width-content-enabled vector-feature-zebra-design-disabled\" dir=\"ltr\" lang=\"en\">\n",
      "<head>\n",
      "<meta charset=\"utf-8\"/>\n",
      "<title>Wikipedia, the free encyclopedia</title>\n",
      "<script>document.documentElement.className=\"client-js vector-feature-language-in-header-enabled vector-feature-language-in-main-page-header-disabled vector-feature-sticky-header-disabled vector-feature-page-tools-pinned-disabled vector-feature-toc-pinned-enabled vector-feature-main-menu-pinned-disabled vector-feature-limited-width-enabled vector-feature-limited-width-content-enabled vector-feature-zebra-design-disabled\";(function(){var cookie=document.cookie.match(/(?:^|; )enwikimwclientprefs=([^;]+)/);if(cookie){var featureName=cookie[1];document.documentElement.className=document.documentElement.className.replace(featureName+'-enabled',featureName+'-disabled');}}());RLCONF={\"wgBreakFrames\":false,\"wgSeparatorTransformTable\":[\"\",\"\"],\"wgDigitTransformTable\":[\"\",\"\"],\"wgDefaultDateFormat\":\"dmy\",\"wgMonthNames\":[\"\",\"January\",\"February\",\"March\",\"April\",\"May\",\"June\",\"July\",\"August\",\"September\",\"October\",\"November\",\"December\"],\"wgRequestId\":\"a765fe45-0c9e-422e-97dd-bb183631dc7a\",\"wgCSPNonce\":false,\n",
      "\"wgCanonicalNamespace\":\"\",\"wgCanonicalSpecialPageName\":false,\"wgNamespaceNumber\":0,\"wgPageName\":\"Main_Page\",\"wgTitle\":\"Main Page\",\"wgCurRevisionId\":1114291180,\"wgRevisionId\":1114291180,\"wgArticleId\":15580374,\"wgIsArticle\":true,\"wgIsRedirect\":false,\"wgAction\":\"view\",\"wgUserName\":null,\"wgUserGroups\":[\"*\"],\"wgCategories\":[\"Articles containing Latin-language text\",\"Articles containing French-language text\"],\"wgPageViewLanguage\":\"en\",\"wgPageContentLanguage\":\"en\",\"wgPageContentModel\":\"wikitext\",\"wgRelevantPageName\":\"Main_Page\",\"wgRelevantArticleId\":15580374,\"wgIsProbablyEditable\":false,\"wgRelevantPageIsProbablyEditable\":false,\"wgRestrictionEdit\":[\"sysop\"],\"wgRestrictionMove\":[\"sysop\"],\"wgIsMainPage\":true,\"wgFlaggedRevsParams\":{\"tags\":{\"status\":{\"levels\":1}}},\"wgVisualEditor\":{\"pageLanguageCode\":\"en\",\"pageLanguageDir\":\"ltr\",\"pageVariantFallbacks\":\"en\"},\"wgMFDisplayWikibaseDescriptions\":{\"search\":true,\"watchlist\":true,\"tagline\":false,\"nearby\":true},\"wgWMESchemaEditAttemptStepOversample\":false,\n",
      "\"wgWMEPageLength\":3000,\"wgNoticeProject\":\"wikipedia\",\"wgMediaViewerOnClick\":true,\"wgMediaViewerEnabledByDefault\":true,\"wgPopupsFlags\":10,\"wgULSCurrentAutonym\":\"English\",\"wgEditSubmitButtonLabelPublish\":true,\"wgCentralAuthMobileDomain\":false,\"wgULSPosition\":\"interlanguage\",\"wgULSisCompactLinksEnabled\":true,\"wgULSisLanguageSelectorEmpty\":false,\"wgWikibaseItemId\":\"Q5296\",\"GEHomepageSuggestedEditsEnableTopics\":true,\"wgGETopicsMatchModeEnabled\":false,\"wgGEStructuredTaskRejectionReasonTextInputEnabled\":false,\"wgGELevelingUpEnabledForUser\":false};RLSTATE={\"skins.vector.user.styles\":\"ready\",\"ext.globalCssJs.user.styles\":\"ready\",\"site.styles\":\"ready\",\"user.styles\":\"ready\",\"skins.vector.user\":\"ready\",\"ext.globalCssJs.user\":\"ready\",\"user\":\"ready\",\"user.options\":\"loading\",\"codex-search-styles\":\"ready\",\"skins.vector.styles\":\"ready\",\"skins.vector.icons\":\"ready\",\"ext.visualEditor.desktopArticleTarget.noscript\":\"ready\",\"ext.wikimediaBadges\":\"ready\",\"ext.uls.interlanguage\":\"ready\"};RLPAGEMODULES=[\n",
      "\"site\",\"mediawiki.page.ready\",\"skins.vector.js\",\"mmv.head\",\"mmv.bootstrap.autostart\",\"ext.visualEditor.desktopArticleTarget.init\",\"ext.visualEditor.targetLoader\",\"ext.eventLogging\",\"ext.wikimediaEvents\",\"ext.navigationTiming\",\"ext.cx.eventlogging.campaigns\",\"ext.centralNotice.geoIP\",\"ext.centralNotice.startUp\",\"ext.gadget.ReferenceTooltips\",\"ext.gadget.charinsert\",\"ext.gadget.extra-toolbar-buttons\",\"ext.gadget.switcher\",\"ext.centralauth.centralautologin\",\"ext.popups\",\"ext.echo.centralauth\",\"ext.uls.interface\",\"wikibase.client.vector-2022\",\"ext.growthExperiments.SuggestedEditSession\"];</script>\n",
      "<script>(RLQ=window.RLQ||[]).push(function(){mw.loader.implement(\"user.options@12s5i\",function($,jQuery,require,module){mw.user.tokens.set({\"patrolToken\":\"+\\\\\",\"watchToken\":\"+\\\\\",\"csrfToken\":\"+\\\\\"});});});</script>\n",
      "<link href=\"/w/load.php?lang=en&amp;modules=codex-search-styles%7Cext.uls.interlanguage%7Cext.visualEditor.desktopArticleTarget.noscript%7Cext.wikimediaBadges%7Cskins.vector.icons%2Cstyles&amp;only=styles&amp;skin=vector-2022\" rel=\"stylesheet\"/>\n",
      "<script async=\"\" src=\"/w/load.php?lang=en&amp;modules=startup&amp;only=scripts&amp;raw=1&amp;skin=vector-2022\"></script>\n",
      "<meta content=\"\" name=\"ResourceLoaderDynamicStyles\"/>\n",
      "<link href=\"/w/load.php?lang=en&amp;modules=site.styles&amp;only=styles&amp;skin=vector-2022\" rel=\"stylesheet\"/>\n",
      "<meta content=\"MediaWiki 1.41.0-wmf.13\" name=\"generator\"/>\n",
      "<meta content=\"origin\" name=\"referrer\"/>\n",
      "<meta content=\"origin-when-crossorigin\" name=\"referrer\"/>\n",
      "<meta content=\"origin-when-cross-origin\" name=\"referrer\"/>\n",
      "<meta content=\"max-image-preview:standard\" name=\"robots\"/>\n",
      "<meta content=\"telephone=no\" name=\"format-detection\"/>\n",
      "<meta content=\"https://upload.wikimedia.org/wikipedia/commons/thumb/4/46/Gustave_Courbet_-_The_Stonebreakers_-_WGA05457.jpg/1200px-Gustave_Courbet_-_The_Stonebreakers_-_WGA05457.jpg\" property=\"og:image\"/>\n",
      "<meta content=\"1200\" property=\"og:image:width\"/>\n",
      "<meta content=\"730\" property=\"og:image:height\"/>\n",
      "<meta content=\"https://upload.wikimedia.org/wikipedia/commons/thumb/4/46/Gustave_Courbet_-_The_Stonebreakers_-_WGA05457.jpg/800px-Gustave_Courbet_-_The_Stonebreakers_-_WGA05457.jpg\" property=\"og:image\"/>\n",
      "<meta content=\"800\" property=\"og:image:width\"/>\n",
      "<meta content=\"487\" property=\"og:image:height\"/>\n",
      "<meta content=\"https://upload.wikimedia.org/wikipedia/commons/thumb/4/46/Gustave_Courbet_-_The_Stonebreakers_-_WGA05457.jpg/640px-Gustave_Courbet_-_The_Stonebreakers_-_WGA05457.jpg\" property=\"og:image\"/>\n",
      "<meta content=\"640\" property=\"og:image:width\"/>\n",
      "<meta content=\"389\" property=\"og:image:height\"/>\n",
      "<meta content=\"width=1000\" name=\"viewport\"/>\n",
      "<meta content=\"Wikipedia, the free encyclopedia\" property=\"og:title\"/>\n",
      "<meta content=\"website\" property=\"og:type\"/>\n",
      "<link href=\"//upload.wikimedia.org\" rel=\"preconnect\"/>\n",
      "<link href=\"//en.m.wikipedia.org/wiki/Main_Page\" media=\"only screen and (max-width: 720px)\" rel=\"alternate\"/>\n",
      "<link href=\"/w/api.php?action=featuredfeed&amp;feed=potd&amp;feedformat=atom\" rel=\"alternate\" title=\"Wikipedia picture of the day feed\" type=\"application/atom+xml\"/>\n",
      "<link href=\"/w/api.php?action=featuredfeed&amp;feed=featured&amp;feedformat=atom\" rel=\"alternate\" title=\"Wikipedia featured articles feed\" type=\"application/atom+xml\"/>\n",
      "<link href=\"/w/api.php?action=featuredfeed&amp;feed=onthisday&amp;feedformat=atom\" rel=\"alternate\" title='Wikipedia \"On this day...\" feed' type=\"application/atom+xml\"/>\n",
      "<link href=\"/static/apple-touch/wikipedia.png\" rel=\"apple-touch-icon\"/>\n",
      "<link href=\"/static/favicon/wikipedia.ico\" rel=\"icon\"/>\n",
      "<link href=\"/w/opensearch_desc.php\" rel=\"search\" title=\"Wikipedia (en)\" type=\"application/opensearchdescription+xml\"/>\n",
      "<link href=\"//en.wikipedia.org/w/api.php?action=rsd\" rel=\"EditURI\" type=\"application/rsd+xml\"/>\n",
      "<link href=\"https://en.wikipedia.org/wiki/Main_Page\" rel=\"canonical\"/>\n",
      "<link href=\"https://creativecommons.org/licenses/by-sa/4.0/deed.en\" rel=\"license\"/>\n",
      "<link href=\"/w/index.php?title=Special:RecentChanges&amp;feed=atom\" rel=\"alternate\" title=\"Wikipedia Atom feed\" type=\"application/atom+xml\"/>\n",
      "<link href=\"//meta.wikimedia.org\" rel=\"dns-prefetch\">\n",
      "<link href=\"//login.wikimedia.org\" rel=\"dns-prefetch\"/>\n",
      "</link></head>\n",
      "<body class=\"skin-vector skin-vector-search-vue mediawiki ltr sitedir-ltr mw-hide-empty-elt ns-0 ns-subject page-Main_Page rootpage-Main_Page skin-vector-2022 action-view\"><a class=\"mw-jump-link\" href=\"#bodyContent\">Jump to content</a>\n",
      "<div class=\"vector-header-container\">\n",
      "<header class=\"vector-header mw-header\">\n",
      "<div class=\"vector-header-start\">\n",
      "<nav aria-label=\"Site\" class=\"vector-main-menu-landmark\" role=\"navigation\">\n",
      "<div class=\"vector-menu vector-dropdown vector-menu-dropdown vector-main-menu-dropdown vector-button-flush-left vector-button-flush-right\" id=\"vector-main-menu-dropdown\">\n",
      "<input aria-haspopup=\"true\" aria-label=\"Main menu\" class=\"vector-menu-checkbox\" data-event-name=\"ui.dropdown-vector-main-menu-dropdown\" id=\"vector-main-menu-dropdown-checkbox\" role=\"button\" type=\"checkbox\"/>\n",
      "<label aria-hidden=\"true\" class=\"vector-menu-heading cdx-button cdx-button--fake-button cdx-button--fake-button--enabled cdx-button--weight-quiet cdx-button--icon-only\" for=\"vector-main-menu-dropdown-checkbox\" id=\"vector-main-menu-dropdown-label\">\n",
      "<span class=\"vector-icon mw-ui-icon-menu mw-ui-icon-wikimedia-menu\"></span>\n",
      "<span class=\"vector-menu-heading-label\">Main menu</span>\n",
      "</label>\n",
      "<div class=\"vector-menu-content vector-dropdown-content\">\n",
      "<div class=\"vector-unpinned-container\" id=\"vector-main-menu-unpinned-container\">\n",
      "<div class=\"vector-main-menu vector-pinnable-element\" id=\"vector-main-menu\">\n",
      "<div class=\"vector-pinnable-header vector-main-menu-pinnable-header vector-pinnable-header-unpinned\" data-feature-name=\"main-menu-pinned\" data-pinnable-element-id=\"vector-main-menu\" data-pinned-container-id=\"vector-main-menu-pinned-container\" data-unpinned-container-id=\"vector-main-menu-unpinned-container\">\n",
      "<div class=\"vector-pinnable-header-label\">Main menu</div>\n",
      "<button class=\"vector-pinnable-header-toggle-button vector-pinnable-header-pin-button\" data-event-name=\"pinnable-header.vector-main-menu.pin\">move to sidebar</button>\n",
      "<button class=\"vector-pinnable-header-toggle-button vector-pinnable-header-unpin-button\" data-event-name=\"pinnable-header.vector-main-menu.unpin\">hide</button>\n",
      "</div>\n",
      "<div class=\"vector-menu mw-portlet mw-portlet-navigation\" id=\"p-navigation\">\n",
      "<div class=\"vector-menu-heading\">\n",
      "\t\tNavigation\n",
      "\t</div>\n",
      "<div class=\"vector-menu-content\">\n",
      "<ul class=\"vector-menu-content-list\"><li class=\"mw-list-item\" id=\"n-mainpage-description\"><a accesskey=\"z\" href=\"/wiki/Main_Page\" title=\"Visit the main page [z]\"><span>Main page</span></a></li><li class=\"mw-list-item\" id=\"n-contents\"><a href=\"/wiki/Wikipedia:Contents\" title=\"Guides to browsing Wikipedia\"><span>Contents</span></a></li><li class=\"mw-list-item\" id=\"n-currentevents\"><a href=\"/wiki/Portal:Current_events\" title=\"Articles related to current events\"><span>Current events</span></a></li><li class=\"mw-list-item\" id=\"n-randompage\"><a accesskey=\"x\" href=\"/wiki/Special:Random\" title=\"Visit a randomly selected article [x]\"><span>Random article</span></a></li><li class=\"mw-list-item\" id=\"n-aboutsite\"><a href=\"/wiki/Wikipedia:About\" title=\"Learn about Wikipedia and how it works\"><span>About Wikipedia</span></a></li><li class=\"mw-list-item\" id=\"n-contactpage\"><a href=\"//en.wikipedia.org/wiki/Wikipedia:Contact_us\" title=\"How to contact Wikipedia\"><span>Contact us</span></a></li><li class=\"mw-list-item\" id=\"n-sitesupport\"><a href=\"https://donate.wikimedia.org/wiki/Special:FundraiserRedirector?utm_source=donate&amp;utm_medium=sidebar&amp;utm_campaign=C13_en.wikipedia.org&amp;uselang=en\" title=\"Support us by donating to the Wikimedia Foundation\"><span>Donate</span></a></li></ul>\n",
      "</div>\n",
      "</div>\n",
      "<div class=\"vector-menu mw-portlet mw-portlet-interaction\" id=\"p-interaction\">\n",
      "<div class=\"vector-menu-heading\">\n",
      "\t\tContribute\n",
      "\t</div>\n",
      "<div class=\"vector-menu-content\">\n",
      "<ul class=\"vector-menu-content-list\"><li class=\"mw-list-item\" id=\"n-help\"><a href=\"/wiki/Help:Contents\" title=\"Guidance on how to use and edit Wikipedia\"><span>Help</span></a></li><li class=\"mw-list-item\" id=\"n-introduction\"><a href=\"/wiki/Help:Introduction\" title=\"Learn how to edit Wikipedia\"><span>Learn to edit</span></a></li><li class=\"mw-list-item\" id=\"n-portal\"><a href=\"/wiki/Wikipedia:Community_portal\" title=\"The hub for editors\"><span>Community portal</span></a></li><li class=\"mw-list-item\" id=\"n-recentchanges\"><a accesskey=\"r\" href=\"/wiki/Special:RecentChanges\" title=\"A list of recent changes to Wikipedia [r]\"><span>Recent changes</span></a></li><li class=\"mw-list-item\" id=\"n-upload\"><a href=\"/wiki/Wikipedia:File_upload_wizard\" title=\"Add images or other media for use on Wikipedia\"><span>Upload file</span></a></li></ul>\n",
      "</div>\n",
      "</div>\n",
      "</div>\n",
      "</div>\n",
      "</div>\n",
      "</div>\n",
      "</nav>\n",
      "<a class=\"mw-logo\" href=\"/wiki/Main_Page\">\n",
      "<img alt=\"\" aria-hidden=\"true\" class=\"mw-logo-icon\" height=\"50\" src=\"/static/images/icons/wikipedia.png\" width=\"50\"/>\n",
      "<span class=\"mw-logo-container\">\n",
      "<img alt=\"Wikipedia\" class=\"mw-logo-wordmark\" src=\"/static/images/mobile/copyright/wikipedia-wordmark-en.svg\" style=\"width: 7.5em; height: 1.125em;\"/>\n",
      "<img alt=\"The Free Encyclopedia\" class=\"mw-logo-tagline\" height=\"13\" src=\"/static/images/mobile/copyright/wikipedia-tagline-en.svg\" style=\"width: 7.3125em; height: 0.8125em;\" width=\"117\"/>\n",
      "</span>\n",
      "</a>\n",
      "</div>\n",
      "<div class=\"vector-header-end\">\n",
      "<div class=\"vector-search-box-vue vector-search-box-collapses vector-search-box-show-thumbnail vector-search-box-auto-expand-width vector-search-box\" id=\"p-search\" role=\"search\">\n",
      "<a accesskey=\"f\" class=\"cdx-button cdx-button--fake-button cdx-button--fake-button--enabled cdx-button--weight-quiet cdx-button--icon-only search-toggle\" href=\"/wiki/Special:Search\" id=\"\" title=\"Search Wikipedia [f]\"><span class=\"vector-icon mw-ui-icon-search mw-ui-icon-wikimedia-search\"></span>\n",
      "<span>Search</span>\n",
      "</a>\n",
      "<div class=\"vector-typeahead-search-container\">\n",
      "<div class=\"cdx-typeahead-search cdx-typeahead-search--show-thumbnail cdx-typeahead-search--auto-expand-width\">\n",
      "<form action=\"/w/index.php\" class=\"cdx-search-input cdx-search-input--has-end-button\" id=\"searchform\">\n",
      "<div class=\"cdx-search-input__input-wrapper\" data-search-loc=\"header-moved\" id=\"simpleSearch\">\n",
      "<div class=\"cdx-text-input cdx-text-input--has-start-icon\">\n",
      "<input accesskey=\"f\" aria-label=\"Search Wikipedia\" autocapitalize=\"sentences\" class=\"cdx-text-input__input\" id=\"searchInput\" name=\"search\" placeholder=\"Search Wikipedia\" title=\"Search Wikipedia [f]\" type=\"search\"/>\n",
      "<span class=\"cdx-text-input__icon cdx-text-input__start-icon\"></span>\n",
      "</div>\n",
      "<input name=\"title\" type=\"hidden\" value=\"Special:Search\"/>\n",
      "</div>\n",
      "<button class=\"cdx-button cdx-search-input__end-button\">Search</button>\n",
      "</form>\n",
      "</div>\n",
      "</div>\n",
      "</div>\n",
      "<nav aria-label=\"Personal tools\" class=\"vector-user-links\" role=\"navigation\">\n",
      "<div class=\"vector-menu mw-portlet mw-portlet-vector-user-menu-overflow\" id=\"p-vector-user-menu-overflow\">\n",
      "<div class=\"vector-menu-content\">\n",
      "<ul class=\"vector-menu-content-list\"><li class=\"user-links-collapsible-item mw-list-item\" id=\"pt-createaccount-2\"><a href=\"/w/index.php?title=Special:CreateAccount&amp;returnto=Main+Page\" title=\"You are encouraged to create an account and log in; however, it is not mandatory\"><span>Create account</span></a></li><li class=\"user-links-collapsible-item mw-list-item\" id=\"pt-login-2\"><a accesskey=\"o\" href=\"/w/index.php?title=Special:UserLogin&amp;returnto=Main+Page\" title=\"You're encouraged to log in; however, it's not mandatory. [o]\"><span>Log in</span></a></li></ul>\n",
      "</div>\n",
      "</div>\n",
      "<div class=\"vector-menu vector-dropdown vector-menu-dropdown vector-user-menu vector-button-flush-right vector-user-menu-logged-out\" id=\"vector-user-links-dropdown\" title=\"Log in and more options\">\n",
      "<input aria-haspopup=\"true\" aria-label=\"Personal tools\" class=\"vector-menu-checkbox\" data-event-name=\"ui.dropdown-vector-user-links-dropdown\" id=\"vector-user-links-dropdown-checkbox\" role=\"button\" type=\"checkbox\">\n",
      "<label aria-hidden=\"true\" class=\"vector-menu-heading cdx-button cdx-button--fake-button cdx-button--fake-button--enabled cdx-button--weight-quiet cdx-button--icon-only\" for=\"vector-user-links-dropdown-checkbox\" id=\"vector-user-links-dropdown-label\">\n",
      "<span class=\"vector-icon mw-ui-icon-ellipsis mw-ui-icon-wikimedia-ellipsis\"></span>\n",
      "<span class=\"vector-menu-heading-label\">Personal tools</span>\n",
      "</label>\n",
      "<div class=\"vector-menu-content vector-dropdown-content\">\n",
      "<div class=\"vector-menu mw-portlet mw-portlet-personal user-links-collapsible-item\" id=\"p-personal\" title=\"User menu\">\n",
      "<div class=\"vector-menu-content\">\n",
      "<ul class=\"vector-menu-content-list\"><li class=\"user-links-collapsible-item mw-list-item\" id=\"pt-createaccount\"><a href=\"/w/index.php?title=Special:CreateAccount&amp;returnto=Main+Page\" title=\"You are encouraged to create an account and log in; however, it is not mandatory\"><span class=\"vector-icon mw-ui-icon-userAdd mw-ui-icon-wikimedia-userAdd\"></span> <span>Create account</span></a></li><li class=\"user-links-collapsible-item mw-list-item\" id=\"pt-login\"><a accesskey=\"o\" href=\"/w/index.php?title=Special:UserLogin&amp;returnto=Main+Page\" title=\"You're encouraged to log in; however, it's not mandatory. [o]\"><span class=\"vector-icon mw-ui-icon-logIn mw-ui-icon-wikimedia-logIn\"></span> <span>Log in</span></a></li></ul>\n",
      "</div>\n",
      "</div>\n",
      "<div class=\"vector-menu mw-portlet mw-portlet-user-menu-anon-editor\" id=\"p-user-menu-anon-editor\">\n",
      "<div class=\"vector-menu-heading\">\n",
      "\t\tPages for logged out editors <a aria-label=\"Learn more about editing\" href=\"/wiki/Help:Introduction\"><span>learn more</span></a>\n",
      "</div>\n",
      "<div class=\"vector-menu-content\">\n",
      "<ul class=\"vector-menu-content-list\"><li class=\"mw-list-item\" id=\"pt-anoncontribs\"><a accesskey=\"y\" href=\"/wiki/Special:MyContributions\" title=\"A list of edits made from this IP address [y]\"><span>Contributions</span></a></li><li class=\"mw-list-item\" id=\"pt-anontalk\"><a accesskey=\"n\" href=\"/wiki/Special:MyTalk\" title=\"Discussion about edits from this IP address [n]\"><span>Talk</span></a></li></ul>\n",
      "</div>\n",
      "</div>\n",
      "</div>\n",
      "</input></div>\n",
      "</nav>\n",
      "</div>\n",
      "</header>\n",
      "</div>\n",
      "<div class=\"mw-page-container\">\n",
      "<div class=\"mw-page-container-inner\">\n",
      "<div class=\"vector-main-menu-container vector-sidebar-container-no-toc\">\n",
      "<div id=\"mw-navigation\">\n",
      "<nav aria-label=\"Site\" class=\"vector-main-menu-landmark\" id=\"mw-panel\" role=\"navigation\">\n",
      "<div class=\"vector-pinned-container\" id=\"vector-main-menu-pinned-container\">\n",
      "</div>\n",
      "</nav>\n",
      "</div>\n",
      "</div>\n",
      "<div class=\"vector-sitenotice-container\">\n",
      "<div id=\"siteNotice\"><!-- CentralNotice --></div>\n",
      "</div>\n",
      "<div class=\"mw-content-container\">\n",
      "<main class=\"mw-body\" id=\"content\" role=\"main\">\n",
      "<header class=\"mw-body-header vector-page-titlebar vector-page-titlebar-blank\">\n",
      "<h1 class=\"firstHeading mw-first-heading\" id=\"firstHeading\" style=\"display: none\"><span class=\"mw-page-title-main\">Main Page</span></h1>\n",
      "<div class=\"mw-indicators\">\n",
      "</div>\n",
      "</header>\n",
      "<div class=\"vector-page-toolbar\">\n",
      "<div class=\"vector-page-toolbar-container\">\n",
      "<div id=\"left-navigation\">\n",
      "<nav aria-label=\"Namespaces\">\n",
      "<div class=\"vector-menu vector-menu-tabs mw-portlet mw-portlet-associated-pages\" id=\"p-associated-pages\">\n",
      "<div class=\"vector-menu-content\">\n",
      "<ul class=\"vector-menu-content-list\">\n",
      "<li class=\"selected vector-tab-noicon mw-list-item\" id=\"ca-nstab-main\"><a accesskey=\"c\" class=\"\" data-mw=\"interface\" href=\"/wiki/Main_Page\" title=\"View the content page [c]\"><span>Main Page</span></a>\n",
      "</li>\n",
      "<li class=\"vector-tab-noicon mw-list-item\" id=\"ca-talk\"><a accesskey=\"t\" class=\"\" data-mw=\"interface\" href=\"/wiki/Talk:Main_Page\" rel=\"discussion\" title=\"Discuss improvements to the content page [t]\"><span>Talk</span></a>\n",
      "</li>\n",
      "</ul>\n",
      "</div>\n",
      "</div>\n",
      "<div class=\"vector-menu vector-dropdown vector-menu-dropdown mw-portlet mw-portlet-variants emptyPortlet\" id=\"p-variants\">\n",
      "<input aria-haspopup=\"true\" aria-label=\"Change language variant\" class=\"vector-menu-checkbox\" data-event-name=\"ui.dropdown-p-variants\" id=\"p-variants-checkbox\" role=\"button\" type=\"checkbox\">\n",
      "<label aria-hidden=\"true\" class=\"vector-menu-heading\" for=\"p-variants-checkbox\" id=\"p-variants-label\">\n",
      "<span class=\"vector-menu-heading-label\">English</span>\n",
      "</label>\n",
      "<div class=\"vector-menu-content vector-dropdown-content\">\n",
      "<div class=\"vector-menu-content\">\n",
      "<ul class=\"vector-menu-content-list\"></ul>\n",
      "</div>\n",
      "</div>\n",
      "</input></div>\n",
      "</nav>\n",
      "</div>\n",
      "<div class=\"vector-collapsible\" id=\"right-navigation\">\n",
      "<nav aria-label=\"Views\">\n",
      "<div class=\"vector-menu vector-menu-tabs mw-portlet mw-portlet-views\" id=\"p-views\">\n",
      "<div class=\"vector-menu-content\">\n",
      "<ul class=\"vector-menu-content-list\">\n",
      "<li class=\"selected vector-tab-noicon mw-list-item\" id=\"ca-view\"><a class=\"\" data-mw=\"interface\" href=\"/wiki/Main_Page\"><span>Read</span></a>\n",
      "</li>\n",
      "<li class=\"vector-tab-noicon mw-list-item\" id=\"ca-viewsource\"><a accesskey=\"e\" class=\"\" data-mw=\"interface\" href=\"/w/index.php?title=Main_Page&amp;action=edit\" title=\"This page is protected.\n",
      "You can view its source [e]\"><span>View source</span></a>\n",
      "</li>\n",
      "<li class=\"vector-tab-noicon mw-list-item\" id=\"ca-history\"><a accesskey=\"h\" class=\"\" data-mw=\"interface\" href=\"/w/index.php?title=Main_Page&amp;action=history\" title=\"Past revisions of this page [h]\"><span>View history</span></a>\n",
      "</li>\n",
      "</ul>\n",
      "</div>\n",
      "</div>\n",
      "</nav>\n",
      "<nav aria-label=\"More options\" class=\"vector-page-tools-landmark\">\n",
      "<div class=\"vector-menu vector-dropdown vector-menu-dropdown vector-page-tools-dropdown\" id=\"vector-page-tools-dropdown\">\n",
      "<input aria-haspopup=\"true\" aria-label=\"Tools\" class=\"vector-menu-checkbox\" data-event-name=\"ui.dropdown-vector-page-tools-dropdown\" id=\"vector-page-tools-dropdown-checkbox\" role=\"button\" type=\"checkbox\"/>\n",
      "<label aria-hidden=\"true\" class=\"vector-menu-heading cdx-button cdx-button--fake-button cdx-button--fake-button--enabled cdx-button--weight-quiet\" for=\"vector-page-tools-dropdown-checkbox\" id=\"vector-page-tools-dropdown-label\">\n",
      "<span class=\"vector-menu-heading-label\">Tools</span>\n",
      "</label>\n",
      "<div class=\"vector-menu-content vector-dropdown-content\">\n",
      "<div class=\"vector-unpinned-container\" id=\"vector-page-tools-unpinned-container\">\n",
      "<div class=\"vector-page-tools vector-pinnable-element\" id=\"vector-page-tools\">\n",
      "<div class=\"vector-pinnable-header vector-page-tools-pinnable-header vector-pinnable-header-unpinned\" data-feature-name=\"page-tools-pinned\" data-pinnable-element-id=\"vector-page-tools\" data-pinned-container-id=\"vector-page-tools-pinned-container\" data-unpinned-container-id=\"vector-page-tools-unpinned-container\">\n",
      "<div class=\"vector-pinnable-header-label\">Tools</div>\n",
      "<button class=\"vector-pinnable-header-toggle-button vector-pinnable-header-pin-button\" data-event-name=\"pinnable-header.vector-page-tools.pin\">move to sidebar</button>\n",
      "<button class=\"vector-pinnable-header-toggle-button vector-pinnable-header-unpin-button\" data-event-name=\"pinnable-header.vector-page-tools.unpin\">hide</button>\n",
      "</div>\n",
      "<div class=\"vector-menu mw-portlet mw-portlet-cactions emptyPortlet vector-has-collapsible-items\" id=\"p-cactions\" title=\"More options\">\n",
      "<div class=\"vector-menu-heading\">\n",
      "\t\tActions\n",
      "\t</div>\n",
      "<div class=\"vector-menu-content\">\n",
      "<ul class=\"vector-menu-content-list\"><li class=\"selected vector-more-collapsible-item mw-list-item\" id=\"ca-more-view\"><a href=\"/wiki/Main_Page\"><span>Read</span></a></li><li class=\"vector-more-collapsible-item mw-list-item\" id=\"ca-more-viewsource\"><a href=\"/w/index.php?title=Main_Page&amp;action=edit\"><span>View source</span></a></li><li class=\"vector-more-collapsible-item mw-list-item\" id=\"ca-more-history\"><a href=\"/w/index.php?title=Main_Page&amp;action=history\"><span>View history</span></a></li></ul>\n",
      "</div>\n",
      "</div>\n",
      "<div class=\"vector-menu mw-portlet mw-portlet-tb\" id=\"p-tb\">\n",
      "<div class=\"vector-menu-heading\">\n",
      "\t\tGeneral\n",
      "\t</div>\n",
      "<div class=\"vector-menu-content\">\n",
      "<ul class=\"vector-menu-content-list\"><li class=\"mw-list-item\" id=\"t-whatlinkshere\"><a accesskey=\"j\" href=\"/wiki/Special:WhatLinksHere/Main_Page\" title=\"List of all English Wikipedia pages containing links to this page [j]\"><span>What links here</span></a></li><li class=\"mw-list-item\" id=\"t-recentchangeslinked\"><a accesskey=\"k\" href=\"/wiki/Special:RecentChangesLinked/Main_Page\" rel=\"nofollow\" title=\"Recent changes in pages linked from this page [k]\"><span>Related changes</span></a></li><li class=\"mw-list-item\" id=\"t-upload\"><a accesskey=\"u\" href=\"/wiki/Wikipedia:File_Upload_Wizard\" title=\"Upload files [u]\"><span>Upload file</span></a></li><li class=\"mw-list-item\" id=\"t-specialpages\"><a accesskey=\"q\" href=\"/wiki/Special:SpecialPages\" title=\"A list of all special pages [q]\"><span>Special pages</span></a></li><li class=\"mw-list-item\" id=\"t-permalink\"><a href=\"/w/index.php?title=Main_Page&amp;oldid=1114291180\" title=\"Permanent link to this revision of this page\"><span>Permanent link</span></a></li><li class=\"mw-list-item\" id=\"t-info\"><a href=\"/w/index.php?title=Main_Page&amp;action=info\" title=\"More information about this page\"><span>Page information</span></a></li><li class=\"mw-list-item\" id=\"t-cite\"><a href=\"/w/index.php?title=Special:CiteThisPage&amp;page=Main_Page&amp;id=1114291180&amp;wpFormIdentifier=titleform\" title=\"Information on how to cite this page\"><span>Cite this page</span></a></li><li class=\"mw-list-item\" id=\"t-wikibase\"><a accesskey=\"g\" href=\"https://www.wikidata.org/wiki/Special:EntityPage/Q5296\" title=\"Structured data on this page hosted by Wikidata [g]\"><span>Wikidata item</span></a></li></ul>\n",
      "</div>\n",
      "</div>\n",
      "<div class=\"vector-menu mw-portlet mw-portlet-coll-print_export\" id=\"p-coll-print_export\">\n",
      "<div class=\"vector-menu-heading\">\n",
      "\t\tPrint/export\n",
      "\t</div>\n",
      "<div class=\"vector-menu-content\">\n",
      "<ul class=\"vector-menu-content-list\"><li class=\"mw-list-item\" id=\"coll-download-as-rl\"><a href=\"/w/index.php?title=Special:DownloadAsPdf&amp;page=Main_Page&amp;action=show-download-screen\" title=\"Download this page as a PDF file\"><span>Download as PDF</span></a></li><li class=\"mw-list-item\" id=\"t-print\"><a accesskey=\"p\" href=\"/w/index.php?title=Main_Page&amp;printable=yes\" title=\"Printable version of this page [p]\"><span>Printable version</span></a></li></ul>\n",
      "</div>\n",
      "</div>\n",
      "<div class=\"vector-menu mw-portlet mw-portlet-wikibase-otherprojects\" id=\"p-wikibase-otherprojects\">\n",
      "<div class=\"vector-menu-heading\">\n",
      "\t\tIn other projects\n",
      "\t</div>\n",
      "<div class=\"vector-menu-content\">\n",
      "<ul class=\"vector-menu-content-list\"><li class=\"wb-otherproject-link wb-otherproject-commons mw-list-item\"><a href=\"https://commons.wikimedia.org/wiki/Main_Page\" hreflang=\"en\"><span>Wikimedia Commons</span></a></li><li class=\"wb-otherproject-link wb-otherproject-mediawiki mw-list-item\"><a href=\"https://www.mediawiki.org/wiki/MediaWiki\" hreflang=\"en\"><span>MediaWiki</span></a></li><li class=\"wb-otherproject-link wb-otherproject-meta mw-list-item\"><a href=\"https://meta.wikimedia.org/wiki/Main_Page\" hreflang=\"en\"><span>Meta-Wiki</span></a></li><li class=\"wb-otherproject-link wb-otherproject-outreach mw-list-item\"><a href=\"https://outreach.wikimedia.org/wiki/Main_Page\" hreflang=\"en\"><span>Wikimedia Outreach</span></a></li><li class=\"wb-otherproject-link wb-otherproject-sources mw-list-item\"><a href=\"https://wikisource.org/wiki/Main_Page\" hreflang=\"en\"><span>Multilingual Wikisource</span></a></li><li class=\"wb-otherproject-link wb-otherproject-species mw-list-item\"><a href=\"https://species.wikimedia.org/wiki/Main_Page\" hreflang=\"en\"><span>Wikispecies</span></a></li><li class=\"wb-otherproject-link wb-otherproject-wikibooks mw-list-item\"><a href=\"https://en.wikibooks.org/wiki/Main_Page\" hreflang=\"en\"><span>Wikibooks</span></a></li><li class=\"wb-otherproject-link wb-otherproject-wikidata mw-list-item\"><a href=\"https://www.wikidata.org/wiki/Wikidata:Main_Page\" hreflang=\"en\"><span>Wikidata</span></a></li><li class=\"wb-otherproject-link wb-otherproject-wikimania badge-Q70893996 mw-list-item\" title=\"\"><a href=\"https://wikimania.wikimedia.org/wiki/Wikimania\" hreflang=\"en\"><span>Wikimania</span></a></li><li class=\"wb-otherproject-link wb-otherproject-wikinews mw-list-item\"><a href=\"https://en.wikinews.org/wiki/Main_Page\" hreflang=\"en\"><span>Wikinews</span></a></li><li class=\"wb-otherproject-link wb-otherproject-wikiquote mw-list-item\"><a href=\"https://en.wikiquote.org/wiki/Main_Page\" hreflang=\"en\"><span>Wikiquote</span></a></li><li class=\"wb-otherproject-link wb-otherproject-wikisource mw-list-item\"><a href=\"https://en.wikisource.org/wiki/Main_Page\" hreflang=\"en\"><span>Wikisource</span></a></li><li class=\"wb-otherproject-link wb-otherproject-wikiversity mw-list-item\"><a href=\"https://en.wikiversity.org/wiki/Wikiversity:Main_Page\" hreflang=\"en\"><span>Wikiversity</span></a></li><li class=\"wb-otherproject-link wb-otherproject-wikivoyage mw-list-item\"><a href=\"https://en.wikivoyage.org/wiki/Main_Page\" hreflang=\"en\"><span>Wikivoyage</span></a></li><li class=\"wb-otherproject-link wb-otherproject-wiktionary mw-list-item\"><a href=\"https://en.wiktionary.org/wiki/Wiktionary:Main_Page\" hreflang=\"en\"><span>Wiktionary</span></a></li></ul>\n",
      "</div>\n",
      "</div>\n",
      "</div>\n",
      "</div>\n",
      "</div>\n",
      "</div>\n",
      "</nav>\n",
      "</div>\n",
      "</div>\n",
      "</div>\n",
      "<div class=\"vector-column-end\">\n",
      "<nav aria-label=\"More options\" class=\"vector-page-tools-landmark vector-sticky-pinned-container\">\n",
      "<div class=\"vector-pinned-container\" id=\"vector-page-tools-pinned-container\">\n",
      "</div>\n",
      "</nav>\n",
      "</div>\n",
      "<div aria-labelledby=\"firstHeading\" class=\"vector-body\" data-mw-ve-target-container=\"\" id=\"bodyContent\">\n",
      "<div class=\"vector-body-before-content\">\n",
      "<div class=\"noprint\" id=\"siteSub\">From Wikipedia, the free encyclopedia</div>\n",
      "</div>\n",
      "<div id=\"contentSub\"><div id=\"mw-content-subtitle\"></div></div>\n",
      "<div class=\"mw-body-content mw-content-ltr\" dir=\"ltr\" id=\"mw-content-text\" lang=\"en\"><div class=\"mw-parser-output\"><style data-mw-deduplicate=\"TemplateStyles:r1131603205\">.mw-parser-output .mp-box{border:1px solid #aaa;padding:0 0.5em 0.5em;margin-top:4px}.mw-parser-output .mp-h2,body.skin-timeless .mw-parser-output .mp-h2{border:1px solid #aaa;margin:0.5em 0;padding:0.2em 0.4em;font-size:120%;font-weight:bold;font-family:inherit}.mw-parser-output .mp-later{font-size:85%;font-weight:normal}.mw-parser-output #mp-topbanner{background:#f9f9f9;border-color:#ddd}.mw-parser-output #mp-welcomecount{text-align:center;margin:0.4em}.mw-parser-output #mp-welcome{font-size:162%;padding:0.1em}.mw-parser-output #mp-welcome h1{font-size:inherit;font-family:inherit;display:inline;border:none}.mw-parser-output #mp-free{font-size:95%}.mw-parser-output #articlecount{font-size:85%}.mw-parser-output .mp-contains-float::after{content:\"\";display:block;clear:both}.mw-parser-output #mp-banner{background:#fffaf5;border-color:#f2e0ce}.mw-parser-output #mp-left{background:#f5fffa;border-color:#cef2e0}.mw-parser-output #mp-left .mp-h2{background:#cef2e0;border-color:#a3bfb1}.mw-parser-output #mp-right{background:#f5faff;border-color:#cedff2}.mw-parser-output #mp-right .mp-h2{background:#cedff2;border-color:#a3b0bf}.mw-parser-output #mp-middle{background:#fff5fa;border-color:#f2cedd}.mw-parser-output #mp-middle .mp-h2{background:#f2cedd;border-color:#bfa3af}.mw-parser-output #mp-lower{background:#faf5ff;border-color:#ddcef2}.mw-parser-output #mp-lower .mp-h2{background:#ddcef2;border-color:#afa3bf}.mw-parser-output #mp-bottom{border-color:#e2e2e2}.mw-parser-output #mp-bottom .mp-h2{background:#eee;border-color:#ddd}@media(max-width:875px){.mw-parser-output #mp-tfp table,.mw-parser-output #mp-tfp tr,.mw-parser-output #mp-tfp td,.mw-parser-output #mp-tfp tbody{display:block!important;width:100%!important;box-sizing:border-box}.mw-parser-output #mp-tfp tr:first-child td:first-child a{text-align:center;display:table;margin:0 auto}}@media(min-width:875px){.mw-parser-output #mp-upper{display:flex}.mw-parser-output #mp-left{flex:1 1 55%;margin-right:2px}.mw-parser-output #mp-right{flex:1 1 45%;margin-left:2px}}</style>\n",
      "<div class=\"mp-box\" id=\"mp-topbanner\">\n",
      "<div id=\"mp-welcomecount\">\n",
      "<div id=\"mp-welcome\"><h1><span class=\"mw-headline\" id=\"Welcome_to_Wikipedia\">Welcome to <a href=\"/wiki/Wikipedia\" title=\"Wikipedia\">Wikipedia</a></span></h1>,</div>\n",
      "<div id=\"mp-free\">the <a href=\"/wiki/Free_content\" title=\"Free content\">free</a> <a href=\"/wiki/Encyclopedia\" title=\"Encyclopedia\">encyclopedia</a> that <a href=\"/wiki/Help:Introduction_to_Wikipedia\" title=\"Help:Introduction to Wikipedia\">anyone can edit</a>.</div>\n",
      "<div id=\"articlecount\"><a href=\"/wiki/Special:Statistics\" title=\"Special:Statistics\">6,673,255</a> articles in <a href=\"/wiki/English_language\" title=\"English language\">English</a></div>\n",
      "</div>\n",
      "</div>\n",
      "<div id=\"mp-upper\">\n",
      "<div class=\"MainPageBG mp-box\" id=\"mp-left\">\n",
      "<h2 class=\"mp-h2\" id=\"mp-tfa-h2\"><span id=\"From_today.27s_featured_article\"></span><span class=\"mw-headline\" id=\"From_today's_featured_article\">From today's featured article</span></h2>\n",
      "<div class=\"mp-contains-float\" id=\"mp-tfa\"><div id=\"mp-tfa-img\" style=\"float: left; margin: 0.5em 0.9em 0.4em 0em;\">\n",
      "<div class=\"thumbinner mp-thumb\" style=\"background: transparent; border: none; padding: 0; max-width: 116px;\">\n",
      "<a class=\"image\" href=\"/wiki/File:Banksia_grossa_3_nofbadgingarra_email.jpg\" title=\"Banksia grossa\"><img alt=\"Banksia grossa\" data-file-height=\"663\" data-file-width=\"455\" decoding=\"async\" height=\"169\" src=\"//upload.wikimedia.org/wikipedia/commons/thumb/0/02/Banksia_grossa_3_nofbadgingarra_email.jpg/116px-Banksia_grossa_3_nofbadgingarra_email.jpg\" srcset=\"//upload.wikimedia.org/wikipedia/commons/thumb/0/02/Banksia_grossa_3_nofbadgingarra_email.jpg/174px-Banksia_grossa_3_nofbadgingarra_email.jpg 1.5x, //upload.wikimedia.org/wikipedia/commons/thumb/0/02/Banksia_grossa_3_nofbadgingarra_email.jpg/232px-Banksia_grossa_3_nofbadgingarra_email.jpg 2x\" width=\"116\"/></a></div>\n",
      "</div>\n",
      "<p><i><b><a href=\"/wiki/Banksia_grossa\" title=\"Banksia grossa\">Banksia grossa</a></b></i> is a shrub in the plant family <a href=\"/wiki/Proteaceae\" title=\"Proteaceae\">Proteaceae</a> endemic to <a href=\"/wiki/Southwest_Australia\" title=\"Southwest Australia\">Southwest Australia</a>. It is one of fourteen species of <a href=\"/wiki/Banksia\" title=\"Banksia\">banksia</a> in the series <i><a href=\"/wiki/Banksia_ser._Abietinae\" title=\"Banksia ser. Abietinae\">Abietinae</a></i>, which bear round or oval <a href=\"/wiki/Inflorescence\" title=\"Inflorescence\">inflorescences</a>. Collected in 1965, it was <a href=\"/wiki/Species_description\" title=\"Species description\">described</a> in 1981 by <a href=\"/wiki/Alex_George_(botanist)\" title=\"Alex George (botanist)\">Alex George</a>. Its thick leaves and large seeds distinguish it from other <i>Abietinae</i> species. It is found among heath between <a href=\"/wiki/Eneabba,_Western_Australia\" title=\"Eneabba, Western Australia\">Eneabba</a> and <a href=\"/wiki/Badgingarra,_Western_Australia\" title=\"Badgingarra, Western Australia\">Badgingarra</a>, in shallow sand over <a href=\"/wiki/Laterite\" title=\"Laterite\">laterite</a> or in deep sand. It grows as a many-stemmed shrub to 1 m (3 ft) high with narrow leaves and oval brownish flower spikes up to 10 cm (4 in) high, composed of hundreds of individual flowers. Flowering occurs throughout the cooler months. Old flower spikes develop woody <a href=\"/wiki/Follicle_(fruit)\" title=\"Follicle (fruit)\">follicles</a> which bear the seeds. The plant takes five to seven years to reach maturity and begin flowering. After bushfire, <i>B. grossa</i> regenerates from its woody <a href=\"/wiki/Lignotuber\" title=\"Lignotuber\">lignotuber</a>; bushfires also stimulate the release of seeds, which germinate after <a href=\"/wiki/Disturbance_(ecology)\" title=\"Disturbance (ecology)\">disturbance</a>. Visitors to inflorescences include insects and the nocturnal <a href=\"/wiki/White-tailed_dunnart\" title=\"White-tailed dunnart\">white-tailed dunnart</a>. (<b><a href=\"/wiki/Banksia_grossa\" title=\"Banksia grossa\">Full article...</a></b>)\n",
      "</p>\n",
      "<div class=\"tfa-recent\" style=\"text-align: right;\">\n",
      "Recently featured: <style data-mw-deduplicate=\"TemplateStyles:r1129693374\">.mw-parser-output .hlist dl,.mw-parser-output .hlist ol,.mw-parser-output .hlist ul{margin:0;padding:0}.mw-parser-output .hlist dd,.mw-parser-output .hlist dt,.mw-parser-output .hlist li{margin:0;display:inline}.mw-parser-output .hlist.inline,.mw-parser-output .hlist.inline dl,.mw-parser-output .hlist.inline ol,.mw-parser-output .hlist.inline ul,.mw-parser-output .hlist dl dl,.mw-parser-output .hlist dl ol,.mw-parser-output .hlist dl ul,.mw-parser-output .hlist ol dl,.mw-parser-output .hlist ol ol,.mw-parser-output .hlist ol ul,.mw-parser-output .hlist ul dl,.mw-parser-output .hlist ul ol,.mw-parser-output .hlist ul ul{display:inline}.mw-parser-output .hlist .mw-empty-li{display:none}.mw-parser-output .hlist dt::after{content:\": \"}.mw-parser-output .hlist dd::after,.mw-parser-output .hlist li::after{content:\" · \";font-weight:bold}.mw-parser-output .hlist dd:last-child::after,.mw-parser-output .hlist dt:last-child::after,.mw-parser-output .hlist li:last-child::after{content:none}.mw-parser-output .hlist dd dd:first-child::before,.mw-parser-output .hlist dd dt:first-child::before,.mw-parser-output .hlist dd li:first-child::before,.mw-parser-output .hlist dt dd:first-child::before,.mw-parser-output .hlist dt dt:first-child::before,.mw-parser-output .hlist dt li:first-child::before,.mw-parser-output .hlist li dd:first-child::before,.mw-parser-output .hlist li dt:first-child::before,.mw-parser-output .hlist li li:first-child::before{content:\" (\";font-weight:normal}.mw-parser-output .hlist dd dd:last-child::after,.mw-parser-output .hlist dd dt:last-child::after,.mw-parser-output .hlist dd li:last-child::after,.mw-parser-output .hlist dt dd:last-child::after,.mw-parser-output .hlist dt dt:last-child::after,.mw-parser-output .hlist dt li:last-child::after,.mw-parser-output .hlist li dd:last-child::after,.mw-parser-output .hlist li dt:last-child::after,.mw-parser-output .hlist li li:last-child::after{content:\")\";font-weight:normal}.mw-parser-output .hlist ol{counter-reset:listitem}.mw-parser-output .hlist ol>li{counter-increment:listitem}.mw-parser-output .hlist ol>li::before{content:\" \"counter(listitem)\"\\a0 \"}.mw-parser-output .hlist dd ol>li:first-child::before,.mw-parser-output .hlist dt ol>li:first-child::before,.mw-parser-output .hlist li ol>li:first-child::before{content:\" (\"counter(listitem)\"\\a0 \"}</style><div class=\"hlist inline\">\n",
      "<ul><li><a href=\"/wiki/Cerro_Tuzgle\" title=\"Cerro Tuzgle\">Cerro Tuzgle</a></li>\n",
      "<li><a href=\"/wiki/Battle_of_Lake_Trasimene\" title=\"Battle of Lake Trasimene\">Battle of Lake Trasimene</a></li>\n",
      "<li><a href=\"/wiki/North_East_MRT_line\" title=\"North East MRT line\">North East MRT line</a></li></ul>\n",
      "</div></div>\n",
      "<link href=\"mw-data:TemplateStyles:r1129693374\" rel=\"mw-deduplicated-inline-style\"/><div class=\"hlist tfa-footer noprint\" style=\"text-align:right;\">\n",
      "<ul><li><b><a href=\"/wiki/Wikipedia:Today%27s_featured_article/June_2023\" title=\"Wikipedia:Today's featured article/June 2023\">Archive</a></b></li>\n",
      "<li><b><a class=\"extiw\" href=\"https://lists.wikimedia.org/postorius/lists/daily-article-l.lists.wikimedia.org/\" title=\"mail:daily-article-l\">By email</a></b></li>\n",
      "<li><b><a href=\"/wiki/Wikipedia:Featured_articles\" title=\"Wikipedia:Featured articles\">More featured articles</a></b></li>\n",
      "<li><b><a href=\"/wiki/Wikipedia:About_Today%27s_featured_article\" title=\"Wikipedia:About Today's featured article\">About</a></b></li></ul>\n",
      "</div></div>\n",
      "<h2 class=\"mp-h2\" id=\"mp-dyk-h2\"><span class=\"mw-headline\" id=\"Did_you_know_...\">Did you know ...</span></h2>\n",
      "<div class=\"mp-contains-float\" id=\"mp-dyk\">\n",
      "<div class=\"dyk-img\" style=\"float: right; margin-left: 0.5em;\">\n",
      "<div class=\"thumbinner mp-thumb\" style=\"background: transparent; border: none; padding: 0; max-width: 179px;\">\n",
      "<a class=\"image\" href=\"/wiki/File:Gustave_Courbet_-_The_Stonebreakers_-_WGA05457.jpg\" title=\"The Stone Breakers\"><img alt=\"The Stone Breakers\" data-file-height=\"800\" data-file-width=\"1315\" decoding=\"async\" height=\"109\" src=\"//upload.wikimedia.org/wikipedia/commons/thumb/4/46/Gustave_Courbet_-_The_Stonebreakers_-_WGA05457.jpg/179px-Gustave_Courbet_-_The_Stonebreakers_-_WGA05457.jpg\" srcset=\"//upload.wikimedia.org/wikipedia/commons/thumb/4/46/Gustave_Courbet_-_The_Stonebreakers_-_WGA05457.jpg/269px-Gustave_Courbet_-_The_Stonebreakers_-_WGA05457.jpg 1.5x, //upload.wikimedia.org/wikipedia/commons/thumb/4/46/Gustave_Courbet_-_The_Stonebreakers_-_WGA05457.jpg/358px-Gustave_Courbet_-_The_Stonebreakers_-_WGA05457.jpg 2x\" width=\"179\"/></a><div class=\"thumbcaption\" style=\"padding: 0.25em 0; word-wrap: break-word;\"><i>The Stone Breakers</i></div></div>\n",
      "</div>\n",
      "<ul><li>... that the 1849 painting <i><b><a href=\"/wiki/The_Stone_Breakers\" title=\"The Stone Breakers\">The Stone Breakers</a></b></i> <i>(pictured)</i>, by French artist <a href=\"/wiki/Gustave_Courbet\" title=\"Gustave Courbet\">Gustave Courbet</a>, was destroyed in 1945 during a bombing raid by the <a href=\"/wiki/Allies_of_World_War_II\" title=\"Allies of World War II\">Allies of World War II</a>?</li>\n",
      "<li>... that in 2007, <b><a href=\"/wiki/Joe_A._Garcia\" title=\"Joe A. Garcia\">Joe Garcia</a></b> became the first governor of a <a href=\"/wiki/Pueblo\" title=\"Pueblo\">pueblo</a> to swear in the <a href=\"/wiki/Governor_of_New_Mexico\" title=\"Governor of New Mexico\">governor of New Mexico</a>?</li>\n",
      "<li>... that the studios of <b><a href=\"/wiki/KPBT-TV\" title=\"KPBT-TV\">Basin PBS</a></b> had once been a movie theater, a church meeting space, and a nightclub?</li>\n",
      "<li>... that while being considered for the post of ambassador to Paraguay, <b><a href=\"/wiki/Lidia_Patty\" title=\"Lidia Patty\">Lidia Patty</a></b> brushed off her lack of diplomatic training because she had \"<a href=\"/wiki/Indigenous_peoples_in_Bolivia\" title=\"Indigenous peoples in Bolivia\">indigenous, native, peasant</a> diplomacy\"?</li>\n",
      "<li>... that all species of the genus <i><b><a href=\"/wiki/Odontorrhina\" title=\"Odontorrhina\">Odontorrhina</a></b></i> are covered with dense bristly hairs?</li>\n",
      "<li>... that <b><a href=\"/wiki/Arnie_Roth_(character)\" title=\"Arnie Roth (character)\">Arnie Roth</a></b> debuted as a gay <a href=\"/wiki/Marvel_Comics\" title=\"Marvel Comics\">Marvel Comics</a> character at a time when the publisher maintained a \"No Gays in the <a href=\"/wiki/Marvel_Universe\" title=\"Marvel Universe\">Marvel Universe</a>\" policy?</li>\n",
      "<li>... that after being arrested for organizing a <a href=\"/wiki/General_strike\" title=\"General strike\">general strike</a> in 1920, <b><a href=\"/wiki/Sergey_Girinis\" title=\"Sergey Girinis\">S. Girinis</a></b> was sent to the Soviet Union following a Soviet-Lithuanian exchange of political prisoners?</li>\n",
      "<li>... that <b><a href=\"/wiki/Pope_Sisinnius\" title=\"Pope Sisinnius\">Pope Sisinnius</a></b> was pope for only 20 days?</li></ul>\n",
      "<link href=\"mw-data:TemplateStyles:r1129693374\" rel=\"mw-deduplicated-inline-style\"/><div class=\"hlist dyk-footer noprint\" style=\"margin-top: 0.5em; text-align: right;\">\n",
      "<ul><li><b><a href=\"/wiki/Wikipedia:Recent_additions\" title=\"Wikipedia:Recent additions\">Archive</a></b></li>\n",
      "<li><b><a href=\"/wiki/Help:Your_first_article\" title=\"Help:Your first article\">Start a new article</a></b></li>\n",
      "<li><b><a href=\"/wiki/Template_talk:Did_you_know\" title=\"Template talk:Did you know\">Nominate an article</a></b></li></ul>\n",
      "</div>\n",
      "</div>\n",
      "</div>\n",
      "<div class=\"MainPageBG mp-box\" id=\"mp-right\">\n",
      "<h2 class=\"mp-h2\" id=\"mp-itn-h2\"><span class=\"mw-headline\" id=\"In_the_news\">In the news</span></h2>\n",
      "<div class=\"mp-contains-float\" id=\"mp-itn\"><style data-mw-deduplicate=\"TemplateStyles:r1053378754\">.mw-parser-output .itn-img{float:right;margin-left:0.5em;margin-top:0.2em}</style><div class=\"itn-img\" role=\"figure\">\n",
      "<div class=\"thumbinner mp-thumb\" style=\"background: transparent; border: none; padding: 0; max-width: 120px;\">\n",
      "<a class=\"image\" href=\"/wiki/File:Wyndham_Clark_2023_01a.png\" title=\"Wyndham Clark in 2023\"><img alt=\"Wyndham Clark in 2023\" data-file-height=\"1463\" data-file-width=\"1080\" decoding=\"async\" height=\"163\" src=\"//upload.wikimedia.org/wikipedia/commons/thumb/6/6f/Wyndham_Clark_2023_01a.png/120px-Wyndham_Clark_2023_01a.png\" srcset=\"//upload.wikimedia.org/wikipedia/commons/thumb/6/6f/Wyndham_Clark_2023_01a.png/180px-Wyndham_Clark_2023_01a.png 1.5x, //upload.wikimedia.org/wikipedia/commons/thumb/6/6f/Wyndham_Clark_2023_01a.png/240px-Wyndham_Clark_2023_01a.png 2x\" width=\"120\"/></a><div class=\"thumbcaption\" style=\"padding: 0.25em 0; word-wrap: break-word; text-align: left;\">Wyndham Clark</div></div>\n",
      "</div>\n",
      "<ul><li><b><a href=\"/wiki/T%C3%A1mara_prison_riot\" title=\"Támara prison riot\">A women's prison riot</a></b> near <a href=\"/wiki/Tegucigalpa\" title=\"Tegucigalpa\">Tegucigalpa</a>, Honduras, leaves at least 46 inmates dead.</li>\n",
      "<li>In <a href=\"/wiki/Golf\" title=\"Golf\">golf</a>, <a href=\"/wiki/Wyndham_Clark\" title=\"Wyndham Clark\">Wyndham Clark</a> <i>(pictured)</i> wins <b><a href=\"/wiki/2023_U.S._Open_(golf)\" title=\"2023 U.S. Open (golf)\">the U.S. Open</a></b>.</li>\n",
      "<li>Five people die in <b><a href=\"/wiki/2023_Titan_submersible_incident\" title=\"2023 Titan submersible incident\">a submersible implosion</a></b> in the North Atlantic near the <a href=\"/wiki/Wreck_of_the_Titanic\" title=\"Wreck of the Titanic\">wreck of the <i>Titanic</i></a>.</li>\n",
      "<li>In Uganda, the <a href=\"/wiki/Allied_Democratic_Forces\" title=\"Allied Democratic Forces\">Allied Democratic Forces</a> <b><a href=\"/wiki/Mpondwe_school_massacre\" title=\"Mpondwe school massacre\">kill 42 people</a></b> at a school in <a href=\"/wiki/Mpondwe\" title=\"Mpondwe\">Mpondwe</a>.</li>\n",
      "<li>In Canada, 16 people die after <b><a href=\"/wiki/Carberry_highway_collision\" title=\"Carberry highway collision\">a bus collides</a></b> with a <a href=\"/wiki/Semi-trailer_truck\" title=\"Semi-trailer truck\">semi-truck</a> along the <a href=\"/wiki/Trans-Canada_Highway\" title=\"Trans-Canada Highway\">Trans-Canada Highway</a> near <a href=\"/wiki/Carberry,_Manitoba\" title=\"Carberry, Manitoba\">Carberry, Manitoba</a>.</li></ul>\n",
      "<div class=\"itn-footer\" style=\"margin-top: 0.5em;\">\n",
      "<div><b><a href=\"/wiki/Portal:Current_events\" title=\"Portal:Current events\">Ongoing</a></b>: <link href=\"mw-data:TemplateStyles:r1129693374\" rel=\"mw-deduplicated-inline-style\"/><div class=\"hlist inline\">\n",
      "<ul><li><a href=\"/wiki/Russian_invasion_of_Ukraine\" title=\"Russian invasion of Ukraine\">Russian invasion of Ukraine</a></li>\n",
      "<li><a href=\"/wiki/2023_Sudan_conflict\" title=\"2023 Sudan conflict\">Sudan conflict</a></li></ul></div></div>\n",
      "<div><b><a href=\"/wiki/Deaths_in_2023\" title=\"Deaths in 2023\">Recent deaths</a></b>: <link href=\"mw-data:TemplateStyles:r1129693374\" rel=\"mw-deduplicated-inline-style\"/><div class=\"hlist inline\">\n",
      "<ul><li><a href=\"/wiki/Siobhan_O%27Sullivan\" title=\"Siobhan O'Sullivan\">Siobhan O'Sullivan</a></li>\n",
      "<li><a href=\"/wiki/Gaetano_Troja\" title=\"Gaetano Troja\">Gaetano Troja</a></li>\n",
      "<li><a href=\"/wiki/Dave_Viti\" title=\"Dave Viti\">Dave Viti</a></li>\n",
      "<li><a href=\"/wiki/Michael_Hopkins_(architect)\" title=\"Michael Hopkins (architect)\">Michael Hopkins</a></li>\n",
      "<li><a href=\"/wiki/Daniel_Ellsberg\" title=\"Daniel Ellsberg\">Daniel Ellsberg</a></li>\n",
      "<li><a href=\"/wiki/Cornel_%C8%9A%C4%83ranu\" title=\"Cornel Țăranu\">Cornel Țăranu</a></li></ul></div></div></div>\n",
      "<link href=\"mw-data:TemplateStyles:r1129693374\" rel=\"mw-deduplicated-inline-style\"/><div class=\"hlist itn-footer noprint\" style=\"text-align:right;\">\n",
      "<ul><li><b><a href=\"/wiki/Wikipedia:In_the_news/Candidates\" title=\"Wikipedia:In the news/Candidates\">Nominate an article</a></b></li></ul>\n",
      "</div></div>\n",
      "<h2 class=\"mp-h2\" id=\"mp-otd-h2\"><span class=\"mw-headline\" id=\"On_this_day\">On this day</span></h2>\n",
      "<div class=\"mp-contains-float\" id=\"mp-otd\">\n",
      "<p><b><a href=\"/wiki/June_23\" title=\"June 23\">June 23</a></b>: <b><a href=\"/wiki/Grand_Duke%27s_Official_Birthday\" title=\"Grand Duke's Official Birthday\">Grand Duke's Official Birthday</a></b> in Luxembourg\n",
      "</p>\n",
      "<div id=\"mp-otd-img\" style=\"float:right;margin-left:0.5em;\">\n",
      "<div class=\"thumbinner mp-thumb\" style=\"background: transparent; border: none; padding: 0; max-width: 129px;\">\n",
      "<a class=\"image\" href=\"/wiki/File:Nasser_portrait2.jpg\" title=\"Gamal Abdel Nasser\"><img alt=\"Gamal Abdel Nasser\" data-file-height=\"500\" data-file-width=\"424\" decoding=\"async\" height=\"152\" src=\"//upload.wikimedia.org/wikipedia/commons/thumb/e/e4/Nasser_portrait2.jpg/129px-Nasser_portrait2.jpg\" srcset=\"//upload.wikimedia.org/wikipedia/commons/thumb/e/e4/Nasser_portrait2.jpg/194px-Nasser_portrait2.jpg 1.5x, //upload.wikimedia.org/wikipedia/commons/thumb/e/e4/Nasser_portrait2.jpg/258px-Nasser_portrait2.jpg 2x\" width=\"129\"/></a><div class=\"thumbcaption\" style=\"padding: 0.25em 0; word-wrap: break-word;\">Gamal Abdel Nasser</div></div>\n",
      "</div>\n",
      "<ul><li><a href=\"/wiki/1266\" title=\"1266\">1266</a> – <a href=\"/wiki/War_of_Saint_Sabas\" title=\"War of Saint Sabas\">War of Saint Sabas</a>: In <b><a href=\"/wiki/Battle_of_Trapani\" title=\"Battle of Trapani\">an action off Trapani</a></b>, Sicily, a <a href=\"/wiki/Republic_of_Venice\" title=\"Republic of Venice\">Venetian</a> fleet captured all 27 opposing <a href=\"/wiki/Republic_of_Genoa\" title=\"Republic of Genoa\">Genoese</a> vessels.</li>\n",
      "<li><a href=\"/wiki/1956\" title=\"1956\">1956</a> – In <a href=\"/wiki/1956_Egyptian_referendum\" title=\"1956 Egyptian referendum\">a nationwide referendum</a>, <b><a href=\"/wiki/Gamal_Abdel_Nasser\" title=\"Gamal Abdel Nasser\">Gamal Abdel Nasser</a></b> <i>(pictured)</i> was elected <a href=\"/wiki/President_of_Egypt\" title=\"President of Egypt\">President of Egypt</a>, a post he held until his death in 1970.</li>\n",
      "<li><a href=\"/wiki/1991\" title=\"1991\">1991</a> – <b><a href=\"/wiki/Sonic_the_Hedgehog_(1991_video_game)\" title=\"Sonic the Hedgehog (1991 video game)\">The first installment</a></b> of the video-game series <i><b><a href=\"/wiki/Sonic_the_Hedgehog\" title=\"Sonic the Hedgehog\">Sonic the Hedgehog</a></b></i> was released.</li>\n",
      "<li><a href=\"/wiki/1992\" title=\"1992\">1992</a> – <a href=\"/wiki/Croatian_War_of_Independence\" title=\"Croatian War of Independence\">Croatian War of Independence</a>: The <b><a href=\"/wiki/Battle_of_the_Miljevci_Plateau\" title=\"Battle of the Miljevci Plateau\">Battle of the Miljevci Plateau</a></b> ended after a failed counterattack by forces of the <a href=\"/wiki/Republic_of_Serbian_Krajina\" title=\"Republic of Serbian Krajina\">Republic of Serbian Krajina</a> against the <a href=\"/wiki/Croatian_Army\" title=\"Croatian Army\">Croatian Army</a> who had captured the plateau.</li>\n",
      "<li><a href=\"/wiki/2016\" title=\"2016\">2016</a> – Citizens of the United Kingdom <b><a href=\"/wiki/2016_United_Kingdom_European_Union_membership_referendum\" title=\"2016 United Kingdom European Union membership referendum\">voted in favour</a></b> of <a href=\"/wiki/Brexit\" title=\"Brexit\">leaving the European Union</a>.</li></ul>\n",
      "<link href=\"mw-data:TemplateStyles:r1129693374\" rel=\"mw-deduplicated-inline-style\"/><div class=\"hlist\" style=\"margin-top: 0.5em;\"><ul><li><b><a href=\"/wiki/Aymer_de_Valence,_2nd_Earl_of_Pembroke\" title=\"Aymer de Valence, 2nd Earl of Pembroke\">Aymer de Valence, 2nd Earl of Pembroke</a></b> (<abbr title=\"died\">d.</abbr> 1324)</li><li><b><a href=\"/wiki/Mich%C3%A8le_Mouton\" title=\"Michèle Mouton\">Michèle Mouton</a></b> (<abbr title=\"born\">b.</abbr> 1951)</li><li><b><a href=\"/wiki/Doug_Ring\" title=\"Doug Ring\">Doug Ring</a></b> (<abbr title=\"died\">d.</abbr> 2003)</li><li><b><a href=\"/wiki/Nguy%E1%BB%85n_Ch%C3%A1nh_Thi\" title=\"Nguyễn Chánh Thi\">Nguyễn Chánh Thi</a></b> (<abbr title=\"died\">d.</abbr> 2007)</li></ul></div>\n",
      "<div style=\"margin-top:0.5em;\">\n",
      "More anniversaries: <link href=\"mw-data:TemplateStyles:r1129693374\" rel=\"mw-deduplicated-inline-style\"/><div class=\"hlist inline nowraplinks\">\n",
      "<ul><li><a href=\"/wiki/June_22\" title=\"June 22\">June 22</a></li>\n",
      "<li><b><a href=\"/wiki/June_23\" title=\"June 23\">June 23</a></b></li>\n",
      "<li><a href=\"/wiki/June_24\" title=\"June 24\">June 24</a></li></ul>\n",
      "</div></div>\n",
      "<link href=\"mw-data:TemplateStyles:r1129693374\" rel=\"mw-deduplicated-inline-style\"/><div class=\"hlist otd-footer noprint\" style=\"text-align:right;\">\n",
      "<ul><li><b><a href=\"/wiki/Wikipedia:Selected_anniversaries/June\" title=\"Wikipedia:Selected anniversaries/June\">Archive</a></b></li>\n",
      "<li><b><a class=\"extiw\" href=\"https://lists.wikimedia.org/postorius/lists/daily-article-l.lists.wikimedia.org/\" title=\"mail:daily-article-l\">By email</a></b></li>\n",
      "<li><b><a href=\"/wiki/List_of_days_of_the_year\" title=\"List of days of the year\">List of days of the year</a></b></li></ul>\n",
      "</div></div>\n",
      "</div>\n",
      "</div>\n",
      "<div class=\"MainPageBG mp-box\" id=\"mp-middle\">\n",
      "<h2 class=\"mp-h2\" id=\"mp-tfl-h2\"><span id=\"From_today.27s_featured_list\"></span><span class=\"mw-headline\" id=\"From_today's_featured_list\">From today's featured list</span></h2>\n",
      "<div class=\"mp-contains-float\" id=\"mp-tfl\"><div id=\"mp-tfl-img\" style=\"float:right;margin:0.5em 0 0.4em 0.9em;\"><div class=\"thumbinner mp-thumb\" style=\"background: transparent; border: none; padding: 0; max-width: 121px;\">\n",
      "<a class=\"image\" href=\"/wiki/File:BentoXVI-30-10052007.jpg\" title=\"Joseph Ratzinger, elected Pope Benedict XVI\"><img alt=\"Joseph Ratzinger, elected Pope Benedict XVI\" data-file-height=\"1654\" data-file-width=\"1242\" decoding=\"async\" height=\"161\" src=\"//upload.wikimedia.org/wikipedia/commons/thumb/a/a8/BentoXVI-30-10052007.jpg/121px-BentoXVI-30-10052007.jpg\" srcset=\"//upload.wikimedia.org/wikipedia/commons/thumb/a/a8/BentoXVI-30-10052007.jpg/182px-BentoXVI-30-10052007.jpg 1.5x, //upload.wikimedia.org/wikipedia/commons/thumb/a/a8/BentoXVI-30-10052007.jpg/242px-BentoXVI-30-10052007.jpg 2x\" width=\"121\"/></a><div class=\"thumbcaption\" style=\"padding: 0.25em 0; word-wrap: break-word;\">Joseph Ratzinger, elected Pope Benedict XVI</div></div>\n",
      "</div>\n",
      "<p><b><a href=\"/wiki/Cardinal_electors_in_the_2005_papal_conclave\" title=\"Cardinal electors in the 2005 papal conclave\">One hundred and fifteen cardinal electors</a></b> participated in the <a href=\"/wiki/2005_papal_conclave\" title=\"2005 papal conclave\">papal conclave of 2005</a>, which was convened to elect a <a href=\"/wiki/Pope\" title=\"Pope\">pope</a> (the leader of the <a href=\"/wiki/Catholic_Church\" title=\"Catholic Church\">Catholic Church</a>) to succeed <a href=\"/wiki/Pope_John_Paul_II\" title=\"Pope John Paul II\">Pope John Paul II</a> following his death on 2 April 2005. In accordance with the <a href=\"/wiki/Apostolic_constitution\" title=\"Apostolic constitution\">apostolic constitution</a> <i><a href=\"/wiki/Universi_Dominici_gregis\" title=\"Universi Dominici gregis\">Universi Dominici gregis</a></i>, which governed the <a href=\"/wiki/Sede_vacante\" title=\"Sede vacante\">vacancy of the Holy See</a>, only <a href=\"/wiki/Cardinal_(Catholic_Church)\" title=\"Cardinal (Catholic Church)\">cardinals</a> who had not passed their 80th birthday on the day on which the <a href=\"/wiki/Holy_See\" title=\"Holy See\">Holy See</a> became vacant (in this case, cardinals who were born on or after 2 April 1925) were eligible to participate in the <a href=\"/wiki/Papal_conclave\" title=\"Papal conclave\">conclave</a>. Of the 115 attending cardinal electors, 5 were <a href=\"/wiki/Cardinal_(Catholic_Church)#Cardinal_bishops\" title=\"Cardinal (Catholic Church)\">cardinal bishops</a>, 93 were <a href=\"/wiki/Cardinal_(Catholic_Church)#Cardinal_priests\" title=\"Cardinal (Catholic Church)\">cardinal priests</a>, and 17 were <a href=\"/wiki/Cardinal_(Catholic_Church)#Cardinal_deacons\" title=\"Cardinal (Catholic Church)\">cardinal deacons</a>; 2 had been created cardinals by <a href=\"/wiki/Pope_Paul_VI\" title=\"Pope Paul VI\">Pope Paul VI</a> and 113 by Pope John Paul II. On 19 April, after four ballots over two days, they elected Cardinal <a href=\"/wiki/Pope_Benedict_XVI\" title=\"Pope Benedict XVI\">Joseph Ratzinger</a> <i>(pictured)</i>, Prefect of the <a href=\"/wiki/Dicastery_for_the_Doctrine_of_the_Faith\" title=\"Dicastery for the Doctrine of the Faith\">Congregation for the Doctrine of the Faith</a>, who took the <a href=\"/wiki/Papal_name\" title=\"Papal name\">papal name</a> Benedict XVI. (<b><a href=\"/wiki/Cardinal_electors_in_the_2005_papal_conclave\" title=\"Cardinal electors in the 2005 papal conclave\">Full list...</a></b>)\n",
      "</p>\n",
      "<div class=\"tfl-recent\" style=\"text-align: right;\">\n",
      "Recently featured: <link href=\"mw-data:TemplateStyles:r1129693374\" rel=\"mw-deduplicated-inline-style\"/><div class=\"hlist inline\">\n",
      "<ul><li><a href=\"/wiki/List_of_accolades_received_by_Inside_Out_(2015_film)\" title=\"List of accolades received by Inside Out (2015 film)\">Accolades received by <i>Inside Out</i> (2015 film)</a></li>\n",
      "<li><a href=\"/wiki/The_Microphones_discography\" title=\"The Microphones discography\">The Microphones discography</a></li>\n",
      "<li><a href=\"/wiki/List_of_birds_of_Wallis_and_Futuna\" title=\"List of birds of Wallis and Futuna\">Birds of Wallis and Futuna</a></li></ul>\n",
      "</div></div>\n",
      "<link href=\"mw-data:TemplateStyles:r1129693374\" rel=\"mw-deduplicated-inline-style\"/><div class=\"hlist tfl-footer noprint\" style=\"text-align:right;\">\n",
      "<ul><li><b><a href=\"/wiki/Wikipedia:Today%27s_featured_list/June_2023\" title=\"Wikipedia:Today's featured list/June 2023\">Archive</a></b></li>\n",
      "<li><b><a href=\"/wiki/Wikipedia:Featured_lists\" title=\"Wikipedia:Featured lists\">More featured lists</a></b></li></ul>\n",
      "</div></div>\n",
      "</div>\n",
      "<div class=\"MainPageBG mp-box\" id=\"mp-lower\">\n",
      "<h2 class=\"mp-h2\" id=\"mp-tfp-h2\"><span id=\"Today.27s_featured_picture\"></span><span class=\"mw-headline\" id=\"Today's_featured_picture\">Today's featured picture</span></h2>\n",
      "<div id=\"mp-tfp\">\n",
      "<table role=\"presentation\" style=\"margin:0 3px 3px; width:100%; box-sizing:border-box; text-align:center; background-color:transparent; border-collapse:collapse; padding:0.9em\">\n",
      "<tbody><tr>\n",
      "<td><a class=\"image\" href=\"/wiki/File:Cerussite_-_Nakhlak_mine,_Anarak,_Esfahan,_Iran.jpg\" title=\"Cerussite\"><img alt=\"Cerussite\" data-file-height=\"5000\" data-file-width=\"6000\" decoding=\"async\" height=\"417\" src=\"//upload.wikimedia.org/wikipedia/commons/thumb/2/28/Cerussite_-_Nakhlak_mine%2C_Anarak%2C_Esfahan%2C_Iran.jpg/500px-Cerussite_-_Nakhlak_mine%2C_Anarak%2C_Esfahan%2C_Iran.jpg\" srcset=\"//upload.wikimedia.org/wikipedia/commons/thumb/2/28/Cerussite_-_Nakhlak_mine%2C_Anarak%2C_Esfahan%2C_Iran.jpg/750px-Cerussite_-_Nakhlak_mine%2C_Anarak%2C_Esfahan%2C_Iran.jpg 1.5x, //upload.wikimedia.org/wikipedia/commons/thumb/2/28/Cerussite_-_Nakhlak_mine%2C_Anarak%2C_Esfahan%2C_Iran.jpg/1000px-Cerussite_-_Nakhlak_mine%2C_Anarak%2C_Esfahan%2C_Iran.jpg 2x\" width=\"500\"/></a>\n",
      "</td></tr>\n",
      "<tr>\n",
      "<td style=\"padding:0 0.9em; text-align:left;\">\n",
      "<p><b><a href=\"/wiki/Cerussite\" title=\"Cerussite\">Cerussite</a></b> is a <a href=\"/wiki/Mineral\" title=\"Mineral\">mineral</a> consisting of <a href=\"/wiki/Lead_carbonate\" title=\"Lead carbonate\">lead carbonate</a> (PbCO<sub>3</sub>), and is an important <a href=\"/wiki/Ore\" title=\"Ore\">ore</a> of lead. The name is from the Latin <span title=\"Latin-language text\"><i lang=\"la\">cerussa</i></span>, <a href=\"/wiki/White_lead\" title=\"White lead\">white lead</a>. <i>Cerussa nativa</i> was mentioned by <a href=\"/wiki/Conrad_Gessner\" title=\"Conrad Gessner\">Conrad Gessner</a> in 1565, and in 1832 <a href=\"/wiki/Fran%C3%A7ois_Sulpice_Beudant\" title=\"François Sulpice Beudant\">François Sulpice Beudant</a> applied the name <span title=\"French-language text\"><i lang=\"fr\">céruse</i></span> to the mineral, while the present form, <i>cerussite</i>, is due to <a href=\"/wiki/Wilhelm_Karl_Ritter_von_Haidinger\" title=\"Wilhelm Karl Ritter von Haidinger\">Wilhelm Karl Ritter von Haidinger</a> in 1845. Miners' names for cerussite in early use were lead-spar and white-lead-ore. In a <a href=\"/wiki/Hydrate\" title=\"Hydrate\">hydrate</a> form known as white lead, the mineral is a key ingredient in <a href=\"/wiki/Lead_paint\" title=\"Lead paint\">lead paints</a> and has also been used in cosmetics, but both uses are now discontinued in many places as a result of <a href=\"/wiki/Lead_poisoning\" title=\"Lead poisoning\">lead poisoning</a>. These cerussite crystals, measuring approximately 4.0 cm × 3.0 cm × 2.0 cm (1.57 in × 1.18 in × 0.79 in), were found in a mine in <a href=\"/wiki/Madan-e_Nakhlak\" title=\"Madan-e Nakhlak\">Madan-e Nakhlak</a>, Iran.\n",
      "</p>\n",
      "<p style=\"text-align:center;\"><small>Photograph credit: <a class=\"extiw\" href=\"https://commons.wikimedia.org/wiki/User:Iifar\" title=\"commons:User:Iifar\">Ivar Leidus</a></small></p>\n",
      "<div class=\"potd-recent\" style=\"text-align:right;\">\n",
      "Recently featured: <link href=\"mw-data:TemplateStyles:r1129693374\" rel=\"mw-deduplicated-inline-style\"/><div class=\"hlist inline\">\n",
      "<ul><li><a href=\"/wiki/Template:POTD/2023-06-22\" title=\"Template:POTD/2023-06-22\"><i>Bandits' Roost, 59 1/2 Mulberry Street</i></a></li>\n",
      "<li><a href=\"/wiki/Template:POTD/2023-06-21\" title=\"Template:POTD/2023-06-21\">Jane Byrne Interchange</a></li>\n",
      "<li><a href=\"/wiki/Template:POTD/2023-06-20\" title=\"Template:POTD/2023-06-20\">Ilan Ramon</a></li></ul>\n",
      "</div></div>\n",
      "<link href=\"mw-data:TemplateStyles:r1129693374\" rel=\"mw-deduplicated-inline-style\"/><div class=\"hlist potd-footer noprint\" style=\"text-align:right;\">\n",
      "<ul><li><b><a href=\"/wiki/Wikipedia:Picture_of_the_day/Archive\" title=\"Wikipedia:Picture of the day/Archive\">Archive</a></b></li>\n",
      "<li><b><a href=\"/wiki/Wikipedia:Featured_pictures\" title=\"Wikipedia:Featured pictures\">More featured pictures</a></b></li></ul>\n",
      "</div>\n",
      "</td></tr></tbody></table></div>\n",
      "</div>\n",
      "<div class=\"mp-box\" id=\"mp-bottom\">\n",
      "<h2 class=\"mp-h2\" id=\"mp-other\"><span class=\"mw-headline\" id=\"Other_areas_of_Wikipedia\">Other areas of Wikipedia</span></h2>\n",
      "<div id=\"mp-other-content\">\n",
      "<ul><li><b><a href=\"/wiki/Wikipedia:Community_portal\" title=\"Wikipedia:Community portal\">Community portal</a></b> – The central hub for editors, with resources, links, tasks, and announcements.</li>\n",
      "<li><b><a href=\"/wiki/Wikipedia:Village_pump\" title=\"Wikipedia:Village pump\">Village pump</a></b> – Forum for discussions about Wikipedia itself, including policies and technical issues.</li>\n",
      "<li><b><a href=\"/wiki/Wikipedia:News\" title=\"Wikipedia:News\">Site news</a></b> – Sources of news about Wikipedia and the broader Wikimedia movement.</li>\n",
      "<li><b><a href=\"/wiki/Wikipedia:Teahouse\" title=\"Wikipedia:Teahouse\">Teahouse</a></b> – Ask basic questions about using or editing Wikipedia.</li>\n",
      "<li><b><a href=\"/wiki/Wikipedia:Help_desk\" title=\"Wikipedia:Help desk\">Help desk</a></b> – Ask questions about using or editing Wikipedia.</li>\n",
      "<li><b><a href=\"/wiki/Wikipedia:Reference_desk\" title=\"Wikipedia:Reference desk\">Reference desk</a></b> – Ask research questions about encyclopedic topics.</li>\n",
      "<li><b><a href=\"/wiki/Wikipedia:Contents/Portals\" title=\"Wikipedia:Contents/Portals\">Content portals</a></b> – A unique way to navigate the encyclopedia.</li></ul>\n",
      "</div>\n",
      "<h2 class=\"mp-h2\" id=\"mp-sister\"><span id=\"Wikipedia.27s_sister_projects\"></span><span class=\"mw-headline\" id=\"Wikipedia's_sister_projects\">Wikipedia's sister projects</span></h2>\n",
      "<div id=\"mp-sister-content\"><style data-mw-deduplicate=\"TemplateStyles:r1007624485\">.mw-parser-output #sister-projects-list{display:flex;flex-wrap:wrap}.mw-parser-output #sister-projects-list li{display:inline-block}.mw-parser-output #sister-projects-list li span{font-weight:bold}.mw-parser-output #sister-projects-list li>div{display:inline-block;vertical-align:middle;padding:6px 4px}.mw-parser-output #sister-projects-list li>div:first-child{text-align:center}@media(min-width:360px){.mw-parser-output #sister-projects-list li{width:33%;min-width:20em;white-space:nowrap;flex:1 0 25%}.mw-parser-output #sister-projects-list li>div:first-child{min-width:50px}}</style>\n",
      "<p>Wikipedia is written by volunteer editors and hosted by the <a href=\"/wiki/Wikimedia_Foundation\" title=\"Wikimedia Foundation\">Wikimedia Foundation</a>, a non-profit organization that also hosts a range of other volunteer <a class=\"extiw\" href=\"https://wikimediafoundation.org/our-work/wikimedia-projects/\" title=\"foundationsite:our-work/wikimedia-projects/\">projects</a>:\n",
      "</p>\n",
      "<style data-mw-deduplicate=\"TemplateStyles:r1126788409\">.mw-parser-output .plainlist ol,.mw-parser-output .plainlist ul{line-height:inherit;list-style:none;margin:0;padding:0}.mw-parser-output .plainlist ol li,.mw-parser-output .plainlist ul li{margin-bottom:0}</style><div class=\"plainlist\">\n",
      "<ul id=\"sister-projects-list\">\n",
      "<li>\n",
      "<div><a href=\"https://commons.wikimedia.org/wiki/\" title=\"Commons\"><img alt=\"Commons logo\" data-file-height=\"1376\" data-file-width=\"1024\" decoding=\"async\" height=\"42\" src=\"//upload.wikimedia.org/wikipedia/en/thumb/4/4a/Commons-logo.svg/31px-Commons-logo.svg.png\" srcset=\"//upload.wikimedia.org/wikipedia/en/thumb/4/4a/Commons-logo.svg/47px-Commons-logo.svg.png 1.5x, //upload.wikimedia.org/wikipedia/en/thumb/4/4a/Commons-logo.svg/62px-Commons-logo.svg.png 2x\" width=\"31\"/></a></div>\n",
      "<div><span><a class=\"extiw\" href=\"https://commons.wikimedia.org/wiki/\" title=\"c:\">Commons</a></span><br/>Free media repository</div>\n",
      "</li>\n",
      "<li>\n",
      "<div><a href=\"https://www.mediawiki.org/wiki/\" title=\"MediaWiki\"><img alt=\"MediaWiki logo\" data-file-height=\"100\" data-file-width=\"100\" decoding=\"async\" height=\"35\" src=\"//upload.wikimedia.org/wikipedia/commons/thumb/a/a6/MediaWiki-2020-icon.svg/35px-MediaWiki-2020-icon.svg.png\" srcset=\"//upload.wikimedia.org/wikipedia/commons/thumb/a/a6/MediaWiki-2020-icon.svg/53px-MediaWiki-2020-icon.svg.png 1.5x, //upload.wikimedia.org/wikipedia/commons/thumb/a/a6/MediaWiki-2020-icon.svg/70px-MediaWiki-2020-icon.svg.png 2x\" width=\"35\"/></a></div>\n",
      "<div><span><a class=\"extiw\" href=\"https://www.mediawiki.org/wiki/\" title=\"mw:\">MediaWiki</a></span><br/>Wiki software development</div>\n",
      "</li>\n",
      "<li>\n",
      "<div><a href=\"https://meta.wikimedia.org/wiki/\" title=\"Meta-Wiki\"><img alt=\"Meta-Wiki logo\" data-file-height=\"900\" data-file-width=\"900\" decoding=\"async\" height=\"35\" src=\"//upload.wikimedia.org/wikipedia/commons/thumb/7/75/Wikimedia_Community_Logo.svg/35px-Wikimedia_Community_Logo.svg.png\" srcset=\"//upload.wikimedia.org/wikipedia/commons/thumb/7/75/Wikimedia_Community_Logo.svg/53px-Wikimedia_Community_Logo.svg.png 1.5x, //upload.wikimedia.org/wikipedia/commons/thumb/7/75/Wikimedia_Community_Logo.svg/70px-Wikimedia_Community_Logo.svg.png 2x\" width=\"35\"/></a></div>\n",
      "<div><span><a class=\"extiw\" href=\"https://meta.wikimedia.org/wiki/\" title=\"m:\">Meta-Wiki</a></span><br/>Wikimedia project coordination</div>\n",
      "</li>\n",
      "<li>\n",
      "<div><a href=\"https://en.wikibooks.org/wiki/\" title=\"Wikibooks\"><img alt=\"Wikibooks logo\" data-file-height=\"300\" data-file-width=\"300\" decoding=\"async\" height=\"35\" src=\"//upload.wikimedia.org/wikipedia/commons/thumb/f/fa/Wikibooks-logo.svg/35px-Wikibooks-logo.svg.png\" srcset=\"//upload.wikimedia.org/wikipedia/commons/thumb/f/fa/Wikibooks-logo.svg/53px-Wikibooks-logo.svg.png 1.5x, //upload.wikimedia.org/wikipedia/commons/thumb/f/fa/Wikibooks-logo.svg/70px-Wikibooks-logo.svg.png 2x\" width=\"35\"/></a></div>\n",
      "<div><span><a class=\"extiw\" href=\"https://en.wikibooks.org/wiki/\" title=\"b:\">Wikibooks</a></span><br/>Free textbooks and manuals</div>\n",
      "</li>\n",
      "<li>\n",
      "<div><a href=\"https://www.wikidata.org/wiki/\" title=\"Wikidata\"><img alt=\"Wikidata logo\" data-file-height=\"590\" data-file-width=\"1050\" decoding=\"async\" height=\"26\" src=\"//upload.wikimedia.org/wikipedia/commons/thumb/f/ff/Wikidata-logo.svg/47px-Wikidata-logo.svg.png\" srcset=\"//upload.wikimedia.org/wikipedia/commons/thumb/f/ff/Wikidata-logo.svg/71px-Wikidata-logo.svg.png 1.5x, //upload.wikimedia.org/wikipedia/commons/thumb/f/ff/Wikidata-logo.svg/94px-Wikidata-logo.svg.png 2x\" width=\"47\"/></a></div>\n",
      "<div><span><a class=\"extiw\" href=\"https://www.wikidata.org/wiki/\" title=\"d:\">Wikidata</a></span><br/>Free knowledge base</div>\n",
      "</li>\n",
      "<li>\n",
      "<div><a href=\"https://en.wikinews.org/wiki/\" title=\"Wikinews\"><img alt=\"Wikinews logo\" data-file-height=\"415\" data-file-width=\"759\" decoding=\"async\" height=\"28\" src=\"//upload.wikimedia.org/wikipedia/commons/thumb/2/24/Wikinews-logo.svg/51px-Wikinews-logo.svg.png\" srcset=\"//upload.wikimedia.org/wikipedia/commons/thumb/2/24/Wikinews-logo.svg/77px-Wikinews-logo.svg.png 1.5x, //upload.wikimedia.org/wikipedia/commons/thumb/2/24/Wikinews-logo.svg/102px-Wikinews-logo.svg.png 2x\" width=\"51\"/></a></div>\n",
      "<div><span><a class=\"extiw\" href=\"https://en.wikinews.org/wiki/\" title=\"n:\">Wikinews</a></span><br/>Free-content news</div>\n",
      "</li>\n",
      "<li>\n",
      "<div><a href=\"https://en.wikiquote.org/wiki/\" title=\"Wikiquote\"><img alt=\"Wikiquote logo\" data-file-height=\"355\" data-file-width=\"300\" decoding=\"async\" height=\"41\" src=\"//upload.wikimedia.org/wikipedia/commons/thumb/f/fa/Wikiquote-logo.svg/35px-Wikiquote-logo.svg.png\" srcset=\"//upload.wikimedia.org/wikipedia/commons/thumb/f/fa/Wikiquote-logo.svg/53px-Wikiquote-logo.svg.png 1.5x, //upload.wikimedia.org/wikipedia/commons/thumb/f/fa/Wikiquote-logo.svg/70px-Wikiquote-logo.svg.png 2x\" width=\"35\"/></a></div>\n",
      "<div><span><a class=\"extiw\" href=\"https://en.wikiquote.org/wiki/\" title=\"q:\">Wikiquote</a></span><br/>Collection of quotations</div>\n",
      "</li>\n",
      "<li>\n",
      "<div><a href=\"https://en.wikisource.org/wiki/\" title=\"Wikisource\"><img alt=\"Wikisource logo\" data-file-height=\"430\" data-file-width=\"410\" decoding=\"async\" height=\"37\" src=\"//upload.wikimedia.org/wikipedia/commons/thumb/4/4c/Wikisource-logo.svg/35px-Wikisource-logo.svg.png\" srcset=\"//upload.wikimedia.org/wikipedia/commons/thumb/4/4c/Wikisource-logo.svg/53px-Wikisource-logo.svg.png 1.5x, //upload.wikimedia.org/wikipedia/commons/thumb/4/4c/Wikisource-logo.svg/70px-Wikisource-logo.svg.png 2x\" width=\"35\"/></a></div>\n",
      "<div><span><a class=\"extiw\" href=\"https://en.wikisource.org/wiki/\" title=\"s:\">Wikisource</a></span><br/>Free-content library</div>\n",
      "</li>\n",
      "<li>\n",
      "<div><a href=\"https://species.wikimedia.org/wiki/\" title=\"Wikispecies\"><img alt=\"Wikispecies logo\" data-file-height=\"1103\" data-file-width=\"941\" decoding=\"async\" height=\"41\" src=\"//upload.wikimedia.org/wikipedia/commons/thumb/d/df/Wikispecies-logo.svg/35px-Wikispecies-logo.svg.png\" srcset=\"//upload.wikimedia.org/wikipedia/commons/thumb/d/df/Wikispecies-logo.svg/53px-Wikispecies-logo.svg.png 1.5x, //upload.wikimedia.org/wikipedia/commons/thumb/d/df/Wikispecies-logo.svg/70px-Wikispecies-logo.svg.png 2x\" width=\"35\"/></a></div>\n",
      "<div><span><a class=\"extiw\" href=\"https://species.wikimedia.org/wiki/\" title=\"species:\">Wikispecies</a></span><br/>Directory of species</div>\n",
      "</li>\n",
      "<li>\n",
      "<div><a href=\"https://en.wikiversity.org/wiki/\" title=\"Wikiversity\"><img alt=\"Wikiversity logo\" data-file-height=\"512\" data-file-width=\"626\" decoding=\"async\" height=\"34\" src=\"//upload.wikimedia.org/wikipedia/commons/thumb/0/0b/Wikiversity_logo_2017.svg/41px-Wikiversity_logo_2017.svg.png\" srcset=\"//upload.wikimedia.org/wikipedia/commons/thumb/0/0b/Wikiversity_logo_2017.svg/62px-Wikiversity_logo_2017.svg.png 1.5x, //upload.wikimedia.org/wikipedia/commons/thumb/0/0b/Wikiversity_logo_2017.svg/82px-Wikiversity_logo_2017.svg.png 2x\" width=\"41\"/></a></div>\n",
      "<div><span><a class=\"extiw\" href=\"https://en.wikiversity.org/wiki/\" title=\"v:\">Wikiversity</a></span><br/>Free learning tools</div>\n",
      "</li>\n",
      "<li>\n",
      "<div><a href=\"https://en.wikivoyage.org/wiki/\" title=\"Wikivoyage\"><img alt=\"Wikivoyage logo\" data-file-height=\"193\" data-file-width=\"193\" decoding=\"async\" height=\"35\" src=\"//upload.wikimedia.org/wikipedia/commons/thumb/d/dd/Wikivoyage-Logo-v3-icon.svg/35px-Wikivoyage-Logo-v3-icon.svg.png\" srcset=\"//upload.wikimedia.org/wikipedia/commons/thumb/d/dd/Wikivoyage-Logo-v3-icon.svg/53px-Wikivoyage-Logo-v3-icon.svg.png 1.5x, //upload.wikimedia.org/wikipedia/commons/thumb/d/dd/Wikivoyage-Logo-v3-icon.svg/70px-Wikivoyage-Logo-v3-icon.svg.png 2x\" width=\"35\"/></a></div>\n",
      "<div><span><a class=\"extiw\" href=\"https://en.wikivoyage.org/wiki/\" title=\"voy:\">Wikivoyage</a></span><br/>Free travel guide</div>\n",
      "</li>\n",
      "<li>\n",
      "<div><a href=\"https://en.wiktionary.org/wiki/\" title=\"Wiktionary\"><img alt=\"Wiktionary logo\" data-file-height=\"391\" data-file-width=\"391\" decoding=\"async\" height=\"35\" src=\"//upload.wikimedia.org/wikipedia/en/thumb/0/06/Wiktionary-logo-v2.svg/35px-Wiktionary-logo-v2.svg.png\" srcset=\"//upload.wikimedia.org/wikipedia/en/thumb/0/06/Wiktionary-logo-v2.svg/53px-Wiktionary-logo-v2.svg.png 1.5x, //upload.wikimedia.org/wikipedia/en/thumb/0/06/Wiktionary-logo-v2.svg/70px-Wiktionary-logo-v2.svg.png 2x\" width=\"35\"/></a></div>\n",
      "<div><span><a class=\"extiw\" href=\"https://en.wiktionary.org/wiki/\" title=\"wikt:\">Wiktionary</a></span><br/>Dictionary and thesaurus</div>\n",
      "</li>\n",
      "</ul>\n",
      "</div></div>\n",
      "<h2 class=\"mp-h2\" id=\"mp-lang\"><span class=\"mw-headline\" id=\"Wikipedia_languages\">Wikipedia languages</span></h2>\n",
      "<div><style data-mw-deduplicate=\"TemplateStyles:r997272951\">.mw-parser-output .wikipedia-languages-complete{font-weight:bold}.mw-parser-output .wikipedia-languages ul{margin-left:0}.mw-parser-output .wikipedia-languages ul a{white-space:nowrap}.mw-parser-output .wikipedia-languages>ul{list-style:none;text-align:center;clear:both}.mw-parser-output .wikipedia-languages-count-container{width:90%;display:flex;justify-content:center;padding-top:1em;margin:0 auto}.mw-parser-output .wikipedia-languages-prettybars{width:100%;height:1px;margin:0.5em 0;background-color:#c8ccd1;flex-shrink:1;align-self:center}.mw-parser-output .wikipedia-languages-count{padding:0 1em;white-space:nowrap}</style>\n",
      "<div class=\"wikipedia-languages nourlexpansion\">\n",
      "<p>This Wikipedia is written in <a href=\"/wiki/English_language\" title=\"English language\">English</a>. Many <a class=\"extiw\" href=\"https://meta.wikimedia.org/wiki/List_of_Wikipedias\" title=\"meta:List of Wikipedias\">other Wikipedias are available</a>; some of the largest are listed below.\n",
      "</p>\n",
      "<ul class=\"plainlinks\">\n",
      "<li>\n",
      "<div class=\"wikipedia-languages-count-container\">\n",
      "<div class=\"wikipedia-languages-prettybars\"></div>\n",
      "<div aria-level=\"3\" class=\"wikipedia-languages-count\" role=\"heading\">1,000,000+ articles</div>\n",
      "<div class=\"wikipedia-languages-prettybars\"></div>\n",
      "</div>\n",
      "<link href=\"mw-data:TemplateStyles:r1129693374\" rel=\"mw-deduplicated-inline-style\"/><div class=\"hlist wikipedia-languages-langs inline\">\n",
      "<ul><li><a class=\"external text\" href=\"https://ar.wikipedia.org/wiki/\"><span class=\"autonym\" lang=\"ar\" title=\"Arabic (ar:)\">العربية</span></a></li>\n",
      "<li><a class=\"external text\" href=\"https://de.wikipedia.org/wiki/\"><span class=\"autonym\" lang=\"de\" title=\"German (de:)\">Deutsch</span></a></li>\n",
      "<li><a class=\"external text\" href=\"https://es.wikipedia.org/wiki/\"><span class=\"autonym\" lang=\"es\" title=\"Spanish (es:)\">Español</span></a></li>\n",
      "<li><a class=\"external text\" href=\"https://fr.wikipedia.org/wiki/\"><span class=\"autonym\" lang=\"fr\" title=\"French (fr:)\">Français</span></a></li>\n",
      "<li><a class=\"external text\" href=\"https://it.wikipedia.org/wiki/\"><span class=\"autonym\" lang=\"it\" title=\"Italian (it:)\">Italiano</span></a></li>\n",
      "<li><a class=\"external text\" href=\"https://nl.wikipedia.org/wiki/\"><span class=\"autonym\" lang=\"nl\" title=\"Dutch (nl:)\">Nederlands</span></a></li>\n",
      "<li><a class=\"external text\" href=\"https://ja.wikipedia.org/wiki/\"><span class=\"autonym\" lang=\"ja\" title=\"Japanese (ja:)\">日本語</span></a></li>\n",
      "<li><a class=\"external text\" href=\"https://pl.wikipedia.org/wiki/\"><span class=\"autonym\" lang=\"pl\" title=\"Polish (pl:)\">Polski</span></a></li>\n",
      "<li><a class=\"external text\" href=\"https://pt.wikipedia.org/wiki/\"><span class=\"autonym\" lang=\"pt\" title=\"Portuguese (pt:)\">Português</span></a></li>\n",
      "<li><a class=\"external text\" href=\"https://ru.wikipedia.org/wiki/\"><span class=\"autonym\" lang=\"ru\" title=\"Russian (ru:)\">Русский</span></a></li>\n",
      "<li><a class=\"external text\" href=\"https://sv.wikipedia.org/wiki/\"><span class=\"autonym\" lang=\"sv\" title=\"Swedish (sv:)\">Svenska</span></a></li>\n",
      "<li><a class=\"external text\" href=\"https://uk.wikipedia.org/wiki/\"><span class=\"autonym\" lang=\"uk\" title=\"Ukrainian (uk:)\">Українська</span></a></li>\n",
      "<li><a class=\"external text\" href=\"https://vi.wikipedia.org/wiki/\"><span class=\"autonym\" lang=\"vi\" title=\"Vietnamese (vi:)\">Tiếng Việt</span></a></li>\n",
      "<li><a class=\"external text\" href=\"https://zh.wikipedia.org/wiki/\"><span class=\"autonym\" lang=\"zh\" title=\"Chinese (zh:)\">中文</span></a></li></ul>\n",
      "</div>\n",
      "</li>\n",
      "<li>\n",
      "<div class=\"wikipedia-languages-count-container\">\n",
      "<div class=\"wikipedia-languages-prettybars\"></div>\n",
      "<div aria-level=\"3\" class=\"wikipedia-languages-count\" role=\"heading\">250,000+ articles</div>\n",
      "<div class=\"wikipedia-languages-prettybars\"></div>\n",
      "</div>\n",
      "<link href=\"mw-data:TemplateStyles:r1129693374\" rel=\"mw-deduplicated-inline-style\"/><div class=\"hlist wikipedia-languages-langs inline\">\n",
      "<ul><li><a class=\"external text\" href=\"https://id.wikipedia.org/wiki/\"><span class=\"autonym\" lang=\"id\" title=\"Indonesian (id:)\">Bahasa Indonesia</span></a></li>\n",
      "<li><a class=\"external text\" href=\"https://ms.wikipedia.org/wiki/\"><span class=\"autonym\" lang=\"ms\" title=\"Malay (ms:)\">Bahasa Melayu</span></a></li>\n",
      "<li><a class=\"external text\" href=\"https://zh-min-nan.wikipedia.org/wiki/\"><span class=\"autonym\" lang=\"nan\" title=\"Min Nan Chinese (nan:)\">Bân-lâm-gú</span></a></li>\n",
      "<li><a class=\"external text\" href=\"https://bg.wikipedia.org/wiki/\"><span class=\"autonym\" lang=\"bg\" title=\"Bulgarian (bg:)\">Български</span></a></li>\n",
      "<li><a class=\"external text\" href=\"https://ca.wikipedia.org/wiki/\"><span class=\"autonym\" lang=\"ca\" title=\"Catalan (ca:)\">Català</span></a></li>\n",
      "<li><a class=\"external text\" href=\"https://cs.wikipedia.org/wiki/\"><span class=\"autonym\" lang=\"cs\" title=\"Czech (cs:)\">Čeština</span></a></li>\n",
      "<li><a class=\"external text\" href=\"https://da.wikipedia.org/wiki/\"><span class=\"autonym\" lang=\"da\" title=\"Danish (da:)\">Dansk</span></a></li>\n",
      "<li><a class=\"external text\" href=\"https://eo.wikipedia.org/wiki/\"><span class=\"autonym\" lang=\"eo\" title=\"Esperanto (eo:)\">Esperanto</span></a></li>\n",
      "<li><a class=\"external text\" href=\"https://eu.wikipedia.org/wiki/\"><span class=\"autonym\" lang=\"eu\" title=\"Basque (eu:)\">Euskara</span></a></li>\n",
      "<li><a class=\"external text\" href=\"https://fa.wikipedia.org/wiki/\"><span class=\"autonym\" lang=\"fa\" title=\"Persian (fa:)\">فارسی</span></a>‎</li>\n",
      "<li><a class=\"external text\" href=\"https://he.wikipedia.org/wiki/\"><span class=\"autonym\" lang=\"he\" title=\"Hebrew (he:)\">עברית</span></a></li>\n",
      "<li><a class=\"external text\" href=\"https://ko.wikipedia.org/wiki/\"><span class=\"autonym\" lang=\"ko\" title=\"Korean (ko:)\">한국어</span></a></li>\n",
      "<li><a class=\"external text\" href=\"https://hu.wikipedia.org/wiki/\"><span class=\"autonym\" lang=\"hu\" title=\"Hungarian (hu:)\">Magyar</span></a></li>\n",
      "<li><a class=\"external text\" href=\"https://no.wikipedia.org/wiki/\"><span class=\"autonym\" lang=\"no\" title=\"Norwegian (no:)\">Norsk bokmål</span></a></li>\n",
      "<li><a class=\"external text\" href=\"https://ro.wikipedia.org/wiki/\"><span class=\"autonym\" lang=\"ro\" title=\"Romanian (ro:)\">Română</span></a></li>\n",
      "<li><a class=\"external text\" href=\"https://sr.wikipedia.org/wiki/\"><span class=\"autonym\" lang=\"sr\" title=\"Serbian (sr:)\">Srpski</span></a></li>\n",
      "<li><a class=\"external text\" href=\"https://sh.wikipedia.org/wiki/\"><span class=\"autonym\" lang=\"sh\" title=\"Serbo-Croatian (sh:)\">Srpskohrvatski</span></a></li>\n",
      "<li><a class=\"external text\" href=\"https://fi.wikipedia.org/wiki/\"><span class=\"autonym\" lang=\"fi\" title=\"Finnish (fi:)\">Suomi</span></a></li>\n",
      "<li><a class=\"external text\" href=\"https://tr.wikipedia.org/wiki/\"><span class=\"autonym\" lang=\"tr\" title=\"Turkish (tr:)\">Türkçe</span></a></li></ul>\n",
      "</div>\n",
      "</li>\n",
      "<li>\n",
      "<div class=\"wikipedia-languages-count-container\">\n",
      "<div class=\"wikipedia-languages-prettybars\"></div>\n",
      "<div aria-level=\"3\" class=\"wikipedia-languages-count\" role=\"heading\">50,000+ articles</div>\n",
      "<div class=\"wikipedia-languages-prettybars\"></div>\n",
      "</div>\n",
      "<link href=\"mw-data:TemplateStyles:r1129693374\" rel=\"mw-deduplicated-inline-style\"/><div class=\"hlist wikipedia-languages-langs inline\">\n",
      "<ul><li><a class=\"external text\" href=\"https://ast.wikipedia.org/wiki/\"><span class=\"autonym\" lang=\"ast\" title=\"Asturian (ast:)\">Asturianu</span></a></li>\n",
      "<li><a class=\"external text\" href=\"https://bn.wikipedia.org/wiki/\"><span class=\"autonym\" lang=\"bn\" title=\"Bangla (bn:)\">বাংলা</span></a></li>\n",
      "<li><a class=\"external text\" href=\"https://bs.wikipedia.org/wiki/\"><span class=\"autonym\" lang=\"bs\" title=\"Bosnian (bs:)\">Bosanski</span></a></li>\n",
      "<li><a class=\"external text\" href=\"https://et.wikipedia.org/wiki/\"><span class=\"autonym\" lang=\"et\" title=\"Estonian (et:)\">Eesti</span></a></li>\n",
      "<li><a class=\"external text\" href=\"https://el.wikipedia.org/wiki/\"><span class=\"autonym\" lang=\"el\" title=\"Greek (el:)\">Ελληνικά</span></a></li>\n",
      "<li><a class=\"external text\" href=\"https://simple.wikipedia.org/wiki/\"><span class=\"autonym\" lang=\"en\" title=\"Simple English (simple:)\">Simple English</span></a></li>\n",
      "<li><a class=\"external text\" href=\"https://fy.wikipedia.org/wiki/\"><span class=\"autonym\" lang=\"fy\" title=\"Western Frisian (fy:)\">Frysk</span></a></li>\n",
      "<li><a class=\"external text\" href=\"https://ga.wikipedia.org/wiki/\"><span class=\"autonym\" lang=\"ga\" title=\"Irish (ga:)\">Gaeilge</span></a></li>\n",
      "<li><a class=\"external text\" href=\"https://gl.wikipedia.org/wiki/\"><span class=\"autonym\" lang=\"gl\" title=\"Galician (gl:)\">Galego</span></a></li>\n",
      "<li><a class=\"external text\" href=\"https://hr.wikipedia.org/wiki/\"><span class=\"autonym\" lang=\"hr\" title=\"Croatian (hr:)\">Hrvatski</span></a></li>\n",
      "<li><a class=\"external text\" href=\"https://ka.wikipedia.org/wiki/\"><span class=\"autonym\" lang=\"ka\" title=\"Georgian (ka:)\">ქართული</span></a></li>\n",
      "<li><a class=\"external text\" href=\"https://lv.wikipedia.org/wiki/\"><span class=\"autonym\" lang=\"lv\" title=\"Latvian (lv:)\">Latviešu</span></a></li>\n",
      "<li><a class=\"external text\" href=\"https://lt.wikipedia.org/wiki/\"><span class=\"autonym\" lang=\"lt\" title=\"Lithuanian (lt:)\">Lietuvių</span></a></li>\n",
      "<li><a class=\"external text\" href=\"https://ml.wikipedia.org/wiki/\"><span class=\"autonym\" lang=\"ml\" title=\"Malayalam (ml:)\">മലയാളം</span></a></li>\n",
      "<li><a class=\"external text\" href=\"https://mk.wikipedia.org/wiki/\"><span class=\"autonym\" lang=\"mk\" title=\"Macedonian (mk:)\">Македонски</span></a></li>\n",
      "<li><a class=\"external text\" href=\"https://nn.wikipedia.org/wiki/\"><span class=\"autonym\" lang=\"nn\" title=\"Norwegian Nynorsk (nn:)\">Norsk nynorsk</span></a></li>\n",
      "<li><a class=\"external text\" href=\"https://pa.wikipedia.org/wiki/\"><span class=\"autonym\" lang=\"pa\" title=\"Punjabi (pa:)\">ਪੰਜਾਬੀ</span></a></li>\n",
      "<li><a class=\"external text\" href=\"https://sq.wikipedia.org/wiki/\"><span class=\"autonym\" lang=\"sq\" title=\"Albanian (sq:)\">Shqip</span></a></li>\n",
      "<li><a class=\"external text\" href=\"https://sk.wikipedia.org/wiki/\"><span class=\"autonym\" lang=\"sk\" title=\"Slovak (sk:)\">Slovenčina</span></a></li>\n",
      "<li><a class=\"external text\" href=\"https://sl.wikipedia.org/wiki/\"><span class=\"autonym\" lang=\"sl\" title=\"Slovenian (sl:)\">Slovenščina</span></a></li>\n",
      "<li><a class=\"external text\" href=\"https://th.wikipedia.org/wiki/\"><span class=\"autonym\" lang=\"th\" title=\"Thai (th:)\">ไทย</span></a></li></ul>\n",
      "</div>\n",
      "</li>\n",
      "</ul>\n",
      "</div></div>\n",
      "</div>\n",
      "<!-- \n",
      "NewPP limit report\n",
      "Parsed by mw1372\n",
      "Cached time: 20230623101319\n",
      "Cache expiry: 3600\n",
      "Reduced expiry: true\n",
      "Complications: [no‐toc]\n",
      "CPU time usage: 0.451 seconds\n",
      "Real time usage: 0.571 seconds\n",
      "Preprocessor visited node count: 5083/1000000\n",
      "Post‐expand include size: 135960/2097152 bytes\n",
      "Template argument size: 12409/2097152 bytes\n",
      "Highest expansion depth: 18/100\n",
      "Expensive parser function count: 15/500\n",
      "Unstrip recursion depth: 0/20\n",
      "Unstrip post‐expand size: 43173/5000000 bytes\n",
      "Lua time usage: 0.179/10.000 seconds\n",
      "Lua memory usage: 16597192/52428800 bytes\n",
      "Number of Wikibase entities loaded: 0/400\n",
      "-->\n",
      "<!--\n",
      "Transclusion expansion time report (%,ms,calls,template)\n",
      "100.00%  450.784      1 -total\n",
      " 29.31%  132.139      1 Template:POTD_protected/2023-06-23\n",
      " 29.09%  131.138      3 Template:Lang\n",
      " 19.71%   88.847      1 Wikipedia:Main_Page/Tomorrow\n",
      " 19.03%   85.769      9 Template:Main_page_image\n",
      " 16.65%   75.054      1 Wikipedia:Today's_featured_article/June_23,_2023\n",
      " 12.88%   58.078      9 Template:Str_number/trim\n",
      "  9.37%   42.240     28 Template:Flatlist\n",
      "  8.77%   39.539      1 Wikipedia:Selected_anniversaries/June_23\n",
      "  8.60%   38.780      2 Template:Wikipedia_languages\n",
      "-->\n",
      "<!-- Saved in parser cache with key enwiki:pcache:idhash:15580374-0!canonical and timestamp 20230623101319 and revision id 1114291180. Rendering was triggered because: page-view\n",
      " -->\n",
      "</div><!--esi <esi:include src=\"/esitest-fa8a495983347898/content\" /> --><noscript><img alt=\"\" height=\"1\" src=\"//en.wikipedia.org/wiki/Special:CentralAutoLogin/start?type=1x1\" style=\"border: none; position: absolute;\" title=\"\" width=\"1\"/></noscript>\n",
      "<div class=\"printfooter\" data-nosnippet=\"\">Retrieved from \"<a dir=\"ltr\" href=\"https://en.wikipedia.org/w/index.php?title=Main_Page&amp;oldid=1114291180\">https://en.wikipedia.org/w/index.php?title=Main_Page&amp;oldid=1114291180</a>\"</div></div>\n",
      "<div class=\"catlinks catlinks-allhidden\" data-mw=\"interface\" id=\"catlinks\"><div class=\"mw-hidden-catlinks mw-hidden-cats-hidden\" id=\"mw-hidden-catlinks\">Hidden categories: <ul><li><a href=\"/wiki/Category:Articles_containing_Latin-language_text\" title=\"Category:Articles containing Latin-language text\">Articles containing Latin-language text</a></li><li><a href=\"/wiki/Category:Articles_containing_French-language_text\" title=\"Category:Articles containing French-language text\">Articles containing French-language text</a></li></ul></div></div>\n",
      "<div class=\"vector-menu vector-dropdown vector-menu-dropdown mw-portlet mw-portlet-lang\" id=\"p-lang-btn\">\n",
      "<input aria-haspopup=\"true\" aria-label=\"Go to an article in another language. Available in 47 languages\" class=\"vector-menu-checkbox mw-interlanguage-selector\" data-event-name=\"ui.dropdown-p-lang-btn\" id=\"p-lang-btn-checkbox\" role=\"button\" type=\"checkbox\"/>\n",
      "<label aria-hidden=\"true\" class=\"vector-menu-heading cdx-button cdx-button--fake-button cdx-button--fake-button--enabled cdx-button--weight-quiet cdx-button--action-progressive mw-portlet-lang-heading-47\" for=\"p-lang-btn-checkbox\" id=\"p-lang-btn-label\">\n",
      "<span class=\"vector-icon mw-ui-icon-language-progressive mw-ui-icon-wikimedia-language-progressive\"></span>\n",
      "<span class=\"vector-menu-heading-label\">47 languages</span>\n",
      "</label>\n",
      "<div class=\"vector-menu-content vector-dropdown-content\">\n",
      "<div class=\"vector-menu-content\">\n",
      "<ul class=\"vector-menu-content-list\"><li class=\"interlanguage-link interwiki-ar mw-list-item\"><a class=\"interlanguage-link-target\" href=\"https://ar.wikipedia.org/wiki/\" hreflang=\"ar\" lang=\"ar\" title=\"Arabic\"><span>العربية</span></a></li><li class=\"interlanguage-link interwiki-bn mw-list-item\"><a class=\"interlanguage-link-target\" href=\"https://bn.wikipedia.org/wiki/\" hreflang=\"bn\" lang=\"bn\" title=\"Bangla\"><span>বাংলা</span></a></li><li class=\"interlanguage-link interwiki-bg mw-list-item\"><a class=\"interlanguage-link-target\" href=\"https://bg.wikipedia.org/wiki/\" hreflang=\"bg\" lang=\"bg\" title=\"Bulgarian\"><span>Български</span></a></li><li class=\"interlanguage-link interwiki-bs mw-list-item\"><a class=\"interlanguage-link-target\" href=\"https://bs.wikipedia.org/wiki/\" hreflang=\"bs\" lang=\"bs\" title=\"Bosnian\"><span>Bosanski</span></a></li><li class=\"interlanguage-link interwiki-ca mw-list-item\"><a class=\"interlanguage-link-target\" href=\"https://ca.wikipedia.org/wiki/\" hreflang=\"ca\" lang=\"ca\" title=\"Catalan\"><span>Català</span></a></li><li class=\"interlanguage-link interwiki-cs mw-list-item\"><a class=\"interlanguage-link-target\" href=\"https://cs.wikipedia.org/wiki/\" hreflang=\"cs\" lang=\"cs\" title=\"Czech\"><span>Čeština</span></a></li><li class=\"interlanguage-link interwiki-da mw-list-item\"><a class=\"interlanguage-link-target\" href=\"https://da.wikipedia.org/wiki/\" hreflang=\"da\" lang=\"da\" title=\"Danish\"><span>Dansk</span></a></li><li class=\"interlanguage-link interwiki-de mw-list-item\"><a class=\"interlanguage-link-target\" href=\"https://de.wikipedia.org/wiki/\" hreflang=\"de\" lang=\"de\" title=\"German\"><span>Deutsch</span></a></li><li class=\"interlanguage-link interwiki-et mw-list-item\"><a class=\"interlanguage-link-target\" href=\"https://et.wikipedia.org/wiki/\" hreflang=\"et\" lang=\"et\" title=\"Estonian\"><span>Eesti</span></a></li><li class=\"interlanguage-link interwiki-el mw-list-item\"><a class=\"interlanguage-link-target\" href=\"https://el.wikipedia.org/wiki/\" hreflang=\"el\" lang=\"el\" title=\"Greek\"><span>Ελληνικά</span></a></li><li class=\"interlanguage-link interwiki-es mw-list-item\"><a class=\"interlanguage-link-target\" href=\"https://es.wikipedia.org/wiki/\" hreflang=\"es\" lang=\"es\" title=\"Spanish\"><span>Español</span></a></li><li class=\"interlanguage-link interwiki-eo mw-list-item\"><a class=\"interlanguage-link-target\" href=\"https://eo.wikipedia.org/wiki/\" hreflang=\"eo\" lang=\"eo\" title=\"Esperanto\"><span>Esperanto</span></a></li><li class=\"interlanguage-link interwiki-eu mw-list-item\"><a class=\"interlanguage-link-target\" href=\"https://eu.wikipedia.org/wiki/\" hreflang=\"eu\" lang=\"eu\" title=\"Basque\"><span>Euskara</span></a></li><li class=\"interlanguage-link interwiki-fa mw-list-item\"><a class=\"interlanguage-link-target\" href=\"https://fa.wikipedia.org/wiki/\" hreflang=\"fa\" lang=\"fa\" title=\"Persian\"><span>فارسی</span></a></li><li class=\"interlanguage-link interwiki-fr mw-list-item\"><a class=\"interlanguage-link-target\" href=\"https://fr.wikipedia.org/wiki/\" hreflang=\"fr\" lang=\"fr\" title=\"French\"><span>Français</span></a></li><li class=\"interlanguage-link interwiki-gl mw-list-item\"><a class=\"interlanguage-link-target\" href=\"https://gl.wikipedia.org/wiki/\" hreflang=\"gl\" lang=\"gl\" title=\"Galician\"><span>Galego</span></a></li><li class=\"interlanguage-link interwiki-ko mw-list-item\"><a class=\"interlanguage-link-target\" href=\"https://ko.wikipedia.org/wiki/\" hreflang=\"ko\" lang=\"ko\" title=\"Korean\"><span>한국어</span></a></li><li class=\"interlanguage-link interwiki-hr mw-list-item\"><a class=\"interlanguage-link-target\" href=\"https://hr.wikipedia.org/wiki/\" hreflang=\"hr\" lang=\"hr\" title=\"Croatian\"><span>Hrvatski</span></a></li><li class=\"interlanguage-link interwiki-id mw-list-item\"><a class=\"interlanguage-link-target\" href=\"https://id.wikipedia.org/wiki/\" hreflang=\"id\" lang=\"id\" title=\"Indonesian\"><span>Bahasa Indonesia</span></a></li><li class=\"interlanguage-link interwiki-it mw-list-item\"><a class=\"interlanguage-link-target\" href=\"https://it.wikipedia.org/wiki/\" hreflang=\"it\" lang=\"it\" title=\"Italian\"><span>Italiano</span></a></li><li class=\"interlanguage-link interwiki-he mw-list-item\"><a class=\"interlanguage-link-target\" href=\"https://he.wikipedia.org/wiki/\" hreflang=\"he\" lang=\"he\" title=\"Hebrew\"><span>עברית</span></a></li><li class=\"interlanguage-link interwiki-ka mw-list-item\"><a class=\"interlanguage-link-target\" href=\"https://ka.wikipedia.org/wiki/\" hreflang=\"ka\" lang=\"ka\" title=\"Georgian\"><span>ქართული</span></a></li><li class=\"interlanguage-link interwiki-lv mw-list-item\"><a class=\"interlanguage-link-target\" href=\"https://lv.wikipedia.org/wiki/\" hreflang=\"lv\" lang=\"lv\" title=\"Latvian\"><span>Latviešu</span></a></li><li class=\"interlanguage-link interwiki-lt mw-list-item\"><a class=\"interlanguage-link-target\" href=\"https://lt.wikipedia.org/wiki/\" hreflang=\"lt\" lang=\"lt\" title=\"Lithuanian\"><span>Lietuvių</span></a></li><li class=\"interlanguage-link interwiki-hu mw-list-item\"><a class=\"interlanguage-link-target\" href=\"https://hu.wikipedia.org/wiki/\" hreflang=\"hu\" lang=\"hu\" title=\"Hungarian\"><span>Magyar</span></a></li><li class=\"interlanguage-link interwiki-mk mw-list-item\"><a class=\"interlanguage-link-target\" href=\"https://mk.wikipedia.org/wiki/\" hreflang=\"mk\" lang=\"mk\" title=\"Macedonian\"><span>Македонски</span></a></li><li class=\"interlanguage-link interwiki-ms mw-list-item\"><a class=\"interlanguage-link-target\" href=\"https://ms.wikipedia.org/wiki/\" hreflang=\"ms\" lang=\"ms\" title=\"Malay\"><span>Bahasa Melayu</span></a></li><li class=\"interlanguage-link interwiki-nl mw-list-item\"><a class=\"interlanguage-link-target\" href=\"https://nl.wikipedia.org/wiki/\" hreflang=\"nl\" lang=\"nl\" title=\"Dutch\"><span>Nederlands</span></a></li><li class=\"interlanguage-link interwiki-ja mw-list-item\"><a class=\"interlanguage-link-target\" href=\"https://ja.wikipedia.org/wiki/\" hreflang=\"ja\" lang=\"ja\" title=\"Japanese\"><span>日本語</span></a></li><li class=\"interlanguage-link interwiki-no mw-list-item\"><a class=\"interlanguage-link-target\" href=\"https://no.wikipedia.org/wiki/\" hreflang=\"nb\" lang=\"nb\" title=\"Norwegian Bokmål\"><span>Norsk bokmål</span></a></li><li class=\"interlanguage-link interwiki-nn mw-list-item\"><a class=\"interlanguage-link-target\" href=\"https://nn.wikipedia.org/wiki/\" hreflang=\"nn\" lang=\"nn\" title=\"Norwegian Nynorsk\"><span>Norsk nynorsk</span></a></li><li class=\"interlanguage-link interwiki-pl mw-list-item\"><a class=\"interlanguage-link-target\" href=\"https://pl.wikipedia.org/wiki/\" hreflang=\"pl\" lang=\"pl\" title=\"Polish\"><span>Polski</span></a></li><li class=\"interlanguage-link interwiki-pt mw-list-item\"><a class=\"interlanguage-link-target\" href=\"https://pt.wikipedia.org/wiki/\" hreflang=\"pt\" lang=\"pt\" title=\"Portuguese\"><span>Português</span></a></li><li class=\"interlanguage-link interwiki-ro mw-list-item\"><a class=\"interlanguage-link-target\" href=\"https://ro.wikipedia.org/wiki/\" hreflang=\"ro\" lang=\"ro\" title=\"Romanian\"><span>Română</span></a></li><li class=\"interlanguage-link interwiki-ru mw-list-item\"><a class=\"interlanguage-link-target\" href=\"https://ru.wikipedia.org/wiki/\" hreflang=\"ru\" lang=\"ru\" title=\"Russian\"><span>Русский</span></a></li><li class=\"interlanguage-link interwiki-simple mw-list-item\"><a class=\"interlanguage-link-target\" href=\"https://simple.wikipedia.org/wiki/\" hreflang=\"en-simple\" lang=\"en-simple\" title=\"Simple English\"><span>Simple English</span></a></li><li class=\"interlanguage-link interwiki-sk mw-list-item\"><a class=\"interlanguage-link-target\" href=\"https://sk.wikipedia.org/wiki/\" hreflang=\"sk\" lang=\"sk\" title=\"Slovak\"><span>Slovenčina</span></a></li><li class=\"interlanguage-link interwiki-sl mw-list-item\"><a class=\"interlanguage-link-target\" href=\"https://sl.wikipedia.org/wiki/\" hreflang=\"sl\" lang=\"sl\" title=\"Slovenian\"><span>Slovenščina</span></a></li><li class=\"interlanguage-link interwiki-sr mw-list-item\"><a class=\"interlanguage-link-target\" href=\"https://sr.wikipedia.org/wiki/\" hreflang=\"sr\" lang=\"sr\" title=\"Serbian\"><span>Српски / srpski</span></a></li><li class=\"interlanguage-link interwiki-sh mw-list-item\"><a class=\"interlanguage-link-target\" href=\"https://sh.wikipedia.org/wiki/\" hreflang=\"sh\" lang=\"sh\" title=\"Serbo-Croatian\"><span>Srpskohrvatski / српскохрватски</span></a></li><li class=\"interlanguage-link interwiki-fi mw-list-item\"><a class=\"interlanguage-link-target\" href=\"https://fi.wikipedia.org/wiki/\" hreflang=\"fi\" lang=\"fi\" title=\"Finnish\"><span>Suomi</span></a></li><li class=\"interlanguage-link interwiki-sv mw-list-item\"><a class=\"interlanguage-link-target\" href=\"https://sv.wikipedia.org/wiki/\" hreflang=\"sv\" lang=\"sv\" title=\"Swedish\"><span>Svenska</span></a></li><li class=\"interlanguage-link interwiki-th mw-list-item\"><a class=\"interlanguage-link-target\" href=\"https://th.wikipedia.org/wiki/\" hreflang=\"th\" lang=\"th\" title=\"Thai\"><span>ไทย</span></a></li><li class=\"interlanguage-link interwiki-tr mw-list-item\"><a class=\"interlanguage-link-target\" href=\"https://tr.wikipedia.org/wiki/\" hreflang=\"tr\" lang=\"tr\" title=\"Turkish\"><span>Türkçe</span></a></li><li class=\"interlanguage-link interwiki-uk mw-list-item\"><a class=\"interlanguage-link-target\" href=\"https://uk.wikipedia.org/wiki/\" hreflang=\"uk\" lang=\"uk\" title=\"Ukrainian\"><span>Українська</span></a></li><li class=\"interlanguage-link interwiki-vi mw-list-item\"><a class=\"interlanguage-link-target\" href=\"https://vi.wikipedia.org/wiki/\" hreflang=\"vi\" lang=\"vi\" title=\"Vietnamese\"><span>Tiếng Việt</span></a></li><li class=\"interlanguage-link interwiki-zh mw-list-item\"><a class=\"interlanguage-link-target\" href=\"https://zh.wikipedia.org/wiki/\" hreflang=\"zh\" lang=\"zh\" title=\"Chinese\"><span>中文</span></a></li></ul>\n",
      "</div>\n",
      "</div>\n",
      "</div>\n",
      "</div>\n",
      "</main>\n",
      "</div>\n",
      "<div class=\"mw-footer-container\">\n",
      "<footer class=\"mw-footer\" id=\"footer\" role=\"contentinfo\">\n",
      "<ul id=\"footer-info\">\n",
      "<li id=\"footer-info-lastmod\"> This page was last edited on 5 October 2022, at 19:27<span class=\"anonymous-show\"> (UTC)</span>.</li>\n",
      "<li id=\"footer-info-copyright\">Text is available under the <a href=\"https://creativecommons.org/licenses/by-sa/4.0/\" rel=\"license\">Creative Commons Attribution-ShareAlike License 4.0</a><a href=\"//creativecommons.org/licenses/by-sa/4.0/\" rel=\"license\" style=\"display:none;\"></a>;\n",
      "additional terms may apply.  By using this site, you agree to the <a href=\"//foundation.wikimedia.org/wiki/Terms_of_Use\">Terms of Use</a> and <a href=\"//foundation.wikimedia.org/wiki/Privacy_policy\">Privacy Policy</a>. Wikipedia® is a registered trademark of the <a href=\"//www.wikimediafoundation.org/\">Wikimedia Foundation, Inc.</a>, a non-profit organization.</li>\n",
      "</ul>\n",
      "<ul id=\"footer-places\">\n",
      "<li id=\"footer-places-privacy\"><a href=\"https://foundation.wikimedia.org/wiki/Special:MyLanguage/Policy:Privacy_policy\">Privacy policy</a></li>\n",
      "<li id=\"footer-places-about\"><a href=\"/wiki/Wikipedia:About\">About Wikipedia</a></li>\n",
      "<li id=\"footer-places-disclaimers\"><a href=\"/wiki/Wikipedia:General_disclaimer\">Disclaimers</a></li>\n",
      "<li id=\"footer-places-contact\"><a href=\"//en.wikipedia.org/wiki/Wikipedia:Contact_us\">Contact Wikipedia</a></li>\n",
      "<li id=\"footer-places-wm-codeofconduct\"><a href=\"https://foundation.wikimedia.org/wiki/Special:MyLanguage/Universal_Code_of_Conduct\">Code of Conduct</a></li>\n",
      "<li id=\"footer-places-mobileview\"><a class=\"noprint stopMobileRedirectToggle\" href=\"//en.m.wikipedia.org/w/index.php?title=Main_Page&amp;mobileaction=toggle_view_mobile\">Mobile view</a></li>\n",
      "<li id=\"footer-places-developers\"><a href=\"https://developer.wikimedia.org\">Developers</a></li>\n",
      "<li id=\"footer-places-statslink\"><a href=\"https://stats.wikimedia.org/#/en.wikipedia.org\">Statistics</a></li>\n",
      "<li id=\"footer-places-cookiestatement\"><a href=\"https://foundation.wikimedia.org/wiki/Special:MyLanguage/Policy:Cookie_statement\">Cookie statement</a></li>\n",
      "</ul>\n",
      "<ul class=\"noprint\" id=\"footer-icons\">\n",
      "<li id=\"footer-copyrightico\"><a href=\"https://wikimediafoundation.org/\"><img alt=\"Wikimedia Foundation\" height=\"31\" loading=\"lazy\" src=\"/static/images/footer/wikimedia-button.png\" srcset=\"/static/images/footer/wikimedia-button-1.5x.png 1.5x, /static/images/footer/wikimedia-button-2x.png 2x\" width=\"88\"/></a></li>\n",
      "<li id=\"footer-poweredbyico\"><a href=\"https://www.mediawiki.org/\"><img alt=\"Powered by MediaWiki\" height=\"31\" loading=\"lazy\" src=\"/static/images/footer/poweredby_mediawiki_88x31.png\" srcset=\"/static/images/footer/poweredby_mediawiki_132x47.png 1.5x, /static/images/footer/poweredby_mediawiki_176x62.png 2x\" width=\"88\"/></a></li>\n",
      "</ul>\n",
      "</footer>\n",
      "</div>\n",
      "</div>\n",
      "</div>\n",
      "<div class=\"vector-settings\">\n",
      "<button class=\"cdx-button cdx-button--icon-only vector-limited-width-toggle\" id=\"\"><span class=\"vector-icon mw-ui-icon-fullScreen mw-ui-icon-wikimedia-fullScreen\"></span>\n",
      "<span>Toggle limited content width</span>\n",
      "</button>\n",
      "</div>\n",
      "<script>(RLQ=window.RLQ||[]).push(function(){mw.config.set({\"wgHostname\":\"mw1498\",\"wgBackendResponseTime\":112,\"wgPageParseReport\":{\"limitreport\":{\"cputime\":\"0.451\",\"walltime\":\"0.571\",\"ppvisitednodes\":{\"value\":5083,\"limit\":1000000},\"postexpandincludesize\":{\"value\":135960,\"limit\":2097152},\"templateargumentsize\":{\"value\":12409,\"limit\":2097152},\"expansiondepth\":{\"value\":18,\"limit\":100},\"expensivefunctioncount\":{\"value\":15,\"limit\":500},\"unstrip-depth\":{\"value\":0,\"limit\":20},\"unstrip-size\":{\"value\":43173,\"limit\":5000000},\"entityaccesscount\":{\"value\":0,\"limit\":400},\"timingprofile\":[\"100.00%  450.784      1 -total\",\" 29.31%  132.139      1 Template:POTD_protected/2023-06-23\",\" 29.09%  131.138      3 Template:Lang\",\" 19.71%   88.847      1 Wikipedia:Main_Page/Tomorrow\",\" 19.03%   85.769      9 Template:Main_page_image\",\" 16.65%   75.054      1 Wikipedia:Today's_featured_article/June_23,_2023\",\" 12.88%   58.078      9 Template:Str_number/trim\",\"  9.37%   42.240     28 Template:Flatlist\",\"  8.77%   39.539      1 Wikipedia:Selected_anniversaries/June_23\",\"  8.60%   38.780      2 Template:Wikipedia_languages\"]},\"scribunto\":{\"limitreport-timeusage\":{\"value\":\"0.179\",\"limit\":\"10.000\"},\"limitreport-memusage\":{\"value\":16597192,\"limit\":52428800}},\"cachereport\":{\"origin\":\"mw1372\",\"timestamp\":\"20230623101319\",\"ttl\":3600,\"transientcontent\":true}}});});</script>\n",
      "<script type=\"application/ld+json\">{\"@context\":\"https:\\/\\/schema.org\",\"@type\":\"Article\",\"name\":\"Main Page\",\"url\":\"https:\\/\\/en.wikipedia.org\\/wiki\\/Main_Page\",\"sameAs\":\"http:\\/\\/www.wikidata.org\\/entity\\/Q5296\",\"mainEntity\":\"http:\\/\\/www.wikidata.org\\/entity\\/Q5296\",\"author\":{\"@type\":\"Organization\",\"name\":\"Contributors to Wikimedia projects\"},\"publisher\":{\"@type\":\"Organization\",\"name\":\"Wikimedia Foundation, Inc.\",\"logo\":{\"@type\":\"ImageObject\",\"url\":\"https:\\/\\/www.wikimedia.org\\/static\\/images\\/wmf-hor-googpub.png\"}},\"datePublished\":\"2002-01-26T15:28:12Z\",\"dateModified\":\"2022-10-05T19:27:50Z\",\"image\":\"https:\\/\\/upload.wikimedia.org\\/wikipedia\\/commons\\/4\\/46\\/Gustave_Courbet_-_The_Stonebreakers_-_WGA05457.jpg\",\"headline\":\"Wikimedia project page\"}</script><script type=\"application/ld+json\">{\"@context\":\"https:\\/\\/schema.org\",\"@type\":\"Article\",\"name\":\"Main Page\",\"url\":\"https:\\/\\/en.wikipedia.org\\/wiki\\/Main_Page\",\"sameAs\":\"http:\\/\\/www.wikidata.org\\/entity\\/Q5296\",\"mainEntity\":\"http:\\/\\/www.wikidata.org\\/entity\\/Q5296\",\"author\":{\"@type\":\"Organization\",\"name\":\"Contributors to Wikimedia projects\"},\"publisher\":{\"@type\":\"Organization\",\"name\":\"Wikimedia Foundation, Inc.\",\"logo\":{\"@type\":\"ImageObject\",\"url\":\"https:\\/\\/www.wikimedia.org\\/static\\/images\\/wmf-hor-googpub.png\"}},\"datePublished\":\"2002-01-26T15:28:12Z\",\"dateModified\":\"2022-10-05T19:27:50Z\",\"image\":\"https:\\/\\/upload.wikimedia.org\\/wikipedia\\/commons\\/4\\/46\\/Gustave_Courbet_-_The_Stonebreakers_-_WGA05457.jpg\",\"headline\":\"Wikimedia project page\"}</script>\n",
      "</body>\n",
      "</html>\n"
     ]
    }
   ],
   "source": [
    "from bs4 import BeautifulSoup\n",
    "#import urllib  # If you're using Python 2.x\n",
    "import urllib.request  # If you're using Python 3\n",
    "\n",
    "url = 'https://en.wikipedia.org/wiki/Main_Page'\n",
    "#html = urllib.urlopen(url).read()  # Python 2.x\n",
    "with urllib.request.urlopen(url) as url_content:\n",
    "    html = url_content.read()\n",
    "\n",
    "# BeautifulSoup() is a formatting module to interpret html/xml\n",
    "soup = BeautifulSoup(html, 'html.parser')\n",
    "print(soup)"
   ]
  },
  {
   "cell_type": "markdown",
   "metadata": {
    "id": "LWG741L9niK_"
   },
   "source": [
    "The `prettify` method turns your soup into a more nicely formatted string with a separate line for each tag and each string, and indented."
   ]
  },
  {
   "cell_type": "code",
   "execution_count": 178,
   "metadata": {
    "colab": {
     "base_uri": "https://localhost:8080/"
    },
    "id": "R799kHqpDd6u",
    "outputId": "bf16e8a0-ca1e-4532-f299-1071d8487a14"
   },
   "outputs": [
    {
     "name": "stdout",
     "output_type": "stream",
     "text": [
      "<class 'bs4.BeautifulSoup'>\n",
      "<!DOCTYPE html>\n",
      "<html class=\"client-nojs vector-feature-language-in-header-enabled vector-feature-language-in-main-page-header-disabled vector-feature-sticky-header-disabled vector-feature-page-tools-pinned-disabled vector-feature-toc-pinned-enabled vector-feature-main-menu-pinned-disabled vector-feature-limited-width-enabled vector-feature-limited-width-content-enabled vector-feature-zebra-design-disabled\" dir=\"ltr\" lang=\"en\">\n",
      " <head>\n",
      "  <meta charset=\"utf-8\"/>\n",
      "  <title>\n",
      "   Wikipedia, the free encyclopedia\n",
      "  </title>\n",
      "  <script>\n",
      "   document.documentElement.className=\"client-js vector-feature-language-in-header-enabled vector-feature-language-in-main-page-header-disabled vector-feature-sticky-header-disabled vector-feature-page-tools-pinned-disabled vector-feature-toc-pinned-enabled vector-feature-main-menu-pinned-disabled vector-feature-limited-width-enabled vector-feature-limited-width-content-enabled vector-feature-zebra-design-disabled\";(function(){var cookie=document.cookie.match(/(?:^|; )enwikimwclientprefs=([^;]+)/);if(cookie){var featureName=cookie[1];document.documentElement.className=document.documentElement.className.replace(featureName+'-enabled',featureName+'-disabled');}}());RLCONF={\"wgBreakFrames\":false,\"wgSeparatorTransformTable\":[\"\",\"\"],\"wgDigitTransformTable\":[\"\",\"\"],\"wgDefaultDateFormat\":\"dmy\",\"wgMonthNames\":[\"\",\"January\",\"February\",\"March\",\"April\",\"May\",\"June\",\"July\",\"August\",\"September\",\"October\",\"November\",\"December\"],\"wgRequestId\":\"a765fe45-0c9e-422e-97dd-bb183631dc7a\",\"wgCSPNonce\":false,\n",
      "\"wgCanonicalNamespace\":\"\",\"wgCanonicalSpecialPageName\":false,\"wgNamespaceNumber\":0,\"wgPageName\":\"Main_Page\",\"wgTitle\":\"Main Page\",\"wgCurRevisionId\":1114291180,\"wgRevisionId\":1114291180,\"wgArticleId\":15580374,\"wgIsArticle\":true,\"wgIsRedirect\":false,\"wgAction\":\"view\",\"wgUserName\":null,\"wgUserGroups\":[\"*\"],\"wgCategories\":[\"Articles containing Latin-language text\",\"Articles containing French-language text\"],\"wgPageViewLanguage\":\"en\",\"wgPageContentLanguage\":\"en\",\"wgPageContentModel\":\"wikitext\",\"wgRelevantPageName\":\"Main_Page\",\"wgRelevantArticleId\":15580374,\"wgIsProbablyEditable\":false,\"wgRelevantPageIsProbablyEditable\":false,\"wgRestrictionEdit\":[\"sysop\"],\"wgRestrictionMove\":[\"sysop\"],\"wgIsMainPage\":true,\"wgFlaggedRevsParams\":{\"tags\":{\"status\":{\"levels\":1}}},\"wgVisualEditor\":{\"pageLanguageCode\":\"en\",\"pageLanguageDir\":\"ltr\",\"pageVariantFallbacks\":\"en\"},\"wgMFDisplayWikibaseDescriptions\":{\"search\":true,\"watchlist\":true,\"tagline\":false,\"nearby\":true},\"wgWMESchemaEditAttemptStepOversample\":false,\n",
      "\"wgWMEPageLength\":3000,\"wgNoticeProject\":\"wikipedia\",\"wgMediaViewerOnClick\":true,\"wgMediaViewerEnabledByDefault\":true,\"wgPopupsFlags\":10,\"wgULSCurrentAutonym\":\"English\",\"wgEditSubmitButtonLabelPublish\":true,\"wgCentralAuthMobileDomain\":false,\"wgULSPosition\":\"interlanguage\",\"wgULSisCompactLinksEnabled\":true,\"wgULSisLanguageSelectorEmpty\":false,\"wgWikibaseItemId\":\"Q5296\",\"GEHomepageSuggestedEditsEnableTopics\":true,\"wgGETopicsMatchModeEnabled\":false,\"wgGEStructuredTaskRejectionReasonTextInputEnabled\":false,\"wgGELevelingUpEnabledForUser\":false};RLSTATE={\"skins.vector.user.styles\":\"ready\",\"ext.globalCssJs.user.styles\":\"ready\",\"site.styles\":\"ready\",\"user.styles\":\"ready\",\"skins.vector.user\":\"ready\",\"ext.globalCssJs.user\":\"ready\",\"user\":\"ready\",\"user.options\":\"loading\",\"codex-search-styles\":\"ready\",\"skins.vector.styles\":\"ready\",\"skins.vector.icons\":\"ready\",\"ext.visualEditor.desktopArticleTarget.noscript\":\"ready\",\"ext.wikimediaBadges\":\"ready\",\"ext.uls.interlanguage\":\"ready\"};RLPAGEMODULES=[\n",
      "\"site\",\"mediawiki.page.ready\",\"skins.vector.js\",\"mmv.head\",\"mmv.bootstrap.autostart\",\"ext.visualEditor.desktopArticleTarget.init\",\"ext.visualEditor.targetLoader\",\"ext.eventLogging\",\"ext.wikimediaEvents\",\"ext.navigationTiming\",\"ext.cx.eventlogging.campaigns\",\"ext.centralNotice.geoIP\",\"ext.centralNotice.startUp\",\"ext.gadget.ReferenceTooltips\",\"ext.gadget.charinsert\",\"ext.gadget.extra-toolbar-buttons\",\"ext.gadget.switcher\",\"ext.centralauth.centralautologin\",\"ext.popups\",\"ext.echo.centralauth\",\"ext.uls.interface\",\"wikibase.client.vector-2022\",\"ext.growthExperiments.SuggestedEditSession\"];\n",
      "  </script>\n",
      "  <script>\n",
      "   (RLQ=window.RLQ||[]).push(function(){mw.loader.implement(\"user.options@12s5i\",function($,jQuery,require,module){mw.user.tokens.set({\"patrolToken\":\"+\\\\\",\"watchToken\":\"+\\\\\",\"csrfToken\":\"+\\\\\"});});});\n",
      "  </script>\n",
      "  <link href=\"/w/load.php?lang=en&amp;modules=codex-search-styles%7Cext.uls.interlanguage%7Cext.visualEditor.desktopArticleTarget.noscript%7Cext.wikimediaBadges%7Cskins.vector.icons%2Cstyles&amp;only=styles&amp;skin=vector-2022\" rel=\"stylesheet\"/>\n",
      "  <script async=\"\" src=\"/w/load.php?lang=en&amp;modules=startup&amp;only=scripts&amp;raw=1&amp;skin=vector-2022\">\n",
      "  </script>\n",
      "  <meta content=\"\" name=\"ResourceLoaderDynamicStyles\"/>\n",
      "  <link href=\"/w/load.php?lang=en&amp;modules=site.styles&amp;only=styles&amp;skin=vector-2022\" rel=\"stylesheet\"/>\n",
      "  <meta content=\"MediaWiki 1.41.0-wmf.13\" name=\"generator\"/>\n",
      "  <meta content=\"origin\" name=\"ref\n"
     ]
    }
   ],
   "source": [
    "print(type(soup))\n",
    "print(soup.prettify()[0:5000])"
   ]
  },
  {
   "cell_type": "markdown",
   "metadata": {
    "id": "_p9x7tE8EMNz"
   },
   "source": [
    "The text is structured with HTML tags organised in a systematic way. This structure is referred to as a *HTML DOM* (Document Object Model).\n",
    "\n",
    "We are interested in grabbing the summary of the article of the day, from the Wikipedia main page along with all the links in it. So we'll use `BeautifulSoup`'s functions to parse HTML tags that contain this information or lead us to it in the form of embedded URLs.\n",
    "\n",
    "On inspection of the HTML source we identify that the article summary is enclosed in the first `p` tag. `p` stands for paragraph. The idea is as follows,\n",
    "\n",
    "1.   Using the function in `.find_all()` in BeautifulSoup we search for all tags of the type `p`\n",
    "2.  Identify the correct paragraph and extract URLs.\n",
    "3.  Extract text.\n",
    "\n"
   ]
  },
  {
   "cell_type": "code",
   "execution_count": 179,
   "metadata": {
    "colab": {
     "base_uri": "https://localhost:8080/"
    },
    "id": "Q813eykNE92E",
    "outputId": "796dce15-b502-4e9e-c2b6-2a3ad35da0f8"
   },
   "outputs": [
    {
     "data": {
      "text/plain": [
       "[<p><i><b><a href=\"/wiki/Banksia_grossa\" title=\"Banksia grossa\">Banksia grossa</a></b></i> is a shrub in the plant family <a href=\"/wiki/Proteaceae\" title=\"Proteaceae\">Proteaceae</a> endemic to <a href=\"/wiki/Southwest_Australia\" title=\"Southwest Australia\">Southwest Australia</a>. It is one of fourteen species of <a href=\"/wiki/Banksia\" title=\"Banksia\">banksia</a> in the series <i><a href=\"/wiki/Banksia_ser._Abietinae\" title=\"Banksia ser. Abietinae\">Abietinae</a></i>, which bear round or oval <a href=\"/wiki/Inflorescence\" title=\"Inflorescence\">inflorescences</a>. Collected in 1965, it was <a href=\"/wiki/Species_description\" title=\"Species description\">described</a> in 1981 by <a href=\"/wiki/Alex_George_(botanist)\" title=\"Alex George (botanist)\">Alex George</a>. Its thick leaves and large seeds distinguish it from other <i>Abietinae</i> species. It is found among heath between <a href=\"/wiki/Eneabba,_Western_Australia\" title=\"Eneabba, Western Australia\">Eneabba</a> and <a href=\"/wiki/Badgingarra,_Western_Australia\" title=\"Badgingarra, Western Australia\">Badgingarra</a>, in shallow sand over <a href=\"/wiki/Laterite\" title=\"Laterite\">laterite</a> or in deep sand. It grows as a many-stemmed shrub to 1 m (3 ft) high with narrow leaves and oval brownish flower spikes up to 10 cm (4 in) high, composed of hundreds of individual flowers. Flowering occurs throughout the cooler months. Old flower spikes develop woody <a href=\"/wiki/Follicle_(fruit)\" title=\"Follicle (fruit)\">follicles</a> which bear the seeds. The plant takes five to seven years to reach maturity and begin flowering. After bushfire, <i>B. grossa</i> regenerates from its woody <a href=\"/wiki/Lignotuber\" title=\"Lignotuber\">lignotuber</a>; bushfires also stimulate the release of seeds, which germinate after <a href=\"/wiki/Disturbance_(ecology)\" title=\"Disturbance (ecology)\">disturbance</a>. Visitors to inflorescences include insects and the nocturnal <a href=\"/wiki/White-tailed_dunnart\" title=\"White-tailed dunnart\">white-tailed dunnart</a>. (<b><a href=\"/wiki/Banksia_grossa\" title=\"Banksia grossa\">Full article...</a></b>)\n",
       " </p>,\n",
       " <p><b><a href=\"/wiki/June_23\" title=\"June 23\">June 23</a></b>: <b><a href=\"/wiki/Grand_Duke%27s_Official_Birthday\" title=\"Grand Duke's Official Birthday\">Grand Duke's Official Birthday</a></b> in Luxembourg\n",
       " </p>,\n",
       " <p><b><a href=\"/wiki/Cardinal_electors_in_the_2005_papal_conclave\" title=\"Cardinal electors in the 2005 papal conclave\">One hundred and fifteen cardinal electors</a></b> participated in the <a href=\"/wiki/2005_papal_conclave\" title=\"2005 papal conclave\">papal conclave of 2005</a>, which was convened to elect a <a href=\"/wiki/Pope\" title=\"Pope\">pope</a> (the leader of the <a href=\"/wiki/Catholic_Church\" title=\"Catholic Church\">Catholic Church</a>) to succeed <a href=\"/wiki/Pope_John_Paul_II\" title=\"Pope John Paul II\">Pope John Paul II</a> following his death on 2 April 2005. In accordance with the <a href=\"/wiki/Apostolic_constitution\" title=\"Apostolic constitution\">apostolic constitution</a> <i><a href=\"/wiki/Universi_Dominici_gregis\" title=\"Universi Dominici gregis\">Universi Dominici gregis</a></i>, which governed the <a href=\"/wiki/Sede_vacante\" title=\"Sede vacante\">vacancy of the Holy See</a>, only <a href=\"/wiki/Cardinal_(Catholic_Church)\" title=\"Cardinal (Catholic Church)\">cardinals</a> who had not passed their 80th birthday on the day on which the <a href=\"/wiki/Holy_See\" title=\"Holy See\">Holy See</a> became vacant (in this case, cardinals who were born on or after 2 April 1925) were eligible to participate in the <a href=\"/wiki/Papal_conclave\" title=\"Papal conclave\">conclave</a>. Of the 115 attending cardinal electors, 5 were <a href=\"/wiki/Cardinal_(Catholic_Church)#Cardinal_bishops\" title=\"Cardinal (Catholic Church)\">cardinal bishops</a>, 93 were <a href=\"/wiki/Cardinal_(Catholic_Church)#Cardinal_priests\" title=\"Cardinal (Catholic Church)\">cardinal priests</a>, and 17 were <a href=\"/wiki/Cardinal_(Catholic_Church)#Cardinal_deacons\" title=\"Cardinal (Catholic Church)\">cardinal deacons</a>; 2 had been created cardinals by <a href=\"/wiki/Pope_Paul_VI\" title=\"Pope Paul VI\">Pope Paul VI</a> and 113 by Pope John Paul II. On 19 April, after four ballots over two days, they elected Cardinal <a href=\"/wiki/Pope_Benedict_XVI\" title=\"Pope Benedict XVI\">Joseph Ratzinger</a> <i>(pictured)</i>, Prefect of the <a href=\"/wiki/Dicastery_for_the_Doctrine_of_the_Faith\" title=\"Dicastery for the Doctrine of the Faith\">Congregation for the Doctrine of the Faith</a>, who took the <a href=\"/wiki/Papal_name\" title=\"Papal name\">papal name</a> Benedict XVI. (<b><a href=\"/wiki/Cardinal_electors_in_the_2005_papal_conclave\" title=\"Cardinal electors in the 2005 papal conclave\">Full list...</a></b>)\n",
       " </p>,\n",
       " <p><b><a href=\"/wiki/Cerussite\" title=\"Cerussite\">Cerussite</a></b> is a <a href=\"/wiki/Mineral\" title=\"Mineral\">mineral</a> consisting of <a href=\"/wiki/Lead_carbonate\" title=\"Lead carbonate\">lead carbonate</a> (PbCO<sub>3</sub>), and is an important <a href=\"/wiki/Ore\" title=\"Ore\">ore</a> of lead. The name is from the Latin <span title=\"Latin-language text\"><i lang=\"la\">cerussa</i></span>, <a href=\"/wiki/White_lead\" title=\"White lead\">white lead</a>. <i>Cerussa nativa</i> was mentioned by <a href=\"/wiki/Conrad_Gessner\" title=\"Conrad Gessner\">Conrad Gessner</a> in 1565, and in 1832 <a href=\"/wiki/Fran%C3%A7ois_Sulpice_Beudant\" title=\"François Sulpice Beudant\">François Sulpice Beudant</a> applied the name <span title=\"French-language text\"><i lang=\"fr\">céruse</i></span> to the mineral, while the present form, <i>cerussite</i>, is due to <a href=\"/wiki/Wilhelm_Karl_Ritter_von_Haidinger\" title=\"Wilhelm Karl Ritter von Haidinger\">Wilhelm Karl Ritter von Haidinger</a> in 1845. Miners' names for cerussite in early use were lead-spar and white-lead-ore. In a <a href=\"/wiki/Hydrate\" title=\"Hydrate\">hydrate</a> form known as white lead, the mineral is a key ingredient in <a href=\"/wiki/Lead_paint\" title=\"Lead paint\">lead paints</a> and has also been used in cosmetics, but both uses are now discontinued in many places as a result of <a href=\"/wiki/Lead_poisoning\" title=\"Lead poisoning\">lead poisoning</a>. These cerussite crystals, measuring approximately 4.0 cm × 3.0 cm × 2.0 cm (1.57 in × 1.18 in × 0.79 in), were found in a mine in <a href=\"/wiki/Madan-e_Nakhlak\" title=\"Madan-e Nakhlak\">Madan-e Nakhlak</a>, Iran.\n",
       " </p>,\n",
       " <p style=\"text-align:center;\"><small>Photograph credit: <a class=\"extiw\" href=\"https://commons.wikimedia.org/wiki/User:Iifar\" title=\"commons:User:Iifar\">Ivar Leidus</a></small></p>,\n",
       " <p>Wikipedia is written by volunteer editors and hosted by the <a href=\"/wiki/Wikimedia_Foundation\" title=\"Wikimedia Foundation\">Wikimedia Foundation</a>, a non-profit organization that also hosts a range of other volunteer <a class=\"extiw\" href=\"https://wikimediafoundation.org/our-work/wikimedia-projects/\" title=\"foundationsite:our-work/wikimedia-projects/\">projects</a>:\n",
       " </p>,\n",
       " <p>This Wikipedia is written in <a href=\"/wiki/English_language\" title=\"English language\">English</a>. Many <a class=\"extiw\" href=\"https://meta.wikimedia.org/wiki/List_of_Wikipedias\" title=\"meta:List of Wikipedias\">other Wikipedias are available</a>; some of the largest are listed below.\n",
       " </p>]"
      ]
     },
     "execution_count": 179,
     "metadata": {},
     "output_type": "execute_result"
    }
   ],
   "source": [
    "# 1. search for all tags of the type p\n",
    "paragraphs_list = soup.find_all(name = \"p\")\n",
    "paragraphs_list"
   ]
  },
  {
   "cell_type": "code",
   "execution_count": 180,
   "metadata": {
    "colab": {
     "base_uri": "https://localhost:8080/"
    },
    "id": "X-uuvbTPFm8r",
    "outputId": "70173acc-59ac-48e6-cf6d-460c6b8dc0dc"
   },
   "outputs": [
    {
     "data": {
      "text/plain": [
       "<p><i><b><a href=\"/wiki/Banksia_grossa\" title=\"Banksia grossa\">Banksia grossa</a></b></i> is a shrub in the plant family <a href=\"/wiki/Proteaceae\" title=\"Proteaceae\">Proteaceae</a> endemic to <a href=\"/wiki/Southwest_Australia\" title=\"Southwest Australia\">Southwest Australia</a>. It is one of fourteen species of <a href=\"/wiki/Banksia\" title=\"Banksia\">banksia</a> in the series <i><a href=\"/wiki/Banksia_ser._Abietinae\" title=\"Banksia ser. Abietinae\">Abietinae</a></i>, which bear round or oval <a href=\"/wiki/Inflorescence\" title=\"Inflorescence\">inflorescences</a>. Collected in 1965, it was <a href=\"/wiki/Species_description\" title=\"Species description\">described</a> in 1981 by <a href=\"/wiki/Alex_George_(botanist)\" title=\"Alex George (botanist)\">Alex George</a>. Its thick leaves and large seeds distinguish it from other <i>Abietinae</i> species. It is found among heath between <a href=\"/wiki/Eneabba,_Western_Australia\" title=\"Eneabba, Western Australia\">Eneabba</a> and <a href=\"/wiki/Badgingarra,_Western_Australia\" title=\"Badgingarra, Western Australia\">Badgingarra</a>, in shallow sand over <a href=\"/wiki/Laterite\" title=\"Laterite\">laterite</a> or in deep sand. It grows as a many-stemmed shrub to 1 m (3 ft) high with narrow leaves and oval brownish flower spikes up to 10 cm (4 in) high, composed of hundreds of individual flowers. Flowering occurs throughout the cooler months. Old flower spikes develop woody <a href=\"/wiki/Follicle_(fruit)\" title=\"Follicle (fruit)\">follicles</a> which bear the seeds. The plant takes five to seven years to reach maturity and begin flowering. After bushfire, <i>B. grossa</i> regenerates from its woody <a href=\"/wiki/Lignotuber\" title=\"Lignotuber\">lignotuber</a>; bushfires also stimulate the release of seeds, which germinate after <a href=\"/wiki/Disturbance_(ecology)\" title=\"Disturbance (ecology)\">disturbance</a>. Visitors to inflorescences include insects and the nocturnal <a href=\"/wiki/White-tailed_dunnart\" title=\"White-tailed dunnart\">white-tailed dunnart</a>. (<b><a href=\"/wiki/Banksia_grossa\" title=\"Banksia grossa\">Full article...</a></b>)\n",
       "</p>"
      ]
     },
     "execution_count": 180,
     "metadata": {},
     "output_type": "execute_result"
    }
   ],
   "source": [
    "# 2. Identify the correct paragraph\n",
    "paragraph = soup.findAll(name = 'p')[0]\n",
    "paragraph"
   ]
  },
  {
   "cell_type": "code",
   "execution_count": 181,
   "metadata": {
    "colab": {
     "base_uri": "https://localhost:8080/"
    },
    "id": "4gennUjOFvL4",
    "outputId": "176b0837-73e1-4adb-a15c-56bd66b14716"
   },
   "outputs": [
    {
     "name": "stdout",
     "output_type": "stream",
     "text": [
      "/wiki/Banksia_grossa\n",
      "/wiki/Proteaceae\n",
      "/wiki/Southwest_Australia\n",
      "/wiki/Banksia\n",
      "/wiki/Banksia_ser._Abietinae\n",
      "/wiki/Inflorescence\n",
      "/wiki/Species_description\n",
      "/wiki/Alex_George_(botanist)\n",
      "/wiki/Eneabba,_Western_Australia\n",
      "/wiki/Badgingarra,_Western_Australia\n",
      "/wiki/Laterite\n",
      "/wiki/Follicle_(fruit)\n",
      "/wiki/Lignotuber\n",
      "/wiki/Disturbance_(ecology)\n",
      "/wiki/White-tailed_dunnart\n",
      "/wiki/Banksia_grossa\n",
      "\n",
      "\n"
     ]
    }
   ],
   "source": [
    "# 2. Extract URLs\n",
    "urls = [tag['href'] for tag in paragraph.findAll('a', href = True)]\n",
    "for url in urls:\n",
    "    print(url)\n",
    "\n",
    "print('\\n')"
   ]
  },
  {
   "cell_type": "markdown",
   "metadata": {
    "id": "QBDAXUGbrPb4"
   },
   "source": [
    "An HTML document is a collection of nodes with (or without) child nodes. To build the text of the article summary, we loop through all the children and concatenate the text."
   ]
  },
  {
   "cell_type": "code",
   "execution_count": 182,
   "metadata": {
    "colab": {
     "base_uri": "https://localhost:8080/"
    },
    "id": "DI3zsfYbF7Ty",
    "outputId": "8698cf38-4c44-49fb-b4c1-9e13418f52b6"
   },
   "outputs": [
    {
     "name": "stdout",
     "output_type": "stream",
     "text": [
      "Banksia grossa is a shrub in the plant family Proteaceae endemic to Southwest Australia. It is one of fourteen species of banksia in the series Abietinae, which bear round or oval inflorescences. Collected in 1965, it was described in 1981 by Alex George. Its thick leaves and large seeds distinguish it from other Abietinae species. It is found among heath between Eneabba and Badgingarra, in shallow sand over laterite or in deep sand. It grows as a many-stemmed shrub to 1 m (3 ft) high with narrow leaves and oval brownish flower spikes up to 10 cm (4 in) high, composed of hundreds of individual flowers. Flowering occurs throughout the cooler months. Old flower spikes develop woody follicles which bear the seeds. The plant takes five to seven years to reach maturity and begin flowering. After bushfire, B. grossa regenerates from its woody lignotuber; bushfires also stimulate the release of seeds, which germinate after disturbance. Visitors to inflorescences include insects and the nocturnal white-tailed dunnart. (Full article...)\n",
      "\n",
      "\n"
     ]
    }
   ],
   "source": [
    "# 3. Build the text of the article summary by looping through all the children and concatenating the text \n",
    "text = ''\n",
    "for ch in paragraph.children:\n",
    "    text = text + ch.string\n",
    "\n",
    "print(text + '\\n')"
   ]
  }
 ],
 "metadata": {
  "colab": {
   "collapsed_sections": [],
   "provenance": [],
   "toc_visible": true
  },
  "kernelspec": {
   "display_name": "Python 3 (ipykernel)",
   "language": "python",
   "name": "python3"
  },
  "language_info": {
   "codemirror_mode": {
    "name": "ipython",
    "version": 3
   },
   "file_extension": ".py",
   "mimetype": "text/x-python",
   "name": "python",
   "nbconvert_exporter": "python",
   "pygments_lexer": "ipython3",
   "version": "3.9.16"
  }
 },
 "nbformat": 4,
 "nbformat_minor": 1
}
