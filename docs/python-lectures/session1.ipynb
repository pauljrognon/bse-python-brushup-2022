{
  "cells": [
    {
      "cell_type": "markdown",
      "metadata": {
        "id": "k901S0J55TMo"
      },
      "source": [
        "# Session 1\n",
        "\n",
        "By **Paul Rognon & Miquel Torrens i Dinarès & Maxim Fedotov**\n",
        "\n",
        "*Barcelona School of Economics* –\n",
        "*Data Science Center*\n",
        "\n",
        "June 25th, 2023"
      ]
    },
    {
      "cell_type": "markdown",
      "metadata": {
        "id": "SfhOiZIJb0ha"
      },
      "source": [
        "## Getting started"
      ]
    },
    {
      "cell_type": "markdown",
      "metadata": {
        "id": "TwqrXrwqYRqT"
      },
      "source": [
        "### What is Python?\n",
        "\n",
        "Python refers to both:\n",
        "- A programming language.\n",
        "- A program (it runs on a computer). The program's purpose is to interpret the language and convert it into instructions for a computer.\n",
        "\n",
        "There are two major versions that are still circulating: 2 & 3. Python2 is slowly abandoned and we will be using Python3 for this course.\n",
        "\n",
        "Python does not have a graphical interface (GUI). One way to run it is from the terminal or Anaconda Prompt if you installed the Anaconda suite. You can submit Python language commands one by one through the terminal.\n",
        "\n",
        "Most of the time you will want to submit a series of commands (your code) and thus you will write a *script* with extension `.py`. Once you have a script, you can submit it to Python. You can write a script with any basic text editor. However it is more convenient to use an IDE (integrated development environment) such as Visual Studio code, PyCharm,... For example you could write the following script:\n",
        "\n",
        "```\n",
        "message = 'Hello World!'\n",
        "print(message)\n",
        "```"
      ]
    },
    {
      "cell_type": "markdown",
      "metadata": {
        "id": "ViYtBkazYRqU"
      },
      "source": [
        "As an alternative to scripts, one can write commands in a notebook. In class, we will be working in Google Colab to run `.ipynb`notebooks. See the Technical requirements and an introduction to `.ipynb` notebooks document for more information on notebooks and Google Colab.\n",
        "\n",
        "To start Google Colab, go to https://colab.research.google.com/. Download the session notebook, `session1.ipynb`. To upload `session1.ipynb` to Colab click Upload in the top right corner of the opening page."
      ]
    },
    {
      "cell_type": "markdown",
      "metadata": {
        "id": "65f77e99"
      },
      "source": [
        "## Variables\n",
        "\n",
        "A variable in Python has a *name* and points to an associated *memory cell* where some *value* is stored. To define a variable, we assign a value (or more generally an expression) to a chosen name by using a binary operator `=`. That is, the construction is: `name = expression`. The name of a variable is also called an *identifier*.\n",
        "\n",
        "For example, if we want to compute the area of a rectangle with length 3 and width 5, we will create two variables with those values."
      ]
    },
    {
      "cell_type": "code",
      "execution_count": null,
      "metadata": {
        "id": "cf7d5967"
      },
      "outputs": [],
      "source": [
        "length = 3\n",
        "width = 5.0"
      ]
    },
    {
      "cell_type": "markdown",
      "metadata": {
        "id": "1c959f3a"
      },
      "source": [
        "Note, that it is possible to *overwrite* a variable, i.e. replace a value that is assigned to a specific name.  "
      ]
    },
    {
      "cell_type": "code",
      "execution_count": null,
      "metadata": {
        "id": "9fb9819c"
      },
      "outputs": [],
      "source": [
        "length = 6  # note that it could be also a value of a different type, Python is flexible in this sense."
      ]
    },
    {
      "cell_type": "markdown",
      "metadata": {
        "id": "3dLj31j6YRqW"
      },
      "source": [
        "This is handy but whatch out! You may not realize you're overwriting a variable!"
      ]
    },
    {
      "cell_type": "markdown",
      "metadata": {
        "id": "cX0AzCRYb9Aq"
      },
      "source": [
        "### Printing"
      ]
    },
    {
      "cell_type": "markdown",
      "metadata": {
        "id": "2PnO6gPab_gH"
      },
      "source": [
        "It can be useful to *print* what we are running on the console, this can be done with the built-in `print` command."
      ]
    },
    {
      "cell_type": "code",
      "execution_count": null,
      "metadata": {
        "id": "dBUcRLjEYRqW",
        "outputId": "34439955-5303-4b17-d2a1-f06597675692"
      },
      "outputs": [
        {
          "name": "stdout",
          "output_type": "stream",
          "text": [
            "7.5\n"
          ]
        }
      ],
      "source": [
        "x = 15 / 2\n",
        "print(x)"
      ]
    },
    {
      "cell_type": "markdown",
      "metadata": {
        "id": "kQMSHvAgYRqX"
      },
      "source": [
        "Note that Colab notebooks automatically displays the value of the last expression in the last line of a cell when you execute it, so you don't need to print that."
      ]
    },
    {
      "cell_type": "code",
      "execution_count": null,
      "metadata": {
        "id": "nzmdnryPYRqX",
        "outputId": "4e66f503-2329-4ffe-df12-176e2d28ee30"
      },
      "outputs": [
        {
          "data": {
            "text/plain": [
              "15"
            ]
          },
          "execution_count": 10,
          "metadata": {},
          "output_type": "execute_result"
        }
      ],
      "source": [
        "# Colab automatically prints \"x\" to \"out\" because it is the output of the last line\n",
        "x = 15\n",
        "x"
      ]
    },
    {
      "cell_type": "code",
      "execution_count": null,
      "metadata": {
        "colab": {
          "base_uri": "https://localhost:8080/"
        },
        "id": "d_9s6Bf8cpc3",
        "outputId": "00f2212d-ad1b-40c1-8a45-9bcae7f5b308"
      },
      "outputs": [
        {
          "data": {
            "text/plain": [
              "25"
            ]
          },
          "execution_count": 11,
          "metadata": {},
          "output_type": "execute_result"
        }
      ],
      "source": [
        "# Here Colab does not print \"x\", since we are not calling \"x\" on the last line\n",
        "x = 15\n",
        "x\n",
        "y = 25\n",
        "y"
      ]
    },
    {
      "cell_type": "code",
      "execution_count": null,
      "metadata": {
        "id": "ouzeqqOwYRqY",
        "outputId": "17686c1f-ec1a-451f-cf2e-f723700c1587"
      },
      "outputs": [
        {
          "name": "stdout",
          "output_type": "stream",
          "text": [
            "15\n"
          ]
        },
        {
          "data": {
            "text/plain": [
              "25"
            ]
          },
          "execution_count": 12,
          "metadata": {},
          "output_type": "execute_result"
        }
      ],
      "source": [
        "# We need to write \"print(x)\" if we want to see it\n",
        "x = 15\n",
        "print(x)\n",
        "y = 25\n",
        "y"
      ]
    },
    {
      "cell_type": "markdown",
      "metadata": {
        "id": "Ah1fuT_MYRqY"
      },
      "source": [
        "Create variables 'z' and 'zz' that take values 9 and 6, print both of them."
      ]
    },
    {
      "cell_type": "code",
      "execution_count": null,
      "metadata": {
        "id": "3Dd5MO4TYRqY"
      },
      "outputs": [],
      "source": [
        "# Your code here"
      ]
    },
    {
      "cell_type": "markdown",
      "metadata": {
        "id": "4rSy59I3cucE"
      },
      "source": [
        "We may want to use placeholders to print text that has variable values in it. There are a number of ways to do that, one way is the following:"
      ]
    },
    {
      "cell_type": "code",
      "execution_count": null,
      "metadata": {
        "colab": {
          "base_uri": "https://localhost:8080/",
          "height": 35
        },
        "id": "8tyzuNHxc0nC",
        "outputId": "c7ecdf73-0069-4ada-e754-30820fce494c"
      },
      "outputs": [
        {
          "data": {
            "text/plain": [
              "'15 divided by 2 is 7.50, and it is True that this is greater than 2'"
            ]
          },
          "execution_count": 14,
          "metadata": {},
          "output_type": "execute_result"
        }
      ],
      "source": [
        "a = 15\n",
        "b = 2\n",
        "c = 2\n",
        "'%i divided by %i is %.2f, and it is %s that this is greater than %i' % (a, b, a/b, (a/b) > c, c)"
      ]
    },
    {
      "cell_type": "markdown",
      "metadata": {
        "id": "mfEpL8JBdIAn"
      },
      "source": [
        "We will talk more about what these types of objects are shortly."
      ]
    },
    {
      "cell_type": "markdown",
      "metadata": {
        "id": "f77d2c23"
      },
      "source": [
        "### Naming a variable\n",
        "\n",
        "There is a convention to variable naming which is called: *snake_case*. When combining several words to form a name, those are separated with `_`. Typically, names are lower case, although it is not necessary. Note that names (or identifiers) in Python are case-sensitive. Variable names cannot start with a number."
      ]
    },
    {
      "cell_type": "markdown",
      "metadata": {
        "id": "azyLfnITYRqa"
      },
      "source": [
        "This is convention is part of **coding style**. Python development team produce a style guide:\n",
        "\n",
        "* Style guide: https://www.python.org/dev/peps/pep-0008/\n",
        "\n",
        "The main recommendations to remember are that code has to be understable by others and thus commented and that style choices should remain consistent across the code."
      ]
    },
    {
      "cell_type": "markdown",
      "metadata": {
        "id": "0lSx3E5L55l5"
      },
      "source": [
        "---\n",
        "## Data types and their operations"
      ]
    },
    {
      "cell_type": "markdown",
      "metadata": {
        "id": "7f9afa6f"
      },
      "source": [
        "*Data types* are the type of information stored in a variable.\n",
        "\n",
        "The basic *built-in* types you will deal with most of the time are:\n",
        "\n",
        "* Boolean values:\n",
        "    * <span style=\"color:green\"> bool </span> (boolean) - is a binary variable, either `True` or `False`.\n",
        "* Numeric types:\n",
        "    * <span style=\"color:green\"> int </span> (integer)\n",
        "    * <span style=\"color:green\"> float </span> (floating-point number) - a decimal representation of a real number.\n",
        "* Text sequence type: <span style=\"color:green\"> str </span> (string)\n",
        "* The null object type: <span style=\"color:green\"> None </span>\n",
        "\n",
        "See more about *built-in* types [here](https://docs.python.org/3/library/stdtypes.html#)"
      ]
    },
    {
      "cell_type": "code",
      "execution_count": null,
      "metadata": {
        "id": "fea47fa0"
      },
      "outputs": [],
      "source": [
        "my_boolean = True\n",
        "\n",
        "my_integer = 10\n",
        "my_float = 5.\n",
        "\n",
        "my_string = \"hey there\"  # You can also use single-quotes \"'\".\n",
        "\n",
        "my_no_value_object = None"
      ]
    },
    {
      "cell_type": "markdown",
      "metadata": {
        "id": "593686f1"
      },
      "source": [
        "You can find out a type of a variable with the function `type(...)`."
      ]
    },
    {
      "cell_type": "code",
      "execution_count": null,
      "metadata": {
        "colab": {
          "base_uri": "https://localhost:8080/"
        },
        "id": "65a76f03",
        "outputId": "628c1fbc-0b47-4a1a-a80b-61fba7fe9e79"
      },
      "outputs": [
        {
          "data": {
            "text/plain": [
              "int"
            ]
          },
          "execution_count": 16,
          "metadata": {},
          "output_type": "execute_result"
        }
      ],
      "source": [
        "type(length)"
      ]
    },
    {
      "cell_type": "markdown",
      "metadata": {
        "id": "L3LxvHCo8Y_y"
      },
      "source": [
        "Here we highlight the most important native operations you can apply to basic objects in `python`."
      ]
    },
    {
      "cell_type": "markdown",
      "metadata": {
        "id": "ALmxGUmT7zfK"
      },
      "source": [
        "### Numerical values"
      ]
    },
    {
      "cell_type": "code",
      "execution_count": null,
      "metadata": {
        "id": "QGPKp_wz73SK"
      },
      "outputs": [],
      "source": [
        "# Assignment\n",
        "a = 10  # 10\n",
        "\n",
        "# Increment/Decrement\n",
        "a += 1  # 11 (a = a + 1)\n",
        "a -= 1  # 10 (a = a - 1)\n",
        "\n",
        "# Operations\n",
        "b = a + 1  # 11\n",
        "c = a - 1  # 9\n",
        "\n",
        "d = a * 2  # 20\n",
        "e = a / 2  # 5\n",
        "f = a % 3  # 1 (remainder)\n",
        "g = a ** 2  # 100 (exponentiation)\n",
        "\n",
        "# Operations with two variables\n",
        "d = a + b  # 21"
      ]
    },
    {
      "cell_type": "markdown",
      "metadata": {
        "id": "PIAmentK-wVe"
      },
      "source": [
        "### String values"
      ]
    },
    {
      "cell_type": "markdown",
      "metadata": {
        "id": "OS9btwsK3iz8"
      },
      "source": [
        "You can concatenate strings together with the `+` operator:"
      ]
    },
    {
      "cell_type": "code",
      "execution_count": null,
      "metadata": {
        "colab": {
          "base_uri": "https://localhost:8080/",
          "height": 35
        },
        "id": "-Mre_VMc3lDA",
        "outputId": "3806a7ed-346c-4158-9107-5f2de0d75b83"
      },
      "outputs": [
        {
          "data": {
            "text/plain": [
              "'Adding strings is pasting'"
            ]
          },
          "execution_count": 18,
          "metadata": {},
          "output_type": "execute_result"
        }
      ],
      "source": [
        "\"Adding\" + \" \" + \"strings\" + \" \" + \"is\" + \" \" + \"pasting\""
      ]
    },
    {
      "cell_type": "markdown",
      "metadata": {
        "id": "cb2NEoPi_bF5"
      },
      "source": [
        "The built-in function `len` returns the number of characters in a string:"
      ]
    },
    {
      "cell_type": "code",
      "execution_count": null,
      "metadata": {
        "colab": {
          "base_uri": "https://localhost:8080/"
        },
        "id": "fw50LqOB_n7i",
        "outputId": "2f904be3-36e0-4811-a3ce-44d32fd311dc"
      },
      "outputs": [
        {
          "data": {
            "text/plain": [
              "4"
            ]
          },
          "execution_count": 19,
          "metadata": {},
          "output_type": "execute_result"
        }
      ],
      "source": [
        "len(\"four\")"
      ]
    },
    {
      "cell_type": "markdown",
      "metadata": {
        "id": "ttKbVcsS__75"
      },
      "source": [
        "### Logical or boolean values"
      ]
    },
    {
      "cell_type": "markdown",
      "metadata": {
        "id": "Ack7Ie9hADu1"
      },
      "source": [
        "We can evaluate the relationships between different types of data in `python`. The output of such comparisons/operations are boolean variables. Some examples:"
      ]
    },
    {
      "cell_type": "code",
      "execution_count": null,
      "metadata": {
        "colab": {
          "base_uri": "https://localhost:8080/"
        },
        "id": "R7yoaWRxAR75",
        "outputId": "7a17b15d-236c-426f-bf36-839e9832f870"
      },
      "outputs": [
        {
          "name": "stdout",
          "output_type": "stream",
          "text": [
            "True\n",
            "False\n",
            "True\n"
          ]
        }
      ],
      "source": [
        "# Comparing numbers\n",
        "# Parentheses are not required, but they help readability\n",
        "x = (1 >= 2)  # greater or equal? False\n",
        "y = (1 == 2)  # equal? False\n",
        "w = (1 != 2)  # different? True\n",
        "\n",
        "# Comparing strings\n",
        "a = 'mystring'\n",
        "b = (a == 'myotherstring') # equal? False\n",
        "\n",
        "# Combining boolean values\n",
        "# Parentheses are not required, but they help readability\n",
        "x = (1 <= 2) and (1 > 0)  # both statements are true so 'x' is True\n",
        "y = (1 >  2) or  (1 < 3)  # at least one statement is true so 'y' is True\n",
        "\n",
        "# It is good practice to use \"is\" instead of == for checking for NoneType and booleans:\n",
        "x = None\n",
        "y = x is None\n",
        "z = x is not None\n",
        "zz = b is False\n",
        "print(y)\n",
        "print(z)\n",
        "print(zz)"
      ]
    },
    {
      "cell_type": "markdown",
      "metadata": {
        "id": "b3ba3fd6"
      },
      "source": [
        "### Type conversion\n",
        "There are functions that convert a variable to another type. It works only if the provided variable is convertible to the target type. The functions that are used for explicit type conversion are the same as type names."
      ]
    },
    {
      "cell_type": "code",
      "execution_count": null,
      "metadata": {
        "id": "296e9142"
      },
      "outputs": [],
      "source": [
        "initial_integer = 5\n",
        "integer_to_float = float(initial_integer) # returns a float\n",
        "float_to_string = str(integer_to_float) # returns a string\n",
        "string_to_float = float(float_to_string) # returns float\n",
        "float_to_integer = int(string_to_float) # returns an int"
      ]
    },
    {
      "cell_type": "markdown",
      "metadata": {
        "id": "a8466d2a"
      },
      "source": [
        "Can you convert `float_to_string` to integer?"
      ]
    },
    {
      "cell_type": "code",
      "execution_count": null,
      "metadata": {
        "id": "e92e6bc9"
      },
      "outputs": [],
      "source": [
        "# try here\n"
      ]
    },
    {
      "cell_type": "markdown",
      "metadata": {
        "id": "eea40b46"
      },
      "source": [
        "There is also an *implicit type conversion* in Python. There are several numeric examples:\n",
        "* the result of an operation between a float and an integer is a float,\n",
        "* Boolean values `True` and `False` in numerical expressions are implicitly converted to 1 and 0 respectively."
      ]
    },
    {
      "cell_type": "code",
      "execution_count": null,
      "metadata": {
        "colab": {
          "base_uri": "https://localhost:8080/"
        },
        "id": "11cb72cd",
        "outputId": "e3f52db4-3ab1-4d8e-e0df-c5e844b781b9"
      },
      "outputs": [
        {
          "name": "stdout",
          "output_type": "stream",
          "text": [
            "<class 'float'>\n",
            "<class 'float'>\n",
            "5\n"
          ]
        }
      ],
      "source": [
        "print(type(4.1 + 5))\n",
        "print(type(5 // 2.5))\n",
        "print(True * 5 + False * -1)"
      ]
    },
    {
      "cell_type": "markdown",
      "metadata": {
        "id": "6qtDiIWhf0m5"
      },
      "source": [
        "## Some basic data structures"
      ]
    },
    {
      "cell_type": "markdown",
      "metadata": {
        "id": "9VZQs9magIOD"
      },
      "source": [
        "Data structures contain ordered collection of objects. They have some *methods* associated to them."
      ]
    },
    {
      "cell_type": "markdown",
      "metadata": {
        "id": "efHt1_g-BJ4i"
      },
      "source": [
        "### Lists"
      ]
    },
    {
      "cell_type": "markdown",
      "metadata": {
        "id": "R6jA6M0NBMYH"
      },
      "source": [
        "Lists are one of the simplest multi-value objects. They are created with square brackets:"
      ]
    },
    {
      "cell_type": "code",
      "execution_count": null,
      "metadata": {
        "id": "4pt3sqnIBXgC"
      },
      "outputs": [],
      "source": [
        "a_list = [\"This\", \"is\", \"a\", \"list\", \"of\", \"strings\"]"
      ]
    },
    {
      "cell_type": "markdown",
      "metadata": {
        "id": "uNq8FYyJBZ0Y"
      },
      "source": [
        "Above we created a list of strings. We can also create a list of integers:"
      ]
    },
    {
      "cell_type": "code",
      "execution_count": null,
      "metadata": {
        "id": "64GEKJqlBcGu"
      },
      "outputs": [],
      "source": [
        "num_list = [1, 5, 10]"
      ]
    },
    {
      "cell_type": "markdown",
      "metadata": {
        "id": "CLB9pIonBdy4"
      },
      "source": [
        "Lists in `python` need not be homogenous, you can mix object types:"
      ]
    },
    {
      "cell_type": "code",
      "execution_count": null,
      "metadata": {
        "id": "urM7nYg7BrLa"
      },
      "outputs": [],
      "source": [
        "mix_list = ['a', 'b', 1, 2, 3, True, None]"
      ]
    },
    {
      "cell_type": "markdown",
      "metadata": {
        "id": "XwN-26sZDUyR"
      },
      "source": [
        "Sometimes you want to access individual elements from a list. You can do this using square brackets together with the index of the element:"
      ]
    },
    {
      "cell_type": "code",
      "execution_count": null,
      "metadata": {
        "colab": {
          "base_uri": "https://localhost:8080/",
          "height": 35
        },
        "id": "WHBHYzX0DfWz",
        "outputId": "828bc417-53df-492e-863b-0e18f125743b"
      },
      "outputs": [
        {
          "data": {
            "text/plain": [
              "'a'"
            ]
          },
          "execution_count": 27,
          "metadata": {},
          "output_type": "execute_result"
        }
      ],
      "source": [
        "mix_list[0]  # first element"
      ]
    },
    {
      "cell_type": "markdown",
      "metadata": {
        "id": "QpGdZZykDiGH"
      },
      "source": [
        "Notice that the first element is indexed at `0`, the second element at `1`, and so on. You can also access a contiguous range of elements:"
      ]
    },
    {
      "cell_type": "code",
      "execution_count": null,
      "metadata": {
        "colab": {
          "base_uri": "https://localhost:8080/"
        },
        "id": "Tyr2SuVDD8Kz",
        "outputId": "9b59e6bf-ef0c-4abf-8874-257cdbb43e4f"
      },
      "outputs": [
        {
          "data": {
            "text/plain": [
              "['b', 1]"
            ]
          },
          "execution_count": 28,
          "metadata": {},
          "output_type": "execute_result"
        }
      ],
      "source": [
        "mix_list[1:3]  # second item (index 1) and third item (index 2) only!"
      ]
    },
    {
      "cell_type": "markdown",
      "metadata": {
        "id": "K2p5_rBdD8d_"
      },
      "source": [
        "You can also use negative indices to access items from the end. For example, the last item:"
      ]
    },
    {
      "cell_type": "code",
      "execution_count": null,
      "metadata": {
        "colab": {
          "base_uri": "https://localhost:8080/"
        },
        "id": "TWy7MJxgElK6",
        "outputId": "5f3610db-d99c-40a7-a86f-838e96f9fe6b"
      },
      "outputs": [
        {
          "name": "stdout",
          "output_type": "stream",
          "text": [
            "10\n",
            "5\n"
          ]
        }
      ],
      "source": [
        "print(num_list[-1])\n",
        "print(num_list[-2])"
      ]
    },
    {
      "cell_type": "markdown",
      "metadata": {
        "id": "jHjQuz1tEmqY"
      },
      "source": [
        "You can concatenate multiple lists together with the operator `+`:"
      ]
    },
    {
      "cell_type": "code",
      "execution_count": null,
      "metadata": {
        "colab": {
          "base_uri": "https://localhost:8080/"
        },
        "id": "He1EJxmEEqQB",
        "outputId": "99fdc9c2-8d5c-454e-a3e2-642157214dae"
      },
      "outputs": [
        {
          "data": {
            "text/plain": [
              "[1, 5, 10, 40, 50, 60]"
            ]
          },
          "execution_count": 30,
          "metadata": {},
          "output_type": "execute_result"
        }
      ],
      "source": [
        "num_list + [40, 50, 60]"
      ]
    },
    {
      "cell_type": "markdown",
      "metadata": {
        "id": "PxcdjNw8EvUK"
      },
      "source": [
        "And you can check for membership with the operator `in`:"
      ]
    },
    {
      "cell_type": "code",
      "execution_count": null,
      "metadata": {
        "colab": {
          "base_uri": "https://localhost:8080/"
        },
        "id": "ovRmqqUJEwek",
        "outputId": "e9a3da4f-36f1-413e-c9ea-6e198b448dfa"
      },
      "outputs": [
        {
          "data": {
            "text/plain": [
              "True"
            ]
          },
          "execution_count": 31,
          "metadata": {},
          "output_type": "execute_result"
        }
      ],
      "source": [
        "\"abc\" in [\"abc\", \"def\", \"ghi\"]"
      ]
    },
    {
      "cell_type": "markdown",
      "metadata": {
        "id": "_ldMyQSAhgsq"
      },
      "source": [
        "Lists are mutable. You can change values of lists by using an assignment expression of the following form:  \n",
        "`list_identifier[index or slice] = new_value`"
      ]
    },
    {
      "cell_type": "code",
      "execution_count": null,
      "metadata": {
        "id": "THFwmyzAheJ8"
      },
      "outputs": [],
      "source": [
        "# Change the first element of num_list to 0.180\n",
        "\n",
        "\n",
        "# Change any of the entries of mix_list\n"
      ]
    },
    {
      "cell_type": "markdown",
      "metadata": {
        "id": "9SP3Ha2dja_w"
      },
      "source": [
        "Two methods for a list are `append` and `pop` to add and remove an element to a list."
      ]
    },
    {
      "cell_type": "code",
      "execution_count": null,
      "metadata": {
        "colab": {
          "base_uri": "https://localhost:8080/"
        },
        "id": "QBy5uowkjZqP",
        "outputId": "bb21f120-b1bd-4a24-a25a-78d60cecb87f"
      },
      "outputs": [
        {
          "name": "stdout",
          "output_type": "stream",
          "text": [
            "['Bob', 'Janine', 'John', 'Anastasia', 'Alice']\n"
          ]
        },
        {
          "data": {
            "text/plain": [
              "['Janine', 'John', 'Anastasia', 'Alice']"
            ]
          },
          "execution_count": 33,
          "metadata": {},
          "output_type": "execute_result"
        }
      ],
      "source": [
        "queue = [\"Bob\", \"Janine\", \"John\", \"Anastasia\"]\n",
        "queue.append(\"Alice\")\n",
        "print(queue)\n",
        "queue.pop(0)\n",
        "queue"
      ]
    },
    {
      "cell_type": "markdown",
      "metadata": {
        "id": "Z2E16wDvFeIZ"
      },
      "source": [
        "### Tuples"
      ]
    },
    {
      "cell_type": "markdown",
      "metadata": {
        "id": "osObGrVNFfyg"
      },
      "source": [
        "Tuples are created with parenthesis:"
      ]
    },
    {
      "cell_type": "code",
      "execution_count": null,
      "metadata": {
        "id": "fZ4nb17kJHJ5"
      },
      "outputs": [],
      "source": [
        "x = (\"foo\", 1)"
      ]
    },
    {
      "cell_type": "markdown",
      "metadata": {
        "id": "7BlKBu2HJJi1"
      },
      "source": [
        "But can also be created without any parenthesis, implied by the comma:"
      ]
    },
    {
      "cell_type": "code",
      "execution_count": null,
      "metadata": {
        "id": "7n0qmH5tJNrg"
      },
      "outputs": [],
      "source": [
        "x = \"foo\", 1"
      ]
    },
    {
      "cell_type": "markdown",
      "metadata": {
        "id": "CQ_18SKCkeQ_"
      },
      "source": [
        "Elements in the tuple are also accessed via the index (like lists)."
      ]
    },
    {
      "cell_type": "code",
      "execution_count": null,
      "metadata": {
        "colab": {
          "base_uri": "https://localhost:8080/",
          "height": 35
        },
        "id": "9RR4J2QDkdsM",
        "outputId": "3daf679b-cab6-474b-c167-aa8fada1abb2"
      },
      "outputs": [
        {
          "data": {
            "text/plain": [
              "'foo'"
            ]
          },
          "execution_count": 36,
          "metadata": {},
          "output_type": "execute_result"
        }
      ],
      "source": [
        "x[0]"
      ]
    },
    {
      "cell_type": "markdown",
      "metadata": {
        "id": "1Jj1CqXMkQ9s"
      },
      "source": [
        "Tuples are immutable."
      ]
    },
    {
      "cell_type": "code",
      "execution_count": null,
      "metadata": {
        "colab": {
          "base_uri": "https://localhost:8080/",
          "height": 166
        },
        "id": "r7uYIXvJkPRo",
        "outputId": "88c930eb-ca55-4592-8749-a1d2f26065be"
      },
      "outputs": [
        {
          "ename": "TypeError",
          "evalue": "'tuple' object does not support item assignment",
          "output_type": "error",
          "traceback": [
            "\u001b[1;31m---------------------------------------------------------------------------\u001b[0m",
            "\u001b[1;31mTypeError\u001b[0m                                 Traceback (most recent call last)",
            "\u001b[1;32m~\\AppData\\Local\\Temp\\ipykernel_13460\\3484679438.py\u001b[0m in \u001b[0;36m<module>\u001b[1;34m\u001b[0m\n\u001b[1;32m----> 1\u001b[1;33m \u001b[0mx\u001b[0m\u001b[1;33m[\u001b[0m\u001b[1;36m0\u001b[0m\u001b[1;33m]\u001b[0m\u001b[1;33m=\u001b[0m\u001b[1;34m'foo2'\u001b[0m\u001b[1;33m\u001b[0m\u001b[1;33m\u001b[0m\u001b[0m\n\u001b[0m",
            "\u001b[1;31mTypeError\u001b[0m: 'tuple' object does not support item assignment"
          ]
        }
      ],
      "source": [
        "x[0]='foo2'"
      ]
    },
    {
      "cell_type": "markdown",
      "metadata": {
        "id": "dPP0Mc8NJVD2"
      },
      "source": [
        "Lists can be used in most of the places where tuple is used, so it can be confusing what the difference is between the two. Besides technicalities, the following rules can help you decide when to use a tuple and when to use a list:\n",
        "\n",
        "* `list`: many elements (potentially), unknown number, relatively homogenous, mutable.\n",
        "* `tuple`: few elements, fixed number, completely heterogeneous, immutable (fixed).\n",
        "\n",
        "The name comes from here: double, triple, quadruple... This hints that they should be of fixed length.  "
      ]
    },
    {
      "cell_type": "markdown",
      "metadata": {
        "id": "vQm99U05kwP7"
      },
      "source": [
        "An interesting property of tuples is destructuring:"
      ]
    },
    {
      "cell_type": "code",
      "execution_count": null,
      "metadata": {
        "id": "3GSf2ClZKZIA"
      },
      "outputs": [],
      "source": [
        "name,num = x"
      ]
    },
    {
      "cell_type": "markdown",
      "metadata": {
        "id": "b0IAsgKFKmmS"
      },
      "source": [
        "Now the variable `name` contains the value `\"foo\"` and the variable `num` contains the value `1`."
      ]
    },
    {
      "cell_type": "markdown",
      "metadata": {
        "id": "sZtLa308Kwvr"
      },
      "source": [
        "### Dictionaries"
      ]
    },
    {
      "cell_type": "markdown",
      "metadata": {
        "id": "e1q1Dtd8KzNj"
      },
      "source": [
        "Dictionaries are another basic type in `python`. They are *associative* data structures. Like a standard dictionary, Python dictionaries associate a `KEY` with a `VALUE` and are created with the `{`, `}` operators:\n"
      ]
    },
    {
      "cell_type": "code",
      "execution_count": null,
      "metadata": {
        "id": "r54_5dJqKy1J"
      },
      "outputs": [],
      "source": [
        "player = {\"name\": \"Jane\", \"score\": 10000}"
      ]
    },
    {
      "cell_type": "markdown",
      "metadata": {
        "id": "7j2xSMqZLI49"
      },
      "source": [
        "You can access the value via the *key* and set its value:"
      ]
    },
    {
      "cell_type": "code",
      "execution_count": null,
      "metadata": {
        "id": "QmrWJRGpLP-g"
      },
      "outputs": [],
      "source": [
        "print(player[\"name\"])\n",
        "player[\"name\"] = \"Jane Smith\"\n",
        "print(player[\"name\"])"
      ]
    },
    {
      "cell_type": "markdown",
      "metadata": {
        "id": "QCJ4nduwLSib"
      },
      "source": [
        "Each key can only have one value. In the above example, we have overwritten the original `\"name\"`-key with a new value."
      ]
    },
    {
      "cell_type": "markdown",
      "metadata": {
        "id": "ELEjjR0XYRqo"
      },
      "source": [
        "Create a list whose elements are of type dictionary:"
      ]
    },
    {
      "cell_type": "code",
      "execution_count": null,
      "metadata": {
        "id": "ofd6U6PlLRzw"
      },
      "outputs": [],
      "source": [
        "# Each element on the list is a player, and each player has three attributes.\n",
        "players = [{\"name\": \"John\", \"score\": 100, \"likes\": [\"R\"]},\n",
        "           {\"name\": \"Jane\", \"score\": 10000, \"likes\": [\"python\"]},\n",
        "           {\"name\": \"Stephen\", \"score\": 55, \"likes\": [\"julia\"]}]\n",
        "print(players[0])\n",
        "\n",
        "# We can fetch elements of the dictionary\n",
        "print(players[0]['name'])\n",
        "print(players[0].get('name'))"
      ]
    },
    {
      "cell_type": "markdown",
      "metadata": {
        "id": "8b2269a6"
      },
      "source": [
        "### Sets\n",
        "\n",
        "Sets store unordered collections of unique values. Sets are typically used when checking whether a value of a variable belongs to a specific set of values, or when performing set operations (like intersection, union, set difference and so on)."
      ]
    },
    {
      "cell_type": "markdown",
      "metadata": {
        "id": "d7ba708c"
      },
      "source": [
        "Examples of set operations are:"
      ]
    },
    {
      "cell_type": "code",
      "execution_count": null,
      "metadata": {
        "id": "38901819"
      },
      "outputs": [],
      "source": [
        "users_donating = [\"Foo\", \"Lu\", \"Gru\"]  # suppose that these are regularly donating users of your application\n",
        "users_active = [\"Bro\", \"Lu\", \"Gru\"]  # these are the most active users\n",
        "\n",
        "print(\"Difference:\", set(users_donating) - set(users_active))  # note that order matters\n",
        "print(\"Intersection:\", set(users_donating) & set(users_active))\n",
        "print(\"Union:\", set(users_donating) | set(users_active))\n",
        "print(\"Symmetric difference:\", set(users_donating) ^ set(users_active))"
      ]
    },
    {
      "cell_type": "markdown",
      "metadata": {
        "id": "0a92d95e"
      },
      "source": [
        "You can modify a set."
      ]
    },
    {
      "cell_type": "code",
      "execution_count": null,
      "metadata": {
        "id": "1040dc20"
      },
      "outputs": [],
      "source": [
        "names = {'Gru', 'Foo', 'Lu'}\n",
        "names.add('Bro')\n",
        "names"
      ]
    },
    {
      "cell_type": "markdown",
      "metadata": {
        "id": "ITdXvXL9MoL4"
      },
      "source": [
        "## Properties of an object: instances, attributes and methods"
      ]
    },
    {
      "cell_type": "markdown",
      "metadata": {
        "id": "sRingHOhMtrn"
      },
      "source": [
        "Objects in Python have *classes*. You can access it by using the function `type()`. For example:"
      ]
    },
    {
      "cell_type": "code",
      "execution_count": null,
      "metadata": {
        "id": "Q2kP5A3ZNpJv"
      },
      "outputs": [],
      "source": [
        "new_list = [1, 2, 3]  # Create a list\n",
        "type(new_list)"
      ]
    },
    {
      "cell_type": "markdown",
      "metadata": {
        "id": "qf0UUgfDOfih"
      },
      "source": [
        "`new_list` is an ***instance*** of the class `list`. Instances can have ***attributes***. These attributes are properties that are attached to the instance. They can also be functions defined for the instances of the class. They are accessed with dot notation."
      ]
    },
    {
      "cell_type": "markdown",
      "metadata": {
        "id": "IcPSY52iYRqq"
      },
      "source": [
        "You can create new classes:"
      ]
    },
    {
      "cell_type": "code",
      "execution_count": 5,
      "metadata": {
        "colab": {
          "base_uri": "https://localhost:8080/"
        },
        "id": "CMcA_TJeOpz5",
        "outputId": "e98cdedc-10f3-484c-d5d4-c534fb6647f7"
      },
      "outputs": [
        {
          "output_type": "stream",
          "name": "stdout",
          "text": [
            "<class '__main__.person'>\n",
            "100\n",
            "John\n",
            "100\n",
            "56\n"
          ]
        }
      ],
      "source": [
        "# I define my own class: custom types\n",
        "class person:\n",
        "    name = \"John\" # attribute 'name'\n",
        "    score = 100 # attribute 'score'\n",
        "    age = 56\n",
        "    def show(self): # function attribute 'show'\n",
        "        print(self.name)\n",
        "        print(self.score)\n",
        "        print(self.age)\n",
        "\n",
        "# Create an object of this new class\n",
        "new_person = person()\n",
        "print(type(new_person))\n",
        "print(new_person.score)\n",
        "new_person.show()"
      ]
    },
    {
      "cell_type": "markdown",
      "metadata": {
        "id": "iXGSKWVVVWnz"
      },
      "source": [
        "Here `new_obj` is an instance of the class `invented_class`, and it has attributes `name` and `score`.\n",
        "\n",
        "If the attribute happens to be a function, we call it a ***method***. Methods are functions that have a special purpose: they interact with the instance itself in some way."
      ]
    },
    {
      "cell_type": "markdown",
      "metadata": {
        "id": "qJoRcRp5VYvo"
      },
      "source": [
        "---\n",
        "## Iterables and control flow"
      ]
    },
    {
      "cell_type": "markdown",
      "metadata": {
        "id": "f_i9jP5UA-et"
      },
      "source": [
        "### Control flow\n",
        "\n",
        "Sometimes you may want to do an operation only if the object satisfies some condition. In these cases we use `if`-statement operations."
      ]
    },
    {
      "cell_type": "code",
      "execution_count": null,
      "metadata": {
        "id": "KxWCcopQZdbc"
      },
      "outputs": [],
      "source": [
        "gender = \"male\"\n",
        "age = 20\n",
        "\n",
        "# Start of if-statement\n",
        "if gender == \"female\":\n",
        "    if age > 18:\n",
        "        print(\"woman\")\n",
        "    else:\n",
        "        print(\"girl\")\n",
        "elif gender == \"male\":\n",
        "    if age > 18:\n",
        "        print(\"man\")\n",
        "    else:\n",
        "        print(\"boy\")\n",
        "else:\n",
        "    print(\"non-binary\")\n"
      ]
    },
    {
      "cell_type": "markdown",
      "metadata": {
        "id": "RxtUgU61aUb0"
      },
      "source": [
        "The structure of an `if`-statement is always the same, it is necessary to respect it, including the indentation.\n",
        "\n",
        "```\n",
        "## NOT RUN\n",
        "if BOOLEAN:  # Use: \"if\", \":\" and supply a boolean condition\n",
        "    ACTION1a  # Indent with 4 spaces\n",
        "    ACTION1b\n",
        "elif BOOLEAN:  # Second layer to \"if\" (else-if)\n",
        "    ACTION2\n",
        "else:  # Rest of scenarios (make sure all contingencies are covered)\n",
        "    ACTION3\n",
        "\n",
        "## END NOT RUN\n",
        "```\n",
        "\n",
        "Respecting indentation is mandatory."
      ]
    },
    {
      "cell_type": "markdown",
      "metadata": {
        "id": "zFU8SWjVV6H6"
      },
      "source": [
        "### Iteration over elements of an object (`for`-loops)"
      ]
    },
    {
      "cell_type": "markdown",
      "metadata": {
        "id": "9JpM-fpZWY6t"
      },
      "source": [
        "You may want to perform an operation for each element in an *iterable* object, and (possibly) store the result of such operation. We do that by *looping* over this object operating on every of its elements sequentially."
      ]
    },
    {
      "cell_type": "code",
      "execution_count": null,
      "metadata": {
        "id": "H9WZEeFbW4ib"
      },
      "outputs": [],
      "source": [
        "vector = [1, 2, 3, 4, 5, 6, 7, 8, 9, 10]\n",
        "squared = []\n",
        "for num in vector:\n",
        "    squared_num = num ** 2\n",
        "    squared = squared + [squared_num]\n",
        "\n",
        "squared"
      ]
    },
    {
      "cell_type": "markdown",
      "metadata": {
        "id": "_b9SngyoTH99"
      },
      "source": [
        "The structure of the loop is always the same and must be respected:\n",
        "\n",
        "```\n",
        "## DO NOT RUN\n",
        "for ELEMENT in EXISTING_OBJECT:  # Use \"for\", \"in\" and \":\"\n",
        "    operation_on(ELEMENT)  # Indent 4 spaces (MANDATORY)\n",
        "\n",
        "# Loop ENDS when indentation is over\n",
        "## END DO NOT RUN\n",
        "```\n",
        "\n",
        "`for`-loops are applicable to every instance of an iterable object class: `list`, `tuple`, `dictionary`."
      ]
    },
    {
      "cell_type": "markdown",
      "metadata": {
        "id": "4b4aef19"
      },
      "source": [
        "**Break and continue**\n",
        "\n",
        "There are two keywords that will help you work with for loops: `break` and `continue`.\n",
        "\n",
        "* `break` stops the loop right at the place it was reached.\n",
        "* `continue` makes the loop stop at the current iteration without executing any code further and moves to the next iteration."
      ]
    },
    {
      "cell_type": "markdown",
      "metadata": {
        "id": "7f392a68"
      },
      "source": [
        "Suppose there a drink that bears 370 kilocalories per liter and that you want to compute the number of calories for portions of the drink that are positive only. In addition, you do not want to calculate calories for portions greater that 330 ml. You could use the following construction:"
      ]
    },
    {
      "cell_type": "code",
      "execution_count": null,
      "metadata": {
        "id": "8d4e5af5"
      },
      "outputs": [],
      "source": [
        "kilocalories_drink = 370\n",
        "typical_cup_volumes = [0, 0.18, 0.33, 0.5, 1]\n",
        "\n",
        "kilocalories_portions = []\n",
        "\n",
        "for volume in typical_cup_volumes:\n",
        "    if 0 < volume <= 0.33:\n",
        "        calories = volume * kilocalories_drink\n",
        "        kilocalories_portions.append(calories)\n",
        "        print(f\"There are {calories:.1f} calories in {volume * 1000:n} ml. of the drink\")\n",
        "    elif volume > 0.33:\n",
        "        break\n",
        "    else:\n",
        "        continue"
      ]
    },
    {
      "cell_type": "markdown",
      "metadata": {
        "id": "bY1ElGnIUUkc"
      },
      "source": [
        "### Map, reduce and filter operations on lists"
      ]
    },
    {
      "cell_type": "markdown",
      "metadata": {
        "id": "k47nhIzZUbM0"
      },
      "source": [
        "There are three main operations we perform on a list:\n",
        "1. *reduce* operation: we retrieve some useful information (e.g. some statistic) from a list, i.e. we reduce it to one particular number\n",
        "2. *map* operation: we apply a function to each element\n",
        "3. *filter* operation: we select elements\n",
        "\n",
        "We illustrate these with some examples."
      ]
    },
    {
      "cell_type": "code",
      "execution_count": null,
      "metadata": {
        "id": "Bp6suLZTUw6h"
      },
      "outputs": [],
      "source": [
        "# 1. REDUCE\n",
        "# Summing the numbers in a list:\n",
        "nums = [30, 1, 4, 3, 10.5, 100]\n",
        "total = 0\n",
        "for num in nums:\n",
        "    total += num\n",
        "\n",
        "print(total)"
      ]
    },
    {
      "cell_type": "code",
      "execution_count": null,
      "metadata": {
        "id": "Gkii4ZxdTYM5"
      },
      "outputs": [],
      "source": [
        "# 2. MAP\n",
        "# Squaring each number in a list\n",
        "nums = [30, 1, 4, 3, 10.5, 100]\n",
        "\n",
        "# This is called a \"list comprehension\"\n",
        "# and is the python way to apply a function to\n",
        "# every element in a list\n",
        "squared_nums = [num ** 2 for num in nums]\n",
        "squared_nums"
      ]
    },
    {
      "cell_type": "code",
      "execution_count": null,
      "metadata": {
        "id": "OVhIbOMATZg_"
      },
      "outputs": [],
      "source": [
        "# 3. FILTER\n",
        "# Remove all values less than 18:\n",
        "ages = [0, 3, 21, 45, 10, 97]\n",
        "adults = [a for a in ages if a > 17]\n",
        "adults"
      ]
    },
    {
      "cell_type": "markdown",
      "metadata": {
        "id": "Weux1hPQYqfB"
      },
      "source": [
        "---\n",
        "## Input/output\n",
        "\n",
        "Python treats external files as any other regular data type, and so they have attributes. There are two actions to perform on these files, read and write."
      ]
    },
    {
      "cell_type": "markdown",
      "metadata": {
        "id": "0dvCPbeMIG52"
      },
      "source": [
        "The built-in function `open` creates a Python file object, which serves as a link to a file residing on your machine. After calling `open`, calling methods of the file object let you transfer data to and from the external file.\n",
        "\n",
        "Then, `with` is a file context manager. It allows us to wrap file-processing code in a logic layer that ensures that the file will be closed automatically on exit."
      ]
    },
    {
      "cell_type": "markdown",
      "metadata": {
        "id": "wIGMfk2uxI0F"
      },
      "source": [
        "### Reading and writing files from/to your computer\n",
        "On your computer, open the Notepad and create a `.txt` file with at least two lines of text and name it `simple_example.txt`."
      ]
    },
    {
      "cell_type": "markdown",
      "metadata": {
        "id": "mEoKcXkDx9av"
      },
      "source": [
        "**On Google Colab**  \n",
        "Click on the folder icon on the right. Go to `sample data` parent folder `content`. Click on the three points that appear on the right of `content` when you put the mouse on it. Upload `simple_example.txt`."
      ]
    },
    {
      "cell_type": "code",
      "execution_count": null,
      "metadata": {
        "id": "S6py-6J4x8Jm"
      },
      "outputs": [],
      "source": [
        "# Let's read the file into a variable:\n",
        "with open('simple_example.txt') as file:\n",
        "    content = file.read()\n",
        "\n",
        "print(content)"
      ]
    },
    {
      "cell_type": "code",
      "execution_count": null,
      "metadata": {
        "id": "T7BopFeKx8Jn"
      },
      "outputs": [],
      "source": [
        "# The file object is actually an iterator, so we can do our usual tricks:\n",
        "with open('simple_example.txt') as file:\n",
        "    for line in file:\n",
        "        print(line)"
      ]
    },
    {
      "cell_type": "code",
      "execution_count": null,
      "metadata": {
        "id": "xKJYBTAFx8Jo"
      },
      "outputs": [],
      "source": [
        "# We can also read the file into a list by converting\n",
        "# the iterator into a list directly:\n",
        "with open('simple_example.txt') as f:\n",
        "    content = list(f)\n",
        "\n",
        "content[0]"
      ]
    },
    {
      "cell_type": "markdown",
      "metadata": {
        "id": "dcFYnsZ-zub0"
      },
      "source": [
        "Similarly, you can write data into the external file by using `file.write()`."
      ]
    },
    {
      "cell_type": "code",
      "execution_count": null,
      "metadata": {
        "id": "FlrCm1r1zub1"
      },
      "outputs": [],
      "source": [
        "# 'r' is to read, 'w' to write:\n",
        "with open('simple_example.txt', 'r') as file_in, open('simple_example2.txt', 'w') as file_out:\n",
        "    for line in file_in:\n",
        "        file_out.write(line)\n"
      ]
    },
    {
      "cell_type": "markdown",
      "metadata": {
        "id": "pjrUl897xXQV"
      },
      "source": [
        "**On Jupyter Notebook:**  \n",
        "**NOTE:** Don't run the following code on Google Colab (it will not work), try to run it in Jupyter Notebook on your computer using a path to a local file."
      ]
    },
    {
      "cell_type": "code",
      "execution_count": null,
      "metadata": {
        "id": "5PMUxKjeCx9F"
      },
      "outputs": [],
      "source": [
        "# We need to change the working directory\n",
        "import os\n",
        "os.chdir('path_to_your_directory')  # os.chdir set the current working directory to the directory of your choice\n",
        "\n",
        "# Let's read the file into a variable:\n",
        "with open('simple_example.txt') as file:\n",
        "    content = file.read()\n",
        "\n",
        "print(content)"
      ]
    },
    {
      "cell_type": "code",
      "execution_count": null,
      "metadata": {
        "id": "FNKuMqEIEfqa"
      },
      "outputs": [],
      "source": [
        "# The file object is actually an iterator, so we can do our usual tricks:\n",
        "with open('simple_example.txt') as file:\n",
        "    for line in file:\n",
        "        print(line)"
      ]
    },
    {
      "cell_type": "code",
      "execution_count": null,
      "metadata": {
        "id": "VbY8GoQPFFA3"
      },
      "outputs": [],
      "source": [
        "# We can also read it into a list by converting\n",
        "# the iterator into a list directly:\n",
        "with open('simple_example.txt') as f:\n",
        "    content = list(f)\n",
        "\n",
        "content[0]"
      ]
    },
    {
      "cell_type": "markdown",
      "metadata": {
        "id": "pa-L2bX0Emas"
      },
      "source": [
        "Similarly, you can write data into the external file by using `file.write()`."
      ]
    },
    {
      "cell_type": "code",
      "execution_count": null,
      "metadata": {
        "id": "i1xPv_jsE7go"
      },
      "outputs": [],
      "source": [
        "# 'r' is to read, 'w' to write:\n",
        "with open('simple_example.txt', 'r') as file_in, open('simple_example2.txt', 'w') as file_out:\n",
        "    for line in file_in:\n",
        "        file_out.write(line)\n"
      ]
    },
    {
      "cell_type": "markdown",
      "metadata": {
        "id": "Ypo4iH9o0HUa"
      },
      "source": [
        "### Reading a file from a website"
      ]
    },
    {
      "cell_type": "markdown",
      "metadata": {
        "id": "Rl3j698Qjy1j"
      },
      "source": [
        "If your file is located on a website instead of a local path, then we need to proceed differently. We will use the `urllib` package. The first task is to connect to the file on the website with an URL command. The main difference with respect to local files is how to read the file, and the structure of the imported object, which is no longer an iterable. If we want to split the loaded content into lines we need to proceed manually."
      ]
    },
    {
      "cell_type": "code",
      "execution_count": 1,
      "metadata": {
        "colab": {
          "base_uri": "https://localhost:8080/",
          "height": 122
        },
        "id": "5LE4tpWEkLOt",
        "outputId": "bee98e36-788c-4b4b-ba51-098b132fcadc"
      },
      "outputs": [
        {
          "output_type": "execute_result",
          "data": {
            "text/plain": [
              "'Why Do People Use Python?\\n\\nBecause there are many programming languages available today, this is the usual first question of newcomers. Given that there are roughly 1 million Python users out there at the moment, there really is no way to answer this question with complete accuracy; the choice of development tools is sometimes based on unique constraints or personal preference.\\n\\nBut after teaching Python to roughly 225 groups and over 3,000 students during the last 12 years, some common themes have emerged. The primary factors cited by Python users seem to be these:\\n\\nSoftware quality\\nFor many, Python’s focus on readability, coherence, and software quality in general sets it apart from other tools in the scripting world. Python code is designed to be readable, and hence reusable and maintainable—much more so than traditional scripting languages. The uniformity of Python code makes it easy to understand, even if you did not write it. In addition, Python has deep support for more advanced software reuse mechanisms, such as object-oriented programming (OOP).\\n\\nDeveloper productivity\\nPython boosts developer productivity many times beyond compiled or statically\\ntyped languages such as C, C++, and Java. Python code is typically one-third to\\none-fifth the size of equivalent C++ or Java code. That means there is less to type, less to debug, and less to maintain after the fact. Python programs also run immediately, without the lengthy compile and link steps required by some other tools, further boosting programmer speed.\\n\\nProgram portability\\nMost Python programs run unchanged on all major computer platforms. Porting\\nPython code between Linux and Windows, for example, is usually just a matter of\\ncopying a script’s code between machines. Moreover, Python offers multiple options for coding portable graphical user interfaces, database access programs, web-based systems, and more. Even operating system interfaces, including program\\nlaunches and directory processing, are as portable in Python as they can possibly be.\\n\\nSupport libraries\\nPython comes with a large collection of prebuilt and portable functionality, known as the standard library. This library supports an array of application-level programming tasks, from text pattern matching to network scripting. In addition, Python can be extended with both homegrown libraries and a vast collection of third-party application support software. Python’s third-party domain offers tools for website construction, numeric programming, serial port access, game development, and much more. The NumPy extension, for instance, has been described as a free and more powerful equivalent to the Matlab numeric programming system.\\n\\nComponent integration\\nPython scripts can easily communicate with other parts of an application, using a variety of integration mechanisms. Such integrations allow Python to be used as a product customization and extension tool. Today, Python code can invoke C and C++ libraries, can be called from C and C++ programs, can integrate with Java and .NET components, can communicate over frameworks such as COM, can\\ninterface with devices over serial ports, and can interact over networks with interfaces like SOAP, XML-RPC, and CORBA. It is not a standalone tool.\\n\\nEnjoyment\\nBecause of Python’s ease of use and built-in toolset, it can make the act of programming more pleasure than chore. Although this may be an intangible benefit, its effect on productivity is an important asset.\\n\\nOf these factors, the first two (quality and productivity) are probably the most compelling benefits to most Python users.\\n'"
            ],
            "application/vnd.google.colaboratory.intrinsic+json": {
              "type": "string"
            }
          },
          "metadata": {},
          "execution_count": 1
        }
      ],
      "source": [
        "import urllib.request\n",
        "\n",
        "url_path = \"https://raw.githubusercontent.com/barcelonagse-datascience/academic_files/master/data/textfile.txt\"\n",
        "file_conn = urllib.request.urlopen(url_path)  # This opens the connection to the URL\n",
        "\n",
        "raw_txt = file_conn.read().decode() # decode is used to convert to string format\n",
        "raw_txt"
      ]
    },
    {
      "cell_type": "code",
      "execution_count": null,
      "metadata": {
        "id": "cxOdiyZdkOS6"
      },
      "outputs": [],
      "source": [
        "# Let's recover lines using split and the target line break\n",
        "split_txt = raw_txt.split('\\n')\n",
        "\n",
        "split_txt[0:9]"
      ]
    },
    {
      "cell_type": "markdown",
      "metadata": {
        "id": "VQm6-wUpSMkV"
      },
      "source": [
        "---\n",
        "## Functions\n",
        "\n",
        "Functions are series of commands that take an input to produce an output through a set of operations. You will want to define a function when you have to apply the same set operations to differents objects or multiple times."
      ]
    },
    {
      "cell_type": "markdown",
      "metadata": {
        "id": "arP58Ywhd6Xd"
      },
      "source": [
        "### Coding functions\n",
        "\n",
        "The definition of a function consists of several components.\n",
        "\n",
        "* It starts with keyword `def` followed by the name of the function, or formally its *identifier*.\n",
        "* Then come the function *parameters* or *arguments*. They go into parentheses right after the function name. A function can have no parameter at all.\n",
        "* The parenthesis closing the list of arguments must be followed by `:`. If there is no argument the function name is followed by `:`.\n",
        "* Then goes the *body* of the function, the list of operations it has to perform. It has to be indentated.\n",
        "* If the function returns a value, its ends with keyword `return` followed by the desired output.\n",
        "\n",
        "Note that there are some restrictions on function names. It cannot begin with a number, contain special characters like !, @, #, $, \\%  or be a keyword. `_` is authorized."
      ]
    },
    {
      "cell_type": "markdown",
      "metadata": {
        "id": "PHodgEzbCe6t"
      },
      "source": [
        "```\n",
        "## DO NOT RUN\n",
        "def function_name(input):  # Use \"def\", parenthesis and \":\"\n",
        "    operations\n",
        "    return output  # End with \"return\"\n",
        "\n",
        "## END DO NOT RUN\n",
        "```\n",
        "\n",
        "For example, here is a function that takes a number, and returns its square:"
      ]
    },
    {
      "cell_type": "code",
      "execution_count": null,
      "metadata": {
        "id": "vWrqZwsdDBbZ"
      },
      "outputs": [],
      "source": [
        "def squared(x):\n",
        "    return x**2\n",
        "\n",
        "squared(7)"
      ]
    },
    {
      "cell_type": "markdown",
      "metadata": {
        "id": "ZiiOAmW4DCA2"
      },
      "source": [
        "Here is a more general function that takes a number and a power and returns the number to that power:"
      ]
    },
    {
      "cell_type": "code",
      "execution_count": null,
      "metadata": {
        "id": "Zg2__HbEDCdn"
      },
      "outputs": [],
      "source": [
        "def power(x, n):\n",
        "    return x ** n\n",
        "\n",
        "power(4, 3)"
      ]
    },
    {
      "cell_type": "markdown",
      "metadata": {
        "id": "c9HIE2xBDOH1"
      },
      "source": [
        "Here is a function that returns the minimum and the sum of a list of numbers:"
      ]
    },
    {
      "cell_type": "code",
      "execution_count": null,
      "metadata": {
        "id": "gW6Yjr7YDVrL"
      },
      "outputs": [],
      "source": [
        "def min_sum_fun(x):\n",
        "    minx = x[0] if len(x) > 0 else None\n",
        "    sumx = 0.0\n",
        "    for val in x:\n",
        "        if val < minx:\n",
        "            minx = val\n",
        "        sumx += val\n",
        "    return minx, sumx  # Notice multiple outputs (technically a tuple)\n"
      ]
    },
    {
      "cell_type": "markdown",
      "metadata": {
        "id": "oYuc2pxlDZK4"
      },
      "source": [
        "Once we have defined a function, we can *call* it:"
      ]
    },
    {
      "cell_type": "code",
      "execution_count": null,
      "metadata": {
        "id": "dPQ8vc88DalX"
      },
      "outputs": [],
      "source": [
        "m, s = min_sum_fun([1, 5, 0.3, -1])  # Destructuring\n",
        "w = (m, s) = min_sum_fun([1, 5, 0.3, -1])  # You can assign directly to a tuple\n",
        "\n",
        "print(m)\n",
        "print(s)\n",
        "print(w)\n",
        "print(type(w))"
      ]
    },
    {
      "cell_type": "markdown",
      "metadata": {
        "id": "cd0abeb4"
      },
      "source": [
        "### Catching exceptions"
      ]
    },
    {
      "cell_type": "markdown",
      "metadata": {
        "id": "01db271c"
      },
      "source": [
        "Things are not always working out as planned. In Python, if something goes wrong, an `Exception` is raised. Please, see [the whole list of built-in exceptions in Python](https://docs.python.org/3/library/exceptions.html). When an `Exception` is raised, the code is not read further.\n",
        "\n",
        "For your program not to stop working when an exception occures, use the try-except construction. Python tries the operations in the `try` block, and, if exception occures, it executes the operations in the `except` block."
      ]
    },
    {
      "cell_type": "code",
      "execution_count": null,
      "metadata": {
        "id": "8c74fc47"
      },
      "outputs": [],
      "source": [
        "try:\n",
        "    \"a\" + 1\n",
        "except:\n",
        "    print(\"Ooops, I knew it was not going to work this way.\")"
      ]
    },
    {
      "cell_type": "markdown",
      "metadata": {
        "id": "f815f707"
      },
      "source": [
        "You can specify for which exception the `except` block has to be run. Here it will run only for TypeError exceptions."
      ]
    },
    {
      "cell_type": "code",
      "execution_count": null,
      "metadata": {
        "id": "13ad894f"
      },
      "outputs": [],
      "source": [
        "try:\n",
        "    \"a\" + 1\n",
        "except TypeError:\n",
        "    print(\"Type error occures. Something definitely went not as planned.\")"
      ]
    },
    {
      "cell_type": "markdown",
      "metadata": {
        "id": "6IaPETQtYRqz"
      },
      "source": [
        "Often, your try/except blocks go inside a function! (Note the double nesting)"
      ]
    },
    {
      "cell_type": "code",
      "execution_count": null,
      "metadata": {
        "id": "TdSytP0WYRq0"
      },
      "outputs": [],
      "source": [
        "def adder(a, b):\n",
        "    try:\n",
        "        return a + b\n",
        "    except TypeError:\n",
        "        return None\n",
        "\n",
        "print(adder(5, '10'))\n",
        "adder(5, 10)"
      ]
    },
    {
      "cell_type": "markdown",
      "source": [
        "When writing your functions, you can define your own types of errors with the function `raise`. Typically, you will want to raise an error/exception with some text to explain to the user why the error is raised."
      ],
      "metadata": {
        "id": "zCy8pemFeNrK"
      }
    },
    {
      "cell_type": "code",
      "source": [
        "def age_plus1_person(person):\n",
        "    if not hasattr(person, 'age'):\n",
        "       raise Exception(f'The person must have an age attribute! Given: {person}')\n",
        "    return person.age + 1\n",
        "\n",
        "print(age_plus1_person(new_person))\n",
        "age_plus1_person('notaperson')"
      ],
      "metadata": {
        "colab": {
          "base_uri": "https://localhost:8080/",
          "height": 339
        },
        "id": "9hI5_p4keqE_",
        "outputId": "00fdbac4-1d89-40a3-fce0-b8e29ecb9b7d"
      },
      "execution_count": 7,
      "outputs": [
        {
          "output_type": "stream",
          "name": "stdout",
          "text": [
            "57\n"
          ]
        },
        {
          "output_type": "error",
          "ename": "Exception",
          "evalue": "ignored",
          "traceback": [
            "\u001b[0;31m---------------------------------------------------------------------------\u001b[0m",
            "\u001b[0;31mException\u001b[0m                                 Traceback (most recent call last)",
            "\u001b[0;32m<ipython-input-7-1b99ecd4c1c9>\u001b[0m in \u001b[0;36m<cell line: 7>\u001b[0;34m()\u001b[0m\n\u001b[1;32m      5\u001b[0m \u001b[0;34m\u001b[0m\u001b[0m\n\u001b[1;32m      6\u001b[0m \u001b[0mprint\u001b[0m\u001b[0;34m(\u001b[0m\u001b[0mage_plus1_person\u001b[0m\u001b[0;34m(\u001b[0m\u001b[0mnew_person\u001b[0m\u001b[0;34m)\u001b[0m\u001b[0;34m)\u001b[0m\u001b[0;34m\u001b[0m\u001b[0;34m\u001b[0m\u001b[0m\n\u001b[0;32m----> 7\u001b[0;31m \u001b[0mage_plus1_person\u001b[0m\u001b[0;34m(\u001b[0m\u001b[0;34m'notaperson'\u001b[0m\u001b[0;34m)\u001b[0m\u001b[0;34m\u001b[0m\u001b[0;34m\u001b[0m\u001b[0m\n\u001b[0m",
            "\u001b[0;32m<ipython-input-7-1b99ecd4c1c9>\u001b[0m in \u001b[0;36mage_plus1_person\u001b[0;34m(person)\u001b[0m\n\u001b[1;32m      1\u001b[0m \u001b[0;32mdef\u001b[0m \u001b[0mage_plus1_person\u001b[0m\u001b[0;34m(\u001b[0m\u001b[0mperson\u001b[0m\u001b[0;34m)\u001b[0m\u001b[0;34m:\u001b[0m\u001b[0;34m\u001b[0m\u001b[0;34m\u001b[0m\u001b[0m\n\u001b[1;32m      2\u001b[0m     \u001b[0;32mif\u001b[0m \u001b[0;32mnot\u001b[0m \u001b[0mhasattr\u001b[0m\u001b[0;34m(\u001b[0m\u001b[0mperson\u001b[0m\u001b[0;34m,\u001b[0m \u001b[0;34m'age'\u001b[0m\u001b[0;34m)\u001b[0m\u001b[0;34m:\u001b[0m\u001b[0;34m\u001b[0m\u001b[0;34m\u001b[0m\u001b[0m\n\u001b[0;32m----> 3\u001b[0;31m        \u001b[0;32mraise\u001b[0m \u001b[0mException\u001b[0m\u001b[0;34m(\u001b[0m\u001b[0;34mf'The person must have an age attribute! Given: {person}'\u001b[0m\u001b[0;34m)\u001b[0m\u001b[0;34m\u001b[0m\u001b[0;34m\u001b[0m\u001b[0m\n\u001b[0m\u001b[1;32m      4\u001b[0m     \u001b[0;32mreturn\u001b[0m \u001b[0mperson\u001b[0m\u001b[0;34m.\u001b[0m\u001b[0mage\u001b[0m \u001b[0;34m+\u001b[0m \u001b[0;36m1\u001b[0m\u001b[0;34m\u001b[0m\u001b[0;34m\u001b[0m\u001b[0m\n\u001b[1;32m      5\u001b[0m \u001b[0;34m\u001b[0m\u001b[0m\n",
            "\u001b[0;31mException\u001b[0m: The person must have an age attribute! Given: notaperson"
          ]
        }
      ]
    },
    {
      "cell_type": "markdown",
      "metadata": {
        "id": "8SSwdtS8dvbD"
      },
      "source": [
        "### Map and filter functions\n",
        "\n",
        "We mentionned earlier the map and filter operations on lists. There are built-in functions to do this kind of operations on iterables. `map` is a function used to apply a set of operations sequentially to every element of an iterable. This is similar to a `for`-loop but through a simpler syntax."
      ]
    },
    {
      "cell_type": "code",
      "execution_count": null,
      "metadata": {
        "id": "kryzp4f22_OP"
      },
      "outputs": [],
      "source": [
        "items = [1, 4, 9, 16, 25]\n",
        "sqroot = map(lambda x: x**(1/2), items)  # map(function, iterable_object)\n",
        "sqroot = list(sqroot)  # Put into a list\n",
        "print(sqroot)"
      ]
    },
    {
      "cell_type": "markdown",
      "metadata": {
        "id": "iDuMw44e3Y18"
      },
      "source": [
        "Note that here `map` is using a so-called `lambda` function: this is an anonymous function (it has not been defined) which takes argument `x`, and applies the operations after the semi-colon to `x`. `lambda` functions let you define simple functions on the fly. Note, however, that the function applied by `map` need not be a `lambda` function.\n",
        "\n",
        "Also, the iterable element need not even be a list of objects, it can be a list of functions:"
      ]
    },
    {
      "cell_type": "code",
      "execution_count": 8,
      "metadata": {
        "colab": {
          "base_uri": "https://localhost:8080/"
        },
        "id": "G6FiF9XE4mB6",
        "outputId": "fa94fa94-1b1b-4ce0-c7e2-ed840867eaef"
      },
      "outputs": [
        {
          "output_type": "stream",
          "name": "stdout",
          "text": [
            "[1.0, 1]\n",
            "[2.0, 16]\n",
            "[3.0, 81]\n",
            "[4.0, 256]\n",
            "[5.0, 625]\n"
          ]
        }
      ],
      "source": [
        "def sqroot(x):\n",
        "    return x**(1/2)\n",
        "\n",
        "def squared(x):\n",
        "    return x**2\n",
        "\n",
        "functions = [sqroot, squared]  # List of functions\n",
        "for i in [1, 4, 9, 16, 25]:\n",
        "    results = list(map(lambda x: x(i), functions))\n",
        "    print(results)\n"
      ]
    },
    {
      "cell_type": "markdown",
      "metadata": {
        "id": "WoMTcTmY9NKx"
      },
      "source": [
        "The function `filter` returns the list of elements of an original list that satisfy a logical condition (i.e. applies a function that returns a logical value). A simple example:"
      ]
    },
    {
      "cell_type": "code",
      "execution_count": null,
      "metadata": {
        "id": "ukXYfke996QR"
      },
      "outputs": [],
      "source": [
        "num_list = [-1, 2, -3, 4, -5, 6]\n",
        "pos_vals = filter(lambda x: x > 0, num_list)  # Same syntax as map/reducte\n",
        "pos_vals = list(pos_vals)  # Needs to be coerced to a list too\n",
        "print(pos_vals)"
      ]
    }
  ],
  "metadata": {
    "colab": {
      "provenance": [],
      "toc_visible": true
    },
    "kernelspec": {
      "display_name": "Python 3 (ipykernel)",
      "language": "python",
      "name": "python3"
    },
    "language_info": {
      "codemirror_mode": {
        "name": "ipython",
        "version": 3
      },
      "file_extension": ".py",
      "mimetype": "text/x-python",
      "name": "python",
      "nbconvert_exporter": "python",
      "pygments_lexer": "ipython3",
      "version": "3.9.13"
    }
  },
  "nbformat": 4,
  "nbformat_minor": 0
}