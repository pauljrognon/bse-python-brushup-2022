{
  "nbformat": 4,
  "nbformat_minor": 0,
  "metadata": {
    "colab": {
      "provenance": [],
      "collapsed_sections": []
    },
    "kernelspec": {
      "name": "python3",
      "display_name": "Python 3"
    },
    "language_info": {
      "name": "python"
    }
  },
  "cells": [
    {
      "cell_type": "markdown",
      "source": [
        "For these exercises you will work with the scoreboard of an imaginary game. The scoreboard will take different data structures. You will be required to write functions that operate on the scoreboard and compute some results."
      ],
      "metadata": {
        "id": "vmHquJ3CIu9A"
      }
    },
    {
      "cell_type": "markdown",
      "source": [
        "# Exercise 1: Tuples\n",
        "\n",
        "For these questions, the scoreboard will be a list of tuples, where each tuple is of the form (str, int) representing (player_name, score)\n",
        "\n",
        "For example:\n",
        "``[('kewld00d1', 100), ('pumpkin', 550)]`\n",
        "\n",
        "## Question 1 \n",
        "Write a function \"get_scores\" that has one parameter, the scoreboard, and returns a list of the same size with just the scores (a list of ints).\n",
        "\n",
        "\n",
        "## Question 2 \n",
        "Write a function \"top_score\" that has one parameter, the scoreboard, and returns the highest score on the scoreboard.\n",
        "\n",
        "\n",
        "## Question 3\n",
        "Write a function \"top_player\" that has one parameter, the scoreboard, and returns the name of the player with the highest score."
      ],
      "metadata": {
        "id": "N2jydZsYIkQQ"
      }
    },
    {
      "cell_type": "code",
      "execution_count": null,
      "metadata": {
        "id": "58qGbxACIgFd"
      },
      "outputs": [],
      "source": [
        "# Your code here"
      ]
    },
    {
      "cell_type": "markdown",
      "source": [
        "# Exercise 2: Dictionaries\n",
        "\n",
        "For these questions, the scoreboard will be a list of dictionaries, where each dictionary represents information about a single player.\n",
        "\n",
        "The keys of the dictionary are:\n",
        "\"player\", \"score\", \"country\", \"levels\"\n",
        "\n",
        "For example, one dictionary can be:\n",
        "\n",
        "{\n",
        "   'player': 'tr0llhuntah',\n",
        "   'score': 200,\n",
        "   'country': 'Belgium',\n",
        "   'levels': ['Choco Mountain', 'Rainbow Road']\n",
        "}\n",
        "\n",
        "## Question 1\n",
        "Write a function \"top_player_from_dict\" that has one parameter, the scoreboard, and returns the name of the player with the highest score\n",
        "\n",
        "## Question 2\n",
        "Write a function \"get_good_players\" that has two parameters: first, the scoreboard, second, a limit (an integer). The function will return a list of strings with the names of the players who have a score greater than or equal to the limit.\n",
        "\n",
        "## Question 3\n",
        "Write a function \"top_player_by_country\" that has two parameters: first, the scoreboard, second, a country (a string). The function will return the name of the player with the highest score in the country.\n",
        "\n",
        "## Question 4\n",
        "Write a function \"most_levels_played\" that has one parameter, the scoreboard, and and returns a tuple (str, int) with the name of the player that has played the most levels and the number of levels they played.\n",
        "\n",
        "## Question 5\n",
        "Write a function \"played_levels\" that has one parameter, the scoreboard, and returns a list of strings with the names of all the levels that have been played by any user.\n",
        "\n",
        "The list of levels can have duplicates."
      ],
      "metadata": {
        "id": "2rlw24V6Igpy"
      }
    },
    {
      "cell_type": "code",
      "source": [
        "# Your code here"
      ],
      "metadata": {
        "id": "QFnET8BDLLCm"
      },
      "execution_count": null,
      "outputs": []
    }
  ]
}