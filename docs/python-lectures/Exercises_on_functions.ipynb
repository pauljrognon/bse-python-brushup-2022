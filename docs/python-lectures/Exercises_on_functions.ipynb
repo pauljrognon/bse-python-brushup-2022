{
  "nbformat": 4,
  "nbformat_minor": 0,
  "metadata": {
    "colab": {
      "provenance": []
    },
    "kernelspec": {
      "name": "python3",
      "display_name": "Python 3"
    },
    "language_info": {
      "name": "python"
    }
  },
  "cells": [
    {
      "cell_type": "markdown",
      "source": [
        "# Exercise 1\n",
        "Write a function named \"threetimes\" that takes one parameter, x, and returns the value of x multiplied by three.\n",
        "\n"
      ],
      "metadata": {
        "id": "oQJE7GEFD8L6"
      }
    },
    {
      "cell_type": "code",
      "execution_count": null,
      "metadata": {
        "id": "EkRBTO8wD42B"
      },
      "outputs": [],
      "source": [
        "# Your code here"
      ]
    },
    {
      "cell_type": "markdown",
      "source": [
        "# Exercise 2\n",
        "\n",
        "Write a function named \"subtract\" that takes two parameters and returns the first value minus the second value."
      ],
      "metadata": {
        "id": "zmL_J8TYEKEO"
      }
    },
    {
      "cell_type": "code",
      "source": [
        "# Your code here"
      ],
      "metadata": {
        "id": "PQVKYiHHEKnI"
      },
      "execution_count": null,
      "outputs": []
    },
    {
      "cell_type": "markdown",
      "source": [
        "# Exercise 3\n",
        "\n",
        "Write a function named \"safe_subtract\" that takes two parameters and returns the first value minus the second value. If the values cannot be subtracted, it returns None.\n"
      ],
      "metadata": {
        "id": "m5_KuLtaEaoc"
      }
    },
    {
      "cell_type": "code",
      "source": [
        "# Your code here"
      ],
      "metadata": {
        "id": "qvdsVXBqEbGb"
      },
      "execution_count": null,
      "outputs": []
    },
    {
      "cell_type": "markdown",
      "source": [
        "# Exercise 4\n",
        "\n",
        "Write a function named \"greet\". It takes a name as an argument and returns \"Hello, *name*!\". If the function is called with an argument that is not a string, it should return \"Please provide a name.\""
      ],
      "metadata": {
        "id": "HLGcvIKzEqO1"
      }
    },
    {
      "cell_type": "code",
      "source": [
        "# Your code here"
      ],
      "metadata": {
        "id": "Ol0zmZRvEqry"
      },
      "execution_count": null,
      "outputs": []
    }
  ]
}