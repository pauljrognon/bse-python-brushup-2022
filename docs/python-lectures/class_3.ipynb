{
 "cells": [
  {
   "cell_type": "markdown",
   "id": "b17fbcf7",
   "metadata": {},
   "source": [
    "**Introductory and intermediate computing for Data Science [Barcelona School of Economics]**\n",
    "\n",
    "`Instructor:` Maxim Fedotov  \n",
    "`Program:` M.Sc. in Data Science Methodology"
   ]
  },
  {
   "cell_type": "markdown",
   "id": "345838e6",
   "metadata": {},
   "source": [
    "# Class 3"
   ]
  },
  {
   "cell_type": "markdown",
   "id": "d1c4a788",
   "metadata": {},
   "source": [
    "## Sequence types: lists, tuples, ranges\n",
    "Let's dive into several very important built-in sequence types: `list`, `tuple` (and touch `range` a bit). Theit nature follows from the name: these data structures contain ordered collection of objects. Their *displays* work as follows:"
   ]
  },
  {
   "cell_type": "code",
   "execution_count": null,
   "id": "16227d31",
   "metadata": {},
   "outputs": [],
   "source": [
    "typical_cup_volumes = [0.33, 0.5]\n",
    "clients_addresses = (\"Ramon Trias Fargas, 25-27\", \"Roc Boronat, 138\", \"Carrer de la Mercè, 12\",\n",
    "                     \"Doctor Aiguader, 80\", \"Passeig Pujades, 1\", \"Balmes, 132-134\")\n",
    "clients_ids = range(len(clients_addresses))"
   ]
  },
  {
   "cell_type": "markdown",
   "id": "66a3231f",
   "metadata": {},
   "source": [
    "The above cell shows expressions that create such objects. How to make Python understand that an object is a tuple of one element? Try it out here:"
   ]
  },
  {
   "cell_type": "code",
   "execution_count": null,
   "id": "ae8d5d51",
   "metadata": {},
   "outputs": [],
   "source": [
    "# create and print (or just call) a variable which is supposed to be a tuple of one element\n"
   ]
  },
  {
   "cell_type": "markdown",
   "id": "f0d9aeb4",
   "metadata": {},
   "source": [
    "As you have seen already, arithmetic operators can be used with lists and tuples."
   ]
  },
  {
   "cell_type": "code",
   "execution_count": null,
   "id": "271a6caa",
   "metadata": {},
   "outputs": [],
   "source": [
    "typical_cup_volumes = [0] + typical_cup_volumes\n",
    "print(f\"A healthy option would be to have {typical_cup_volumes[0]} liters of a sweet sparkling drink.\")"
   ]
  },
  {
   "cell_type": "markdown",
   "id": "9b326542",
   "metadata": {},
   "source": [
    "As you can see, we can access a value by specifying its index in the square brackets `typical_cup_volumes[0]` (note that it is necessary that there is no space between a name of a variable and a left square bracket). A negative integer would also work as an index – its absolute value specifies a position of an element with respect to the end of the list. We can access specfic elements from these data structures doing *slicing*. The interface for slicing is the same square brackets as for selecting one elements, but with specific contents inside it: `[start:end:step]`. Note that it is not necessary to specify all of them."
   ]
  },
  {
   "cell_type": "code",
   "execution_count": null,
   "id": "ea3abbc0",
   "metadata": {
    "scrolled": true
   },
   "outputs": [],
   "source": [
    "print(\"But I still sometimes drink {:.3f}\".format(typical_cup_volumes[-1]))\n",
    "\n",
    "clients_addresses_reverted = clients_addresses[::-1]\n",
    "print(\"These are addresses in reverse order:\", \"; \".join(clients_addresses_reverted))\n",
    "\n",
    "print(\"IDs of the first two clients:\", clients_ids[:2])  # note that you get the specific result here because \n",
    "                                                         # the variable is a range. "
   ]
  },
  {
   "cell_type": "markdown",
   "id": "7d98bd69",
   "metadata": {},
   "source": [
    "We can change values of lists by using an assignment expression of the following form:  \n",
    "`list_identifier[index | slice] = new_value`\n",
    "\n",
    "Note that if you provide ind(-ex / -ices) then you get an `IndexError`"
   ]
  },
  {
   "cell_type": "markdown",
   "id": "f5c5a01c",
   "metadata": {},
   "source": [
    "The main difference between a list and a tuple is that the former is *mutable* and the latter is *immutable*. It means that we can freely change values of elements in a list, but not in a tuple."
   ]
  },
  {
   "cell_type": "code",
   "execution_count": null,
   "id": "07e75978",
   "metadata": {},
   "outputs": [],
   "source": [
    "# try to change the first element of typical_cup_volumes to 0.180\n",
    "\n",
    "# now try to change any of the entries of clients_addresses\n"
   ]
  },
  {
   "cell_type": "markdown",
   "id": "b263776f",
   "metadata": {},
   "source": [
    "Note that Python considers several identifiers separated with commas as a tuple. This allows us to use an elegant expression when we work with several variables at the same time. For example, a basic computer science problem of swapping values of two variables can be done simply like that: "
   ]
  },
  {
   "cell_type": "code",
   "execution_count": null,
   "id": "4952ffa0",
   "metadata": {},
   "outputs": [],
   "source": [
    "value_1 = 1\n",
    "value_2 = 2\n",
    "\n",
    "value_1, value_2 = value_2, value_1\n",
    "\n",
    "print(value_1, value_2)"
   ]
  },
  {
   "cell_type": "markdown",
   "id": "de94a8a3",
   "metadata": {},
   "source": [
    "One would typically do tuple *destructuring*."
   ]
  },
  {
   "cell_type": "markdown",
   "id": "27a53c89",
   "metadata": {},
   "source": [
    "## For loops"
   ]
  },
  {
   "cell_type": "markdown",
   "id": "6e2a773c",
   "metadata": {},
   "source": [
    "To really make use of the sequence data structures, we have *loops* at our disposal. There are two types of loops in Python: `for` and `while`. We start with the former ones as they are used in list comprehensions (critically useful tool).\n",
    "\n",
    "Below you can find an example of a simple for loop:"
   ]
  },
  {
   "cell_type": "code",
   "execution_count": null,
   "id": "dc0c4189",
   "metadata": {},
   "outputs": [],
   "source": [
    "kilocalories_drink = 37\n",
    "\n",
    "kilocalories_portions = []\n",
    "\n",
    "for volume in typical_cup_volumes:\n",
    "    kilocalories_portions.append(calories := volume * 10 * kilocalories_drink)\n",
    "    print(f\"There are {calories:.1f} calories in {volume * 1000:n} ml. of the drink\")"
   ]
  },
  {
   "cell_type": "markdown",
   "id": "ddaaa0ed",
   "metadata": {},
   "source": [
    "The basic contents of a for loop are:\n",
    "* A keyword `for`\n",
    "* An arbitrary identifier for a single element at each iteration (here it's `volume`)\n",
    "* A keyword `in` which indicates that at each iteration we take on element of an iterable object that we specify right after.\n",
    "* An identifier of an iterable which we want to loop through (here it's `typical_cup_volumes`) which is followed by `:`.\n",
    "* Then there goes a body of the loop. Do not forget about correct indentation."
   ]
  },
  {
   "cell_type": "markdown",
   "id": "0a90032d",
   "metadata": {},
   "source": [
    "## List comprehensions"
   ]
  },
  {
   "cell_type": "markdown",
   "id": "370882e2",
   "metadata": {},
   "source": [
    "We could do the same thing using a list comprehension."
   ]
  },
  {
   "cell_type": "code",
   "execution_count": null,
   "id": "72dba41a",
   "metadata": {},
   "outputs": [],
   "source": [
    "kilocalories_drink = 37  # typical value per 100 ml of a sweet sparkling drink\n",
    "kilocalories_portions = [volume * 10 * kilocalories_drink for volume in typical_cup_volumes]\n",
    "print(*kilocalories_portions, sep=' | ')"
   ]
  },
  {
   "cell_type": "markdown",
   "id": "5f042fef",
   "metadata": {},
   "source": [
    "This list comprehension implements *mapping*, i.e. we apply a specific action to each element of the list.\n",
    "\n",
    "We could define a function and do it the same way."
   ]
  },
  {
   "cell_type": "code",
   "execution_count": null,
   "id": "f847f414",
   "metadata": {},
   "outputs": [],
   "source": [
    "def kcal_portion(volume: int | float, kcal_drink: int | float) -> float:\n",
    "    \"\"\"\n",
    "        Computes kilocalories per portion of drink.\n",
    "        \n",
    "        arguments: \n",
    "            - volume:     a volume of the drink in liters.\n",
    "            - kcal_drink: kcal in 100 ml. of the drink\n",
    "        \n",
    "        returns:\n",
    "            A value of kcal. per specified portion.\n",
    "    \"\"\"\n",
    "    return volume * 10 * kcal_drink\n",
    "\n",
    "\n",
    "kilocalories_portions = [kcal_portion(volume, kilocalories_drink) for volume in typical_cup_volumes]\n",
    "print(*kilocalories_portions, sep=' | ')"
   ]
  },
  {
   "cell_type": "code",
   "execution_count": null,
   "id": "144d41fa",
   "metadata": {},
   "outputs": [],
   "source": [
    "help(kcal_portion)"
   ]
  },
  {
   "cell_type": "markdown",
   "id": "90917c35",
   "metadata": {},
   "source": [
    "There is also a concept of *filtering* which can be implemented with a list comprehension.\n",
    "\n",
    "Suppose that we want to select only non-zero volumes from the list of volumes. Then we can use the following comprehension:"
   ]
  },
  {
   "cell_type": "code",
   "execution_count": null,
   "id": "ad08dc1f",
   "metadata": {},
   "outputs": [],
   "source": [
    "volumes_positive = [volume for volume in typical_cup_volumes if volume > 0]\n",
    "print(\"Positive volumes are:\", *volumes_positive)"
   ]
  },
  {
   "cell_type": "markdown",
   "id": "a577ce1a",
   "metadata": {},
   "source": [
    "We can also combine filtering with mapping. It is also allowed to use `else` section."
   ]
  },
  {
   "cell_type": "code",
   "execution_count": null,
   "id": "d62c8a0d",
   "metadata": {},
   "outputs": [],
   "source": [
    "kilocalories_portions = [kcal_portion(volume, kilocalories_drink) \n",
    "                         if volume > 0 else None for volume in typical_cup_volumes]\n",
    "print(*kilocalories_portions, sep=' | ')"
   ]
  },
  {
   "cell_type": "markdown",
   "id": "f8e4df2e",
   "metadata": {},
   "source": [
    "Another helpful concept is *reducing*. That is, we can retrieve some useful information (e.g. some statistic) from a list, i.e. we reduce it to one particular number.\n",
    "\n",
    "Let's see how we can take a maximum element from the list above."
   ]
  },
  {
   "cell_type": "code",
   "execution_count": null,
   "id": "6224f5f1",
   "metadata": {},
   "outputs": [],
   "source": [
    "def get_max_safe(_list: list):\n",
    "    _list_dropna = [elem for elem in _list \n",
    "                    if elem is not None and isinstance(elem, (int, float, complex)) and ~isinstance(elem, bool)]\n",
    "    return max(_list_dropna)\n",
    "\n",
    "get_max_safe(kilocalories_portions)"
   ]
  }
 ],
 "metadata": {
  "kernelspec": {
   "display_name": "Python 3 (ipykernel)",
   "language": "python",
   "name": "python3"
  },
  "language_info": {
   "codemirror_mode": {
    "name": "ipython",
    "version": 3
   },
   "file_extension": ".py",
   "mimetype": "text/x-python",
   "name": "python",
   "nbconvert_exporter": "python",
   "pygments_lexer": "ipython3",
   "version": "3.10.6"
  }
 },
 "nbformat": 4,
 "nbformat_minor": 5
}
