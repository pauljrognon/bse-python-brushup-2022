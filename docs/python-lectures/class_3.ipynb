{
 "cells": [
  {
   "cell_type": "markdown",
   "id": "b17fbcf7",
   "metadata": {},
   "source": [
    "**Introductory and intermediate computing for Data Science [Barcelona School of Economics]**\n",
    "\n",
    "`Instructor:` Maxim Fedotov  \n",
    "`Program:` M.Sc. in Data Science Methodology"
   ]
  },
  {
   "cell_type": "markdown",
   "id": "345838e6",
   "metadata": {},
   "source": [
    "# Class 3"
   ]
  },
  {
   "cell_type": "markdown",
   "id": "d1c4a788",
   "metadata": {},
   "source": [
    "## Sequence types: lists, tuples, ranges\n",
    "Let's dive into several very important built-in sequence types: `list`, `tuple` (and touch `range` a bit). Theit nature follows from the name: these data structures contain ordered collection of objects. Their *displays* work as follows:"
   ]
  },
  {
   "cell_type": "code",
   "execution_count": 1,
   "id": "16227d31",
   "metadata": {},
   "outputs": [],
   "source": [
    "typical_cup_volumes = [0.33, 0.5]\n",
    "clients_addresses = (\"Ramon Trias Fargas, 25-27\", \"Roc Boronat, 138\", \"Carrer de la Mercè, 12\",\n",
    "                     \"Doctor Aiguader, 80\", \"Passeig Pujades, 1\", \"Balmes, 132-134\")\n",
    "clients_ids = range(len(clients_addresses))"
   ]
  },
  {
   "cell_type": "markdown",
   "id": "66a3231f",
   "metadata": {},
   "source": [
    "The above cell shows expressions that create such objects. How to make Python understand that an object is a tuple of one element? Try it out here:"
   ]
  },
  {
   "cell_type": "code",
   "execution_count": null,
   "id": "ae8d5d51",
   "metadata": {},
   "outputs": [],
   "source": [
    "# create and print (or just call) a variable which is supposed to be a tuple of one element\n"
   ]
  },
  {
   "cell_type": "markdown",
   "id": "f0d9aeb4",
   "metadata": {},
   "source": [
    "As you have seen already, arithmetic operators can be used with lists and tuples."
   ]
  },
  {
   "cell_type": "code",
   "execution_count": 2,
   "id": "271a6caa",
   "metadata": {},
   "outputs": [
    {
     "name": "stdout",
     "output_type": "stream",
     "text": [
      "A healthy option would be to have 0 liters of a sweet sparkling drink.\n"
     ]
    }
   ],
   "source": [
    "typical_cup_volumes = [0] + typical_cup_volumes\n",
    "print(f\"A healthy option would be to have {typical_cup_volumes[0]} liters of a sweet sparkling drink.\")"
   ]
  },
  {
   "cell_type": "markdown",
   "id": "9b326542",
   "metadata": {},
   "source": [
    "As you can see, we can access a value by specifying its index in the square brackets `typical_cup_volumes[0]` (note that it is necessary that there is no space between a name of a variable and a left square bracket). A negative integer would also work as an index – its absolute value specifies a position of an element with respect to the end of the list. We can access specfic elements from these data structures doing *slicing*. The interface for slicing is the same square brackets as for selecting one elements, but with specific contents inside it: `[start:end:step]`. Note that it is not necessary to specify all of them."
   ]
  },
  {
   "cell_type": "code",
   "execution_count": 3,
   "id": "ea3abbc0",
   "metadata": {
    "scrolled": true
   },
   "outputs": [
    {
     "name": "stdout",
     "output_type": "stream",
     "text": [
      "But I still sometimes drink 0.500 of this sweet drink 😅\n",
      "These are addresses in reverse order: Balmes, 132-134; Passeig Pujades, 1; Doctor Aiguader, 80; Carrer de la Mercè, 12; Roc Boronat, 138; Ramon Trias Fargas, 25-27\n",
      "IDs of the first two clients: range(0, 2)\n"
     ]
    }
   ],
   "source": [
    "print(\"But I still sometimes drink {:.3f}\".format(typical_cup_volumes[-1]),\n",
    "      \"of this sweet drink \\U0001F605\")\n",
    "\n",
    "clients_addresses_reverted = clients_addresses[::-1]\n",
    "print(\"These are addresses in reverse order:\", \"; \".join(clients_addresses_reverted))\n",
    "\n",
    "print(\"IDs of the first two clients:\", clients_ids[:2])  # note that you get a very \n",
    "                                                         # specific variable"
   ]
  },
  {
   "cell_type": "markdown",
   "id": "7d98bd69",
   "metadata": {},
   "source": [
    "We can change values of lists by using an assignment expression of the following form:  \n",
    "`list_identifier[index | slice] = new_value`\n",
    "\n",
    "Note that if you provide ind(-ex / -ices) then you get an `IndexError`"
   ]
  },
  {
   "cell_type": "markdown",
   "id": "f5c5a01c",
   "metadata": {},
   "source": [
    "The main difference between a list and a tuple is that the former is *mutable* and the latter is *immutable*. It means that we can freely change values of elements in a list, but not in a tuple."
   ]
  },
  {
   "cell_type": "code",
   "execution_count": null,
   "id": "07e75978",
   "metadata": {},
   "outputs": [],
   "source": [
    "# try to change the first element of typical_cup_volumes to 0.180\n",
    "\n",
    "\n",
    "# now try to change any of the entries of clients_addresses\n"
   ]
  },
  {
   "cell_type": "markdown",
   "id": "b263776f",
   "metadata": {},
   "source": [
    "Note that Python considers several identifiers separated with commas as a tuple. This allows us to use an elegant expression when we work with several variables at the same time. For example, a basic computer science problem of swapping values of two variables can be done simply like that: "
   ]
  },
  {
   "cell_type": "code",
   "execution_count": 4,
   "id": "4952ffa0",
   "metadata": {},
   "outputs": [
    {
     "name": "stdout",
     "output_type": "stream",
     "text": [
      "2 1\n"
     ]
    }
   ],
   "source": [
    "value_1 = 1\n",
    "value_2 = 2\n",
    "\n",
    "value_1, value_2 = value_2, value_1\n",
    "\n",
    "print(value_1, value_2)"
   ]
  },
  {
   "cell_type": "markdown",
   "id": "de94a8a3",
   "metadata": {},
   "source": [
    "In addition, tuples are useful because they exhibit *destructuring*. This is what you typically use when you need to retrieve values from tuples to create desired variables or reassign values of already created ones.\n",
    "\n",
    "Suppose that the following user information comes to you in a tuple: username, user id, balance. You can use tuple distructuring to retrieve the elemets separately."
   ]
  },
  {
   "cell_type": "code",
   "execution_count": 5,
   "id": "e321564a",
   "metadata": {},
   "outputs": [
    {
     "name": "stdout",
     "output_type": "stream",
     "text": [
      "User mfedotov with id 123 has 50.1 on their balance.\n",
      "User mfedotov with id 123 has 50.1 on their balance.\n"
     ]
    }
   ],
   "source": [
    "user_info = ('mfedotov', '123', 50.1)\n",
    "user_name, user_id, user_balance = user_info\n",
    "print(f\"User {user_name} with id {user_id} has {user_balance} on their balance.\")\n",
    "\n",
    "# note that if you can use a \"plug\" if you do not need some of the elements like this\n",
    "\n",
    "_, user_id, user_balance = user_info\n",
    "print(f\"User {_} with id {user_id} has {user_balance} on their balance.\")\n",
    "\n",
    "# note that this \"plug\" is still a variable, \"_\" is also a valid identifier of a variable."
   ]
  },
  {
   "cell_type": "markdown",
   "id": "02b808fd",
   "metadata": {},
   "source": [
    "In addition, tuple destructuring is used implicitly when you write a `for` loop where you iterate through a collection which elements contain several values."
   ]
  },
  {
   "cell_type": "markdown",
   "id": "c92c2431",
   "metadata": {},
   "source": [
    "Note that `list`, `tuple` and `range` are data types, data structures, and classes in Python. So, they have some *methods* that are associated with them.\n",
    "\n",
    "For example, that is how you can implement a queue in Python. (*comment: to fully implement a \"queue\" data structure, you would write a specific class Queue with methods enqueue and dequeue, this cell below shows you a simplified example*)"
   ]
  },
  {
   "cell_type": "code",
   "execution_count": 6,
   "id": "cf0bab42",
   "metadata": {},
   "outputs": [
    {
     "data": {
      "text/plain": [
       "['Janine', 'John', 'Anastasia', 'Alice']"
      ]
     },
     "execution_count": 6,
     "metadata": {},
     "output_type": "execute_result"
    }
   ],
   "source": [
    "queue = [\"Bob\", \"Janine\", \"John\", \"Anastasia\"]\n",
    "queue.append(\"Alice\")  # enqueuing\n",
    "queue.pop(0)  # dequeuing\n",
    "queue"
   ]
  },
  {
   "cell_type": "markdown",
   "id": "27a53c89",
   "metadata": {},
   "source": [
    "## For loops"
   ]
  },
  {
   "cell_type": "markdown",
   "id": "6e2a773c",
   "metadata": {},
   "source": [
    "To really make use of the sequence data structures, we have *loops* at our disposal. There are two types of loops in Python: `for` and `while`. We start with the former ones as they are used in list comprehensions (critically useful tool).\n",
    "\n",
    "Below you can find an example of a simple for loop:"
   ]
  },
  {
   "cell_type": "code",
   "execution_count": 7,
   "id": "dc0c4189",
   "metadata": {},
   "outputs": [
    {
     "name": "stdout",
     "output_type": "stream",
     "text": [
      "There are 0.0 calories in 0 ml. of the drink\n",
      "There are 66.6 calories in 180 ml. of the drink\n",
      "There are 122.1 calories in 330 ml. of the drink\n",
      "There are 185.0 calories in 500 ml. of the drink\n",
      "There are 370.0 calories in 1000 ml. of the drink\n"
     ]
    }
   ],
   "source": [
    "kilocalories_drink = 37\n",
    "\n",
    "kilocalories_portions = []\n",
    "typical_cup_volumes = [0, 0.18, 0.33, 0.5, 1]\n",
    "\n",
    "for volume in typical_cup_volumes:\n",
    "    calories = volume * 10 * kilocalories_drink\n",
    "    kilocalories_portions.append(calories)\n",
    "    print(f\"There are {calories:.1f} calories in {volume * 1000:n} ml. of the drink\")"
   ]
  },
  {
   "cell_type": "markdown",
   "id": "45a024d6",
   "metadata": {},
   "source": [
    "The basic contents of a for loop are:\n",
    "* A keyword `for`\n",
    "* An arbitrary identifier for a single element at each iteration (here it's `volume`)\n",
    "* A keyword `in` which indicates that at each iteration we take on element of an iterable object that we specify right after.\n",
    "* An identifier of an iterable which we want to loop through (here it's `typical_cup_volumes`) which is followed by `:`.\n",
    "* Then there goes a body of the loop. Do not forget about correct indentation."
   ]
  },
  {
   "cell_type": "markdown",
   "id": "4b4aef19",
   "metadata": {},
   "source": [
    "### Break and continue\n",
    "\n",
    "There are two keywords that will help you to work with for loops: `break` and `continue`.\n",
    "\n",
    "* `break` stops the loop right at a place it was reached.\n",
    "* `continue` makes the loop to stop the current iteration without executing any code further and moves to the next iteration."
   ]
  },
  {
   "cell_type": "markdown",
   "id": "7f392a68",
   "metadata": {},
   "source": [
    "Suppose that you want to compute calories for positive portions only. In addition, you do not want to calculate calories for portions greater that 330 ml. Then you would use the following construction:"
   ]
  },
  {
   "cell_type": "code",
   "execution_count": 8,
   "id": "8d4e5af5",
   "metadata": {},
   "outputs": [
    {
     "name": "stdout",
     "output_type": "stream",
     "text": [
      "There are 66.6 calories in 180 ml. of the drink\n",
      "There are 122.1 calories in 330 ml. of the drink\n"
     ]
    }
   ],
   "source": [
    "kilocalories_portions = []\n",
    "\n",
    "# typically, for this kind of problems you would ensure that the list is sorted\n",
    "typical_cup_volumes = sorted(typical_cup_volumes)                                                   \n",
    "                                                   \n",
    "for volume in typical_cup_volumes:\n",
    "    if 0 < volume <= 0.33:\n",
    "        calories = volume * 10 * kilocalories_drink\n",
    "        kilocalories_portions.append(calories)\n",
    "        print(f\"There are {calories:.1f} calories in {volume * 1000:n} ml. of the drink\")\n",
    "    elif volume > 0.33:\n",
    "        break\n",
    "    else:\n",
    "        continue"
   ]
  },
  {
   "cell_type": "markdown",
   "id": "de2b17f8",
   "metadata": {},
   "source": [
    "## While loops"
   ]
  },
  {
   "cell_type": "markdown",
   "id": "22346e43",
   "metadata": {},
   "source": [
    "`While` loops are another way to implement a repeated protocol of action. It is mostly used when there is a sort of stopping criterion to be satisfied after the end of the loop. \n",
    "\n",
    "Let's try to imprement a bisection root finding algorithm using a while loop."
   ]
  },
  {
   "cell_type": "code",
   "execution_count": 9,
   "id": "13ade234",
   "metadata": {},
   "outputs": [
    {
     "data": {
      "text/plain": [
       "5.0"
      ]
     },
     "execution_count": 9,
     "metadata": {},
     "output_type": "execute_result"
    }
   ],
   "source": [
    "from types import FunctionType\n",
    "from typing import Union\n",
    "\n",
    "def root_finding_bisection(f: FunctionType, \n",
    "                           left_endpoint: Union[int, float], \n",
    "                           right_endpoint: Union[int, float], \n",
    "                           maxit: int = 1000) -> float:\n",
    "    if left_endpoint > right_endpoint:\n",
    "        raise ValueError('Left enpoint must have less value that the right endpoint.')\n",
    "    f_left = f(left_endpoint) \n",
    "    f_right = f(right_endpoint)\n",
    "    if f_left * f_right >= 0:\n",
    "        raise ValueError('The function values evaluated at the left and right endpoints' \n",
    "                         'must be of different signs.')\n",
    "    iteration = 0 \n",
    "    while iteration < maxit and (iteration == 0 or f_middle != 0):\n",
    "        middle = (left_endpoint + right_endpoint) / 2\n",
    "        f_middle = f(middle)\n",
    "        if f_left * f_middle > 0:\n",
    "            left_endpoint = middle\n",
    "            f_left = f(left_endpoint)\n",
    "        else:\n",
    "            right_endpoint = middle\n",
    "            f_right = f(right_endpoint)\n",
    "        iteration += 1\n",
    "    return middle\n",
    "    \n",
    "        \n",
    "def f(x: Union[int, float]) -> float:\n",
    "    return (x - 5) * (x + 3)\n",
    "\n",
    "root_finding_bisection(f, -1, 10)"
   ]
  },
  {
   "cell_type": "markdown",
   "id": "7327518f",
   "metadata": {},
   "source": [
    "Note that it is still recommended to prioritize use of `for` loops rather than `while` loops if possible."
   ]
  },
  {
   "cell_type": "markdown",
   "id": "370882e2",
   "metadata": {},
   "source": [
    "## List comprehensions\n",
    "\n",
    "There is also a concept of list comprehensions that allows to utilize `for` loop functionality  in a concise way embedding it in a list display. Of course, `for` loops and list comprehensions do not serve for same purposes. However, for this specific example above, we could do the same thing using a list comprehension.\n",
    "\n",
    "### Mapping"
   ]
  },
  {
   "cell_type": "code",
   "execution_count": 10,
   "id": "72dba41a",
   "metadata": {},
   "outputs": [
    {
     "name": "stdout",
     "output_type": "stream",
     "text": [
      "0 | 66.6 | 122.10000000000001 | 185.0 | 370\n"
     ]
    }
   ],
   "source": [
    "kilocalories_drink = 37  # typical value per 100 ml of a sweet sparkling drink\n",
    "kilocalories_portions = [volume * 10 * kilocalories_drink for volume in typical_cup_volumes]\n",
    "print(*kilocalories_portions, sep=' | ')"
   ]
  },
  {
   "cell_type": "markdown",
   "id": "5f042fef",
   "metadata": {},
   "source": [
    "This list comprehension implements *mapping*, i.e. we apply a specific action to each element of the list.\n",
    "\n",
    "We could define a function and do it the same way."
   ]
  },
  {
   "cell_type": "code",
   "execution_count": 11,
   "id": "f847f414",
   "metadata": {},
   "outputs": [
    {
     "name": "stdout",
     "output_type": "stream",
     "text": [
      "0 | 66.6 | 122.10000000000001 | 185.0 | 370\n"
     ]
    }
   ],
   "source": [
    "def kcal_portion(volume: int | float, kcal_drink: int | float) -> float:\n",
    "    \"\"\"\n",
    "        Computes kilocalories per portion of drink.\n",
    "        \n",
    "        arguments: \n",
    "            - volume:     a volume of the drink in liters.\n",
    "            - kcal_drink: kcal in 100 ml. of the drink\n",
    "        \n",
    "        returns:\n",
    "            A value of kcal. per specified portion.\n",
    "    \"\"\"\n",
    "    return volume * 10 * kcal_drink\n",
    "\n",
    "\n",
    "kilocalories_portions = [kcal_portion(volume, kilocalories_drink) for volume in typical_cup_volumes]\n",
    "print(*kilocalories_portions, sep=' | ')"
   ]
  },
  {
   "cell_type": "code",
   "execution_count": 12,
   "id": "144d41fa",
   "metadata": {},
   "outputs": [
    {
     "name": "stdout",
     "output_type": "stream",
     "text": [
      "Help on function kcal_portion in module __main__:\n",
      "\n",
      "kcal_portion(volume: int | float, kcal_drink: int | float) -> float\n",
      "    Computes kilocalories per portion of drink.\n",
      "    \n",
      "    arguments: \n",
      "        - volume:     a volume of the drink in liters.\n",
      "        - kcal_drink: kcal in 100 ml. of the drink\n",
      "    \n",
      "    returns:\n",
      "        A value of kcal. per specified portion.\n",
      "\n"
     ]
    }
   ],
   "source": [
    "help(kcal_portion)"
   ]
  },
  {
   "cell_type": "markdown",
   "id": "6558e0d5",
   "metadata": {},
   "source": [
    "Note that the type that you specify in a function definition are not enforced. Using `|` is a relatively new feature which can be unavailable for some older versions of Python. For older versions of Python consider using `typing` package. Note that in code of many sophisticated packages `typing` package is still used for this purpose."
   ]
  },
  {
   "cell_type": "code",
   "execution_count": 13,
   "id": "21c592bb",
   "metadata": {},
   "outputs": [
    {
     "name": "stdout",
     "output_type": "stream",
     "text": [
      "Help on function kcal_portion in module __main__:\n",
      "\n",
      "kcal_portion(volume: Union[int, float], kcal_drink: Union[int, float]) -> float\n",
      "    Computes kilocalories per portion of drink.\n",
      "    \n",
      "    arguments: \n",
      "        - volume:     a volume of the drink in liters.\n",
      "        - kcal_drink: kcal in 100 ml. of the drink\n",
      "    \n",
      "    returns:\n",
      "        A value of kcal. per specified portion.\n",
      "\n"
     ]
    }
   ],
   "source": [
    "from typing import Union\n",
    "\n",
    "def kcal_portion(volume: Union[int, float], kcal_drink: Union[int, float]) -> float:\n",
    "    \"\"\"\n",
    "        Computes kilocalories per portion of drink.\n",
    "        \n",
    "        arguments: \n",
    "            - volume:     a volume of the drink in liters.\n",
    "            - kcal_drink: kcal in 100 ml. of the drink\n",
    "        \n",
    "        returns:\n",
    "            A value of kcal. per specified portion.\n",
    "    \"\"\"\n",
    "    return volume * 10 * kcal_drink\n",
    "\n",
    "help(kcal_portion)"
   ]
  },
  {
   "cell_type": "markdown",
   "id": "90917c35",
   "metadata": {},
   "source": [
    "### Filtering\n",
    "\n",
    "There is also a concept of *filtering* which can be implemented with a list comprehension.\n",
    "\n",
    "Suppose that we want to select only non-zero volumes from the list of volumes. Then we can use the following comprehension:"
   ]
  },
  {
   "cell_type": "code",
   "execution_count": 14,
   "id": "ad08dc1f",
   "metadata": {},
   "outputs": [
    {
     "name": "stdout",
     "output_type": "stream",
     "text": [
      "[0, 0.18, 0.33, 0.5, 1]\n",
      "Positive volumes are: 0.18 0.33 0.5 1\n"
     ]
    }
   ],
   "source": [
    "typical_cup_volumes[0] = 0\n",
    "print(typical_cup_volumes)\n",
    "\n",
    "volumes_positive = [volume for volume in typical_cup_volumes if volume > 0]\n",
    "print(\"Positive volumes are:\", *volumes_positive)"
   ]
  },
  {
   "cell_type": "markdown",
   "id": "a577ce1a",
   "metadata": {},
   "source": [
    "We can also combine filtering with mapping. It is also allowed to use `else` section."
   ]
  },
  {
   "cell_type": "code",
   "execution_count": 15,
   "id": "d62c8a0d",
   "metadata": {},
   "outputs": [
    {
     "name": "stdout",
     "output_type": "stream",
     "text": [
      "None | 66.6 | 122.10000000000001 | 185.0 | 370\n",
      "0 | 66.6 | 122.10000000000001 | 185.0 | 370\n"
     ]
    }
   ],
   "source": [
    "kilocalories_portions = [kcal_portion(volume, kilocalories_drink) if volume > 0 else None \n",
    "                         for volume in typical_cup_volumes]\n",
    "print(*kilocalories_portions, sep=' | ')\n",
    "\n",
    "kilocalories_portions_replacena = [value if value is not None else 0 for value in kilocalories_portions]\n",
    "print(*kilocalories_portions_replacena, sep=' | ')"
   ]
  },
  {
   "cell_type": "markdown",
   "id": "f8e4df2e",
   "metadata": {},
   "source": [
    "### Reducing\n",
    "\n",
    "Another helpful concept is *reducing*. That is, we can retrieve some useful information (e.g. some statistic) from a list, i.e. we reduce it to one particular number.\n",
    "\n",
    "Let's see how we can take a maximum element from the list above."
   ]
  },
  {
   "cell_type": "code",
   "execution_count": 16,
   "id": "6224f5f1",
   "metadata": {},
   "outputs": [
    {
     "data": {
      "text/plain": [
       "370"
      ]
     },
     "execution_count": 16,
     "metadata": {},
     "output_type": "execute_result"
    }
   ],
   "source": [
    "# For a moment, suppose that the first element of the typical_cup_volumes list is None\n",
    "typical_cup_volumes[0] = None\n",
    "\n",
    "def get_max_safe(_list: list):\n",
    "    _list_dropna = [elem for elem in _list \n",
    "                    if elem is not None and isinstance(elem, (int, float, complex)) and ~isinstance(elem, bool)]\n",
    "    return max(_list_dropna)\n",
    "\n",
    "get_max_safe(kilocalories_portions)"
   ]
  },
  {
   "cell_type": "markdown",
   "id": "caa30a3d",
   "metadata": {},
   "source": [
    "## Dictionaries\n",
    "\n",
    "Dictionaries can be considered as a collection *key* / *value* pairs. Note that only a *hashable* object can be a key. For example, lists are specified as \"unhashable\"."
   ]
  },
  {
   "cell_type": "code",
   "execution_count": 17,
   "id": "1785420e",
   "metadata": {},
   "outputs": [
    {
     "name": "stdout",
     "output_type": "stream",
     "text": [
      "The keys in the dictionary can be accessed through `dict.keys(...)` method: dict_keys(['name', 'score'])\n",
      "The values in the dictionary can be accessed through `dict.values(...)` method: dict_values(['Foo', 55]) \n",
      "\n",
      "The name of the user is Foo.\n",
      "The score of the user is 55.\n"
     ]
    }
   ],
   "source": [
    "user = {'name': 'Foo', 'score': 55}\n",
    "\n",
    "print(\"The keys in the dictionary can be accessed through `dict.keys(...)` method:\", user.keys())\n",
    "print(\"The values in the dictionary can be accessed through `dict.values(...)` method:\", user.values(), \"\\n\")\n",
    "\n",
    "# You can also access the \n",
    "for key, value in user.items():\n",
    "    print(\"The %s of the user is %s.\" % (key, value))"
   ]
  },
  {
   "cell_type": "markdown",
   "id": "994c6556",
   "metadata": {},
   "source": [
    "You can access a value by its key in the following way:"
   ]
  },
  {
   "cell_type": "code",
   "execution_count": 18,
   "id": "ceab38d8",
   "metadata": {},
   "outputs": [
    {
     "name": "stdout",
     "output_type": "stream",
     "text": [
      "Specify the key in the square brackets: Foo\n",
      "You can also use the `get` method: Foo\n"
     ]
    }
   ],
   "source": [
    "print(\"Specify the key in the square brackets:\", user['name'])\n",
    "print(\"You can also use the `get` method:\", user.get('name'))"
   ]
  },
  {
   "cell_type": "markdown",
   "id": "1d333501",
   "metadata": {},
   "source": [
    "You can also change a value or create a new entry of a dictionary."
   ]
  },
  {
   "cell_type": "code",
   "execution_count": 19,
   "id": "3d403596",
   "metadata": {},
   "outputs": [
    {
     "data": {
      "text/plain": [
       "{'name': 'Gru', 'score': 55, 'time_spent': 20}"
      ]
     },
     "execution_count": 19,
     "metadata": {},
     "output_type": "execute_result"
    }
   ],
   "source": [
    "user['name'] = 'Gru'\n",
    "user['time_spent'] = 20\n",
    "user"
   ]
  },
  {
   "cell_type": "markdown",
   "id": "cd2d0891",
   "metadata": {},
   "source": [
    "You can feel the importance of dictionaries when working with data. For example, some data can be specified as a list of dictionaries like this:"
   ]
  },
  {
   "cell_type": "code",
   "execution_count": 20,
   "id": "30edc531",
   "metadata": {},
   "outputs": [],
   "source": [
    "users = [{'name': 'Foo', 'score': 55}, {'name': 'Lu', 'score': 56}]"
   ]
  },
  {
   "cell_type": "markdown",
   "id": "c46a2bb4",
   "metadata": {},
   "source": [
    "Or data can also come in a nested dictionary format as well. You typically incounter this type of data when parsing websites."
   ]
  },
  {
   "cell_type": "markdown",
   "id": "8b2269a6",
   "metadata": {},
   "source": [
    "## Set types: sets, frozensets\n",
    "\n",
    "There are also set types at your disposal. They embody pretty effective data structures that store unordered collections. Sets are typically used when checking whether a value of a variable belongs to a specific set of values, or when set operations (like intersection, union, set difference and so on)."
   ]
  },
  {
   "cell_type": "code",
   "execution_count": 23,
   "id": "cef25a3b",
   "metadata": {},
   "outputs": [
    {
     "data": {
      "text/plain": [
       "{'id': 1, 'account': 1337, 'balance': 550}"
      ]
     },
     "execution_count": 23,
     "metadata": {},
     "output_type": "execute_result"
    }
   ],
   "source": [
    "filtering_parameters = {\"id\", \"account\", \"balance\"}\n",
    "\n",
    "user_data = {\"id\": 1, \"name\": \"foo\", \"account\": 1337, \"date_open\": \"21/12/21\", \"balance\": 550}\n",
    "user_data_filtered = {}  # Note that this line creates an empty DICTIONARY, not a set. \n",
    "                         # To create an empty set use `set()`\n",
    "\n",
    "for parameter in user_data:  # note that by default such a loop iterates over the dictionary keys.\n",
    "    if parameter in filtering_parameters:\n",
    "        user_data_filtered[parameter] = user_data.get(parameter)\n",
    "        \n",
    "user_data_filtered"
   ]
  },
  {
   "cell_type": "markdown",
   "id": "b0086adc",
   "metadata": {},
   "source": [
    "The logical expression `parameter in filtering_parameters` represents a containment test. It can also be done in that way with other collections, like `lists`, `tuples`, `ranges`, even `strings`.\n",
    "\n",
    "Note that sets contain only unique values, i.e. if you would like to convert your `list` using `set(...)` function, then it gets rid of all duplicates in the resulting list."
   ]
  },
  {
   "cell_type": "code",
   "execution_count": 24,
   "id": "a9e596fa",
   "metadata": {},
   "outputs": [
    {
     "name": "stdout",
     "output_type": "stream",
     "text": [
      "Unique occupations are: software engineer, data analyst, electrical engineer\n",
      "Number of unique occupations in the data is: 3\n"
     ]
    }
   ],
   "source": [
    "# Suppose that we have some data on occupations of individuals\n",
    "data = [{\"name\": \"Foo\", \"occupation\": \"data analyst\"}, {\"name\": \"Lu\", \"occupation\": \"software engineer\"}, \n",
    "        {\"name\": \"Bro\", \"occupation\": \"data analyst\"}, {\"name\": \"Gru\", \"occupation\": \"electrical engineer\"}]\n",
    "\n",
    "n_individuals = len(data)\n",
    "occupations = [None] * len(data)\n",
    "\n",
    "for i in range(n_individuals):\n",
    "    occupations[i] = data[i][\"occupation\"]\n",
    "    \n",
    "unique_occupations = set(occupations)\n",
    "\n",
    "print(\"Unique occupations are:\", ', '.join(unique_occupations)) \n",
    "print(\"Number of unique occupations in the data is:\", len(unique_occupations))"
   ]
  },
  {
   "cell_type": "markdown",
   "id": "d7ba708c",
   "metadata": {},
   "source": [
    "Examples of set operations are:"
   ]
  },
  {
   "cell_type": "code",
   "execution_count": 25,
   "id": "38901819",
   "metadata": {},
   "outputs": [
    {
     "name": "stdout",
     "output_type": "stream",
     "text": [
      "Difference: {'Foo'}\n",
      "Intersection: {'Lu', 'Gru'}\n",
      "Union: {'Lu', 'Bro', 'Gru', 'Foo'}\n",
      "Symmetric difference: {'Bro', 'Foo'}\n"
     ]
    }
   ],
   "source": [
    "users_donating = [\"Foo\", \"Lu\", \"Gru\"]  # suppose that these are regularly donating users of your application\n",
    "users_active = [\"Bro\", \"Lu\", \"Gru\"]  # these are the most active users\n",
    "\n",
    "print(\"Difference:\", set(users_donating) - set(users_active))  # note that order matters\n",
    "print(\"Intersection:\", set(users_donating) & set(users_active))\n",
    "print(\"Union:\", set(users_donating) | set(users_active)) \n",
    "print(\"Symmetric difference:\", set(users_donating) ^ set(users_active)) "
   ]
  },
  {
   "cell_type": "markdown",
   "id": "0a92d95e",
   "metadata": {},
   "source": [
    "Note that you can modify a set."
   ]
  },
  {
   "cell_type": "code",
   "execution_count": 26,
   "id": "1040dc20",
   "metadata": {},
   "outputs": [
    {
     "data": {
      "text/plain": [
       "{'Bro', 'Foo', 'Gru', 'Lu'}"
      ]
     },
     "execution_count": 26,
     "metadata": {},
     "output_type": "execute_result"
    }
   ],
   "source": [
    "names = {'Gru', 'Foo', 'Lu'}\n",
    "names.add('Bro')\n",
    "names"
   ]
  },
  {
   "cell_type": "markdown",
   "id": "55cb996d",
   "metadata": {},
   "source": [
    "That is why sets are made unhashable in Python (if you use the built-in function `hash(...)`, you get a `TypeError`). You can use a `frozenset` which is an *immutable* and *hashable* version of a set."
   ]
  },
  {
   "cell_type": "code",
   "execution_count": 27,
   "id": "b736ed9c",
   "metadata": {},
   "outputs": [
    {
     "data": {
      "text/plain": [
       "frozenset({'Foo', 'Gru', 'Lu'})"
      ]
     },
     "execution_count": 27,
     "metadata": {},
     "output_type": "execute_result"
    }
   ],
   "source": [
    "names = frozenset(['Gru', 'Foo', 'Lu'])\n",
    "names"
   ]
  }
 ],
 "metadata": {
  "kernelspec": {
   "display_name": "Python 3.8.9 64-bit",
   "language": "python",
   "name": "python3"
  },
  "language_info": {
   "codemirror_mode": {
    "name": "ipython",
    "version": 3
   },
   "file_extension": ".py",
   "mimetype": "text/x-python",
   "name": "python",
   "nbconvert_exporter": "python",
   "pygments_lexer": "ipython3",
   "version": "3.8.9"
  },
  "vscode": {
   "interpreter": {
    "hash": "31f2aee4e71d21fbe5cf8b01ff0e069b9275f58929596ceb00d14d90e3e16cd6"
   }
  }
 },
 "nbformat": 4,
 "nbformat_minor": 5
}
