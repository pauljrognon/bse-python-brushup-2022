{
 "cells": [
  {
   "cell_type": "markdown",
   "id": "ce2f59e2",
   "metadata": {},
   "source": [
    "**Introductory and intermediate computing for Data Science [Barcelona School of Economics]**\n",
    "\n",
    "`Instructor:` Maxim Fedotov  \n",
    "`Program:` M.Sc. in Data Science Methodology"
   ]
  },
  {
   "cell_type": "markdown",
   "id": "6e6cb77a",
   "metadata": {},
   "source": [
    "# Class 1."
   ]
  },
  {
   "cell_type": "markdown",
   "id": "65f77e99",
   "metadata": {},
   "source": [
    "# Variables\n",
    "\n",
    "A variable in Python has a *name* and points to an associated *memory cell* where some *value* is stored. So, to define a variable, we just need to assign a value (more generally -- expression) to a chosen name by using a binary operator `=`. That is, the construction is: `name = expression`. The name of a variable is also called an *identifier*.\n",
    "\n",
    "To see an example, consider a problem of computing an area of a rectangle with sides 3 and 5."
   ]
  },
  {
   "cell_type": "code",
   "execution_count": null,
   "id": "cf7d5967",
   "metadata": {},
   "outputs": [],
   "source": [
    "length = 3\n",
    "height = 5.0"
   ]
  },
  {
   "cell_type": "markdown",
   "id": "061d7e44",
   "metadata": {},
   "source": [
    "There are a couple simple ways to display a value of a variable. For instance, you can use function `print(...)` to print the value."
   ]
  },
  {
   "cell_type": "code",
   "execution_count": 38,
   "id": "ff55cc5b",
   "metadata": {},
   "outputs": [],
   "source": [
    "# try to print a value of the 'length' variable\n"
   ]
  },
  {
   "cell_type": "markdown",
   "id": "0f220d80",
   "metadata": {},
   "source": [
    "In a Jupyter Python notebook you can simply type a name of a variable in a cell and run it. This displays the corresponding value below."
   ]
  },
  {
   "cell_type": "code",
   "execution_count": 39,
   "id": "81fafa99",
   "metadata": {},
   "outputs": [],
   "source": [
    "# try to display a value of the 'height' variable\n"
   ]
  },
  {
   "cell_type": "markdown",
   "id": "a36232f3",
   "metadata": {},
   "source": [
    "We can learn a numerical address in the memory to which a variable name points to via function `id(...)`. You can also get a hexadecimal representation of this addres by applying function `hex(...)`."
   ]
  },
  {
   "cell_type": "code",
   "execution_count": 40,
   "id": "7b0bbd4b",
   "metadata": {
    "scrolled": true
   },
   "outputs": [
    {
     "name": "stdout",
     "output_type": "stream",
     "text": [
      "A numeric ID of a memory cell to which the `length` variable points to: 4364599600\n",
      "A HEX representation of this address is: 0x104268130\n"
     ]
    }
   ],
   "source": [
    "print(\"A numeric ID of a memory cell to which the `length` variable points to:\", id(length))\n",
    "print(\"A HEX representation of this address is:\", hex(id(length)))"
   ]
  },
  {
   "cell_type": "markdown",
   "id": "e79c899d",
   "metadata": {},
   "source": [
    "Note that if you create another variable with the same value, it will have the same id:"
   ]
  },
  {
   "cell_type": "code",
   "execution_count": 41,
   "id": "d0cc9d47",
   "metadata": {},
   "outputs": [
    {
     "name": "stdout",
     "output_type": "stream",
     "text": [
      "For the `length` variable, the id is: 4364599600\n",
      "For the `another_length`: 4364599600\n"
     ]
    }
   ],
   "source": [
    "another_length = 3\n",
    "print(f\"For the `length` variable, the id is: {id(length)}\", \n",
    "      f\"For the `another_length`: {id(another_length)}\", \n",
    "      sep=\"\\n\")"
   ]
  },
  {
   "cell_type": "markdown",
   "id": "1c959f3a",
   "metadata": {},
   "source": [
    "Note, that it is possible to *overwrite* a variable, i.e. replace a value that is assigned to a specific name.  "
   ]
  },
  {
   "cell_type": "code",
   "execution_count": 42,
   "id": "9fb9819c",
   "metadata": {},
   "outputs": [
    {
     "name": "stdout",
     "output_type": "stream",
     "text": [
      "6\n"
     ]
    }
   ],
   "source": [
    "length = 6  # note that it could be also a value of a different type, Python is flexible in this sense.\n",
    "print(length)"
   ]
  },
  {
   "cell_type": "markdown",
   "id": "f77d2c23",
   "metadata": {},
   "source": [
    "### Naming a variable\n",
    "\n",
    "There is a conventional way to spell a name to a variable which is called: *snake_case*. Which means that if a name is a combination of several words then they are split by `_`. Preferably, letters in a name should be lower case, although it is not necessary. Note that names (or identifiers) in Python are case-sensitive. Also, a variable name cannot start with a number.  \n",
    "\n",
    "Generally, any name that you introduce in a program should reflect the nature behind the named entity. So, just try to incorporate a purpose of an entity in its name. For example, `car_speed = 50`. From this example, you can also see that it can be hard to understand a code without any additional comments. So you can comment your code using hash character `#`, like this:\n",
    "\n",
    "`car_speed = 50  # note that everywhere in the program speed is measured in km/h`. \n",
    "\n",
    "Although, if you name some constant in your program that has a pretty comon name, then non-specific name could also work. For example,\n",
    "\n",
    "`c = 299792458  # speed of light in m/s`."
   ]
  },
  {
   "cell_type": "markdown",
   "id": "7f9afa6f",
   "metadata": {},
   "source": [
    "## Data Types\n",
    "\n",
    "So, to understand what we can do with our variables; we must consider *data types* in Python. Simply, what our variables can be.\n",
    "\n",
    "First, let's consider some very basic *built-in* types you will deal with the most of the time. \n",
    "\n",
    "* Boolean values: \n",
    "    * <span style=\"color:green\"> bool </span> (boolean) - is a binary variable, either `True` or `False`.\n",
    "* Numeric types: \n",
    "    * <span style=\"color:green\"> int </span> (integer)\n",
    "    * <span style=\"color:green\"> float </span> (floating-point number) - a decimal representation of a real number.\n",
    "* Text sequence type: <span style=\"color:green\"> str </span> (string) \n",
    "* The null object type: <span style=\"color:green\"> None </span>"
   ]
  },
  {
   "cell_type": "code",
   "execution_count": 16,
   "id": "fea47fa0",
   "metadata": {},
   "outputs": [],
   "source": [
    "my_boolean = True\n",
    "\n",
    "my_integer = 10\n",
    "my_float = 5.\n",
    "\n",
    "my_string = \"hey there\"  # You can also use single-quotes \"'\".\n",
    "\n",
    "my_no_value_object = None"
   ]
  },
  {
   "cell_type": "markdown",
   "id": "593686f1",
   "metadata": {},
   "source": [
    "You can find out a type of a variable using function `type(...)`."
   ]
  },
  {
   "cell_type": "code",
   "execution_count": 15,
   "id": "65a76f03",
   "metadata": {},
   "outputs": [
    {
     "data": {
      "text/plain": [
       "int"
      ]
     },
     "execution_count": 15,
     "metadata": {},
     "output_type": "execute_result"
    }
   ],
   "source": [
    "type(length)"
   ]
  },
  {
   "cell_type": "markdown",
   "id": "72e422ac",
   "metadata": {},
   "source": [
    "### Other types\n",
    "\n",
    "There are many other data types in Python 3. We won't go through other built-in types in detail right now, but we will consider a significant part of them during the course. \n",
    "\n",
    "If you want to go in very depth of the language, it is a fine practice to look through documentation on the aspects you need. For example, have a look at [built-in types](https://docs.python.org/3/library/stdtypes.html#) page in the online Python documentation, but do not be too enthusiastic about it at the time. The documentation is quite heavy and will get more understandable as you accumulate experience with the language. "
   ]
  },
  {
   "attachments": {
    "image.png": {
     "image/png": "[encoded data removed]"
    }
   },
   "cell_type": "markdown",
   "id": "d18da8bd",
   "metadata": {},
   "source": [
    "## Introduction to expressions\n",
    "\n",
    "In this section we will learn what we can do with variables. An *expression* is a composite element of the program which consists of other \"smaller\" various lexical elements (including identifiers, operations and so on) united together in a specific syntactic manner. Simply, we need expressions to \"express a value\". Do not think too much about the definition right now, it is only to draw an analogy with a language that we speak.\n",
    "\n",
    "### Operations\n",
    "\n",
    "An *operation* is an example of *expression* in Python. You might have seen most of the *operators* that exist in Python before. The complete list of operators in Python is:\n",
    "\n",
    "![image.png](attachment:image.png)\n",
    "Source: [Python documentation](https://docs.python.org/3/reference/lexical_analysis.html#operators-1).\n",
    "\n",
    "Today we are going to consider some of them.\n",
    "\n",
    "Despite the operators might seem familiar, they should be treated with care because: \n",
    "\n",
    "(1) Some opertors are not applicable to some types, e.g. the expression `1 + \"add me\"` is wrong. If you use an incorrect operation you will get `TypeError: unsupported operand type(s) ...`.\n",
    "\n",
    "(2) Effects of some operators differ depending on the types of the arguments, e.g. `2 * 2` gives `4`, try what `\"double\" * 2` returns."
   ]
  },
  {
   "cell_type": "code",
   "execution_count": 21,
   "id": "dd27ad81",
   "metadata": {},
   "outputs": [],
   "source": [
    "# try here\n"
   ]
  },
  {
   "cell_type": "markdown",
   "id": "96397b6f",
   "metadata": {},
   "source": [
    "### Arithmetc operations"
   ]
  },
  {
   "cell_type": "markdown",
   "id": "a1b22e21",
   "metadata": {},
   "source": [
    "Writing arithmetic expressions in Python is quite intuitive, especally those with addition, subtraction, multiplication and division of two numeric values. The order of the operations is as in mathematics. As usual, parentheses help to modify it if you want to."
   ]
  },
  {
   "cell_type": "code",
   "execution_count": 34,
   "id": "338146cf",
   "metadata": {},
   "outputs": [
    {
     "name": "stdout",
     "output_type": "stream",
     "text": [
      "8.0\n"
     ]
    }
   ],
   "source": [
    "print(2 * 3 + (5 - 1) / 2 )"
   ]
  },
  {
   "cell_type": "markdown",
   "id": "bad039d5",
   "metadata": {},
   "source": [
    "Let's dwell on some operators that might be not that familiar. \n",
    "\n",
    "The *power operator* in python is `**`. The *integer division* operation `left_operand // right_operand` returns an integer part of the devision of the left operand by the right operand. The *modulo* operation `left_operand % right_operand` returns a reminder of the devision of the left operand by the right operand."
   ]
  },
  {
   "cell_type": "code",
   "execution_count": 47,
   "id": "eb0fbf16",
   "metadata": {},
   "outputs": [],
   "source": [
    "# print a result of taking 4 to the power of 60:\n",
    "\n",
    "\n",
    "# find an integer part of devision of the previous quantity by 4 and print it:\n",
    "\n",
    "\n",
    "# see what is a reminder of the devision of the previous value by 2:\n",
    "\n",
    "\n",
    "# can you find the answer to the previous queston by using a composite arithmetic expression?\n"
   ]
  },
  {
   "cell_type": "markdown",
   "id": "2bc1fe61",
   "metadata": {},
   "source": [
    "Some of the operations are customizable, which means that they can be programmed for use in the same syntactical manner with obects other than numerical values. You have seen an example before `\"double\" * 2`. So, now we do a short digression introducing what `+` and `*` do with sequence objects (strings is one example of such objects)."
   ]
  },
  {
   "cell_type": "markdown",
   "id": "ebde0db6",
   "metadata": {},
   "source": [
    "#### Specific behavior of summation and multiplication applied to some (text and other) sequence type objects\n",
    "\n",
    "Everything is pretty simple. If the operands are sequence objects (or expressions that give sequence objects) then `+` represents *concatenation*. As of now, we know of only strings from the group of sequence objects. Let's see how concatenation works with them."
   ]
  },
  {
   "cell_type": "code",
   "execution_count": 44,
   "id": "f31dfeef",
   "metadata": {},
   "outputs": [
    {
     "data": {
      "text/plain": [
       "\"I can't live without you --<>-- We are meant to be together\""
      ]
     },
     "execution_count": 44,
     "metadata": {},
     "output_type": "execute_result"
    }
   ],
   "source": [
    "\"I can't live without you --<\" + \">-- We are meant to be together\""
   ]
  },
  {
   "cell_type": "markdown",
   "id": "667d186e",
   "metadata": {},
   "source": [
    "As you can see, Python concatenates strings straightforwardly without adding any space character in between.\n",
    "\n",
    "The multipliaction operator `*` just concatenates the left operand (e.g. a string) with itself as many times as the right operand, `integer`, says minus one (so, effectively we get the original sequence object repeated `integer` times). So, the construction must be `sequence_object * integer`."
   ]
  },
  {
   "cell_type": "code",
   "execution_count": 9,
   "id": "5648cee5",
   "metadata": {},
   "outputs": [
    {
     "data": {
      "text/plain": [
       "'doubledouble'"
      ]
     },
     "execution_count": 9,
     "metadata": {},
     "output_type": "execute_result"
    }
   ],
   "source": [
    "\"double\" * 2"
   ]
  },
  {
   "cell_type": "markdown",
   "id": "c3277449",
   "metadata": {},
   "source": [
    "Later in the course we will also talk about other sequence type objects like lists and tuples that are also subject to these operations.\n",
    "\n",
    "See the examples below:"
   ]
  },
  {
   "cell_type": "code",
   "execution_count": 20,
   "id": "c73788f7",
   "metadata": {},
   "outputs": [
    {
     "data": {
      "text/plain": [
       "[1, 2, 1, 2]"
      ]
     },
     "execution_count": 20,
     "metadata": {},
     "output_type": "execute_result"
    }
   ],
   "source": [
    "[1, 2] * 2"
   ]
  },
  {
   "cell_type": "code",
   "execution_count": 25,
   "id": "a019db22",
   "metadata": {},
   "outputs": [
    {
     "data": {
      "text/plain": [
       "['Y', 'O', 'L', 'O']"
      ]
     },
     "execution_count": 25,
     "metadata": {},
     "output_type": "execute_result"
    }
   ],
   "source": [
    "[\"Y\", \"O\"] + [\"L\", \"O\"]"
   ]
  },
  {
   "cell_type": "code",
   "execution_count": 22,
   "id": "b77e873d",
   "metadata": {},
   "outputs": [
    {
     "data": {
      "text/plain": [
       "(1, 2, 1, 2)"
      ]
     },
     "execution_count": 22,
     "metadata": {},
     "output_type": "execute_result"
    }
   ],
   "source": [
    "(1, 2) * 2"
   ]
  },
  {
   "cell_type": "code",
   "execution_count": 26,
   "id": "0257fb3f",
   "metadata": {},
   "outputs": [
    {
     "data": {
      "text/plain": [
       "('Just', 'the', 'two', 'of', 'us')"
      ]
     },
     "execution_count": 26,
     "metadata": {},
     "output_type": "execute_result"
    }
   ],
   "source": [
    "(\"Just\", \"the\", \"two\") + (\"of\", \"us\")"
   ]
  },
  {
   "cell_type": "markdown",
   "id": "0079e7b0",
   "metadata": {},
   "source": [
    "### Comparisons"
   ]
  },
  {
   "cell_type": "markdown",
   "id": "14e2f2d1",
   "metadata": {},
   "source": [
    "Sometimes we need our program to perform differently depending on different conditions, <a id='taxation-example'> e.g. we could be solving a taxation problem where salaries below 1000 EUR are nontaxable and others are subject to 13% tax (applied only to the amount above 1000).</a> For the purpose of numeric comparison, we have the following operators: `>` (greater), `<` (less), `>=` (greater or equal), `<=` (less or equal), `==` (equal), `!=` (not equal).\n",
    "\n",
    "Try to modify the following short piece of code to check whether the input salary is below 1000:"
   ]
  },
  {
   "cell_type": "code",
   "execution_count": 32,
   "id": "f509fbfb",
   "metadata": {},
   "outputs": [
    {
     "name": "stdout",
     "output_type": "stream",
     "text": [
      "1000\n",
      "The input income is below 1000: False\n"
     ]
    }
   ],
   "source": [
    "salary = int(input())  # input() function here represents a user input from stdin, but it reads it as a string;\n",
    "                       # that is why we convert it to an integer by applying the function int().\n",
    "\n",
    "print(\"The input salary is below 1000:\", ) # fill in a logical expression after the comma"
   ]
  },
  {
   "cell_type": "markdown",
   "id": "2fee0f8f",
   "metadata": {},
   "source": [
    "There are also *identity comparisons*: `is` and `is not`. They will be quite helpful when you process a real data. For example, you can check whether a variable has value or not:"
   ]
  },
  {
   "cell_type": "code",
   "execution_count": 42,
   "id": "72e4244d",
   "metadata": {},
   "outputs": [
    {
     "name": "stdout",
     "output_type": "stream",
     "text": [
      "The variable has a value: True\n"
     ]
    }
   ],
   "source": [
    "variable = 5\n",
    "\n",
    "print(\"The variable has a value:\", variable is not None)"
   ]
  },
  {
   "cell_type": "markdown",
   "id": "b113d5b5",
   "metadata": {},
   "source": [
    "Last but not the least important are *membership test operations* that are also considered as type of comparisons in Python. They can be done by literals `in` and `not in`. We will have a closer look at these operations when we consider *conainer objects*."
   ]
  },
  {
   "cell_type": "markdown",
   "id": "aed1d554",
   "metadata": {},
   "source": [
    "### Boolean operations\n",
    "\n",
    "Logical \"and\" test is done by `and` literal, logical \"or\" test -- by `or`. Logical negation is done by `not` literal. See the examples below: "
   ]
  },
  {
   "cell_type": "code",
   "execution_count": 39,
   "id": "814bdd79",
   "metadata": {},
   "outputs": [
    {
     "name": "stdout",
     "output_type": "stream",
     "text": [
      "False\n",
      "True\n",
      "False\n"
     ]
    }
   ],
   "source": [
    "print(True and False)\n",
    "\n",
    "print(True or False)\n",
    "\n",
    "print(not True)"
   ]
  },
  {
   "cell_type": "markdown",
   "id": "ad14617b",
   "metadata": {},
   "source": [
    "In the [taxation example](#taxation-example), consider a new rule: if the tax paid this year from other sources of income than one's salary is above 300 EUR and salary before tax is taxable, then the tax deduction of 3% is applied to the taxable part of the salary."
   ]
  },
  {
   "cell_type": "code",
   "execution_count": null,
   "id": "bc482462",
   "metadata": {},
   "outputs": [],
   "source": [
    "salary_before_tax = 1500\n",
    "\n",
    "tax_not_salary = int(input())\n",
    "\n",
    "print(\"Tax deduction should be applied:\", )  # fill in a logical expression after the comma"
   ]
  },
  {
   "cell_type": "markdown",
   "id": "98bd30b0",
   "metadata": {},
   "source": [
    "Note that some objects other that booleans can give a boolean result. For example, the following values are interpreted as false: False, None, numeric zero of all types, and empty strings and containers (including strings, tuples, lists, dictionaries, sets and frozensets). This helps to write beautiful and concise conditional expressions that we will discuss later."
   ]
  },
  {
   "cell_type": "markdown",
   "id": "b3ba3fd6",
   "metadata": {},
   "source": [
    "## A note on type conversion in Python\n",
    "\n",
    "You have already seen that we used the function `int(...)` to convert a type of an input from `str` to `int`. There are also other functions that convert a variable to another type. Of course, it works only if the provided variable is convertible to the suggested type. The functions that are used for explicit type conversion are the same as type names."
   ]
  },
  {
   "cell_type": "code",
   "execution_count": 59,
   "id": "296e9142",
   "metadata": {},
   "outputs": [],
   "source": [
    "initial_integer = 5\n",
    "integer_to_float = float(initial_integer)\n",
    "float_to_string = str(integer_to_float)\n",
    "string_to_float = float(float_to_string)\n",
    "float_to_integer = int(string_to_float)"
   ]
  },
  {
   "cell_type": "markdown",
   "id": "a8466d2a",
   "metadata": {},
   "source": [
    "Will you be able to convert `float_to_string` directly to integer?"
   ]
  },
  {
   "cell_type": "code",
   "execution_count": null,
   "id": "e92e6bc9",
   "metadata": {},
   "outputs": [],
   "source": [
    "# try here\n"
   ]
  },
  {
   "cell_type": "markdown",
   "id": "eea40b46",
   "metadata": {},
   "source": [
    "There is also an *implicit type conversion* in Python. There are several numeric examples: \n",
    "* If at least one value in an expression is a complex number, then the result is converted to a complex number.\n",
    "* If there is no complex numbers but there is a float number, the result is converted to float.\n",
    "* If there is no complex or float values but there is an integer, the result is converted to int.\n",
    "* Boolean values `True` and `False` in numerical expressions are implicitly converted to 1 and 0 respectively.\n",
    "\n",
    "The machinery of all these exemples comes from the fact that there are lower and higher data types in Python. So, the compiler converts lower data types to higher data types if they occur together in one expression."
   ]
  },
  {
   "cell_type": "code",
   "execution_count": 117,
   "id": "11cb72cd",
   "metadata": {},
   "outputs": [
    {
     "name": "stdout",
     "output_type": "stream",
     "text": [
      "<class 'float'>\n",
      "<class 'float'>\n",
      "<class 'int'>\n",
      "5\n"
     ]
    }
   ],
   "source": [
    "print(type(4.1 + 5))\n",
    "print(type(5 // 2.5))\n",
    "print(type(5 // 2))\n",
    "print(True * 5 + False * -1)"
   ]
  }
 ],
 "metadata": {
  "kernelspec": {
   "display_name": "Python 3 (ipykernel)",
   "language": "python",
   "name": "python3"
  },
  "language_info": {
   "codemirror_mode": {
    "name": "ipython",
    "version": 3
   },
   "file_extension": ".py",
   "mimetype": "text/x-python",
   "name": "python",
   "nbconvert_exporter": "python",
   "pygments_lexer": "ipython3",
   "version": "3.10.6"
  }
 },
 "nbformat": 4,
 "nbformat_minor": 5
}
