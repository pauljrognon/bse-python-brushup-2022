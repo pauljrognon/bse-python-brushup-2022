{
 "cells": [
  {
   "cell_type": "markdown",
   "id": "7977aec3",
   "metadata": {},
   "source": [
    "**Introductory and intermediate computing for Data Science [Barcelona School of Economics]**\n",
    "\n",
    "`Instructor:` Maxim Fedotov  \n",
    "`Program:` M.Sc. in Data Science Methodology"
   ]
  },
  {
   "cell_type": "markdown",
   "id": "eb383b30",
   "metadata": {},
   "source": [
    "# Class 2."
   ]
  },
  {
   "cell_type": "markdown",
   "id": "69d47ef8",
   "metadata": {},
   "source": [
    "## Functions\n",
    "\n",
    "Python is a language that is oftenly used to transform some initial data into a more useful and convenient format or to use it in some way. For these purposes (and many others), we can use functions. These are, simply, a set of expressions that either *returns* an *output* or potentially causes \"*side effects*\"."
   ]
  },
  {
   "cell_type": "markdown",
   "id": "c6054e83",
   "metadata": {},
   "source": [
    "### Function display\n",
    "\n",
    "To define a function, there is a keyword `def`."
   ]
  },
  {
   "cell_type": "code",
   "execution_count": null,
   "id": "b34b9a37",
   "metadata": {},
   "outputs": [],
   "source": [
    "def my_first_function():  # By the way, it is better to name functions according to what they are doing.\n",
    "    pass                  # You can also write \"return\" without anything;\n",
    "                          # in both cases it returns a NoneType object."
   ]
  },
  {
   "cell_type": "code",
   "execution_count": null,
   "id": "e7ef96eb",
   "metadata": {},
   "outputs": [],
   "source": [
    "my_first_function"
   ]
  },
  {
   "cell_type": "markdown",
   "id": "dda32b7c",
   "metadata": {},
   "source": [
    "Now, when the function is correctly specified we can *call* it (or *invoke*):"
   ]
  },
  {
   "cell_type": "code",
   "execution_count": null,
   "id": "cf81f6a4",
   "metadata": {},
   "outputs": [],
   "source": [
    "my_first_function()"
   ]
  },
  {
   "cell_type": "markdown",
   "id": "99e158ed",
   "metadata": {},
   "source": [
    "It was a blank function. It had no *parameters*, therefore we called it without any *arguments*. Now, let's create something a bit more sensible, for example:"
   ]
  },
  {
   "cell_type": "code",
   "execution_count": null,
   "id": "4e60263d",
   "metadata": {},
   "outputs": [],
   "source": [
    "def add(a, b):\n",
    "    total = a + b  # Here we specify a body of the function.\n",
    "    return total"
   ]
  },
  {
   "cell_type": "code",
   "execution_count": null,
   "id": "7814a0ef",
   "metadata": {},
   "outputs": [],
   "source": [
    "add(5, 4)"
   ]
  },
  {
   "cell_type": "markdown",
   "id": "4ab84c13",
   "metadata": {},
   "source": [
    "As you can see, functions consist of several components.\n",
    "\n",
    "* It begins with is a definition done with the keyword `def`. Then goes a name of a function, or formally –– *identifiers*. \n",
    "* To specify a set of the function *parameters*, one must write them into parentheses right after a function name. Note that a function may have no parameters at all. \n",
    "* Then there goes a *body* of the function. It is necessary to write `:` after the parentheses, where we defined the parameters, to indicate that it starts below. Note that the body should be highlighted with correct indentation.\n",
    "* To return a value, use a special keyword `return` which passes a specified output (e.g. some value) to the outer scope of the function. There can be many return statements in a function body, then the executed one would be the first one reached by an interpeter.\n",
    "\n",
    "\n",
    "**Some more notes on naming your function:** Note that there are some restrictions for a function name. For example, it cannot begin with a number, contain special characters like !, @, #, $, \\% etc, and be a keyword. Note that it in fact can begin with `_`, what can facilitate naming in some cases. Remember that, ideally, a function name have to reflect its effects."
   ]
  },
  {
   "cell_type": "markdown",
   "id": "651be99a",
   "metadata": {},
   "source": [
    "### Scope\n",
    "\n",
    "There is a notion of a scope in Python. It refers to a region of your program where specific variables and functions are defined (namely, from where in the program we can use or call them).  Understandably, no variable or function can be called before assignment, but there are other important peculiarities of different scopes.\n",
    "\n",
    "* A *local variable* can only be called in a specific region of your program.\n",
    "* A *global variable* can be called freely throughout a program, but is overloaded in local scopes by local variables if they have the same name.\n",
    "\n",
    "Let's take a look at the following example:"
   ]
  },
  {
   "cell_type": "code",
   "execution_count": null,
   "id": "4f0355ef",
   "metadata": {
    "scrolled": false
   },
   "outputs": [],
   "source": [
    "x = 10\n",
    "\n",
    "def more(x):\n",
    "    x = x + 1\n",
    "    print(x)\n",
    "    \n",
    "more(x)\n",
    "print(\"The value of x is:\", x)"
   ]
  },
  {
   "cell_type": "markdown",
   "id": "babbea0b",
   "metadata": {},
   "source": [
    "Now let's see what you would get if you would have not specified the `x` parameter for the `more(...)` function: "
   ]
  },
  {
   "cell_type": "code",
   "execution_count": null,
   "id": "e7ec1e74",
   "metadata": {},
   "outputs": [],
   "source": [
    "def more():\n",
    "    x = x + 1\n",
    "    print(x)\n",
    "    \n",
    "more()"
   ]
  },
  {
   "cell_type": "markdown",
   "id": "c90d6efd",
   "metadata": {},
   "source": [
    "You get what you get because the line `x = 10` defines a global variable since it is not embedded into any local scope. The function `more` looks for a local variable `x` first which in the first case obtained a value from the global `x` through the function invocation. The second case is more subtle, the local scope has no access to changing global walues, but we both define and change a variable at the same time into the scope of this function.\n",
    "\n",
    "The correct way to let a global variable be modified in a local is to use `global` keyword. However, be carefull with that because it might produce some unintended changes which you will not be able to track easily."
   ]
  },
  {
   "cell_type": "code",
   "execution_count": null,
   "id": "2f6e0fb6",
   "metadata": {},
   "outputs": [],
   "source": []
  },
  {
   "cell_type": "markdown",
   "id": "cd0abeb4",
   "metadata": {},
   "source": [
    "## Catching exceptions"
   ]
  },
  {
   "cell_type": "code",
   "execution_count": null,
   "id": "8c74fc47",
   "metadata": {},
   "outputs": [],
   "source": []
  }
 ],
 "metadata": {
  "kernelspec": {
   "display_name": "Python 3 (ipykernel)",
   "language": "python",
   "name": "python3"
  },
  "language_info": {
   "codemirror_mode": {
    "name": "ipython",
    "version": 3
   },
   "file_extension": ".py",
   "mimetype": "text/x-python",
   "name": "python",
   "nbconvert_exporter": "python",
   "pygments_lexer": "ipython3",
   "version": "3.10.6"
  }
 },
 "nbformat": 4,
 "nbformat_minor": 5
}
