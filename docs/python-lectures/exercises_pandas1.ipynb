{
 "cells": [
  {
   "cell_type": "markdown",
   "metadata": {
    "id": "alvYpcyyYGYu"
   },
   "source": [
    "# Exercises on Pandas 1"
   ]
  },
  {
   "cell_type": "markdown",
   "metadata": {
    "id": "pplyp01nYYsQ"
   },
   "source": [
    "In these exercises you will work on COVID-19 infections data that come into CSV format (Comma Separate Values) and are available on the course website."
   ]
  },
  {
   "cell_type": "markdown",
   "metadata": {
    "id": "nkB9lpZNYMcs"
   },
   "source": [
    "## Question 1\n",
    "Use the \"read_csv\" function on the pandas module to read the \n",
    "file \"covid.csv\" into a DataFrame."
   ]
  },
  {
   "cell_type": "code",
   "execution_count": 10,
   "metadata": {
    "id": "MnVEq9BbYC4H"
   },
   "outputs": [],
   "source": [
    "# Your code here.\n",
    "import pandas as pd"
   ]
  },
  {
   "cell_type": "markdown",
   "metadata": {
    "id": "o3PQumCfZNrp"
   },
   "source": [
    "## Question 2\n",
    "Get the 3 countries with the most deaths."
   ]
  },
  {
   "cell_type": "code",
   "execution_count": 11,
   "metadata": {
    "id": "6ohPOjDHYC4K"
   },
   "outputs": [],
   "source": [
    "# Your code here."
   ]
  },
  {
   "cell_type": "markdown",
   "metadata": {
    "id": "VjoWMOSYZaPg"
   },
   "source": [
    " ### Question 3\n",
    "Find how many deaths Spain reported in these data."
   ]
  },
  {
   "cell_type": "code",
   "execution_count": 12,
   "metadata": {
    "id": "S2Lfk2rhYC4L"
   },
   "outputs": [],
   "source": [
    "# Your code here."
   ]
  },
  {
   "cell_type": "markdown",
   "metadata": {
    "id": "aAJHPsj5ZoIf"
   },
   "source": [
    "### Question 4\n",
    "Get the country with the 10th highest number of confirmed cases."
   ]
  },
  {
   "cell_type": "code",
   "execution_count": 13,
   "metadata": {
    "id": "XekkZnDpYC4L"
   },
   "outputs": [],
   "source": [
    "# Your code here."
   ]
  },
  {
   "cell_type": "markdown",
   "metadata": {
    "id": "rMU-2GGvck_x"
   },
   "source": [
    "### Question 5\n",
    "Filter the dataset so it contains only rows where there are more than 100 but less than 1000 confirmed cases."
   ]
  },
  {
   "cell_type": "code",
   "execution_count": 14,
   "metadata": {
    "id": "KvdBaamZYC4M"
   },
   "outputs": [],
   "source": [
    "# Your code here."
   ]
  },
  {
   "cell_type": "markdown",
   "metadata": {
    "id": "4Up169GPe4Tx"
   },
   "source": [
    "### Question 6\n",
    "Return a Series with the names of the countries where there has been more reported Deaths than Recovered people."
   ]
  },
  {
   "cell_type": "code",
   "execution_count": 15,
   "metadata": {
    "id": "Fx4eutT0YC4M"
   },
   "outputs": [],
   "source": [
    "# Your code here."
   ]
  },
  {
   "cell_type": "markdown",
   "metadata": {
    "id": "zfmJsPBcfMZn"
   },
   "source": [
    "### Question 7\n",
    "Series objects have a method called `.isin()` which takes as parameter a list or Series, and returns a boolean series indicating \n",
    "whether or not the value is in the list/Series.\n",
    "\n",
    "Get the total number of deaths (the sum) in the following countries combined."
   ]
  },
  {
   "cell_type": "code",
   "execution_count": 16,
   "metadata": {
    "id": "rfMN7aQMYC4N"
   },
   "outputs": [],
   "source": [
    "countries = ['Spain', 'Germany', 'England', 'Portugal', 'France']\n",
    "\n",
    "# Your code here."
   ]
  },
  {
   "cell_type": "markdown",
   "metadata": {
    "id": "_B1Hdm7GfqC_"
   },
   "source": [
    "### Question 8\n",
    "Get the mean number of active cases for countries with deaths < 100."
   ]
  },
  {
   "cell_type": "code",
   "execution_count": 17,
   "metadata": {
    "id": "wHbgRG4qYC4N"
   },
   "outputs": [],
   "source": [
    "# Your code here."
   ]
  },
  {
   "cell_type": "markdown",
   "metadata": {
    "id": "6YWpjqQkf-yH"
   },
   "source": [
    "### Question 9\n",
    "Filter the dataset to retain only the countries which have more than the mean number of deaths (i.e. compute the average death toll across all countries, then filter the dataframe to only include\n",
    "countries with more deaths than that)."
   ]
  },
  {
   "cell_type": "code",
   "execution_count": 18,
   "metadata": {
    "id": "ju-BfaEkYC4O"
   },
   "outputs": [],
   "source": [
    "# Your code here."
   ]
  }
 ],
 "metadata": {
  "colab": {
   "collapsed_sections": [],
   "provenance": []
  },
  "file_extension": ".py",
  "kernelspec": {
   "display_name": "Python 3 (ipykernel)",
   "language": "python",
   "name": "python3"
  },
  "language_info": {
   "codemirror_mode": {
    "name": "ipython",
    "version": 3
   },
   "file_extension": ".py",
   "mimetype": "text/x-python",
   "name": "python",
   "nbconvert_exporter": "python",
   "pygments_lexer": "ipython3",
   "version": "3.9.16"
  },
  "mimetype": "text/x-python",
  "name": "exercises.ipynb",
  "npconvert_exporter": "python",
  "pygments_lexer": "ipython3",
  "version": 3
 },
 "nbformat": 4,
 "nbformat_minor": 1
}
