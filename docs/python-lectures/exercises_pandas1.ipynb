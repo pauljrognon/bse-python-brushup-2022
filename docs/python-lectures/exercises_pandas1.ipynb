{
  "cells": [
    {
      "cell_type": "markdown",
      "source": [
        "# Exercises on Pandas 1"
      ],
      "metadata": {
        "id": "alvYpcyyYGYu"
      }
    },
    {
      "cell_type": "markdown",
      "source": [
        "In these exercises you will work on COVID-19 infections data that come into CSV format (Comma Separate Values) and are available on the course website."
      ],
      "metadata": {
        "id": "pplyp01nYYsQ"
      }
    },
    {
      "cell_type": "markdown",
      "source": [
        "## Question 1\n",
        "Use the \"read_csv\" function on the pandas module to read the \n",
        "file \"covid.csv\" into a DataFrame."
      ],
      "metadata": {
        "id": "nkB9lpZNYMcs"
      }
    },
    {
      "cell_type": "code",
      "execution_count": 10,
      "metadata": {
        "id": "MnVEq9BbYC4H"
      },
      "outputs": [],
      "source": [
        "# Your code here.\n",
        "import pandas as pd"
      ]
    },
    {
      "cell_type": "markdown",
      "source": [
        "## Question 2\n",
        "Get the 3 countries with the most deaths."
      ],
      "metadata": {
        "id": "o3PQumCfZNrp"
      }
    },
    {
      "cell_type": "code",
      "execution_count": 11,
      "metadata": {
        "id": "6ohPOjDHYC4K"
      },
      "outputs": [],
      "source": [
        "# Your code here."
      ]
    },
    {
      "cell_type": "markdown",
      "source": [
        " ### Question 3\n",
        "Find how many deaths Spain reported in these data."
      ],
      "metadata": {
        "id": "VjoWMOSYZaPg"
      }
    },
    {
      "cell_type": "code",
      "execution_count": 12,
      "metadata": {
        "id": "S2Lfk2rhYC4L"
      },
      "outputs": [],
      "source": [
        "# Your code here."
      ]
    },
    {
      "cell_type": "markdown",
      "source": [
        "### Question 4\n",
        "Get the country with the 10th highest number of confirmed cases."
      ],
      "metadata": {
        "id": "aAJHPsj5ZoIf"
      }
    },
    {
      "cell_type": "code",
      "execution_count": 13,
      "metadata": {
        "id": "XekkZnDpYC4L"
      },
      "outputs": [],
      "source": [
        "# Your code here."
      ]
    },
    {
      "cell_type": "markdown",
      "source": [
        "### Question 5\n",
        "Filter the dataset so it contains only rows where there are more than 100 but less than 1000 confirmed cases."
      ],
      "metadata": {
        "id": "rMU-2GGvck_x"
      }
    },
    {
      "cell_type": "code",
      "execution_count": 14,
      "metadata": {
        "id": "KvdBaamZYC4M"
      },
      "outputs": [],
      "source": [
        "# Your code here."
      ]
    },
    {
      "cell_type": "markdown",
      "source": [
        "### Question 6\n",
        "Return a Series with the names of the countries where there has been more reported Deaths than Recovered people."
      ],
      "metadata": {
        "id": "4Up169GPe4Tx"
      }
    },
    {
      "cell_type": "code",
      "execution_count": 15,
      "metadata": {
        "id": "Fx4eutT0YC4M"
      },
      "outputs": [],
      "source": [
        "# Your code here."
      ]
    },
    {
      "cell_type": "markdown",
      "source": [
        "### Question 7\n",
        "Series objects have a method called `.isin()` which takes as parameter a list or Series, and returns a boolean series indicating \n",
        "whether or not the value is in the list/Series.\n",
        "\n",
        "Get the total number of deaths (the sum) in the following countries combined."
      ],
      "metadata": {
        "id": "zfmJsPBcfMZn"
      }
    },
    {
      "cell_type": "code",
      "execution_count": 16,
      "metadata": {
        "id": "rfMN7aQMYC4N"
      },
      "outputs": [],
      "source": [
        "countries = ['Spain', 'Germany', 'England', 'Portugal', 'France']\n",
        "\n",
        "# Your code here."
      ]
    },
    {
      "cell_type": "markdown",
      "source": [
        "### Question 8\n",
        "Get the mean number of active cases for countries with deaths < 100."
      ],
      "metadata": {
        "id": "_B1Hdm7GfqC_"
      }
    },
    {
      "cell_type": "code",
      "execution_count": 17,
      "metadata": {
        "id": "wHbgRG4qYC4N"
      },
      "outputs": [],
      "source": [
        "# Your code here."
      ]
    },
    {
      "cell_type": "markdown",
      "source": [
        "### Question 9\n",
        "Filter the dataset to retain only the countries which have more than the mean number of deaths (i.e. compute the average death toll across all countries, then filter the dataframe to only include\n",
        "countries with more deaths than that)."
      ],
      "metadata": {
        "id": "6YWpjqQkf-yH"
      }
    },
    {
      "cell_type": "code",
      "execution_count": 18,
      "metadata": {
        "id": "ju-BfaEkYC4O"
      },
      "outputs": [],
      "source": [
        "# Your code here."
      ]
    }
  ],
  "metadata": {
    "file_extension": ".py",
    "kernelspec": {
      "display_name": "Python 3.8.2 64-bit ('venv': venv)",
      "name": "python38264bitvenvvenv841964d98f5e47bf99bd452dab26b883"
    },
    "language_info": {
      "codemirror_mode": {
        "name": "ipython",
        "version": 3
      },
      "name": "python",
      "version": "3.8.2-final"
    },
    "mimetype": "text/x-python",
    "name": "exercises.ipynb",
    "npconvert_exporter": "python",
    "pygments_lexer": "ipython3",
    "version": 3,
    "colab": {
      "provenance": [],
      "collapsed_sections": []
    }
  },
  "nbformat": 4,
  "nbformat_minor": 0
}