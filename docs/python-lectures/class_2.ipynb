{
 "cells": [
  {
   "cell_type": "markdown",
   "id": "7977aec3",
   "metadata": {},
   "source": [
    "**Introductory and intermediate computing for Data Science [Barcelona School of Economics]**\n",
    "\n",
    "`Instructor:` Maxim Fedotov  \n",
    "`Program:` M.Sc. in Data Science Methodology"
   ]
  },
  {
   "cell_type": "markdown",
   "id": "eb383b30",
   "metadata": {},
   "source": [
    "# Class 2."
   ]
  },
  {
   "cell_type": "markdown",
   "id": "69d47ef8",
   "metadata": {},
   "source": [
    "## Functions\n",
    "\n",
    "Python is a language that is oftenly used to transform some initial data into a more useful and convenient format or to use it in some way. For these purposes (and many others), we can use functions. These are, simply, a set of expressions that either *returns* an *output* or potentially causes \"*side effects*\"."
   ]
  },
  {
   "cell_type": "markdown",
   "id": "c6054e83",
   "metadata": {},
   "source": [
    "### Function display\n",
    "\n",
    "To define a function, there is a keyword `def`."
   ]
  },
  {
   "cell_type": "code",
   "execution_count": 3,
   "id": "b34b9a37",
   "metadata": {},
   "outputs": [],
   "source": [
    "def my_first_function():  # By the way, it is better to name functions according to what they are doing.\n",
    "    pass                  # You can also write \"return\" without anything;\n",
    "                          # in both cases it returns a NoneType object."
   ]
  },
  {
   "cell_type": "code",
   "execution_count": 4,
   "id": "e7ef96eb",
   "metadata": {},
   "outputs": [
    {
     "data": {
      "text/plain": [
       "<function __main__.my_first_function()>"
      ]
     },
     "execution_count": 4,
     "metadata": {},
     "output_type": "execute_result"
    }
   ],
   "source": [
    "my_first_function"
   ]
  },
  {
   "cell_type": "markdown",
   "id": "dda32b7c",
   "metadata": {},
   "source": [
    "Now, when the function is correctly specified we can *call* it (or *invoke*):"
   ]
  },
  {
   "cell_type": "code",
   "execution_count": 5,
   "id": "cf81f6a4",
   "metadata": {},
   "outputs": [],
   "source": [
    "my_first_function()"
   ]
  },
  {
   "cell_type": "markdown",
   "id": "2f6cd6b4",
   "metadata": {},
   "source": [
    "## Function body and return statement"
   ]
  },
  {
   "cell_type": "markdown",
   "id": "99e158ed",
   "metadata": {},
   "source": [
    "It was a blank function. It had no *parameters*, therefore we called it without any *arguments*. Now, let's create something a bit more sensible, for example:"
   ]
  },
  {
   "cell_type": "code",
   "execution_count": 6,
   "id": "4e60263d",
   "metadata": {},
   "outputs": [],
   "source": [
    "def add(a, b):\n",
    "    total = a + b  # Here we specify a body of the function, it can consist of many lines.\n",
    "    return total  # This is a return statement, ones it is reached, the function stops executing and returns\n",
    "                  # whatever is specified. However if the output is not saved anywhere or used somehow,\n",
    "                  # then it gets eraised by the garbage collector."
   ]
  },
  {
   "cell_type": "code",
   "execution_count": 7,
   "id": "7814a0ef",
   "metadata": {},
   "outputs": [
    {
     "data": {
      "text/plain": [
       "9"
      ]
     },
     "execution_count": 7,
     "metadata": {},
     "output_type": "execute_result"
    }
   ],
   "source": [
    "add(5, 4)"
   ]
  },
  {
   "cell_type": "markdown",
   "id": "4ab84c13",
   "metadata": {},
   "source": [
    "As you can see, functions consist of several components.\n",
    "\n",
    "* It begins with is a definition done with the keyword `def`. Then goes a name of a function, or formally –– *identifiers*. \n",
    "* To specify a set of the function *parameters*, one must write them into parentheses right after a function name. Note that a function may have no parameters at all. \n",
    "* Then there goes a *body* of the function. It is necessary to write `:` after the parentheses, where we defined the parameters, to indicate that it starts below. Note that the body should be highlighted with correct indentation.\n",
    "* To return a value, use a special keyword `return` which passes a specified output (e.g. some value) to the outer scope of the function. There can be many return statements in a function body, then the executed one would be the first one reached by an interpeter.\n",
    "\n",
    "\n",
    "**Some more notes on naming your function:** Note that there are some restrictions for a function name. For example, it cannot begin with a number, contain special characters like !, @, #, $, \\% etc, and be a keyword. Note that it in fact can begin with `_`, what can facilitate naming in some cases. Remember that, ideally, a function name have to reflect its effects."
   ]
  },
  {
   "cell_type": "markdown",
   "id": "651be99a",
   "metadata": {},
   "source": [
    "### Scope\n",
    "\n",
    "There is a notion of a scope in Python. It refers to a region of your program where specific variables and functions are defined (namely, from where in the program we can use or call them).  Understandably, no variable or function can be called before assignment, but there are other important peculiarities of different scopes.\n",
    "\n",
    "* A *local variable* can only be called in a specific region of your program.\n",
    "* A *global variable* can be called freely throughout a program, but is overloaded in local scopes by local variables if they have the same name.\n",
    "\n",
    "Let's take a look at the following example:"
   ]
  },
  {
   "cell_type": "code",
   "execution_count": 8,
   "id": "4f0355ef",
   "metadata": {
    "scrolled": false
   },
   "outputs": [
    {
     "name": "stdout",
     "output_type": "stream",
     "text": [
      "11\n",
      "The value of x is: 10\n"
     ]
    }
   ],
   "source": [
    "x = 10\n",
    "\n",
    "def more(x):\n",
    "    x = x + 1\n",
    "    print(x)\n",
    "    \n",
    "more(x)\n",
    "print(\"The value of x is:\", x)"
   ]
  },
  {
   "cell_type": "markdown",
   "id": "babbea0b",
   "metadata": {},
   "source": [
    "Now let's see what you would get if you would have not specified the `x` parameter for the `more(...)` function: "
   ]
  },
  {
   "cell_type": "code",
   "execution_count": 9,
   "id": "e7ec1e74",
   "metadata": {},
   "outputs": [
    {
     "ename": "UnboundLocalError",
     "evalue": "local variable 'x' referenced before assignment",
     "output_type": "error",
     "traceback": [
      "\u001b[0;31m---------------------------------------------------------------------------\u001b[0m",
      "\u001b[0;31mUnboundLocalError\u001b[0m                         Traceback (most recent call last)",
      "Input \u001b[0;32mIn [9]\u001b[0m, in \u001b[0;36m<cell line: 5>\u001b[0;34m()\u001b[0m\n\u001b[1;32m      2\u001b[0m     x \u001b[38;5;241m=\u001b[39m x \u001b[38;5;241m+\u001b[39m \u001b[38;5;241m1\u001b[39m\n\u001b[1;32m      3\u001b[0m     \u001b[38;5;28mprint\u001b[39m(x)\n\u001b[0;32m----> 5\u001b[0m \u001b[43mincrease_x\u001b[49m\u001b[43m(\u001b[49m\u001b[43m)\u001b[49m\n",
      "Input \u001b[0;32mIn [9]\u001b[0m, in \u001b[0;36mincrease_x\u001b[0;34m()\u001b[0m\n\u001b[1;32m      1\u001b[0m \u001b[38;5;28;01mdef\u001b[39;00m \u001b[38;5;21mincrease_x\u001b[39m():\n\u001b[0;32m----> 2\u001b[0m     x \u001b[38;5;241m=\u001b[39m \u001b[43mx\u001b[49m \u001b[38;5;241m+\u001b[39m \u001b[38;5;241m1\u001b[39m\n\u001b[1;32m      3\u001b[0m     \u001b[38;5;28mprint\u001b[39m(x)\n",
      "\u001b[0;31mUnboundLocalError\u001b[0m: local variable 'x' referenced before assignment"
     ]
    }
   ],
   "source": [
    "def increase_x():\n",
    "    x = x + 1\n",
    "    print(x)\n",
    "    \n",
    "increase_x()"
   ]
  },
  {
   "cell_type": "markdown",
   "id": "c90d6efd",
   "metadata": {},
   "source": [
    "You get what you get because the line `x = 10` defines a global variable since it is not embedded into any local scope. The function `more` looks for a local variable `x` first which in the first case obtained a value from the global `x` through the function invocation. The second case is more subtle, the local scope has no access to changing global walues, but we both define and change a variable at the same time into the scope of this function.\n",
    "\n",
    "The correct way to let a global variable be modified in a local is to use `global` keyword. However, be carefull with that because it might produce some unintended changes which you will not be able to track easily."
   ]
  },
  {
   "cell_type": "code",
   "execution_count": 10,
   "id": "2f6e0fb6",
   "metadata": {},
   "outputs": [
    {
     "name": "stdout",
     "output_type": "stream",
     "text": [
      "2\n"
     ]
    }
   ],
   "source": [
    "x = 1\n",
    "\n",
    "def increase_x():\n",
    "    global x\n",
    "    x = x + 1\n",
    "    print(x)\n",
    "\n",
    "increase_x()"
   ]
  },
  {
   "cell_type": "markdown",
   "id": "a1745448",
   "metadata": {},
   "source": [
    "## Function arguments\n",
    "\n",
    "Function arguments are specified in a defenition in the parentheses that follow a name of a function."
   ]
  },
  {
   "cell_type": "code",
   "execution_count": 13,
   "id": "38038df7",
   "metadata": {},
   "outputs": [
    {
     "data": {
      "text/plain": [
       "'hello world'"
      ]
     },
     "execution_count": 13,
     "metadata": {},
     "output_type": "execute_result"
    }
   ],
   "source": [
    "def format_string(string):\n",
    "    formatted_string = string.lower().strip()  # lower and strip are string methods\n",
    "    return formatted_string\n",
    "\n",
    "format_string(\" Hello World \")"
   ]
  },
  {
   "cell_type": "markdown",
   "id": "af8db7f7",
   "metadata": {},
   "source": [
    "It is recommended to specify expected types of the arguments and of the outcome. It does not give any computational advantage, but is more for other people who will use your function, or for yourself to remember and be able to see it if needed. In addition, it can help your IDE to provide you with code autocompletion when you hit \"Tab\"."
   ]
  },
  {
   "cell_type": "code",
   "execution_count": 14,
   "id": "dc59d5f2",
   "metadata": {},
   "outputs": [
    {
     "data": {
      "text/plain": [
       "'hello world'"
      ]
     },
     "execution_count": 14,
     "metadata": {},
     "output_type": "execute_result"
    }
   ],
   "source": [
    "def format_string(string: str) -> str:\n",
    "    formatted_string = string.lower().strip()  # lower and strip are string methods\n",
    "    return formatted_string\n",
    "\n",
    "format_string(\" Hello World \")"
   ]
  },
  {
   "cell_type": "code",
   "execution_count": 15,
   "id": "3654cebc",
   "metadata": {},
   "outputs": [
    {
     "name": "stdout",
     "output_type": "stream",
     "text": [
      "Help on function format_string in module __main__:\n",
      "\n",
      "format_string(string: str) -> str\n",
      "\n"
     ]
    }
   ],
   "source": [
    "help(format_string)"
   ]
  },
  {
   "cell_type": "markdown",
   "id": "cd0abeb4",
   "metadata": {},
   "source": [
    "## Catching exceptions"
   ]
  },
  {
   "cell_type": "markdown",
   "id": "01db271c",
   "metadata": {},
   "source": [
    "Things are not always working out as planned. In Python, if something goes wrong you get an `Exception` raised. Please, see [the whole list of built-in exceptions in Python](https://docs.python.org/3/library/exceptions.html).\n",
    "\n",
    "For your program not to stop working when an exception occures, there is a try-except construction."
   ]
  },
  {
   "cell_type": "code",
   "execution_count": 16,
   "id": "8c74fc47",
   "metadata": {},
   "outputs": [
    {
     "name": "stdout",
     "output_type": "stream",
     "text": [
      "Ooops, I knew it was not going to work this way.\n"
     ]
    }
   ],
   "source": [
    "try:\n",
    "    \"a\" + 1\n",
    "except:\n",
    "    print(\"Ooops, I knew it was not going to work this way.\")"
   ]
  },
  {
   "cell_type": "markdown",
   "id": "f815f707",
   "metadata": {},
   "source": [
    "Python interpreter tries whatever instructions you specify in a `try` block, and then, if exception occures, executes instructions specified in a `except`. \n",
    "\n",
    "It is quite recommended to specify behavior for specific exceptions that you expect. Then, if any other exception occurs, then the interpreter just ignores the code. It is helpful in cases where you want to skip specified instructions if some unexpected exception occure, e.g. you want to skip some data while processing if it has unexpected nature."
   ]
  },
  {
   "cell_type": "code",
   "execution_count": 19,
   "id": "13ad894f",
   "metadata": {},
   "outputs": [
    {
     "name": "stdout",
     "output_type": "stream",
     "text": [
      "Type error occures. Something definitely went not as planned.\n"
     ]
    }
   ],
   "source": [
    "try:\n",
    "    \"a\" + 1\n",
    "except TypeError:\n",
    "    print(\"Type error occures. Something definitely went not as planned.\")"
   ]
  },
  {
   "cell_type": "markdown",
   "id": "c44343de",
   "metadata": {},
   "source": [
    "Please, see more or raising exceptions and conditionals in another file corresponding to this class."
   ]
  }
 ],
 "metadata": {
  "kernelspec": {
   "display_name": "Python 3 (ipykernel)",
   "language": "python",
   "name": "python3"
  },
  "language_info": {
   "codemirror_mode": {
    "name": "ipython",
    "version": 3
   },
   "file_extension": ".py",
   "mimetype": "text/x-python",
   "name": "python",
   "nbconvert_exporter": "python",
   "pygments_lexer": "ipython3",
   "version": "3.10.6"
  },
  "vscode": {
   "interpreter": {
    "hash": "31f2aee4e71d21fbe5cf8b01ff0e069b9275f58929596ceb00d14d90e3e16cd6"
   }
  }
 },
 "nbformat": 4,
 "nbformat_minor": 5
}
