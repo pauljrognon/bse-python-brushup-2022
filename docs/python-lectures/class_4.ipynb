{
 "cells": [
  {
   "cell_type": "markdown",
   "id": "9a47ae84",
   "metadata": {},
   "source": [
    "**Introductory and intermediate computing for Data Science [Barcelona School of Economics]**\n",
    "\n",
    "`Instructor:` Maxim Fedotov  \n",
    "`Program:` M.Sc. in Data Science Methodology\n",
    "\n",
    "# Class 4"
   ]
  },
  {
   "cell_type": "code",
   "execution_count": 19,
   "id": "c199831a",
   "metadata": {},
   "outputs": [
    {
     "data": {
      "text/plain": [
       "-0.9189385332046727"
      ]
     },
     "execution_count": 19,
     "metadata": {},
     "output_type": "execute_result"
    }
   ],
   "source": [
    "from math import pi, log\n",
    "from typing import Union\n",
    "\n",
    "def log_normal_pdf(x: Union[float, int], mu: Union[float, int] = 0, sigma_sq: Union[float, int] = 1) -> float:\n",
    "    \"\"\"\n",
    "        Computes pdf of a normal distribution with parameters mu and sigma_sq at point x.\n",
    "        \n",
    "        args:\n",
    "            x:         concrete point\n",
    "            mu:        mean parameter of the distribution\n",
    "            sigma_sq:  variance parameter of the distribution\n",
    "        \n",
    "        returns:\n",
    "            A value of pdf.\n",
    "    \"\"\"\n",
    "    if sigma_sq <= 0:\n",
    "        raise ValueError(\"The parameter sigma_sq has to be posititve.\")\n",
    "    return -(x - mu)**2 / (2 * sigma_sq) - 0.5 * log(2 * pi * sigma_sq)\n",
    "\n",
    "log_normal_pdf(0)"
   ]
  },
  {
   "cell_type": "code",
   "execution_count": 7,
   "id": "d2b2cc9a",
   "metadata": {},
   "outputs": [
    {
     "name": "stdout",
     "output_type": "stream",
     "text": [
      "The pdf of a normal with mu = 2, sigma = 0.5 at x = 1 is -1.5723649429247\n",
      "The pdf of a normal with mu = 2, sigma = 0.5 at x = 2 is -0.5723649429247001\n",
      "The pdf of a normal with mu = 2, sigma = 0.3 at x = 3 is -1.9836187977083715\n",
      "The pdf of a normal with mu = -2, sigma = 1 at x = -1 is -1.4189385332046727\n",
      "The pdf of a normal with mu = -2, sigma = 2 at x = -2 is -1.2655121234846454\n",
      "The pdf of a normal with mu = -2, sigma = 0.3 at x = -3 is -1.9836187977083715\n"
     ]
    }
   ],
   "source": [
    "x_vals = [1, 2, 3, -1, -2, -3]\n",
    "mu_vals = [2] * 3 + [-2] * 3\n",
    "sigma_sq_vals = [0.5, 0.5, 0.3, 1, 2, 0.3]\n",
    "\n",
    "for x, mu, sigma_sq in zip(x_vals, mu_vals, sigma_sq_vals):\n",
    "    log_pdf = log_normal_pdf(x, mu,sigma_sq)\n",
    "    print(f\"The pdf of a normal with mu = {mu}, sigma = {sigma_sq} at x = {x} is {log_pdf}\")"
   ]
  },
  {
   "cell_type": "code",
   "execution_count": 8,
   "id": "7f7aef1a",
   "metadata": {},
   "outputs": [
    {
     "data": {
      "text/plain": [
       "<itertools.product at 0x105e4c340>"
      ]
     },
     "execution_count": 8,
     "metadata": {},
     "output_type": "execute_result"
    }
   ],
   "source": [
    "from itertools import product\n",
    "\n",
    "product(x_vals, mu_vals, sigma_sq_vals)"
   ]
  },
  {
   "cell_type": "markdown",
   "id": "51c1204a",
   "metadata": {},
   "source": [
    "## Map"
   ]
  },
  {
   "cell_type": "code",
   "execution_count": 20,
   "id": "1dee0313",
   "metadata": {
    "scrolled": true
   },
   "outputs": [
    {
     "data": {
      "text/plain": [
       "[-1.4189385332046727,\n",
       " -2.9189385332046727,\n",
       " -5.418938533204672,\n",
       " -1.4189385332046727,\n",
       " -2.9189385332046727,\n",
       " -5.418938533204672]"
      ]
     },
     "execution_count": 20,
     "metadata": {},
     "output_type": "execute_result"
    }
   ],
   "source": [
    "list(map(log_normal_pdf, x_vals))"
   ]
  },
  {
   "cell_type": "markdown",
   "id": "6a799e53",
   "metadata": {},
   "source": [
    "## Lambda"
   ]
  },
  {
   "cell_type": "code",
   "execution_count": 22,
   "id": "1b858fec",
   "metadata": {},
   "outputs": [
    {
     "data": {
      "text/plain": [
       "[1, 0, 1, 0]"
      ]
     },
     "execution_count": 22,
     "metadata": {},
     "output_type": "execute_result"
    }
   ],
   "source": [
    "female_indicator = lambda x: 1 if x == 'female' else 0\n",
    "\n",
    "list(map(female_indicator, [\"female\", \"male\", \"female\", \"male\"]))"
   ]
  },
  {
   "cell_type": "code",
   "execution_count": 21,
   "id": "c904dd9c",
   "metadata": {},
   "outputs": [
    {
     "data": {
      "text/plain": [
       "[-1.5723649429247,\n",
       " -0.5723649429247001,\n",
       " -1.9836187977083715,\n",
       " -1.4189385332046727,\n",
       " -1.2655121234846454,\n",
       " -1.9836187977083715]"
      ]
     },
     "execution_count": 21,
     "metadata": {},
     "output_type": "execute_result"
    }
   ],
   "source": [
    "# or other technical function\n",
    "\n",
    "param_combinations = zip(x_vals, mu_vals, sigma_sq_vals)\n",
    "list(map(lambda _tuple: log_normal_pdf(*_tuple), param_combinations))"
   ]
  },
  {
   "cell_type": "code",
   "execution_count": null,
   "id": "dfc37afa",
   "metadata": {},
   "outputs": [],
   "source": []
  }
 ],
 "metadata": {
  "kernelspec": {
   "display_name": "Python 3.8.9 64-bit",
   "language": "python",
   "name": "python3"
  },
  "language_info": {
   "codemirror_mode": {
    "name": "ipython",
    "version": 3
   },
   "file_extension": ".py",
   "mimetype": "text/x-python",
   "name": "python",
   "nbconvert_exporter": "python",
   "pygments_lexer": "ipython3",
   "version": "3.8.9"
  },
  "vscode": {
   "interpreter": {
    "hash": "31f2aee4e71d21fbe5cf8b01ff0e069b9275f58929596ceb00d14d90e3e16cd6"
   }
  }
 },
 "nbformat": 4,
 "nbformat_minor": 5
}
