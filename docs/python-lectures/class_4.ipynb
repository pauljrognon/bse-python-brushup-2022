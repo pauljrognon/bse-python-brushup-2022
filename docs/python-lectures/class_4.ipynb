{
 "cells": [
  {
   "cell_type": "markdown",
   "id": "9a47ae84",
   "metadata": {},
   "source": [
    "**Introductory and intermediate computing for Data Science [Barcelona School of Economics]**\n",
    "\n",
    "`Instructor:` Maxim Fedotov  \n",
    "`Program:` M.Sc. in Data Science Methodology\n",
    "\n",
    "# Class 4"
   ]
  },
  {
   "cell_type": "markdown",
   "id": "07ed0852",
   "metadata": {},
   "source": [
    "You will be very often working with several parameter values that you want to try. In machine learning it is a regular practice to do a \"hyperparameter tuning\", i.e. testing quality of your fit (based on some quantitative metric like MSE, MAE, ROC, AUC and so on) with respect to different values of your algorithm. \n",
    "\n",
    "Let's consider a bit simplified example: we want to compute a log-likelihood for a random sample that we have. We will be using `numpy` package here to get a random sample (see the class_5 notebook). In fact, it would be better to use `numpy.array` instead the one-dimensional `x` to vectorize computations (and get computation time gains), but for educational purposes we avoid that. Just keep it in mind.\n",
    "\n",
    "In addition to that, you sometimes need *map* functions on collections of objects, and be able to write some small technical functions in a more concise way than a regular definition. We will also consider it in this notebook.\n",
    "\n",
    "## Handling functions: map, lambda, functools.partial\n",
    "First, define a function that computes normal pdf with parameters `mu` and `sigma` at point `x`."
   ]
  },
  {
   "cell_type": "code",
   "execution_count": 1,
   "id": "c199831a",
   "metadata": {},
   "outputs": [
    {
     "data": {
      "text/plain": [
       "-0.9189385332046727"
      ]
     },
     "execution_count": 1,
     "metadata": {},
     "output_type": "execute_result"
    }
   ],
   "source": [
    "from math import pi, log\n",
    "from typing import Union\n",
    "import numpy\n",
    "\n",
    "numpy.random.seed(1337)  # for reproducibility\n",
    "\n",
    "def log_normal_pdf(x: Union[float, int], mu: Union[float, int] = 0, \n",
    "                   sigma: Union[float, int] = 1) -> float:\n",
    "    \"\"\"\n",
    "        Computes pdf of a normal distribution with parameters mu and sigma at point x.\n",
    "        \n",
    "        args:\n",
    "            x:         concrete point\n",
    "            mu:        mean parameter of the distribution\n",
    "            sigma:     st.dev. parameter of the distribution\n",
    "        \n",
    "        returns:\n",
    "            A value of pdf.\n",
    "    \"\"\"\n",
    "    if sigma <= 0:\n",
    "        raise ValueError(\"The parameter sigma has to be posititve.\")\n",
    "    return -(x - mu)**2 / (2 * sigma**2) - 0.5 * log(2 * pi * sigma**2)\n",
    "\n",
    "log_normal_pdf(0)"
   ]
  },
  {
   "cell_type": "markdown",
   "id": "bed6d6c7",
   "metadata": {},
   "source": [
    "### Map\n",
    "Suppose now that we have a sample from an actual normal distribution. I convert it to a list for educational purposes of the current class since we have not seen `numpy` yet. In reality, you would try to use `numpy` objects and operations for such tasks (although difference is just in vectorizing operations, not in a conceptual approach)."
   ]
  },
  {
   "cell_type": "code",
   "execution_count": 2,
   "id": "9c0084a5",
   "metadata": {},
   "outputs": [
    {
     "data": {
      "text/plain": [
       "[-0.40637461972482103,\n",
       " 0.019435274424570714,\n",
       " 0.3563713406996948,\n",
       " -2.5101574342479736,\n",
       " 1.413328940427661,\n",
       " -3.022529145629268,\n",
       " -0.11450141624788412,\n",
       " 1.6744340168834113,\n",
       " 4.097671943338812,\n",
       " -1.7414731165219255]"
      ]
     },
     "execution_count": 2,
     "metadata": {},
     "output_type": "execute_result"
    }
   ],
   "source": [
    "x_sample = list(numpy.random.normal(1, 2, size=100))\n",
    "x_sample[:10]"
   ]
  },
  {
   "cell_type": "code",
   "execution_count": 3,
   "id": "c307f603",
   "metadata": {},
   "outputs": [
    {
     "data": {
      "text/plain": [
       "<map at 0x120502bc0>"
      ]
     },
     "execution_count": 3,
     "metadata": {},
     "output_type": "execute_result"
    }
   ],
   "source": [
    "log_pdf_map = map(log_normal_pdf, x_sample)\n",
    "log_pdf_map"
   ]
  },
  {
   "cell_type": "markdown",
   "id": "96ca99e1",
   "metadata": {},
   "source": [
    "Notice that the result has a specific type. However, it's still iterable (but not subscriptable), so you can transofm it to some more tractable sequence type, or you can just iterate through it using `for` loop."
   ]
  },
  {
   "cell_type": "code",
   "execution_count": 4,
   "id": "023dcd49",
   "metadata": {},
   "outputs": [
    {
     "data": {
      "text/plain": [
       "[-1.0015086989829192,\n",
       " -0.9191273981506518,\n",
       " -0.9824387994407217,\n",
       " -4.069383705559858,\n",
       " -1.91768788012986,\n",
       " -5.48677975129387,\n",
       " -0.9254938203660583,\n",
       " -2.320803171652831,\n",
       " -9.314396210817709,\n",
       " -2.4353028409889665]"
      ]
     },
     "execution_count": 4,
     "metadata": {},
     "output_type": "execute_result"
    }
   ],
   "source": [
    "log_pdf_sample = list(log_pdf_map)  # after you did that, log_pdf_map is now empty, see the explanation in the\n",
    "log_pdf_sample[:10]                 # comment below\n",
    "\n",
    "# for result in log_pdf_map:  # note that map is sort of generator, which means that when you iterate over its\n",
    "#     print(result)           # elements, those ones that you have passed will be ERASED from memory"
   ]
  },
  {
   "cell_type": "markdown",
   "id": "65898855",
   "metadata": {},
   "source": [
    "### Lambda\n",
    "\n",
    "Sometimes you need a tool to make up a function on the go to use it for some technical purposes rather than a \"base\" function for your computations. In this case, you can use `lambda` function definition. The syntax is the following:\n",
    "\n",
    "```{Python}\n",
    "lambda arg1, arg2 ...: code line\n",
    "```\n",
    "\n",
    "It is used to create one-line functions. You can also assign it to a variable, so you will be able to call it further.\n",
    "\n",
    "Suppose that you want create a utility that to transform a data feature you use in your analysis. You can do it concisely like that:"
   ]
  },
  {
   "cell_type": "code",
   "execution_count": 5,
   "id": "be67b7dc",
   "metadata": {},
   "outputs": [
    {
     "data": {
      "text/plain": [
       "[1, 0, 1, 0]"
      ]
     },
     "execution_count": 5,
     "metadata": {},
     "output_type": "execute_result"
    }
   ],
   "source": [
    "female_indicator = lambda x: 1 if x == 'female' else 0\n",
    "\n",
    "list(map(female_indicator, [\"female\", \"male\", \"female\", \"male\"]))"
   ]
  },
  {
   "cell_type": "markdown",
   "id": "66bb252f",
   "metadata": {},
   "source": [
    "In our case, we want to be able *map* our function `log_normal_pdf` to a list, and be able to set up the parameters `mu` and `sigma`. The built-in `map(...)` does not give us such functionality. So, we can try using `lambda` in combination with `map(...)` to achieve that."
   ]
  },
  {
   "cell_type": "code",
   "execution_count": 6,
   "id": "55c95e0a",
   "metadata": {},
   "outputs": [
    {
     "data": {
      "text/plain": [
       "[-1.8593219101403848,\n",
       " -1.7322741113949702,\n",
       " -1.6638679451487066,\n",
       " -3.1522363654154075,\n",
       " -1.6334408153889997,\n",
       " -3.6346783046942344,\n",
       " -1.7673498896169355,\n",
       " -1.6689433691558047,\n",
       " -2.8115321473331742,\n",
       " -2.551545069841173]"
      ]
     },
     "execution_count": 6,
     "metadata": {},
     "output_type": "execute_result"
    }
   ],
   "source": [
    "log_pdf_map_customized = list(\n",
    "    map(lambda x: log_normal_pdf(x, mu=1, sigma=2), x_sample)\n",
    ")\n",
    "log_pdf_map_customized[:10]"
   ]
  },
  {
   "cell_type": "code",
   "execution_count": 7,
   "id": "4222246d",
   "metadata": {},
   "outputs": [
    {
     "data": {
      "image/png": "[encoded data removed]",
      "text/plain": [
       "<Figure size 500x350 with 1 Axes>"
      ]
     },
     "metadata": {},
     "output_type": "display_data"
    }
   ],
   "source": [
    "import matplotlib.pyplot as plt\n",
    "import numpy\n",
    "\n",
    "plt.style.use('ggplot')\n",
    "\n",
    "indices = numpy.argsort(x_sample)\n",
    "plt.figure(figsize=(5, 3.5))\n",
    "plt.scatter(numpy.array(x_sample)[indices], numpy.array(log_pdf_map_customized)[indices], s=6)\n",
    "plt.title(r\"Normal p.d.f. with $\\mu=1$ and $\\sigma=2$ at each point in the sample.\", size=10)\n",
    "plt.xlabel(\"x\", size=9)\n",
    "plt.ylabel(r\"$\\phi (x\\ |\\ \\mu, \\sigma)$\", size=9)\n",
    "plt.show()"
   ]
  },
  {
   "cell_type": "markdown",
   "id": "3c1b9764",
   "metadata": {},
   "source": [
    "In fact, that is not the only way to do that. There is also package `functools` and function `partial` in there. In fact, it will be give computational gains with respect to `lambda` in the case when you want to specify only a part of parameters of a function and then be able to apply it to a collection of elements. So, `lambda` is better for the first case, where we need a technical utility which can be written in one line."
   ]
  },
  {
   "cell_type": "code",
   "execution_count": 8,
   "id": "82e6735e",
   "metadata": {},
   "outputs": [
    {
     "data": {
      "text/plain": [
       "[-1.8593219101403848,\n",
       " -1.7322741113949702,\n",
       " -1.6638679451487066,\n",
       " -3.1522363654154075,\n",
       " -1.6334408153889997,\n",
       " -3.6346783046942344,\n",
       " -1.7673498896169355,\n",
       " -1.6689433691558047,\n",
       " -2.8115321473331742,\n",
       " -2.551545069841173]"
      ]
     },
     "execution_count": 8,
     "metadata": {},
     "output_type": "execute_result"
    }
   ],
   "source": [
    "import functools\n",
    "\n",
    "list(\n",
    "    map(functools.partial(log_normal_pdf, mu=1, sigma=2), x_sample)\n",
    ")[:10]"
   ]
  },
  {
   "cell_type": "markdown",
   "id": "98317e95",
   "metadata": {},
   "source": [
    "Now, let's get back to our case. Now we should define a function that computes log-likelihood. The log-likelihood in that case would be:\n",
    "$$l(\\mathbf{x}\\ |\\ \\mu, \\sigma^2) = \\sum_{i = 1}^{n} \\log\\phi(x_i\\ |\\ \\mu, \\sigma^2)$$\n",
    "where $\\mathbf{x} = (x_1, \\ldots, x_n)^T$, $\\phi(\\cdot\\ |\\ \\mu, \\sigma^2)$ is a p.d.f. of a normal random variable with mean $\\mu$ and variance $\\sigma^2$.\n",
    "\n",
    "In principle, we would try to do it with `numpy` means. \n",
    "\n",
    "But let's consider a built-in function `map(...)` which maps a function to each element of a collection. In future, I recommend to use it only when vectorization is not possible at all.\n",
    "\n",
    "In this case, let's create a function which maps our `log_normal_pdf` function on a list, and returns a sum of the resulting elemens: this would be the likelihood."
   ]
  },
  {
   "cell_type": "code",
   "execution_count": 9,
   "id": "f9db3148",
   "metadata": {},
   "outputs": [],
   "source": [
    "def log_likelihood_normal(x: list, mu: Union[float, int] = 0, sigma: Union[float, int] = 1):\n",
    "    log_pdf_individual = list(\n",
    "        map(lambda x: log_normal_pdf(x, mu=mu, sigma=sigma), x)\n",
    "    )\n",
    "    return sum(log_pdf_individual)"
   ]
  },
  {
   "cell_type": "code",
   "execution_count": 10,
   "id": "8249c301",
   "metadata": {},
   "outputs": [
    {
     "data": {
      "text/plain": [
       "-213.60930498592853"
      ]
     },
     "execution_count": 10,
     "metadata": {},
     "output_type": "execute_result"
    }
   ],
   "source": [
    "log_likelihood_normal(x_sample, 1, 2)"
   ]
  },
  {
   "cell_type": "markdown",
   "id": "1b882c8d",
   "metadata": {},
   "source": [
    "## Handling parameters: zip and itertools (and not only)"
   ]
  },
  {
   "cell_type": "markdown",
   "id": "275b106c",
   "metadata": {},
   "source": [
    "Now, we are moving towards exploring target values with respect to multiple vaulues of parameters. That is often the case in ML applications. To specify a range of possible parameters you can use the built-in function `zip(iterable1, iterable2...)`. The iterables passed should be of the same size. It produces a `zip` object which consists of tuples. The size of each tuple is the number of the passed iterables."
   ]
  },
  {
   "cell_type": "code",
   "execution_count": 11,
   "id": "373f1a4e",
   "metadata": {},
   "outputs": [
    {
     "data": {
      "text/plain": [
       "[(1, 4), (2, 5), (3, 6)]"
      ]
     },
     "execution_count": 11,
     "metadata": {},
     "output_type": "execute_result"
    }
   ],
   "source": [
    "list(\n",
    "    zip([1, 2, 3], [4, 5, 6])\n",
    ")"
   ]
  },
  {
   "cell_type": "markdown",
   "id": "20214192",
   "metadata": {},
   "source": [
    "In our case, we could explore different parameter combinations with `zip(...)` like that:"
   ]
  },
  {
   "cell_type": "code",
   "execution_count": 12,
   "id": "d2b2cc9a",
   "metadata": {},
   "outputs": [
    {
     "name": "stdout",
     "output_type": "stream",
     "text": [
      "The normal log-likelihood of the sample with mu = 2, sigma = 1 is -382.4213235426839\n",
      "The normal log-likelihood of the sample with mu = 2, sigma = 2 is -233.84043893201587\n",
      "The normal log-likelihood of the sample with mu = 2, sigma = 3 is -234.03591221196905\n",
      "The normal log-likelihood of the sample with mu = -2, sigma = 1 is -658.7231804052856\n",
      "The normal log-likelihood of the sample with mu = -2, sigma = 2 is -302.9159031476663\n",
      "The normal log-likelihood of the sample with mu = -2, sigma = 3 is -264.73611853003575\n"
     ]
    }
   ],
   "source": [
    "mu_vals = [2] * 3 + [-2] * 3\n",
    "sigma_vals = [1, 2, 3, 1, 2, 3]\n",
    "\n",
    "for mu, sigma in zip(mu_vals, sigma_vals):\n",
    "    log_pdf = log_likelihood_normal(x_sample, mu, sigma)\n",
    "    print(f\"The normal log-likelihood of the sample with mu = {mu}, sigma = {sigma} is {log_pdf}\")"
   ]
  },
  {
   "cell_type": "markdown",
   "id": "ca361fed",
   "metadata": {},
   "source": [
    "However, we do not explore a lot of parameters like that. So, it is often the case that you wish to use a *parameters grid*. To do that, you can use `product` function from the `itertools` package. It will give us a whole set of possible combinations (of a size of the number of passed iterables). You can think of it as a set product to some extent. Now, the iterables that we want to use to produce a grid do not have to be of the same size."
   ]
  },
  {
   "cell_type": "code",
   "execution_count": 13,
   "id": "46d3d4a6",
   "metadata": {},
   "outputs": [
    {
     "name": "stdout",
     "output_type": "stream",
     "text": [
      "Parameters that give the best (in the specified range) log-likelihood: (1, 2)\n"
     ]
    }
   ],
   "source": [
    "from itertools import product\n",
    "\n",
    "mu_vals = range(-2, 5)\n",
    "sigma_vals = range(1, 5)\n",
    "\n",
    "param_grid = list(product(mu_vals, sigma_vals))\n",
    "\n",
    "# let's store all the results\n",
    "log_likelihood_vals = list(\n",
    "    map(lambda par_tuple: log_likelihood_normal(x_sample, par_tuple[0], par_tuple[1]), param_grid)\n",
    ")\n",
    "\n",
    "index_max_loglik = numpy.argmax(log_likelihood_vals)\n",
    "print(\"Parameters that give the best (in the specified range) log-likelihood:\", param_grid[index_max_loglik])"
   ]
  },
  {
   "cell_type": "code",
   "execution_count": 14,
   "id": "43bba818",
   "metadata": {},
   "outputs": [
    {
     "data": {
      "image/png": "[encoded data removed]",
      "text/plain": [
       "<Figure size 500x350 with 1 Axes>"
      ]
     },
     "metadata": {},
     "output_type": "display_data"
    }
   ],
   "source": [
    "plt.figure(figsize=(5, 3.5))\n",
    "plt.scatter([par_tuple[0] for par_tuple in param_grid], [par_tuple[1] for par_tuple in param_grid], \n",
    "            c=log_likelihood_vals, cmap='Greens')\n",
    "plt.title(r\"The log-likelihood magnitude w.r.t. $\\mu$ and $\\sigma$\", size=10)\n",
    "plt.xlabel(r\"$\\mu$\", size=9)\n",
    "plt.ylabel(r\"$\\sigma$\", size=9)\n",
    "plt.show()\n",
    "\n",
    "# as we can see, log-likelihood values in this region are pretty close to each other."
   ]
  }
 ],
 "metadata": {
  "kernelspec": {
   "display_name": "Python 3 (ipykernel)",
   "language": "python",
   "name": "python3"
  },
  "language_info": {
   "codemirror_mode": {
    "name": "ipython",
    "version": 3
   },
   "file_extension": ".py",
   "mimetype": "text/x-python",
   "name": "python",
   "nbconvert_exporter": "python",
   "pygments_lexer": "ipython3",
   "version": "3.10.6"
  },
  "vscode": {
   "interpreter": {
    "hash": "31f2aee4e71d21fbe5cf8b01ff0e069b9275f58929596ceb00d14d90e3e16cd6"
   }
  }
 },
 "nbformat": 4,
 "nbformat_minor": 5
}
