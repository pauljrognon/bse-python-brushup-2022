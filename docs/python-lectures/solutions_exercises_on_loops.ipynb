{
  "nbformat": 4,
  "nbformat_minor": 0,
  "metadata": {
    "colab": {
      "provenance": [],
      "collapsed_sections": []
    },
    "kernelspec": {
      "name": "python3",
      "display_name": "Python 3"
    },
    "language_info": {
      "name": "python"
    }
  },
  "cells": [
    {
      "cell_type": "markdown",
      "source": [
        "# Exercise 1\n",
        "\n",
        "Write a function \"only_adults\" that takes as input a list of numbers and returns only the numbers larger than or equal to 18."
      ],
      "metadata": {
        "id": "G2rdrZ1TGRlS"
      }
    },
    {
      "cell_type": "code",
      "execution_count": 1,
      "metadata": {
        "id": "LsOMNSOBGILX",
        "colab": {
          "base_uri": "https://localhost:8080/"
        },
        "outputId": "7e042d0b-c0c4-4486-881a-849a9aff6352"
      },
      "outputs": [
        {
          "output_type": "execute_result",
          "data": {
            "text/plain": [
              "[45, 67, 18]"
            ]
          },
          "metadata": {},
          "execution_count": 1
        }
      ],
      "source": [
        "# Your code here\n",
        "\n",
        "def only_adults(ages):\n",
        "    return [age for age in ages if age >= 18]\n",
        "\n",
        "ages = [2 ,45, 67, 18, 9]\n",
        "only_adults(ages)"
      ]
    },
    {
      "cell_type": "markdown",
      "source": [
        "# Exercise 2\n",
        "\n",
        "Write a function \"get_only_adults\" that takes as input a list of numbers, removes any `None` values from the list and returns only the numbers larger than or equal to 18."
      ],
      "metadata": {
        "id": "yvFK_4--GgCZ"
      }
    },
    {
      "cell_type": "code",
      "execution_count": 2,
      "metadata": {
        "id": "9eLoub-fGixT",
        "colab": {
          "base_uri": "https://localhost:8080/"
        },
        "outputId": "ab79dbf3-9e14-43a6-f892-ae04339e9820"
      },
      "outputs": [
        {
          "output_type": "execute_result",
          "data": {
            "text/plain": [
              "[45, 18]"
            ]
          },
          "metadata": {},
          "execution_count": 2
        }
      ],
      "source": [
        "# Your code here\n",
        "\n",
        "ages = [2 ,45, None, 18, 9]\n",
        "\n",
        "def get_only_adults(ages):\n",
        "    return [age for age in ages if age and (age >= 18)] # None is considered false\n",
        "\n",
        "get_only_adults(ages)"
      ]
    },
    {
      "cell_type": "markdown",
      "source": [
        "# Exercise 3\n",
        "Write a function \"are_all_adults\" that takes as input a list of numbers and returns True if they are all >= 18, and returns False otherwise. Is this a map, filter, or reduce?"
      ],
      "metadata": {
        "id": "XtpsyxrUG2tY"
      }
    },
    {
      "cell_type": "code",
      "execution_count": 21,
      "metadata": {
        "id": "i9NCV4YZGi6r",
        "colab": {
          "base_uri": "https://localhost:8080/"
        },
        "outputId": "7bfe253f-90c1-4ac6-dd94-0461c85d649b"
      },
      "outputs": [
        {
          "output_type": "stream",
          "name": "stdout",
          "text": [
            "False\n",
            "True\n"
          ]
        }
      ],
      "source": [
        "# Your code here\n",
        "\n",
        "def are_all_adults(ages):\n",
        "    return sum([age>=18 for age in ages])==len(ages)\n",
        "\n",
        "ages = [2 ,45, 67, 18, 9]\n",
        "print(are_all_adults(ages))\n",
        "\n",
        "ages = [45, 67, 18]\n",
        "print(are_all_adults(ages))\n",
        "\n",
        "# it is reduce because it reduces a collection of elements to a one element/number."
      ]
    },
    {
      "cell_type": "markdown",
      "source": [
        "# Exercise 4\n",
        "Write a function \"count_nones\" that takes as input a list of any type of element and returns a count of how many of those elements are of type `None`. Is this a map, filter, or reduce?"
      ],
      "metadata": {
        "id": "b22euArKHMvD"
      }
    },
    {
      "cell_type": "code",
      "source": [
        "# Your code here\n",
        "\n",
        "def count_nones(li):\n",
        "    return sum([1 if x is None else 0 for x in li])\n",
        "\n",
        "li = ['+', None, [3,4], None]\n",
        "\n",
        "count_nones(li)\n",
        "\n",
        "# For the same reason as exercise 3, this is also reduce."
      ],
      "metadata": {
        "id": "X7gvScRpHJMO",
        "colab": {
          "base_uri": "https://localhost:8080/"
        },
        "outputId": "6088305e-1e28-46c3-f6c3-6ac8033f703e"
      },
      "execution_count": 23,
      "outputs": [
        {
          "output_type": "execute_result",
          "data": {
            "text/plain": [
              "2"
            ]
          },
          "metadata": {},
          "execution_count": 23
        }
      ]
    },
    {
      "cell_type": "markdown",
      "source": [
        "# Exercise 5\n",
        "Write a function \"longest_word\" that takes as input a list of strings and returns the longest string in the list.\n",
        "Hint: you may need to use two \"accumulators\""
      ],
      "metadata": {
        "id": "bwCzUof2HdSX"
      }
    },
    {
      "cell_type": "code",
      "execution_count": 41,
      "metadata": {
        "id": "_CYAhusdGjBU",
        "colab": {
          "base_uri": "https://localhost:8080/"
        },
        "outputId": "b9f33a6a-3eeb-4a9e-f249-c650f0b83973"
      },
      "outputs": [
        {
          "output_type": "execute_result",
          "data": {
            "text/plain": [
              "['Barcelona']"
            ]
          },
          "metadata": {},
          "execution_count": 41
        }
      ],
      "source": [
        "# Your code here\n",
        "\n",
        "def longest_word(li):\n",
        "    lengths = [len(word) for word in li]\n",
        "    return [word for word in li if len(word)==max(lengths)]\n",
        "\n",
        "li = ['Reus','Lleida','Girona','Barcelona']\n",
        "longest_word(li)"
      ]
    },
    {
      "cell_type": "markdown",
      "source": [
        "# Exercise 6\n",
        "Write a function \"second_highest_number\" that takes as input a list of numbers and returns the second highest one. Assume that the numbers will be unique (no duplicates). HINT: You may want to write two functions."
      ],
      "metadata": {
        "id": "XI-o8P_jICZW"
      }
    },
    {
      "cell_type": "code",
      "execution_count": 47,
      "metadata": {
        "id": "7ElaxUMbGjSy",
        "colab": {
          "base_uri": "https://localhost:8080/"
        },
        "outputId": "424c58a8-99a7-4998-81a7-8dcb80ec3ee0"
      },
      "outputs": [
        {
          "output_type": "stream",
          "name": "stdout",
          "text": [
            "45\n"
          ]
        }
      ],
      "source": [
        "# Your code here\n",
        "\n",
        "ages = [2 ,45, 67, 18, 9]\n",
        "ages.sort()\n",
        "print(ages[-2])"
      ]
    }
  ]
}