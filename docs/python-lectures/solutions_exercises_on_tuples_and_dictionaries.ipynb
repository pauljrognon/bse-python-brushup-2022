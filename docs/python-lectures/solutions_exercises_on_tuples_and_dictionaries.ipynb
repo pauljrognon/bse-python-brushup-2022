{
  "nbformat": 4,
  "nbformat_minor": 0,
  "metadata": {
    "colab": {
      "provenance": [],
      "collapsed_sections": []
    },
    "kernelspec": {
      "name": "python3",
      "display_name": "Python 3"
    },
    "language_info": {
      "name": "python"
    }
  },
  "cells": [
    {
      "cell_type": "markdown",
      "source": [
        "For these exercises you will work with the scoreboard of an imaginary game. The scoreboard will take different data structures. You will be required to write functions that operate on the scoreboard and compute some results."
      ],
      "metadata": {
        "id": "vmHquJ3CIu9A"
      }
    },
    {
      "cell_type": "markdown",
      "source": [
        "# Exercise 1: Tuples\n",
        "\n",
        "For these questions, the scoreboard will be a list of tuples, where each tuple is of the form (str, int) representing (player_name, score)\n",
        "\n",
        "For example:\n",
        "`[('kewld00d1', 100), ('pumpkin', 550)]`\n",
        "\n",
        "## Question 1 \n",
        "Write a function \"get_scores\" that has one parameter, the scoreboard, and returns a list of the same size with just the scores (a list of ints).\n",
        "\n",
        "\n",
        "## Question 2 \n",
        "Write a function \"top_score\" that has one parameter, the scoreboard, and returns the highest score on the scoreboard.\n",
        "\n",
        "\n",
        "## Question 3\n",
        "Write a function \"top_player\" that has one parameter, the scoreboard, and returns the name of the player with the highest score."
      ],
      "metadata": {
        "id": "N2jydZsYIkQQ"
      }
    },
    {
      "cell_type": "code",
      "execution_count": 3,
      "metadata": {
        "id": "58qGbxACIgFd",
        "colab": {
          "base_uri": "https://localhost:8080/"
        },
        "outputId": "c1bff1db-96f0-462d-a48e-a30ba56c29b6"
      },
      "outputs": [
        {
          "output_type": "stream",
          "name": "stdout",
          "text": [
            "[100, 550, 500]\n",
            "550\n",
            "pumpkin\n"
          ]
        }
      ],
      "source": [
        "# Your code here\n",
        "\n",
        "scoreboard = [('kewld00d1', 100), \n",
        "              ('pumpkin', 550),\n",
        "              ('viscaelbarca', 500)]\n",
        "\n",
        "# Question 1\n",
        "def get_scores(scoreboard):\n",
        "    if len(scoreboard) == 0:\n",
        "        raise ValueError('The scoreboard is empty.')\n",
        "    return [player[1] for player in scoreboard]\n",
        "\n",
        "print(get_scores(scoreboard))\n",
        "\n",
        "# Question 2\n",
        "def top_score(scoreboard):\n",
        "    if len(scoreboard) == 0:\n",
        "        raise ValueError('The scoreboard is empty.')    \n",
        "    scores = get_scores(scoreboard)\n",
        "    return max(scores)\n",
        "\n",
        "print(top_score(scoreboard))\n",
        "\n",
        "# Question 3\n",
        "def top_player(scoreboard):\n",
        "    if len(scoreboard) == 0:\n",
        "        raise ValueError('The scoreboard is empty.')\n",
        "    player_name = None\n",
        "    score_max = top_score(scoreboard)\n",
        "    for player in scoreboard:\n",
        "        if player[1] == score_max:\n",
        "            player_name = player[0]\n",
        "            break\n",
        "    return player_name\n",
        "\n",
        "print(top_player(scoreboard))"
      ]
    },
    {
      "cell_type": "markdown",
      "source": [
        "# Exercise 2: Dictionaries\n",
        "\n",
        "For these questions, the scoreboard will be a list of dictionaries, where each dictionary represents information about a single player.\n",
        "\n",
        "The keys of the dictionary are:\n",
        "\"player\", \"score\", \"country\", \"levels\"\n",
        "\n",
        "For example, one dictionary can be:\n",
        "\n",
        "{\n",
        "   'player': 'tr0llhuntah',\n",
        "   'score': 200,\n",
        "   'country': 'Belgium',\n",
        "   'levels': ['Choco Mountain', 'Rainbow Road']\n",
        "}\n",
        "\n",
        "## Question 1\n",
        "Write a function \"top_player_from_dict\" that has one parameter, the scoreboard, and returns the name of the player with the highest score\n",
        "\n",
        "## Question 2\n",
        "Write a function \"get_good_players\" that has two parameters: first, the scoreboard, second, a limit (an integer). The function will return a list of strings with the names of the players who have a score greater than or equal to the limit.\n",
        "\n",
        "## Question 3\n",
        "Write a function \"top_player_by_country\" that has two parameters: first, the scoreboard, second, a country (a string). The function will return the name of the player with the highest score in the country.\n",
        "\n",
        "## Question 4\n",
        "Write a function \"most_levels_played\" that has one parameter, the scoreboard, and and returns a tuple (str, int) with the name of the player that has played the most levels and the number of levels they played.\n",
        "\n",
        "## Question 5\n",
        "Write a function \"played_levels\" that has one parameter, the scoreboard, and returns a list of strings with the names of all the levels that have been played by any user.\n",
        "\n",
        "The list of levels can have duplicates."
      ],
      "metadata": {
        "id": "2rlw24V6Igpy"
      }
    },
    {
      "cell_type": "code",
      "source": [
        "# Your code here\n",
        "scoreboard = [{'player': 'tr0llhuntah', 'score': 200, 'country': 'Belgium', 'levels': ['Choco Mountain', 'Rainbow Road']},\n",
        "              {'player': 'pumpkin', 'score': 190, 'country': 'Italy', 'levels': ['Rainbow Road', 'Free rider', 'Love is love']},\n",
        "              {'player': 'joopanddenis', 'score': 390, 'country': 'Belgium', 'levels': ['Rainbow Road'] }]\n",
        "# Question 1\n",
        "def top_player_from_dict(scoreboard):\n",
        "    if len(scoreboard) == 0:\n",
        "        raise ValueError('The scoreboard is empty.') \n",
        "    scoreboard_tup= [(player['player'], player['score']) for player in scoreboard]\n",
        "    return top_player(scoreboard_tup)\n",
        "\n",
        "print(top_player_from_dict(scoreboard))\n",
        "\n",
        "# Question 2\n",
        "\n",
        "def get_good_players(scoreboard, limit):\n",
        "    if len(scoreboard) == 0:\n",
        "        raise ValueError('The scoreboard is empty.') \n",
        "    return [player['player'] for player in scoreboard if player['score'] >= limit]\n",
        "\n",
        "print(get_good_players(scoreboard, 200))\n",
        "\n",
        "# Question 3\n",
        "\n",
        "def top_player_by_country(scoreboard, country):\n",
        "    return top_player_from_dict([player for player in scoreboard if player['country'] == country])\n",
        "\n",
        "print(top_player_by_country(scoreboard, 'Belgium'))\n",
        "print(top_player_by_country(scoreboard, 'Italy'))\n",
        "\n",
        "# Question 4\n",
        "\n",
        "def most_levels_played(scoreboard):\n",
        "    if len(scoreboard) == 0:\n",
        "        raise ValueError('The scoreboard is empty.') \n",
        "    #let's consider number of levels as scores\n",
        "    players= [(player['player'], len(player['levels'])) for player in scoreboard]\n",
        "    return top_player(players), top_score(players)\n",
        "\n",
        "print(most_levels_played(scoreboard))\n",
        "\n",
        "# Question 5\n",
        "\n",
        "def played_levels(scoreboard):\n",
        "    if len(scoreboard) == 0:\n",
        "        raise ValueError('The scoreboard is empty.')\n",
        "    levels = []\n",
        "    for player in scoreboard:\n",
        "        levels += player['levels']\n",
        "    return set(levels)\n",
        "\n",
        "print(played_levels(scoreboard))"
      ],
      "metadata": {
        "id": "QFnET8BDLLCm",
        "colab": {
          "base_uri": "https://localhost:8080/"
        },
        "outputId": "516444a3-a7e1-4f73-b4f9-2aa54d4f9b5a"
      },
      "execution_count": 9,
      "outputs": [
        {
          "output_type": "stream",
          "name": "stdout",
          "text": [
            "joopanddenis\n",
            "['tr0llhuntah', 'joopanddenis']\n",
            "joopanddenis\n",
            "pumpkin\n",
            "('pumpkin', 3)\n",
            "{'Love is love', 'Free rider', 'Rainbow Road', 'Choco Mountain'}\n"
          ]
        }
      ]
    }
  ]
}