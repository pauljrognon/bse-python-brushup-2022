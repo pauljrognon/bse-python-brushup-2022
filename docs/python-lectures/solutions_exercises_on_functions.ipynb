{
  "nbformat": 4,
  "nbformat_minor": 0,
  "metadata": {
    "colab": {
      "provenance": []
    },
    "kernelspec": {
      "name": "python3",
      "display_name": "Python 3"
    },
    "language_info": {
      "name": "python"
    }
  },
  "cells": [
    {
      "cell_type": "markdown",
      "source": [
        "# Exercise 1\n",
        "Write a function named \"threetimes\" that takes one parameter, x, and returns he value of x multiplied by three.\n",
        "\n"
      ],
      "metadata": {
        "id": "oQJE7GEFD8L6"
      }
    },
    {
      "cell_type": "code",
      "execution_count": 1,
      "metadata": {
        "id": "EkRBTO8wD42B",
        "colab": {
          "base_uri": "https://localhost:8080/"
        },
        "outputId": "9129fe01-56a9-4e55-e70c-3f8dc2ee7156"
      },
      "outputs": [
        {
          "output_type": "execute_result",
          "data": {
            "text/plain": [
              "9"
            ]
          },
          "metadata": {},
          "execution_count": 1
        }
      ],
      "source": [
        "# Your code here\n",
        "\n",
        "def triple(x):\n",
        "    return 3 * x\n",
        "\n",
        "triple(3)"
      ]
    },
    {
      "cell_type": "markdown",
      "source": [
        "# Exercise 2\n",
        "\n",
        "Write a function named \"subtract\" that takes two parameters and returns the first value minus the second value."
      ],
      "metadata": {
        "id": "zmL_J8TYEKEO"
      }
    },
    {
      "cell_type": "code",
      "source": [
        "# Your code here\n",
        "\n",
        "def subtract(a, b):\n",
        "    return a - b\n",
        "\n",
        "subtract(8, 3)    "
      ],
      "metadata": {
        "id": "PQVKYiHHEKnI",
        "colab": {
          "base_uri": "https://localhost:8080/"
        },
        "outputId": "36864979-899e-43f4-c743-ca3a219175b6"
      },
      "execution_count": 2,
      "outputs": [
        {
          "output_type": "execute_result",
          "data": {
            "text/plain": [
              "5"
            ]
          },
          "metadata": {},
          "execution_count": 2
        }
      ]
    },
    {
      "cell_type": "markdown",
      "source": [
        "# Exercise 3\n",
        "\n",
        "Write a function named \"safe_subtract\" that takes two parameters and returns the result the first value minus the second value. If the values cannot be subtracted, it returns None.\n"
      ],
      "metadata": {
        "id": "m5_KuLtaEaoc"
      }
    },
    {
      "cell_type": "code",
      "source": [
        "# Your code here\n",
        "\n",
        "def safe_subtract(a, b):\n",
        "    try:\n",
        "        return a - b\n",
        "    except:\n",
        "        return None\n",
        "\n",
        "print(safe_subtract(8, 3))\n",
        "print(safe_subtract('a', 3))"
      ],
      "metadata": {
        "id": "qvdsVXBqEbGb",
        "colab": {
          "base_uri": "https://localhost:8080/"
        },
        "outputId": "c692d1ce-b1d1-4c11-fb26-b61a0deeb32a"
      },
      "execution_count": 3,
      "outputs": [
        {
          "output_type": "stream",
          "name": "stdout",
          "text": [
            "5\n",
            "None\n"
          ]
        }
      ]
    },
    {
      "cell_type": "markdown",
      "source": [
        "# Exercise 4\n",
        "\n",
        "Write a function named \"greet\". It takes a name as an argument and returns \"Hello, *name*!\". If the function is called with an argument that is not a string, it should return \"Please provide a name.\""
      ],
      "metadata": {
        "id": "HLGcvIKzEqO1"
      }
    },
    {
      "cell_type": "code",
      "source": [
        "# Your code here\n",
        "\n",
        "def greet_person(name):\n",
        "    if isinstance(name, str):\n",
        "        return(f\"Hello, {name}!\")\n",
        "    else:\n",
        "        return(\"Please provide a name.\")\n",
        "\n",
        "print(greet_person('Oriol'))\n",
        "print(greet_person(9))"
      ],
      "metadata": {
        "id": "Ol0zmZRvEqry",
        "colab": {
          "base_uri": "https://localhost:8080/"
        },
        "outputId": "2f31e1ec-324e-4f5a-dda9-4ed3543bd72e"
      },
      "execution_count": 4,
      "outputs": [
        {
          "output_type": "stream",
          "name": "stdout",
          "text": [
            "Hello, Oriol!\n",
            "Please provide a name.\n"
          ]
        }
      ]
    }
  ]
}