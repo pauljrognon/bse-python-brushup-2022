{
  "nbformat": 4,
  "nbformat_minor": 0,
  "metadata": {
    "colab": {
      "provenance": [],
      "collapsed_sections": [],
      "toc_visible": true
    },
    "kernelspec": {
      "name": "python3",
      "display_name": "Python 3"
    },
    "language_info": {
      "name": "python"
    }
  },
  "cells": [
    {
      "cell_type": "markdown",
      "metadata": {
        "id": "k901S0J55TMo"
      },
      "source": [
        "# Session 2: Python\n",
        "\n",
        "By **Paul Rognon & Miquel Torrens i Dinarès & Maxim Fedotov**\n",
        "\n",
        "*Barcelona School of Economics* –\n",
        "*Data Science Center*\n",
        "\n",
        "October 27th, 2022"
      ]
    },
    {
      "cell_type": "markdown",
      "metadata": {
        "id": "ipnrDmFFEG8i"
      },
      "source": [
        "---\n",
        "## Modules and imports"
      ]
    },
    {
      "cell_type": "markdown",
      "metadata": {
        "id": "Dyt0cU2PFGPD"
      },
      "source": [
        "*Modules* are `python` files, recognised in the computer as `<filename>.py`. Data and methods defined in the module can become part of the namespace by using `import`."
      ]
    },
    {
      "cell_type": "code",
      "source": [
        "x = sin(5)  # The \"sin\" function does not exist"
      ],
      "metadata": {
        "id": "PdPTr3fuY8FE",
        "colab": {
          "base_uri": "https://localhost:8080/",
          "height": 166
        },
        "outputId": "57f5bb45-e0da-47d4-9fb4-9a29671de6c0"
      },
      "execution_count": 2,
      "outputs": [
        {
          "output_type": "error",
          "ename": "NameError",
          "evalue": "ignored",
          "traceback": [
            "\u001b[0;31m---------------------------------------------------------------------------\u001b[0m",
            "\u001b[0;31mNameError\u001b[0m                                 Traceback (most recent call last)",
            "\u001b[0;32m<ipython-input-2-4fbbe43d8ac2>\u001b[0m in \u001b[0;36m<module>\u001b[0;34m\u001b[0m\n\u001b[0;32m----> 1\u001b[0;31m \u001b[0mx\u001b[0m \u001b[0;34m=\u001b[0m \u001b[0msin\u001b[0m\u001b[0;34m(\u001b[0m\u001b[0;36m5\u001b[0m\u001b[0;34m)\u001b[0m  \u001b[0;31m# The \"sin\" function does not exist\u001b[0m\u001b[0;34m\u001b[0m\u001b[0;34m\u001b[0m\u001b[0m\n\u001b[0m",
            "\u001b[0;31mNameError\u001b[0m: name 'sin' is not defined"
          ]
        }
      ]
    },
    {
      "cell_type": "code",
      "source": [
        "from math import sin  # You need to \"import\" it\n",
        "x = sin(5)\n",
        "print(x)"
      ],
      "metadata": {
        "id": "H4HFgP1aYkt6",
        "colab": {
          "base_uri": "https://localhost:8080/"
        },
        "outputId": "7b8813d5-0d24-4bbc-ec54-7332ef9ae89e"
      },
      "execution_count": 3,
      "outputs": [
        {
          "output_type": "stream",
          "name": "stdout",
          "text": [
            "-0.9589242746631385\n"
          ]
        }
      ]
    },
    {
      "cell_type": "markdown",
      "source": [
        "There are some other useful tricks to import data and methods:"
      ],
      "metadata": {
        "id": "aFc2XminZRGl"
      }
    },
    {
      "cell_type": "code",
      "source": [
        "from math import sin  # Imports a single function\n",
        "from math import sin as sinus  # Nickname, useful when you import something with a long name\n",
        "print(sinus(3))\n",
        "\n",
        "import math  # Imports the module in the namespace, methods can then be accessed e.g.\n",
        "print(math.sin(3))"
      ],
      "metadata": {
        "id": "0rdS_Z1YZXK4",
        "colab": {
          "base_uri": "https://localhost:8080/"
        },
        "outputId": "becdc02d-85f1-44f2-b27d-d28da3e6844f"
      },
      "execution_count": 4,
      "outputs": [
        {
          "output_type": "stream",
          "name": "stdout",
          "text": [
            "0.1411200080598672\n",
            "0.1411200080598672\n"
          ]
        }
      ]
    },
    {
      "cell_type": "markdown",
      "source": [
        "Let us discuss here a couple of fundamental imports in `python`:"
      ],
      "metadata": {
        "id": "BIJs6rFWZ1PM"
      }
    },
    {
      "cell_type": "markdown",
      "metadata": {
        "id": "neOHzwXCFDhr"
      },
      "source": [
        "### `numpy` (Numerical Python)\n",
        "\n",
        "*   User's manual: https://numpy.org/doc/stable/\n",
        "\n",
        "This is Python's stack for scientific computing. The fundamental new data type is that of a **`numpy` `array`**, Python's matrix-type object, which is used in the majority of its data analysis, statistics and machine learning modules.\n",
        "\n",
        "These arrays contain data that must all be of the same type (dtype):"
      ]
    },
    {
      "cell_type": "code",
      "source": [
        "# Import module \n",
        "import numpy as np  # usually imported with name \"np\"\n",
        "\n",
        "# Creating an array\n",
        "A = np.array([[1, 2, 3, 4, 5, 6], \n",
        "              [42, 53, 43 ,62, 7, 4], \n",
        "              [-3, -1, -4 ,-8, -52, -4], \n",
        "              [10, 0, 4 , 1, 0, 1]])\n",
        "print(A)\n",
        "print(A.dtype)"
      ],
      "metadata": {
        "id": "oIjyNud0dGIB",
        "colab": {
          "base_uri": "https://localhost:8080/"
        },
        "outputId": "e4219fd3-c804-47ac-ccb6-cdd95430859e"
      },
      "execution_count": 5,
      "outputs": [
        {
          "output_type": "stream",
          "name": "stdout",
          "text": [
            "[[  1   2   3   4   5   6]\n",
            " [ 42  53  43  62   7   4]\n",
            " [ -3  -1  -4  -8 -52  -4]\n",
            " [ 10   0   4   1   0   1]]\n",
            "int64\n"
          ]
        }
      ]
    },
    {
      "cell_type": "markdown",
      "source": [
        "We can access the elements in an array using multi-index notation (counting starts from 0, slicing `a:b` is inclusive:exclusive, negative indices, etc.)"
      ],
      "metadata": {
        "id": "acCVtlQpdha9"
      }
    },
    {
      "cell_type": "code",
      "source": [
        "print(A)\n",
        "# Print from row 3 onwards, columns 3 and 5\n",
        "print(A[2:, [2, 4]])"
      ],
      "metadata": {
        "id": "tu5JZ_xKdtn1",
        "colab": {
          "base_uri": "https://localhost:8080/"
        },
        "outputId": "451fc3a9-9c1e-4e8e-f3d0-d020dde85db0"
      },
      "execution_count": 6,
      "outputs": [
        {
          "output_type": "stream",
          "name": "stdout",
          "text": [
            "[[  1   2   3   4   5   6]\n",
            " [ 42  53  43  62   7   4]\n",
            " [ -3  -1  -4  -8 -52  -4]\n",
            " [ 10   0   4   1   0   1]]\n",
            "[[ -4 -52]\n",
            " [  4   0]]\n"
          ]
        }
      ]
    },
    {
      "cell_type": "code",
      "source": [
        "# Attributes\n",
        "A.shape  # dimension\n",
        "A.min()  # minimum (you can similarly use max, sum, etc.)\n",
        "A.diagonal()  # diagonal\n",
        "B = A.transpose()  # transposing\n",
        "C = A.reshape(6, 4)  # rearrange values to change dimension (CAREFUL!)\n",
        "print(A.shape)\n",
        "print(B.shape)\n",
        "print(C.shape)\n",
        "A.dot(B)  # dot-product (with array B)\n"
      ],
      "metadata": {
        "id": "KGkO4J8aebVg",
        "colab": {
          "base_uri": "https://localhost:8080/"
        },
        "outputId": "8343ab93-5ce7-4ef8-842b-9aa8c5306350"
      },
      "execution_count": 7,
      "outputs": [
        {
          "output_type": "stream",
          "name": "stdout",
          "text": [
            "(4, 6)\n",
            "(6, 4)\n",
            "(6, 4)\n"
          ]
        },
        {
          "output_type": "execute_result",
          "data": {
            "text/plain": [
              "array([[   91,   584,  -333,    32],\n",
              "       [  584, 10331, -1227,   658],\n",
              "       [ -333, -1227,  2810,   -58],\n",
              "       [   32,   658,   -58,   118]])"
            ]
          },
          "metadata": {},
          "execution_count": 7
        }
      ]
    },
    {
      "cell_type": "markdown",
      "metadata": {
        "id": "JnQHBnQ6FT-R"
      },
      "source": [
        "#### `array` operations"
      ]
    },
    {
      "cell_type": "markdown",
      "source": [
        "Mathematical symbols take on mathematical meanings in `numpy`, and so the `+` operator between two `np.array` just tries to add them together elementwise (it works differently to `list`-type objects). To concatenate you need a specific function.\n"
      ],
      "metadata": {
        "id": "OulgR7t4g4pX"
      }
    },
    {
      "cell_type": "code",
      "source": [
        "# Numpy array addition: \n",
        "a, b = np.array([1, 2, 3]), np.array([4, 5, 6])\n",
        "print(a + b)  # Addition\n",
        "print(np.concatenate([a,b]))  # Concatenation"
      ],
      "metadata": {
        "id": "xx1yoFLYhiVo",
        "colab": {
          "base_uri": "https://localhost:8080/"
        },
        "outputId": "e9265309-3bd8-4fb5-cef1-f32391260fb2"
      },
      "execution_count": 8,
      "outputs": [
        {
          "output_type": "stream",
          "name": "stdout",
          "text": [
            "[5 7 9]\n",
            "[1 2 3 4 5 6]\n"
          ]
        }
      ]
    },
    {
      "cell_type": "markdown",
      "metadata": {
        "id": "rjsp0uQiFLwy"
      },
      "source": [
        "### `pandas` (Panel Data Structures)"
      ]
    },
    {
      "cell_type": "markdown",
      "source": [
        "This is the module in Python for doing rectangular-data management, analysis and plotting. It provides tools to read and write external data.\n"
      ],
      "metadata": {
        "id": "3K-y3YrOjpYj"
      }
    },
    {
      "cell_type": "code",
      "source": [
        "import pandas as pd  # Usually imported with name \"pd\"\n",
        "\n",
        "file_path = \"https://raw.githubusercontent.com/barcelonagse-datascience/academic_files/master/data/tips.csv\"\n",
        "tips = pd.read_csv(file_path)  # read_csv allows importing .CSV files\n",
        "print(tips.head(5))  # head gives first rows (arg = number of rows)\n",
        "\n",
        "# Data formats in pandas\n",
        "print(type(tips))\n",
        "print(type(tips['tip']))"
      ],
      "metadata": {
        "id": "i-wfPqHzi20o",
        "colab": {
          "base_uri": "https://localhost:8080/"
        },
        "outputId": "7c64d730-2a66-48fa-b764-db22d0a4ab06"
      },
      "execution_count": 9,
      "outputs": [
        {
          "output_type": "stream",
          "name": "stdout",
          "text": [
            "   total_bill   tip     sex smoker  day    time  size\n",
            "0       16.99  1.01  Female     No  Sun  Dinner     2\n",
            "1       10.34  1.66    Male     No  Sun  Dinner     3\n",
            "2       21.01  3.50    Male     No  Sun  Dinner     3\n",
            "3       23.68  3.31    Male     No  Sun  Dinner     2\n",
            "4       24.59  3.61  Female     No  Sun  Dinner     4\n",
            "<class 'pandas.core.frame.DataFrame'>\n",
            "<class 'pandas.core.series.Series'>\n"
          ]
        }
      ]
    },
    {
      "cell_type": "markdown",
      "source": [
        "There are the two basic data formats in `pandas`: `Series` and `DataFrame`. A `Series` is the equivalent to a vector in linear algebra. A `DataFrame` is the equivalent to a rectangular data structure. These types are equipped with several attributes useful for data management and analysis. In the tips example, the variable object `tips` is a `DataFrame`, while any individual column would be a `Series`."
      ],
      "metadata": {
        "id": "LkF0FABWdezQ"
      }
    },
    {
      "cell_type": "markdown",
      "metadata": {
        "id": "RCESXNfRGQhm"
      },
      "source": [
        "---\n",
        "## 7. Structured data operations (`pandas`)"
      ]
    },
    {
      "cell_type": "markdown",
      "source": [
        "### `Series`"
      ],
      "metadata": {
        "id": "RwSlaPsxfh_a"
      }
    },
    {
      "cell_type": "markdown",
      "source": [
        "They are accessed via their index, which is a label (a number or a string) for each entry. They are typically obtained by reading a dataset from an external file or when operating on a `DataFrame`, but they can be defined manually:"
      ],
      "metadata": {
        "id": "CW7nQyAlflWx"
      }
    },
    {
      "cell_type": "code",
      "source": [
        "# Here no indices are specified (by default they are numerical)\n",
        "a_series = pd.Series([1, 15, -5, None, 4, 123, 0, 78, 0, 1, -4])\n",
        "a_series"
      ],
      "metadata": {
        "id": "AV1XFsdVfhrM",
        "colab": {
          "base_uri": "https://localhost:8080/"
        },
        "outputId": "21907d20-784f-4ceb-d99c-ccc91a732567"
      },
      "execution_count": 10,
      "outputs": [
        {
          "output_type": "execute_result",
          "data": {
            "text/plain": [
              "0       1.0\n",
              "1      15.0\n",
              "2      -5.0\n",
              "3       NaN\n",
              "4       4.0\n",
              "5     123.0\n",
              "6       0.0\n",
              "7      78.0\n",
              "8       0.0\n",
              "9       1.0\n",
              "10     -4.0\n",
              "dtype: float64"
            ]
          },
          "metadata": {},
          "execution_count": 10
        }
      ]
    },
    {
      "cell_type": "code",
      "source": [
        "# Accessing a certain value via the index\n",
        "a_series[0]"
      ],
      "metadata": {
        "id": "Rh0dMfKagF-d",
        "colab": {
          "base_uri": "https://localhost:8080/"
        },
        "outputId": "8ad4d3af-1c53-4c77-96ac-a2f97df8eae2"
      },
      "execution_count": 11,
      "outputs": [
        {
          "output_type": "execute_result",
          "data": {
            "text/plain": [
              "1.0"
            ]
          },
          "metadata": {},
          "execution_count": 11
        }
      ]
    },
    {
      "cell_type": "code",
      "source": [
        "# .values returns a numpy.ndarray of the values\n",
        "print(a_series.values)\n",
        "# .index returns the index of the series in a object of index\n",
        "print(type(a_series.index))"
      ],
      "metadata": {
        "id": "Kbn8gNHggJsV",
        "colab": {
          "base_uri": "https://localhost:8080/"
        },
        "outputId": "a6df75fe-cfd6-49ae-c828-cb12b0125b05"
      },
      "execution_count": 12,
      "outputs": [
        {
          "output_type": "stream",
          "name": "stdout",
          "text": [
            "[  1.  15.  -5.  nan   4. 123.   0.  78.   0.   1.  -4.]\n",
            "<class 'pandas.core.indexes.range.RangeIndex'>\n"
          ]
        }
      ]
    },
    {
      "cell_type": "code",
      "source": [
        "# You can overwrite the index directly: \n",
        "a_series.index = [\"a\", \"b\", \"c\", \"d\", \"e\", \"f\", \"g\", \"h\", \"i\", \"j\", \"k\"]\n",
        "# .index.values returns the index of the series in a numpy array\n",
        "a_series.index.values"
      ],
      "metadata": {
        "id": "VvmXzQThhSKW",
        "colab": {
          "base_uri": "https://localhost:8080/"
        },
        "outputId": "8256158e-7854-45c7-f889-e5414fe3eabb"
      },
      "execution_count": 13,
      "outputs": [
        {
          "output_type": "execute_result",
          "data": {
            "text/plain": [
              "array(['a', 'b', 'c', 'd', 'e', 'f', 'g', 'h', 'i', 'j', 'k'],\n",
              "      dtype=object)"
            ]
          },
          "metadata": {},
          "execution_count": 13
        }
      ]
    },
    {
      "cell_type": "markdown",
      "source": [
        "Accessing values via the index can be very useful, but sometimes you want to access the values by their order in the series as if it was a Python list. In other words \"I want the first value!\", without having to know the name of the label. This can be achieved with `.iloc`:\n"
      ],
      "metadata": {
        "id": "6vS1oWK1ho5d"
      }
    },
    {
      "cell_type": "code",
      "source": [
        "a_series.iloc[0], a_series[\"a\"], a_series.iloc[-1]\n"
      ],
      "metadata": {
        "id": "jX0gOqszlHza",
        "colab": {
          "base_uri": "https://localhost:8080/"
        },
        "outputId": "0361cf32-1d4b-4a48-80ff-96fa1e900f09"
      },
      "execution_count": 14,
      "outputs": [
        {
          "output_type": "execute_result",
          "data": {
            "text/plain": [
              "(1.0, 1.0, -4.0)"
            ]
          },
          "metadata": {},
          "execution_count": 14
        }
      ]
    },
    {
      "cell_type": "code",
      "source": [
        "# This just resets the index to default values\n",
        "a_series = a_series.reset_index(drop = True)\n",
        "\n",
        "# now if I sort the values from smaller to greater:\n",
        "x = a_series.sort_values()\n",
        "print(x)\n",
        "x[0], x.iloc[0] \n",
        "# the indices remain, so x indexed by 0 is 1\n",
        "# the ordering changes, so the first element of x is -5.0, the minimum"
      ],
      "metadata": {
        "id": "lz9XaTt1mFrN",
        "colab": {
          "base_uri": "https://localhost:8080/"
        },
        "outputId": "6e6c347c-67dc-4fd1-91d8-0295d961e627"
      },
      "execution_count": 15,
      "outputs": [
        {
          "output_type": "stream",
          "name": "stdout",
          "text": [
            "2      -5.0\n",
            "10     -4.0\n",
            "6       0.0\n",
            "8       0.0\n",
            "0       1.0\n",
            "9       1.0\n",
            "4       4.0\n",
            "1      15.0\n",
            "7      78.0\n",
            "5     123.0\n",
            "3       NaN\n",
            "dtype: float64\n"
          ]
        },
        {
          "output_type": "execute_result",
          "data": {
            "text/plain": [
              "(1.0, -5.0)"
            ]
          },
          "metadata": {},
          "execution_count": 15
        }
      ]
    },
    {
      "cell_type": "markdown",
      "source": [
        "As usual one should explore the attributes of any python object one ends up working with. We have already accessed the `.index` and `.value`. Some other that are worth highlighting:\n",
        "\n",
        "*   `.map`\n",
        "*   `.corr`\n",
        "*   `.describe`\n",
        "*   `.hist`\n",
        "*   `.plot`\n",
        "*   `.size`\n",
        "*   `.value_counts`\n",
        "*   `.sort_values`"
      ],
      "metadata": {
        "id": "nBv2VEZ6z5MF"
      }
    },
    {
      "cell_type": "markdown",
      "source": [
        "For example:"
      ],
      "metadata": {
        "id": "4jCJ7CDS1B9c"
      }
    },
    {
      "cell_type": "code",
      "source": [
        "a_series.describe()"
      ],
      "metadata": {
        "id": "DE0jn-Tuz6Q5",
        "colab": {
          "base_uri": "https://localhost:8080/"
        },
        "outputId": "f82de7b0-c504-44e6-fbe1-b3c822bc4b20"
      },
      "execution_count": 16,
      "outputs": [
        {
          "output_type": "execute_result",
          "data": {
            "text/plain": [
              "count     10.000000\n",
              "mean      21.300000\n",
              "std       43.410316\n",
              "min       -5.000000\n",
              "25%        0.000000\n",
              "50%        1.000000\n",
              "75%       12.250000\n",
              "max      123.000000\n",
              "dtype: float64"
            ]
          },
          "metadata": {},
          "execution_count": 16
        }
      ]
    },
    {
      "cell_type": "markdown",
      "source": [
        "### Operations with `Series`"
      ],
      "metadata": {
        "id": "RmxMKWj41gIu"
      }
    },
    {
      "cell_type": "markdown",
      "source": [
        "`Series` are `numpy` arrays behind the scenes, so we can compute element-wise functions on one series or several series at the same time. The result is another series with data type depending on the type of operations performed.\n"
      ],
      "metadata": {
        "id": "vkOthCCwnJ5l"
      }
    },
    {
      "cell_type": "code",
      "source": [
        "series1 = pd.Series([1, 3, 5, 7])\n",
        "series2 = pd.Series([0, 10, -1, 6])\n",
        "\n",
        "series3 = 2 * series1 + abs(series2)\n",
        "series4 = series1 > series2 \n",
        "\n",
        "print(series3)\n",
        "print(series4)\n",
        "# Take a look at the different Series objects!"
      ],
      "metadata": {
        "id": "IFwLE9_anTxm",
        "colab": {
          "base_uri": "https://localhost:8080/"
        },
        "outputId": "a16d0fb5-ca60-4ec4-9a3e-af296c2068c6"
      },
      "execution_count": 17,
      "outputs": [
        {
          "output_type": "stream",
          "name": "stdout",
          "text": [
            "0     2\n",
            "1    16\n",
            "2    11\n",
            "3    20\n",
            "dtype: int64\n",
            "0     True\n",
            "1    False\n",
            "2     True\n",
            "3     True\n",
            "dtype: bool\n"
          ]
        }
      ]
    },
    {
      "cell_type": "markdown",
      "source": [
        "What goes on in the previous examples is more subtle than it looks. How does Python know which elements from each series to join in the required operation together? What happens is that the indices happened to be the same. So when we ask something like\n",
        "\n",
        "`series3 = series1 + series2`,\n",
        "\n",
        "Python looks for entries in each series with the same index and then does an elementwise summation that it stores in a like-wise index in Series 3.\n",
        "\n",
        "Consider instead the following example:\n"
      ],
      "metadata": {
        "id": "fJxzTTJMpLRX"
      }
    },
    {
      "cell_type": "code",
      "source": [
        "series1 = pd.Series([1, 10], index=[\"A\", \"B\"])\n",
        "series2 = pd.Series([4, -1], index=[\"C\", \"D\"])\n",
        "series3 = series1 + series2\n",
        "print(series3)"
      ],
      "metadata": {
        "id": "IX9hf81tpY5a",
        "colab": {
          "base_uri": "https://localhost:8080/"
        },
        "outputId": "02bc646c-b3e8-46d9-d5e5-7cd3c6c390a4"
      },
      "execution_count": 18,
      "outputs": [
        {
          "output_type": "stream",
          "name": "stdout",
          "text": [
            "A   NaN\n",
            "B   NaN\n",
            "C   NaN\n",
            "D   NaN\n",
            "dtype: float64\n"
          ]
        }
      ]
    },
    {
      "cell_type": "markdown",
      "source": [
        "This aspect makes it very easy to work with series that we have sorted or manipulated otherwise; there is always the address to access a value. This helps prevent accidentally combining values we didn't mean to combine!"
      ],
      "metadata": {
        "id": "d5NV02lcpiVB"
      }
    },
    {
      "cell_type": "code",
      "source": [
        "# accessing by list of index labels\n",
        "a_series.index = [\"A\", \"B\", \"C\", \"D\", \"E\", \"F\", \"G\", \"H\", \"I\", \"J\", \"K\"]\n",
        "x = a_series[[\"A\", \"K\"]]"
      ],
      "metadata": {
        "id": "U_V0iQXnvh-e"
      },
      "execution_count": 19,
      "outputs": []
    },
    {
      "cell_type": "code",
      "source": [
        "a_series"
      ],
      "metadata": {
        "id": "hy8rOvDXwC9y",
        "colab": {
          "base_uri": "https://localhost:8080/"
        },
        "outputId": "4ef7325d-20cc-4d8c-9acb-bc5564bf92ac"
      },
      "execution_count": 20,
      "outputs": [
        {
          "output_type": "execute_result",
          "data": {
            "text/plain": [
              "A      1.0\n",
              "B     15.0\n",
              "C     -5.0\n",
              "D      NaN\n",
              "E      4.0\n",
              "F    123.0\n",
              "G      0.0\n",
              "H     78.0\n",
              "I      0.0\n",
              "J      1.0\n",
              "K     -4.0\n",
              "dtype: float64"
            ]
          },
          "metadata": {},
          "execution_count": 20
        }
      ]
    },
    {
      "cell_type": "code",
      "source": [
        "x"
      ],
      "metadata": {
        "id": "Brsq8K9TwDWN",
        "colab": {
          "base_uri": "https://localhost:8080/"
        },
        "outputId": "9081dc0d-61ef-4daa-ec91-8465d03d6f96"
      },
      "execution_count": 21,
      "outputs": [
        {
          "output_type": "execute_result",
          "data": {
            "text/plain": [
              "A    1.0\n",
              "K   -4.0\n",
              "dtype: float64"
            ]
          },
          "metadata": {},
          "execution_count": 21
        }
      ]
    },
    {
      "cell_type": "code",
      "source": [
        "# Getting a boolean-valued series by checking a condition\n",
        "choose = (a_series == 0.0)\n",
        "choose"
      ],
      "metadata": {
        "id": "oq04uA8Zvqro",
        "colab": {
          "base_uri": "https://localhost:8080/"
        },
        "outputId": "b29db1e3-8008-4c4c-af81-8a6be679183a"
      },
      "execution_count": 22,
      "outputs": [
        {
          "output_type": "execute_result",
          "data": {
            "text/plain": [
              "A    False\n",
              "B    False\n",
              "C    False\n",
              "D    False\n",
              "E    False\n",
              "F    False\n",
              "G     True\n",
              "H    False\n",
              "I     True\n",
              "J    False\n",
              "K    False\n",
              "dtype: bool"
            ]
          },
          "metadata": {},
          "execution_count": 22
        }
      ]
    },
    {
      "cell_type": "code",
      "source": [
        "# Notice the index of x is a SUBSET of the index of \"a_series\"\n",
        "# This can be useful when needing to relate values back to the original \"a_series\"!\n",
        "x = a_series[choose]\n",
        "print(x)\n",
        "# or the complement\n",
        "a_series[~choose]"
      ],
      "metadata": {
        "id": "scBM8fbSvw2l",
        "colab": {
          "base_uri": "https://localhost:8080/"
        },
        "outputId": "37996d71-554b-48d0-9949-197c9d94c82e"
      },
      "execution_count": 23,
      "outputs": [
        {
          "output_type": "stream",
          "name": "stdout",
          "text": [
            "G    0.0\n",
            "I    0.0\n",
            "dtype: float64\n"
          ]
        },
        {
          "output_type": "execute_result",
          "data": {
            "text/plain": [
              "A      1.0\n",
              "B     15.0\n",
              "C     -5.0\n",
              "D      NaN\n",
              "E      4.0\n",
              "F    123.0\n",
              "H     78.0\n",
              "J      1.0\n",
              "K     -4.0\n",
              "dtype: float64"
            ]
          },
          "metadata": {},
          "execution_count": 23
        }
      ]
    },
    {
      "cell_type": "markdown",
      "source": [
        "We often use boolean masks to filter data in Pandas. We also get special boolean algebra operators to use in `numpy`/`pandas`, distinct from the and/or/not you will use in regular Python: `&` (AND), `|` (OR), `~` (NOT).\n"
      ],
      "metadata": {
        "id": "hFrX8z9ZwxEc"
      }
    },
    {
      "cell_type": "markdown",
      "source": [
        "### Missing values\n",
        "\n",
        "A series object in `pandas` can help us deal with missing data. We already see very naturally how data management can quickly lead to missing data."
      ],
      "metadata": {
        "id": "_tpBwMYBxe79"
      }
    },
    {
      "cell_type": "code",
      "source": [
        "series3 = series1 + series2\n",
        "print(series3)"
      ],
      "metadata": {
        "id": "EOouM1SZx4oo",
        "colab": {
          "base_uri": "https://localhost:8080/"
        },
        "outputId": "833427ed-da26-4617-c1eb-11e373982444"
      },
      "execution_count": 24,
      "outputs": [
        {
          "output_type": "stream",
          "name": "stdout",
          "text": [
            "A   NaN\n",
            "B   NaN\n",
            "C   NaN\n",
            "D   NaN\n",
            "dtype: float64\n"
          ]
        }
      ]
    },
    {
      "cell_type": "markdown",
      "source": [
        "What happened there is that in the operation labels could not be matched, so `pandas` tried to sum a numeric value with missing value, the result of which is a missing value.\n",
        "The way to manually specify in `pandas` that a value is missing is to use `None`, as below:"
      ],
      "metadata": {
        "id": "-J3r1-gjx5Vz"
      }
    },
    {
      "cell_type": "code",
      "source": [
        "temp = pd.Series([1, None, 2])\n",
        "print(temp)"
      ],
      "metadata": {
        "id": "x2sKM0fdyHDi",
        "colab": {
          "base_uri": "https://localhost:8080/"
        },
        "outputId": "e48db412-42f3-4ea9-ccbf-b931ba7f264d"
      },
      "execution_count": 25,
      "outputs": [
        {
          "output_type": "stream",
          "name": "stdout",
          "text": [
            "0    1.0\n",
            "1    NaN\n",
            "2    2.0\n",
            "dtype: float64\n"
          ]
        }
      ]
    },
    {
      "cell_type": "markdown",
      "source": [
        "`pandas` coerces `None` values to `NaN` (\"Not a Number\") values. We can create boolean masks on the basis of such values. The way to identify NaN or None values in a Series is to use either of the equivalent two attributes: `.isna()` and `.isnull()` (existing the opposite `.notna()` and `.notnull()`)."
      ],
      "metadata": {
        "id": "iyFuiqSfyNKa"
      }
    },
    {
      "cell_type": "code",
      "source": [
        "print(temp.isna())\n",
        "print(temp.isnull())"
      ],
      "metadata": {
        "id": "YKL0BWZ4ys07",
        "colab": {
          "base_uri": "https://localhost:8080/"
        },
        "outputId": "120e21e1-d497-456c-ddf2-80c79e59dce5"
      },
      "execution_count": 26,
      "outputs": [
        {
          "output_type": "stream",
          "name": "stdout",
          "text": [
            "0    False\n",
            "1     True\n",
            "2    False\n",
            "dtype: bool\n",
            "0    False\n",
            "1     True\n",
            "2    False\n",
            "dtype: bool\n"
          ]
        }
      ]
    },
    {
      "cell_type": "code",
      "source": [
        "temp.notna()\n",
        "temp.notnull()"
      ],
      "metadata": {
        "id": "hXKCl1Vczg1z",
        "colab": {
          "base_uri": "https://localhost:8080/"
        },
        "outputId": "49bdde8f-524b-4d55-bb83-f6070a774e28"
      },
      "execution_count": 27,
      "outputs": [
        {
          "output_type": "execute_result",
          "data": {
            "text/plain": [
              "0     True\n",
              "1    False\n",
              "2     True\n",
              "dtype: bool"
            ]
          },
          "metadata": {},
          "execution_count": 27
        }
      ]
    },
    {
      "cell_type": "markdown",
      "source": [
        "### `DataFrame`"
      ],
      "metadata": {
        "id": "7wgzBXTO0jiU"
      }
    },
    {
      "cell_type": "markdown",
      "source": [
        "This is `pandas` model for rectangular data. Operationally similar to a dictionary of `Series`; each column of the `DataFrame` is a `Series` object, and comes with all the attributes/methods of a `Series`. An implication is that within each column the data type is common; across columns this can change."
      ],
      "metadata": {
        "id": "Miqvm-D61ulF"
      }
    },
    {
      "cell_type": "code",
      "source": [
        "# Recall our \"tips\" dataset\n",
        "tips.head(5)  # The first method of our DataFrame object"
      ],
      "metadata": {
        "id": "sUiqHzru2EuJ",
        "colab": {
          "base_uri": "https://localhost:8080/",
          "height": 206
        },
        "outputId": "55457085-f5f7-491a-86e9-5be023b5fda8"
      },
      "execution_count": 28,
      "outputs": [
        {
          "output_type": "execute_result",
          "data": {
            "text/plain": [
              "   total_bill   tip     sex smoker  day    time  size\n",
              "0       16.99  1.01  Female     No  Sun  Dinner     2\n",
              "1       10.34  1.66    Male     No  Sun  Dinner     3\n",
              "2       21.01  3.50    Male     No  Sun  Dinner     3\n",
              "3       23.68  3.31    Male     No  Sun  Dinner     2\n",
              "4       24.59  3.61  Female     No  Sun  Dinner     4"
            ],
            "text/html": [
              "\n",
              "  <div id=\"df-dc97c7a4-03f6-4c62-922f-c796005b658a\">\n",
              "    <div class=\"colab-df-container\">\n",
              "      <div>\n",
              "<style scoped>\n",
              "    .dataframe tbody tr th:only-of-type {\n",
              "        vertical-align: middle;\n",
              "    }\n",
              "\n",
              "    .dataframe tbody tr th {\n",
              "        vertical-align: top;\n",
              "    }\n",
              "\n",
              "    .dataframe thead th {\n",
              "        text-align: right;\n",
              "    }\n",
              "</style>\n",
              "<table border=\"1\" class=\"dataframe\">\n",
              "  <thead>\n",
              "    <tr style=\"text-align: right;\">\n",
              "      <th></th>\n",
              "      <th>total_bill</th>\n",
              "      <th>tip</th>\n",
              "      <th>sex</th>\n",
              "      <th>smoker</th>\n",
              "      <th>day</th>\n",
              "      <th>time</th>\n",
              "      <th>size</th>\n",
              "    </tr>\n",
              "  </thead>\n",
              "  <tbody>\n",
              "    <tr>\n",
              "      <th>0</th>\n",
              "      <td>16.99</td>\n",
              "      <td>1.01</td>\n",
              "      <td>Female</td>\n",
              "      <td>No</td>\n",
              "      <td>Sun</td>\n",
              "      <td>Dinner</td>\n",
              "      <td>2</td>\n",
              "    </tr>\n",
              "    <tr>\n",
              "      <th>1</th>\n",
              "      <td>10.34</td>\n",
              "      <td>1.66</td>\n",
              "      <td>Male</td>\n",
              "      <td>No</td>\n",
              "      <td>Sun</td>\n",
              "      <td>Dinner</td>\n",
              "      <td>3</td>\n",
              "    </tr>\n",
              "    <tr>\n",
              "      <th>2</th>\n",
              "      <td>21.01</td>\n",
              "      <td>3.50</td>\n",
              "      <td>Male</td>\n",
              "      <td>No</td>\n",
              "      <td>Sun</td>\n",
              "      <td>Dinner</td>\n",
              "      <td>3</td>\n",
              "    </tr>\n",
              "    <tr>\n",
              "      <th>3</th>\n",
              "      <td>23.68</td>\n",
              "      <td>3.31</td>\n",
              "      <td>Male</td>\n",
              "      <td>No</td>\n",
              "      <td>Sun</td>\n",
              "      <td>Dinner</td>\n",
              "      <td>2</td>\n",
              "    </tr>\n",
              "    <tr>\n",
              "      <th>4</th>\n",
              "      <td>24.59</td>\n",
              "      <td>3.61</td>\n",
              "      <td>Female</td>\n",
              "      <td>No</td>\n",
              "      <td>Sun</td>\n",
              "      <td>Dinner</td>\n",
              "      <td>4</td>\n",
              "    </tr>\n",
              "  </tbody>\n",
              "</table>\n",
              "</div>\n",
              "      <button class=\"colab-df-convert\" onclick=\"convertToInteractive('df-dc97c7a4-03f6-4c62-922f-c796005b658a')\"\n",
              "              title=\"Convert this dataframe to an interactive table.\"\n",
              "              style=\"display:none;\">\n",
              "        \n",
              "  <svg xmlns=\"http://www.w3.org/2000/svg\" height=\"24px\"viewBox=\"0 0 24 24\"\n",
              "       width=\"24px\">\n",
              "    <path d=\"M0 0h24v24H0V0z\" fill=\"none\"/>\n",
              "    <path d=\"M18.56 5.44l.94 2.06.94-2.06 2.06-.94-2.06-.94-.94-2.06-.94 2.06-2.06.94zm-11 1L8.5 8.5l.94-2.06 2.06-.94-2.06-.94L8.5 2.5l-.94 2.06-2.06.94zm10 10l.94 2.06.94-2.06 2.06-.94-2.06-.94-.94-2.06-.94 2.06-2.06.94z\"/><path d=\"M17.41 7.96l-1.37-1.37c-.4-.4-.92-.59-1.43-.59-.52 0-1.04.2-1.43.59L10.3 9.45l-7.72 7.72c-.78.78-.78 2.05 0 2.83L4 21.41c.39.39.9.59 1.41.59.51 0 1.02-.2 1.41-.59l7.78-7.78 2.81-2.81c.8-.78.8-2.07 0-2.86zM5.41 20L4 18.59l7.72-7.72 1.47 1.35L5.41 20z\"/>\n",
              "  </svg>\n",
              "      </button>\n",
              "      \n",
              "  <style>\n",
              "    .colab-df-container {\n",
              "      display:flex;\n",
              "      flex-wrap:wrap;\n",
              "      gap: 12px;\n",
              "    }\n",
              "\n",
              "    .colab-df-convert {\n",
              "      background-color: #E8F0FE;\n",
              "      border: none;\n",
              "      border-radius: 50%;\n",
              "      cursor: pointer;\n",
              "      display: none;\n",
              "      fill: #1967D2;\n",
              "      height: 32px;\n",
              "      padding: 0 0 0 0;\n",
              "      width: 32px;\n",
              "    }\n",
              "\n",
              "    .colab-df-convert:hover {\n",
              "      background-color: #E2EBFA;\n",
              "      box-shadow: 0px 1px 2px rgba(60, 64, 67, 0.3), 0px 1px 3px 1px rgba(60, 64, 67, 0.15);\n",
              "      fill: #174EA6;\n",
              "    }\n",
              "\n",
              "    [theme=dark] .colab-df-convert {\n",
              "      background-color: #3B4455;\n",
              "      fill: #D2E3FC;\n",
              "    }\n",
              "\n",
              "    [theme=dark] .colab-df-convert:hover {\n",
              "      background-color: #434B5C;\n",
              "      box-shadow: 0px 1px 3px 1px rgba(0, 0, 0, 0.15);\n",
              "      filter: drop-shadow(0px 1px 2px rgba(0, 0, 0, 0.3));\n",
              "      fill: #FFFFFF;\n",
              "    }\n",
              "  </style>\n",
              "\n",
              "      <script>\n",
              "        const buttonEl =\n",
              "          document.querySelector('#df-dc97c7a4-03f6-4c62-922f-c796005b658a button.colab-df-convert');\n",
              "        buttonEl.style.display =\n",
              "          google.colab.kernel.accessAllowed ? 'block' : 'none';\n",
              "\n",
              "        async function convertToInteractive(key) {\n",
              "          const element = document.querySelector('#df-dc97c7a4-03f6-4c62-922f-c796005b658a');\n",
              "          const dataTable =\n",
              "            await google.colab.kernel.invokeFunction('convertToInteractive',\n",
              "                                                     [key], {});\n",
              "          if (!dataTable) return;\n",
              "\n",
              "          const docLinkHtml = 'Like what you see? Visit the ' +\n",
              "            '<a target=\"_blank\" href=https://colab.research.google.com/notebooks/data_table.ipynb>data table notebook</a>'\n",
              "            + ' to learn more about interactive tables.';\n",
              "          element.innerHTML = '';\n",
              "          dataTable['output_type'] = 'display_data';\n",
              "          await google.colab.output.renderOutput(dataTable, element);\n",
              "          const docLink = document.createElement('div');\n",
              "          docLink.innerHTML = docLinkHtml;\n",
              "          element.appendChild(docLink);\n",
              "        }\n",
              "      </script>\n",
              "    </div>\n",
              "  </div>\n",
              "  "
            ]
          },
          "metadata": {},
          "execution_count": 28
        }
      ]
    },
    {
      "cell_type": "code",
      "source": [
        "# the other important attribute: name of rows and columns\n",
        "print(tips.shape)\n",
        "print(tips.index)\n",
        "print(tips.columns)"
      ],
      "metadata": {
        "id": "2soiasvW2GmP",
        "colab": {
          "base_uri": "https://localhost:8080/"
        },
        "outputId": "c3c17294-c4ee-4c53-a603-ad79f6632225"
      },
      "execution_count": 29,
      "outputs": [
        {
          "output_type": "stream",
          "name": "stdout",
          "text": [
            "(244, 7)\n",
            "RangeIndex(start=0, stop=244, step=1)\n",
            "Index(['total_bill', 'tip', 'sex', 'smoker', 'day', 'time', 'size'], dtype='object')\n"
          ]
        }
      ]
    },
    {
      "cell_type": "markdown",
      "source": [
        "To access the columns of a `DataFrame` there are two standard ways."
      ],
      "metadata": {
        "id": "auK1XdC729qL"
      }
    },
    {
      "cell_type": "code",
      "source": [
        "tips.tip  # As if it were a method (NOT recommended)\n",
        "tips[\"size\"]  # As if it were a named index (RECOMMENDED)"
      ],
      "metadata": {
        "id": "5QRthrPs3C6z",
        "colab": {
          "base_uri": "https://localhost:8080/"
        },
        "outputId": "2e897118-f682-40f5-81e7-d83de7ba5776"
      },
      "execution_count": 30,
      "outputs": [
        {
          "output_type": "execute_result",
          "data": {
            "text/plain": [
              "0      2\n",
              "1      3\n",
              "2      3\n",
              "3      2\n",
              "4      4\n",
              "      ..\n",
              "239    3\n",
              "240    2\n",
              "241    2\n",
              "242    2\n",
              "243    2\n",
              "Name: size, Length: 244, dtype: int64"
            ]
          },
          "metadata": {},
          "execution_count": 30
        }
      ]
    },
    {
      "cell_type": "markdown",
      "source": [
        "The latter is recommended because, for example, the column `size` cannot be accessed via the first option (it would be confused with the method `.size`). The result of this operation is an object of type `Series`.\n",
        "\n",
        "We can access various columns at a time, supplying a list of columns, obtaining a dataframe with the same index as the original and columns the chosen subset."
      ],
      "metadata": {
        "id": "bcQnpynH3QQO"
      }
    },
    {
      "cell_type": "code",
      "source": [
        "tips[[\"tip\", \"size\", \"sex\"]].head(5)"
      ],
      "metadata": {
        "id": "wITxlEzs35oY",
        "colab": {
          "base_uri": "https://localhost:8080/",
          "height": 206
        },
        "outputId": "ccb7b266-6170-4f65-eb8c-c065dc33e5df"
      },
      "execution_count": 31,
      "outputs": [
        {
          "output_type": "execute_result",
          "data": {
            "text/plain": [
              "    tip  size     sex\n",
              "0  1.01     2  Female\n",
              "1  1.66     3    Male\n",
              "2  3.50     3    Male\n",
              "3  3.31     2    Male\n",
              "4  3.61     4  Female"
            ],
            "text/html": [
              "\n",
              "  <div id=\"df-b0a022b5-45a5-4c02-a759-4e5429d2d742\">\n",
              "    <div class=\"colab-df-container\">\n",
              "      <div>\n",
              "<style scoped>\n",
              "    .dataframe tbody tr th:only-of-type {\n",
              "        vertical-align: middle;\n",
              "    }\n",
              "\n",
              "    .dataframe tbody tr th {\n",
              "        vertical-align: top;\n",
              "    }\n",
              "\n",
              "    .dataframe thead th {\n",
              "        text-align: right;\n",
              "    }\n",
              "</style>\n",
              "<table border=\"1\" class=\"dataframe\">\n",
              "  <thead>\n",
              "    <tr style=\"text-align: right;\">\n",
              "      <th></th>\n",
              "      <th>tip</th>\n",
              "      <th>size</th>\n",
              "      <th>sex</th>\n",
              "    </tr>\n",
              "  </thead>\n",
              "  <tbody>\n",
              "    <tr>\n",
              "      <th>0</th>\n",
              "      <td>1.01</td>\n",
              "      <td>2</td>\n",
              "      <td>Female</td>\n",
              "    </tr>\n",
              "    <tr>\n",
              "      <th>1</th>\n",
              "      <td>1.66</td>\n",
              "      <td>3</td>\n",
              "      <td>Male</td>\n",
              "    </tr>\n",
              "    <tr>\n",
              "      <th>2</th>\n",
              "      <td>3.50</td>\n",
              "      <td>3</td>\n",
              "      <td>Male</td>\n",
              "    </tr>\n",
              "    <tr>\n",
              "      <th>3</th>\n",
              "      <td>3.31</td>\n",
              "      <td>2</td>\n",
              "      <td>Male</td>\n",
              "    </tr>\n",
              "    <tr>\n",
              "      <th>4</th>\n",
              "      <td>3.61</td>\n",
              "      <td>4</td>\n",
              "      <td>Female</td>\n",
              "    </tr>\n",
              "  </tbody>\n",
              "</table>\n",
              "</div>\n",
              "      <button class=\"colab-df-convert\" onclick=\"convertToInteractive('df-b0a022b5-45a5-4c02-a759-4e5429d2d742')\"\n",
              "              title=\"Convert this dataframe to an interactive table.\"\n",
              "              style=\"display:none;\">\n",
              "        \n",
              "  <svg xmlns=\"http://www.w3.org/2000/svg\" height=\"24px\"viewBox=\"0 0 24 24\"\n",
              "       width=\"24px\">\n",
              "    <path d=\"M0 0h24v24H0V0z\" fill=\"none\"/>\n",
              "    <path d=\"M18.56 5.44l.94 2.06.94-2.06 2.06-.94-2.06-.94-.94-2.06-.94 2.06-2.06.94zm-11 1L8.5 8.5l.94-2.06 2.06-.94-2.06-.94L8.5 2.5l-.94 2.06-2.06.94zm10 10l.94 2.06.94-2.06 2.06-.94-2.06-.94-.94-2.06-.94 2.06-2.06.94z\"/><path d=\"M17.41 7.96l-1.37-1.37c-.4-.4-.92-.59-1.43-.59-.52 0-1.04.2-1.43.59L10.3 9.45l-7.72 7.72c-.78.78-.78 2.05 0 2.83L4 21.41c.39.39.9.59 1.41.59.51 0 1.02-.2 1.41-.59l7.78-7.78 2.81-2.81c.8-.78.8-2.07 0-2.86zM5.41 20L4 18.59l7.72-7.72 1.47 1.35L5.41 20z\"/>\n",
              "  </svg>\n",
              "      </button>\n",
              "      \n",
              "  <style>\n",
              "    .colab-df-container {\n",
              "      display:flex;\n",
              "      flex-wrap:wrap;\n",
              "      gap: 12px;\n",
              "    }\n",
              "\n",
              "    .colab-df-convert {\n",
              "      background-color: #E8F0FE;\n",
              "      border: none;\n",
              "      border-radius: 50%;\n",
              "      cursor: pointer;\n",
              "      display: none;\n",
              "      fill: #1967D2;\n",
              "      height: 32px;\n",
              "      padding: 0 0 0 0;\n",
              "      width: 32px;\n",
              "    }\n",
              "\n",
              "    .colab-df-convert:hover {\n",
              "      background-color: #E2EBFA;\n",
              "      box-shadow: 0px 1px 2px rgba(60, 64, 67, 0.3), 0px 1px 3px 1px rgba(60, 64, 67, 0.15);\n",
              "      fill: #174EA6;\n",
              "    }\n",
              "\n",
              "    [theme=dark] .colab-df-convert {\n",
              "      background-color: #3B4455;\n",
              "      fill: #D2E3FC;\n",
              "    }\n",
              "\n",
              "    [theme=dark] .colab-df-convert:hover {\n",
              "      background-color: #434B5C;\n",
              "      box-shadow: 0px 1px 3px 1px rgba(0, 0, 0, 0.15);\n",
              "      filter: drop-shadow(0px 1px 2px rgba(0, 0, 0, 0.3));\n",
              "      fill: #FFFFFF;\n",
              "    }\n",
              "  </style>\n",
              "\n",
              "      <script>\n",
              "        const buttonEl =\n",
              "          document.querySelector('#df-b0a022b5-45a5-4c02-a759-4e5429d2d742 button.colab-df-convert');\n",
              "        buttonEl.style.display =\n",
              "          google.colab.kernel.accessAllowed ? 'block' : 'none';\n",
              "\n",
              "        async function convertToInteractive(key) {\n",
              "          const element = document.querySelector('#df-b0a022b5-45a5-4c02-a759-4e5429d2d742');\n",
              "          const dataTable =\n",
              "            await google.colab.kernel.invokeFunction('convertToInteractive',\n",
              "                                                     [key], {});\n",
              "          if (!dataTable) return;\n",
              "\n",
              "          const docLinkHtml = 'Like what you see? Visit the ' +\n",
              "            '<a target=\"_blank\" href=https://colab.research.google.com/notebooks/data_table.ipynb>data table notebook</a>'\n",
              "            + ' to learn more about interactive tables.';\n",
              "          element.innerHTML = '';\n",
              "          dataTable['output_type'] = 'display_data';\n",
              "          await google.colab.output.renderOutput(dataTable, element);\n",
              "          const docLink = document.createElement('div');\n",
              "          docLink.innerHTML = docLinkHtml;\n",
              "          element.appendChild(docLink);\n",
              "        }\n",
              "      </script>\n",
              "    </div>\n",
              "  </div>\n",
              "  "
            ]
          },
          "metadata": {},
          "execution_count": 31
        }
      ]
    },
    {
      "cell_type": "markdown",
      "source": [
        "Similarly, you can access rows instead of columns with the same philosophy.\n",
        "\n",
        "*   Using a list of index labels: `tips.loc[ [index1, index2, ...] ]`\n",
        "*   Using a list of integer index location (i-loc): `tips.iloc[ [integer1, integer2, ...] ]`\n",
        "\n"
      ],
      "metadata": {
        "id": "Tfec7agC4V7k"
      }
    },
    {
      "cell_type": "code",
      "source": [
        "# Accessing rows AND columns!\n",
        "# Example of 2-dimension loc\n",
        "tips.loc[[1, 3], ['sex', 'smoker']]"
      ],
      "metadata": {
        "id": "5CtOXR2Q43h4",
        "colab": {
          "base_uri": "https://localhost:8080/",
          "height": 112
        },
        "outputId": "493e101c-947e-48a2-8092-46799a5529ae"
      },
      "execution_count": 32,
      "outputs": [
        {
          "output_type": "execute_result",
          "data": {
            "text/plain": [
              "    sex smoker\n",
              "1  Male     No\n",
              "3  Male     No"
            ],
            "text/html": [
              "\n",
              "  <div id=\"df-26a77825-a7a6-4ca6-b83e-a6b9d42ceafe\">\n",
              "    <div class=\"colab-df-container\">\n",
              "      <div>\n",
              "<style scoped>\n",
              "    .dataframe tbody tr th:only-of-type {\n",
              "        vertical-align: middle;\n",
              "    }\n",
              "\n",
              "    .dataframe tbody tr th {\n",
              "        vertical-align: top;\n",
              "    }\n",
              "\n",
              "    .dataframe thead th {\n",
              "        text-align: right;\n",
              "    }\n",
              "</style>\n",
              "<table border=\"1\" class=\"dataframe\">\n",
              "  <thead>\n",
              "    <tr style=\"text-align: right;\">\n",
              "      <th></th>\n",
              "      <th>sex</th>\n",
              "      <th>smoker</th>\n",
              "    </tr>\n",
              "  </thead>\n",
              "  <tbody>\n",
              "    <tr>\n",
              "      <th>1</th>\n",
              "      <td>Male</td>\n",
              "      <td>No</td>\n",
              "    </tr>\n",
              "    <tr>\n",
              "      <th>3</th>\n",
              "      <td>Male</td>\n",
              "      <td>No</td>\n",
              "    </tr>\n",
              "  </tbody>\n",
              "</table>\n",
              "</div>\n",
              "      <button class=\"colab-df-convert\" onclick=\"convertToInteractive('df-26a77825-a7a6-4ca6-b83e-a6b9d42ceafe')\"\n",
              "              title=\"Convert this dataframe to an interactive table.\"\n",
              "              style=\"display:none;\">\n",
              "        \n",
              "  <svg xmlns=\"http://www.w3.org/2000/svg\" height=\"24px\"viewBox=\"0 0 24 24\"\n",
              "       width=\"24px\">\n",
              "    <path d=\"M0 0h24v24H0V0z\" fill=\"none\"/>\n",
              "    <path d=\"M18.56 5.44l.94 2.06.94-2.06 2.06-.94-2.06-.94-.94-2.06-.94 2.06-2.06.94zm-11 1L8.5 8.5l.94-2.06 2.06-.94-2.06-.94L8.5 2.5l-.94 2.06-2.06.94zm10 10l.94 2.06.94-2.06 2.06-.94-2.06-.94-.94-2.06-.94 2.06-2.06.94z\"/><path d=\"M17.41 7.96l-1.37-1.37c-.4-.4-.92-.59-1.43-.59-.52 0-1.04.2-1.43.59L10.3 9.45l-7.72 7.72c-.78.78-.78 2.05 0 2.83L4 21.41c.39.39.9.59 1.41.59.51 0 1.02-.2 1.41-.59l7.78-7.78 2.81-2.81c.8-.78.8-2.07 0-2.86zM5.41 20L4 18.59l7.72-7.72 1.47 1.35L5.41 20z\"/>\n",
              "  </svg>\n",
              "      </button>\n",
              "      \n",
              "  <style>\n",
              "    .colab-df-container {\n",
              "      display:flex;\n",
              "      flex-wrap:wrap;\n",
              "      gap: 12px;\n",
              "    }\n",
              "\n",
              "    .colab-df-convert {\n",
              "      background-color: #E8F0FE;\n",
              "      border: none;\n",
              "      border-radius: 50%;\n",
              "      cursor: pointer;\n",
              "      display: none;\n",
              "      fill: #1967D2;\n",
              "      height: 32px;\n",
              "      padding: 0 0 0 0;\n",
              "      width: 32px;\n",
              "    }\n",
              "\n",
              "    .colab-df-convert:hover {\n",
              "      background-color: #E2EBFA;\n",
              "      box-shadow: 0px 1px 2px rgba(60, 64, 67, 0.3), 0px 1px 3px 1px rgba(60, 64, 67, 0.15);\n",
              "      fill: #174EA6;\n",
              "    }\n",
              "\n",
              "    [theme=dark] .colab-df-convert {\n",
              "      background-color: #3B4455;\n",
              "      fill: #D2E3FC;\n",
              "    }\n",
              "\n",
              "    [theme=dark] .colab-df-convert:hover {\n",
              "      background-color: #434B5C;\n",
              "      box-shadow: 0px 1px 3px 1px rgba(0, 0, 0, 0.15);\n",
              "      filter: drop-shadow(0px 1px 2px rgba(0, 0, 0, 0.3));\n",
              "      fill: #FFFFFF;\n",
              "    }\n",
              "  </style>\n",
              "\n",
              "      <script>\n",
              "        const buttonEl =\n",
              "          document.querySelector('#df-26a77825-a7a6-4ca6-b83e-a6b9d42ceafe button.colab-df-convert');\n",
              "        buttonEl.style.display =\n",
              "          google.colab.kernel.accessAllowed ? 'block' : 'none';\n",
              "\n",
              "        async function convertToInteractive(key) {\n",
              "          const element = document.querySelector('#df-26a77825-a7a6-4ca6-b83e-a6b9d42ceafe');\n",
              "          const dataTable =\n",
              "            await google.colab.kernel.invokeFunction('convertToInteractive',\n",
              "                                                     [key], {});\n",
              "          if (!dataTable) return;\n",
              "\n",
              "          const docLinkHtml = 'Like what you see? Visit the ' +\n",
              "            '<a target=\"_blank\" href=https://colab.research.google.com/notebooks/data_table.ipynb>data table notebook</a>'\n",
              "            + ' to learn more about interactive tables.';\n",
              "          element.innerHTML = '';\n",
              "          dataTable['output_type'] = 'display_data';\n",
              "          await google.colab.output.renderOutput(dataTable, element);\n",
              "          const docLink = document.createElement('div');\n",
              "          docLink.innerHTML = docLinkHtml;\n",
              "          element.appendChild(docLink);\n",
              "        }\n",
              "      </script>\n",
              "    </div>\n",
              "  </div>\n",
              "  "
            ]
          },
          "metadata": {},
          "execution_count": 32
        }
      ]
    },
    {
      "cell_type": "code",
      "source": [
        "# Accessing rows AND columns!\n",
        "# Example of 2-dimensional iloc\n",
        "tips.iloc[[1, 3], 2:5]"
      ],
      "metadata": {
        "id": "06lpQTrN458V",
        "colab": {
          "base_uri": "https://localhost:8080/",
          "height": 112
        },
        "outputId": "2c7729e4-b280-47d2-a640-6699c6ded396"
      },
      "execution_count": 33,
      "outputs": [
        {
          "output_type": "execute_result",
          "data": {
            "text/plain": [
              "    sex smoker  day\n",
              "1  Male     No  Sun\n",
              "3  Male     No  Sun"
            ],
            "text/html": [
              "\n",
              "  <div id=\"df-d2851912-868c-42a1-b9e1-5120dd2ea5e9\">\n",
              "    <div class=\"colab-df-container\">\n",
              "      <div>\n",
              "<style scoped>\n",
              "    .dataframe tbody tr th:only-of-type {\n",
              "        vertical-align: middle;\n",
              "    }\n",
              "\n",
              "    .dataframe tbody tr th {\n",
              "        vertical-align: top;\n",
              "    }\n",
              "\n",
              "    .dataframe thead th {\n",
              "        text-align: right;\n",
              "    }\n",
              "</style>\n",
              "<table border=\"1\" class=\"dataframe\">\n",
              "  <thead>\n",
              "    <tr style=\"text-align: right;\">\n",
              "      <th></th>\n",
              "      <th>sex</th>\n",
              "      <th>smoker</th>\n",
              "      <th>day</th>\n",
              "    </tr>\n",
              "  </thead>\n",
              "  <tbody>\n",
              "    <tr>\n",
              "      <th>1</th>\n",
              "      <td>Male</td>\n",
              "      <td>No</td>\n",
              "      <td>Sun</td>\n",
              "    </tr>\n",
              "    <tr>\n",
              "      <th>3</th>\n",
              "      <td>Male</td>\n",
              "      <td>No</td>\n",
              "      <td>Sun</td>\n",
              "    </tr>\n",
              "  </tbody>\n",
              "</table>\n",
              "</div>\n",
              "      <button class=\"colab-df-convert\" onclick=\"convertToInteractive('df-d2851912-868c-42a1-b9e1-5120dd2ea5e9')\"\n",
              "              title=\"Convert this dataframe to an interactive table.\"\n",
              "              style=\"display:none;\">\n",
              "        \n",
              "  <svg xmlns=\"http://www.w3.org/2000/svg\" height=\"24px\"viewBox=\"0 0 24 24\"\n",
              "       width=\"24px\">\n",
              "    <path d=\"M0 0h24v24H0V0z\" fill=\"none\"/>\n",
              "    <path d=\"M18.56 5.44l.94 2.06.94-2.06 2.06-.94-2.06-.94-.94-2.06-.94 2.06-2.06.94zm-11 1L8.5 8.5l.94-2.06 2.06-.94-2.06-.94L8.5 2.5l-.94 2.06-2.06.94zm10 10l.94 2.06.94-2.06 2.06-.94-2.06-.94-.94-2.06-.94 2.06-2.06.94z\"/><path d=\"M17.41 7.96l-1.37-1.37c-.4-.4-.92-.59-1.43-.59-.52 0-1.04.2-1.43.59L10.3 9.45l-7.72 7.72c-.78.78-.78 2.05 0 2.83L4 21.41c.39.39.9.59 1.41.59.51 0 1.02-.2 1.41-.59l7.78-7.78 2.81-2.81c.8-.78.8-2.07 0-2.86zM5.41 20L4 18.59l7.72-7.72 1.47 1.35L5.41 20z\"/>\n",
              "  </svg>\n",
              "      </button>\n",
              "      \n",
              "  <style>\n",
              "    .colab-df-container {\n",
              "      display:flex;\n",
              "      flex-wrap:wrap;\n",
              "      gap: 12px;\n",
              "    }\n",
              "\n",
              "    .colab-df-convert {\n",
              "      background-color: #E8F0FE;\n",
              "      border: none;\n",
              "      border-radius: 50%;\n",
              "      cursor: pointer;\n",
              "      display: none;\n",
              "      fill: #1967D2;\n",
              "      height: 32px;\n",
              "      padding: 0 0 0 0;\n",
              "      width: 32px;\n",
              "    }\n",
              "\n",
              "    .colab-df-convert:hover {\n",
              "      background-color: #E2EBFA;\n",
              "      box-shadow: 0px 1px 2px rgba(60, 64, 67, 0.3), 0px 1px 3px 1px rgba(60, 64, 67, 0.15);\n",
              "      fill: #174EA6;\n",
              "    }\n",
              "\n",
              "    [theme=dark] .colab-df-convert {\n",
              "      background-color: #3B4455;\n",
              "      fill: #D2E3FC;\n",
              "    }\n",
              "\n",
              "    [theme=dark] .colab-df-convert:hover {\n",
              "      background-color: #434B5C;\n",
              "      box-shadow: 0px 1px 3px 1px rgba(0, 0, 0, 0.15);\n",
              "      filter: drop-shadow(0px 1px 2px rgba(0, 0, 0, 0.3));\n",
              "      fill: #FFFFFF;\n",
              "    }\n",
              "  </style>\n",
              "\n",
              "      <script>\n",
              "        const buttonEl =\n",
              "          document.querySelector('#df-d2851912-868c-42a1-b9e1-5120dd2ea5e9 button.colab-df-convert');\n",
              "        buttonEl.style.display =\n",
              "          google.colab.kernel.accessAllowed ? 'block' : 'none';\n",
              "\n",
              "        async function convertToInteractive(key) {\n",
              "          const element = document.querySelector('#df-d2851912-868c-42a1-b9e1-5120dd2ea5e9');\n",
              "          const dataTable =\n",
              "            await google.colab.kernel.invokeFunction('convertToInteractive',\n",
              "                                                     [key], {});\n",
              "          if (!dataTable) return;\n",
              "\n",
              "          const docLinkHtml = 'Like what you see? Visit the ' +\n",
              "            '<a target=\"_blank\" href=https://colab.research.google.com/notebooks/data_table.ipynb>data table notebook</a>'\n",
              "            + ' to learn more about interactive tables.';\n",
              "          element.innerHTML = '';\n",
              "          dataTable['output_type'] = 'display_data';\n",
              "          await google.colab.output.renderOutput(dataTable, element);\n",
              "          const docLink = document.createElement('div');\n",
              "          docLink.innerHTML = docLinkHtml;\n",
              "          element.appendChild(docLink);\n",
              "        }\n",
              "      </script>\n",
              "    </div>\n",
              "  </div>\n",
              "  "
            ]
          },
          "metadata": {},
          "execution_count": 33
        }
      ]
    },
    {
      "cell_type": "markdown",
      "source": [
        "Note that certain operations are exchangeable: the 3rd element of column \"sex\" can be obtained with either of the following ways:"
      ],
      "metadata": {
        "id": "723-ayPy5C6F"
      }
    },
    {
      "cell_type": "code",
      "source": [
        "tips.sex[2]  # Access col as series, then the 3rd element of that\n",
        "tips.loc[2, \"sex\"]  # Access the entry in DF by giving the index labels of row and col\n",
        "tips.loc[2][\"sex\"]  # Accessing the whole row as a series, then using the column name as index label"
      ],
      "metadata": {
        "id": "e4EsLKeg5D09",
        "colab": {
          "base_uri": "https://localhost:8080/",
          "height": 35
        },
        "outputId": "b17d3821-b741-419b-e7a2-5a4fe7345f2b"
      },
      "execution_count": 34,
      "outputs": [
        {
          "output_type": "execute_result",
          "data": {
            "text/plain": [
              "'Male'"
            ],
            "application/vnd.google.colaboratory.intrinsic+json": {
              "type": "string"
            }
          },
          "metadata": {},
          "execution_count": 34
        }
      ]
    },
    {
      "cell_type": "markdown",
      "source": [
        "As with `Series`, we can use a boolean-valued series to index a `DataFrame` provided that they share the same index labels. The simplest instance of this is to use series produced as boolean masks of columns of the dataframe. The output of this *filtering* operation is a dataframe with subset of rows corresponding to the `True` values in the boolean mask."
      ],
      "metadata": {
        "id": "rEXyZ4x55nHU"
      }
    },
    {
      "cell_type": "code",
      "source": [
        "# Creates a boolean series with the same index labels as the data frame tips\n",
        "tips['sex'] == \"Male\""
      ],
      "metadata": {
        "colab": {
          "base_uri": "https://localhost:8080/"
        },
        "id": "spJ6vg-lWEFI",
        "outputId": "79e2329b-2d55-404a-f93d-a0ff423f4265"
      },
      "execution_count": 35,
      "outputs": [
        {
          "output_type": "execute_result",
          "data": {
            "text/plain": [
              "0      False\n",
              "1       True\n",
              "2       True\n",
              "3       True\n",
              "4      False\n",
              "       ...  \n",
              "239     True\n",
              "240    False\n",
              "241     True\n",
              "242     True\n",
              "243    False\n",
              "Name: sex, Length: 244, dtype: bool"
            ]
          },
          "metadata": {},
          "execution_count": 35
        }
      ]
    },
    {
      "cell_type": "code",
      "source": [
        "tips[tips['sex'] == \"Male\"].head(5)"
      ],
      "metadata": {
        "id": "cfxb75CS5x_0",
        "colab": {
          "base_uri": "https://localhost:8080/",
          "height": 206
        },
        "outputId": "322fcf78-d6f9-4b4c-dec1-ad5ea94ff81c"
      },
      "execution_count": 36,
      "outputs": [
        {
          "output_type": "execute_result",
          "data": {
            "text/plain": [
              "   total_bill   tip   sex smoker  day    time  size\n",
              "1       10.34  1.66  Male     No  Sun  Dinner     3\n",
              "2       21.01  3.50  Male     No  Sun  Dinner     3\n",
              "3       23.68  3.31  Male     No  Sun  Dinner     2\n",
              "5       25.29  4.71  Male     No  Sun  Dinner     4\n",
              "6        8.77  2.00  Male     No  Sun  Dinner     2"
            ],
            "text/html": [
              "\n",
              "  <div id=\"df-f1217b7d-df48-44d1-bc38-f682c9507611\">\n",
              "    <div class=\"colab-df-container\">\n",
              "      <div>\n",
              "<style scoped>\n",
              "    .dataframe tbody tr th:only-of-type {\n",
              "        vertical-align: middle;\n",
              "    }\n",
              "\n",
              "    .dataframe tbody tr th {\n",
              "        vertical-align: top;\n",
              "    }\n",
              "\n",
              "    .dataframe thead th {\n",
              "        text-align: right;\n",
              "    }\n",
              "</style>\n",
              "<table border=\"1\" class=\"dataframe\">\n",
              "  <thead>\n",
              "    <tr style=\"text-align: right;\">\n",
              "      <th></th>\n",
              "      <th>total_bill</th>\n",
              "      <th>tip</th>\n",
              "      <th>sex</th>\n",
              "      <th>smoker</th>\n",
              "      <th>day</th>\n",
              "      <th>time</th>\n",
              "      <th>size</th>\n",
              "    </tr>\n",
              "  </thead>\n",
              "  <tbody>\n",
              "    <tr>\n",
              "      <th>1</th>\n",
              "      <td>10.34</td>\n",
              "      <td>1.66</td>\n",
              "      <td>Male</td>\n",
              "      <td>No</td>\n",
              "      <td>Sun</td>\n",
              "      <td>Dinner</td>\n",
              "      <td>3</td>\n",
              "    </tr>\n",
              "    <tr>\n",
              "      <th>2</th>\n",
              "      <td>21.01</td>\n",
              "      <td>3.50</td>\n",
              "      <td>Male</td>\n",
              "      <td>No</td>\n",
              "      <td>Sun</td>\n",
              "      <td>Dinner</td>\n",
              "      <td>3</td>\n",
              "    </tr>\n",
              "    <tr>\n",
              "      <th>3</th>\n",
              "      <td>23.68</td>\n",
              "      <td>3.31</td>\n",
              "      <td>Male</td>\n",
              "      <td>No</td>\n",
              "      <td>Sun</td>\n",
              "      <td>Dinner</td>\n",
              "      <td>2</td>\n",
              "    </tr>\n",
              "    <tr>\n",
              "      <th>5</th>\n",
              "      <td>25.29</td>\n",
              "      <td>4.71</td>\n",
              "      <td>Male</td>\n",
              "      <td>No</td>\n",
              "      <td>Sun</td>\n",
              "      <td>Dinner</td>\n",
              "      <td>4</td>\n",
              "    </tr>\n",
              "    <tr>\n",
              "      <th>6</th>\n",
              "      <td>8.77</td>\n",
              "      <td>2.00</td>\n",
              "      <td>Male</td>\n",
              "      <td>No</td>\n",
              "      <td>Sun</td>\n",
              "      <td>Dinner</td>\n",
              "      <td>2</td>\n",
              "    </tr>\n",
              "  </tbody>\n",
              "</table>\n",
              "</div>\n",
              "      <button class=\"colab-df-convert\" onclick=\"convertToInteractive('df-f1217b7d-df48-44d1-bc38-f682c9507611')\"\n",
              "              title=\"Convert this dataframe to an interactive table.\"\n",
              "              style=\"display:none;\">\n",
              "        \n",
              "  <svg xmlns=\"http://www.w3.org/2000/svg\" height=\"24px\"viewBox=\"0 0 24 24\"\n",
              "       width=\"24px\">\n",
              "    <path d=\"M0 0h24v24H0V0z\" fill=\"none\"/>\n",
              "    <path d=\"M18.56 5.44l.94 2.06.94-2.06 2.06-.94-2.06-.94-.94-2.06-.94 2.06-2.06.94zm-11 1L8.5 8.5l.94-2.06 2.06-.94-2.06-.94L8.5 2.5l-.94 2.06-2.06.94zm10 10l.94 2.06.94-2.06 2.06-.94-2.06-.94-.94-2.06-.94 2.06-2.06.94z\"/><path d=\"M17.41 7.96l-1.37-1.37c-.4-.4-.92-.59-1.43-.59-.52 0-1.04.2-1.43.59L10.3 9.45l-7.72 7.72c-.78.78-.78 2.05 0 2.83L4 21.41c.39.39.9.59 1.41.59.51 0 1.02-.2 1.41-.59l7.78-7.78 2.81-2.81c.8-.78.8-2.07 0-2.86zM5.41 20L4 18.59l7.72-7.72 1.47 1.35L5.41 20z\"/>\n",
              "  </svg>\n",
              "      </button>\n",
              "      \n",
              "  <style>\n",
              "    .colab-df-container {\n",
              "      display:flex;\n",
              "      flex-wrap:wrap;\n",
              "      gap: 12px;\n",
              "    }\n",
              "\n",
              "    .colab-df-convert {\n",
              "      background-color: #E8F0FE;\n",
              "      border: none;\n",
              "      border-radius: 50%;\n",
              "      cursor: pointer;\n",
              "      display: none;\n",
              "      fill: #1967D2;\n",
              "      height: 32px;\n",
              "      padding: 0 0 0 0;\n",
              "      width: 32px;\n",
              "    }\n",
              "\n",
              "    .colab-df-convert:hover {\n",
              "      background-color: #E2EBFA;\n",
              "      box-shadow: 0px 1px 2px rgba(60, 64, 67, 0.3), 0px 1px 3px 1px rgba(60, 64, 67, 0.15);\n",
              "      fill: #174EA6;\n",
              "    }\n",
              "\n",
              "    [theme=dark] .colab-df-convert {\n",
              "      background-color: #3B4455;\n",
              "      fill: #D2E3FC;\n",
              "    }\n",
              "\n",
              "    [theme=dark] .colab-df-convert:hover {\n",
              "      background-color: #434B5C;\n",
              "      box-shadow: 0px 1px 3px 1px rgba(0, 0, 0, 0.15);\n",
              "      filter: drop-shadow(0px 1px 2px rgba(0, 0, 0, 0.3));\n",
              "      fill: #FFFFFF;\n",
              "    }\n",
              "  </style>\n",
              "\n",
              "      <script>\n",
              "        const buttonEl =\n",
              "          document.querySelector('#df-f1217b7d-df48-44d1-bc38-f682c9507611 button.colab-df-convert');\n",
              "        buttonEl.style.display =\n",
              "          google.colab.kernel.accessAllowed ? 'block' : 'none';\n",
              "\n",
              "        async function convertToInteractive(key) {\n",
              "          const element = document.querySelector('#df-f1217b7d-df48-44d1-bc38-f682c9507611');\n",
              "          const dataTable =\n",
              "            await google.colab.kernel.invokeFunction('convertToInteractive',\n",
              "                                                     [key], {});\n",
              "          if (!dataTable) return;\n",
              "\n",
              "          const docLinkHtml = 'Like what you see? Visit the ' +\n",
              "            '<a target=\"_blank\" href=https://colab.research.google.com/notebooks/data_table.ipynb>data table notebook</a>'\n",
              "            + ' to learn more about interactive tables.';\n",
              "          element.innerHTML = '';\n",
              "          dataTable['output_type'] = 'display_data';\n",
              "          await google.colab.output.renderOutput(dataTable, element);\n",
              "          const docLink = document.createElement('div');\n",
              "          docLink.innerHTML = docLinkHtml;\n",
              "          element.appendChild(docLink);\n",
              "        }\n",
              "      </script>\n",
              "    </div>\n",
              "  </div>\n",
              "  "
            ]
          },
          "metadata": {},
          "execution_count": 36
        }
      ]
    },
    {
      "cell_type": "code",
      "source": [
        "tips[(tips['sex'] == \"Male\") & (tips['day'] == \"Sun\")].head(5)  # Multiple booleans (\"&\", \"|\", \"~\")"
      ],
      "metadata": {
        "id": "UCm8O1-h7cgI",
        "colab": {
          "base_uri": "https://localhost:8080/",
          "height": 206
        },
        "outputId": "dd228b7f-f817-405b-a3c7-408a159bd79d"
      },
      "execution_count": 37,
      "outputs": [
        {
          "output_type": "execute_result",
          "data": {
            "text/plain": [
              "   total_bill   tip   sex smoker  day    time  size\n",
              "1       10.34  1.66  Male     No  Sun  Dinner     3\n",
              "2       21.01  3.50  Male     No  Sun  Dinner     3\n",
              "3       23.68  3.31  Male     No  Sun  Dinner     2\n",
              "5       25.29  4.71  Male     No  Sun  Dinner     4\n",
              "6        8.77  2.00  Male     No  Sun  Dinner     2"
            ],
            "text/html": [
              "\n",
              "  <div id=\"df-3db05533-017c-4491-a364-857a3df25b7d\">\n",
              "    <div class=\"colab-df-container\">\n",
              "      <div>\n",
              "<style scoped>\n",
              "    .dataframe tbody tr th:only-of-type {\n",
              "        vertical-align: middle;\n",
              "    }\n",
              "\n",
              "    .dataframe tbody tr th {\n",
              "        vertical-align: top;\n",
              "    }\n",
              "\n",
              "    .dataframe thead th {\n",
              "        text-align: right;\n",
              "    }\n",
              "</style>\n",
              "<table border=\"1\" class=\"dataframe\">\n",
              "  <thead>\n",
              "    <tr style=\"text-align: right;\">\n",
              "      <th></th>\n",
              "      <th>total_bill</th>\n",
              "      <th>tip</th>\n",
              "      <th>sex</th>\n",
              "      <th>smoker</th>\n",
              "      <th>day</th>\n",
              "      <th>time</th>\n",
              "      <th>size</th>\n",
              "    </tr>\n",
              "  </thead>\n",
              "  <tbody>\n",
              "    <tr>\n",
              "      <th>1</th>\n",
              "      <td>10.34</td>\n",
              "      <td>1.66</td>\n",
              "      <td>Male</td>\n",
              "      <td>No</td>\n",
              "      <td>Sun</td>\n",
              "      <td>Dinner</td>\n",
              "      <td>3</td>\n",
              "    </tr>\n",
              "    <tr>\n",
              "      <th>2</th>\n",
              "      <td>21.01</td>\n",
              "      <td>3.50</td>\n",
              "      <td>Male</td>\n",
              "      <td>No</td>\n",
              "      <td>Sun</td>\n",
              "      <td>Dinner</td>\n",
              "      <td>3</td>\n",
              "    </tr>\n",
              "    <tr>\n",
              "      <th>3</th>\n",
              "      <td>23.68</td>\n",
              "      <td>3.31</td>\n",
              "      <td>Male</td>\n",
              "      <td>No</td>\n",
              "      <td>Sun</td>\n",
              "      <td>Dinner</td>\n",
              "      <td>2</td>\n",
              "    </tr>\n",
              "    <tr>\n",
              "      <th>5</th>\n",
              "      <td>25.29</td>\n",
              "      <td>4.71</td>\n",
              "      <td>Male</td>\n",
              "      <td>No</td>\n",
              "      <td>Sun</td>\n",
              "      <td>Dinner</td>\n",
              "      <td>4</td>\n",
              "    </tr>\n",
              "    <tr>\n",
              "      <th>6</th>\n",
              "      <td>8.77</td>\n",
              "      <td>2.00</td>\n",
              "      <td>Male</td>\n",
              "      <td>No</td>\n",
              "      <td>Sun</td>\n",
              "      <td>Dinner</td>\n",
              "      <td>2</td>\n",
              "    </tr>\n",
              "  </tbody>\n",
              "</table>\n",
              "</div>\n",
              "      <button class=\"colab-df-convert\" onclick=\"convertToInteractive('df-3db05533-017c-4491-a364-857a3df25b7d')\"\n",
              "              title=\"Convert this dataframe to an interactive table.\"\n",
              "              style=\"display:none;\">\n",
              "        \n",
              "  <svg xmlns=\"http://www.w3.org/2000/svg\" height=\"24px\"viewBox=\"0 0 24 24\"\n",
              "       width=\"24px\">\n",
              "    <path d=\"M0 0h24v24H0V0z\" fill=\"none\"/>\n",
              "    <path d=\"M18.56 5.44l.94 2.06.94-2.06 2.06-.94-2.06-.94-.94-2.06-.94 2.06-2.06.94zm-11 1L8.5 8.5l.94-2.06 2.06-.94-2.06-.94L8.5 2.5l-.94 2.06-2.06.94zm10 10l.94 2.06.94-2.06 2.06-.94-2.06-.94-.94-2.06-.94 2.06-2.06.94z\"/><path d=\"M17.41 7.96l-1.37-1.37c-.4-.4-.92-.59-1.43-.59-.52 0-1.04.2-1.43.59L10.3 9.45l-7.72 7.72c-.78.78-.78 2.05 0 2.83L4 21.41c.39.39.9.59 1.41.59.51 0 1.02-.2 1.41-.59l7.78-7.78 2.81-2.81c.8-.78.8-2.07 0-2.86zM5.41 20L4 18.59l7.72-7.72 1.47 1.35L5.41 20z\"/>\n",
              "  </svg>\n",
              "      </button>\n",
              "      \n",
              "  <style>\n",
              "    .colab-df-container {\n",
              "      display:flex;\n",
              "      flex-wrap:wrap;\n",
              "      gap: 12px;\n",
              "    }\n",
              "\n",
              "    .colab-df-convert {\n",
              "      background-color: #E8F0FE;\n",
              "      border: none;\n",
              "      border-radius: 50%;\n",
              "      cursor: pointer;\n",
              "      display: none;\n",
              "      fill: #1967D2;\n",
              "      height: 32px;\n",
              "      padding: 0 0 0 0;\n",
              "      width: 32px;\n",
              "    }\n",
              "\n",
              "    .colab-df-convert:hover {\n",
              "      background-color: #E2EBFA;\n",
              "      box-shadow: 0px 1px 2px rgba(60, 64, 67, 0.3), 0px 1px 3px 1px rgba(60, 64, 67, 0.15);\n",
              "      fill: #174EA6;\n",
              "    }\n",
              "\n",
              "    [theme=dark] .colab-df-convert {\n",
              "      background-color: #3B4455;\n",
              "      fill: #D2E3FC;\n",
              "    }\n",
              "\n",
              "    [theme=dark] .colab-df-convert:hover {\n",
              "      background-color: #434B5C;\n",
              "      box-shadow: 0px 1px 3px 1px rgba(0, 0, 0, 0.15);\n",
              "      filter: drop-shadow(0px 1px 2px rgba(0, 0, 0, 0.3));\n",
              "      fill: #FFFFFF;\n",
              "    }\n",
              "  </style>\n",
              "\n",
              "      <script>\n",
              "        const buttonEl =\n",
              "          document.querySelector('#df-3db05533-017c-4491-a364-857a3df25b7d button.colab-df-convert');\n",
              "        buttonEl.style.display =\n",
              "          google.colab.kernel.accessAllowed ? 'block' : 'none';\n",
              "\n",
              "        async function convertToInteractive(key) {\n",
              "          const element = document.querySelector('#df-3db05533-017c-4491-a364-857a3df25b7d');\n",
              "          const dataTable =\n",
              "            await google.colab.kernel.invokeFunction('convertToInteractive',\n",
              "                                                     [key], {});\n",
              "          if (!dataTable) return;\n",
              "\n",
              "          const docLinkHtml = 'Like what you see? Visit the ' +\n",
              "            '<a target=\"_blank\" href=https://colab.research.google.com/notebooks/data_table.ipynb>data table notebook</a>'\n",
              "            + ' to learn more about interactive tables.';\n",
              "          element.innerHTML = '';\n",
              "          dataTable['output_type'] = 'display_data';\n",
              "          await google.colab.output.renderOutput(dataTable, element);\n",
              "          const docLink = document.createElement('div');\n",
              "          docLink.innerHTML = docLinkHtml;\n",
              "          element.appendChild(docLink);\n",
              "        }\n",
              "      </script>\n",
              "    </div>\n",
              "  </div>\n",
              "  "
            ]
          },
          "metadata": {},
          "execution_count": 37
        }
      ]
    },
    {
      "cell_type": "markdown",
      "source": [
        "A `DataFrame` comes with several attributes for computing column-wise statistics and summaries. We highlight some of them:\n",
        "\n",
        "*   `.boxplot` (check out the `by = ` option)\n",
        "*   `.corr` and `.corrwith` (within and across `DataFrame`'s)\n",
        "*   `.dot`\n",
        "*   `.mean/median/max/quantile/sum`, etc.\n",
        "*   `.sample`\n",
        "*   `.sort_values`\n",
        "*   `.unique`\n"
      ],
      "metadata": {
        "id": "mRDUV-tZ6E6F"
      }
    },
    {
      "cell_type": "markdown",
      "source": [
        "### `GroupBy`"
      ],
      "metadata": {
        "id": "-S2pP_wZ9E1b"
      }
    },
    {
      "cell_type": "markdown",
      "source": [
        "This `DataFrame` method groups the `DataFrame` according to the values of a column, treating them as categorical values. It returns a groupby object."
      ],
      "metadata": {
        "id": "tVa4KXKAATQn"
      }
    },
    {
      "cell_type": "code",
      "source": [
        "# Group tips DataFrame by size of table\n",
        "by_size = tips.groupby(\"size\")\n",
        "print(by_size)\n",
        "\n",
        "# If we coerce it to a list, we see something interesting: \n",
        "# it's basically a list of tuples\n",
        "# The first element is the \"category\" variable, the second\n",
        "# is a datafame. \n",
        "list(by_size)"
      ],
      "metadata": {
        "id": "VORb1QlvAjuu",
        "colab": {
          "base_uri": "https://localhost:8080/"
        },
        "outputId": "824c77af-e176-43eb-a047-3dc4648b79ec"
      },
      "execution_count": 38,
      "outputs": [
        {
          "output_type": "stream",
          "name": "stdout",
          "text": [
            "<pandas.core.groupby.generic.DataFrameGroupBy object at 0x7fa153948bd0>\n"
          ]
        },
        {
          "output_type": "execute_result",
          "data": {
            "text/plain": [
              "[(1,      total_bill   tip     sex smoker   day    time  size\n",
              "  67         3.07  1.00  Female    Yes   Sat  Dinner     1\n",
              "  82        10.07  1.83  Female     No  Thur   Lunch     1\n",
              "  111        7.25  1.00  Female     No   Sat  Dinner     1\n",
              "  222        8.58  1.92    Male    Yes   Fri   Lunch     1),\n",
              " (2,      total_bill   tip     sex smoker   day    time  size\n",
              "  0         16.99  1.01  Female     No   Sun  Dinner     2\n",
              "  3         23.68  3.31    Male     No   Sun  Dinner     2\n",
              "  6          8.77  2.00    Male     No   Sun  Dinner     2\n",
              "  8         15.04  1.96    Male     No   Sun  Dinner     2\n",
              "  9         14.78  3.23    Male     No   Sun  Dinner     2\n",
              "  ..          ...   ...     ...    ...   ...     ...   ...\n",
              "  237       32.83  1.17    Male    Yes   Sat  Dinner     2\n",
              "  240       27.18  2.00  Female    Yes   Sat  Dinner     2\n",
              "  241       22.67  2.00    Male    Yes   Sat  Dinner     2\n",
              "  242       17.82  1.75    Male     No   Sat  Dinner     2\n",
              "  243       18.78  3.00  Female     No  Thur  Dinner     2\n",
              "  \n",
              "  [156 rows x 7 columns]),\n",
              " (3,      total_bill    tip     sex smoker   day    time  size\n",
              "  1         10.34   1.66    Male     No   Sun  Dinner     3\n",
              "  2         21.01   3.50    Male     No   Sun  Dinner     3\n",
              "  16        10.33   1.67  Female     No   Sun  Dinner     3\n",
              "  17        16.29   3.71    Male     No   Sun  Dinner     3\n",
              "  18        16.97   3.50  Female     No   Sun  Dinner     3\n",
              "  19        20.65   3.35    Male     No   Sat  Dinner     3\n",
              "  35        24.06   3.60    Male     No   Sat  Dinner     3\n",
              "  36        16.31   2.00    Male     No   Sat  Dinner     3\n",
              "  37        16.93   3.07  Female     No   Sat  Dinner     3\n",
              "  38        18.69   2.31    Male     No   Sat  Dinner     3\n",
              "  39        31.27   5.00    Male     No   Sat  Dinner     3\n",
              "  40        16.04   2.24    Male     No   Sat  Dinner     3\n",
              "  48        28.55   2.05    Male     No   Sun  Dinner     3\n",
              "  64        17.59   2.64    Male     No   Sat  Dinner     3\n",
              "  65        20.08   3.15    Male     No   Sat  Dinner     3\n",
              "  71        17.07   3.00  Female     No   Sat  Dinner     3\n",
              "  102       44.30   2.50  Female    Yes   Sat  Dinner     3\n",
              "  112       38.07   4.00    Male     No   Sun  Dinner     3\n",
              "  114       25.71   4.00  Female     No   Sun  Dinner     3\n",
              "  129       22.82   2.18    Male     No  Thur   Lunch     3\n",
              "  146       18.64   1.36  Female     No  Thur   Lunch     3\n",
              "  152       17.26   2.74    Male     No   Sun  Dinner     3\n",
              "  162       16.21   2.00  Female     No   Sun  Dinner     3\n",
              "  165       24.52   3.48    Male     No   Sun  Dinner     3\n",
              "  170       50.81  10.00    Male    Yes   Sat  Dinner     3\n",
              "  182       45.35   3.50    Male    Yes   Sun  Dinner     3\n",
              "  186       20.90   3.50  Female    Yes   Sun  Dinner     3\n",
              "  188       18.15   3.50  Female    Yes   Sun  Dinner     3\n",
              "  189       23.10   4.00    Male    Yes   Sun  Dinner     3\n",
              "  200       18.71   4.00    Male    Yes  Thur   Lunch     3\n",
              "  205       16.47   3.23  Female    Yes  Thur   Lunch     3\n",
              "  206       26.59   3.41    Male    Yes   Sat  Dinner     3\n",
              "  210       30.06   2.00    Male    Yes   Sat  Dinner     3\n",
              "  214       28.17   6.50  Female    Yes   Sat  Dinner     3\n",
              "  223       15.98   3.00  Female     No   Fri   Lunch     3\n",
              "  231       15.69   3.00    Male    Yes   Sat  Dinner     3\n",
              "  238       35.83   4.67  Female     No   Sat  Dinner     3\n",
              "  239       29.03   5.92    Male     No   Sat  Dinner     3),\n",
              " (4,      total_bill   tip     sex smoker   day    time  size\n",
              "  4         24.59  3.61  Female     No   Sun  Dinner     4\n",
              "  5         25.29  4.71    Male     No   Sun  Dinner     4\n",
              "  7         26.88  3.12    Male     No   Sun  Dinner     4\n",
              "  11        35.26  5.00  Female     No   Sun  Dinner     4\n",
              "  13        18.43  3.00    Male     No   Sun  Dinner     4\n",
              "  23        39.42  7.58    Male     No   Sat  Dinner     4\n",
              "  25        17.81  2.34    Male     No   Sat  Dinner     4\n",
              "  31        18.35  2.50    Male     No   Sat  Dinner     4\n",
              "  33        20.69  2.45  Female     No   Sat  Dinner     4\n",
              "  44        30.40  5.60    Male     No   Sun  Dinner     4\n",
              "  47        32.40  6.00    Male     No   Sun  Dinner     4\n",
              "  52        34.81  5.20  Female     No   Sun  Dinner     4\n",
              "  54        25.56  4.34    Male     No   Sun  Dinner     4\n",
              "  56        38.01  3.00    Male    Yes   Sat  Dinner     4\n",
              "  59        48.27  6.73    Male     No   Sat  Dinner     4\n",
              "  63        18.29  3.76    Male    Yes   Sat  Dinner     4\n",
              "  77        27.20  4.00    Male     No  Thur   Lunch     4\n",
              "  85        34.83  5.17  Female     No  Thur   Lunch     4\n",
              "  95        40.17  4.73    Male    Yes   Fri  Dinner     4\n",
              "  116       29.93  5.07    Male     No   Sun  Dinner     4\n",
              "  119       24.08  2.92  Female     No  Thur   Lunch     4\n",
              "  153       24.55  2.00    Male     No   Sun  Dinner     4\n",
              "  154       19.77  2.00    Male     No   Sun  Dinner     4\n",
              "  157       25.00  3.75  Female     No   Sun  Dinner     4\n",
              "  159       16.49  2.00    Male     No   Sun  Dinner     4\n",
              "  160       21.50  3.50    Male     No   Sun  Dinner     4\n",
              "  167       31.71  4.50    Male     No   Sun  Dinner     4\n",
              "  180       34.65  3.68    Male    Yes   Sun  Dinner     4\n",
              "  183       23.17  6.50    Male    Yes   Sun  Dinner     4\n",
              "  197       43.11  5.00  Female    Yes  Thur   Lunch     4\n",
              "  204       20.53  4.00    Male    Yes  Thur   Lunch     4\n",
              "  207       38.73  3.00    Male    Yes   Sat  Dinner     4\n",
              "  211       25.89  5.16    Male    Yes   Sat  Dinner     4\n",
              "  212       48.33  9.00    Male     No   Sat  Dinner     4\n",
              "  219       30.14  3.09  Female    Yes   Sat  Dinner     4\n",
              "  227       20.45  3.00    Male     No   Sat  Dinner     4\n",
              "  230       24.01  2.00    Male    Yes   Sat  Dinner     4),\n",
              " (5,      total_bill   tip     sex smoker   day    time  size\n",
              "  142       41.19  5.00    Male     No  Thur   Lunch     5\n",
              "  155       29.85  5.14  Female     No   Sun  Dinner     5\n",
              "  185       20.69  5.00    Male     No   Sun  Dinner     5\n",
              "  187       30.46  2.00    Male    Yes   Sun  Dinner     5\n",
              "  216       28.15  3.00    Male    Yes   Sat  Dinner     5),\n",
              " (6,      total_bill  tip     sex smoker   day    time  size\n",
              "  125       29.80  4.2  Female     No  Thur   Lunch     6\n",
              "  141       34.30  6.7    Male     No  Thur   Lunch     6\n",
              "  143       27.05  5.0  Female     No  Thur   Lunch     6\n",
              "  156       48.17  5.0    Male     No   Sun  Dinner     6)]"
            ]
          },
          "metadata": {},
          "execution_count": 38
        }
      ]
    },
    {
      "cell_type": "code",
      "source": [
        "list(tips.groupby(\"sex\"))"
      ],
      "metadata": {
        "id": "duXyLLnzBJsa",
        "colab": {
          "base_uri": "https://localhost:8080/"
        },
        "outputId": "e63e7e75-b7bf-443a-9796-70b0bc9ddec1"
      },
      "execution_count": 39,
      "outputs": [
        {
          "output_type": "execute_result",
          "data": {
            "text/plain": [
              "[('Female',      total_bill   tip     sex smoker   day    time  size\n",
              "  0         16.99  1.01  Female     No   Sun  Dinner     2\n",
              "  4         24.59  3.61  Female     No   Sun  Dinner     4\n",
              "  11        35.26  5.00  Female     No   Sun  Dinner     4\n",
              "  14        14.83  3.02  Female     No   Sun  Dinner     2\n",
              "  16        10.33  1.67  Female     No   Sun  Dinner     3\n",
              "  ..          ...   ...     ...    ...   ...     ...   ...\n",
              "  226       10.09  2.00  Female    Yes   Fri   Lunch     2\n",
              "  229       22.12  2.88  Female    Yes   Sat  Dinner     2\n",
              "  238       35.83  4.67  Female     No   Sat  Dinner     3\n",
              "  240       27.18  2.00  Female    Yes   Sat  Dinner     2\n",
              "  243       18.78  3.00  Female     No  Thur  Dinner     2\n",
              "  \n",
              "  [87 rows x 7 columns]),\n",
              " ('Male',      total_bill   tip   sex smoker  day    time  size\n",
              "  1         10.34  1.66  Male     No  Sun  Dinner     3\n",
              "  2         21.01  3.50  Male     No  Sun  Dinner     3\n",
              "  3         23.68  3.31  Male     No  Sun  Dinner     2\n",
              "  5         25.29  4.71  Male     No  Sun  Dinner     4\n",
              "  6          8.77  2.00  Male     No  Sun  Dinner     2\n",
              "  ..          ...   ...   ...    ...  ...     ...   ...\n",
              "  236       12.60  1.00  Male    Yes  Sat  Dinner     2\n",
              "  237       32.83  1.17  Male    Yes  Sat  Dinner     2\n",
              "  239       29.03  5.92  Male     No  Sat  Dinner     3\n",
              "  241       22.67  2.00  Male    Yes  Sat  Dinner     2\n",
              "  242       17.82  1.75  Male     No  Sat  Dinner     2\n",
              "  \n",
              "  [157 rows x 7 columns])]"
            ]
          },
          "metadata": {},
          "execution_count": 39
        }
      ]
    },
    {
      "cell_type": "code",
      "source": [
        "# We can iterate through the groupby just like we would though a list of tuples!\n",
        "for sex, data in tips.groupby(\"sex\"):\n",
        "    print(sex)\n",
        "    print(data.mean())\n"
      ],
      "metadata": {
        "id": "-R7wbSOKBSDV",
        "colab": {
          "base_uri": "https://localhost:8080/"
        },
        "outputId": "8a3cfc9e-c428-4a28-ec77-b31f13e578c9"
      },
      "execution_count": 40,
      "outputs": [
        {
          "output_type": "stream",
          "name": "stdout",
          "text": [
            "Female\n",
            "total_bill    18.056897\n",
            "tip            2.833448\n",
            "size           2.459770\n",
            "dtype: float64\n",
            "Male\n",
            "total_bill    20.744076\n",
            "tip            3.089618\n",
            "size           2.630573\n",
            "dtype: float64\n"
          ]
        },
        {
          "output_type": "stream",
          "name": "stderr",
          "text": [
            "/usr/local/lib/python3.7/dist-packages/ipykernel_launcher.py:4: FutureWarning: Dropping of nuisance columns in DataFrame reductions (with 'numeric_only=None') is deprecated; in a future version this will raise TypeError.  Select only valid columns before calling the reduction.\n",
            "  after removing the cwd from sys.path.\n"
          ]
        }
      ]
    },
    {
      "cell_type": "markdown",
      "source": [
        "We `groupby` to perform *some* operation on each group, to *map* over the groups, applying a function to each element. Very often this function is itself an aggregation (*reduction*). We want to somehow aggregate each group into a value or set of values that *describe* it.\n",
        "\n",
        "To apply functions to each element of a `groupby`, we use `.apply`:\n"
      ],
      "metadata": {
        "id": "2XNww55FCCxr"
      }
    },
    {
      "cell_type": "code",
      "source": [
        "# Get the maximum bill by gender: \n",
        "def max_bill(df):\n",
        "    return df['total_bill'].max()\n",
        "\n",
        "tips.groupby(\"sex\").apply(max_bill)"
      ],
      "metadata": {
        "id": "LIH-cDcYCwuC",
        "colab": {
          "base_uri": "https://localhost:8080/"
        },
        "outputId": "8dc49e9d-3ca1-4445-9552-68a79b867dc9"
      },
      "execution_count": 41,
      "outputs": [
        {
          "output_type": "execute_result",
          "data": {
            "text/plain": [
              "sex\n",
              "Female    44.30\n",
              "Male      50.81\n",
              "dtype: float64"
            ]
          },
          "metadata": {},
          "execution_count": 41
        }
      ]
    },
    {
      "cell_type": "markdown",
      "source": [
        "Many aggregation functions that exist on Series and `DataFrames` (`mean`, `max`, `min`, etc.) can be called directly via the groupby object:"
      ],
      "metadata": {
        "id": "15Yt4Yf_C835"
      }
    },
    {
      "cell_type": "code",
      "source": [
        "print(tips.groupby(\"sex\").max())\n",
        "print(tips.groupby(\"sex\").mean())"
      ],
      "metadata": {
        "id": "vtxi5Y5_DEBW",
        "colab": {
          "base_uri": "https://localhost:8080/"
        },
        "outputId": "a447a589-a903-49bf-ee99-a2c174b94933"
      },
      "execution_count": 42,
      "outputs": [
        {
          "output_type": "stream",
          "name": "stdout",
          "text": [
            "        total_bill   tip smoker   day   time  size\n",
            "sex                                               \n",
            "Female       44.30   6.5    Yes  Thur  Lunch     6\n",
            "Male         50.81  10.0    Yes  Thur  Lunch     6\n",
            "        total_bill       tip      size\n",
            "sex                                   \n",
            "Female   18.056897  2.833448  2.459770\n",
            "Male     20.744076  3.089618  2.630573\n"
          ]
        }
      ]
    },
    {
      "cell_type": "markdown",
      "source": [
        "We can actually `groupby` more than one column:"
      ],
      "metadata": {
        "id": "eehSz5mJDbrV"
      }
    },
    {
      "cell_type": "code",
      "source": [
        "tips.groupby([\"sex\", \"day\"])['tip'].mean()"
      ],
      "metadata": {
        "id": "tOfKlZvkDavP",
        "colab": {
          "base_uri": "https://localhost:8080/"
        },
        "outputId": "31759c56-8b0d-4d1c-f634-b0bcbeddd152"
      },
      "execution_count": 43,
      "outputs": [
        {
          "output_type": "execute_result",
          "data": {
            "text/plain": [
              "sex     day \n",
              "Female  Fri     2.781111\n",
              "        Sat     2.801786\n",
              "        Sun     3.367222\n",
              "        Thur    2.575625\n",
              "Male    Fri     2.693000\n",
              "        Sat     3.083898\n",
              "        Sun     3.220345\n",
              "        Thur    2.980333\n",
              "Name: tip, dtype: float64"
            ]
          },
          "metadata": {},
          "execution_count": 43
        }
      ]
    },
    {
      "cell_type": "markdown",
      "source": [
        "### Combining DataFrames"
      ],
      "metadata": {
        "id": "gkOY2q1Q9IFr"
      }
    },
    {
      "cell_type": "markdown",
      "source": [
        "There are many ways to combine various `DataFrame`s into a new one, extending in many ways what we already saw for operations on `Series`. The main ways of doing this are:\n",
        "\n",
        "*   **Concatenate**: paste row-column-wise and taking action on `NaN`s (this works more on the rectangular structure of the data)\n",
        "*   **Merge**: combine `DataFrame`s using a common piece of information, e.g. an identifier column (this works more as a database operation)\n",
        "\n"
      ],
      "metadata": {
        "id": "nBvPJzomEJ-u"
      }
    },
    {
      "cell_type": "markdown",
      "source": [
        "**Concatenate**"
      ],
      "metadata": {
        "id": "SlJ1dEZCmU4G"
      }
    },
    {
      "cell_type": "code",
      "source": [
        "# Concatenate\n",
        "df1 = pd.DataFrame({\"A\": pd.Series([1, 2, 3]), \"B\": pd.Series([4, 5, 6])})\n",
        "df2 = pd.DataFrame({\"A\": pd.Series([4]), \"C\": pd.Series([7])})\n",
        "pd.concat([df1, df2], axis = 0)\n",
        "# axis: 0 for pasting below, 1 for pasting on the side"
      ],
      "metadata": {
        "id": "j4kHvoGOHxNL",
        "colab": {
          "base_uri": "https://localhost:8080/",
          "height": 175
        },
        "outputId": "a59016b7-de08-462d-ee1c-ad6db5c91744"
      },
      "execution_count": 44,
      "outputs": [
        {
          "output_type": "execute_result",
          "data": {
            "text/plain": [
              "   A    B    C\n",
              "0  1  4.0  NaN\n",
              "1  2  5.0  NaN\n",
              "2  3  6.0  NaN\n",
              "0  4  NaN  7.0"
            ],
            "text/html": [
              "\n",
              "  <div id=\"df-e8259d46-3eda-4870-a806-978667baebac\">\n",
              "    <div class=\"colab-df-container\">\n",
              "      <div>\n",
              "<style scoped>\n",
              "    .dataframe tbody tr th:only-of-type {\n",
              "        vertical-align: middle;\n",
              "    }\n",
              "\n",
              "    .dataframe tbody tr th {\n",
              "        vertical-align: top;\n",
              "    }\n",
              "\n",
              "    .dataframe thead th {\n",
              "        text-align: right;\n",
              "    }\n",
              "</style>\n",
              "<table border=\"1\" class=\"dataframe\">\n",
              "  <thead>\n",
              "    <tr style=\"text-align: right;\">\n",
              "      <th></th>\n",
              "      <th>A</th>\n",
              "      <th>B</th>\n",
              "      <th>C</th>\n",
              "    </tr>\n",
              "  </thead>\n",
              "  <tbody>\n",
              "    <tr>\n",
              "      <th>0</th>\n",
              "      <td>1</td>\n",
              "      <td>4.0</td>\n",
              "      <td>NaN</td>\n",
              "    </tr>\n",
              "    <tr>\n",
              "      <th>1</th>\n",
              "      <td>2</td>\n",
              "      <td>5.0</td>\n",
              "      <td>NaN</td>\n",
              "    </tr>\n",
              "    <tr>\n",
              "      <th>2</th>\n",
              "      <td>3</td>\n",
              "      <td>6.0</td>\n",
              "      <td>NaN</td>\n",
              "    </tr>\n",
              "    <tr>\n",
              "      <th>0</th>\n",
              "      <td>4</td>\n",
              "      <td>NaN</td>\n",
              "      <td>7.0</td>\n",
              "    </tr>\n",
              "  </tbody>\n",
              "</table>\n",
              "</div>\n",
              "      <button class=\"colab-df-convert\" onclick=\"convertToInteractive('df-e8259d46-3eda-4870-a806-978667baebac')\"\n",
              "              title=\"Convert this dataframe to an interactive table.\"\n",
              "              style=\"display:none;\">\n",
              "        \n",
              "  <svg xmlns=\"http://www.w3.org/2000/svg\" height=\"24px\"viewBox=\"0 0 24 24\"\n",
              "       width=\"24px\">\n",
              "    <path d=\"M0 0h24v24H0V0z\" fill=\"none\"/>\n",
              "    <path d=\"M18.56 5.44l.94 2.06.94-2.06 2.06-.94-2.06-.94-.94-2.06-.94 2.06-2.06.94zm-11 1L8.5 8.5l.94-2.06 2.06-.94-2.06-.94L8.5 2.5l-.94 2.06-2.06.94zm10 10l.94 2.06.94-2.06 2.06-.94-2.06-.94-.94-2.06-.94 2.06-2.06.94z\"/><path d=\"M17.41 7.96l-1.37-1.37c-.4-.4-.92-.59-1.43-.59-.52 0-1.04.2-1.43.59L10.3 9.45l-7.72 7.72c-.78.78-.78 2.05 0 2.83L4 21.41c.39.39.9.59 1.41.59.51 0 1.02-.2 1.41-.59l7.78-7.78 2.81-2.81c.8-.78.8-2.07 0-2.86zM5.41 20L4 18.59l7.72-7.72 1.47 1.35L5.41 20z\"/>\n",
              "  </svg>\n",
              "      </button>\n",
              "      \n",
              "  <style>\n",
              "    .colab-df-container {\n",
              "      display:flex;\n",
              "      flex-wrap:wrap;\n",
              "      gap: 12px;\n",
              "    }\n",
              "\n",
              "    .colab-df-convert {\n",
              "      background-color: #E8F0FE;\n",
              "      border: none;\n",
              "      border-radius: 50%;\n",
              "      cursor: pointer;\n",
              "      display: none;\n",
              "      fill: #1967D2;\n",
              "      height: 32px;\n",
              "      padding: 0 0 0 0;\n",
              "      width: 32px;\n",
              "    }\n",
              "\n",
              "    .colab-df-convert:hover {\n",
              "      background-color: #E2EBFA;\n",
              "      box-shadow: 0px 1px 2px rgba(60, 64, 67, 0.3), 0px 1px 3px 1px rgba(60, 64, 67, 0.15);\n",
              "      fill: #174EA6;\n",
              "    }\n",
              "\n",
              "    [theme=dark] .colab-df-convert {\n",
              "      background-color: #3B4455;\n",
              "      fill: #D2E3FC;\n",
              "    }\n",
              "\n",
              "    [theme=dark] .colab-df-convert:hover {\n",
              "      background-color: #434B5C;\n",
              "      box-shadow: 0px 1px 3px 1px rgba(0, 0, 0, 0.15);\n",
              "      filter: drop-shadow(0px 1px 2px rgba(0, 0, 0, 0.3));\n",
              "      fill: #FFFFFF;\n",
              "    }\n",
              "  </style>\n",
              "\n",
              "      <script>\n",
              "        const buttonEl =\n",
              "          document.querySelector('#df-e8259d46-3eda-4870-a806-978667baebac button.colab-df-convert');\n",
              "        buttonEl.style.display =\n",
              "          google.colab.kernel.accessAllowed ? 'block' : 'none';\n",
              "\n",
              "        async function convertToInteractive(key) {\n",
              "          const element = document.querySelector('#df-e8259d46-3eda-4870-a806-978667baebac');\n",
              "          const dataTable =\n",
              "            await google.colab.kernel.invokeFunction('convertToInteractive',\n",
              "                                                     [key], {});\n",
              "          if (!dataTable) return;\n",
              "\n",
              "          const docLinkHtml = 'Like what you see? Visit the ' +\n",
              "            '<a target=\"_blank\" href=https://colab.research.google.com/notebooks/data_table.ipynb>data table notebook</a>'\n",
              "            + ' to learn more about interactive tables.';\n",
              "          element.innerHTML = '';\n",
              "          dataTable['output_type'] = 'display_data';\n",
              "          await google.colab.output.renderOutput(dataTable, element);\n",
              "          const docLink = document.createElement('div');\n",
              "          docLink.innerHTML = docLinkHtml;\n",
              "          element.appendChild(docLink);\n",
              "        }\n",
              "      </script>\n",
              "    </div>\n",
              "  </div>\n",
              "  "
            ]
          },
          "metadata": {},
          "execution_count": 44
        }
      ]
    },
    {
      "cell_type": "markdown",
      "source": [
        "Concatenation is mostly used when the rows index or columns index is shared.  \n",
        "For example, you might have data with the same columns and want to concatenate them on axis 0:"
      ],
      "metadata": {
        "id": "edoVaKqGmG04"
      }
    },
    {
      "cell_type": "code",
      "source": [
        "df1 = pd.DataFrame({\"A\": pd.Series([1, 2, 3]), \"B\": pd.Series([4, 5, 6])})\n",
        "df2 = pd.DataFrame({\"A\": pd.Series([4]), \"B\": pd.Series([7])})\n",
        "df3 = pd.concat([df1, df2], axis = 0)\n",
        "df3"
      ],
      "metadata": {
        "id": "bKtAAPjHIsSE",
        "colab": {
          "base_uri": "https://localhost:8080/",
          "height": 175
        },
        "outputId": "6ce04b9d-6779-4074-f272-a99c712d10f7"
      },
      "execution_count": 45,
      "outputs": [
        {
          "output_type": "execute_result",
          "data": {
            "text/plain": [
              "   A  B\n",
              "0  1  4\n",
              "1  2  5\n",
              "2  3  6\n",
              "0  4  7"
            ],
            "text/html": [
              "\n",
              "  <div id=\"df-541f1f71-45ef-4b84-a8d4-8e134ac1459e\">\n",
              "    <div class=\"colab-df-container\">\n",
              "      <div>\n",
              "<style scoped>\n",
              "    .dataframe tbody tr th:only-of-type {\n",
              "        vertical-align: middle;\n",
              "    }\n",
              "\n",
              "    .dataframe tbody tr th {\n",
              "        vertical-align: top;\n",
              "    }\n",
              "\n",
              "    .dataframe thead th {\n",
              "        text-align: right;\n",
              "    }\n",
              "</style>\n",
              "<table border=\"1\" class=\"dataframe\">\n",
              "  <thead>\n",
              "    <tr style=\"text-align: right;\">\n",
              "      <th></th>\n",
              "      <th>A</th>\n",
              "      <th>B</th>\n",
              "    </tr>\n",
              "  </thead>\n",
              "  <tbody>\n",
              "    <tr>\n",
              "      <th>0</th>\n",
              "      <td>1</td>\n",
              "      <td>4</td>\n",
              "    </tr>\n",
              "    <tr>\n",
              "      <th>1</th>\n",
              "      <td>2</td>\n",
              "      <td>5</td>\n",
              "    </tr>\n",
              "    <tr>\n",
              "      <th>2</th>\n",
              "      <td>3</td>\n",
              "      <td>6</td>\n",
              "    </tr>\n",
              "    <tr>\n",
              "      <th>0</th>\n",
              "      <td>4</td>\n",
              "      <td>7</td>\n",
              "    </tr>\n",
              "  </tbody>\n",
              "</table>\n",
              "</div>\n",
              "      <button class=\"colab-df-convert\" onclick=\"convertToInteractive('df-541f1f71-45ef-4b84-a8d4-8e134ac1459e')\"\n",
              "              title=\"Convert this dataframe to an interactive table.\"\n",
              "              style=\"display:none;\">\n",
              "        \n",
              "  <svg xmlns=\"http://www.w3.org/2000/svg\" height=\"24px\"viewBox=\"0 0 24 24\"\n",
              "       width=\"24px\">\n",
              "    <path d=\"M0 0h24v24H0V0z\" fill=\"none\"/>\n",
              "    <path d=\"M18.56 5.44l.94 2.06.94-2.06 2.06-.94-2.06-.94-.94-2.06-.94 2.06-2.06.94zm-11 1L8.5 8.5l.94-2.06 2.06-.94-2.06-.94L8.5 2.5l-.94 2.06-2.06.94zm10 10l.94 2.06.94-2.06 2.06-.94-2.06-.94-.94-2.06-.94 2.06-2.06.94z\"/><path d=\"M17.41 7.96l-1.37-1.37c-.4-.4-.92-.59-1.43-.59-.52 0-1.04.2-1.43.59L10.3 9.45l-7.72 7.72c-.78.78-.78 2.05 0 2.83L4 21.41c.39.39.9.59 1.41.59.51 0 1.02-.2 1.41-.59l7.78-7.78 2.81-2.81c.8-.78.8-2.07 0-2.86zM5.41 20L4 18.59l7.72-7.72 1.47 1.35L5.41 20z\"/>\n",
              "  </svg>\n",
              "      </button>\n",
              "      \n",
              "  <style>\n",
              "    .colab-df-container {\n",
              "      display:flex;\n",
              "      flex-wrap:wrap;\n",
              "      gap: 12px;\n",
              "    }\n",
              "\n",
              "    .colab-df-convert {\n",
              "      background-color: #E8F0FE;\n",
              "      border: none;\n",
              "      border-radius: 50%;\n",
              "      cursor: pointer;\n",
              "      display: none;\n",
              "      fill: #1967D2;\n",
              "      height: 32px;\n",
              "      padding: 0 0 0 0;\n",
              "      width: 32px;\n",
              "    }\n",
              "\n",
              "    .colab-df-convert:hover {\n",
              "      background-color: #E2EBFA;\n",
              "      box-shadow: 0px 1px 2px rgba(60, 64, 67, 0.3), 0px 1px 3px 1px rgba(60, 64, 67, 0.15);\n",
              "      fill: #174EA6;\n",
              "    }\n",
              "\n",
              "    [theme=dark] .colab-df-convert {\n",
              "      background-color: #3B4455;\n",
              "      fill: #D2E3FC;\n",
              "    }\n",
              "\n",
              "    [theme=dark] .colab-df-convert:hover {\n",
              "      background-color: #434B5C;\n",
              "      box-shadow: 0px 1px 3px 1px rgba(0, 0, 0, 0.15);\n",
              "      filter: drop-shadow(0px 1px 2px rgba(0, 0, 0, 0.3));\n",
              "      fill: #FFFFFF;\n",
              "    }\n",
              "  </style>\n",
              "\n",
              "      <script>\n",
              "        const buttonEl =\n",
              "          document.querySelector('#df-541f1f71-45ef-4b84-a8d4-8e134ac1459e button.colab-df-convert');\n",
              "        buttonEl.style.display =\n",
              "          google.colab.kernel.accessAllowed ? 'block' : 'none';\n",
              "\n",
              "        async function convertToInteractive(key) {\n",
              "          const element = document.querySelector('#df-541f1f71-45ef-4b84-a8d4-8e134ac1459e');\n",
              "          const dataTable =\n",
              "            await google.colab.kernel.invokeFunction('convertToInteractive',\n",
              "                                                     [key], {});\n",
              "          if (!dataTable) return;\n",
              "\n",
              "          const docLinkHtml = 'Like what you see? Visit the ' +\n",
              "            '<a target=\"_blank\" href=https://colab.research.google.com/notebooks/data_table.ipynb>data table notebook</a>'\n",
              "            + ' to learn more about interactive tables.';\n",
              "          element.innerHTML = '';\n",
              "          dataTable['output_type'] = 'display_data';\n",
              "          await google.colab.output.renderOutput(dataTable, element);\n",
              "          const docLink = document.createElement('div');\n",
              "          docLink.innerHTML = docLinkHtml;\n",
              "          element.appendChild(docLink);\n",
              "        }\n",
              "      </script>\n",
              "    </div>\n",
              "  </div>\n",
              "  "
            ]
          },
          "metadata": {},
          "execution_count": 45
        }
      ]
    },
    {
      "cell_type": "markdown",
      "source": [
        "Note what happened to the index of our concatenated dataframe above: we might want to reset it."
      ],
      "metadata": {
        "id": "sCIe_ziLl2zH"
      }
    },
    {
      "cell_type": "code",
      "source": [
        "df3.reset_index()"
      ],
      "metadata": {
        "colab": {
          "base_uri": "https://localhost:8080/",
          "height": 175
        },
        "id": "gRNvjza7l3Wj",
        "outputId": "2cc5a448-a232-4292-f0c9-654965fb3d96"
      },
      "execution_count": 46,
      "outputs": [
        {
          "output_type": "execute_result",
          "data": {
            "text/plain": [
              "   index  A  B\n",
              "0      0  1  4\n",
              "1      1  2  5\n",
              "2      2  3  6\n",
              "3      0  4  7"
            ],
            "text/html": [
              "\n",
              "  <div id=\"df-736719e2-faa6-449c-a550-d7104af7d361\">\n",
              "    <div class=\"colab-df-container\">\n",
              "      <div>\n",
              "<style scoped>\n",
              "    .dataframe tbody tr th:only-of-type {\n",
              "        vertical-align: middle;\n",
              "    }\n",
              "\n",
              "    .dataframe tbody tr th {\n",
              "        vertical-align: top;\n",
              "    }\n",
              "\n",
              "    .dataframe thead th {\n",
              "        text-align: right;\n",
              "    }\n",
              "</style>\n",
              "<table border=\"1\" class=\"dataframe\">\n",
              "  <thead>\n",
              "    <tr style=\"text-align: right;\">\n",
              "      <th></th>\n",
              "      <th>index</th>\n",
              "      <th>A</th>\n",
              "      <th>B</th>\n",
              "    </tr>\n",
              "  </thead>\n",
              "  <tbody>\n",
              "    <tr>\n",
              "      <th>0</th>\n",
              "      <td>0</td>\n",
              "      <td>1</td>\n",
              "      <td>4</td>\n",
              "    </tr>\n",
              "    <tr>\n",
              "      <th>1</th>\n",
              "      <td>1</td>\n",
              "      <td>2</td>\n",
              "      <td>5</td>\n",
              "    </tr>\n",
              "    <tr>\n",
              "      <th>2</th>\n",
              "      <td>2</td>\n",
              "      <td>3</td>\n",
              "      <td>6</td>\n",
              "    </tr>\n",
              "    <tr>\n",
              "      <th>3</th>\n",
              "      <td>0</td>\n",
              "      <td>4</td>\n",
              "      <td>7</td>\n",
              "    </tr>\n",
              "  </tbody>\n",
              "</table>\n",
              "</div>\n",
              "      <button class=\"colab-df-convert\" onclick=\"convertToInteractive('df-736719e2-faa6-449c-a550-d7104af7d361')\"\n",
              "              title=\"Convert this dataframe to an interactive table.\"\n",
              "              style=\"display:none;\">\n",
              "        \n",
              "  <svg xmlns=\"http://www.w3.org/2000/svg\" height=\"24px\"viewBox=\"0 0 24 24\"\n",
              "       width=\"24px\">\n",
              "    <path d=\"M0 0h24v24H0V0z\" fill=\"none\"/>\n",
              "    <path d=\"M18.56 5.44l.94 2.06.94-2.06 2.06-.94-2.06-.94-.94-2.06-.94 2.06-2.06.94zm-11 1L8.5 8.5l.94-2.06 2.06-.94-2.06-.94L8.5 2.5l-.94 2.06-2.06.94zm10 10l.94 2.06.94-2.06 2.06-.94-2.06-.94-.94-2.06-.94 2.06-2.06.94z\"/><path d=\"M17.41 7.96l-1.37-1.37c-.4-.4-.92-.59-1.43-.59-.52 0-1.04.2-1.43.59L10.3 9.45l-7.72 7.72c-.78.78-.78 2.05 0 2.83L4 21.41c.39.39.9.59 1.41.59.51 0 1.02-.2 1.41-.59l7.78-7.78 2.81-2.81c.8-.78.8-2.07 0-2.86zM5.41 20L4 18.59l7.72-7.72 1.47 1.35L5.41 20z\"/>\n",
              "  </svg>\n",
              "      </button>\n",
              "      \n",
              "  <style>\n",
              "    .colab-df-container {\n",
              "      display:flex;\n",
              "      flex-wrap:wrap;\n",
              "      gap: 12px;\n",
              "    }\n",
              "\n",
              "    .colab-df-convert {\n",
              "      background-color: #E8F0FE;\n",
              "      border: none;\n",
              "      border-radius: 50%;\n",
              "      cursor: pointer;\n",
              "      display: none;\n",
              "      fill: #1967D2;\n",
              "      height: 32px;\n",
              "      padding: 0 0 0 0;\n",
              "      width: 32px;\n",
              "    }\n",
              "\n",
              "    .colab-df-convert:hover {\n",
              "      background-color: #E2EBFA;\n",
              "      box-shadow: 0px 1px 2px rgba(60, 64, 67, 0.3), 0px 1px 3px 1px rgba(60, 64, 67, 0.15);\n",
              "      fill: #174EA6;\n",
              "    }\n",
              "\n",
              "    [theme=dark] .colab-df-convert {\n",
              "      background-color: #3B4455;\n",
              "      fill: #D2E3FC;\n",
              "    }\n",
              "\n",
              "    [theme=dark] .colab-df-convert:hover {\n",
              "      background-color: #434B5C;\n",
              "      box-shadow: 0px 1px 3px 1px rgba(0, 0, 0, 0.15);\n",
              "      filter: drop-shadow(0px 1px 2px rgba(0, 0, 0, 0.3));\n",
              "      fill: #FFFFFF;\n",
              "    }\n",
              "  </style>\n",
              "\n",
              "      <script>\n",
              "        const buttonEl =\n",
              "          document.querySelector('#df-736719e2-faa6-449c-a550-d7104af7d361 button.colab-df-convert');\n",
              "        buttonEl.style.display =\n",
              "          google.colab.kernel.accessAllowed ? 'block' : 'none';\n",
              "\n",
              "        async function convertToInteractive(key) {\n",
              "          const element = document.querySelector('#df-736719e2-faa6-449c-a550-d7104af7d361');\n",
              "          const dataTable =\n",
              "            await google.colab.kernel.invokeFunction('convertToInteractive',\n",
              "                                                     [key], {});\n",
              "          if (!dataTable) return;\n",
              "\n",
              "          const docLinkHtml = 'Like what you see? Visit the ' +\n",
              "            '<a target=\"_blank\" href=https://colab.research.google.com/notebooks/data_table.ipynb>data table notebook</a>'\n",
              "            + ' to learn more about interactive tables.';\n",
              "          element.innerHTML = '';\n",
              "          dataTable['output_type'] = 'display_data';\n",
              "          await google.colab.output.renderOutput(dataTable, element);\n",
              "          const docLink = document.createElement('div');\n",
              "          docLink.innerHTML = docLinkHtml;\n",
              "          element.appendChild(docLink);\n",
              "        }\n",
              "      </script>\n",
              "    </div>\n",
              "  </div>\n",
              "  "
            ]
          },
          "metadata": {},
          "execution_count": 46
        }
      ]
    },
    {
      "cell_type": "markdown",
      "source": [
        "Similarly, you might have data with the same rows and different columns:"
      ],
      "metadata": {
        "id": "p8OIEKm6mLvr"
      }
    },
    {
      "cell_type": "code",
      "source": [
        "df1 = pd.DataFrame({\"A\": pd.Series([1, 2, 3]), \"B\": pd.Series([4, 5, 6])})\n",
        "df2 = pd.DataFrame({\"C\": pd.Series([4,5,8]), \"D\": pd.Series([7,12,1])})\n",
        "pd.concat([df1, df2], axis = 1)"
      ],
      "metadata": {
        "id": "R6mehnrOIuKC",
        "colab": {
          "base_uri": "https://localhost:8080/",
          "height": 143
        },
        "outputId": "2352c85d-5ee9-429d-94f5-11e0be3c8b5f"
      },
      "execution_count": 47,
      "outputs": [
        {
          "output_type": "execute_result",
          "data": {
            "text/plain": [
              "   A  B  C   D\n",
              "0  1  4  4   7\n",
              "1  2  5  5  12\n",
              "2  3  6  8   1"
            ],
            "text/html": [
              "\n",
              "  <div id=\"df-ceab30cf-044c-47aa-ba1b-66d5d7b6b7ca\">\n",
              "    <div class=\"colab-df-container\">\n",
              "      <div>\n",
              "<style scoped>\n",
              "    .dataframe tbody tr th:only-of-type {\n",
              "        vertical-align: middle;\n",
              "    }\n",
              "\n",
              "    .dataframe tbody tr th {\n",
              "        vertical-align: top;\n",
              "    }\n",
              "\n",
              "    .dataframe thead th {\n",
              "        text-align: right;\n",
              "    }\n",
              "</style>\n",
              "<table border=\"1\" class=\"dataframe\">\n",
              "  <thead>\n",
              "    <tr style=\"text-align: right;\">\n",
              "      <th></th>\n",
              "      <th>A</th>\n",
              "      <th>B</th>\n",
              "      <th>C</th>\n",
              "      <th>D</th>\n",
              "    </tr>\n",
              "  </thead>\n",
              "  <tbody>\n",
              "    <tr>\n",
              "      <th>0</th>\n",
              "      <td>1</td>\n",
              "      <td>4</td>\n",
              "      <td>4</td>\n",
              "      <td>7</td>\n",
              "    </tr>\n",
              "    <tr>\n",
              "      <th>1</th>\n",
              "      <td>2</td>\n",
              "      <td>5</td>\n",
              "      <td>5</td>\n",
              "      <td>12</td>\n",
              "    </tr>\n",
              "    <tr>\n",
              "      <th>2</th>\n",
              "      <td>3</td>\n",
              "      <td>6</td>\n",
              "      <td>8</td>\n",
              "      <td>1</td>\n",
              "    </tr>\n",
              "  </tbody>\n",
              "</table>\n",
              "</div>\n",
              "      <button class=\"colab-df-convert\" onclick=\"convertToInteractive('df-ceab30cf-044c-47aa-ba1b-66d5d7b6b7ca')\"\n",
              "              title=\"Convert this dataframe to an interactive table.\"\n",
              "              style=\"display:none;\">\n",
              "        \n",
              "  <svg xmlns=\"http://www.w3.org/2000/svg\" height=\"24px\"viewBox=\"0 0 24 24\"\n",
              "       width=\"24px\">\n",
              "    <path d=\"M0 0h24v24H0V0z\" fill=\"none\"/>\n",
              "    <path d=\"M18.56 5.44l.94 2.06.94-2.06 2.06-.94-2.06-.94-.94-2.06-.94 2.06-2.06.94zm-11 1L8.5 8.5l.94-2.06 2.06-.94-2.06-.94L8.5 2.5l-.94 2.06-2.06.94zm10 10l.94 2.06.94-2.06 2.06-.94-2.06-.94-.94-2.06-.94 2.06-2.06.94z\"/><path d=\"M17.41 7.96l-1.37-1.37c-.4-.4-.92-.59-1.43-.59-.52 0-1.04.2-1.43.59L10.3 9.45l-7.72 7.72c-.78.78-.78 2.05 0 2.83L4 21.41c.39.39.9.59 1.41.59.51 0 1.02-.2 1.41-.59l7.78-7.78 2.81-2.81c.8-.78.8-2.07 0-2.86zM5.41 20L4 18.59l7.72-7.72 1.47 1.35L5.41 20z\"/>\n",
              "  </svg>\n",
              "      </button>\n",
              "      \n",
              "  <style>\n",
              "    .colab-df-container {\n",
              "      display:flex;\n",
              "      flex-wrap:wrap;\n",
              "      gap: 12px;\n",
              "    }\n",
              "\n",
              "    .colab-df-convert {\n",
              "      background-color: #E8F0FE;\n",
              "      border: none;\n",
              "      border-radius: 50%;\n",
              "      cursor: pointer;\n",
              "      display: none;\n",
              "      fill: #1967D2;\n",
              "      height: 32px;\n",
              "      padding: 0 0 0 0;\n",
              "      width: 32px;\n",
              "    }\n",
              "\n",
              "    .colab-df-convert:hover {\n",
              "      background-color: #E2EBFA;\n",
              "      box-shadow: 0px 1px 2px rgba(60, 64, 67, 0.3), 0px 1px 3px 1px rgba(60, 64, 67, 0.15);\n",
              "      fill: #174EA6;\n",
              "    }\n",
              "\n",
              "    [theme=dark] .colab-df-convert {\n",
              "      background-color: #3B4455;\n",
              "      fill: #D2E3FC;\n",
              "    }\n",
              "\n",
              "    [theme=dark] .colab-df-convert:hover {\n",
              "      background-color: #434B5C;\n",
              "      box-shadow: 0px 1px 3px 1px rgba(0, 0, 0, 0.15);\n",
              "      filter: drop-shadow(0px 1px 2px rgba(0, 0, 0, 0.3));\n",
              "      fill: #FFFFFF;\n",
              "    }\n",
              "  </style>\n",
              "\n",
              "      <script>\n",
              "        const buttonEl =\n",
              "          document.querySelector('#df-ceab30cf-044c-47aa-ba1b-66d5d7b6b7ca button.colab-df-convert');\n",
              "        buttonEl.style.display =\n",
              "          google.colab.kernel.accessAllowed ? 'block' : 'none';\n",
              "\n",
              "        async function convertToInteractive(key) {\n",
              "          const element = document.querySelector('#df-ceab30cf-044c-47aa-ba1b-66d5d7b6b7ca');\n",
              "          const dataTable =\n",
              "            await google.colab.kernel.invokeFunction('convertToInteractive',\n",
              "                                                     [key], {});\n",
              "          if (!dataTable) return;\n",
              "\n",
              "          const docLinkHtml = 'Like what you see? Visit the ' +\n",
              "            '<a target=\"_blank\" href=https://colab.research.google.com/notebooks/data_table.ipynb>data table notebook</a>'\n",
              "            + ' to learn more about interactive tables.';\n",
              "          element.innerHTML = '';\n",
              "          dataTable['output_type'] = 'display_data';\n",
              "          await google.colab.output.renderOutput(dataTable, element);\n",
              "          const docLink = document.createElement('div');\n",
              "          docLink.innerHTML = docLinkHtml;\n",
              "          element.appendChild(docLink);\n",
              "        }\n",
              "      </script>\n",
              "    </div>\n",
              "  </div>\n",
              "  "
            ]
          },
          "metadata": {},
          "execution_count": 47
        }
      ]
    },
    {
      "cell_type": "markdown",
      "source": [
        "Note what happens if the rows do not align, and you concatenate on axis 1 (by rows):"
      ],
      "metadata": {
        "id": "Luvt5U2fmPSp"
      }
    },
    {
      "cell_type": "code",
      "source": [
        "df1 = pd.DataFrame({\"A\": pd.Series([1, 2, 3]), \"B\": pd.Series([4, 5, 6])})\n",
        "df2 = pd.DataFrame({\"C\": pd.Series([7]), \"D\": pd.Series([10])})\n",
        "pd.concat([df1, df2], axis = 1)"
      ],
      "metadata": {
        "id": "Unn6_1LiIwb_",
        "colab": {
          "base_uri": "https://localhost:8080/",
          "height": 143
        },
        "outputId": "4085f88c-cbd5-4088-bcd3-928e6bdfdebb"
      },
      "execution_count": 48,
      "outputs": [
        {
          "output_type": "execute_result",
          "data": {
            "text/plain": [
              "   A  B    C     D\n",
              "0  1  4  7.0  10.0\n",
              "1  2  5  NaN   NaN\n",
              "2  3  6  NaN   NaN"
            ],
            "text/html": [
              "\n",
              "  <div id=\"df-02e103b3-e70d-4e26-a65c-42c4545c6c3f\">\n",
              "    <div class=\"colab-df-container\">\n",
              "      <div>\n",
              "<style scoped>\n",
              "    .dataframe tbody tr th:only-of-type {\n",
              "        vertical-align: middle;\n",
              "    }\n",
              "\n",
              "    .dataframe tbody tr th {\n",
              "        vertical-align: top;\n",
              "    }\n",
              "\n",
              "    .dataframe thead th {\n",
              "        text-align: right;\n",
              "    }\n",
              "</style>\n",
              "<table border=\"1\" class=\"dataframe\">\n",
              "  <thead>\n",
              "    <tr style=\"text-align: right;\">\n",
              "      <th></th>\n",
              "      <th>A</th>\n",
              "      <th>B</th>\n",
              "      <th>C</th>\n",
              "      <th>D</th>\n",
              "    </tr>\n",
              "  </thead>\n",
              "  <tbody>\n",
              "    <tr>\n",
              "      <th>0</th>\n",
              "      <td>1</td>\n",
              "      <td>4</td>\n",
              "      <td>7.0</td>\n",
              "      <td>10.0</td>\n",
              "    </tr>\n",
              "    <tr>\n",
              "      <th>1</th>\n",
              "      <td>2</td>\n",
              "      <td>5</td>\n",
              "      <td>NaN</td>\n",
              "      <td>NaN</td>\n",
              "    </tr>\n",
              "    <tr>\n",
              "      <th>2</th>\n",
              "      <td>3</td>\n",
              "      <td>6</td>\n",
              "      <td>NaN</td>\n",
              "      <td>NaN</td>\n",
              "    </tr>\n",
              "  </tbody>\n",
              "</table>\n",
              "</div>\n",
              "      <button class=\"colab-df-convert\" onclick=\"convertToInteractive('df-02e103b3-e70d-4e26-a65c-42c4545c6c3f')\"\n",
              "              title=\"Convert this dataframe to an interactive table.\"\n",
              "              style=\"display:none;\">\n",
              "        \n",
              "  <svg xmlns=\"http://www.w3.org/2000/svg\" height=\"24px\"viewBox=\"0 0 24 24\"\n",
              "       width=\"24px\">\n",
              "    <path d=\"M0 0h24v24H0V0z\" fill=\"none\"/>\n",
              "    <path d=\"M18.56 5.44l.94 2.06.94-2.06 2.06-.94-2.06-.94-.94-2.06-.94 2.06-2.06.94zm-11 1L8.5 8.5l.94-2.06 2.06-.94-2.06-.94L8.5 2.5l-.94 2.06-2.06.94zm10 10l.94 2.06.94-2.06 2.06-.94-2.06-.94-.94-2.06-.94 2.06-2.06.94z\"/><path d=\"M17.41 7.96l-1.37-1.37c-.4-.4-.92-.59-1.43-.59-.52 0-1.04.2-1.43.59L10.3 9.45l-7.72 7.72c-.78.78-.78 2.05 0 2.83L4 21.41c.39.39.9.59 1.41.59.51 0 1.02-.2 1.41-.59l7.78-7.78 2.81-2.81c.8-.78.8-2.07 0-2.86zM5.41 20L4 18.59l7.72-7.72 1.47 1.35L5.41 20z\"/>\n",
              "  </svg>\n",
              "      </button>\n",
              "      \n",
              "  <style>\n",
              "    .colab-df-container {\n",
              "      display:flex;\n",
              "      flex-wrap:wrap;\n",
              "      gap: 12px;\n",
              "    }\n",
              "\n",
              "    .colab-df-convert {\n",
              "      background-color: #E8F0FE;\n",
              "      border: none;\n",
              "      border-radius: 50%;\n",
              "      cursor: pointer;\n",
              "      display: none;\n",
              "      fill: #1967D2;\n",
              "      height: 32px;\n",
              "      padding: 0 0 0 0;\n",
              "      width: 32px;\n",
              "    }\n",
              "\n",
              "    .colab-df-convert:hover {\n",
              "      background-color: #E2EBFA;\n",
              "      box-shadow: 0px 1px 2px rgba(60, 64, 67, 0.3), 0px 1px 3px 1px rgba(60, 64, 67, 0.15);\n",
              "      fill: #174EA6;\n",
              "    }\n",
              "\n",
              "    [theme=dark] .colab-df-convert {\n",
              "      background-color: #3B4455;\n",
              "      fill: #D2E3FC;\n",
              "    }\n",
              "\n",
              "    [theme=dark] .colab-df-convert:hover {\n",
              "      background-color: #434B5C;\n",
              "      box-shadow: 0px 1px 3px 1px rgba(0, 0, 0, 0.15);\n",
              "      filter: drop-shadow(0px 1px 2px rgba(0, 0, 0, 0.3));\n",
              "      fill: #FFFFFF;\n",
              "    }\n",
              "  </style>\n",
              "\n",
              "      <script>\n",
              "        const buttonEl =\n",
              "          document.querySelector('#df-02e103b3-e70d-4e26-a65c-42c4545c6c3f button.colab-df-convert');\n",
              "        buttonEl.style.display =\n",
              "          google.colab.kernel.accessAllowed ? 'block' : 'none';\n",
              "\n",
              "        async function convertToInteractive(key) {\n",
              "          const element = document.querySelector('#df-02e103b3-e70d-4e26-a65c-42c4545c6c3f');\n",
              "          const dataTable =\n",
              "            await google.colab.kernel.invokeFunction('convertToInteractive',\n",
              "                                                     [key], {});\n",
              "          if (!dataTable) return;\n",
              "\n",
              "          const docLinkHtml = 'Like what you see? Visit the ' +\n",
              "            '<a target=\"_blank\" href=https://colab.research.google.com/notebooks/data_table.ipynb>data table notebook</a>'\n",
              "            + ' to learn more about interactive tables.';\n",
              "          element.innerHTML = '';\n",
              "          dataTable['output_type'] = 'display_data';\n",
              "          await google.colab.output.renderOutput(dataTable, element);\n",
              "          const docLink = document.createElement('div');\n",
              "          docLink.innerHTML = docLinkHtml;\n",
              "          element.appendChild(docLink);\n",
              "        }\n",
              "      </script>\n",
              "    </div>\n",
              "  </div>\n",
              "  "
            ]
          },
          "metadata": {},
          "execution_count": 48
        }
      ]
    },
    {
      "cell_type": "markdown",
      "source": [
        "Taking action on `NaN`s that may appear as a results of `concat` is done by specifying the `join` argument to `inner` or `outer` (defaults to `outer`)."
      ],
      "metadata": {
        "id": "QtPNrlieYBAH"
      }
    },
    {
      "cell_type": "code",
      "source": [
        "df1 = pd.DataFrame({\"A\": pd.Series([1, 2, 3]), \"B\": pd.Series([4, 5, 6])})\n",
        "df2 = pd.DataFrame({\"A\": pd.Series([4]), \"C\": pd.Series([7])})\n",
        "print(pd.concat([df1, df2], axis = 1, join = \"outer\"))  # \"outer\" join\n",
        "print(pd.concat([df1, df2], axis = 1, join = \"inner\"))  # \"inner\" join"
      ],
      "metadata": {
        "id": "82iO002oIZUH",
        "colab": {
          "base_uri": "https://localhost:8080/"
        },
        "outputId": "5327d45b-915a-4c3e-c67a-a5226b8f4431"
      },
      "execution_count": 49,
      "outputs": [
        {
          "output_type": "stream",
          "name": "stdout",
          "text": [
            "   A  B    A    C\n",
            "0  1  4  4.0  7.0\n",
            "1  2  5  NaN  NaN\n",
            "2  3  6  NaN  NaN\n",
            "   A  B  A  C\n",
            "0  1  4  4  7\n"
          ]
        }
      ]
    },
    {
      "cell_type": "markdown",
      "source": [
        "**Merge**"
      ],
      "metadata": {
        "id": "PevCO_pGmYxp"
      }
    },
    {
      "cell_type": "markdown",
      "source": [
        "`merge` is commonly used when your two `DataFrame`s are connected but do not share an index or columns. With merge we will connect two `DataFrame`s on some common piece of information, e.g. a common column. To tell `merge` what to with `NaN`s we specify a type of `join`, just as with `concat`. There are four types of `join` operations:\n",
        "\n",
        "*   `inner`-join: **intersection** of *keys*\n",
        "*   `outer`-join: **union** of *keys*\n",
        "*   `left`-join: use *keys* from **left only**\n",
        "*   `right`-join: use *keys* from **right only**"
      ],
      "metadata": {
        "id": "xR2E9PJFJLmL"
      }
    },
    {
      "cell_type": "code",
      "source": [
        "df1 = pd.DataFrame({\"A\": pd.Series([1, 2, 3]), \"B\": pd.Series([4, 5, 6])})\n",
        "df2 = pd.DataFrame({\"A\": pd.Series([3, 4]), \"C\": pd.Series([7, 8])})\n",
        "print(df1)\n",
        "print('\\n')\n",
        "print(df2)"
      ],
      "metadata": {
        "colab": {
          "base_uri": "https://localhost:8080/"
        },
        "id": "6JJSujTHmsWq",
        "outputId": "e3eaee5e-b67e-4b36-b954-3c73d84181cf"
      },
      "execution_count": 50,
      "outputs": [
        {
          "output_type": "stream",
          "name": "stdout",
          "text": [
            "   A  B\n",
            "0  1  4\n",
            "1  2  5\n",
            "2  3  6\n",
            "\n",
            "\n",
            "   A  C\n",
            "0  3  7\n",
            "1  4  8\n"
          ]
        }
      ]
    },
    {
      "cell_type": "code",
      "source": [
        "# Merging, \"on\" defines on what piece of information the DataFrame's will merge\n",
        "pd.merge(df1, df2, on = 'A', how = 'right')  # if column names differ, use \"left_on\" and \"right_on\""
      ],
      "metadata": {
        "id": "46tt1Z1tJLUP",
        "colab": {
          "base_uri": "https://localhost:8080/",
          "height": 112
        },
        "outputId": "8f94b67a-b1f2-4ef6-9b54-dde0c8a55f39"
      },
      "execution_count": 51,
      "outputs": [
        {
          "output_type": "execute_result",
          "data": {
            "text/plain": [
              "   A    B  C\n",
              "0  3  6.0  7\n",
              "1  4  NaN  8"
            ],
            "text/html": [
              "\n",
              "  <div id=\"df-0b0e3a72-d92a-4518-b36d-a075a155656c\">\n",
              "    <div class=\"colab-df-container\">\n",
              "      <div>\n",
              "<style scoped>\n",
              "    .dataframe tbody tr th:only-of-type {\n",
              "        vertical-align: middle;\n",
              "    }\n",
              "\n",
              "    .dataframe tbody tr th {\n",
              "        vertical-align: top;\n",
              "    }\n",
              "\n",
              "    .dataframe thead th {\n",
              "        text-align: right;\n",
              "    }\n",
              "</style>\n",
              "<table border=\"1\" class=\"dataframe\">\n",
              "  <thead>\n",
              "    <tr style=\"text-align: right;\">\n",
              "      <th></th>\n",
              "      <th>A</th>\n",
              "      <th>B</th>\n",
              "      <th>C</th>\n",
              "    </tr>\n",
              "  </thead>\n",
              "  <tbody>\n",
              "    <tr>\n",
              "      <th>0</th>\n",
              "      <td>3</td>\n",
              "      <td>6.0</td>\n",
              "      <td>7</td>\n",
              "    </tr>\n",
              "    <tr>\n",
              "      <th>1</th>\n",
              "      <td>4</td>\n",
              "      <td>NaN</td>\n",
              "      <td>8</td>\n",
              "    </tr>\n",
              "  </tbody>\n",
              "</table>\n",
              "</div>\n",
              "      <button class=\"colab-df-convert\" onclick=\"convertToInteractive('df-0b0e3a72-d92a-4518-b36d-a075a155656c')\"\n",
              "              title=\"Convert this dataframe to an interactive table.\"\n",
              "              style=\"display:none;\">\n",
              "        \n",
              "  <svg xmlns=\"http://www.w3.org/2000/svg\" height=\"24px\"viewBox=\"0 0 24 24\"\n",
              "       width=\"24px\">\n",
              "    <path d=\"M0 0h24v24H0V0z\" fill=\"none\"/>\n",
              "    <path d=\"M18.56 5.44l.94 2.06.94-2.06 2.06-.94-2.06-.94-.94-2.06-.94 2.06-2.06.94zm-11 1L8.5 8.5l.94-2.06 2.06-.94-2.06-.94L8.5 2.5l-.94 2.06-2.06.94zm10 10l.94 2.06.94-2.06 2.06-.94-2.06-.94-.94-2.06-.94 2.06-2.06.94z\"/><path d=\"M17.41 7.96l-1.37-1.37c-.4-.4-.92-.59-1.43-.59-.52 0-1.04.2-1.43.59L10.3 9.45l-7.72 7.72c-.78.78-.78 2.05 0 2.83L4 21.41c.39.39.9.59 1.41.59.51 0 1.02-.2 1.41-.59l7.78-7.78 2.81-2.81c.8-.78.8-2.07 0-2.86zM5.41 20L4 18.59l7.72-7.72 1.47 1.35L5.41 20z\"/>\n",
              "  </svg>\n",
              "      </button>\n",
              "      \n",
              "  <style>\n",
              "    .colab-df-container {\n",
              "      display:flex;\n",
              "      flex-wrap:wrap;\n",
              "      gap: 12px;\n",
              "    }\n",
              "\n",
              "    .colab-df-convert {\n",
              "      background-color: #E8F0FE;\n",
              "      border: none;\n",
              "      border-radius: 50%;\n",
              "      cursor: pointer;\n",
              "      display: none;\n",
              "      fill: #1967D2;\n",
              "      height: 32px;\n",
              "      padding: 0 0 0 0;\n",
              "      width: 32px;\n",
              "    }\n",
              "\n",
              "    .colab-df-convert:hover {\n",
              "      background-color: #E2EBFA;\n",
              "      box-shadow: 0px 1px 2px rgba(60, 64, 67, 0.3), 0px 1px 3px 1px rgba(60, 64, 67, 0.15);\n",
              "      fill: #174EA6;\n",
              "    }\n",
              "\n",
              "    [theme=dark] .colab-df-convert {\n",
              "      background-color: #3B4455;\n",
              "      fill: #D2E3FC;\n",
              "    }\n",
              "\n",
              "    [theme=dark] .colab-df-convert:hover {\n",
              "      background-color: #434B5C;\n",
              "      box-shadow: 0px 1px 3px 1px rgba(0, 0, 0, 0.15);\n",
              "      filter: drop-shadow(0px 1px 2px rgba(0, 0, 0, 0.3));\n",
              "      fill: #FFFFFF;\n",
              "    }\n",
              "  </style>\n",
              "\n",
              "      <script>\n",
              "        const buttonEl =\n",
              "          document.querySelector('#df-0b0e3a72-d92a-4518-b36d-a075a155656c button.colab-df-convert');\n",
              "        buttonEl.style.display =\n",
              "          google.colab.kernel.accessAllowed ? 'block' : 'none';\n",
              "\n",
              "        async function convertToInteractive(key) {\n",
              "          const element = document.querySelector('#df-0b0e3a72-d92a-4518-b36d-a075a155656c');\n",
              "          const dataTable =\n",
              "            await google.colab.kernel.invokeFunction('convertToInteractive',\n",
              "                                                     [key], {});\n",
              "          if (!dataTable) return;\n",
              "\n",
              "          const docLinkHtml = 'Like what you see? Visit the ' +\n",
              "            '<a target=\"_blank\" href=https://colab.research.google.com/notebooks/data_table.ipynb>data table notebook</a>'\n",
              "            + ' to learn more about interactive tables.';\n",
              "          element.innerHTML = '';\n",
              "          dataTable['output_type'] = 'display_data';\n",
              "          await google.colab.output.renderOutput(dataTable, element);\n",
              "          const docLink = document.createElement('div');\n",
              "          docLink.innerHTML = docLinkHtml;\n",
              "          element.appendChild(docLink);\n",
              "        }\n",
              "      </script>\n",
              "    </div>\n",
              "  </div>\n",
              "  "
            ]
          },
          "metadata": {},
          "execution_count": 51
        }
      ]
    },
    {
      "cell_type": "code",
      "source": [
        "pd.merge(df1, df2, on = 'A', how = 'left')"
      ],
      "metadata": {
        "id": "j0gJRMeMJ0gr",
        "colab": {
          "base_uri": "https://localhost:8080/",
          "height": 143
        },
        "outputId": "4dca33f0-20ca-4646-eaa2-a2d0c08e0045"
      },
      "execution_count": 52,
      "outputs": [
        {
          "output_type": "execute_result",
          "data": {
            "text/plain": [
              "   A  B    C\n",
              "0  1  4  NaN\n",
              "1  2  5  NaN\n",
              "2  3  6  7.0"
            ],
            "text/html": [
              "\n",
              "  <div id=\"df-68665259-939b-46ed-92d7-a4c6635142ed\">\n",
              "    <div class=\"colab-df-container\">\n",
              "      <div>\n",
              "<style scoped>\n",
              "    .dataframe tbody tr th:only-of-type {\n",
              "        vertical-align: middle;\n",
              "    }\n",
              "\n",
              "    .dataframe tbody tr th {\n",
              "        vertical-align: top;\n",
              "    }\n",
              "\n",
              "    .dataframe thead th {\n",
              "        text-align: right;\n",
              "    }\n",
              "</style>\n",
              "<table border=\"1\" class=\"dataframe\">\n",
              "  <thead>\n",
              "    <tr style=\"text-align: right;\">\n",
              "      <th></th>\n",
              "      <th>A</th>\n",
              "      <th>B</th>\n",
              "      <th>C</th>\n",
              "    </tr>\n",
              "  </thead>\n",
              "  <tbody>\n",
              "    <tr>\n",
              "      <th>0</th>\n",
              "      <td>1</td>\n",
              "      <td>4</td>\n",
              "      <td>NaN</td>\n",
              "    </tr>\n",
              "    <tr>\n",
              "      <th>1</th>\n",
              "      <td>2</td>\n",
              "      <td>5</td>\n",
              "      <td>NaN</td>\n",
              "    </tr>\n",
              "    <tr>\n",
              "      <th>2</th>\n",
              "      <td>3</td>\n",
              "      <td>6</td>\n",
              "      <td>7.0</td>\n",
              "    </tr>\n",
              "  </tbody>\n",
              "</table>\n",
              "</div>\n",
              "      <button class=\"colab-df-convert\" onclick=\"convertToInteractive('df-68665259-939b-46ed-92d7-a4c6635142ed')\"\n",
              "              title=\"Convert this dataframe to an interactive table.\"\n",
              "              style=\"display:none;\">\n",
              "        \n",
              "  <svg xmlns=\"http://www.w3.org/2000/svg\" height=\"24px\"viewBox=\"0 0 24 24\"\n",
              "       width=\"24px\">\n",
              "    <path d=\"M0 0h24v24H0V0z\" fill=\"none\"/>\n",
              "    <path d=\"M18.56 5.44l.94 2.06.94-2.06 2.06-.94-2.06-.94-.94-2.06-.94 2.06-2.06.94zm-11 1L8.5 8.5l.94-2.06 2.06-.94-2.06-.94L8.5 2.5l-.94 2.06-2.06.94zm10 10l.94 2.06.94-2.06 2.06-.94-2.06-.94-.94-2.06-.94 2.06-2.06.94z\"/><path d=\"M17.41 7.96l-1.37-1.37c-.4-.4-.92-.59-1.43-.59-.52 0-1.04.2-1.43.59L10.3 9.45l-7.72 7.72c-.78.78-.78 2.05 0 2.83L4 21.41c.39.39.9.59 1.41.59.51 0 1.02-.2 1.41-.59l7.78-7.78 2.81-2.81c.8-.78.8-2.07 0-2.86zM5.41 20L4 18.59l7.72-7.72 1.47 1.35L5.41 20z\"/>\n",
              "  </svg>\n",
              "      </button>\n",
              "      \n",
              "  <style>\n",
              "    .colab-df-container {\n",
              "      display:flex;\n",
              "      flex-wrap:wrap;\n",
              "      gap: 12px;\n",
              "    }\n",
              "\n",
              "    .colab-df-convert {\n",
              "      background-color: #E8F0FE;\n",
              "      border: none;\n",
              "      border-radius: 50%;\n",
              "      cursor: pointer;\n",
              "      display: none;\n",
              "      fill: #1967D2;\n",
              "      height: 32px;\n",
              "      padding: 0 0 0 0;\n",
              "      width: 32px;\n",
              "    }\n",
              "\n",
              "    .colab-df-convert:hover {\n",
              "      background-color: #E2EBFA;\n",
              "      box-shadow: 0px 1px 2px rgba(60, 64, 67, 0.3), 0px 1px 3px 1px rgba(60, 64, 67, 0.15);\n",
              "      fill: #174EA6;\n",
              "    }\n",
              "\n",
              "    [theme=dark] .colab-df-convert {\n",
              "      background-color: #3B4455;\n",
              "      fill: #D2E3FC;\n",
              "    }\n",
              "\n",
              "    [theme=dark] .colab-df-convert:hover {\n",
              "      background-color: #434B5C;\n",
              "      box-shadow: 0px 1px 3px 1px rgba(0, 0, 0, 0.15);\n",
              "      filter: drop-shadow(0px 1px 2px rgba(0, 0, 0, 0.3));\n",
              "      fill: #FFFFFF;\n",
              "    }\n",
              "  </style>\n",
              "\n",
              "      <script>\n",
              "        const buttonEl =\n",
              "          document.querySelector('#df-68665259-939b-46ed-92d7-a4c6635142ed button.colab-df-convert');\n",
              "        buttonEl.style.display =\n",
              "          google.colab.kernel.accessAllowed ? 'block' : 'none';\n",
              "\n",
              "        async function convertToInteractive(key) {\n",
              "          const element = document.querySelector('#df-68665259-939b-46ed-92d7-a4c6635142ed');\n",
              "          const dataTable =\n",
              "            await google.colab.kernel.invokeFunction('convertToInteractive',\n",
              "                                                     [key], {});\n",
              "          if (!dataTable) return;\n",
              "\n",
              "          const docLinkHtml = 'Like what you see? Visit the ' +\n",
              "            '<a target=\"_blank\" href=https://colab.research.google.com/notebooks/data_table.ipynb>data table notebook</a>'\n",
              "            + ' to learn more about interactive tables.';\n",
              "          element.innerHTML = '';\n",
              "          dataTable['output_type'] = 'display_data';\n",
              "          await google.colab.output.renderOutput(dataTable, element);\n",
              "          const docLink = document.createElement('div');\n",
              "          docLink.innerHTML = docLinkHtml;\n",
              "          element.appendChild(docLink);\n",
              "        }\n",
              "      </script>\n",
              "    </div>\n",
              "  </div>\n",
              "  "
            ]
          },
          "metadata": {},
          "execution_count": 52
        }
      ]
    },
    {
      "cell_type": "code",
      "source": [
        "pd.merge(df1, df2, on = 'A', how = 'outer')"
      ],
      "metadata": {
        "id": "U103WteCJ09k",
        "colab": {
          "base_uri": "https://localhost:8080/",
          "height": 175
        },
        "outputId": "b058059b-66b6-4748-c473-5c989a124ac8"
      },
      "execution_count": 53,
      "outputs": [
        {
          "output_type": "execute_result",
          "data": {
            "text/plain": [
              "   A    B    C\n",
              "0  1  4.0  NaN\n",
              "1  2  5.0  NaN\n",
              "2  3  6.0  7.0\n",
              "3  4  NaN  8.0"
            ],
            "text/html": [
              "\n",
              "  <div id=\"df-8da69f47-a82c-4669-8f0b-05f0af091dfd\">\n",
              "    <div class=\"colab-df-container\">\n",
              "      <div>\n",
              "<style scoped>\n",
              "    .dataframe tbody tr th:only-of-type {\n",
              "        vertical-align: middle;\n",
              "    }\n",
              "\n",
              "    .dataframe tbody tr th {\n",
              "        vertical-align: top;\n",
              "    }\n",
              "\n",
              "    .dataframe thead th {\n",
              "        text-align: right;\n",
              "    }\n",
              "</style>\n",
              "<table border=\"1\" class=\"dataframe\">\n",
              "  <thead>\n",
              "    <tr style=\"text-align: right;\">\n",
              "      <th></th>\n",
              "      <th>A</th>\n",
              "      <th>B</th>\n",
              "      <th>C</th>\n",
              "    </tr>\n",
              "  </thead>\n",
              "  <tbody>\n",
              "    <tr>\n",
              "      <th>0</th>\n",
              "      <td>1</td>\n",
              "      <td>4.0</td>\n",
              "      <td>NaN</td>\n",
              "    </tr>\n",
              "    <tr>\n",
              "      <th>1</th>\n",
              "      <td>2</td>\n",
              "      <td>5.0</td>\n",
              "      <td>NaN</td>\n",
              "    </tr>\n",
              "    <tr>\n",
              "      <th>2</th>\n",
              "      <td>3</td>\n",
              "      <td>6.0</td>\n",
              "      <td>7.0</td>\n",
              "    </tr>\n",
              "    <tr>\n",
              "      <th>3</th>\n",
              "      <td>4</td>\n",
              "      <td>NaN</td>\n",
              "      <td>8.0</td>\n",
              "    </tr>\n",
              "  </tbody>\n",
              "</table>\n",
              "</div>\n",
              "      <button class=\"colab-df-convert\" onclick=\"convertToInteractive('df-8da69f47-a82c-4669-8f0b-05f0af091dfd')\"\n",
              "              title=\"Convert this dataframe to an interactive table.\"\n",
              "              style=\"display:none;\">\n",
              "        \n",
              "  <svg xmlns=\"http://www.w3.org/2000/svg\" height=\"24px\"viewBox=\"0 0 24 24\"\n",
              "       width=\"24px\">\n",
              "    <path d=\"M0 0h24v24H0V0z\" fill=\"none\"/>\n",
              "    <path d=\"M18.56 5.44l.94 2.06.94-2.06 2.06-.94-2.06-.94-.94-2.06-.94 2.06-2.06.94zm-11 1L8.5 8.5l.94-2.06 2.06-.94-2.06-.94L8.5 2.5l-.94 2.06-2.06.94zm10 10l.94 2.06.94-2.06 2.06-.94-2.06-.94-.94-2.06-.94 2.06-2.06.94z\"/><path d=\"M17.41 7.96l-1.37-1.37c-.4-.4-.92-.59-1.43-.59-.52 0-1.04.2-1.43.59L10.3 9.45l-7.72 7.72c-.78.78-.78 2.05 0 2.83L4 21.41c.39.39.9.59 1.41.59.51 0 1.02-.2 1.41-.59l7.78-7.78 2.81-2.81c.8-.78.8-2.07 0-2.86zM5.41 20L4 18.59l7.72-7.72 1.47 1.35L5.41 20z\"/>\n",
              "  </svg>\n",
              "      </button>\n",
              "      \n",
              "  <style>\n",
              "    .colab-df-container {\n",
              "      display:flex;\n",
              "      flex-wrap:wrap;\n",
              "      gap: 12px;\n",
              "    }\n",
              "\n",
              "    .colab-df-convert {\n",
              "      background-color: #E8F0FE;\n",
              "      border: none;\n",
              "      border-radius: 50%;\n",
              "      cursor: pointer;\n",
              "      display: none;\n",
              "      fill: #1967D2;\n",
              "      height: 32px;\n",
              "      padding: 0 0 0 0;\n",
              "      width: 32px;\n",
              "    }\n",
              "\n",
              "    .colab-df-convert:hover {\n",
              "      background-color: #E2EBFA;\n",
              "      box-shadow: 0px 1px 2px rgba(60, 64, 67, 0.3), 0px 1px 3px 1px rgba(60, 64, 67, 0.15);\n",
              "      fill: #174EA6;\n",
              "    }\n",
              "\n",
              "    [theme=dark] .colab-df-convert {\n",
              "      background-color: #3B4455;\n",
              "      fill: #D2E3FC;\n",
              "    }\n",
              "\n",
              "    [theme=dark] .colab-df-convert:hover {\n",
              "      background-color: #434B5C;\n",
              "      box-shadow: 0px 1px 3px 1px rgba(0, 0, 0, 0.15);\n",
              "      filter: drop-shadow(0px 1px 2px rgba(0, 0, 0, 0.3));\n",
              "      fill: #FFFFFF;\n",
              "    }\n",
              "  </style>\n",
              "\n",
              "      <script>\n",
              "        const buttonEl =\n",
              "          document.querySelector('#df-8da69f47-a82c-4669-8f0b-05f0af091dfd button.colab-df-convert');\n",
              "        buttonEl.style.display =\n",
              "          google.colab.kernel.accessAllowed ? 'block' : 'none';\n",
              "\n",
              "        async function convertToInteractive(key) {\n",
              "          const element = document.querySelector('#df-8da69f47-a82c-4669-8f0b-05f0af091dfd');\n",
              "          const dataTable =\n",
              "            await google.colab.kernel.invokeFunction('convertToInteractive',\n",
              "                                                     [key], {});\n",
              "          if (!dataTable) return;\n",
              "\n",
              "          const docLinkHtml = 'Like what you see? Visit the ' +\n",
              "            '<a target=\"_blank\" href=https://colab.research.google.com/notebooks/data_table.ipynb>data table notebook</a>'\n",
              "            + ' to learn more about interactive tables.';\n",
              "          element.innerHTML = '';\n",
              "          dataTable['output_type'] = 'display_data';\n",
              "          await google.colab.output.renderOutput(dataTable, element);\n",
              "          const docLink = document.createElement('div');\n",
              "          docLink.innerHTML = docLinkHtml;\n",
              "          element.appendChild(docLink);\n",
              "        }\n",
              "      </script>\n",
              "    </div>\n",
              "  </div>\n",
              "  "
            ]
          },
          "metadata": {},
          "execution_count": 53
        }
      ]
    },
    {
      "cell_type": "code",
      "source": [
        "pd.merge(df1, df2, on='A', how = 'inner')"
      ],
      "metadata": {
        "id": "i8yGSFG1J3Af",
        "colab": {
          "base_uri": "https://localhost:8080/",
          "height": 81
        },
        "outputId": "21ca6551-eda7-4e3d-b396-5043811f9a74"
      },
      "execution_count": 54,
      "outputs": [
        {
          "output_type": "execute_result",
          "data": {
            "text/plain": [
              "   A  B  C\n",
              "0  3  6  7"
            ],
            "text/html": [
              "\n",
              "  <div id=\"df-9ccc7b20-c8fa-42cb-b0ac-7276595d39a2\">\n",
              "    <div class=\"colab-df-container\">\n",
              "      <div>\n",
              "<style scoped>\n",
              "    .dataframe tbody tr th:only-of-type {\n",
              "        vertical-align: middle;\n",
              "    }\n",
              "\n",
              "    .dataframe tbody tr th {\n",
              "        vertical-align: top;\n",
              "    }\n",
              "\n",
              "    .dataframe thead th {\n",
              "        text-align: right;\n",
              "    }\n",
              "</style>\n",
              "<table border=\"1\" class=\"dataframe\">\n",
              "  <thead>\n",
              "    <tr style=\"text-align: right;\">\n",
              "      <th></th>\n",
              "      <th>A</th>\n",
              "      <th>B</th>\n",
              "      <th>C</th>\n",
              "    </tr>\n",
              "  </thead>\n",
              "  <tbody>\n",
              "    <tr>\n",
              "      <th>0</th>\n",
              "      <td>3</td>\n",
              "      <td>6</td>\n",
              "      <td>7</td>\n",
              "    </tr>\n",
              "  </tbody>\n",
              "</table>\n",
              "</div>\n",
              "      <button class=\"colab-df-convert\" onclick=\"convertToInteractive('df-9ccc7b20-c8fa-42cb-b0ac-7276595d39a2')\"\n",
              "              title=\"Convert this dataframe to an interactive table.\"\n",
              "              style=\"display:none;\">\n",
              "        \n",
              "  <svg xmlns=\"http://www.w3.org/2000/svg\" height=\"24px\"viewBox=\"0 0 24 24\"\n",
              "       width=\"24px\">\n",
              "    <path d=\"M0 0h24v24H0V0z\" fill=\"none\"/>\n",
              "    <path d=\"M18.56 5.44l.94 2.06.94-2.06 2.06-.94-2.06-.94-.94-2.06-.94 2.06-2.06.94zm-11 1L8.5 8.5l.94-2.06 2.06-.94-2.06-.94L8.5 2.5l-.94 2.06-2.06.94zm10 10l.94 2.06.94-2.06 2.06-.94-2.06-.94-.94-2.06-.94 2.06-2.06.94z\"/><path d=\"M17.41 7.96l-1.37-1.37c-.4-.4-.92-.59-1.43-.59-.52 0-1.04.2-1.43.59L10.3 9.45l-7.72 7.72c-.78.78-.78 2.05 0 2.83L4 21.41c.39.39.9.59 1.41.59.51 0 1.02-.2 1.41-.59l7.78-7.78 2.81-2.81c.8-.78.8-2.07 0-2.86zM5.41 20L4 18.59l7.72-7.72 1.47 1.35L5.41 20z\"/>\n",
              "  </svg>\n",
              "      </button>\n",
              "      \n",
              "  <style>\n",
              "    .colab-df-container {\n",
              "      display:flex;\n",
              "      flex-wrap:wrap;\n",
              "      gap: 12px;\n",
              "    }\n",
              "\n",
              "    .colab-df-convert {\n",
              "      background-color: #E8F0FE;\n",
              "      border: none;\n",
              "      border-radius: 50%;\n",
              "      cursor: pointer;\n",
              "      display: none;\n",
              "      fill: #1967D2;\n",
              "      height: 32px;\n",
              "      padding: 0 0 0 0;\n",
              "      width: 32px;\n",
              "    }\n",
              "\n",
              "    .colab-df-convert:hover {\n",
              "      background-color: #E2EBFA;\n",
              "      box-shadow: 0px 1px 2px rgba(60, 64, 67, 0.3), 0px 1px 3px 1px rgba(60, 64, 67, 0.15);\n",
              "      fill: #174EA6;\n",
              "    }\n",
              "\n",
              "    [theme=dark] .colab-df-convert {\n",
              "      background-color: #3B4455;\n",
              "      fill: #D2E3FC;\n",
              "    }\n",
              "\n",
              "    [theme=dark] .colab-df-convert:hover {\n",
              "      background-color: #434B5C;\n",
              "      box-shadow: 0px 1px 3px 1px rgba(0, 0, 0, 0.15);\n",
              "      filter: drop-shadow(0px 1px 2px rgba(0, 0, 0, 0.3));\n",
              "      fill: #FFFFFF;\n",
              "    }\n",
              "  </style>\n",
              "\n",
              "      <script>\n",
              "        const buttonEl =\n",
              "          document.querySelector('#df-9ccc7b20-c8fa-42cb-b0ac-7276595d39a2 button.colab-df-convert');\n",
              "        buttonEl.style.display =\n",
              "          google.colab.kernel.accessAllowed ? 'block' : 'none';\n",
              "\n",
              "        async function convertToInteractive(key) {\n",
              "          const element = document.querySelector('#df-9ccc7b20-c8fa-42cb-b0ac-7276595d39a2');\n",
              "          const dataTable =\n",
              "            await google.colab.kernel.invokeFunction('convertToInteractive',\n",
              "                                                     [key], {});\n",
              "          if (!dataTable) return;\n",
              "\n",
              "          const docLinkHtml = 'Like what you see? Visit the ' +\n",
              "            '<a target=\"_blank\" href=https://colab.research.google.com/notebooks/data_table.ipynb>data table notebook</a>'\n",
              "            + ' to learn more about interactive tables.';\n",
              "          element.innerHTML = '';\n",
              "          dataTable['output_type'] = 'display_data';\n",
              "          await google.colab.output.renderOutput(dataTable, element);\n",
              "          const docLink = document.createElement('div');\n",
              "          docLink.innerHTML = docLinkHtml;\n",
              "          element.appendChild(docLink);\n",
              "        }\n",
              "      </script>\n",
              "    </div>\n",
              "  </div>\n",
              "  "
            ]
          },
          "metadata": {},
          "execution_count": 54
        }
      ]
    },
    {
      "cell_type": "markdown",
      "source": [
        "Note that when merging on columns, the DataFrame indexes will be ignored and new index is created."
      ],
      "metadata": {
        "id": "8CJVjasGof3G"
      }
    },
    {
      "cell_type": "markdown",
      "metadata": {
        "id": "YS858YXVHT9_"
      },
      "source": [
        "---\n",
        "## String manipulation"
      ]
    },
    {
      "cell_type": "markdown",
      "source": [
        "### Simple operations\n",
        "\n",
        "You may find yourself working with text data, a.k.a. strings. \n",
        "\n",
        "Strings are actually iterables, just like lists. They can be subset analogously:"
      ],
      "metadata": {
        "id": "KIyoQcKHWXrL"
      }
    },
    {
      "cell_type": "code",
      "source": [
        "x = \"one python string\"\n",
        "x[4:10]"
      ],
      "metadata": {
        "id": "jMwvvpUpU_H2",
        "colab": {
          "base_uri": "https://localhost:8080/",
          "height": 35
        },
        "outputId": "e785f685-307c-44ba-9c04-6f73b12f2d19"
      },
      "execution_count": 55,
      "outputs": [
        {
          "output_type": "execute_result",
          "data": {
            "text/plain": [
              "'python'"
            ],
            "application/vnd.google.colaboratory.intrinsic+json": {
              "type": "string"
            }
          },
          "metadata": {},
          "execution_count": 55
        }
      ]
    },
    {
      "cell_type": "code",
      "source": [
        "# You can also turn a string into a list of strings via the \"split\" method:\n",
        "x = \"one python string\"\n",
        "y = x.split(\" \")\n",
        "y == [\"one\", \"python\", \"string\"]"
      ],
      "metadata": {
        "id": "mK2rS2DVVGhy",
        "colab": {
          "base_uri": "https://localhost:8080/"
        },
        "outputId": "cb47c8bc-f801-4471-b371-c78322a1f08a"
      },
      "execution_count": 56,
      "outputs": [
        {
          "output_type": "execute_result",
          "data": {
            "text/plain": [
              "True"
            ]
          },
          "metadata": {},
          "execution_count": 56
        }
      ]
    },
    {
      "cell_type": "code",
      "source": [
        "# The reverse is also possible via the \"join\" method:\n",
        "space = \" \"\n",
        "z = space.join(y)\n",
        "z == x"
      ],
      "metadata": {
        "id": "Mnay03Q1VQXb",
        "colab": {
          "base_uri": "https://localhost:8080/"
        },
        "outputId": "95496052-53ec-490e-c9bf-2e4dfa7853c6"
      },
      "execution_count": 57,
      "outputs": [
        {
          "output_type": "execute_result",
          "data": {
            "text/plain": [
              "True"
            ]
          },
          "metadata": {},
          "execution_count": 57
        }
      ]
    },
    {
      "cell_type": "markdown",
      "source": [
        "You can also make everything lower (or upper) case, replace certain substrings with other substrings, and check for the existence of a substring with `in`:"
      ],
      "metadata": {
        "id": "EE-blUVMVX3n"
      }
    },
    {
      "cell_type": "code",
      "source": [
        "z = \"My Python String\"\n",
        "z.lower()"
      ],
      "metadata": {
        "id": "EBofjnfoVUKQ",
        "colab": {
          "base_uri": "https://localhost:8080/",
          "height": 35
        },
        "outputId": "771e5532-c274-4914-a297-053a647327fd"
      },
      "execution_count": 58,
      "outputs": [
        {
          "output_type": "execute_result",
          "data": {
            "text/plain": [
              "'my python string'"
            ],
            "application/vnd.google.colaboratory.intrinsic+json": {
              "type": "string"
            }
          },
          "metadata": {},
          "execution_count": 58
        }
      ]
    },
    {
      "cell_type": "code",
      "source": [
        "z.upper()"
      ],
      "metadata": {
        "id": "GRv6XFXlVe66",
        "colab": {
          "base_uri": "https://localhost:8080/",
          "height": 35
        },
        "outputId": "7cf17d8c-8c1e-47ae-fb03-d953e1d44781"
      },
      "execution_count": 59,
      "outputs": [
        {
          "output_type": "execute_result",
          "data": {
            "text/plain": [
              "'MY PYTHON STRING'"
            ],
            "application/vnd.google.colaboratory.intrinsic+json": {
              "type": "string"
            }
          },
          "metadata": {},
          "execution_count": 59
        }
      ]
    },
    {
      "cell_type": "code",
      "source": [
        "w = z.replace(\"Python\", \"R\")\n",
        "print(w)\n",
        "\"Python\" in w"
      ],
      "metadata": {
        "id": "Iq4Od0jmVgPp",
        "colab": {
          "base_uri": "https://localhost:8080/"
        },
        "outputId": "c77c32f3-c13b-47c7-965b-dc40220ec9ee"
      },
      "execution_count": 60,
      "outputs": [
        {
          "output_type": "stream",
          "name": "stdout",
          "text": [
            "My R String\n"
          ]
        },
        {
          "output_type": "execute_result",
          "data": {
            "text/plain": [
              "False"
            ]
          },
          "metadata": {},
          "execution_count": 60
        }
      ]
    },
    {
      "cell_type": "markdown",
      "source": [
        "There are many more easy-to-use, built-in tools for working with text data in Python. You can read more here:\n",
        "\n",
        "*   https://docs.python.org/3/library/stdtypes.html#string-method"
      ],
      "metadata": {
        "id": "JuazOlFFV1ZV"
      }
    },
    {
      "cell_type": "markdown",
      "source": [
        "### Regular expressions\n",
        "\n",
        "A *regular expression* is a special sequence of characters that helps you match or find other strings or sets of strings, using a specialized syntax held in a pattern. Python uses the module `re` to deal with them.\n",
        "\n",
        "Let's pretend we have an `html` text. Find **all** words tagged as bold (`<b>word</b>`) in `html`, turn them to italics (`<i>word</i>`) and add the word \"freaking\" before them."
      ],
      "metadata": {
        "id": "pihFEbEzWdLh"
      }
    },
    {
      "cell_type": "code",
      "source": [
        "import re\n",
        "\n",
        "a_text = 'Why am I taking this <b>course</b>? I want to go back to the <b>holidays</b>.'\n",
        "\n",
        "# Preffix 'r' is an indicator of regular expression\n",
        "the_regex = r'<b>([a-z\\s]+)</b>'\n",
        "replacement = r'<i>freaking \\1</i>' #\\1 is for group 1, we are asking to replace by the matched string\n",
        "\n",
        "# Function to replace a regular expression with another\n",
        "re.sub(the_regex, replacement, a_text)"
      ],
      "metadata": {
        "id": "O3w8rlYAYjap",
        "colab": {
          "base_uri": "https://localhost:8080/",
          "height": 35
        },
        "outputId": "d5c23389-957a-45b8-f5d1-c6c8023a5f78"
      },
      "execution_count": 61,
      "outputs": [
        {
          "output_type": "execute_result",
          "data": {
            "text/plain": [
              "'Why am I taking this <i>freaking course</i>? I want to go back to the <i>freaking holidays</i>.'"
            ],
            "application/vnd.google.colaboratory.intrinsic+json": {
              "type": "string"
            }
          },
          "metadata": {},
          "execution_count": 61
        }
      ]
    },
    {
      "cell_type": "markdown",
      "source": [
        "Some helpful functions to manouvering with regular expressions with `re`:\n",
        "\n",
        "*  `re.search(pattern, string)`: scan through `string` looking for locations where the regular expression `pattern` produces a match, and return a corresponding match object.\n",
        "*  `re.match(pattern, string)`: if zero or more characters at the beginning of `string` match the regular expression `pattern`, return a corresponding match object.\n",
        "*  `re.split(pattern, string)`: split `string` by the occurrences of `pattern`\n",
        "*  `re.sub(pattern, repl, string)`: return the `string `obtained by replacing the leftmost non-overlapping occurrences of `pattern` in string by the replacement `repl`\n",
        "*  `re.findall()`: search for *all* occurrences that match a given pattern"
      ],
      "metadata": {
        "id": "oEjqTySIb0qM"
      }
    },
    {
      "cell_type": "markdown",
      "source": [
        "Regular expressions are relatively complex and there is a long list of combinations we can make, which are well outside the scope of this introduction. We limit to mentioning some special characters to form regular expressions:\n",
        "\n",
        "*  `^`: Start of string\n",
        "*  `$`: End of string\n",
        "*  `.`: One character, no matter which (except line break)\n",
        "*  `*`: match 0 or more repetitions of the preceding RE\n",
        "*  `+`: match 1 or more repetitions of the preceding RE\n",
        "*  `?`: match 0 or 1 repetition of the preceding RE\n",
        "*  `{m,n}`: Causes the resulting RE to match from m to n repetitions of the preceding RE. The comma and the n are optional depending on the case\n",
        "*  `|`: OR. E.g. A|B means match RE A or B\n",
        "*  `(...)`: Matches whatever regular expression is inside the parentheses\n",
        "*  `[]`: Defines a subset of characters to match\n",
        "*  `\\`: Either escapes special characters (permitting you to match characters like '*', '?', and so forth), or signals a special sequence (e.g. \\s means a white space).\n",
        "*  `\\w`: Matches a word (letters only)\n",
        "*  `\\W`: Matches a word (letters and characters, equivalent to `[^a-zA-Z0-9_]`)"
      ],
      "metadata": {
        "id": "URSYuLK_Yj_D"
      }
    },
    {
      "cell_type": "markdown",
      "metadata": {
        "id": "fhU1ztJFHGF5"
      },
      "source": [
        "---\n",
        "## Some advanced concepts\n"
      ]
    },
    {
      "cell_type": "markdown",
      "source": [
        "### Copy vs. assignment\n",
        "\n",
        "Look at the following example:"
      ],
      "metadata": {
        "id": "da9FNoY55TqQ"
      }
    },
    {
      "cell_type": "code",
      "source": [
        "a = [1, 2, 5]\n",
        "b = a\n",
        "b[2] = 10"
      ],
      "metadata": {
        "id": "8tVIDpDg8pck"
      },
      "execution_count": 62,
      "outputs": []
    },
    {
      "cell_type": "code",
      "source": [
        "print(a)\n",
        "print(b)"
      ],
      "metadata": {
        "id": "FKi_NCMi8rQf",
        "colab": {
          "base_uri": "https://localhost:8080/"
        },
        "outputId": "4c23b120-cffb-4a15-dea8-a6de6ab4beea"
      },
      "execution_count": 63,
      "outputs": [
        {
          "output_type": "stream",
          "name": "stdout",
          "text": [
            "[1, 2, 10]\n",
            "[1, 2, 10]\n"
          ]
        }
      ]
    },
    {
      "cell_type": "markdown",
      "source": [
        "What happens is that really `a` and `b` point to the same place in the memory and share the same data."
      ],
      "metadata": {
        "id": "7wR_qWwX8ygE"
      }
    },
    {
      "cell_type": "code",
      "source": [
        "print(id(a))\n",
        "print(id(b))"
      ],
      "metadata": {
        "colab": {
          "base_uri": "https://localhost:8080/"
        },
        "id": "EQtgh_OFt1NU",
        "outputId": "e4c1a800-bd13-4407-8e0d-2be98b233239"
      },
      "execution_count": 64,
      "outputs": [
        {
          "output_type": "stream",
          "name": "stdout",
          "text": [
            "140330868914928\n",
            "140330868914928\n"
          ]
        }
      ]
    },
    {
      "cell_type": "markdown",
      "source": [
        "The way to create an object that will *copy* the data in a but not *share* the data with a is to use the method `copy()`."
      ],
      "metadata": {
        "id": "Y7joANwotxwf"
      }
    },
    {
      "cell_type": "code",
      "source": [
        "a = [1, 2, 5]\n",
        "b = a.copy()\n",
        "print(id(a))\n",
        "print(id(b))"
      ],
      "metadata": {
        "id": "DI51EYm767XB",
        "colab": {
          "base_uri": "https://localhost:8080/"
        },
        "outputId": "9d826d61-ae8d-450e-8c3f-b88a255cad62"
      },
      "execution_count": 65,
      "outputs": [
        {
          "output_type": "stream",
          "name": "stdout",
          "text": [
            "140330869489168\n",
            "140330876734912\n"
          ]
        }
      ]
    },
    {
      "cell_type": "code",
      "source": [
        "b[2] = 10\n",
        "print(a)\n",
        "print(b)"
      ],
      "metadata": {
        "id": "wMZgkFxl6-aP",
        "colab": {
          "base_uri": "https://localhost:8080/"
        },
        "outputId": "9110059b-4806-4485-d490-9f9abdb09a7d"
      },
      "execution_count": 66,
      "outputs": [
        {
          "output_type": "stream",
          "name": "stdout",
          "text": [
            "[1, 2, 5]\n",
            "[1, 2, 10]\n"
          ]
        }
      ]
    },
    {
      "cell_type": "markdown",
      "source": [
        "This goes a bit deeper into the concept how `python` uses memory in your computer, but it is important to have a grasp on it in order to avoid potential problems when memory becomes an issue."
      ],
      "metadata": {
        "id": "3y9ADLhN9CoI"
      }
    },
    {
      "cell_type": "markdown",
      "source": [
        "Note that the behaviour we observed above for lists would not be the same for integers. For example:"
      ],
      "metadata": {
        "id": "22F3WKg_1gcf"
      }
    },
    {
      "cell_type": "code",
      "source": [
        "a = 2\n",
        "b = a\n",
        "a += 1\n",
        "print(a)\n",
        "print(b)\n",
        "print(id(a))\n",
        "print(id(b))"
      ],
      "metadata": {
        "colab": {
          "base_uri": "https://localhost:8080/"
        },
        "id": "Bod0KIKlvg--",
        "outputId": "e45d4d0c-99c8-4d66-f555-2670e64810f8"
      },
      "execution_count": 67,
      "outputs": [
        {
          "output_type": "stream",
          "name": "stdout",
          "text": [
            "3\n",
            "2\n",
            "11126752\n",
            "11126720\n"
          ]
        }
      ]
    },
    {
      "cell_type": "markdown",
      "source": [
        "Things also become a little trickier when you deal with lists of lists. "
      ],
      "metadata": {
        "id": "ZBck8utN9fk8"
      }
    },
    {
      "cell_type": "code",
      "source": [
        "a = [1, [2, 3], 5, 'abc'] \n",
        "b = a.copy()\n",
        "b[1].append(100)"
      ],
      "metadata": {
        "id": "DRLkIA6Y9x3A"
      },
      "execution_count": 68,
      "outputs": []
    },
    {
      "cell_type": "code",
      "source": [
        "print(a)\n",
        "print(b)"
      ],
      "metadata": {
        "id": "jBTBcxWI9zdr",
        "colab": {
          "base_uri": "https://localhost:8080/"
        },
        "outputId": "55f6e477-7de5-4e4d-8a0c-9ec5482f311a"
      },
      "execution_count": 69,
      "outputs": [
        {
          "output_type": "stream",
          "name": "stdout",
          "text": [
            "[1, [2, 3, 100], 5, 'abc']\n",
            "[1, [2, 3, 100], 5, 'abc']\n"
          ]
        }
      ]
    },
    {
      "cell_type": "code",
      "source": [
        "print(id(a))\n",
        "print(id(b))"
      ],
      "metadata": {
        "colab": {
          "base_uri": "https://localhost:8080/"
        },
        "id": "td9m-8kCuqAy",
        "outputId": "f2c186e5-868d-4bdf-de61-fa7a97a8aba6"
      },
      "execution_count": 70,
      "outputs": [
        {
          "output_type": "stream",
          "name": "stdout",
          "text": [
            "140330869489168\n",
            "140330868573760\n"
          ]
        }
      ]
    },
    {
      "cell_type": "markdown",
      "source": [
        "What happened here is that both `a` and `b` still point to some deeper list `[2, 3]`. For this reason there is also the `deepcopy`."
      ],
      "metadata": {
        "id": "jlPqMp4Y-CVx"
      }
    },
    {
      "cell_type": "code",
      "source": [
        "# Try now \n",
        "from copy import deepcopy\n",
        "a = [1, [2, 3], 5, 'abc'] \n",
        "b = deepcopy(a)\n",
        "b[1].append(100)\n",
        "print(a)\n",
        "print(b)"
      ],
      "metadata": {
        "id": "6D2zE5S8-fXx",
        "colab": {
          "base_uri": "https://localhost:8080/"
        },
        "outputId": "cebdadd0-882d-4161-dd99-497c9a440f0b"
      },
      "execution_count": 71,
      "outputs": [
        {
          "output_type": "stream",
          "name": "stdout",
          "text": [
            "[1, [2, 3], 5, 'abc']\n",
            "[1, [2, 3, 100], 5, 'abc']\n"
          ]
        }
      ]
    },
    {
      "cell_type": "code",
      "source": [
        "print(id(a))\n",
        "print(id(b))"
      ],
      "metadata": {
        "colab": {
          "base_uri": "https://localhost:8080/"
        },
        "id": "Fouk-eCxulEJ",
        "outputId": "c5e9ef3f-d2c3-49cf-ada4-83a9293eafcf"
      },
      "execution_count": 72,
      "outputs": [
        {
          "output_type": "stream",
          "name": "stdout",
          "text": [
            "140330869430704\n",
            "140330978455712\n"
          ]
        }
      ]
    },
    {
      "cell_type": "markdown",
      "source": [
        "Be careful when you write statements such as `name1 = name2`."
      ],
      "metadata": {
        "id": "Ozf0M5-E2F1q"
      }
    },
    {
      "cell_type": "markdown",
      "source": [
        "### Default values in functions\n",
        "\n",
        "In `python` we get to assign default values to inputs of functions. For example:"
      ],
      "metadata": {
        "id": "uAx_G29H_DSa"
      }
    },
    {
      "cell_type": "code",
      "source": [
        "# New function \"f\"\n",
        "def f(a = 1, b = 2):\n",
        "    return a + b\n"
      ],
      "metadata": {
        "id": "YGEIgl-mEafg"
      },
      "execution_count": 73,
      "outputs": []
    },
    {
      "cell_type": "code",
      "source": [
        "# Function \"f\" can be validly be called in the following ways\n",
        "print(f())\n",
        "print(f(10))\n",
        "print(f(b = 4))\n",
        "print(f(10, 4))\n",
        "print(f(a = 10, b = 4))\n",
        "print(f(b = 4, a = 10))"
      ],
      "metadata": {
        "id": "TUdmBujhEiXk",
        "colab": {
          "base_uri": "https://localhost:8080/"
        },
        "outputId": "ac248f61-0ad0-4d92-fd70-1011b8825316"
      },
      "execution_count": 74,
      "outputs": [
        {
          "output_type": "stream",
          "name": "stdout",
          "text": [
            "3\n",
            "12\n",
            "5\n",
            "14\n",
            "14\n",
            "14\n"
          ]
        }
      ]
    },
    {
      "cell_type": "code",
      "source": [
        "# But NOT like this\n",
        "f(a = 10, 4)"
      ],
      "metadata": {
        "id": "J1WDrSvcE1Tf",
        "colab": {
          "base_uri": "https://localhost:8080/",
          "height": 131
        },
        "outputId": "5b428c61-c81f-4580-f23f-59eb61a5ad0c"
      },
      "execution_count": 75,
      "outputs": [
        {
          "output_type": "error",
          "ename": "SyntaxError",
          "evalue": "ignored",
          "traceback": [
            "\u001b[0;36m  File \u001b[0;32m\"<ipython-input-75-744ff428f596>\"\u001b[0;36m, line \u001b[0;32m2\u001b[0m\n\u001b[0;31m    f(a = 10, 4)\u001b[0m\n\u001b[0m             ^\u001b[0m\n\u001b[0;31mSyntaxError\u001b[0m\u001b[0;31m:\u001b[0m positional argument follows keyword argument\n"
          ]
        }
      ]
    },
    {
      "cell_type": "code",
      "source": [
        "# however this works\n",
        "f(10, b = 4)"
      ],
      "metadata": {
        "colab": {
          "base_uri": "https://localhost:8080/"
        },
        "id": "BwK0V11j2jlz",
        "outputId": "37843860-8263-45de-b70b-980299ca7ded"
      },
      "execution_count": 77,
      "outputs": [
        {
          "output_type": "execute_result",
          "data": {
            "text/plain": [
              "14"
            ]
          },
          "metadata": {},
          "execution_count": 77
        }
      ]
    },
    {
      "cell_type": "markdown",
      "source": [
        "You cannot omit an argument name, if you stated previous arguments names."
      ],
      "metadata": {
        "id": "dJYnw-nV2VLL"
      }
    },
    {
      "cell_type": "markdown",
      "metadata": {
        "id": "dUewJe_GHJRC"
      },
      "source": [
        "---\n",
        "## Particular topics"
      ]
    },
    {
      "cell_type": "markdown",
      "source": [
        "### Date and time objects\n",
        "\n",
        "We introduce how to deal with time and date type of objects in Python. To do this, we need a module denominated `datetime`, which contains the class `datetime`."
      ],
      "metadata": {
        "id": "QZH8TUiXhNb1"
      }
    },
    {
      "cell_type": "code",
      "source": [
        "from datetime import datetime  # This is a module and a class\n",
        "\n",
        "# Current date\n",
        "current_time = datetime.now()\n",
        "print(current_time)\n",
        "print(type(current_time))"
      ],
      "metadata": {
        "id": "IBszoxOGLsdz",
        "colab": {
          "base_uri": "https://localhost:8080/"
        },
        "outputId": "187f4d42-31ab-47da-aa8b-1785962a633c"
      },
      "execution_count": 78,
      "outputs": [
        {
          "output_type": "stream",
          "name": "stdout",
          "text": [
            "2022-10-26 18:30:10.282871\n",
            "<class 'datetime.datetime'>\n"
          ]
        }
      ]
    },
    {
      "cell_type": "markdown",
      "source": [
        "`current_time` is of class `datetime`, but this is just one of five distinct time-object classes:\n",
        "\n",
        "*   `datetime`: allows to work with times and dates together (month, day, year, hour, second, microsecond).\n",
        "*   `date`: works with dates only (month, day, year), independent of time. \n",
        "*   `time`: works with time only (hour, minute, second, microsecond), independent of date. \n",
        "*   `timedelta`: a duration of time used for measuring distance between to time points."
      ],
      "metadata": {
        "id": "SDP3u5RSMZWD"
      }
    },
    {
      "cell_type": "markdown",
      "source": [
        "The most common scenario with time data is translating from and to regular character objects, which is the most frequent format that we will encounter when importing times and dates. We use the following two functions:"
      ],
      "metadata": {
        "id": "8d5hhZCANbaC"
      }
    },
    {
      "cell_type": "code",
      "source": [
        "today_date = '2022-01-04'\n",
        "\n",
        "# Create date object in given time format yyyy-mm-dd\n",
        "today_date = datetime.strptime(today_date, '%Y-%m-%d')\n",
        "\n",
        "print(today_date)\n",
        "print(type(today_date))"
      ],
      "metadata": {
        "id": "UOPhI-hoNqm2",
        "colab": {
          "base_uri": "https://localhost:8080/"
        },
        "outputId": "ecf19a81-f12e-45a0-be1e-0b69b748ff93"
      },
      "execution_count": 79,
      "outputs": [
        {
          "output_type": "stream",
          "name": "stdout",
          "text": [
            "2022-01-04 00:00:00\n",
            "<class 'datetime.datetime'>\n"
          ]
        }
      ]
    },
    {
      "cell_type": "markdown",
      "source": [
        "Note we used the *pattern* `%Y-%m-%d` to indicate the year-month-day format we want to give the date object. A full list of imaginable patterns can be found in the library's [documentation](https://docs.python.org/2/library/datetime.html#strftime-and-strptime-behavior)."
      ],
      "metadata": {
        "id": "Hd9mAzl5OEPt"
      }
    },
    {
      "cell_type": "code",
      "source": [
        "print('* Month:', today_date.month)  # Get month from date\n",
        "print('* Year:', today_date.year)  # Get month from year\n",
        "print('* Day of month:', today_date.day)  # ...\n",
        "print('* Day of Week (number):', today_date.weekday())  # Recall indexing"
      ],
      "metadata": {
        "id": "5HvgXhqDN6Oh",
        "colab": {
          "base_uri": "https://localhost:8080/"
        },
        "outputId": "d41d516b-d6e7-42f3-c1f1-7fe7d17cfcde"
      },
      "execution_count": 80,
      "outputs": [
        {
          "output_type": "stream",
          "name": "stdout",
          "text": [
            "* Month: 1\n",
            "* Year: 2022\n",
            "* Day of month: 4\n",
            "* Day of Week (number): 1\n"
          ]
        }
      ]
    },
    {
      "cell_type": "code",
      "source": [
        "print('* Hour: ', current_time.hour)\n",
        "print('* Minute: ', current_time.minute)\n",
        "print(current_time.isocalendar())  # Returns (year, # week, # day)"
      ],
      "metadata": {
        "id": "SLPTtMy4Pc5e",
        "colab": {
          "base_uri": "https://localhost:8080/"
        },
        "outputId": "7534ae0d-f72e-4732-f601-9df906583a85"
      },
      "execution_count": 81,
      "outputs": [
        {
          "output_type": "stream",
          "name": "stdout",
          "text": [
            "* Hour:  18\n",
            "* Minute:  30\n",
            "(2022, 43, 3)\n"
          ]
        }
      ]
    },
    {
      "cell_type": "markdown",
      "source": [
        "As mentioned, you can convert from time to string with the function `strftime()`. With the argument `format`, you can change the date format in the resulting string."
      ],
      "metadata": {
        "id": "nnWt5MPjQVdc"
      }
    },
    {
      "cell_type": "code",
      "source": [
        "today_str = datetime.strftime(today_date, format = '%d-%m-%Y')\n",
        "type(today_str)\n",
        "print(today_str)"
      ],
      "metadata": {
        "id": "wMb1Bq6QQDIG",
        "colab": {
          "base_uri": "https://localhost:8080/"
        },
        "outputId": "9607b9bb-7ddf-4b8b-8fce-56b71f66268e"
      },
      "execution_count": 82,
      "outputs": [
        {
          "output_type": "stream",
          "name": "stdout",
          "text": [
            "04-01-2022\n"
          ]
        }
      ]
    },
    {
      "cell_type": "markdown",
      "source": [
        "Recall we mentioned that to measure time spans, or to operate dates or times (add/subtract) we could use the `timedelta` type of object. Mind you, these objects need not be anchored on a specific date and they can be a generic time frame."
      ],
      "metadata": {
        "id": "ocHTeNuIQoK-"
      }
    },
    {
      "cell_type": "code",
      "source": [
        "from datetime import timedelta\n",
        "\n",
        "# timedelta objects\n",
        "three_weeks = timedelta(weeks = 3)\n",
        "one_year = timedelta(days = 365)\n",
        "\n",
        "print(three_weeks)\n",
        "print(type(three_weeks))\n",
        "print(three_weeks.days)\n",
        "print(one_year.days)"
      ],
      "metadata": {
        "id": "SO5NnPXaRK77",
        "colab": {
          "base_uri": "https://localhost:8080/"
        },
        "outputId": "c859adea-6a89-4daa-c537-2dba8d1ace33"
      },
      "execution_count": 83,
      "outputs": [
        {
          "output_type": "stream",
          "name": "stdout",
          "text": [
            "21 days, 0:00:00\n",
            "<class 'datetime.timedelta'>\n",
            "21\n",
            "365\n"
          ]
        }
      ]
    },
    {
      "cell_type": "markdown",
      "source": [
        "Let us now operate on these objects."
      ],
      "metadata": {
        "id": "i9um5YCGSNMM"
      }
    },
    {
      "cell_type": "code",
      "source": [
        "from datetime import datetime, timedelta\n",
        "\n",
        "# Current time\n",
        "now = datetime.now()\n",
        "print(\"Today's date: \", str(now))\n",
        "\n",
        "# Add three weeks to current date\n",
        "now_in_3weeks = now + three_weeks\n",
        "print('Date after three weeks: ', now_in_3weeks)\n",
        "\n",
        "# Subtract one year from current date\n",
        "one_year_ago = now - one_year\n",
        "print('Date one year ago: ', one_year_ago)\n",
        "print(type(one_year_ago))"
      ],
      "metadata": {
        "id": "jph6ZW4ySPny",
        "colab": {
          "base_uri": "https://localhost:8080/"
        },
        "outputId": "f5fee6fa-10df-4f9b-956d-a2e6d4e01b0e"
      },
      "execution_count": 84,
      "outputs": [
        {
          "output_type": "stream",
          "name": "stdout",
          "text": [
            "Today's date:  2022-10-26 18:30:10.371885\n",
            "Date after three weeks:  2022-11-16 18:30:10.371885\n",
            "Date one year ago:  2021-10-26 18:30:10.371885\n",
            "<class 'datetime.datetime'>\n"
          ]
        }
      ]
    },
    {
      "cell_type": "code",
      "source": [
        "from datetime import date\n",
        "\n",
        "# Create two dates\n",
        "date1 = date(2011, 5, 28)\n",
        "date2 = date(2015, 6, 6)\n",
        "# create two dates with year, month, day, hour, minute, and second\n",
        "date1b = datetime(2011, 5, 28, 23, 1, 0)\n",
        "date2b = datetime(2015, 6, 6, 22, 52, 10)\n",
        "\n",
        "# Difference between two dates\n",
        "date_diff = date2 - date1\n",
        "date_diffb = date2b - date1b\n",
        "print(\"Time difference (days): \", date_diff.days)\n",
        "print(\"Time difference: \", date_diffb)\n",
        "print(type(date_diff))"
      ],
      "metadata": {
        "id": "Zmbg3MZ-S5Pn",
        "colab": {
          "base_uri": "https://localhost:8080/"
        },
        "outputId": "655552f0-7a88-4d38-d29a-19e16472a716"
      },
      "execution_count": 85,
      "outputs": [
        {
          "output_type": "stream",
          "name": "stdout",
          "text": [
            "Time difference (days):  1470\n",
            "Time difference:  1469 days, 23:51:10\n",
            "<class 'datetime.timedelta'>\n"
          ]
        }
      ]
    },
    {
      "cell_type": "code",
      "source": [
        "# To work with time zones:\n",
        "from pytz import timezone\n",
        "\n",
        "# Create timezone US/Eastern\n",
        "est = timezone('US/Eastern')\n",
        "\n",
        "# Re-set date to local time\n",
        "loc_time = est.localize(datetime(2015, 6, 6, 22, 52, 10))\n",
        "print(loc_time)"
      ],
      "metadata": {
        "id": "7JQWOhkXUYlc",
        "colab": {
          "base_uri": "https://localhost:8080/"
        },
        "outputId": "e7222436-6f89-4b58-9deb-1a67206818e3"
      },
      "execution_count": 86,
      "outputs": [
        {
          "output_type": "stream",
          "name": "stdout",
          "text": [
            "2015-06-06 22:52:10-04:00\n"
          ]
        }
      ]
    },
    {
      "cell_type": "markdown",
      "source": [
        "You can also work with time objects using `pandas`. You can convert text strings into `pandas` `Datetime` objects using:\n",
        "\n",
        "*  `to_datetime()`: to convert string dates/times to `datetime` objects.\n",
        "*  `to_timedelta()`: find differences in times.\n"
      ],
      "metadata": {
        "id": "Cc2LG0zuUp9N"
      }
    },
    {
      "cell_type": "code",
      "source": [
        "import pandas as pd\n",
        "import numpy as np\n",
        "\n",
        "# String to datetime\n",
        "good_date = pd.to_datetime(\"6th of June, 2015\")\n",
        "print(good_date)\n",
        "\n",
        "# Create date series to_timedelta() (add numpy)\n",
        "date_series = good_date + pd.to_timedelta(np.arange(12), 'D')\n",
        "print(date_series)\n",
        "\n",
        "# Create date series using date_range() function\n",
        "date_series = pd.date_range('06/06/2015', periods = 12, freq = 'D')\n",
        "print(date_series)"
      ],
      "metadata": {
        "id": "1WdXzwl7W4ix",
        "colab": {
          "base_uri": "https://localhost:8080/"
        },
        "outputId": "803e37ea-8f62-4432-9b9b-11e9edfecc6c"
      },
      "execution_count": 87,
      "outputs": [
        {
          "output_type": "stream",
          "name": "stdout",
          "text": [
            "2015-06-06 00:00:00\n",
            "DatetimeIndex(['2015-06-06', '2015-06-07', '2015-06-08', '2015-06-09',\n",
            "               '2015-06-10', '2015-06-11', '2015-06-12', '2015-06-13',\n",
            "               '2015-06-14', '2015-06-15', '2015-06-16', '2015-06-17'],\n",
            "              dtype='datetime64[ns]', freq=None)\n",
            "DatetimeIndex(['2015-06-06', '2015-06-07', '2015-06-08', '2015-06-09',\n",
            "               '2015-06-10', '2015-06-11', '2015-06-12', '2015-06-13',\n",
            "               '2015-06-14', '2015-06-15', '2015-06-16', '2015-06-17'],\n",
            "              dtype='datetime64[ns]', freq='D')\n"
          ]
        }
      ]
    },
    {
      "cell_type": "code",
      "source": [
        "# Create a DataFrame with date as a column\n",
        "data = pd.DataFrame()\n",
        "data['date'] = date_series\n",
        "data.head()"
      ],
      "metadata": {
        "id": "QVDOiXr5X7PC",
        "colab": {
          "base_uri": "https://localhost:8080/",
          "height": 206
        },
        "outputId": "47261801-e92e-4352-fa43-e105c4e11efc"
      },
      "execution_count": 88,
      "outputs": [
        {
          "output_type": "execute_result",
          "data": {
            "text/plain": [
              "        date\n",
              "0 2015-06-06\n",
              "1 2015-06-07\n",
              "2 2015-06-08\n",
              "3 2015-06-09\n",
              "4 2015-06-10"
            ],
            "text/html": [
              "\n",
              "  <div id=\"df-ea18bfe0-09f4-4e84-8459-b6c51a9befa5\">\n",
              "    <div class=\"colab-df-container\">\n",
              "      <div>\n",
              "<style scoped>\n",
              "    .dataframe tbody tr th:only-of-type {\n",
              "        vertical-align: middle;\n",
              "    }\n",
              "\n",
              "    .dataframe tbody tr th {\n",
              "        vertical-align: top;\n",
              "    }\n",
              "\n",
              "    .dataframe thead th {\n",
              "        text-align: right;\n",
              "    }\n",
              "</style>\n",
              "<table border=\"1\" class=\"dataframe\">\n",
              "  <thead>\n",
              "    <tr style=\"text-align: right;\">\n",
              "      <th></th>\n",
              "      <th>date</th>\n",
              "    </tr>\n",
              "  </thead>\n",
              "  <tbody>\n",
              "    <tr>\n",
              "      <th>0</th>\n",
              "      <td>2015-06-06</td>\n",
              "    </tr>\n",
              "    <tr>\n",
              "      <th>1</th>\n",
              "      <td>2015-06-07</td>\n",
              "    </tr>\n",
              "    <tr>\n",
              "      <th>2</th>\n",
              "      <td>2015-06-08</td>\n",
              "    </tr>\n",
              "    <tr>\n",
              "      <th>3</th>\n",
              "      <td>2015-06-09</td>\n",
              "    </tr>\n",
              "    <tr>\n",
              "      <th>4</th>\n",
              "      <td>2015-06-10</td>\n",
              "    </tr>\n",
              "  </tbody>\n",
              "</table>\n",
              "</div>\n",
              "      <button class=\"colab-df-convert\" onclick=\"convertToInteractive('df-ea18bfe0-09f4-4e84-8459-b6c51a9befa5')\"\n",
              "              title=\"Convert this dataframe to an interactive table.\"\n",
              "              style=\"display:none;\">\n",
              "        \n",
              "  <svg xmlns=\"http://www.w3.org/2000/svg\" height=\"24px\"viewBox=\"0 0 24 24\"\n",
              "       width=\"24px\">\n",
              "    <path d=\"M0 0h24v24H0V0z\" fill=\"none\"/>\n",
              "    <path d=\"M18.56 5.44l.94 2.06.94-2.06 2.06-.94-2.06-.94-.94-2.06-.94 2.06-2.06.94zm-11 1L8.5 8.5l.94-2.06 2.06-.94-2.06-.94L8.5 2.5l-.94 2.06-2.06.94zm10 10l.94 2.06.94-2.06 2.06-.94-2.06-.94-.94-2.06-.94 2.06-2.06.94z\"/><path d=\"M17.41 7.96l-1.37-1.37c-.4-.4-.92-.59-1.43-.59-.52 0-1.04.2-1.43.59L10.3 9.45l-7.72 7.72c-.78.78-.78 2.05 0 2.83L4 21.41c.39.39.9.59 1.41.59.51 0 1.02-.2 1.41-.59l7.78-7.78 2.81-2.81c.8-.78.8-2.07 0-2.86zM5.41 20L4 18.59l7.72-7.72 1.47 1.35L5.41 20z\"/>\n",
              "  </svg>\n",
              "      </button>\n",
              "      \n",
              "  <style>\n",
              "    .colab-df-container {\n",
              "      display:flex;\n",
              "      flex-wrap:wrap;\n",
              "      gap: 12px;\n",
              "    }\n",
              "\n",
              "    .colab-df-convert {\n",
              "      background-color: #E8F0FE;\n",
              "      border: none;\n",
              "      border-radius: 50%;\n",
              "      cursor: pointer;\n",
              "      display: none;\n",
              "      fill: #1967D2;\n",
              "      height: 32px;\n",
              "      padding: 0 0 0 0;\n",
              "      width: 32px;\n",
              "    }\n",
              "\n",
              "    .colab-df-convert:hover {\n",
              "      background-color: #E2EBFA;\n",
              "      box-shadow: 0px 1px 2px rgba(60, 64, 67, 0.3), 0px 1px 3px 1px rgba(60, 64, 67, 0.15);\n",
              "      fill: #174EA6;\n",
              "    }\n",
              "\n",
              "    [theme=dark] .colab-df-convert {\n",
              "      background-color: #3B4455;\n",
              "      fill: #D2E3FC;\n",
              "    }\n",
              "\n",
              "    [theme=dark] .colab-df-convert:hover {\n",
              "      background-color: #434B5C;\n",
              "      box-shadow: 0px 1px 3px 1px rgba(0, 0, 0, 0.15);\n",
              "      filter: drop-shadow(0px 1px 2px rgba(0, 0, 0, 0.3));\n",
              "      fill: #FFFFFF;\n",
              "    }\n",
              "  </style>\n",
              "\n",
              "      <script>\n",
              "        const buttonEl =\n",
              "          document.querySelector('#df-ea18bfe0-09f4-4e84-8459-b6c51a9befa5 button.colab-df-convert');\n",
              "        buttonEl.style.display =\n",
              "          google.colab.kernel.accessAllowed ? 'block' : 'none';\n",
              "\n",
              "        async function convertToInteractive(key) {\n",
              "          const element = document.querySelector('#df-ea18bfe0-09f4-4e84-8459-b6c51a9befa5');\n",
              "          const dataTable =\n",
              "            await google.colab.kernel.invokeFunction('convertToInteractive',\n",
              "                                                     [key], {});\n",
              "          if (!dataTable) return;\n",
              "\n",
              "          const docLinkHtml = 'Like what you see? Visit the ' +\n",
              "            '<a target=\"_blank\" href=https://colab.research.google.com/notebooks/data_table.ipynb>data table notebook</a>'\n",
              "            + ' to learn more about interactive tables.';\n",
              "          element.innerHTML = '';\n",
              "          dataTable['output_type'] = 'display_data';\n",
              "          await google.colab.output.renderOutput(dataTable, element);\n",
              "          const docLink = document.createElement('div');\n",
              "          docLink.innerHTML = docLinkHtml;\n",
              "          element.appendChild(docLink);\n",
              "        }\n",
              "      </script>\n",
              "    </div>\n",
              "  </div>\n",
              "  "
            ]
          },
          "metadata": {},
          "execution_count": 88
        }
      ]
    },
    {
      "cell_type": "code",
      "source": [
        "# .dt gives access to the series datetime properties if any\n",
        "# Extract year, month, day, hour, and minute; and assign to new columns\n",
        "data['year'] = data['date'].dt.year\n",
        "data['month'] = data['date'].dt.month\n",
        "data['day'] = data['date'].dt.day\n",
        "data['hour'] = data['date'].dt.hour\n",
        "data['minute'] = data['date'].dt.minute\n",
        "data.head()"
      ],
      "metadata": {
        "id": "pHUUa5ekYBYc",
        "colab": {
          "base_uri": "https://localhost:8080/",
          "height": 206
        },
        "outputId": "f4ca05a4-fb34-4d3e-9131-00e5786a9e88"
      },
      "execution_count": 89,
      "outputs": [
        {
          "output_type": "execute_result",
          "data": {
            "text/plain": [
              "        date  year  month  day  hour  minute\n",
              "0 2015-06-06  2015      6    6     0       0\n",
              "1 2015-06-07  2015      6    7     0       0\n",
              "2 2015-06-08  2015      6    8     0       0\n",
              "3 2015-06-09  2015      6    9     0       0\n",
              "4 2015-06-10  2015      6   10     0       0"
            ],
            "text/html": [
              "\n",
              "  <div id=\"df-be920644-5f90-42da-874c-ef0d9a026fa4\">\n",
              "    <div class=\"colab-df-container\">\n",
              "      <div>\n",
              "<style scoped>\n",
              "    .dataframe tbody tr th:only-of-type {\n",
              "        vertical-align: middle;\n",
              "    }\n",
              "\n",
              "    .dataframe tbody tr th {\n",
              "        vertical-align: top;\n",
              "    }\n",
              "\n",
              "    .dataframe thead th {\n",
              "        text-align: right;\n",
              "    }\n",
              "</style>\n",
              "<table border=\"1\" class=\"dataframe\">\n",
              "  <thead>\n",
              "    <tr style=\"text-align: right;\">\n",
              "      <th></th>\n",
              "      <th>date</th>\n",
              "      <th>year</th>\n",
              "      <th>month</th>\n",
              "      <th>day</th>\n",
              "      <th>hour</th>\n",
              "      <th>minute</th>\n",
              "    </tr>\n",
              "  </thead>\n",
              "  <tbody>\n",
              "    <tr>\n",
              "      <th>0</th>\n",
              "      <td>2015-06-06</td>\n",
              "      <td>2015</td>\n",
              "      <td>6</td>\n",
              "      <td>6</td>\n",
              "      <td>0</td>\n",
              "      <td>0</td>\n",
              "    </tr>\n",
              "    <tr>\n",
              "      <th>1</th>\n",
              "      <td>2015-06-07</td>\n",
              "      <td>2015</td>\n",
              "      <td>6</td>\n",
              "      <td>7</td>\n",
              "      <td>0</td>\n",
              "      <td>0</td>\n",
              "    </tr>\n",
              "    <tr>\n",
              "      <th>2</th>\n",
              "      <td>2015-06-08</td>\n",
              "      <td>2015</td>\n",
              "      <td>6</td>\n",
              "      <td>8</td>\n",
              "      <td>0</td>\n",
              "      <td>0</td>\n",
              "    </tr>\n",
              "    <tr>\n",
              "      <th>3</th>\n",
              "      <td>2015-06-09</td>\n",
              "      <td>2015</td>\n",
              "      <td>6</td>\n",
              "      <td>9</td>\n",
              "      <td>0</td>\n",
              "      <td>0</td>\n",
              "    </tr>\n",
              "    <tr>\n",
              "      <th>4</th>\n",
              "      <td>2015-06-10</td>\n",
              "      <td>2015</td>\n",
              "      <td>6</td>\n",
              "      <td>10</td>\n",
              "      <td>0</td>\n",
              "      <td>0</td>\n",
              "    </tr>\n",
              "  </tbody>\n",
              "</table>\n",
              "</div>\n",
              "      <button class=\"colab-df-convert\" onclick=\"convertToInteractive('df-be920644-5f90-42da-874c-ef0d9a026fa4')\"\n",
              "              title=\"Convert this dataframe to an interactive table.\"\n",
              "              style=\"display:none;\">\n",
              "        \n",
              "  <svg xmlns=\"http://www.w3.org/2000/svg\" height=\"24px\"viewBox=\"0 0 24 24\"\n",
              "       width=\"24px\">\n",
              "    <path d=\"M0 0h24v24H0V0z\" fill=\"none\"/>\n",
              "    <path d=\"M18.56 5.44l.94 2.06.94-2.06 2.06-.94-2.06-.94-.94-2.06-.94 2.06-2.06.94zm-11 1L8.5 8.5l.94-2.06 2.06-.94-2.06-.94L8.5 2.5l-.94 2.06-2.06.94zm10 10l.94 2.06.94-2.06 2.06-.94-2.06-.94-.94-2.06-.94 2.06-2.06.94z\"/><path d=\"M17.41 7.96l-1.37-1.37c-.4-.4-.92-.59-1.43-.59-.52 0-1.04.2-1.43.59L10.3 9.45l-7.72 7.72c-.78.78-.78 2.05 0 2.83L4 21.41c.39.39.9.59 1.41.59.51 0 1.02-.2 1.41-.59l7.78-7.78 2.81-2.81c.8-.78.8-2.07 0-2.86zM5.41 20L4 18.59l7.72-7.72 1.47 1.35L5.41 20z\"/>\n",
              "  </svg>\n",
              "      </button>\n",
              "      \n",
              "  <style>\n",
              "    .colab-df-container {\n",
              "      display:flex;\n",
              "      flex-wrap:wrap;\n",
              "      gap: 12px;\n",
              "    }\n",
              "\n",
              "    .colab-df-convert {\n",
              "      background-color: #E8F0FE;\n",
              "      border: none;\n",
              "      border-radius: 50%;\n",
              "      cursor: pointer;\n",
              "      display: none;\n",
              "      fill: #1967D2;\n",
              "      height: 32px;\n",
              "      padding: 0 0 0 0;\n",
              "      width: 32px;\n",
              "    }\n",
              "\n",
              "    .colab-df-convert:hover {\n",
              "      background-color: #E2EBFA;\n",
              "      box-shadow: 0px 1px 2px rgba(60, 64, 67, 0.3), 0px 1px 3px 1px rgba(60, 64, 67, 0.15);\n",
              "      fill: #174EA6;\n",
              "    }\n",
              "\n",
              "    [theme=dark] .colab-df-convert {\n",
              "      background-color: #3B4455;\n",
              "      fill: #D2E3FC;\n",
              "    }\n",
              "\n",
              "    [theme=dark] .colab-df-convert:hover {\n",
              "      background-color: #434B5C;\n",
              "      box-shadow: 0px 1px 3px 1px rgba(0, 0, 0, 0.15);\n",
              "      filter: drop-shadow(0px 1px 2px rgba(0, 0, 0, 0.3));\n",
              "      fill: #FFFFFF;\n",
              "    }\n",
              "  </style>\n",
              "\n",
              "      <script>\n",
              "        const buttonEl =\n",
              "          document.querySelector('#df-be920644-5f90-42da-874c-ef0d9a026fa4 button.colab-df-convert');\n",
              "        buttonEl.style.display =\n",
              "          google.colab.kernel.accessAllowed ? 'block' : 'none';\n",
              "\n",
              "        async function convertToInteractive(key) {\n",
              "          const element = document.querySelector('#df-be920644-5f90-42da-874c-ef0d9a026fa4');\n",
              "          const dataTable =\n",
              "            await google.colab.kernel.invokeFunction('convertToInteractive',\n",
              "                                                     [key], {});\n",
              "          if (!dataTable) return;\n",
              "\n",
              "          const docLinkHtml = 'Like what you see? Visit the ' +\n",
              "            '<a target=\"_blank\" href=https://colab.research.google.com/notebooks/data_table.ipynb>data table notebook</a>'\n",
              "            + ' to learn more about interactive tables.';\n",
              "          element.innerHTML = '';\n",
              "          dataTable['output_type'] = 'display_data';\n",
              "          await google.colab.output.renderOutput(dataTable, element);\n",
              "          const docLink = document.createElement('div');\n",
              "          docLink.innerHTML = docLinkHtml;\n",
              "          element.appendChild(docLink);\n",
              "        }\n",
              "      </script>\n",
              "    </div>\n",
              "  </div>\n",
              "  "
            ]
          },
          "metadata": {},
          "execution_count": 89
        }
      ]
    },
    {
      "cell_type": "markdown",
      "source": [
        "### Web scraping and `html` parsing\n",
        "\n",
        "Web *scraping* deals with the retrieval of information featured in some web page. It basically consists of reading the content in a URL, and posteriorly *parsing* it to extract the relevant information that you are looking for. This is an extensive topic in itself so we will just introduce the plain basics to get you started."
      ],
      "metadata": {
        "id": "BMplqP-DJDN7"
      }
    },
    {
      "cell_type": "markdown",
      "source": [
        "Before anything, note that most information in a HTML source is of little use to us and is used to render and format the webpage itself. Therefore it would be wise to familiarise yourself with HTML tags as and when needed. We must consider some design aspects of creating a *spider* that will *crawl* the target webpage and get us the desired content.\n",
        "\n",
        "1.   Identify tags that contain useful information\n",
        "2.   Add randomised waiting periods between every access to website\n",
        "3.   Make use of logs to monitor progress\n",
        "4.   Regularly write collected data to an external file\n",
        "5.   **Always** respect `robots.txt` file defined by websites\n",
        "\n",
        "We use as an example Wikipedia in english. The target will be to  retrieve the summary of the featured article in Wikipedia along with all the URLs in it."
      ],
      "metadata": {
        "id": "RDMf69mFhHB8"
      }
    },
    {
      "cell_type": "code",
      "source": [
        "from bs4 import BeautifulSoup\n",
        "#import urllib  # If you're using Python 2.x\n",
        "import urllib.request  # If you're using Python 3\n",
        "\n",
        "url = 'https://en.wikipedia.org/wiki/Main_Page'\n",
        "#html = urllib.urlopen(url).read()  # Python 2.x\n",
        "with urllib.request.urlopen(url) as url_content:\n",
        "    html = url_content.read()\n",
        "\n",
        "# BeautifulSoup() is a formatting module to interpret html/xml\n",
        "soup = BeautifulSoup(html, 'html.parser')\n",
        "print(soup)"
      ],
      "metadata": {
        "id": "sl4cqMBpB2XU",
        "colab": {
          "base_uri": "https://localhost:8080/"
        },
        "outputId": "f97e68a2-6af3-477b-fb6c-d798b1969b29"
      },
      "execution_count": 90,
      "outputs": [
        {
          "output_type": "stream",
          "name": "stdout",
          "text": [
            "<!DOCTYPE html>\n",
            "\n",
            "<html class=\"client-nojs\" dir=\"ltr\" lang=\"en\">\n",
            "<head>\n",
            "<meta charset=\"utf-8\"/>\n",
            "<title>Wikipedia, the free encyclopedia</title>\n",
            "<script>document.documentElement.className=\"client-js\";RLCONF={\"wgBreakFrames\":false,\"wgSeparatorTransformTable\":[\"\",\"\"],\"wgDigitTransformTable\":[\"\",\"\"],\"wgDefaultDateFormat\":\"dmy\",\"wgMonthNames\":[\"\",\"January\",\"February\",\"March\",\"April\",\"May\",\"June\",\"July\",\"August\",\"September\",\"October\",\"November\",\"December\"],\"wgRequestId\":\"56f875a1-6427-4f07-ad9d-e5d9987ac99f\",\"wgCSPNonce\":false,\"wgCanonicalNamespace\":\"\",\"wgCanonicalSpecialPageName\":false,\"wgNamespaceNumber\":0,\"wgPageName\":\"Main_Page\",\"wgTitle\":\"Main Page\",\"wgCurRevisionId\":1114291180,\"wgRevisionId\":1114291180,\"wgArticleId\":15580374,\"wgIsArticle\":true,\"wgIsRedirect\":false,\"wgAction\":\"view\",\"wgUserName\":null,\"wgUserGroups\":[\"*\"],\"wgCategories\":[],\"wgPageContentLanguage\":\"en\",\"wgPageContentModel\":\"wikitext\",\"wgRelevantPageName\":\"Main_Page\",\"wgRelevantArticleId\":15580374,\"wgIsProbablyEditable\":false,\"wgRelevantPageIsProbablyEditable\":false,\"wgRestrictionEdit\":[\"sysop\"],\"wgRestrictionMove\":[\"sysop\"],\"wgIsMainPage\":true,\"wgFlaggedRevsParams\":{\n",
            "\"tags\":{\"status\":{\"levels\":1}}},\"wgVisualEditor\":{\"pageLanguageCode\":\"en\",\"pageLanguageDir\":\"ltr\",\"pageVariantFallbacks\":\"en\"},\"wgMFDisplayWikibaseDescriptions\":{\"search\":true,\"watchlist\":true,\"tagline\":false,\"nearby\":true},\"wgWMESchemaEditAttemptStepOversample\":false,\"wgWMEPageLength\":3000,\"wgNoticeProject\":\"wikipedia\",\"wgVector2022PreviewPages\":[],\"wgMediaViewerOnClick\":true,\"wgMediaViewerEnabledByDefault\":true,\"wgPopupsFlags\":10,\"wgULSCurrentAutonym\":\"English\",\"wgEditSubmitButtonLabelPublish\":true,\"wgCentralAuthMobileDomain\":false,\"wgULSPosition\":\"interlanguage\",\"wgULSisCompactLinksEnabled\":true,\"wgWikibaseItemId\":\"Q5296\",\"GEHomepageSuggestedEditsEnableTopics\":true,\"wgGETopicsMatchModeEnabled\":false,\"wgGEStructuredTaskRejectionReasonTextInputEnabled\":false};RLSTATE={\"ext.globalCssJs.user.styles\":\"ready\",\"site.styles\":\"ready\",\"user.styles\":\"ready\",\"ext.globalCssJs.user\":\"ready\",\"user\":\"ready\",\"user.options\":\"loading\",\"skins.vector.styles.legacy\":\"ready\",\n",
            "\"ext.visualEditor.desktopArticleTarget.noscript\":\"ready\",\"ext.wikimediaBadges\":\"ready\",\"ext.uls.interlanguage\":\"ready\"};RLPAGEMODULES=[\"site\",\"mediawiki.page.ready\",\"skins.vector.legacy.js\",\"mmv.head\",\"mmv.bootstrap.autostart\",\"ext.visualEditor.desktopArticleTarget.init\",\"ext.visualEditor.targetLoader\",\"ext.eventLogging\",\"ext.wikimediaEvents\",\"ext.navigationTiming\",\"ext.cx.eventlogging.campaigns\",\"ext.centralNotice.geoIP\",\"ext.centralNotice.startUp\",\"ext.gadget.ReferenceTooltips\",\"ext.gadget.charinsert\",\"ext.gadget.extra-toolbar-buttons\",\"ext.gadget.switcher\",\"ext.centralauth.centralautologin\",\"ext.popups\",\"ext.uls.interface\",\"ext.growthExperiments.SuggestedEditSession\"];</script>\n",
            "<script>(RLQ=window.RLQ||[]).push(function(){mw.loader.implement(\"user.options@12s5i\",function($,jQuery,require,module){mw.user.tokens.set({\"patrolToken\":\"+\\\\\",\"watchToken\":\"+\\\\\",\"csrfToken\":\"+\\\\\"});});});</script>\n",
            "<link href=\"/w/load.php?lang=en&amp;modules=ext.uls.interlanguage%7Cext.visualEditor.desktopArticleTarget.noscript%7Cext.wikimediaBadges%7Cskins.vector.styles.legacy&amp;only=styles&amp;skin=vector\" rel=\"stylesheet\"/>\n",
            "<script async=\"\" src=\"/w/load.php?lang=en&amp;modules=startup&amp;only=scripts&amp;raw=1&amp;skin=vector\"></script>\n",
            "<meta content=\"\" name=\"ResourceLoaderDynamicStyles\"/>\n",
            "<link href=\"/w/load.php?lang=en&amp;modules=site.styles&amp;only=styles&amp;skin=vector\" rel=\"stylesheet\"/>\n",
            "<meta content=\"MediaWiki 1.40.0-wmf.6\" name=\"generator\"/>\n",
            "<meta content=\"origin\" name=\"referrer\"/>\n",
            "<meta content=\"origin-when-crossorigin\" name=\"referrer\"/>\n",
            "<meta content=\"origin-when-cross-origin\" name=\"referrer\"/>\n",
            "<meta content=\"max-image-preview:standard\" name=\"robots\"/>\n",
            "<meta content=\"telephone=no\" name=\"format-detection\"/>\n",
            "<meta content=\"https://upload.wikimedia.org/wikipedia/commons/thumb/0/02/N64-Console-Set.png/1200px-N64-Console-Set.png\" property=\"og:image\"/>\n",
            "<meta content=\"1200\" property=\"og:image:width\"/>\n",
            "<meta content=\"646\" property=\"og:image:height\"/>\n",
            "<meta content=\"https://upload.wikimedia.org/wikipedia/commons/thumb/0/02/N64-Console-Set.png/800px-N64-Console-Set.png\" property=\"og:image\"/>\n",
            "<meta content=\"800\" property=\"og:image:width\"/>\n",
            "<meta content=\"431\" property=\"og:image:height\"/>\n",
            "<meta content=\"https://upload.wikimedia.org/wikipedia/commons/thumb/0/02/N64-Console-Set.png/640px-N64-Console-Set.png\" property=\"og:image\"/>\n",
            "<meta content=\"640\" property=\"og:image:width\"/>\n",
            "<meta content=\"344\" property=\"og:image:height\"/>\n",
            "<meta content=\"width=1000\" name=\"viewport\"/>\n",
            "<meta content=\"Wikipedia, the free encyclopedia\" property=\"og:title\"/>\n",
            "<meta content=\"website\" property=\"og:type\"/>\n",
            "<link href=\"//upload.wikimedia.org\" rel=\"preconnect\"/>\n",
            "<link href=\"//en.m.wikipedia.org/wiki/Main_Page\" media=\"only screen and (max-width: 720px)\" rel=\"alternate\"/>\n",
            "<link href=\"/w/api.php?action=featuredfeed&amp;feed=potd&amp;feedformat=atom\" rel=\"alternate\" title=\"Wikipedia picture of the day feed\" type=\"application/atom+xml\"/>\n",
            "<link href=\"/w/api.php?action=featuredfeed&amp;feed=featured&amp;feedformat=atom\" rel=\"alternate\" title=\"Wikipedia featured articles feed\" type=\"application/atom+xml\"/>\n",
            "<link href=\"/w/api.php?action=featuredfeed&amp;feed=onthisday&amp;feedformat=atom\" rel=\"alternate\" title='Wikipedia \"On this day...\" feed' type=\"application/atom+xml\"/>\n",
            "<link href=\"/static/apple-touch/wikipedia.png\" rel=\"apple-touch-icon\"/>\n",
            "<link href=\"/static/favicon/wikipedia.ico\" rel=\"icon\"/>\n",
            "<link href=\"/w/opensearch_desc.php\" rel=\"search\" title=\"Wikipedia (en)\" type=\"application/opensearchdescription+xml\"/>\n",
            "<link href=\"//en.wikipedia.org/w/api.php?action=rsd\" rel=\"EditURI\" type=\"application/rsd+xml\"/>\n",
            "<link href=\"https://creativecommons.org/licenses/by-sa/3.0/\" rel=\"license\"/>\n",
            "<link href=\"https://en.wikipedia.org/wiki/Main_Page\" rel=\"canonical\"/>\n",
            "<link href=\"//meta.wikimedia.org\" rel=\"dns-prefetch\"/>\n",
            "<link href=\"//login.wikimedia.org\" rel=\"dns-prefetch\"/>\n",
            "</head>\n",
            "<body class=\"skin-vector-legacy mediawiki ltr sitedir-ltr mw-hide-empty-elt ns-0 ns-subject page-Main_Page rootpage-Main_Page skin-vector action-view vector-feature-language-in-header-enabled vector-feature-language-in-main-page-header-disabled vector-feature-language-alert-in-sidebar-enabled vector-feature-sticky-header-disabled vector-feature-sticky-header-edit-disabled vector-feature-table-of-contents-legacy-toc-disabled vector-feature-visual-enhancement-next-disabled vector-feature-article-tools-disabled\"><div class=\"noprint\" id=\"mw-page-base\"></div>\n",
            "<div class=\"noprint\" id=\"mw-head-base\"></div>\n",
            "<div class=\"mw-body\" id=\"content\" role=\"main\">\n",
            "<a id=\"top\"></a>\n",
            "<div id=\"siteNotice\"><!-- CentralNotice --><!--esi <esi:include src=\"/esitest-fa8a495983347898/content\" /> --> </div>\n",
            "<div class=\"mw-indicators\">\n",
            "</div>\n",
            "<h1 class=\"firstHeading mw-first-heading\" id=\"firstHeading\" style=\"display: none\"><span class=\"mw-page-title-main\">Main Page</span></h1>\n",
            "<div class=\"vector-body\" id=\"bodyContent\">\n",
            "<div class=\"noprint\" id=\"siteSub\">From Wikipedia, the free encyclopedia</div>\n",
            "<div id=\"contentSub\"></div>\n",
            "<div id=\"contentSub2\"></div>\n",
            "<div id=\"jump-to-nav\"></div>\n",
            "<a class=\"mw-jump-link\" href=\"#mw-head\">Jump to navigation</a>\n",
            "<a class=\"mw-jump-link\" href=\"#searchInput\">Jump to search</a>\n",
            "<div class=\"mw-body-content mw-content-ltr\" dir=\"ltr\" id=\"mw-content-text\" lang=\"en\"><div class=\"mw-parser-output\"><style data-mw-deduplicate=\"TemplateStyles:r1094834805\">.mw-parser-output .mp-box{border:1px solid #aaa;padding:0 0.5em 0.5em;margin-top:4px}.mw-parser-output .mp-h2,body.skin-timeless .mw-parser-output .mp-h2{border:1px solid #aaa;margin:0.5em 0;padding:0.2em 0.4em;font-size:120%;font-weight:bold;font-family:inherit}.mw-parser-output h2.mp-h2::after{border:none}.mw-parser-output .mp-later{font-size:85%;font-weight:normal}.mw-parser-output #mp-topbanner{background:#f9f9f9;border-color:#ddd}.mw-parser-output #mp-welcomecount{text-align:center;margin:0.4em}.mw-parser-output #mp-welcome{font-size:162%;padding:0.1em}.mw-parser-output #mp-welcome h1{font-size:inherit;font-family:inherit;display:inline;border:none}.mw-parser-output #mp-welcome h1::after{content:none}.mw-parser-output #mp-free{font-size:95%}.mw-parser-output #articlecount{font-size:85%}.mw-parser-output .mp-contains-float::after{content:\"\";display:block;clear:both}.mw-parser-output #mp-banner{background:#fffaf5;border-color:#f2e0ce}.mw-parser-output #mp-left{background:#f5fffa;border-color:#cef2e0}.mw-parser-output #mp-left .mp-h2{background:#cef2e0;border-color:#a3bfb1}.mw-parser-output #mp-right{background:#f5faff;border-color:#cedff2}.mw-parser-output #mp-right .mp-h2{background:#cedff2;border-color:#a3b0bf}.mw-parser-output #mp-middle{background:#fff5fa;border-color:#f2cedd}.mw-parser-output #mp-middle .mp-h2{background:#f2cedd;border-color:#bfa3af}.mw-parser-output #mp-lower{background:#faf5ff;border-color:#ddcef2}.mw-parser-output #mp-lower .mp-h2{background:#ddcef2;border-color:#afa3bf}.mw-parser-output #mp-bottom{border-color:#e2e2e2}.mw-parser-output #mp-bottom .mp-h2{background:#eee;border-color:#ddd}@media(max-width:875px){.mw-parser-output #mp-tfp table,.mw-parser-output #mp-tfp tr,.mw-parser-output #mp-tfp td,.mw-parser-output #mp-tfp tbody{display:block!important;width:100%!important;box-sizing:border-box}.mw-parser-output #mp-tfp tr:first-child td:first-child a{text-align:center;display:table;margin:0 auto}}@media(min-width:875px){.mw-parser-output #mp-upper{display:flex}.mw-parser-output #mp-left{flex:1 1 55%;margin-right:2px}.mw-parser-output #mp-right{flex:1 1 45%;margin-left:2px}}.mw-parser-output div.hlist.inline ul,.mw-parser-output div.hlist.inline li,.mw-parser-output div.hlist.inline{display:inline}</style>\n",
            "<div class=\"mp-box\" id=\"mp-topbanner\">\n",
            "<div id=\"mp-welcomecount\">\n",
            "<div id=\"mp-welcome\"><h1><span class=\"mw-headline\" id=\"Welcome_to_Wikipedia\">Welcome to <a href=\"/wiki/Wikipedia\" title=\"Wikipedia\">Wikipedia</a></span></h1>,</div>\n",
            "<div id=\"mp-free\">the <a href=\"/wiki/Free_content\" title=\"Free content\">free</a> <a href=\"/wiki/Encyclopedia\" title=\"Encyclopedia\">encyclopedia</a> that <a href=\"/wiki/Help:Introduction_to_Wikipedia\" title=\"Help:Introduction to Wikipedia\">anyone can edit</a>.</div>\n",
            "<div id=\"articlecount\"><a href=\"/wiki/Special:Statistics\" title=\"Special:Statistics\">6,567,002</a> articles in <a href=\"/wiki/English_language\" title=\"English language\">English</a></div>\n",
            "</div>\n",
            "</div>\n",
            "<div id=\"mp-upper\">\n",
            "<div class=\"MainPageBG mp-box\" id=\"mp-left\">\n",
            "<h2 class=\"mp-h2\" id=\"mp-tfa-h2\"><span id=\"From_today.27s_featured_article\"></span><span class=\"mw-headline\" id=\"From_today's_featured_article\">From today's featured article</span></h2>\n",
            "<div class=\"mp-contains-float\" id=\"mp-tfa\"><div id=\"mp-tfa-img\" style=\"float: left; margin: 0.5em 0.9em 0.4em 0em;\">\n",
            "<div class=\"thumbinner mp-thumb\" style=\"background: transparent; border: none; padding: 0; max-width: 191px;\">\n",
            "<a class=\"image\" href=\"/wiki/File:N64-Console-Set.png\" title=\"The Nintendo 64, whose first 2D platform game was Mischief Makers\"><img alt=\"The Nintendo 64, whose first 2D platform game was Mischief Makers\" data-file-height=\"2108\" data-file-width=\"3917\" decoding=\"async\" height=\"103\" src=\"//upload.wikimedia.org/wikipedia/commons/thumb/0/02/N64-Console-Set.png/191px-N64-Console-Set.png\" srcset=\"//upload.wikimedia.org/wikipedia/commons/thumb/0/02/N64-Console-Set.png/287px-N64-Console-Set.png 1.5x, //upload.wikimedia.org/wikipedia/commons/thumb/0/02/N64-Console-Set.png/382px-N64-Console-Set.png 2x\" width=\"191\"/></a><div class=\"thumbcaption\" style=\"padding: 0.25em 0; word-wrap: break-word;\">The Nintendo 64, whose first 2D <a href=\"/wiki/Platform_game\" title=\"Platform game\">platform game</a> was <i>Mischief Makers</i></div></div>\n",
            "</div>\n",
            "<p><i><b><a href=\"/wiki/Mischief_Makers\" title=\"Mischief Makers\">Mischief Makers</a></b></i> is a 1997 <a href=\"/wiki/Side-scrolling_video_game\" title=\"Side-scrolling video game\">side-scrolling</a> platform video game, the first for the <a href=\"/wiki/Nintendo_64\" title=\"Nintendo 64\">Nintendo 64</a> <i>(pictured)</i>, developed by <a href=\"/wiki/Treasure_(company)\" title=\"Treasure (company)\">Treasure</a> and published by <a href=\"/wiki/Enix\" title=\"Enix\">Enix</a> and <a href=\"/wiki/Nintendo\" title=\"Nintendo\">Nintendo</a>. The player assumes the role of Marina, a robot who grabs, shakes, and throws objects in her journey to rescue her creator from the planet's emperor. The game is presented in <a href=\"/wiki/2.5D\" title=\"2.5D\">2.5D</a>, with pre-rendered 3D backgrounds behind 2D gameplay. A 12-person team developed the game over two years as Treasure's first title for a Nintendo console. It was shown at the 1997 <a href=\"/wiki/E3\" title=\"E3\">Electronic Entertainment Expo</a> before its release. Reviews were mixed, with praise for its inventiveness, personality, and <a href=\"/wiki/Boss_(video_games)\" title=\"Boss (video games)\">boss</a> fights, but criticism for its brevity, low difficulty, low <a href=\"/wiki/Replay_value\" title=\"Replay value\">replay value</a>, sound, and harsh introductory learning curve. Retrospective reviewers disagreed with the originally poor reception, and several highlighted Marina's signature \"Shake, shake!\" <a href=\"/wiki/Sound_bite\" title=\"Sound bite\">sound bite</a>. In 2009, <i>GamesRadar</i> called it \"possibly the most underrated and widely ignored game on the N64\". (<b><a href=\"/wiki/Mischief_Makers\" title=\"Mischief Makers\">Full article...</a></b>)\n",
            "</p>\n",
            "<div class=\"tfa-recent\" style=\"text-align: right;\">\n",
            "Recently featured: <div class=\"hlist hlist-separated inline\">\n",
            "<ul><li><a href=\"/wiki/Second_Battle_of_Cape_Finisterre\" title=\"Second Battle of Cape Finisterre\">Second Battle of Cape Finisterre</a></li>\n",
            "<li><i><a href=\"/wiki/Oryzomys_antillarum\" title=\"Oryzomys antillarum\">Oryzomys antillarum</a></i></li>\n",
            "<li><a href=\"/wiki/Ich_will_den_Kreuzstab_gerne_tragen,_BWV_56\" title=\"Ich will den Kreuzstab gerne tragen, BWV 56\"><i>Ich will den Kreuzstab gerne tragen</i>, BWV 56</a></li></ul>\n",
            "</div></div>\n",
            "<div class=\"hlist hlist-separated tfa-footer noprint\" style=\"text-align:right;\">\n",
            "<ul><li><b><a href=\"/wiki/Wikipedia:Today%27s_featured_article/October_2022\" title=\"Wikipedia:Today's featured article/October 2022\">Archive</a></b></li>\n",
            "<li><b><a class=\"extiw\" href=\"https://lists.wikimedia.org/postorius/lists/daily-article-l.lists.wikimedia.org/\" title=\"mail:daily-article-l\">By email</a></b></li>\n",
            "<li><b><a href=\"/wiki/Wikipedia:Featured_articles\" title=\"Wikipedia:Featured articles\">More featured articles</a></b></li>\n",
            "<li><b><a href=\"/wiki/Wikipedia:About_Today%27s_featured_article\" title=\"Wikipedia:About Today's featured article\">About</a></b></li></ul>\n",
            "</div></div>\n",
            "<h2 class=\"mp-h2\" id=\"mp-dyk-h2\"><span class=\"mw-headline\" id=\"Did_you_know_...\">Did you know ...</span></h2>\n",
            "<div class=\"mp-contains-float\" id=\"mp-dyk\">\n",
            "<div class=\"dyk-img\" style=\"float: right; margin-left: 0.5em;\">\n",
            "<div class=\"thumbinner mp-thumb\" style=\"background: transparent; border: none; padding: 0; max-width: 124px;\">\n",
            "<a class=\"image\" href=\"/wiki/File:ShannonLucid.jpeg\" title=\"Shannon Lucid\"><img alt=\"Shannon Lucid\" data-file-height=\"480\" data-file-width=\"379\" decoding=\"async\" height=\"157\" src=\"//upload.wikimedia.org/wikipedia/commons/thumb/0/0a/ShannonLucid.jpeg/124px-ShannonLucid.jpeg\" srcset=\"//upload.wikimedia.org/wikipedia/commons/thumb/0/0a/ShannonLucid.jpeg/186px-ShannonLucid.jpeg 1.5x, //upload.wikimedia.org/wikipedia/commons/thumb/0/0a/ShannonLucid.jpeg/248px-ShannonLucid.jpeg 2x\" width=\"124\"/></a><div class=\"thumbcaption\" style=\"padding: 0.25em 0; word-wrap: break-word;\">Shannon Lucid</div></div>\n",
            "</div>\n",
            "<ul><li>... that when astronaut <b><a href=\"/wiki/Shannon_Lucid\" title=\"Shannon Lucid\">Shannon Lucid</a></b> <i>(pictured)</i> returned to Earth after six months in orbit, she was presented with a box of <a href=\"/wiki/M%26M%27s\" title=\"M&amp;M's\">M&amp;M's</a>?</li>\n",
            "<li>... that the <b><a href=\"/wiki/Regensburg_Botanical_Society\" title=\"Regensburg Botanical Society\">Regensburg Botanical Society</a></b>, founded on 14 May 1790, is the world's oldest extant botanical society?</li>\n",
            "<li>... that decades after its closure, the station house of the <a href=\"/wiki/Chicago_%22L%22\" title='Chicago \"L\"'>Chicago \"L\"</a>'s <b><a href=\"/wiki/Madison_station_(CTA)\" title=\"Madison station (CTA)\">Madison station</a></b> would house a hot dog stand?</li>\n",
            "<li>... that before entering politics, <b><a href=\"/wiki/Romina_P%C3%A9rez\" title=\"Romina Pérez\">Romina Pérez</a></b> worked at the Center for Legal Studies and Social Research, which \"became a 'nursery' for intellectual and political cadres of the <a href=\"/wiki/Movement_for_Socialism\" title=\"Movement for Socialism\">Movement for Socialism</a>\"?</li>\n",
            "<li>... that despite his defeat at the <b><a href=\"/wiki/Battle_of_Pitgaveny\" title=\"Battle of Pitgaveny\">battle of Pitgaveny</a></b>, both of <a href=\"/wiki/Duncan_I_of_Scotland\" title=\"Duncan I of Scotland\">Duncan</a>'s sons would later rule <a href=\"/wiki/Scotland\" title=\"Scotland\">Scotland</a>?</li>\n",
            "<li>... that <b><a href=\"/wiki/Kline%27s_Mill,_Virginia\" title=\"Kline's Mill, Virginia\">Kline's Mill</a></b> is a rare surviving example of an <a href=\"/wiki/Oliver_Evans\" title=\"Oliver Evans\">Oliver Evans</a> milling system from 1794?</li>\n",
            "<li>... that the hoof of <b><a href=\"/wiki/Richard_Thomas_Glyn\" title=\"Richard Thomas Glyn\">Richard Thomas Glyn</a></b><span class=\"nowrap\">'s</span> horse is used as an ashtray by officers of the <a href=\"/wiki/Royal_Regiment_of_Wales\" title=\"Royal Regiment of Wales\">Royal Regiment of Wales</a>?</li>\n",
            "<li>... that the Mesopotamian goddess <b><a href=\"/wiki/Iqbi-damiq\" title=\"Iqbi-damiq\">Iqbi-damiq</a></b> had an illness named after her?</li></ul>\n",
            "<div class=\"hlist hlist-separated dyk-footer noprint\" style=\"margin-top: 0.5em; text-align: right;\">\n",
            "<ul><li><b><a href=\"/wiki/Wikipedia:Recent_additions\" title=\"Wikipedia:Recent additions\">Archive</a></b></li>\n",
            "<li><b><a href=\"/wiki/Help:Your_first_article\" title=\"Help:Your first article\">Start a new article</a></b></li>\n",
            "<li><b><a href=\"/wiki/Template_talk:Did_you_know\" title=\"Template talk:Did you know\">Nominate an article</a></b></li></ul>\n",
            "</div>\n",
            "</div>\n",
            "</div>\n",
            "<div class=\"MainPageBG mp-box\" id=\"mp-right\">\n",
            "<h2 class=\"mp-h2\" id=\"mp-itn-h2\"><span class=\"mw-headline\" id=\"In_the_news\">In the news</span></h2>\n",
            "<div class=\"mp-contains-float\" id=\"mp-itn\"><style data-mw-deduplicate=\"TemplateStyles:r1053378754\">.mw-parser-output .itn-img{float:right;margin-left:0.5em;margin-top:0.2em}</style><div class=\"itn-img\" role=\"figure\">\n",
            "<div class=\"thumbinner mp-thumb\" style=\"background: transparent; border: none; padding: 0; max-width: 122px;\">\n",
            "<a class=\"image\" href=\"/wiki/File:Rishi_Sunak_sidebar.jpg\" title=\"Rishi Sunak in 2020\"><img alt=\"Rishi Sunak in 2020\" data-file-height=\"307\" data-file-width=\"234\" decoding=\"async\" height=\"160\" src=\"//upload.wikimedia.org/wikipedia/commons/thumb/3/30/Rishi_Sunak_sidebar.jpg/122px-Rishi_Sunak_sidebar.jpg\" srcset=\"//upload.wikimedia.org/wikipedia/commons/thumb/3/30/Rishi_Sunak_sidebar.jpg/183px-Rishi_Sunak_sidebar.jpg 1.5x, //upload.wikimedia.org/wikipedia/commons/3/30/Rishi_Sunak_sidebar.jpg 2x\" width=\"122\"/></a><div class=\"thumbcaption\" style=\"padding: 0.25em 0; word-wrap: break-word; text-align: left;\">Rishi Sunak</div></div>\n",
            "</div>\n",
            "<ul><li><a href=\"/wiki/Rishi_Sunak\" title=\"Rishi Sunak\">Rishi Sunak</a> <i>(pictured)</i> <b><a href=\"/wiki/October_2022_Conservative_Party_leadership_election\" title=\"October 2022 Conservative Party leadership election\">succeeds</a></b> <a href=\"/wiki/Liz_Truss\" title=\"Liz Truss\">Liz Truss</a> as <a href=\"/wiki/Leader_of_the_Conservative_Party_(UK)\" title=\"Leader of the Conservative Party (UK)\">Leader of the Conservative Party</a> and <a href=\"/wiki/Prime_Minister_of_the_United_Kingdom\" title=\"Prime Minister of the United Kingdom\">Prime Minister of the United Kingdom</a>.</li>\n",
            "<li><b><a href=\"/wiki/Xi_Jinping\" title=\"Xi Jinping\">Xi Jinping</a></b> is named <a href=\"/wiki/General_Secretary_of_the_Chinese_Communist_Party\" title=\"General Secretary of the Chinese Communist Party\">General Secretary of the Chinese Communist Party</a> for a third term after the conclusion of <a href=\"/wiki/20th_National_Congress_of_the_Chinese_Communist_Party\" title=\"20th National Congress of the Chinese Communist Party\">the Party Congress</a>.</li>\n",
            "<li><b><a href=\"/wiki/Ulf_Kristersson\" title=\"Ulf Kristersson\">Ulf Kristersson</a></b> is elected <a href=\"/wiki/Prime_Minister_of_Sweden\" title=\"Prime Minister of Sweden\">Prime Minister of Sweden</a> following <a href=\"/wiki/Tid%C3%B6_Agreement\" title=\"Tidö Agreement\">a four-party agreement</a>.</li>\n",
            "<li><b><a href=\"/wiki/Hurricane_Julia_(2022)\" title=\"Hurricane Julia (2022)\">Hurricane Julia</a></b> leaves more than 90 people dead across <a href=\"/wiki/South_America\" title=\"South America\">South</a> and <a href=\"/wiki/Central_America\" title=\"Central America\">Central America</a>.</li></ul>\n",
            "<div class=\"itn-footer\" style=\"margin-top: 0.5em;\">\n",
            "<div><b><a href=\"/wiki/Portal:Current_events\" title=\"Portal:Current events\">Ongoing</a></b>: <div class=\"hlist hlist-separated inline\">\n",
            "<ul><li><a href=\"/wiki/Mahsa_Amini_protests\" title=\"Mahsa Amini protests\">Mahsa Amini protests</a></li>\n",
            "<li><a href=\"/wiki/2022_Russian_invasion_of_Ukraine\" title=\"2022 Russian invasion of Ukraine\">Russian invasion of Ukraine</a></li></ul></div></div>\n",
            "<div><b><a href=\"/wiki/Deaths_in_2022\" title=\"Deaths in 2022\">Recent deaths</a></b>: <div class=\"hlist hlist-separated inline\">\n",
            "<ul><li><a href=\"/wiki/Galina_Pisarenko\" title=\"Galina Pisarenko\">Galina Pisarenko</a></li>\n",
            "<li><a href=\"/wiki/Rodney_Graham\" title=\"Rodney Graham\">Rodney Graham</a></li>\n",
            "<li><a href=\"/wiki/Libor_Pe%C5%A1ek\" title=\"Libor Pešek\">Libor Pešek</a></li>\n",
            "<li><a href=\"/wiki/Walt_Corey\" title=\"Walt Corey\">Walt Corey</a></li>\n",
            "<li><a href=\"/wiki/Vanilla_Beane\" title=\"Vanilla Beane\">Vanilla Beane</a></li>\n",
            "<li><a href=\"/wiki/Louis_Gigante\" title=\"Louis Gigante\">Louis Gigante</a></li></ul></div></div></div>\n",
            "<div class=\"hlist hlist-separated itn-footer noprint\" style=\"text-align:right;\">\n",
            "<ul><li><b><a href=\"/wiki/Wikipedia:In_the_news/Candidates\" title=\"Wikipedia:In the news/Candidates\">Nominate an article</a></b></li></ul>\n",
            "</div></div>\n",
            "<h2 class=\"mp-h2\" id=\"mp-otd-h2\"><span class=\"mw-headline\" id=\"On_this_day\">On this day</span></h2>\n",
            "<div class=\"mp-contains-float\" id=\"mp-otd\">\n",
            "<p><b><a href=\"/wiki/October_26\" title=\"October 26\">October 26</a></b>: <b><a href=\"/wiki/Twin_Holy_Birthdays\" title=\"Twin Holy Birthdays\">Twin Holy Birthdays</a></b> begin (<a href=\"/wiki/Bah%C3%A1%CA%BC%C3%AD_Faith\" title=\"Baháʼí Faith\">Baháʼí Faith</a>, 2022)\n",
            "</p>\n",
            "<div id=\"mp-otd-img\" style=\"float:right;margin-left:0.5em;\">\n",
            "<div class=\"thumbinner mp-thumb\" style=\"background: transparent; border: none; padding: 0; max-width: 117px;\">\n",
            "<a class=\"image\" href=\"/wiki/File:Mary_Garrity_-_Ida_B._Wells-Barnett_-_Google_Art_Project_-_restoration_crop.jpg\" title=\"Ida B. Wells\"><img alt=\"Ida B. Wells\" data-file-height=\"3818\" data-file-width=\"2673\" decoding=\"async\" height=\"167\" src=\"//upload.wikimedia.org/wikipedia/commons/thumb/f/fd/Mary_Garrity_-_Ida_B._Wells-Barnett_-_Google_Art_Project_-_restoration_crop.jpg/117px-Mary_Garrity_-_Ida_B._Wells-Barnett_-_Google_Art_Project_-_restoration_crop.jpg\" srcset=\"//upload.wikimedia.org/wikipedia/commons/thumb/f/fd/Mary_Garrity_-_Ida_B._Wells-Barnett_-_Google_Art_Project_-_restoration_crop.jpg/176px-Mary_Garrity_-_Ida_B._Wells-Barnett_-_Google_Art_Project_-_restoration_crop.jpg 1.5x, //upload.wikimedia.org/wikipedia/commons/thumb/f/fd/Mary_Garrity_-_Ida_B._Wells-Barnett_-_Google_Art_Project_-_restoration_crop.jpg/234px-Mary_Garrity_-_Ida_B._Wells-Barnett_-_Google_Art_Project_-_restoration_crop.jpg 2x\" width=\"117\"/></a><div class=\"thumbcaption\" style=\"padding: 0.25em 0; word-wrap: break-word;\">Ida B. Wells</div></div>\n",
            "</div>\n",
            "<ul><li><a href=\"/wiki/1341\" title=\"1341\">1341</a> – The <a href=\"/wiki/Byzantine_Empire\" title=\"Byzantine Empire\">Byzantine</a> army proclaimed chief minister <a href=\"/wiki/John_VI_Kantakouzenos\" title=\"John VI Kantakouzenos\">John VI Kantakouzenos</a> emperor, triggering <b><a href=\"/wiki/Byzantine_civil_war_of_1341%E2%80%931347\" title=\"Byzantine civil war of 1341–1347\">a civil war</a></b> between his supporters and those of <a href=\"/wiki/John_V_Palaiologos\" title=\"John V Palaiologos\">John V Palaiologos</a>, the heir to the throne.</li>\n",
            "<li><a href=\"/wiki/1892\" title=\"1892\">1892</a> – <b><a href=\"/wiki/Ida_B._Wells\" title=\"Ida B. Wells\">Ida B. Wells</a></b> <i>(pictured)</i> began to publish her research on <a href=\"/wiki/Lynching\" title=\"Lynching\">lynching</a> in the United States, for which she was posthumously awarded a <a href=\"/wiki/Pulitzer_Prize\" title=\"Pulitzer Prize\">Pulitzer Prize</a> in 2020.</li>\n",
            "<li><a href=\"/wiki/1955\" title=\"1955\">1955</a> – <a href=\"/wiki/Ngo_Dinh_Diem\" title=\"Ngo Dinh Diem\">Ngô Đình Diệm</a> proclaimed himself president of the newly created <a href=\"/wiki/South_Vietnam\" title=\"South Vietnam\">Republic of Vietnam</a> after defeating former emperor <a href=\"/wiki/B%E1%BA%A3o_%C4%90%E1%BA%A1i\" title=\"Bảo Đại\">Bảo Đại</a> in <b><a href=\"/wiki/1955_State_of_Vietnam_referendum\" title=\"1955 State of Vietnam referendum\">a fraudulent referendum</a></b> supervised by his brother <a href=\"/wiki/Ng%C3%B4_%C4%90%C3%ACnh_Nhu\" title=\"Ngô Đình Nhu\">Ngô Đình Nhu</a>.</li>\n",
            "<li><a href=\"/wiki/1955\" title=\"1955\">1955</a> – The first buildings in the sacred <b><a href=\"/wiki/Oyasato-yakata\" title=\"Oyasato-yakata\">Oyasato-yakata</a></b> complex of the Japanese <a href=\"/wiki/New_religious_movement\" title=\"New religious movement\">new religious movement</a> <a href=\"/wiki/Tenrikyo\" title=\"Tenrikyo\">Tenrikyo</a> in <a href=\"/wiki/Tenri,_Nara\" title=\"Tenri, Nara\">Tenri, Nara</a>, were completed.</li>\n",
            "<li><a href=\"/wiki/1977\" title=\"1977\">1977</a> – Somali hospital cook <b><a href=\"/wiki/Ali_Maow_Maalin\" title=\"Ali Maow Maalin\">Ali Maow Maalin</a></b> began displaying symptoms of <a href=\"/wiki/Smallpox\" title=\"Smallpox\">smallpox</a>, becoming the last person known to be naturally infected by the disease.</li></ul>\n",
            "<div class=\"hlist hlist-separated\" style=\"margin-top: 0.5em;\"><ul><li><b><a href=\"/wiki/Cuthbert_of_Canterbury\" title=\"Cuthbert of Canterbury\">Cuthbert of Canterbury</a></b>  (<abbr title=\"died\">d.</abbr> 760)</li><li><b><a href=\"/wiki/Elizabeth_Cady_Stanton\" title=\"Elizabeth Cady Stanton\">Elizabeth Cady Stanton</a></b>  (<abbr title=\"died\">d.</abbr> 1902)</li><li><b><a href=\"/wiki/Yamashita_Yoshitsugu\" title=\"Yamashita Yoshitsugu\">Yamashita Yoshitsugu</a></b> (<abbr title=\"died\">d.</abbr> 1935)</li></ul></div>\n",
            "<div style=\"margin-top:0.5em;\">\n",
            "More anniversaries: <div class=\"hlist hlist-separated inline nowraplinks\">\n",
            "<ul><li><a href=\"/wiki/October_25\" title=\"October 25\">October 25</a></li>\n",
            "<li><b><a href=\"/wiki/October_26\" title=\"October 26\">October 26</a></b></li>\n",
            "<li><a href=\"/wiki/October_27\" title=\"October 27\">October 27</a></li></ul>\n",
            "</div></div>\n",
            "<div class=\"hlist hlist-separated otd-footer noprint\" style=\"text-align:right;\">\n",
            "<ul><li><b><a href=\"/wiki/Wikipedia:Selected_anniversaries/October\" title=\"Wikipedia:Selected anniversaries/October\">Archive</a></b></li>\n",
            "<li><b><a class=\"extiw\" href=\"https://lists.wikimedia.org/postorius/lists/daily-article-l.lists.wikimedia.org/\" title=\"mail:daily-article-l\">By email</a></b></li>\n",
            "<li><b><a href=\"/wiki/List_of_days_of_the_year\" title=\"List of days of the year\">List of days of the year</a></b></li></ul>\n",
            "</div></div>\n",
            "</div>\n",
            "</div>\n",
            "<div class=\"MainPageBG mp-box\" id=\"mp-lower\">\n",
            "<h2 class=\"mp-h2\" id=\"mp-tfp-h2\"><span id=\"Today.27s_featured_picture\"></span><span class=\"mw-headline\" id=\"Today's_featured_picture\">Today's featured picture</span></h2>\n",
            "<div id=\"mp-tfp\">\n",
            "<table role=\"presentation\" style=\"margin:0 3px 3px; width:100%; box-sizing:border-box; text-align:left; background-color:transparent; border-collapse:collapse;\">\n",
            "<tbody><tr>\n",
            "<td style=\"padding:0 0.9em 0 0; width:350px;\"><a class=\"image\" href=\"/wiki/File:Arthur_Kornberg_(30828410210)_-_restoration1.jpg\" title=\"Arthur Kornberg\"><img alt=\"Arthur Kornberg\" data-file-height=\"5734\" data-file-width=\"4600\" decoding=\"async\" height=\"436\" src=\"//upload.wikimedia.org/wikipedia/commons/thumb/f/fc/Arthur_Kornberg_%2830828410210%29_-_restoration1.jpg/350px-Arthur_Kornberg_%2830828410210%29_-_restoration1.jpg\" srcset=\"//upload.wikimedia.org/wikipedia/commons/thumb/f/fc/Arthur_Kornberg_%2830828410210%29_-_restoration1.jpg/525px-Arthur_Kornberg_%2830828410210%29_-_restoration1.jpg 1.5x, //upload.wikimedia.org/wikipedia/commons/thumb/f/fc/Arthur_Kornberg_%2830828410210%29_-_restoration1.jpg/700px-Arthur_Kornberg_%2830828410210%29_-_restoration1.jpg 2x\" width=\"350\"/></a>\n",
            "</td>\n",
            "<td style=\"padding:0 6px 0 0\">\n",
            "<p><b><a href=\"/wiki/Arthur_Kornberg\" title=\"Arthur Kornberg\">Arthur Kornberg</a></b> (March 3, 1918 – October 26, 2007) was an American <a href=\"/wiki/Biochemist\" title=\"Biochemist\">biochemist</a> who won the <a href=\"/wiki/Nobel_Prize_in_Physiology_or_Medicine\" title=\"Nobel Prize in Physiology or Medicine\">Nobel Prize in Physiology or Medicine</a> 1959 for his discovery of \"the mechanisms in the <a href=\"/wiki/Biosynthesis\" title=\"Biosynthesis\">biological synthesis</a> of <a href=\"/wiki/DNA\" title=\"DNA\">deoxyribonucleic acid</a> (DNA)\" together with Spanish biochemist and physician <a href=\"/wiki/Severo_Ochoa\" title=\"Severo Ochoa\">Severo Ochoa</a> of <a href=\"/wiki/New_York_University\" title=\"New York University\">New York University</a>.\n",
            "</p>\n",
            "<p style=\"text-align:left;\"><small>Photograph credit: <a href=\"/wiki/National_Institutes_of_Health\" title=\"National Institutes of Health\">NIH History Office</a>; restored by <a href=\"/wiki/User:Bammesk\" title=\"User:Bammesk\">Bammesk</a></small></p>\n",
            "<div class=\"potd-recent\" style=\"text-align:right;\">\n",
            "Recently featured: <div class=\"hlist hlist-separated inline\">\n",
            "<ul><li><a href=\"/wiki/Template:POTD/2022-10-25\" title=\"Template:POTD/2022-10-25\">Old Royal Naval College</a></li>\n",
            "<li><a href=\"/wiki/Template:POTD/2022-10-24\" title=\"Template:POTD/2022-10-24\">Sociable weaver</a></li>\n",
            "<li><a href=\"/wiki/Template:POTD/2022-10-23\" title=\"Template:POTD/2022-10-23\">Lichfield Cathedral</a></li></ul>\n",
            "</div></div>\n",
            "<div class=\"hlist hlist-separated potd-footer noprint\" style=\"text-align:right;\">\n",
            "<ul><li><b><a href=\"/wiki/Wikipedia:Picture_of_the_day/Archive\" title=\"Wikipedia:Picture of the day/Archive\">Archive</a></b></li>\n",
            "<li><b><a href=\"/wiki/Wikipedia:Featured_pictures\" title=\"Wikipedia:Featured pictures\">More featured pictures</a></b></li></ul>\n",
            "</div>\n",
            "</td></tr></tbody></table></div>\n",
            "</div>\n",
            "<div class=\"mp-box\" id=\"mp-bottom\">\n",
            "<h2 class=\"mp-h2\" id=\"mp-other\"><span class=\"mw-headline\" id=\"Other_areas_of_Wikipedia\">Other areas of Wikipedia</span></h2>\n",
            "<div id=\"mp-other-content\">\n",
            "<ul><li><b><a href=\"/wiki/Wikipedia:Community_portal\" title=\"Wikipedia:Community portal\">Community portal</a></b> – The central hub for editors, with resources, links, tasks, and announcements.</li>\n",
            "<li><b><a href=\"/wiki/Wikipedia:Village_pump\" title=\"Wikipedia:Village pump\">Village pump</a></b> – Forum for discussions about Wikipedia itself, including policies and technical issues.</li>\n",
            "<li><b><a href=\"/wiki/Wikipedia:News\" title=\"Wikipedia:News\">Site news</a></b> – Sources of news about Wikipedia and the broader Wikimedia movement.</li>\n",
            "<li><b><a href=\"/wiki/Wikipedia:Teahouse\" title=\"Wikipedia:Teahouse\">Teahouse</a></b> – Ask basic questions about using or editing Wikipedia.</li>\n",
            "<li><b><a href=\"/wiki/Wikipedia:Help_desk\" title=\"Wikipedia:Help desk\">Help desk</a></b> – Ask questions about using or editing Wikipedia.</li>\n",
            "<li><b><a href=\"/wiki/Wikipedia:Reference_desk\" title=\"Wikipedia:Reference desk\">Reference desk</a></b> – Ask research questions about encyclopedic topics.</li>\n",
            "<li><b><a href=\"/wiki/Wikipedia:Contents/Portals\" title=\"Wikipedia:Contents/Portals\">Content portals</a></b> – A unique way to navigate the encyclopedia.</li></ul>\n",
            "</div>\n",
            "<h2 class=\"mp-h2\" id=\"mp-sister\"><span id=\"Wikipedia.27s_sister_projects\"></span><span class=\"mw-headline\" id=\"Wikipedia's_sister_projects\">Wikipedia's sister projects</span></h2>\n",
            "<div id=\"mp-sister-content\"><style data-mw-deduplicate=\"TemplateStyles:r1007624485\">.mw-parser-output #sister-projects-list{display:flex;flex-wrap:wrap}.mw-parser-output #sister-projects-list li{display:inline-block}.mw-parser-output #sister-projects-list li span{font-weight:bold}.mw-parser-output #sister-projects-list li>div{display:inline-block;vertical-align:middle;padding:6px 4px}.mw-parser-output #sister-projects-list li>div:first-child{text-align:center}@media(min-width:360px){.mw-parser-output #sister-projects-list li{width:33%;min-width:20em;white-space:nowrap;flex:1 0 25%}.mw-parser-output #sister-projects-list li>div:first-child{min-width:50px}}</style>\n",
            "<p>Wikipedia is written by volunteer editors and hosted by the <a href=\"/wiki/Wikimedia_Foundation\" title=\"Wikimedia Foundation\">Wikimedia Foundation</a>, a non-profit organization that also hosts a range of other volunteer <a class=\"extiw\" href=\"https://wikimediafoundation.org/our-work/wikimedia-projects/\" title=\"foundationsite:our-work/wikimedia-projects/\">projects</a>:\n",
            "</p>\n",
            "<div class=\"plainlist\">\n",
            "<ul id=\"sister-projects-list\">\n",
            "<li>\n",
            "<div><a href=\"https://commons.wikimedia.org/wiki/\" title=\"Commons\"><img alt=\"Commons logo\" data-file-height=\"1376\" data-file-width=\"1024\" decoding=\"async\" height=\"42\" src=\"//upload.wikimedia.org/wikipedia/en/thumb/4/4a/Commons-logo.svg/31px-Commons-logo.svg.png\" srcset=\"//upload.wikimedia.org/wikipedia/en/thumb/4/4a/Commons-logo.svg/47px-Commons-logo.svg.png 1.5x, //upload.wikimedia.org/wikipedia/en/thumb/4/4a/Commons-logo.svg/62px-Commons-logo.svg.png 2x\" width=\"31\"/></a></div>\n",
            "<div><span><a class=\"extiw\" href=\"https://commons.wikimedia.org/wiki/\" title=\"c:\">Commons</a></span><br/>Free media repository</div>\n",
            "</li>\n",
            "<li>\n",
            "<div><a href=\"https://www.mediawiki.org/wiki/\" title=\"MediaWiki\"><img alt=\"MediaWiki logo\" data-file-height=\"100\" data-file-width=\"100\" decoding=\"async\" height=\"35\" src=\"//upload.wikimedia.org/wikipedia/commons/thumb/a/a6/MediaWiki-2020-icon.svg/35px-MediaWiki-2020-icon.svg.png\" srcset=\"//upload.wikimedia.org/wikipedia/commons/thumb/a/a6/MediaWiki-2020-icon.svg/53px-MediaWiki-2020-icon.svg.png 1.5x, //upload.wikimedia.org/wikipedia/commons/thumb/a/a6/MediaWiki-2020-icon.svg/70px-MediaWiki-2020-icon.svg.png 2x\" width=\"35\"/></a></div>\n",
            "<div><span><a class=\"extiw\" href=\"https://www.mediawiki.org/wiki/\" title=\"mw:\">MediaWiki</a></span><br/>Wiki software development</div>\n",
            "</li>\n",
            "<li>\n",
            "<div><a href=\"https://meta.wikimedia.org/wiki/\" title=\"Meta-Wiki\"><img alt=\"Meta-Wiki logo\" data-file-height=\"900\" data-file-width=\"900\" decoding=\"async\" height=\"35\" src=\"//upload.wikimedia.org/wikipedia/commons/thumb/7/75/Wikimedia_Community_Logo.svg/35px-Wikimedia_Community_Logo.svg.png\" srcset=\"//upload.wikimedia.org/wikipedia/commons/thumb/7/75/Wikimedia_Community_Logo.svg/53px-Wikimedia_Community_Logo.svg.png 1.5x, //upload.wikimedia.org/wikipedia/commons/thumb/7/75/Wikimedia_Community_Logo.svg/70px-Wikimedia_Community_Logo.svg.png 2x\" width=\"35\"/></a></div>\n",
            "<div><span><a class=\"extiw\" href=\"https://meta.wikimedia.org/wiki/\" title=\"m:\">Meta-Wiki</a></span><br/>Wikimedia project coordination</div>\n",
            "</li>\n",
            "<li>\n",
            "<div><a href=\"https://en.wikibooks.org/wiki/\" title=\"Wikibooks\"><img alt=\"Wikibooks logo\" data-file-height=\"300\" data-file-width=\"300\" decoding=\"async\" height=\"35\" src=\"//upload.wikimedia.org/wikipedia/commons/thumb/f/fa/Wikibooks-logo.svg/35px-Wikibooks-logo.svg.png\" srcset=\"//upload.wikimedia.org/wikipedia/commons/thumb/f/fa/Wikibooks-logo.svg/53px-Wikibooks-logo.svg.png 1.5x, //upload.wikimedia.org/wikipedia/commons/thumb/f/fa/Wikibooks-logo.svg/70px-Wikibooks-logo.svg.png 2x\" width=\"35\"/></a></div>\n",
            "<div><span><a class=\"extiw\" href=\"https://en.wikibooks.org/wiki/\" title=\"b:\">Wikibooks</a></span><br/>Free textbooks and manuals</div>\n",
            "</li>\n",
            "<li>\n",
            "<div><a href=\"https://www.wikidata.org/wiki/\" title=\"Wikidata\"><img alt=\"Wikidata logo\" data-file-height=\"590\" data-file-width=\"1050\" decoding=\"async\" height=\"26\" src=\"//upload.wikimedia.org/wikipedia/commons/thumb/f/ff/Wikidata-logo.svg/47px-Wikidata-logo.svg.png\" srcset=\"//upload.wikimedia.org/wikipedia/commons/thumb/f/ff/Wikidata-logo.svg/71px-Wikidata-logo.svg.png 1.5x, //upload.wikimedia.org/wikipedia/commons/thumb/f/ff/Wikidata-logo.svg/94px-Wikidata-logo.svg.png 2x\" width=\"47\"/></a></div>\n",
            "<div><span><a class=\"extiw\" href=\"https://www.wikidata.org/wiki/\" title=\"d:\">Wikidata</a></span><br/>Free knowledge base</div>\n",
            "</li>\n",
            "<li>\n",
            "<div><a href=\"https://en.wikinews.org/wiki/\" title=\"Wikinews\"><img alt=\"Wikinews logo\" data-file-height=\"415\" data-file-width=\"759\" decoding=\"async\" height=\"28\" src=\"//upload.wikimedia.org/wikipedia/commons/thumb/2/24/Wikinews-logo.svg/51px-Wikinews-logo.svg.png\" srcset=\"//upload.wikimedia.org/wikipedia/commons/thumb/2/24/Wikinews-logo.svg/77px-Wikinews-logo.svg.png 1.5x, //upload.wikimedia.org/wikipedia/commons/thumb/2/24/Wikinews-logo.svg/102px-Wikinews-logo.svg.png 2x\" width=\"51\"/></a></div>\n",
            "<div><span><a class=\"extiw\" href=\"https://en.wikinews.org/wiki/\" title=\"n:\">Wikinews</a></span><br/>Free-content news</div>\n",
            "</li>\n",
            "<li>\n",
            "<div><a href=\"https://en.wikiquote.org/wiki/\" title=\"Wikiquote\"><img alt=\"Wikiquote logo\" data-file-height=\"355\" data-file-width=\"300\" decoding=\"async\" height=\"41\" src=\"//upload.wikimedia.org/wikipedia/commons/thumb/f/fa/Wikiquote-logo.svg/35px-Wikiquote-logo.svg.png\" srcset=\"//upload.wikimedia.org/wikipedia/commons/thumb/f/fa/Wikiquote-logo.svg/53px-Wikiquote-logo.svg.png 1.5x, //upload.wikimedia.org/wikipedia/commons/thumb/f/fa/Wikiquote-logo.svg/70px-Wikiquote-logo.svg.png 2x\" width=\"35\"/></a></div>\n",
            "<div><span><a class=\"extiw\" href=\"https://en.wikiquote.org/wiki/\" title=\"q:\">Wikiquote</a></span><br/>Collection of quotations</div>\n",
            "</li>\n",
            "<li>\n",
            "<div><a href=\"https://en.wikisource.org/wiki/\" title=\"Wikisource\"><img alt=\"Wikisource logo\" data-file-height=\"430\" data-file-width=\"410\" decoding=\"async\" height=\"37\" src=\"//upload.wikimedia.org/wikipedia/commons/thumb/4/4c/Wikisource-logo.svg/35px-Wikisource-logo.svg.png\" srcset=\"//upload.wikimedia.org/wikipedia/commons/thumb/4/4c/Wikisource-logo.svg/53px-Wikisource-logo.svg.png 1.5x, //upload.wikimedia.org/wikipedia/commons/thumb/4/4c/Wikisource-logo.svg/70px-Wikisource-logo.svg.png 2x\" width=\"35\"/></a></div>\n",
            "<div><span><a class=\"extiw\" href=\"https://en.wikisource.org/wiki/\" title=\"s:\">Wikisource</a></span><br/>Free-content library</div>\n",
            "</li>\n",
            "<li>\n",
            "<div><a href=\"https://species.wikimedia.org/wiki/\" title=\"Wikispecies\"><img alt=\"Wikispecies logo\" data-file-height=\"1103\" data-file-width=\"941\" decoding=\"async\" height=\"41\" src=\"//upload.wikimedia.org/wikipedia/commons/thumb/d/df/Wikispecies-logo.svg/35px-Wikispecies-logo.svg.png\" srcset=\"//upload.wikimedia.org/wikipedia/commons/thumb/d/df/Wikispecies-logo.svg/53px-Wikispecies-logo.svg.png 1.5x, //upload.wikimedia.org/wikipedia/commons/thumb/d/df/Wikispecies-logo.svg/70px-Wikispecies-logo.svg.png 2x\" width=\"35\"/></a></div>\n",
            "<div><span><a class=\"extiw\" href=\"https://species.wikimedia.org/wiki/\" title=\"species:\">Wikispecies</a></span><br/>Directory of species</div>\n",
            "</li>\n",
            "<li>\n",
            "<div><a href=\"https://en.wikiversity.org/wiki/\" title=\"Wikiversity\"><img alt=\"Wikiversity logo\" data-file-height=\"512\" data-file-width=\"626\" decoding=\"async\" height=\"34\" src=\"//upload.wikimedia.org/wikipedia/commons/thumb/0/0b/Wikiversity_logo_2017.svg/41px-Wikiversity_logo_2017.svg.png\" srcset=\"//upload.wikimedia.org/wikipedia/commons/thumb/0/0b/Wikiversity_logo_2017.svg/62px-Wikiversity_logo_2017.svg.png 1.5x, //upload.wikimedia.org/wikipedia/commons/thumb/0/0b/Wikiversity_logo_2017.svg/82px-Wikiversity_logo_2017.svg.png 2x\" width=\"41\"/></a></div>\n",
            "<div><span><a class=\"extiw\" href=\"https://en.wikiversity.org/wiki/\" title=\"v:\">Wikiversity</a></span><br/>Free learning tools</div>\n",
            "</li>\n",
            "<li>\n",
            "<div><a href=\"https://en.wikivoyage.org/wiki/\" title=\"Wikivoyage\"><img alt=\"Wikivoyage logo\" data-file-height=\"193\" data-file-width=\"193\" decoding=\"async\" height=\"35\" src=\"//upload.wikimedia.org/wikipedia/commons/thumb/d/dd/Wikivoyage-Logo-v3-icon.svg/35px-Wikivoyage-Logo-v3-icon.svg.png\" srcset=\"//upload.wikimedia.org/wikipedia/commons/thumb/d/dd/Wikivoyage-Logo-v3-icon.svg/53px-Wikivoyage-Logo-v3-icon.svg.png 1.5x, //upload.wikimedia.org/wikipedia/commons/thumb/d/dd/Wikivoyage-Logo-v3-icon.svg/70px-Wikivoyage-Logo-v3-icon.svg.png 2x\" width=\"35\"/></a></div>\n",
            "<div><span><a class=\"extiw\" href=\"https://en.wikivoyage.org/wiki/\" title=\"voy:\">Wikivoyage</a></span><br/>Free travel guide</div>\n",
            "</li>\n",
            "<li>\n",
            "<div><a href=\"https://en.wiktionary.org/wiki/\" title=\"Wiktionary\"><img alt=\"Wiktionary logo\" data-file-height=\"391\" data-file-width=\"391\" decoding=\"async\" height=\"35\" src=\"//upload.wikimedia.org/wikipedia/en/thumb/0/06/Wiktionary-logo-v2.svg/35px-Wiktionary-logo-v2.svg.png\" srcset=\"//upload.wikimedia.org/wikipedia/en/thumb/0/06/Wiktionary-logo-v2.svg/53px-Wiktionary-logo-v2.svg.png 1.5x, //upload.wikimedia.org/wikipedia/en/thumb/0/06/Wiktionary-logo-v2.svg/70px-Wiktionary-logo-v2.svg.png 2x\" width=\"35\"/></a></div>\n",
            "<div><span><a class=\"extiw\" href=\"https://en.wiktionary.org/wiki/\" title=\"wikt:\">Wiktionary</a></span><br/>Dictionary and thesaurus</div>\n",
            "</li>\n",
            "</ul>\n",
            "</div></div>\n",
            "<h2 class=\"mp-h2\" id=\"mp-lang\"><span class=\"mw-headline\" id=\"Wikipedia_languages\">Wikipedia languages</span></h2>\n",
            "<div><style data-mw-deduplicate=\"TemplateStyles:r997272951\">.mw-parser-output .wikipedia-languages-complete{font-weight:bold}.mw-parser-output .wikipedia-languages ul{margin-left:0}.mw-parser-output .wikipedia-languages ul a{white-space:nowrap}.mw-parser-output .wikipedia-languages>ul{list-style:none;text-align:center;clear:both}.mw-parser-output .wikipedia-languages-count-container{width:90%;display:flex;justify-content:center;padding-top:1em;margin:0 auto}.mw-parser-output .wikipedia-languages-prettybars{width:100%;height:1px;margin:0.5em 0;background-color:#c8ccd1;flex-shrink:1;align-self:center}.mw-parser-output .wikipedia-languages-count{padding:0 1em;white-space:nowrap}</style>\n",
            "<div class=\"wikipedia-languages nourlexpansion\">\n",
            "<p>This Wikipedia is written in <a href=\"/wiki/English_language\" title=\"English language\">English</a>. Many <a class=\"extiw\" href=\"https://meta.wikimedia.org/wiki/List_of_Wikipedias\" title=\"meta:List of Wikipedias\">other Wikipedias are available</a>; some of the largest are listed below.\n",
            "</p>\n",
            "<ul class=\"plainlinks\">\n",
            "<li>\n",
            "<div class=\"wikipedia-languages-count-container\">\n",
            "<div class=\"wikipedia-languages-prettybars\"></div>\n",
            "<div class=\"wikipedia-languages-count\" role=\"heading\">1,000,000+ articles</div>\n",
            "<div class=\"wikipedia-languages-prettybars\"></div>\n",
            "</div>\n",
            "<ul class=\"wikipedia-languages-langs hlist hlist-separated inline\">\n",
            "<li><a class=\"external text\" href=\"https://ar.wikipedia.org/wiki/\"><span class=\"autonym\" lang=\"ar\" title=\"Arabic (ar:)\">العربية</span></a></li>\n",
            "<li><a class=\"external text\" href=\"https://de.wikipedia.org/wiki/\"><span class=\"autonym\" lang=\"de\" title=\"German (de:)\">Deutsch</span></a></li>\n",
            "<li><a class=\"external text\" href=\"https://es.wikipedia.org/wiki/\"><span class=\"autonym\" lang=\"es\" title=\"Spanish (es:)\">Español</span></a></li>\n",
            "<li><a class=\"external text\" href=\"https://fr.wikipedia.org/wiki/\"><span class=\"autonym\" lang=\"fr\" title=\"French (fr:)\">Français</span></a></li>\n",
            "<li><a class=\"external text\" href=\"https://it.wikipedia.org/wiki/\"><span class=\"autonym\" lang=\"it\" title=\"Italian (it:)\">Italiano</span></a></li>\n",
            "<li><a class=\"external text\" href=\"https://nl.wikipedia.org/wiki/\"><span class=\"autonym\" lang=\"nl\" title=\"Dutch (nl:)\">Nederlands</span></a></li>\n",
            "<li><a class=\"external text\" href=\"https://ja.wikipedia.org/wiki/\"><span class=\"autonym\" lang=\"ja\" title=\"Japanese (ja:)\">日本語</span></a></li>\n",
            "<li><a class=\"external text\" href=\"https://pl.wikipedia.org/wiki/\"><span class=\"autonym\" lang=\"pl\" title=\"Polish (pl:)\">Polski</span></a></li>\n",
            "<li><a class=\"external text\" href=\"https://pt.wikipedia.org/wiki/\"><span class=\"autonym\" lang=\"pt\" title=\"Portuguese (pt:)\">Português</span></a></li>\n",
            "<li><a class=\"external text\" href=\"https://ru.wikipedia.org/wiki/\"><span class=\"autonym\" lang=\"ru\" title=\"Russian (ru:)\">Русский</span></a></li>\n",
            "<li><a class=\"external text\" href=\"https://sv.wikipedia.org/wiki/\"><span class=\"autonym\" lang=\"sv\" title=\"Swedish (sv:)\">Svenska</span></a></li>\n",
            "<li><a class=\"external text\" href=\"https://uk.wikipedia.org/wiki/\"><span class=\"autonym\" lang=\"uk\" title=\"Ukrainian (uk:)\">Українська</span></a></li>\n",
            "<li><a class=\"external text\" href=\"https://vi.wikipedia.org/wiki/\"><span class=\"autonym\" lang=\"vi\" title=\"Vietnamese (vi:)\">Tiếng Việt</span></a></li>\n",
            "<li><a class=\"external text\" href=\"https://zh.wikipedia.org/wiki/\"><span class=\"autonym\" lang=\"zh\" title=\"Chinese (zh:)\">中文</span></a></li>\n",
            "</ul>\n",
            "</li>\n",
            "<li>\n",
            "<div class=\"wikipedia-languages-count-container\">\n",
            "<div class=\"wikipedia-languages-prettybars\"></div>\n",
            "<div class=\"wikipedia-languages-count\" role=\"heading\">250,000+ articles</div>\n",
            "<div class=\"wikipedia-languages-prettybars\"></div>\n",
            "</div>\n",
            "<ul class=\"wikipedia-languages-langs hlist hlist-separated inline\">\n",
            "<li><a class=\"external text\" href=\"https://id.wikipedia.org/wiki/\"><span class=\"autonym\" lang=\"id\" title=\"Indonesian (id:)\">Bahasa Indonesia</span></a></li>\n",
            "<li><a class=\"external text\" href=\"https://ms.wikipedia.org/wiki/\"><span class=\"autonym\" lang=\"ms\" title=\"Malay (ms:)\">Bahasa Melayu</span></a></li>\n",
            "<li><a class=\"external text\" href=\"https://zh-min-nan.wikipedia.org/wiki/\"><span class=\"autonym\" lang=\"nan\" title=\"Min Nan Chinese (nan:)\">Bân-lâm-gú</span></a></li>\n",
            "<li><a class=\"external text\" href=\"https://bg.wikipedia.org/wiki/\"><span class=\"autonym\" lang=\"bg\" title=\"Bulgarian (bg:)\">Български</span></a></li>\n",
            "<li><a class=\"external text\" href=\"https://ca.wikipedia.org/wiki/\"><span class=\"autonym\" lang=\"ca\" title=\"Catalan (ca:)\">Català</span></a></li>\n",
            "<li><a class=\"external text\" href=\"https://cs.wikipedia.org/wiki/\"><span class=\"autonym\" lang=\"cs\" title=\"Czech (cs:)\">Čeština</span></a></li>\n",
            "<li><a class=\"external text\" href=\"https://da.wikipedia.org/wiki/\"><span class=\"autonym\" lang=\"da\" title=\"Danish (da:)\">Dansk</span></a></li>\n",
            "<li><a class=\"external text\" href=\"https://eo.wikipedia.org/wiki/\"><span class=\"autonym\" lang=\"eo\" title=\"Esperanto (eo:)\">Esperanto</span></a></li>\n",
            "<li><a class=\"external text\" href=\"https://eu.wikipedia.org/wiki/\"><span class=\"autonym\" lang=\"eu\" title=\"Basque (eu:)\">Euskara</span></a></li>\n",
            "<li><a class=\"external text\" href=\"https://fa.wikipedia.org/wiki/\"><span class=\"autonym\" lang=\"fa\" title=\"Persian (fa:)\">فارسی</span></a>‎</li>\n",
            "<li><a class=\"external text\" href=\"https://he.wikipedia.org/wiki/\"><span class=\"autonym\" lang=\"he\" title=\"Hebrew (he:)\">עברית</span></a></li>\n",
            "<li><a class=\"external text\" href=\"https://ko.wikipedia.org/wiki/\"><span class=\"autonym\" lang=\"ko\" title=\"Korean (ko:)\">한국어</span></a></li>\n",
            "<li><a class=\"external text\" href=\"https://hu.wikipedia.org/wiki/\"><span class=\"autonym\" lang=\"hu\" title=\"Hungarian (hu:)\">Magyar</span></a></li>\n",
            "<li><a class=\"external text\" href=\"https://no.wikipedia.org/wiki/\"><span class=\"autonym\" lang=\"no\" title=\"Norwegian (no:)\">Norsk Bokmål</span></a></li>\n",
            "<li><a class=\"external text\" href=\"https://ro.wikipedia.org/wiki/\"><span class=\"autonym\" lang=\"ro\" title=\"Romanian (ro:)\">Română</span></a></li>\n",
            "<li><a class=\"external text\" href=\"https://sr.wikipedia.org/wiki/\"><span class=\"autonym\" lang=\"sr\" title=\"Serbian (sr:)\">Srpski</span></a></li>\n",
            "<li><a class=\"external text\" href=\"https://sh.wikipedia.org/wiki/\"><span class=\"autonym\" lang=\"sh\" title=\"Serbo-Croatian (sh:)\">Srpskohrvatski</span></a></li>\n",
            "<li><a class=\"external text\" href=\"https://fi.wikipedia.org/wiki/\"><span class=\"autonym\" lang=\"fi\" title=\"Finnish (fi:)\">Suomi</span></a></li>\n",
            "<li><a class=\"external text\" href=\"https://tr.wikipedia.org/wiki/\"><span class=\"autonym\" lang=\"tr\" title=\"Turkish (tr:)\">Türkçe</span></a></li>\n",
            "</ul>\n",
            "</li>\n",
            "<li>\n",
            "<div class=\"wikipedia-languages-count-container\">\n",
            "<div class=\"wikipedia-languages-prettybars\"></div>\n",
            "<div class=\"wikipedia-languages-count\" role=\"heading\">50,000+ articles</div>\n",
            "<div class=\"wikipedia-languages-prettybars\"></div>\n",
            "</div>\n",
            "<ul class=\"wikipedia-languages-langs hlist hlist-separated inline\">\n",
            "<li><a class=\"external text\" href=\"https://ast.wikipedia.org/wiki/\"><span class=\"autonym\" lang=\"ast\" title=\"Asturian (ast:)\">Asturianu</span></a></li>\n",
            "<li><a class=\"external text\" href=\"https://bn.wikipedia.org/wiki/\"><span class=\"autonym\" lang=\"bn\" title=\"Bangla (bn:)\">বাংলা</span></a></li>\n",
            "<li><a class=\"external text\" href=\"https://bs.wikipedia.org/wiki/\"><span class=\"autonym\" lang=\"bs\" title=\"Bosnian (bs:)\">Bosanski</span></a></li>\n",
            "<li><a class=\"external text\" href=\"https://et.wikipedia.org/wiki/\"><span class=\"autonym\" lang=\"et\" title=\"Estonian (et:)\">Eesti</span></a></li>\n",
            "<li><a class=\"external text\" href=\"https://el.wikipedia.org/wiki/\"><span class=\"autonym\" lang=\"el\" title=\"Greek (el:)\">Ελληνικά</span></a></li>\n",
            "<li><a class=\"external text\" href=\"https://simple.wikipedia.org/wiki/\"><span class=\"autonym\" lang=\"simple\" title=\"Simple English (simple:)\">Simple English</span></a></li>\n",
            "<li><a class=\"external text\" href=\"https://gl.wikipedia.org/wiki/\"><span class=\"autonym\" lang=\"gl\" title=\"Galician (gl:)\">Galego</span></a></li>\n",
            "<li><a class=\"external text\" href=\"https://hr.wikipedia.org/wiki/\"><span class=\"autonym\" lang=\"hr\" title=\"Croatian (hr:)\">Hrvatski</span></a></li>\n",
            "<li><a class=\"external text\" href=\"https://lv.wikipedia.org/wiki/\"><span class=\"autonym\" lang=\"lv\" title=\"Latvian (lv:)\">Latviešu</span></a></li>\n",
            "<li><a class=\"external text\" href=\"https://lt.wikipedia.org/wiki/\"><span class=\"autonym\" lang=\"lt\" title=\"Lithuanian (lt:)\">Lietuvių</span></a></li>\n",
            "<li><a class=\"external text\" href=\"https://ml.wikipedia.org/wiki/\"><span class=\"autonym\" lang=\"ml\" title=\"Malayalam (ml:)\">മലയാളം</span></a></li>\n",
            "<li><a class=\"external text\" href=\"https://mk.wikipedia.org/wiki/\"><span class=\"autonym\" lang=\"mk\" title=\"Macedonian (mk:)\">Македонски</span></a></li>\n",
            "<li><a class=\"external text\" href=\"https://nn.wikipedia.org/wiki/\"><span class=\"autonym\" lang=\"nn\" title=\"Norwegian Nynorsk (nn:)\">Norsk nynorsk</span></a></li>\n",
            "<li><a class=\"external text\" href=\"https://sq.wikipedia.org/wiki/\"><span class=\"autonym\" lang=\"sq\" title=\"Albanian (sq:)\">Shqip</span></a></li>\n",
            "<li><a class=\"external text\" href=\"https://sk.wikipedia.org/wiki/\"><span class=\"autonym\" lang=\"sk\" title=\"Slovak (sk:)\">Slovenčina</span></a></li>\n",
            "<li><a class=\"external text\" href=\"https://sl.wikipedia.org/wiki/\"><span class=\"autonym\" lang=\"sl\" title=\"Slovenian (sl:)\">Slovenščina</span></a></li>\n",
            "<li><a class=\"external text\" href=\"https://th.wikipedia.org/wiki/\"><span class=\"autonym\" lang=\"th\" title=\"Thai (th:)\">ไทย</span></a></li>\n",
            "</ul>\n",
            "</li>\n",
            "</ul>\n",
            "</div></div>\n",
            "</div>\n",
            "<!-- \n",
            "NewPP limit report\n",
            "Parsed by mw2310\n",
            "Cached time: 20221026173219\n",
            "Cache expiry: 3600\n",
            "Reduced expiry: true\n",
            "Complications: []\n",
            "CPU time usage: 0.219 seconds\n",
            "Real time usage: 0.330 seconds\n",
            "Preprocessor visited node count: 3918/1000000\n",
            "Post‐expand include size: 113504/2097152 bytes\n",
            "Template argument size: 8860/2097152 bytes\n",
            "Highest expansion depth: 18/100\n",
            "Expensive parser function count: 13/500\n",
            "Unstrip recursion depth: 0/20\n",
            "Unstrip post‐expand size: 3979/5000000 bytes\n",
            "Lua time usage: 0.049/10.000 seconds\n",
            "Lua memory usage: 1915907/52428800 bytes\n",
            "Number of Wikibase entities loaded: 0/400\n",
            "-->\n",
            "<!--\n",
            "Transclusion expansion time report (%,ms,calls,template)\n",
            "100.00%  225.440      1 -total\n",
            " 38.65%   87.128      1 Wikipedia:Main_Page/Tomorrow\n",
            " 28.07%   63.281      8 Template:Main_page_image\n",
            " 19.95%   44.969      8 Template:Str_number/trim\n",
            " 18.87%   42.550      1 Wikipedia:Today's_featured_article/October_26,_2022\n",
            " 18.22%   41.069      1 Template:Did_you_know/Queue/7\n",
            " 16.43%   37.040      2 Template:Main_page_image/TFA\n",
            " 14.83%   33.429      1 Template:DYKbotdo\n",
            " 13.46%   30.338      1 Template:Mbox\n",
            " 13.23%   29.830      2 Template:Wikipedia_languages\n",
            "-->\n",
            "<!-- Saved in parser cache with key enwiki:pcache:idhash:15580374-0!canonical and timestamp 20221026173218 and revision id 1114291180.\n",
            " -->\n",
            "</div><noscript><img alt=\"\" height=\"1\" src=\"//en.wikipedia.org/wiki/Special:CentralAutoLogin/start?type=1x1\" style=\"border: none; position: absolute;\" title=\"\" width=\"1\"/></noscript>\n",
            "<div class=\"printfooter\" data-nosnippet=\"\">Retrieved from \"<a dir=\"ltr\" href=\"https://en.wikipedia.org/w/index.php?title=Main_Page&amp;oldid=1114291180\">https://en.wikipedia.org/w/index.php?title=Main_Page&amp;oldid=1114291180</a>\"</div></div>\n",
            "<div class=\"catlinks catlinks-allhidden\" data-mw=\"interface\" id=\"catlinks\"></div>\n",
            "</div>\n",
            "</div>\n",
            "<div id=\"mw-navigation\">\n",
            "<h2>Navigation menu</h2>\n",
            "<div id=\"mw-head\">\n",
            "<nav aria-labelledby=\"p-personal-label\" class=\"vector-menu mw-portlet mw-portlet-personal vector-user-menu-legacy\" id=\"p-personal\" role=\"navigation\">\n",
            "<h3 class=\"vector-menu-heading \" id=\"p-personal-label\">\n",
            "<span class=\"vector-menu-heading-label\">Personal tools</span>\n",
            "</h3>\n",
            "<div class=\"vector-menu-content\">\n",
            "<ul class=\"vector-menu-content-list\"><li class=\"mw-list-item\" id=\"pt-anonuserpage\"><span title=\"The user page for the IP address you are editing as\">Not logged in</span></li><li class=\"mw-list-item\" id=\"pt-anontalk\"><a accesskey=\"n\" href=\"/wiki/Special:MyTalk\" title=\"Discussion about edits from this IP address [n]\"><span>Talk</span></a></li><li class=\"mw-list-item\" id=\"pt-anoncontribs\"><a accesskey=\"y\" href=\"/wiki/Special:MyContributions\" title=\"A list of edits made from this IP address [y]\"><span>Contributions</span></a></li><li class=\"mw-list-item\" id=\"pt-createaccount\"><a href=\"/w/index.php?title=Special:CreateAccount&amp;returnto=Main+Page\" title=\"You are encouraged to create an account and log in; however, it is not mandatory\"><span>Create account</span></a></li><li class=\"mw-list-item\" id=\"pt-login\"><a accesskey=\"o\" href=\"/w/index.php?title=Special:UserLogin&amp;returnto=Main+Page\" title=\"You're encouraged to log in; however, it's not mandatory. [o]\"><span>Log in</span></a></li></ul>\n",
            "</div>\n",
            "</nav>\n",
            "<div id=\"left-navigation\">\n",
            "<nav aria-labelledby=\"p-namespaces-label\" class=\"vector-menu mw-portlet mw-portlet-namespaces vector-menu-tabs vector-menu-tabs-legacy\" id=\"p-namespaces\" role=\"navigation\">\n",
            "<h3 class=\"vector-menu-heading \" id=\"p-namespaces-label\">\n",
            "<span class=\"vector-menu-heading-label\">Namespaces</span>\n",
            "</h3>\n",
            "<div class=\"vector-menu-content\">\n",
            "<ul class=\"vector-menu-content-list\"><li class=\"selected mw-list-item\" id=\"ca-nstab-main\"><a accesskey=\"c\" href=\"/wiki/Main_Page\" title=\"View the content page [c]\"><span>Main Page</span></a></li><li class=\"mw-list-item\" id=\"ca-talk\"><a accesskey=\"t\" href=\"/wiki/Talk:Main_Page\" rel=\"discussion\" title=\"Discuss improvements to the content page [t]\"><span>Talk</span></a></li></ul>\n",
            "</div>\n",
            "</nav>\n",
            "<nav aria-labelledby=\"p-variants-label\" class=\"vector-menu mw-portlet mw-portlet-variants emptyPortlet vector-menu-dropdown-noicon vector-menu-dropdown\" id=\"p-variants\" role=\"navigation\">\n",
            "<input aria-haspopup=\"true\" aria-labelledby=\"p-variants-label\" class=\"vector-menu-checkbox\" data-event-name=\"ui.dropdown-p-variants\" id=\"p-variants-checkbox\" role=\"button\" type=\"checkbox\"/>\n",
            "<label aria-label=\"Change language variant\" class=\"vector-menu-heading \" id=\"p-variants-label\">\n",
            "<span class=\"vector-menu-heading-label\">English</span>\n",
            "</label>\n",
            "<div class=\"vector-menu-content\">\n",
            "<ul class=\"vector-menu-content-list\"></ul>\n",
            "</div>\n",
            "</nav>\n",
            "</div>\n",
            "<div id=\"right-navigation\">\n",
            "<nav aria-labelledby=\"p-views-label\" class=\"vector-menu mw-portlet mw-portlet-views vector-menu-tabs vector-menu-tabs-legacy\" id=\"p-views\" role=\"navigation\">\n",
            "<h3 class=\"vector-menu-heading \" id=\"p-views-label\">\n",
            "<span class=\"vector-menu-heading-label\">Views</span>\n",
            "</h3>\n",
            "<div class=\"vector-menu-content\">\n",
            "<ul class=\"vector-menu-content-list\"><li class=\"selected vector-tab-noicon mw-list-item\" id=\"ca-view\"><a href=\"/wiki/Main_Page\"><span>Read</span></a></li><li class=\"vector-tab-noicon mw-list-item\" id=\"ca-viewsource\"><a accesskey=\"e\" href=\"/w/index.php?title=Main_Page&amp;action=edit\" title=\"This page is protected.\n",
            "You can view its source [e]\"><span>View source</span></a></li><li class=\"vector-tab-noicon mw-list-item\" id=\"ca-history\"><a accesskey=\"h\" href=\"/w/index.php?title=Main_Page&amp;action=history\" title=\"Past revisions of this page [h]\"><span>View history</span></a></li></ul>\n",
            "</div>\n",
            "</nav>\n",
            "<nav aria-labelledby=\"p-cactions-label\" class=\"vector-menu mw-portlet mw-portlet-cactions emptyPortlet vector-menu-dropdown-noicon vector-menu-dropdown\" id=\"p-cactions\" role=\"navigation\" title=\"More options\">\n",
            "<input aria-haspopup=\"true\" aria-labelledby=\"p-cactions-label\" class=\"vector-menu-checkbox\" data-event-name=\"ui.dropdown-p-cactions\" id=\"p-cactions-checkbox\" role=\"button\" type=\"checkbox\"/>\n",
            "<label class=\"vector-menu-heading \" id=\"p-cactions-label\">\n",
            "<span class=\"vector-menu-heading-label\">More</span>\n",
            "</label>\n",
            "<div class=\"vector-menu-content\">\n",
            "<ul class=\"vector-menu-content-list\"></ul>\n",
            "</div>\n",
            "</nav>\n",
            "<div class=\"vector-search-box-vue vector-search-box-show-thumbnail vector-search-box-auto-expand-width vector-search-box\" id=\"p-search\" role=\"search\">\n",
            "<div>\n",
            "<h3>\n",
            "<label for=\"searchInput\">Search</label>\n",
            "</h3>\n",
            "<form action=\"/w/index.php\" class=\"vector-search-box-form\" id=\"searchform\">\n",
            "<div class=\"vector-search-box-inner\" data-search-loc=\"header-navigation\" id=\"simpleSearch\">\n",
            "<input accesskey=\"f\" aria-label=\"Search Wikipedia\" autocapitalize=\"sentences\" class=\"vector-search-box-input\" id=\"searchInput\" name=\"search\" placeholder=\"Search Wikipedia\" title=\"Search Wikipedia [f]\" type=\"search\"/>\n",
            "<input name=\"title\" type=\"hidden\" value=\"Special:Search\"/>\n",
            "<input class=\"searchButton mw-fallbackSearchButton\" id=\"mw-searchButton\" name=\"fulltext\" title=\"Search Wikipedia for this text\" type=\"submit\" value=\"Search\"/>\n",
            "<input class=\"searchButton\" id=\"searchButton\" name=\"go\" title=\"Go to a page with this exact name if it exists\" type=\"submit\" value=\"Go\"/>\n",
            "</div>\n",
            "</form>\n",
            "</div>\n",
            "</div>\n",
            "</div>\n",
            "</div>\n",
            "<div id=\"mw-panel\">\n",
            "<div id=\"p-logo\" role=\"banner\">\n",
            "<a class=\"mw-wiki-logo\" href=\"/wiki/Main_Page\" title=\"Visit the main page\"></a>\n",
            "</div>\n",
            "<nav aria-labelledby=\"p-navigation-label\" class=\"vector-menu mw-portlet mw-portlet-navigation vector-menu-portal portal\" id=\"p-navigation\" role=\"navigation\">\n",
            "<h3 class=\"vector-menu-heading \" id=\"p-navigation-label\">\n",
            "<span class=\"vector-menu-heading-label\">Navigation</span>\n",
            "</h3>\n",
            "<div class=\"vector-menu-content\">\n",
            "<ul class=\"vector-menu-content-list\"><li class=\"mw-list-item\" id=\"n-mainpage-description\"><a accesskey=\"z\" href=\"/wiki/Main_Page\" title=\"Visit the main page [z]\"><span>Main page</span></a></li><li class=\"mw-list-item\" id=\"n-contents\"><a href=\"/wiki/Wikipedia:Contents\" title=\"Guides to browsing Wikipedia\"><span>Contents</span></a></li><li class=\"mw-list-item\" id=\"n-currentevents\"><a href=\"/wiki/Portal:Current_events\" title=\"Articles related to current events\"><span>Current events</span></a></li><li class=\"mw-list-item\" id=\"n-randompage\"><a accesskey=\"x\" href=\"/wiki/Special:Random\" title=\"Visit a randomly selected article [x]\"><span>Random article</span></a></li><li class=\"mw-list-item\" id=\"n-aboutsite\"><a href=\"/wiki/Wikipedia:About\" title=\"Learn about Wikipedia and how it works\"><span>About Wikipedia</span></a></li><li class=\"mw-list-item\" id=\"n-contactpage\"><a href=\"//en.wikipedia.org/wiki/Wikipedia:Contact_us\" title=\"How to contact Wikipedia\"><span>Contact us</span></a></li><li class=\"mw-list-item\" id=\"n-sitesupport\"><a href=\"https://donate.wikimedia.org/wiki/Special:FundraiserRedirector?utm_source=donate&amp;utm_medium=sidebar&amp;utm_campaign=C13_en.wikipedia.org&amp;uselang=en\" title=\"Support us by donating to the Wikimedia Foundation\"><span>Donate</span></a></li></ul>\n",
            "</div>\n",
            "</nav>\n",
            "<nav aria-labelledby=\"p-interaction-label\" class=\"vector-menu mw-portlet mw-portlet-interaction vector-menu-portal portal\" id=\"p-interaction\" role=\"navigation\">\n",
            "<h3 class=\"vector-menu-heading \" id=\"p-interaction-label\">\n",
            "<span class=\"vector-menu-heading-label\">Contribute</span>\n",
            "</h3>\n",
            "<div class=\"vector-menu-content\">\n",
            "<ul class=\"vector-menu-content-list\"><li class=\"mw-list-item\" id=\"n-help\"><a href=\"/wiki/Help:Contents\" title=\"Guidance on how to use and edit Wikipedia\"><span>Help</span></a></li><li class=\"mw-list-item\" id=\"n-introduction\"><a href=\"/wiki/Help:Introduction\" title=\"Learn how to edit Wikipedia\"><span>Learn to edit</span></a></li><li class=\"mw-list-item\" id=\"n-portal\"><a href=\"/wiki/Wikipedia:Community_portal\" title=\"The hub for editors\"><span>Community portal</span></a></li><li class=\"mw-list-item\" id=\"n-recentchanges\"><a accesskey=\"r\" href=\"/wiki/Special:RecentChanges\" title=\"A list of recent changes to Wikipedia [r]\"><span>Recent changes</span></a></li><li class=\"mw-list-item\" id=\"n-upload\"><a href=\"/wiki/Wikipedia:File_Upload_Wizard\" title=\"Add images or other media for use on Wikipedia\"><span>Upload file</span></a></li></ul>\n",
            "</div>\n",
            "</nav>\n",
            "<nav aria-labelledby=\"p-tb-label\" class=\"vector-menu mw-portlet mw-portlet-tb vector-menu-portal portal\" id=\"p-tb\" role=\"navigation\">\n",
            "<h3 class=\"vector-menu-heading \" id=\"p-tb-label\">\n",
            "<span class=\"vector-menu-heading-label\">Tools</span>\n",
            "</h3>\n",
            "<div class=\"vector-menu-content\">\n",
            "<ul class=\"vector-menu-content-list\"><li class=\"mw-list-item\" id=\"t-whatlinkshere\"><a accesskey=\"j\" href=\"/wiki/Special:WhatLinksHere/Main_Page\" title=\"List of all English Wikipedia pages containing links to this page [j]\"><span>What links here</span></a></li><li class=\"mw-list-item\" id=\"t-recentchangeslinked\"><a accesskey=\"k\" href=\"/wiki/Special:RecentChangesLinked/Main_Page\" rel=\"nofollow\" title=\"Recent changes in pages linked from this page [k]\"><span>Related changes</span></a></li><li class=\"mw-list-item\" id=\"t-upload\"><a accesskey=\"u\" href=\"/wiki/Wikipedia:File_Upload_Wizard\" title=\"Upload files [u]\"><span>Upload file</span></a></li><li class=\"mw-list-item\" id=\"t-specialpages\"><a accesskey=\"q\" href=\"/wiki/Special:SpecialPages\" title=\"A list of all special pages [q]\"><span>Special pages</span></a></li><li class=\"mw-list-item\" id=\"t-permalink\"><a href=\"/w/index.php?title=Main_Page&amp;oldid=1114291180\" title=\"Permanent link to this revision of this page\"><span>Permanent link</span></a></li><li class=\"mw-list-item\" id=\"t-info\"><a href=\"/w/index.php?title=Main_Page&amp;action=info\" title=\"More information about this page\"><span>Page information</span></a></li><li class=\"mw-list-item\" id=\"t-cite\"><a href=\"/w/index.php?title=Special:CiteThisPage&amp;page=Main_Page&amp;id=1114291180&amp;wpFormIdentifier=titleform\" title=\"Information on how to cite this page\"><span>Cite this page</span></a></li><li class=\"mw-list-item\" id=\"t-wikibase\"><a accesskey=\"g\" href=\"https://www.wikidata.org/wiki/Special:EntityPage/Q5296\" title=\"Structured data on this page hosted by Wikidata [g]\"><span>Wikidata item</span></a></li></ul>\n",
            "</div>\n",
            "</nav>\n",
            "<nav aria-labelledby=\"p-coll-print_export-label\" class=\"vector-menu mw-portlet mw-portlet-coll-print_export vector-menu-portal portal\" id=\"p-coll-print_export\" role=\"navigation\">\n",
            "<h3 class=\"vector-menu-heading \" id=\"p-coll-print_export-label\">\n",
            "<span class=\"vector-menu-heading-label\">Print/export</span>\n",
            "</h3>\n",
            "<div class=\"vector-menu-content\">\n",
            "<ul class=\"vector-menu-content-list\"><li class=\"mw-list-item\" id=\"coll-download-as-rl\"><a href=\"/w/index.php?title=Special:DownloadAsPdf&amp;page=Main_Page&amp;action=show-download-screen\" title=\"Download this page as a PDF file\"><span>Download as PDF</span></a></li><li class=\"mw-list-item\" id=\"t-print\"><a accesskey=\"p\" href=\"/w/index.php?title=Main_Page&amp;printable=yes\" title=\"Printable version of this page [p]\"><span>Printable version</span></a></li></ul>\n",
            "</div>\n",
            "</nav>\n",
            "<nav aria-labelledby=\"p-wikibase-otherprojects-label\" class=\"vector-menu mw-portlet mw-portlet-wikibase-otherprojects vector-menu-portal portal\" id=\"p-wikibase-otherprojects\" role=\"navigation\">\n",
            "<h3 class=\"vector-menu-heading \" id=\"p-wikibase-otherprojects-label\">\n",
            "<span class=\"vector-menu-heading-label\">In other projects</span>\n",
            "</h3>\n",
            "<div class=\"vector-menu-content\">\n",
            "<ul class=\"vector-menu-content-list\"><li class=\"wb-otherproject-link wb-otherproject-commons mw-list-item\"><a href=\"https://commons.wikimedia.org/wiki/Main_Page\" hreflang=\"en\"><span>Wikimedia Commons</span></a></li><li class=\"wb-otherproject-link wb-otherproject-mediawiki mw-list-item\"><a href=\"https://www.mediawiki.org/wiki/MediaWiki\" hreflang=\"en\"><span>MediaWiki</span></a></li><li class=\"wb-otherproject-link wb-otherproject-meta mw-list-item\"><a href=\"https://meta.wikimedia.org/wiki/Main_Page\" hreflang=\"en\"><span>Meta-Wiki</span></a></li><li class=\"wb-otherproject-link wb-otherproject-sources mw-list-item\"><a href=\"https://wikisource.org/wiki/Main_Page\" hreflang=\"en\"><span>Multilingual Wikisource</span></a></li><li class=\"wb-otherproject-link wb-otherproject-species mw-list-item\"><a href=\"https://species.wikimedia.org/wiki/Main_Page\" hreflang=\"en\"><span>Wikispecies</span></a></li><li class=\"wb-otherproject-link wb-otherproject-wikibooks mw-list-item\"><a href=\"https://en.wikibooks.org/wiki/Main_Page\" hreflang=\"en\"><span>Wikibooks</span></a></li><li class=\"wb-otherproject-link wb-otherproject-wikidata mw-list-item\"><a href=\"https://www.wikidata.org/wiki/Wikidata:Main_Page\" hreflang=\"en\"><span>Wikidata</span></a></li><li class=\"wb-otherproject-link wb-otherproject-wikimania mw-list-item\"><a href=\"https://wikimania.wikimedia.org/wiki/2022:Wikimania\" hreflang=\"en\"><span>Wikimania</span></a></li><li class=\"wb-otherproject-link wb-otherproject-wikinews mw-list-item\"><a href=\"https://en.wikinews.org/wiki/Main_Page\" hreflang=\"en\"><span>Wikinews</span></a></li><li class=\"wb-otherproject-link wb-otherproject-wikiquote mw-list-item\"><a href=\"https://en.wikiquote.org/wiki/Main_Page\" hreflang=\"en\"><span>Wikiquote</span></a></li><li class=\"wb-otherproject-link wb-otherproject-wikisource mw-list-item\"><a href=\"https://en.wikisource.org/wiki/Main_Page\" hreflang=\"en\"><span>Wikisource</span></a></li><li class=\"wb-otherproject-link wb-otherproject-wikiversity mw-list-item\"><a href=\"https://en.wikiversity.org/wiki/Wikiversity:Main_Page\" hreflang=\"en\"><span>Wikiversity</span></a></li><li class=\"wb-otherproject-link wb-otherproject-wikivoyage mw-list-item\"><a href=\"https://en.wikivoyage.org/wiki/Main_Page\" hreflang=\"en\"><span>Wikivoyage</span></a></li><li class=\"wb-otherproject-link wb-otherproject-wiktionary mw-list-item\"><a href=\"https://en.wiktionary.org/wiki/Wiktionary:Main_Page\" hreflang=\"en\"><span>Wiktionary</span></a></li></ul>\n",
            "</div>\n",
            "</nav>\n",
            "<nav aria-labelledby=\"p-lang-label\" class=\"vector-menu mw-portlet mw-portlet-lang vector-menu-portal portal\" id=\"p-lang\" role=\"navigation\">\n",
            "<h3 class=\"vector-menu-heading \" id=\"p-lang-label\">\n",
            "<span class=\"vector-menu-heading-label\">Languages</span>\n",
            "</h3>\n",
            "<div class=\"vector-menu-content\">\n",
            "<ul class=\"vector-menu-content-list\"><li class=\"interlanguage-link interwiki-ar mw-list-item\"><a class=\"interlanguage-link-target\" href=\"https://ar.wikipedia.org/wiki/\" hreflang=\"ar\" lang=\"ar\" title=\"Arabic\"><span>العربية</span></a></li><li class=\"interlanguage-link interwiki-bn mw-list-item\"><a class=\"interlanguage-link-target\" href=\"https://bn.wikipedia.org/wiki/\" hreflang=\"bn\" lang=\"bn\" title=\"Bangla\"><span>বাংলা</span></a></li><li class=\"interlanguage-link interwiki-bg mw-list-item\"><a class=\"interlanguage-link-target\" href=\"https://bg.wikipedia.org/wiki/\" hreflang=\"bg\" lang=\"bg\" title=\"Bulgarian\"><span>Български</span></a></li><li class=\"interlanguage-link interwiki-bs mw-list-item\"><a class=\"interlanguage-link-target\" href=\"https://bs.wikipedia.org/wiki/\" hreflang=\"bs\" lang=\"bs\" title=\"Bosnian\"><span>Bosanski</span></a></li><li class=\"interlanguage-link interwiki-ca mw-list-item\"><a class=\"interlanguage-link-target\" href=\"https://ca.wikipedia.org/wiki/\" hreflang=\"ca\" lang=\"ca\" title=\"Catalan\"><span>Català</span></a></li><li class=\"interlanguage-link interwiki-cs mw-list-item\"><a class=\"interlanguage-link-target\" href=\"https://cs.wikipedia.org/wiki/\" hreflang=\"cs\" lang=\"cs\" title=\"Czech\"><span>Čeština</span></a></li><li class=\"interlanguage-link interwiki-da mw-list-item\"><a class=\"interlanguage-link-target\" href=\"https://da.wikipedia.org/wiki/\" hreflang=\"da\" lang=\"da\" title=\"Danish\"><span>Dansk</span></a></li><li class=\"interlanguage-link interwiki-de mw-list-item\"><a class=\"interlanguage-link-target\" href=\"https://de.wikipedia.org/wiki/\" hreflang=\"de\" lang=\"de\" title=\"German\"><span>Deutsch</span></a></li><li class=\"interlanguage-link interwiki-et mw-list-item\"><a class=\"interlanguage-link-target\" href=\"https://et.wikipedia.org/wiki/\" hreflang=\"et\" lang=\"et\" title=\"Estonian\"><span>Eesti</span></a></li><li class=\"interlanguage-link interwiki-el mw-list-item\"><a class=\"interlanguage-link-target\" href=\"https://el.wikipedia.org/wiki/\" hreflang=\"el\" lang=\"el\" title=\"Greek\"><span>Ελληνικά</span></a></li><li class=\"interlanguage-link interwiki-es mw-list-item\"><a class=\"interlanguage-link-target\" href=\"https://es.wikipedia.org/wiki/\" hreflang=\"es\" lang=\"es\" title=\"Spanish\"><span>Español</span></a></li><li class=\"interlanguage-link interwiki-eo mw-list-item\"><a class=\"interlanguage-link-target\" href=\"https://eo.wikipedia.org/wiki/\" hreflang=\"eo\" lang=\"eo\" title=\"Esperanto\"><span>Esperanto</span></a></li><li class=\"interlanguage-link interwiki-eu mw-list-item\"><a class=\"interlanguage-link-target\" href=\"https://eu.wikipedia.org/wiki/\" hreflang=\"eu\" lang=\"eu\" title=\"Basque\"><span>Euskara</span></a></li><li class=\"interlanguage-link interwiki-fa mw-list-item\"><a class=\"interlanguage-link-target\" href=\"https://fa.wikipedia.org/wiki/\" hreflang=\"fa\" lang=\"fa\" title=\"Persian\"><span>فارسی</span></a></li><li class=\"interlanguage-link interwiki-fr mw-list-item\"><a class=\"interlanguage-link-target\" href=\"https://fr.wikipedia.org/wiki/\" hreflang=\"fr\" lang=\"fr\" title=\"French\"><span>Français</span></a></li><li class=\"interlanguage-link interwiki-gl mw-list-item\"><a class=\"interlanguage-link-target\" href=\"https://gl.wikipedia.org/wiki/\" hreflang=\"gl\" lang=\"gl\" title=\"Galician\"><span>Galego</span></a></li><li class=\"interlanguage-link interwiki-ko mw-list-item\"><a class=\"interlanguage-link-target\" href=\"https://ko.wikipedia.org/wiki/\" hreflang=\"ko\" lang=\"ko\" title=\"Korean\"><span>한국어</span></a></li><li class=\"interlanguage-link interwiki-hr mw-list-item\"><a class=\"interlanguage-link-target\" href=\"https://hr.wikipedia.org/wiki/\" hreflang=\"hr\" lang=\"hr\" title=\"Croatian\"><span>Hrvatski</span></a></li><li class=\"interlanguage-link interwiki-id mw-list-item\"><a class=\"interlanguage-link-target\" href=\"https://id.wikipedia.org/wiki/\" hreflang=\"id\" lang=\"id\" title=\"Indonesian\"><span>Bahasa Indonesia</span></a></li><li class=\"interlanguage-link interwiki-it mw-list-item\"><a class=\"interlanguage-link-target\" href=\"https://it.wikipedia.org/wiki/\" hreflang=\"it\" lang=\"it\" title=\"Italian\"><span>Italiano</span></a></li><li class=\"interlanguage-link interwiki-he mw-list-item\"><a class=\"interlanguage-link-target\" href=\"https://he.wikipedia.org/wiki/\" hreflang=\"he\" lang=\"he\" title=\"Hebrew\"><span>עברית</span></a></li><li class=\"interlanguage-link interwiki-ka mw-list-item\"><a class=\"interlanguage-link-target\" href=\"https://ka.wikipedia.org/wiki/\" hreflang=\"ka\" lang=\"ka\" title=\"Georgian\"><span>ქართული</span></a></li><li class=\"interlanguage-link interwiki-lv mw-list-item\"><a class=\"interlanguage-link-target\" href=\"https://lv.wikipedia.org/wiki/\" hreflang=\"lv\" lang=\"lv\" title=\"Latvian\"><span>Latviešu</span></a></li><li class=\"interlanguage-link interwiki-lt mw-list-item\"><a class=\"interlanguage-link-target\" href=\"https://lt.wikipedia.org/wiki/\" hreflang=\"lt\" lang=\"lt\" title=\"Lithuanian\"><span>Lietuvių</span></a></li><li class=\"interlanguage-link interwiki-hu mw-list-item\"><a class=\"interlanguage-link-target\" href=\"https://hu.wikipedia.org/wiki/\" hreflang=\"hu\" lang=\"hu\" title=\"Hungarian\"><span>Magyar</span></a></li><li class=\"interlanguage-link interwiki-mk mw-list-item\"><a class=\"interlanguage-link-target\" href=\"https://mk.wikipedia.org/wiki/\" hreflang=\"mk\" lang=\"mk\" title=\"Macedonian\"><span>Македонски</span></a></li><li class=\"interlanguage-link interwiki-ms mw-list-item\"><a class=\"interlanguage-link-target\" href=\"https://ms.wikipedia.org/wiki/\" hreflang=\"ms\" lang=\"ms\" title=\"Malay\"><span>Bahasa Melayu</span></a></li><li class=\"interlanguage-link interwiki-nl mw-list-item\"><a class=\"interlanguage-link-target\" href=\"https://nl.wikipedia.org/wiki/\" hreflang=\"nl\" lang=\"nl\" title=\"Dutch\"><span>Nederlands</span></a></li><li class=\"interlanguage-link interwiki-ja mw-list-item\"><a class=\"interlanguage-link-target\" href=\"https://ja.wikipedia.org/wiki/\" hreflang=\"ja\" lang=\"ja\" title=\"Japanese\"><span>日本語</span></a></li><li class=\"interlanguage-link interwiki-no mw-list-item\"><a class=\"interlanguage-link-target\" href=\"https://no.wikipedia.org/wiki/\" hreflang=\"nb\" lang=\"nb\" title=\"Norwegian Bokmål\"><span>Norsk bokmål</span></a></li><li class=\"interlanguage-link interwiki-nn mw-list-item\"><a class=\"interlanguage-link-target\" href=\"https://nn.wikipedia.org/wiki/\" hreflang=\"nn\" lang=\"nn\" title=\"Norwegian Nynorsk\"><span>Norsk nynorsk</span></a></li><li class=\"interlanguage-link interwiki-pl mw-list-item\"><a class=\"interlanguage-link-target\" href=\"https://pl.wikipedia.org/wiki/\" hreflang=\"pl\" lang=\"pl\" title=\"Polish\"><span>Polski</span></a></li><li class=\"interlanguage-link interwiki-pt mw-list-item\"><a class=\"interlanguage-link-target\" href=\"https://pt.wikipedia.org/wiki/\" hreflang=\"pt\" lang=\"pt\" title=\"Portuguese\"><span>Português</span></a></li><li class=\"interlanguage-link interwiki-ro mw-list-item\"><a class=\"interlanguage-link-target\" href=\"https://ro.wikipedia.org/wiki/\" hreflang=\"ro\" lang=\"ro\" title=\"Romanian\"><span>Română</span></a></li><li class=\"interlanguage-link interwiki-ru mw-list-item\"><a class=\"interlanguage-link-target\" href=\"https://ru.wikipedia.org/wiki/\" hreflang=\"ru\" lang=\"ru\" title=\"Russian\"><span>Русский</span></a></li><li class=\"interlanguage-link interwiki-simple mw-list-item\"><a class=\"interlanguage-link-target\" href=\"https://simple.wikipedia.org/wiki/\" hreflang=\"en-simple\" lang=\"en-simple\" title=\"Simple English\"><span>Simple English</span></a></li><li class=\"interlanguage-link interwiki-sk mw-list-item\"><a class=\"interlanguage-link-target\" href=\"https://sk.wikipedia.org/wiki/\" hreflang=\"sk\" lang=\"sk\" title=\"Slovak\"><span>Slovenčina</span></a></li><li class=\"interlanguage-link interwiki-sl mw-list-item\"><a class=\"interlanguage-link-target\" href=\"https://sl.wikipedia.org/wiki/\" hreflang=\"sl\" lang=\"sl\" title=\"Slovenian\"><span>Slovenščina</span></a></li><li class=\"interlanguage-link interwiki-sr mw-list-item\"><a class=\"interlanguage-link-target\" href=\"https://sr.wikipedia.org/wiki/\" hreflang=\"sr\" lang=\"sr\" title=\"Serbian\"><span>Српски / srpski</span></a></li><li class=\"interlanguage-link interwiki-sh mw-list-item\"><a class=\"interlanguage-link-target\" href=\"https://sh.wikipedia.org/wiki/\" hreflang=\"sh\" lang=\"sh\" title=\"Serbo-Croatian\"><span>Srpskohrvatski / српскохрватски</span></a></li><li class=\"interlanguage-link interwiki-fi mw-list-item\"><a class=\"interlanguage-link-target\" href=\"https://fi.wikipedia.org/wiki/\" hreflang=\"fi\" lang=\"fi\" title=\"Finnish\"><span>Suomi</span></a></li><li class=\"interlanguage-link interwiki-sv mw-list-item\"><a class=\"interlanguage-link-target\" href=\"https://sv.wikipedia.org/wiki/\" hreflang=\"sv\" lang=\"sv\" title=\"Swedish\"><span>Svenska</span></a></li><li class=\"interlanguage-link interwiki-th mw-list-item\"><a class=\"interlanguage-link-target\" href=\"https://th.wikipedia.org/wiki/\" hreflang=\"th\" lang=\"th\" title=\"Thai\"><span>ไทย</span></a></li><li class=\"interlanguage-link interwiki-tr mw-list-item\"><a class=\"interlanguage-link-target\" href=\"https://tr.wikipedia.org/wiki/\" hreflang=\"tr\" lang=\"tr\" title=\"Turkish\"><span>Türkçe</span></a></li><li class=\"interlanguage-link interwiki-uk mw-list-item\"><a class=\"interlanguage-link-target\" href=\"https://uk.wikipedia.org/wiki/\" hreflang=\"uk\" lang=\"uk\" title=\"Ukrainian\"><span>Українська</span></a></li><li class=\"interlanguage-link interwiki-vi mw-list-item\"><a class=\"interlanguage-link-target\" href=\"https://vi.wikipedia.org/wiki/\" hreflang=\"vi\" lang=\"vi\" title=\"Vietnamese\"><span>Tiếng Việt</span></a></li><li class=\"interlanguage-link interwiki-zh mw-list-item\"><a class=\"interlanguage-link-target\" href=\"https://zh.wikipedia.org/wiki/\" hreflang=\"zh\" lang=\"zh\" title=\"Chinese\"><span>中文</span></a></li></ul>\n",
            "</div>\n",
            "</nav>\n",
            "</div>\n",
            "</div>\n",
            "<footer class=\"mw-footer\" id=\"footer\" role=\"contentinfo\">\n",
            "<ul id=\"footer-info\">\n",
            "<li id=\"footer-info-lastmod\"> This page was last edited on 5 October 2022, at 19:27<span class=\"anonymous-show\"> (UTC)</span>.</li>\n",
            "<li id=\"footer-info-copyright\">Text is available under the <a href=\"//en.wikipedia.org/wiki/Wikipedia:Text_of_Creative_Commons_Attribution-ShareAlike_3.0_Unported_License\" rel=\"license\">Creative Commons Attribution-ShareAlike License 3.0</a><a href=\"//creativecommons.org/licenses/by-sa/3.0/\" rel=\"license\" style=\"display:none;\"></a>;\n",
            "additional terms may apply.  By using this site, you agree to the <a href=\"//foundation.wikimedia.org/wiki/Terms_of_Use\">Terms of Use</a> and <a href=\"//foundation.wikimedia.org/wiki/Privacy_policy\">Privacy Policy</a>. Wikipedia® is a registered trademark of the <a href=\"//www.wikimediafoundation.org/\">Wikimedia Foundation, Inc.</a>, a non-profit organization.</li>\n",
            "</ul>\n",
            "<ul id=\"footer-places\">\n",
            "<li id=\"footer-places-privacy\"><a href=\"https://foundation.wikimedia.org/wiki/Privacy_policy\">Privacy policy</a></li>\n",
            "<li id=\"footer-places-about\"><a href=\"/wiki/Wikipedia:About\">About Wikipedia</a></li>\n",
            "<li id=\"footer-places-disclaimers\"><a href=\"/wiki/Wikipedia:General_disclaimer\">Disclaimers</a></li>\n",
            "<li id=\"footer-places-contact\"><a href=\"//en.wikipedia.org/wiki/Wikipedia:Contact_us\">Contact Wikipedia</a></li>\n",
            "<li id=\"footer-places-mobileview\"><a class=\"noprint stopMobileRedirectToggle\" href=\"//en.m.wikipedia.org/w/index.php?title=Main_Page&amp;mobileaction=toggle_view_mobile\">Mobile view</a></li>\n",
            "<li id=\"footer-places-developers\"><a href=\"https://developer.wikimedia.org\">Developers</a></li>\n",
            "<li id=\"footer-places-statslink\"><a href=\"https://stats.wikimedia.org/#/en.wikipedia.org\">Statistics</a></li>\n",
            "<li id=\"footer-places-cookiestatement\"><a href=\"https://foundation.wikimedia.org/wiki/Cookie_statement\">Cookie statement</a></li>\n",
            "</ul>\n",
            "<ul class=\"noprint\" id=\"footer-icons\">\n",
            "<li id=\"footer-copyrightico\"><a href=\"https://wikimediafoundation.org/\"><img alt=\"Wikimedia Foundation\" height=\"31\" loading=\"lazy\" src=\"/static/images/footer/wikimedia-button.png\" srcset=\"/static/images/footer/wikimedia-button-1.5x.png 1.5x, /static/images/footer/wikimedia-button-2x.png 2x\" width=\"88\"/></a></li>\n",
            "<li id=\"footer-poweredbyico\"><a href=\"https://www.mediawiki.org/\"><img alt=\"Powered by MediaWiki\" height=\"31\" loading=\"lazy\" src=\"/static/images/footer/poweredby_mediawiki_88x31.png\" srcset=\"/static/images/footer/poweredby_mediawiki_132x47.png 1.5x, /static/images/footer/poweredby_mediawiki_176x62.png 2x\" width=\"88\"/></a></li>\n",
            "</ul>\n",
            "</footer>\n",
            "<script>(RLQ=window.RLQ||[]).push(function(){mw.config.set({\"wgPageParseReport\":{\"limitreport\":{\"cputime\":\"0.219\",\"walltime\":\"0.330\",\"ppvisitednodes\":{\"value\":3918,\"limit\":1000000},\"postexpandincludesize\":{\"value\":113504,\"limit\":2097152},\"templateargumentsize\":{\"value\":8860,\"limit\":2097152},\"expansiondepth\":{\"value\":18,\"limit\":100},\"expensivefunctioncount\":{\"value\":13,\"limit\":500},\"unstrip-depth\":{\"value\":0,\"limit\":20},\"unstrip-size\":{\"value\":3979,\"limit\":5000000},\"entityaccesscount\":{\"value\":0,\"limit\":400},\"timingprofile\":[\"100.00%  225.440      1 -total\",\" 38.65%   87.128      1 Wikipedia:Main_Page/Tomorrow\",\" 28.07%   63.281      8 Template:Main_page_image\",\" 19.95%   44.969      8 Template:Str_number/trim\",\" 18.87%   42.550      1 Wikipedia:Today's_featured_article/October_26,_2022\",\" 18.22%   41.069      1 Template:Did_you_know/Queue/7\",\" 16.43%   37.040      2 Template:Main_page_image/TFA\",\" 14.83%   33.429      1 Template:DYKbotdo\",\" 13.46%   30.338      1 Template:Mbox\",\" 13.23%   29.830      2 Template:Wikipedia_languages\"]},\"scribunto\":{\"limitreport-timeusage\":{\"value\":\"0.049\",\"limit\":\"10.000\"},\"limitreport-memusage\":{\"value\":1915907,\"limit\":52428800}},\"cachereport\":{\"origin\":\"mw2310\",\"timestamp\":\"20221026173219\",\"ttl\":3600,\"transientcontent\":true}}});});</script>\n",
            "<script type=\"application/ld+json\">{\"@context\":\"https:\\/\\/schema.org\",\"@type\":\"Article\",\"name\":\"Main Page\",\"url\":\"https:\\/\\/en.wikipedia.org\\/wiki\\/Main_Page\",\"sameAs\":\"http:\\/\\/www.wikidata.org\\/entity\\/Q5296\",\"mainEntity\":\"http:\\/\\/www.wikidata.org\\/entity\\/Q5296\",\"author\":{\"@type\":\"Organization\",\"name\":\"Contributors to Wikimedia projects\"},\"publisher\":{\"@type\":\"Organization\",\"name\":\"Wikimedia Foundation, Inc.\",\"logo\":{\"@type\":\"ImageObject\",\"url\":\"https:\\/\\/www.wikimedia.org\\/static\\/images\\/wmf-hor-googpub.png\"}},\"datePublished\":\"2002-01-26T15:28:12Z\",\"dateModified\":\"2022-10-05T19:27:50Z\",\"image\":\"https:\\/\\/upload.wikimedia.org\\/wikipedia\\/commons\\/0\\/02\\/N64-Console-Set.png\",\"headline\":\"Wikimedia project page\"}</script><script type=\"application/ld+json\">{\"@context\":\"https:\\/\\/schema.org\",\"@type\":\"Article\",\"name\":\"Main Page\",\"url\":\"https:\\/\\/en.wikipedia.org\\/wiki\\/Main_Page\",\"sameAs\":\"http:\\/\\/www.wikidata.org\\/entity\\/Q5296\",\"mainEntity\":\"http:\\/\\/www.wikidata.org\\/entity\\/Q5296\",\"author\":{\"@type\":\"Organization\",\"name\":\"Contributors to Wikimedia projects\"},\"publisher\":{\"@type\":\"Organization\",\"name\":\"Wikimedia Foundation, Inc.\",\"logo\":{\"@type\":\"ImageObject\",\"url\":\"https:\\/\\/www.wikimedia.org\\/static\\/images\\/wmf-hor-googpub.png\"}},\"datePublished\":\"2002-01-26T15:28:12Z\",\"dateModified\":\"2022-10-05T19:27:50Z\",\"image\":\"https:\\/\\/upload.wikimedia.org\\/wikipedia\\/commons\\/0\\/02\\/N64-Console-Set.png\",\"headline\":\"Wikimedia project page\"}</script>\n",
            "<script>(RLQ=window.RLQ||[]).push(function(){mw.config.set({\"wgBackendResponseTime\":90,\"wgHostname\":\"mw2391\"});});</script>\n",
            "</body>\n",
            "</html>\n"
          ]
        }
      ]
    },
    {
      "cell_type": "markdown",
      "source": [
        "The `prettify` method turns your soup into a more nicely formatted string with a separate line for each tag and each string, and indented."
      ],
      "metadata": {
        "id": "LWG741L9niK_"
      }
    },
    {
      "cell_type": "code",
      "source": [
        "print(type(soup))\n",
        "print(soup.prettify()[0:5000])"
      ],
      "metadata": {
        "id": "R799kHqpDd6u",
        "colab": {
          "base_uri": "https://localhost:8080/"
        },
        "outputId": "f8a5bbf7-0d64-44b2-e222-40fd55b2bc21"
      },
      "execution_count": 91,
      "outputs": [
        {
          "output_type": "stream",
          "name": "stdout",
          "text": [
            "<class 'bs4.BeautifulSoup'>\n",
            "<!DOCTYPE html>\n",
            "<html class=\"client-nojs\" dir=\"ltr\" lang=\"en\">\n",
            " <head>\n",
            "  <meta charset=\"utf-8\"/>\n",
            "  <title>\n",
            "   Wikipedia, the free encyclopedia\n",
            "  </title>\n",
            "  <script>\n",
            "   document.documentElement.className=\"client-js\";RLCONF={\"wgBreakFrames\":false,\"wgSeparatorTransformTable\":[\"\",\"\"],\"wgDigitTransformTable\":[\"\",\"\"],\"wgDefaultDateFormat\":\"dmy\",\"wgMonthNames\":[\"\",\"January\",\"February\",\"March\",\"April\",\"May\",\"June\",\"July\",\"August\",\"September\",\"October\",\"November\",\"December\"],\"wgRequestId\":\"56f875a1-6427-4f07-ad9d-e5d9987ac99f\",\"wgCSPNonce\":false,\"wgCanonicalNamespace\":\"\",\"wgCanonicalSpecialPageName\":false,\"wgNamespaceNumber\":0,\"wgPageName\":\"Main_Page\",\"wgTitle\":\"Main Page\",\"wgCurRevisionId\":1114291180,\"wgRevisionId\":1114291180,\"wgArticleId\":15580374,\"wgIsArticle\":true,\"wgIsRedirect\":false,\"wgAction\":\"view\",\"wgUserName\":null,\"wgUserGroups\":[\"*\"],\"wgCategories\":[],\"wgPageContentLanguage\":\"en\",\"wgPageContentModel\":\"wikitext\",\"wgRelevantPageName\":\"Main_Page\",\"wgRelevantArticleId\":15580374,\"wgIsProbablyEditable\":false,\"wgRelevantPageIsProbablyEditable\":false,\"wgRestrictionEdit\":[\"sysop\"],\"wgRestrictionMove\":[\"sysop\"],\"wgIsMainPage\":true,\"wgFlaggedRevsParams\":{\n",
            "\"tags\":{\"status\":{\"levels\":1}}},\"wgVisualEditor\":{\"pageLanguageCode\":\"en\",\"pageLanguageDir\":\"ltr\",\"pageVariantFallbacks\":\"en\"},\"wgMFDisplayWikibaseDescriptions\":{\"search\":true,\"watchlist\":true,\"tagline\":false,\"nearby\":true},\"wgWMESchemaEditAttemptStepOversample\":false,\"wgWMEPageLength\":3000,\"wgNoticeProject\":\"wikipedia\",\"wgVector2022PreviewPages\":[],\"wgMediaViewerOnClick\":true,\"wgMediaViewerEnabledByDefault\":true,\"wgPopupsFlags\":10,\"wgULSCurrentAutonym\":\"English\",\"wgEditSubmitButtonLabelPublish\":true,\"wgCentralAuthMobileDomain\":false,\"wgULSPosition\":\"interlanguage\",\"wgULSisCompactLinksEnabled\":true,\"wgWikibaseItemId\":\"Q5296\",\"GEHomepageSuggestedEditsEnableTopics\":true,\"wgGETopicsMatchModeEnabled\":false,\"wgGEStructuredTaskRejectionReasonTextInputEnabled\":false};RLSTATE={\"ext.globalCssJs.user.styles\":\"ready\",\"site.styles\":\"ready\",\"user.styles\":\"ready\",\"ext.globalCssJs.user\":\"ready\",\"user\":\"ready\",\"user.options\":\"loading\",\"skins.vector.styles.legacy\":\"ready\",\n",
            "\"ext.visualEditor.desktopArticleTarget.noscript\":\"ready\",\"ext.wikimediaBadges\":\"ready\",\"ext.uls.interlanguage\":\"ready\"};RLPAGEMODULES=[\"site\",\"mediawiki.page.ready\",\"skins.vector.legacy.js\",\"mmv.head\",\"mmv.bootstrap.autostart\",\"ext.visualEditor.desktopArticleTarget.init\",\"ext.visualEditor.targetLoader\",\"ext.eventLogging\",\"ext.wikimediaEvents\",\"ext.navigationTiming\",\"ext.cx.eventlogging.campaigns\",\"ext.centralNotice.geoIP\",\"ext.centralNotice.startUp\",\"ext.gadget.ReferenceTooltips\",\"ext.gadget.charinsert\",\"ext.gadget.extra-toolbar-buttons\",\"ext.gadget.switcher\",\"ext.centralauth.centralautologin\",\"ext.popups\",\"ext.uls.interface\",\"ext.growthExperiments.SuggestedEditSession\"];\n",
            "  </script>\n",
            "  <script>\n",
            "   (RLQ=window.RLQ||[]).push(function(){mw.loader.implement(\"user.options@12s5i\",function($,jQuery,require,module){mw.user.tokens.set({\"patrolToken\":\"+\\\\\",\"watchToken\":\"+\\\\\",\"csrfToken\":\"+\\\\\"});});});\n",
            "  </script>\n",
            "  <link href=\"/w/load.php?lang=en&amp;modules=ext.uls.interlanguage%7Cext.visualEditor.desktopArticleTarget.noscript%7Cext.wikimediaBadges%7Cskins.vector.styles.legacy&amp;only=styles&amp;skin=vector\" rel=\"stylesheet\"/>\n",
            "  <script async=\"\" src=\"/w/load.php?lang=en&amp;modules=startup&amp;only=scripts&amp;raw=1&amp;skin=vector\">\n",
            "  </script>\n",
            "  <meta content=\"\" name=\"ResourceLoaderDynamicStyles\"/>\n",
            "  <link href=\"/w/load.php?lang=en&amp;modules=site.styles&amp;only=styles&amp;skin=vector\" rel=\"stylesheet\"/>\n",
            "  <meta content=\"MediaWiki 1.40.0-wmf.6\" name=\"generator\"/>\n",
            "  <meta content=\"origin\" name=\"referrer\"/>\n",
            "  <meta content=\"origin-when-crossorigin\" name=\"referrer\"/>\n",
            "  <meta content=\"origin-when-cross-origin\" name=\"referrer\"/>\n",
            "  <meta content=\"max-image-preview:standard\" name=\"robots\"/>\n",
            "  <meta content=\"telephone=no\" name=\"format-detection\"/>\n",
            "  <meta content=\"https://upload.wikimedia.org/wikipedia/commons/thumb/0/02/N64-Console-Set.png/1200px-N64-Console-Set.png\" property=\"og:image\"/>\n",
            "  <meta content=\"1200\" property=\"og:image:width\"/>\n",
            "  <meta content=\"646\" property=\"og:image:height\"/>\n",
            "  <meta content=\"https://upload.wikimedia.org/wikipedia/commons/thumb/0/02/N64-Console-Set.png/800px-N64-Console-Set.png\" property=\"og:image\"/>\n",
            "  <meta content=\"800\" property=\"og:image:width\"/>\n",
            "  <meta content=\"431\" property=\"og:image:height\"/>\n",
            "  <meta content=\"https://upload.wikimedia.org/wikipedia/commons/thumb/0/02/N64-Console-Set.png/640px-N64-Console-Set.png\" property=\"og:image\"/>\n",
            "  <meta content=\"640\" property=\"og:image:width\"/>\n",
            "  <meta content=\"344\" property=\"og:image:height\"/>\n",
            "  <meta content=\"width=1000\" name=\"viewport\"/>\n",
            "  <meta content=\"Wikipedia, the free encyclopedia\" property=\"og:title\"/>\n",
            "  <meta content=\"website\" property=\"og:type\"/>\n",
            "  <link href=\"//upload.wikimedia.org\" rel=\"preconnect\"/>\n",
            "  <link href=\"//en.m.wikipedia.org/wiki/Main_Page\" media=\"only screen and (max-width: 720px)\" rel=\"alternate\"/>\n",
            "  <link href=\"/w/api.php?\n"
          ]
        }
      ]
    },
    {
      "cell_type": "markdown",
      "source": [
        "The text is structured with HTML tags organised in a systematic way. This structure is referred to as a *HTML DOM* (Document Object Model).\n",
        "\n",
        "We are interested in grabbing the summary of the article of the day, from the Wikipedia main page along with all the links in it. So we'll use `BeautifulSoup`'s functions to parse HTML tags that contain this information or lead us to it in the form of embedded URLs.\n",
        "\n",
        "On inspection of the HTML source we identify that the article summary is enclosed in the first `p` tag. `p` stands for paragraph. The idea is as follows,\n",
        "\n",
        "1.   Using the function in `.find_all()` in BeautifulSoup we search for all tags of the type `p`\n",
        "2.  Identify the correct paragraph and extract URLs.\n",
        "3.  Extract text.\n",
        "\n"
      ],
      "metadata": {
        "id": "_p9x7tE8EMNz"
      }
    },
    {
      "cell_type": "code",
      "source": [
        "# 1. search for all tags of the type p\n",
        "paragraphs_list = soup.find_all(name = \"p\")\n",
        "paragraphs_list"
      ],
      "metadata": {
        "id": "Q813eykNE92E",
        "colab": {
          "base_uri": "https://localhost:8080/"
        },
        "outputId": "bc76fede-918d-4c7f-9627-59d896b69614"
      },
      "execution_count": 92,
      "outputs": [
        {
          "output_type": "execute_result",
          "data": {
            "text/plain": [
              "[<p><i><b><a href=\"/wiki/Mischief_Makers\" title=\"Mischief Makers\">Mischief Makers</a></b></i> is a 1997 <a href=\"/wiki/Side-scrolling_video_game\" title=\"Side-scrolling video game\">side-scrolling</a> platform video game, the first for the <a href=\"/wiki/Nintendo_64\" title=\"Nintendo 64\">Nintendo 64</a> <i>(pictured)</i>, developed by <a href=\"/wiki/Treasure_(company)\" title=\"Treasure (company)\">Treasure</a> and published by <a href=\"/wiki/Enix\" title=\"Enix\">Enix</a> and <a href=\"/wiki/Nintendo\" title=\"Nintendo\">Nintendo</a>. The player assumes the role of Marina, a robot who grabs, shakes, and throws objects in her journey to rescue her creator from the planet's emperor. The game is presented in <a href=\"/wiki/2.5D\" title=\"2.5D\">2.5D</a>, with pre-rendered 3D backgrounds behind 2D gameplay. A 12-person team developed the game over two years as Treasure's first title for a Nintendo console. It was shown at the 1997 <a href=\"/wiki/E3\" title=\"E3\">Electronic Entertainment Expo</a> before its release. Reviews were mixed, with praise for its inventiveness, personality, and <a href=\"/wiki/Boss_(video_games)\" title=\"Boss (video games)\">boss</a> fights, but criticism for its brevity, low difficulty, low <a href=\"/wiki/Replay_value\" title=\"Replay value\">replay value</a>, sound, and harsh introductory learning curve. Retrospective reviewers disagreed with the originally poor reception, and several highlighted Marina's signature \"Shake, shake!\" <a href=\"/wiki/Sound_bite\" title=\"Sound bite\">sound bite</a>. In 2009, <i>GamesRadar</i> called it \"possibly the most underrated and widely ignored game on the N64\". (<b><a href=\"/wiki/Mischief_Makers\" title=\"Mischief Makers\">Full article...</a></b>)\n",
              " </p>,\n",
              " <p><b><a href=\"/wiki/October_26\" title=\"October 26\">October 26</a></b>: <b><a href=\"/wiki/Twin_Holy_Birthdays\" title=\"Twin Holy Birthdays\">Twin Holy Birthdays</a></b> begin (<a href=\"/wiki/Bah%C3%A1%CA%BC%C3%AD_Faith\" title=\"Baháʼí Faith\">Baháʼí Faith</a>, 2022)\n",
              " </p>,\n",
              " <p><b><a href=\"/wiki/Arthur_Kornberg\" title=\"Arthur Kornberg\">Arthur Kornberg</a></b> (March 3, 1918 – October 26, 2007) was an American <a href=\"/wiki/Biochemist\" title=\"Biochemist\">biochemist</a> who won the <a href=\"/wiki/Nobel_Prize_in_Physiology_or_Medicine\" title=\"Nobel Prize in Physiology or Medicine\">Nobel Prize in Physiology or Medicine</a> 1959 for his discovery of \"the mechanisms in the <a href=\"/wiki/Biosynthesis\" title=\"Biosynthesis\">biological synthesis</a> of <a href=\"/wiki/DNA\" title=\"DNA\">deoxyribonucleic acid</a> (DNA)\" together with Spanish biochemist and physician <a href=\"/wiki/Severo_Ochoa\" title=\"Severo Ochoa\">Severo Ochoa</a> of <a href=\"/wiki/New_York_University\" title=\"New York University\">New York University</a>.\n",
              " </p>,\n",
              " <p style=\"text-align:left;\"><small>Photograph credit: <a href=\"/wiki/National_Institutes_of_Health\" title=\"National Institutes of Health\">NIH History Office</a>; restored by <a href=\"/wiki/User:Bammesk\" title=\"User:Bammesk\">Bammesk</a></small></p>,\n",
              " <p>Wikipedia is written by volunteer editors and hosted by the <a href=\"/wiki/Wikimedia_Foundation\" title=\"Wikimedia Foundation\">Wikimedia Foundation</a>, a non-profit organization that also hosts a range of other volunteer <a class=\"extiw\" href=\"https://wikimediafoundation.org/our-work/wikimedia-projects/\" title=\"foundationsite:our-work/wikimedia-projects/\">projects</a>:\n",
              " </p>,\n",
              " <p>This Wikipedia is written in <a href=\"/wiki/English_language\" title=\"English language\">English</a>. Many <a class=\"extiw\" href=\"https://meta.wikimedia.org/wiki/List_of_Wikipedias\" title=\"meta:List of Wikipedias\">other Wikipedias are available</a>; some of the largest are listed below.\n",
              " </p>]"
            ]
          },
          "metadata": {},
          "execution_count": 92
        }
      ]
    },
    {
      "cell_type": "code",
      "source": [
        "# 2. Identify the correct paragraph\n",
        "paragraph = soup.findAll(name = 'p')[0]\n",
        "paragraph"
      ],
      "metadata": {
        "id": "X-uuvbTPFm8r",
        "colab": {
          "base_uri": "https://localhost:8080/"
        },
        "outputId": "18237307-8051-4dbc-c5a5-5a856e0e3b09"
      },
      "execution_count": 93,
      "outputs": [
        {
          "output_type": "execute_result",
          "data": {
            "text/plain": [
              "<p><i><b><a href=\"/wiki/Mischief_Makers\" title=\"Mischief Makers\">Mischief Makers</a></b></i> is a 1997 <a href=\"/wiki/Side-scrolling_video_game\" title=\"Side-scrolling video game\">side-scrolling</a> platform video game, the first for the <a href=\"/wiki/Nintendo_64\" title=\"Nintendo 64\">Nintendo 64</a> <i>(pictured)</i>, developed by <a href=\"/wiki/Treasure_(company)\" title=\"Treasure (company)\">Treasure</a> and published by <a href=\"/wiki/Enix\" title=\"Enix\">Enix</a> and <a href=\"/wiki/Nintendo\" title=\"Nintendo\">Nintendo</a>. The player assumes the role of Marina, a robot who grabs, shakes, and throws objects in her journey to rescue her creator from the planet's emperor. The game is presented in <a href=\"/wiki/2.5D\" title=\"2.5D\">2.5D</a>, with pre-rendered 3D backgrounds behind 2D gameplay. A 12-person team developed the game over two years as Treasure's first title for a Nintendo console. It was shown at the 1997 <a href=\"/wiki/E3\" title=\"E3\">Electronic Entertainment Expo</a> before its release. Reviews were mixed, with praise for its inventiveness, personality, and <a href=\"/wiki/Boss_(video_games)\" title=\"Boss (video games)\">boss</a> fights, but criticism for its brevity, low difficulty, low <a href=\"/wiki/Replay_value\" title=\"Replay value\">replay value</a>, sound, and harsh introductory learning curve. Retrospective reviewers disagreed with the originally poor reception, and several highlighted Marina's signature \"Shake, shake!\" <a href=\"/wiki/Sound_bite\" title=\"Sound bite\">sound bite</a>. In 2009, <i>GamesRadar</i> called it \"possibly the most underrated and widely ignored game on the N64\". (<b><a href=\"/wiki/Mischief_Makers\" title=\"Mischief Makers\">Full article...</a></b>)\n",
              "</p>"
            ]
          },
          "metadata": {},
          "execution_count": 93
        }
      ]
    },
    {
      "cell_type": "code",
      "source": [
        "# 2. Extract URLs\n",
        "urls = [tag['href'] for tag in paragraph.findAll('a', href = True)]\n",
        "for url in urls:\n",
        "    print(url)\n",
        "\n",
        "print('\\n')"
      ],
      "metadata": {
        "id": "4gennUjOFvL4",
        "colab": {
          "base_uri": "https://localhost:8080/"
        },
        "outputId": "fffdec98-1522-4fcb-809d-0a96ee25e660"
      },
      "execution_count": 94,
      "outputs": [
        {
          "output_type": "stream",
          "name": "stdout",
          "text": [
            "/wiki/Mischief_Makers\n",
            "/wiki/Side-scrolling_video_game\n",
            "/wiki/Nintendo_64\n",
            "/wiki/Treasure_(company)\n",
            "/wiki/Enix\n",
            "/wiki/Nintendo\n",
            "/wiki/2.5D\n",
            "/wiki/E3\n",
            "/wiki/Boss_(video_games)\n",
            "/wiki/Replay_value\n",
            "/wiki/Sound_bite\n",
            "/wiki/Mischief_Makers\n",
            "\n",
            "\n"
          ]
        }
      ]
    },
    {
      "cell_type": "markdown",
      "source": [
        "An HTML document is a collection of nodes with (or without) child nodes. To build the text of the article summary, we loop through all the children and concatenate the text."
      ],
      "metadata": {
        "id": "QBDAXUGbrPb4"
      }
    },
    {
      "cell_type": "code",
      "source": [
        "# 3. Build the text of the article summary by looping through all the children and concatenating the text \n",
        "text = ''\n",
        "for ch in paragraph.children:\n",
        "    text = text + ch.string\n",
        "\n",
        "print(text + '\\n')"
      ],
      "metadata": {
        "id": "DI3zsfYbF7Ty",
        "colab": {
          "base_uri": "https://localhost:8080/"
        },
        "outputId": "4bb5a130-5f92-480f-aeb1-354d9780124f"
      },
      "execution_count": 95,
      "outputs": [
        {
          "output_type": "stream",
          "name": "stdout",
          "text": [
            "Mischief Makers is a 1997 side-scrolling platform video game, the first for the Nintendo 64 (pictured), developed by Treasure and published by Enix and Nintendo. The player assumes the role of Marina, a robot who grabs, shakes, and throws objects in her journey to rescue her creator from the planet's emperor. The game is presented in 2.5D, with pre-rendered 3D backgrounds behind 2D gameplay. A 12-person team developed the game over two years as Treasure's first title for a Nintendo console. It was shown at the 1997 Electronic Entertainment Expo before its release. Reviews were mixed, with praise for its inventiveness, personality, and boss fights, but criticism for its brevity, low difficulty, low replay value, sound, and harsh introductory learning curve. Retrospective reviewers disagreed with the originally poor reception, and several highlighted Marina's signature \"Shake, shake!\" sound bite. In 2009, GamesRadar called it \"possibly the most underrated and widely ignored game on the N64\". (Full article...)\n",
            "\n",
            "\n"
          ]
        }
      ]
    }
  ]
}