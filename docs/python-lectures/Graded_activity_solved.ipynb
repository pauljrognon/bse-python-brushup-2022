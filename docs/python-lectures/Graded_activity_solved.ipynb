{
 "cells": [
  {
   "cell_type": "markdown",
   "metadata": {
    "id": "E-GSHYNl6O01"
   },
   "source": [
    "# Graded Activity"
   ]
  },
  {
   "cell_type": "markdown",
   "metadata": {
    "id": "1kLMdZPD6THJ"
   },
   "source": [
    "Complete the assignment in this notebook itself. Write your code in the code cells with \"#Your code here\" and run the cells to display the output of your code. Submit your notebook through Google Classroom."
   ]
  },
  {
   "cell_type": "markdown",
   "metadata": {
    "id": "u34Aus5i7ToO"
   },
   "source": [
    "## Exercise 1\n",
    "Write a function named \"dictionary_maker\" that takes a single parameter, a list of 2 tuples with 2 elements. It must return the same data in the form of a dictionary, where the first element of every tuple is the key and the second element is the value.\n",
    "\n",
    "For example, if given: `[('foo', 1), ('bar', 3)]`, it should return `{'foo': 1, 'bar': 3}`\n",
    "\n",
    "Test your function with the list `[('Horta', 26), ('Sants', 30)]`, show the output.\n",
    "\n",
    "NOTE: Don't use any built-in functions!\n",
    "\n",
    "HINT: There are many ways of doing it. If you want to create a dictionary from a list of keys and a list of values, you can use the functions `dict` and `zip`."
   ]
  },
  {
   "cell_type": "code",
   "execution_count": 14,
   "metadata": {
    "colab": {
     "base_uri": "https://localhost:8080/"
    },
    "id": "mAk1qVuf9D8N",
    "outputId": "2d7a1b3e-36d3-4e29-87e8-8f2fdd591dde"
   },
   "outputs": [
    {
     "data": {
      "text/plain": [
       "{'Horta': 26, 'Sants': 30}"
      ]
     },
     "execution_count": 14,
     "metadata": {},
     "output_type": "execute_result"
    }
   ],
   "source": [
    "# Your code here.\n",
    "\n",
    "def dictionary_maker(list_tuples):\n",
    "  keys = []\n",
    "  values = []\n",
    "  for t in list_tuples:\n",
    "    key,value = t\n",
    "    keys.append(key)\n",
    "    values.append(value)\n",
    "  return dict(zip(keys, values))\n",
    "\n",
    "dictionary_maker([('Horta', 26), ('Sants', 30)])"
   ]
  },
  {
   "cell_type": "markdown",
   "metadata": {
    "id": "5uvMNXy28EoR"
   },
   "source": [
    "## Exercise 2\n",
    "\n",
    "Say you are given a dataset from a repository of CVs. The individual CVs come as dictionaries and each dictionary looks like this:  \n",
    "`{ 'user': 'Laia', 'jobs': ['barmaid', 'university teacher', 'mechanic']}`  \n",
    "The dataset comes as a list of such CV-dictionaries."
   ]
  },
  {
   "cell_type": "markdown",
   "metadata": {
    "id": "PdCLNw7L9oiZ"
   },
   "source": [
    "Write a function named \"has_experience_as\" that takes two parameters:\n",
    "1. A list of CV's.\n",
    "2. A string (job_title)\n",
    "\n",
    "The function must return the list of users that has worked as job_title.  \n",
    "Test your function with the list `cvs` in the cell below and the job 'mechanic'. Show the output."
   ]
  },
  {
   "cell_type": "code",
   "execution_count": 15,
   "metadata": {
    "colab": {
     "base_uri": "https://localhost:8080/"
    },
    "id": "Gi79Aov6-ZJl",
    "outputId": "f7c7b908-3b7d-4228-80e8-84eb706e2494"
   },
   "outputs": [
    {
     "data": {
      "text/plain": [
       "['Laia', 'Jaume', 'Judit']"
      ]
     },
     "execution_count": 15,
     "metadata": {},
     "output_type": "execute_result"
    }
   ],
   "source": [
    "cvs = [{ 'user': 'Laia', 'jobs': ['barmaid', 'university teacher', 'mechanic']},\n",
    "       { 'user': 'Jaume', 'jobs': ['nurse', 'mechanic']},\n",
    "       { 'user': 'Judit', 'jobs': ['cook','mechanic','nurse', 'university teacher']}]\n",
    "\n",
    "# Your code here\n",
    "\n",
    "def has_experience_as(list_cvs, job_title):\n",
    "  has_experience = []\n",
    "  for cv in list_cvs:\n",
    "    if job_title in cv['jobs']:\n",
    "      has_experience.append(cv['user'])\n",
    "  return has_experience\n",
    "\n",
    "has_experience_as(cvs, 'mechanic')"
   ]
  },
  {
   "cell_type": "markdown",
   "metadata": {
    "id": "AMm9ZMS-PHS2"
   },
   "source": [
    "Write a function named \"job_counts\" that takes one parameter, the list of CVs, and returns a dictionary where the keys are all possible jobs done by the users and the values are the number of users that have experience in each job. Test your function with the list `cvs` above and show the output."
   ]
  },
  {
   "cell_type": "code",
   "execution_count": 16,
   "metadata": {
    "colab": {
     "base_uri": "https://localhost:8080/"
    },
    "id": "uI6aOzNSPzwR",
    "outputId": "ad7400c9-1677-4eea-f45f-0a2d6e3c2bba"
   },
   "outputs": [
    {
     "data": {
      "text/plain": [
       "{'cook': 1, 'barmaid': 1, 'mechanic': 3, 'university teacher': 2, 'nurse': 2}"
      ]
     },
     "execution_count": 16,
     "metadata": {},
     "output_type": "execute_result"
    }
   ],
   "source": [
    "#Your code here\n",
    "\n",
    "def job_counts(list_cvs):\n",
    "  all_jobs = set()\n",
    "  for cv in list_cvs:\n",
    "    all_jobs = all_jobs | set(cv['jobs'])\n",
    "  \n",
    "  jobs = []\n",
    "  numbers = []\n",
    "  for job in all_jobs:\n",
    "    jobs.append(job)\n",
    "    counter = 0\n",
    "    for cv in list_cvs:\n",
    "      if job in cv['jobs']:\n",
    "        counter += 1\n",
    "    numbers.append(counter)\n",
    "  return dict(zip(jobs, numbers))\n",
    "\n",
    "job_counts(cvs)"
   ]
  },
  {
   "cell_type": "markdown",
   "metadata": {
    "id": "gX8gEHNCP8yf"
   },
   "source": [
    "Write a function, named \"most_popular_job\" that takes one parameter, a list of CVs, and returns a tuple (str, int) that represents the most frequent job among CVs and the number of times it appears. Test your function with the list `cvs` above and show the output.\n",
    "\n",
    "HINT: You can use your \"job_counts\"\n",
    "function.\n",
    "\n",
    "HINT: There are plenty of ways of doing it. You can use the method '.items' on dictionaries to iterate over them like a list of tuples. You can also access all the keys and all the values of a dictionary with the methods `.keys()` and `.values()`."
   ]
  },
  {
   "cell_type": "code",
   "execution_count": 17,
   "metadata": {
    "colab": {
     "base_uri": "https://localhost:8080/"
    },
    "id": "JVgIcCUMygPG",
    "outputId": "b706b09b-6fa4-4dbd-c9b8-29af72be9af0"
   },
   "outputs": [
    {
     "data": {
      "text/plain": [
       "('mechanic', 3)"
      ]
     },
     "execution_count": 17,
     "metadata": {},
     "output_type": "execute_result"
    }
   ],
   "source": [
    "# Your code here\n",
    "\n",
    "def most_popular_job(list_cvs):\n",
    "  jobcounts = job_counts(cvs)\n",
    "  values = list(jobcounts.values())\n",
    "  maxvalues = max(values)\n",
    "  \n",
    "  return ([t[0] for t in jobcounts.items() if t[1]==maxvalues][0], maxvalues)\n",
    "\n",
    "most_popular_job(cvs)"
   ]
  },
  {
   "cell_type": "markdown",
   "metadata": {
    "id": "H7zl0x8MA3lL"
   },
   "source": [
    "## Exercise 3"
   ]
  },
  {
   "cell_type": "markdown",
   "metadata": {
    "id": "QRHUEoy7A5xg"
   },
   "source": [
    "[Open Data Barcelona](https://opendata-ajuntament.barcelona.cat) provides lots of fun data about our city. \n",
    "\n",
    "You will study the evolution of mean tax revenues in Barcelona between the years 2016 and 2015.\n",
    "\n",
    "Barcelona is divided in districts and each district is divided in 'barri' or neighborhood. Each neighborhood of Barcelona is divided in several census tracts. In '2015_renda.csv' and '2016_renda.csv' you have the mean tax revenues (tax revenues / number of tax returns) in each census tract of the city for the years 2015 and 2016. \n",
    "\n",
    "The columns are in Catalan, here's the translation to English: \n",
    "\n",
    "Any = Year  \n",
    "Codi_Districte = District Code  \n",
    "Nom_Districte = District Name  \n",
    "Codi_Barri = Neighborhood Code  \n",
    "Nom_Barri = Neighborhood Name  \n",
    "Seccio_Censal = Census Tract Number  \n",
    "Import_Euros = Mean tax revenues"
   ]
  },
  {
   "cell_type": "markdown",
   "metadata": {
    "id": "mFxxVQchBehu"
   },
   "source": [
    "Read the two files '2015_renda.csv' and '2016_renda.csv' into Pandas dataframes."
   ]
  },
  {
   "cell_type": "code",
   "execution_count": 18,
   "metadata": {
    "colab": {
     "base_uri": "https://localhost:8080/"
    },
    "id": "3iPhBmN2CtWo",
    "outputId": "d391ba48-6eb2-4936-b5a1-471ed42294e5"
   },
   "outputs": [
    {
     "name": "stdout",
     "output_type": "stream",
     "text": [
      "    Any  Codi_Districte Nom_Districte  Codi_Barri Nom_Barri  Seccio_Censal  \\\n",
      "0  2015               1  Ciutat Vella           1  el Raval              1   \n",
      "1  2015               1  Ciutat Vella           1  el Raval              2   \n",
      "2  2015               1  Ciutat Vella           1  el Raval              3   \n",
      "3  2015               1  Ciutat Vella           1  el Raval              4   \n",
      "4  2015               1  Ciutat Vella           1  el Raval              5   \n",
      "\n",
      "   Import_Euros  \n",
      "0          9310  \n",
      "1          7496  \n",
      "2          7300  \n",
      "3          9346  \n",
      "4          7763  \n",
      "(1068, 7)\n",
      "    Any  Codi_Districte Nom_Districte  Codi_Barri Nom_Barri  Seccio_Censal  \\\n",
      "0  2016               1  Ciutat Vella           1  el Raval              1   \n",
      "1  2016               1  Ciutat Vella           1  el Raval              2   \n",
      "2  2016               1  Ciutat Vella           1  el Raval              3   \n",
      "3  2016               1  Ciutat Vella           1  el Raval              4   \n",
      "4  2016               1  Ciutat Vella           1  el Raval              5   \n",
      "\n",
      "   Import_Euros  \n",
      "0          9977  \n",
      "1          7366  \n",
      "2          7657  \n",
      "3          9510  \n",
      "4          7714  \n",
      "(1068, 7)\n"
     ]
    }
   ],
   "source": [
    "# Your code here.\n",
    "import pandas as pd\n",
    "df2015 = pd.read_csv('2015_renda.csv')\n",
    "df2016 = pd.read_csv('2016_renda.csv')\n",
    "\n",
    "print(df2015.head())\n",
    "print(df2015.shape)\n",
    "print(df2016.head())\n",
    "print(df2016.shape)"
   ]
  },
  {
   "cell_type": "markdown",
   "metadata": {
    "id": "X3V4pL9YCvNR"
   },
   "source": [
    "Obtain a single dataframe with mean tax revenues information of both 2015 and 2016"
   ]
  },
  {
   "cell_type": "code",
   "execution_count": 19,
   "metadata": {
    "colab": {
     "base_uri": "https://localhost:8080/"
    },
    "id": "q6yknnquDeZC",
    "outputId": "c86f2248-7132-4bea-dabd-648cb3c6798a"
   },
   "outputs": [
    {
     "name": "stdout",
     "output_type": "stream",
     "text": [
      "   Codi_Districte Nom_Districte  Codi_Barri Nom_Barri  Seccio_Censal  \\\n",
      "0               1  Ciutat Vella           1  el Raval              1   \n",
      "1               1  Ciutat Vella           1  el Raval              2   \n",
      "2               1  Ciutat Vella           1  el Raval              3   \n",
      "3               1  Ciutat Vella           1  el Raval              4   \n",
      "4               1  Ciutat Vella           1  el Raval              5   \n",
      "\n",
      "   Import_Euros_2015  Import_Euros_2016  \n",
      "0               9310               9977  \n",
      "1               7496               7366  \n",
      "2               7300               7657  \n",
      "3               9346               9510  \n",
      "4               7763               7714  \n"
     ]
    }
   ],
   "source": [
    "# Your code here.´\n",
    "\n",
    "df = pd.merge(df2015.drop('Any',axis=1),df2016.drop('Any',axis=1),\n",
    "              on=['Codi_Districte','Nom_Districte','Codi_Barri','Nom_Barri','Seccio_Censal'],\n",
    "              how='outer',\n",
    "              suffixes = (\"_2015\", \"_2016\"))\n",
    "print(df.head())"
   ]
  },
  {
   "cell_type": "markdown",
   "metadata": {
    "id": "YXmZP5r1DIFJ"
   },
   "source": [
    "Compute the growth rate in mean tax revenues for each census tract."
   ]
  },
  {
   "cell_type": "code",
   "execution_count": 24,
   "metadata": {
    "colab": {
     "base_uri": "https://localhost:8080/"
    },
    "id": "0wJ7R14FDZAm",
    "outputId": "28a51f4c-f11c-4b73-9a8a-0cc445f35480"
   },
   "outputs": [
    {
     "name": "stdout",
     "output_type": "stream",
     "text": [
      "   Codi_Districte Nom_Districte  Codi_Barri Nom_Barri  Seccio_Censal  \\\n",
      "0               1  Ciutat Vella           1  el Raval              1   \n",
      "1               1  Ciutat Vella           1  el Raval              2   \n",
      "2               1  Ciutat Vella           1  el Raval              3   \n",
      "3               1  Ciutat Vella           1  el Raval              4   \n",
      "4               1  Ciutat Vella           1  el Raval              5   \n",
      "\n",
      "   Import_Euros_2015  Import_Euros_2016  growth  \n",
      "0               9310               9977   66700  \n",
      "1               7496               7366  -13000  \n",
      "2               7300               7657   35700  \n",
      "3               9346               9510   16400  \n",
      "4               7763               7714   -4900  \n"
     ]
    }
   ],
   "source": [
    "# Your code here.\n",
    "df['growth'] = 100*(df['Import_Euros_2016']-df['Import_Euros_2015'])/df['Import_Euros_2015']\n",
    "print(df.head())"
   ]
  },
  {
   "cell_type": "markdown",
   "metadata": {
    "id": "S3cvoFhVDrAJ"
   },
   "source": [
    "Sort the dataset by the growth rate in mean tax revenues you just computed."
   ]
  },
  {
   "cell_type": "code",
   "execution_count": 25,
   "metadata": {
    "colab": {
     "base_uri": "https://localhost:8080/",
     "height": 468
    },
    "id": "k7hBGEM2Drpi",
    "outputId": "cedb0e8b-8cd6-487b-d265-e4ef249f4230"
   },
   "outputs": [
    {
     "data": {
      "text/html": [
       "\n",
       "  <div id=\"df-c65d30cf-45f8-4160-bbb3-884b14376203\">\n",
       "    <div class=\"colab-df-container\">\n",
       "      <div>\n",
       "<style scoped>\n",
       "    .dataframe tbody tr th:only-of-type {\n",
       "        vertical-align: middle;\n",
       "    }\n",
       "\n",
       "    .dataframe tbody tr th {\n",
       "        vertical-align: top;\n",
       "    }\n",
       "\n",
       "    .dataframe thead th {\n",
       "        text-align: right;\n",
       "    }\n",
       "</style>\n",
       "<table border=\"1\" class=\"dataframe\">\n",
       "  <thead>\n",
       "    <tr style=\"text-align: right;\">\n",
       "      <th></th>\n",
       "      <th>Codi_Districte</th>\n",
       "      <th>Nom_Districte</th>\n",
       "      <th>Codi_Barri</th>\n",
       "      <th>Nom_Barri</th>\n",
       "      <th>Seccio_Censal</th>\n",
       "      <th>Import_Euros_2015</th>\n",
       "      <th>Import_Euros_2016</th>\n",
       "      <th>growth</th>\n",
       "    </tr>\n",
       "  </thead>\n",
       "  <tbody>\n",
       "    <tr>\n",
       "      <th>405</th>\n",
       "      <td>5</td>\n",
       "      <td>Sarrià-Sant Gervasi</td>\n",
       "      <td>23</td>\n",
       "      <td>Sarrià</td>\n",
       "      <td>5</td>\n",
       "      <td>24007</td>\n",
       "      <td>14469</td>\n",
       "      <td>-953800</td>\n",
       "    </tr>\n",
       "    <tr>\n",
       "      <th>506</th>\n",
       "      <td>6</td>\n",
       "      <td>Gràcia</td>\n",
       "      <td>28</td>\n",
       "      <td>Vallcarca i els Penitents</td>\n",
       "      <td>9</td>\n",
       "      <td>26603</td>\n",
       "      <td>21683</td>\n",
       "      <td>-492000</td>\n",
       "    </tr>\n",
       "    <tr>\n",
       "      <th>433</th>\n",
       "      <td>5</td>\n",
       "      <td>Sarrià-Sant Gervasi</td>\n",
       "      <td>25</td>\n",
       "      <td>Sant Gervasi - la Bonanova</td>\n",
       "      <td>33</td>\n",
       "      <td>27566</td>\n",
       "      <td>23543</td>\n",
       "      <td>-402300</td>\n",
       "    </tr>\n",
       "    <tr>\n",
       "      <th>448</th>\n",
       "      <td>5</td>\n",
       "      <td>Sarrià-Sant Gervasi</td>\n",
       "      <td>25</td>\n",
       "      <td>Sant Gervasi - la Bonanova</td>\n",
       "      <td>48</td>\n",
       "      <td>25074</td>\n",
       "      <td>22461</td>\n",
       "      <td>-261300</td>\n",
       "    </tr>\n",
       "    <tr>\n",
       "      <th>309</th>\n",
       "      <td>3</td>\n",
       "      <td>Sants-Montjuïc</td>\n",
       "      <td>17</td>\n",
       "      <td>Sants - Badal</td>\n",
       "      <td>83</td>\n",
       "      <td>17566</td>\n",
       "      <td>15339</td>\n",
       "      <td>-222700</td>\n",
       "    </tr>\n",
       "    <tr>\n",
       "      <th>...</th>\n",
       "      <td>...</td>\n",
       "      <td>...</td>\n",
       "      <td>...</td>\n",
       "      <td>...</td>\n",
       "      <td>...</td>\n",
       "      <td>...</td>\n",
       "      <td>...</td>\n",
       "      <td>...</td>\n",
       "    </tr>\n",
       "    <tr>\n",
       "      <th>496</th>\n",
       "      <td>5</td>\n",
       "      <td>Sarrià-Sant Gervasi</td>\n",
       "      <td>27</td>\n",
       "      <td>el Putget i Farró</td>\n",
       "      <td>96</td>\n",
       "      <td>17627</td>\n",
       "      <td>21255</td>\n",
       "      <td>362800</td>\n",
       "    </tr>\n",
       "    <tr>\n",
       "      <th>136</th>\n",
       "      <td>2</td>\n",
       "      <td>Eixample</td>\n",
       "      <td>7</td>\n",
       "      <td>la Dreta de l'Eixample</td>\n",
       "      <td>83</td>\n",
       "      <td>22987</td>\n",
       "      <td>26699</td>\n",
       "      <td>371200</td>\n",
       "    </tr>\n",
       "    <tr>\n",
       "      <th>508</th>\n",
       "      <td>6</td>\n",
       "      <td>Gràcia</td>\n",
       "      <td>28</td>\n",
       "      <td>Vallcarca i els Penitents</td>\n",
       "      <td>11</td>\n",
       "      <td>17834</td>\n",
       "      <td>21679</td>\n",
       "      <td>384500</td>\n",
       "    </tr>\n",
       "    <tr>\n",
       "      <th>404</th>\n",
       "      <td>5</td>\n",
       "      <td>Sarrià-Sant Gervasi</td>\n",
       "      <td>23</td>\n",
       "      <td>Sarrià</td>\n",
       "      <td>4</td>\n",
       "      <td>25023</td>\n",
       "      <td>29364</td>\n",
       "      <td>434100</td>\n",
       "    </tr>\n",
       "    <tr>\n",
       "      <th>458</th>\n",
       "      <td>5</td>\n",
       "      <td>Sarrià-Sant Gervasi</td>\n",
       "      <td>26</td>\n",
       "      <td>Sant Gervasi - Galvany</td>\n",
       "      <td>58</td>\n",
       "      <td>24653</td>\n",
       "      <td>29364</td>\n",
       "      <td>471100</td>\n",
       "    </tr>\n",
       "  </tbody>\n",
       "</table>\n",
       "<p>1068 rows × 8 columns</p>\n",
       "</div>\n",
       "      <button class=\"colab-df-convert\" onclick=\"convertToInteractive('df-c65d30cf-45f8-4160-bbb3-884b14376203')\"\n",
       "              title=\"Convert this dataframe to an interactive table.\"\n",
       "              style=\"display:none;\">\n",
       "        \n",
       "  <svg xmlns=\"http://www.w3.org/2000/svg\" height=\"24px\"viewBox=\"0 0 24 24\"\n",
       "       width=\"24px\">\n",
       "    <path d=\"M0 0h24v24H0V0z\" fill=\"none\"/>\n",
       "    <path d=\"M18.56 5.44l.94 2.06.94-2.06 2.06-.94-2.06-.94-.94-2.06-.94 2.06-2.06.94zm-11 1L8.5 8.5l.94-2.06 2.06-.94-2.06-.94L8.5 2.5l-.94 2.06-2.06.94zm10 10l.94 2.06.94-2.06 2.06-.94-2.06-.94-.94-2.06-.94 2.06-2.06.94z\"/><path d=\"M17.41 7.96l-1.37-1.37c-.4-.4-.92-.59-1.43-.59-.52 0-1.04.2-1.43.59L10.3 9.45l-7.72 7.72c-.78.78-.78 2.05 0 2.83L4 21.41c.39.39.9.59 1.41.59.51 0 1.02-.2 1.41-.59l7.78-7.78 2.81-2.81c.8-.78.8-2.07 0-2.86zM5.41 20L4 18.59l7.72-7.72 1.47 1.35L5.41 20z\"/>\n",
       "  </svg>\n",
       "      </button>\n",
       "      \n",
       "  <style>\n",
       "    .colab-df-container {\n",
       "      display:flex;\n",
       "      flex-wrap:wrap;\n",
       "      gap: 12px;\n",
       "    }\n",
       "\n",
       "    .colab-df-convert {\n",
       "      background-color: #E8F0FE;\n",
       "      border: none;\n",
       "      border-radius: 50%;\n",
       "      cursor: pointer;\n",
       "      display: none;\n",
       "      fill: #1967D2;\n",
       "      height: 32px;\n",
       "      padding: 0 0 0 0;\n",
       "      width: 32px;\n",
       "    }\n",
       "\n",
       "    .colab-df-convert:hover {\n",
       "      background-color: #E2EBFA;\n",
       "      box-shadow: 0px 1px 2px rgba(60, 64, 67, 0.3), 0px 1px 3px 1px rgba(60, 64, 67, 0.15);\n",
       "      fill: #174EA6;\n",
       "    }\n",
       "\n",
       "    [theme=dark] .colab-df-convert {\n",
       "      background-color: #3B4455;\n",
       "      fill: #D2E3FC;\n",
       "    }\n",
       "\n",
       "    [theme=dark] .colab-df-convert:hover {\n",
       "      background-color: #434B5C;\n",
       "      box-shadow: 0px 1px 3px 1px rgba(0, 0, 0, 0.15);\n",
       "      filter: drop-shadow(0px 1px 2px rgba(0, 0, 0, 0.3));\n",
       "      fill: #FFFFFF;\n",
       "    }\n",
       "  </style>\n",
       "\n",
       "      <script>\n",
       "        const buttonEl =\n",
       "          document.querySelector('#df-c65d30cf-45f8-4160-bbb3-884b14376203 button.colab-df-convert');\n",
       "        buttonEl.style.display =\n",
       "          google.colab.kernel.accessAllowed ? 'block' : 'none';\n",
       "\n",
       "        async function convertToInteractive(key) {\n",
       "          const element = document.querySelector('#df-c65d30cf-45f8-4160-bbb3-884b14376203');\n",
       "          const dataTable =\n",
       "            await google.colab.kernel.invokeFunction('convertToInteractive',\n",
       "                                                     [key], {});\n",
       "          if (!dataTable) return;\n",
       "\n",
       "          const docLinkHtml = 'Like what you see? Visit the ' +\n",
       "            '<a target=\"_blank\" href=https://colab.research.google.com/notebooks/data_table.ipynb>data table notebook</a>'\n",
       "            + ' to learn more about interactive tables.';\n",
       "          element.innerHTML = '';\n",
       "          dataTable['output_type'] = 'display_data';\n",
       "          await google.colab.output.renderOutput(dataTable, element);\n",
       "          const docLink = document.createElement('div');\n",
       "          docLink.innerHTML = docLinkHtml;\n",
       "          element.appendChild(docLink);\n",
       "        }\n",
       "      </script>\n",
       "    </div>\n",
       "  </div>\n",
       "  "
      ],
      "text/plain": [
       "     Codi_Districte        Nom_Districte  Codi_Barri  \\\n",
       "405               5  Sarrià-Sant Gervasi          23   \n",
       "506               6               Gràcia          28   \n",
       "433               5  Sarrià-Sant Gervasi          25   \n",
       "448               5  Sarrià-Sant Gervasi          25   \n",
       "309               3       Sants-Montjuïc          17   \n",
       "..              ...                  ...         ...   \n",
       "496               5  Sarrià-Sant Gervasi          27   \n",
       "136               2             Eixample           7   \n",
       "508               6               Gràcia          28   \n",
       "404               5  Sarrià-Sant Gervasi          23   \n",
       "458               5  Sarrià-Sant Gervasi          26   \n",
       "\n",
       "                      Nom_Barri  Seccio_Censal  Import_Euros_2015  \\\n",
       "405                      Sarrià              5              24007   \n",
       "506   Vallcarca i els Penitents              9              26603   \n",
       "433  Sant Gervasi - la Bonanova             33              27566   \n",
       "448  Sant Gervasi - la Bonanova             48              25074   \n",
       "309               Sants - Badal             83              17566   \n",
       "..                          ...            ...                ...   \n",
       "496           el Putget i Farró             96              17627   \n",
       "136      la Dreta de l'Eixample             83              22987   \n",
       "508   Vallcarca i els Penitents             11              17834   \n",
       "404                      Sarrià              4              25023   \n",
       "458      Sant Gervasi - Galvany             58              24653   \n",
       "\n",
       "     Import_Euros_2016  growth  \n",
       "405              14469 -953800  \n",
       "506              21683 -492000  \n",
       "433              23543 -402300  \n",
       "448              22461 -261300  \n",
       "309              15339 -222700  \n",
       "..                 ...     ...  \n",
       "496              21255  362800  \n",
       "136              26699  371200  \n",
       "508              21679  384500  \n",
       "404              29364  434100  \n",
       "458              29364  471100  \n",
       "\n",
       "[1068 rows x 8 columns]"
      ]
     },
     "execution_count": 25,
     "metadata": {},
     "output_type": "execute_result"
    }
   ],
   "source": [
    "# Your code here.\n",
    "df.sort_values(by='growth')"
   ]
  },
  {
   "cell_type": "markdown",
   "metadata": {
    "id": "ds-uLCXFD73C"
   },
   "source": [
    "Compute the mean growth rate per neighborhood (barri)."
   ]
  },
  {
   "cell_type": "code",
   "execution_count": 26,
   "metadata": {
    "colab": {
     "base_uri": "https://localhost:8080/",
     "height": 455
    },
    "id": "IcNwRvI6D814",
    "outputId": "584989a2-9707-4b7c-dd6e-7f35ea700d30"
   },
   "outputs": [
    {
     "data": {
      "text/html": [
       "\n",
       "  <div id=\"df-ccb11c03-b2f6-4ad4-bda4-5d67166eae6a\">\n",
       "    <div class=\"colab-df-container\">\n",
       "      <div>\n",
       "<style scoped>\n",
       "    .dataframe tbody tr th:only-of-type {\n",
       "        vertical-align: middle;\n",
       "    }\n",
       "\n",
       "    .dataframe tbody tr th {\n",
       "        vertical-align: top;\n",
       "    }\n",
       "\n",
       "    .dataframe thead th {\n",
       "        text-align: right;\n",
       "    }\n",
       "</style>\n",
       "<table border=\"1\" class=\"dataframe\">\n",
       "  <thead>\n",
       "    <tr style=\"text-align: right;\">\n",
       "      <th></th>\n",
       "      <th>growth</th>\n",
       "    </tr>\n",
       "    <tr>\n",
       "      <th>Nom_Barri</th>\n",
       "      <th></th>\n",
       "    </tr>\n",
       "  </thead>\n",
       "  <tbody>\n",
       "    <tr>\n",
       "      <th>Baró de Viver</th>\n",
       "      <td>47200.000000</td>\n",
       "    </tr>\n",
       "    <tr>\n",
       "      <th>Camp de l'Arpa del Clot</th>\n",
       "      <td>39088.000000</td>\n",
       "    </tr>\n",
       "    <tr>\n",
       "      <th>Can Baró</th>\n",
       "      <td>29528.571429</td>\n",
       "    </tr>\n",
       "    <tr>\n",
       "      <th>Can Peguera</th>\n",
       "      <td>40650.000000</td>\n",
       "    </tr>\n",
       "    <tr>\n",
       "      <th>Canyelles</th>\n",
       "      <td>42120.000000</td>\n",
       "    </tr>\n",
       "    <tr>\n",
       "      <th>...</th>\n",
       "      <td>...</td>\n",
       "    </tr>\n",
       "    <tr>\n",
       "      <th>la Verneda i la Pau</th>\n",
       "      <td>28819.047619</td>\n",
       "    </tr>\n",
       "    <tr>\n",
       "      <th>la Vila Olímpica del Poblenou</th>\n",
       "      <td>-21940.000000</td>\n",
       "    </tr>\n",
       "    <tr>\n",
       "      <th>les Corts</th>\n",
       "      <td>68560.000000</td>\n",
       "    </tr>\n",
       "    <tr>\n",
       "      <th>les Roquetes</th>\n",
       "      <td>20740.000000</td>\n",
       "    </tr>\n",
       "    <tr>\n",
       "      <th>les Tres Torres</th>\n",
       "      <td>85372.727273</td>\n",
       "    </tr>\n",
       "  </tbody>\n",
       "</table>\n",
       "<p>73 rows × 1 columns</p>\n",
       "</div>\n",
       "      <button class=\"colab-df-convert\" onclick=\"convertToInteractive('df-ccb11c03-b2f6-4ad4-bda4-5d67166eae6a')\"\n",
       "              title=\"Convert this dataframe to an interactive table.\"\n",
       "              style=\"display:none;\">\n",
       "        \n",
       "  <svg xmlns=\"http://www.w3.org/2000/svg\" height=\"24px\"viewBox=\"0 0 24 24\"\n",
       "       width=\"24px\">\n",
       "    <path d=\"M0 0h24v24H0V0z\" fill=\"none\"/>\n",
       "    <path d=\"M18.56 5.44l.94 2.06.94-2.06 2.06-.94-2.06-.94-.94-2.06-.94 2.06-2.06.94zm-11 1L8.5 8.5l.94-2.06 2.06-.94-2.06-.94L8.5 2.5l-.94 2.06-2.06.94zm10 10l.94 2.06.94-2.06 2.06-.94-2.06-.94-.94-2.06-.94 2.06-2.06.94z\"/><path d=\"M17.41 7.96l-1.37-1.37c-.4-.4-.92-.59-1.43-.59-.52 0-1.04.2-1.43.59L10.3 9.45l-7.72 7.72c-.78.78-.78 2.05 0 2.83L4 21.41c.39.39.9.59 1.41.59.51 0 1.02-.2 1.41-.59l7.78-7.78 2.81-2.81c.8-.78.8-2.07 0-2.86zM5.41 20L4 18.59l7.72-7.72 1.47 1.35L5.41 20z\"/>\n",
       "  </svg>\n",
       "      </button>\n",
       "      \n",
       "  <style>\n",
       "    .colab-df-container {\n",
       "      display:flex;\n",
       "      flex-wrap:wrap;\n",
       "      gap: 12px;\n",
       "    }\n",
       "\n",
       "    .colab-df-convert {\n",
       "      background-color: #E8F0FE;\n",
       "      border: none;\n",
       "      border-radius: 50%;\n",
       "      cursor: pointer;\n",
       "      display: none;\n",
       "      fill: #1967D2;\n",
       "      height: 32px;\n",
       "      padding: 0 0 0 0;\n",
       "      width: 32px;\n",
       "    }\n",
       "\n",
       "    .colab-df-convert:hover {\n",
       "      background-color: #E2EBFA;\n",
       "      box-shadow: 0px 1px 2px rgba(60, 64, 67, 0.3), 0px 1px 3px 1px rgba(60, 64, 67, 0.15);\n",
       "      fill: #174EA6;\n",
       "    }\n",
       "\n",
       "    [theme=dark] .colab-df-convert {\n",
       "      background-color: #3B4455;\n",
       "      fill: #D2E3FC;\n",
       "    }\n",
       "\n",
       "    [theme=dark] .colab-df-convert:hover {\n",
       "      background-color: #434B5C;\n",
       "      box-shadow: 0px 1px 3px 1px rgba(0, 0, 0, 0.15);\n",
       "      filter: drop-shadow(0px 1px 2px rgba(0, 0, 0, 0.3));\n",
       "      fill: #FFFFFF;\n",
       "    }\n",
       "  </style>\n",
       "\n",
       "      <script>\n",
       "        const buttonEl =\n",
       "          document.querySelector('#df-ccb11c03-b2f6-4ad4-bda4-5d67166eae6a button.colab-df-convert');\n",
       "        buttonEl.style.display =\n",
       "          google.colab.kernel.accessAllowed ? 'block' : 'none';\n",
       "\n",
       "        async function convertToInteractive(key) {\n",
       "          const element = document.querySelector('#df-ccb11c03-b2f6-4ad4-bda4-5d67166eae6a');\n",
       "          const dataTable =\n",
       "            await google.colab.kernel.invokeFunction('convertToInteractive',\n",
       "                                                     [key], {});\n",
       "          if (!dataTable) return;\n",
       "\n",
       "          const docLinkHtml = 'Like what you see? Visit the ' +\n",
       "            '<a target=\"_blank\" href=https://colab.research.google.com/notebooks/data_table.ipynb>data table notebook</a>'\n",
       "            + ' to learn more about interactive tables.';\n",
       "          element.innerHTML = '';\n",
       "          dataTable['output_type'] = 'display_data';\n",
       "          await google.colab.output.renderOutput(dataTable, element);\n",
       "          const docLink = document.createElement('div');\n",
       "          docLink.innerHTML = docLinkHtml;\n",
       "          element.appendChild(docLink);\n",
       "        }\n",
       "      </script>\n",
       "    </div>\n",
       "  </div>\n",
       "  "
      ],
      "text/plain": [
       "                                     growth\n",
       "Nom_Barri                                  \n",
       "Baró de Viver                  47200.000000\n",
       "Camp de l'Arpa del Clot        39088.000000\n",
       "Can Baró                       29528.571429\n",
       "Can Peguera                    40650.000000\n",
       "Canyelles                      42120.000000\n",
       "...                                     ...\n",
       "la Verneda i la Pau            28819.047619\n",
       "la Vila Olímpica del Poblenou -21940.000000\n",
       "les Corts                      68560.000000\n",
       "les Roquetes                   20740.000000\n",
       "les Tres Torres                85372.727273\n",
       "\n",
       "[73 rows x 1 columns]"
      ]
     },
     "execution_count": 26,
     "metadata": {},
     "output_type": "execute_result"
    }
   ],
   "source": [
    "# Your code here.\n",
    "df[['Nom_Barri','growth']].groupby('Nom_Barri').mean('growth')"
   ]
  },
  {
   "cell_type": "markdown",
   "metadata": {
    "id": "0nBSHe4GEFmK"
   },
   "source": [
    "Get the list of neighborhoods of Barcelona ranked by the mean growth rate in mean tax revenues."
   ]
  },
  {
   "cell_type": "code",
   "execution_count": 27,
   "metadata": {
    "colab": {
     "base_uri": "https://localhost:8080/"
    },
    "id": "Sahv9gNZEGPa",
    "outputId": "9b22c756-d269-458d-aa47-c8f4faced746"
   },
   "outputs": [
    {
     "data": {
      "text/plain": [
       "0             la Vila Olímpica del Poblenou\n",
       "1                  Sant Genís dels Agudells\n",
       "2                          Ciutat Meridiana\n",
       "3                             Sants - Badal\n",
       "4                 Vallcarca i els Penitents\n",
       "                      ...                  \n",
       "68                                Pedralbes\n",
       "69                     la Font d'en Fargues\n",
       "70                          les Tres Torres\n",
       "71                                 la Clota\n",
       "72    Vallvidrera, el Tibidabo i les Planes\n",
       "Name: Nom_Barri, Length: 73, dtype: object"
      ]
     },
     "execution_count": 27,
     "metadata": {},
     "output_type": "execute_result"
    }
   ],
   "source": [
    "# Your code here.\n",
    "df[['Nom_Barri','growth']].groupby('Nom_Barri').mean('growth').sort_values('growth').reset_index()['Nom_Barri']"
   ]
  }
 ],
 "metadata": {
  "colab": {
   "collapsed_sections": [],
   "provenance": []
  },
  "kernelspec": {
   "display_name": "Python 3 (ipykernel)",
   "language": "python",
   "name": "python3"
  },
  "language_info": {
   "codemirror_mode": {
    "name": "ipython",
    "version": 3
   },
   "file_extension": ".py",
   "mimetype": "text/x-python",
   "name": "python",
   "nbconvert_exporter": "python",
   "pygments_lexer": "ipython3",
   "version": "3.9.16"
  }
 },
 "nbformat": 4,
 "nbformat_minor": 1
}
