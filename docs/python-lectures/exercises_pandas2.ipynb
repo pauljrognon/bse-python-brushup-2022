{
  "cells": [
    {
      "cell_type": "markdown",
      "metadata": {
        "collapsed": false,
        "id": "0W1FMkZkgg2Q"
      },
      "source": [
        "# Taxable revenues in Barcelona\n",
        "\n",
        "Open Data Barcelona provides lots of fun data about our city. You can access it here: https://opendata-ajuntament.barcelona.cat\n",
        "\n",
        "We will study the mean tax revenues per neighborhood (\"barri\") in the years 2016 and 2015. Tax revenues are a proxy for (taxable) income, so we're in a way looking at how income varies across the city. \n",
        "\n",
        "Barcelona is divided in districts and each district is divided in 'barri' or neighborhood. Each neighborhood of Barcelona is divided in several census tracts. In '2016_renda.csv' we have the mean tax revenues (tax revenues / number of tax returns) in each census tract of the city. \n",
        "\n",
        "The columns are in Catalan, so here's a quick explanation in English: \n",
        "\n",
        "Any = Year  \n",
        "Codi_Districte = District Code  \n",
        "Nom_Districte = District Name  \n",
        "Codi_Barri = Neighborhood Code  \n",
        "Nom_Barri = Neighborhood Name  \n",
        "Seccio_Censal = Census Tract Number  \n",
        "Import_Euros = Mean tax revenues"
      ]
    },
    {
      "cell_type": "markdown",
      "source": [
        "First, import the data in \"2016_renda.csv\" into a Pandas DataFrame."
      ],
      "metadata": {
        "id": "hDyZxbnzjgQi"
      }
    },
    {
      "cell_type": "code",
      "execution_count": 1,
      "metadata": {
        "id": "nPqgzRYMgg2S"
      },
      "outputs": [],
      "source": [
        "import pandas as pd\n",
        "\n",
        "#Your code here."
      ]
    },
    {
      "cell_type": "markdown",
      "source": [
        "Get the 5 neighborhoods (barris) with the highest average mean tax revenues."
      ],
      "metadata": {
        "id": "ehOOA_9Tjt_D"
      }
    },
    {
      "cell_type": "code",
      "execution_count": 2,
      "metadata": {
        "id": "7YLyqj1qgg2T"
      },
      "outputs": [],
      "source": [
        "#Your code here."
      ]
    },
    {
      "cell_type": "markdown",
      "source": [
        "Get the difference in mean revenue between the poorest census tract and the richest, within each district.\n",
        "\n",
        "You should return a DataFrame with 2 columns:\n",
        "the district name and the difference in mean revenues."
      ],
      "metadata": {
        "id": "Mbaj1O4plMuK"
      }
    },
    {
      "cell_type": "code",
      "execution_count": 3,
      "metadata": {
        "id": "tmn_h5b6gg2V"
      },
      "outputs": [],
      "source": [
        "#Your code here."
      ]
    },
    {
      "cell_type": "markdown",
      "metadata": {
        "collapsed": false,
        "id": "kAGGqt5dgg2W"
      },
      "source": [
        "## Planning Your Attack\n",
        "\n",
        "One way to make your code easier to understand is to ensure that your code can be read on two levels: one \"declarative\" level, where someone can read (or write) *what* will happen and another \"imperative level\", where someone can read (or write!) *how* the thing is happening.\n",
        "\n",
        "Data preparation often involves a \"pipeline\", a uni-directional flow of transformations where the data is moved, one step at a time, towards the final format.\n",
        "\n",
        "It's important to plan ahead when you design your pipline.\n",
        "\n",
        "One way to make a plan is to start from the final goal, and write out the following statement: \n",
        "\n",
        "1. \"If I had ________ (INPUT), then it would be easy to make [FINAL GOAL], I would just need to ________ (step).\"\n",
        "\n",
        "Where you should think of INPUT as \"data ______ in data structure ______\".\n",
        "\n",
        "That will be the final step of your pipeline. Now repeat the statement, with the FINAL GOAL being replaced with the INPUT of the previous step: \n",
        "\n",
        "2. \"If I had ________ (INPUT), then it would be easy to make [PREVIOUS INPUT], I would just need to ________ (step).\"\n",
        "\n",
        "Let's see an example of this method of planning by working out an exercise:"
      ]
    },
    {
      "cell_type": "markdown",
      "source": [
        "\n",
        "Your goal will be the following: \n",
        "\n",
        "We want to understand the income variation (or \"spatial inequality\") within each neighborhood. However, each neighborhood has a different size.\n",
        "Larger neighborhoods will naturally have a greater variation, even if there isn't great variation between one block and the next, which is what\n",
        "we want to understand with spatial inequality.\n",
        "\n",
        "To deal with this, we will apply the naive solution of simply using the number of census tracts as a proxy for the \"physical size\" of the neighborhood. We will then divide the income gap (difference between lowest and highest income tract) within each neighborhood by the number of tracts as a way to control for size. This will be our measure of spatial inequality.\n",
        "\n",
        "Your job is to return a dataframe sorted by our measure of spatial inequality where any neighborhood with one tract (0 inequality) has been removed.\n",
        "\n",
        "\n",
        "We will try to lay out a plan to solve the problem with the process we just went over:\n",
        "\n",
        "1. If I had a *column with\n",
        "   the income gap divided by the number of tracts*\n",
        "   then it would be easy to *get the neighborhoods with \n",
        "   highest and lowest spatial inequality*, I \n",
        "   would just need to *sort the dataframe by that\n",
        "   column*.\n",
        "\n",
        "2. If I had *A. a column for the income gap and \n",
        "   B. a column for the number of tracts in a neighborhood*\n",
        "   then it would be easy to get a *column with\n",
        "   the income gap divided by the number of tracts*\n",
        "   I would just need to *divide the first one column by the second*. \n",
        "\n",
        "3. If I had *the raw data*, then it would be easy to add\n",
        "   *a column with the number of tracts*, I would just need\n",
        "   to *count the number of tracts per neighborhood*.\n",
        "\n",
        "4. If I had *the raw data*, then it would be easy to add\n",
        "   *a column with the income gap*, I would just need to\n",
        "   *calculate the income difference between tracts in each \n",
        "   neighborhood*. \n",
        "\n",
        "Now we can use this outline to write a declarative pipeline\n",
        "function (in the opposite order of the steps we wrote): "
      ],
      "metadata": {
        "id": "UIpEj71Tsw1H"
      }
    },
    {
      "cell_type": "code",
      "execution_count": 4,
      "metadata": {
        "id": "WVDUy_R-gg2X"
      },
      "outputs": [],
      "source": [
        "def spatial_inequality_in_barcelona(df):\n",
        "    df = add_income_diff_for_barris(df) #4\n",
        "    df = add_num_tracts_per_barri(df) #3\n",
        "    df = add_inequality(df) #2\n",
        "    return inequality_by_barri(df) #1"
      ]
    },
    {
      "cell_type": "markdown",
      "source": [
        "In the next exercises, you will write each of the function of the pipeline above and in the end, use this function to compare barris based on their spatial inequality."
      ],
      "metadata": {
        "id": "1DseV9C-7lT2"
      }
    },
    {
      "cell_type": "markdown",
      "source": [
        "Write the function: \"add_income_diff_for_barris\"\n",
        "\n",
        "HINT: Make sure the returned dataframe is the same size as the original!\n"
      ],
      "metadata": {
        "id": "ynk9fQeU7xJF"
      }
    },
    {
      "cell_type": "code",
      "execution_count": 5,
      "metadata": {
        "id": "8WQw37oEgg2Y"
      },
      "outputs": [],
      "source": [
        "def add_diff(df):\n",
        "    gap = get_inequality(df)\n",
        "    return df.assign(gap=gap)\n",
        "\n",
        "def add_income_diff_for_barris(df):\n",
        "    return df.groupby('Nom_Barri') \\\n",
        "             .apply(add_diff) \\\n",
        "             .reset_index(drop=True)"
      ]
    },
    {
      "cell_type": "markdown",
      "source": [
        "Write the function: \"add_num_tracts_per_barri\""
      ],
      "metadata": {
        "id": "n8Qbdlu873R7"
      }
    },
    {
      "cell_type": "code",
      "execution_count": 6,
      "metadata": {
        "id": "xIMNIJf9gg2Y"
      },
      "outputs": [],
      "source": [
        "def add_num_tracts_per_barri(df):\n",
        "    return df.groupby('Nom_Barri') \\\n",
        "             .apply(lambda df: df.assign(num_tracts = df.shape[0])) \\\n",
        "             .reset_index(drop=True)"
      ]
    },
    {
      "cell_type": "markdown",
      "source": [
        "Write the function: \"add_inequality\""
      ],
      "metadata": {
        "id": "_gksYon677R8"
      }
    },
    {
      "cell_type": "code",
      "execution_count": 7,
      "metadata": {
        "id": "EGTZaX-dgg2Z"
      },
      "outputs": [],
      "source": [
        "def add_inequality(df):\n",
        "    return df.groupby('Nom_Barri') \\\n",
        "             .apply(lambda df: df.assign(inequality = df.gap/df.num_tracts)) \\\n",
        "             .reset_index(drop=True)\n"
      ]
    },
    {
      "cell_type": "markdown",
      "source": [
        "Write the function \"inequality_by_barri\". Note that this function should check that the dataframe has the same number of rows as number of barris (i.e. one barri per row). Also if some barris have an inequality at 0, remove them."
      ],
      "metadata": {
        "id": "6V4DqDh-8EA6"
      }
    },
    {
      "cell_type": "code",
      "execution_count": 8,
      "metadata": {
        "id": "KR2viBjGgg2Z"
      },
      "outputs": [],
      "source": [
        "def inequality_by_barri(df):\n",
        "    return df.drop_duplicates('Nom_Barri') \\\n",
        "             .drop(columns = ['Seccio_Censal']) \\\n",
        "             .sort_values('inequality') \\\n",
        "             .pipe(lambda df: df[df.inequality != 0])"
      ]
    },
    {
      "cell_type": "markdown",
      "source": [
        "Try out the function we wrote out in the planning phase, `spatial_inequality_in_barcelona`, does it work when given the raw data?"
      ],
      "metadata": {
        "id": "QL1qEexq8pgs"
      }
    },
    {
      "cell_type": "code",
      "source": [
        "#Your code here."
      ],
      "metadata": {
        "id": "sc8bB53G8p06"
      },
      "execution_count": 9,
      "outputs": []
    },
    {
      "cell_type": "markdown",
      "source": [
        "Now let's \"refactor\". \"Refactoring\" means rewriting the code without changing the functionality. What we wrote works and is readable. \n",
        "\n",
        "But maybe breaking it down into so many separate steps, while didactic, isn't the most efficient. You probably grouped by \"Nom_Barri\" at least 3 separate times!\n",
        "\n",
        "Try to rewrite the function spatial_inequality_in_barcelona to be more efficient (to only groupby Nom_Barri once for example) and shorter."
      ],
      "metadata": {
        "id": "ZuXJl-Cl8Vk7"
      }
    },
    {
      "cell_type": "code",
      "execution_count": 11,
      "metadata": {
        "id": "OCQCXepRgg2a"
      },
      "outputs": [],
      "source": [
        "def add_inequality(df):\n",
        "    gap = df.Import_Euros.max() - df.Import_Euros.min()\n",
        "    sections = df.shape[0]\n",
        "    return df.assign(gap=gap, \n",
        "                     sections=sections, \n",
        "                     inequality=gap/sections)\n",
        "\n",
        "def spatial_inequality_in_barcelona(df):\n",
        "    return df.groupby('Nom_Barri') \\\n",
        "             .apply(add_inequality) \\\n",
        "             .reset_index(drop=True) \\\n",
        "             .sort_values('inequality') \\\n",
        "             .pipe(lambda df: df[df.gap != 0]) \\\n",
        "             [['Nom_Barri', 'gap', 'sections', 'inequality']]  \n",
        "\n",
        "#spatial_inequality_in_barcelona(df)"
      ]
    }
  ],
  "metadata": {
    "kernelspec": {
      "argv": [
        "python",
        "-m",
        "ipykernel_launcher",
        "-f",
        "{connection_file}"
      ],
      "display_name": "Python 3",
      "env": null,
      "interrupt_mode": "signal",
      "language": "python",
      "metadata": null,
      "name": "python3"
    },
    "name": "exercises.ipynb",
    "colab": {
      "provenance": [],
      "collapsed_sections": []
    }
  },
  "nbformat": 4,
  "nbformat_minor": 0
}