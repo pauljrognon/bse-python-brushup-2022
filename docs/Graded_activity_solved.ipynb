{
  "nbformat": 4,
  "nbformat_minor": 0,
  "metadata": {
    "colab": {
      "provenance": []
    },
    "kernelspec": {
      "name": "python3",
      "display_name": "Python 3"
    },
    "language_info": {
      "name": "python"
    }
  },
  "cells": [
    {
      "cell_type": "markdown",
      "source": [
        "# Graded Activity"
      ],
      "metadata": {
        "id": "E-GSHYNl6O01"
      }
    },
    {
      "cell_type": "markdown",
      "source": [
        "Complete the assignment in this notebook itself. Write your code in the code cells with \"#Your code here\" and run the cells to display the output of your code. Submit your notebook though Google Classroom."
      ],
      "metadata": {
        "id": "1kLMdZPD6THJ"
      }
    },
    {
      "cell_type": "markdown",
      "source": [
        "## Exercise 1\n",
        "Write a function named \"dictionary_maker\" that takes a single parameter, a list of 2 tuples with 2 elements. It must return the same data in the form of a dictionary, where the first element of every tuple is the key and the second element is the value.\n",
        "\n",
        "For example, if given: `[('foo', 1), ('bar', 3)]`, it should return `{'foo': 1, 'bar': 3}`\n",
        "\n",
        "Test your function with the list `[('Horta', 26), ('Sants', 30)]`, show the output.\n",
        "\n",
        "NOTE: Don't use any built-in functions!\n",
        "\n",
        "HINT: There are many ways of doing it. If you want to create a dictionary from a list of keys and a list of values, you can use the functions `dict` and `zip`."
      ],
      "metadata": {
        "id": "u34Aus5i7ToO"
      }
    },
    {
      "cell_type": "code",
      "source": [
        "# Your code here.\n",
        "\n",
        "def dictionary_maker(list_tuples):\n",
        "  keys = []\n",
        "  values = []\n",
        "  for t in list_tuples:\n",
        "    key,value = t\n",
        "    keys.append(key)\n",
        "    values.append(value)\n",
        "  return dict(zip(keys, values))\n",
        "\n",
        "dictionary_maker([('Horta', 26), ('Sants', 30)])"
      ],
      "metadata": {
        "id": "mAk1qVuf9D8N",
        "colab": {
          "base_uri": "https://localhost:8080/"
        },
        "outputId": "9f2b6716-6afa-4975-d248-c7d01d17344c"
      },
      "execution_count": 6,
      "outputs": [
        {
          "output_type": "execute_result",
          "data": {
            "text/plain": [
              "{'Horta': 26, 'Sants': 30}"
            ]
          },
          "metadata": {},
          "execution_count": 6
        }
      ]
    },
    {
      "cell_type": "markdown",
      "source": [
        "## Exercise 2\n",
        "\n",
        "Say you are given a dataset from a repository of CVs. The individual CVs come as dictionaries and each dictionary looks like this:  \n",
        "`{ 'user': 'Laia', 'jobs': ['barmaid', 'university teacher', 'mechanic']}`  \n",
        "The dataset comes as a list of such CV-dictionaries."
      ],
      "metadata": {
        "id": "5uvMNXy28EoR"
      }
    },
    {
      "cell_type": "markdown",
      "source": [
        "Write a function named \"has_experience_as\" that takes two parameters:\n",
        "1. A list of CV's.\n",
        "2. A string (job_title)\n",
        "\n",
        "The function must return the list of users that has worked as job_title.  \n",
        "Test your function with the list `cvs` in the cell below and the job 'mechanic'. Show the output."
      ],
      "metadata": {
        "id": "PdCLNw7L9oiZ"
      }
    },
    {
      "cell_type": "code",
      "source": [
        "cvs = [{ 'user': 'Laia', 'jobs': ['barmaid', 'university teacher', 'mechanic']},\n",
        "       { 'user': 'Jaume', 'jobs': ['nurse', 'university teacher']},\n",
        "       { 'user': 'Judit', 'jobs': ['cook','mechanic','nurse', 'university teacher']}]\n",
        "\n",
        "# Your code here\n",
        "\n",
        "def has_experience_as(list_cvs, job_title):\n",
        "  has_experience = []\n",
        "  for cv in list_cvs:\n",
        "    if job_title in cv['jobs']:\n",
        "      has_experience.append(cv['user'])\n",
        "  return has_experience\n",
        "\n",
        "has_experience_as(cvs, 'mechanic')"
      ],
      "metadata": {
        "id": "Gi79Aov6-ZJl",
        "colab": {
          "base_uri": "https://localhost:8080/"
        },
        "outputId": "27607ba9-f95c-4bf7-817f-2d55bd7c0e9d"
      },
      "execution_count": 8,
      "outputs": [
        {
          "output_type": "execute_result",
          "data": {
            "text/plain": [
              "['Laia', 'Judit']"
            ]
          },
          "metadata": {},
          "execution_count": 8
        }
      ]
    },
    {
      "cell_type": "markdown",
      "source": [
        "Write a function named \"job_counts\" that takes one parameter, the list of CVs, and returns a dictionary where the keys are all possible jobs done by the users and the values are the number of users that have experience in each job. Test your function with the list `cvs` above and show the output."
      ],
      "metadata": {
        "id": "AMm9ZMS-PHS2"
      }
    },
    {
      "cell_type": "code",
      "source": [
        "#Your code here\n",
        "\n",
        "def job_counts(list_cvs):\n",
        "  all_jobs = set()\n",
        "  for cv in list_cvs:\n",
        "    all_jobs = all_jobs | set(cv['jobs'])\n",
        "  \n",
        "  jobs = []\n",
        "  numbers = []\n",
        "  for job in all_jobs:\n",
        "    jobs.append(job)\n",
        "    counter = 0\n",
        "    for cv in list_cvs:\n",
        "      if job in cv['jobs']:\n",
        "        counter += 1\n",
        "    numbers.append(counter)\n",
        "  return dict(zip(jobs, numbers))\n",
        "\n",
        "job_counts(cvs)"
      ],
      "metadata": {
        "id": "uI6aOzNSPzwR",
        "colab": {
          "base_uri": "https://localhost:8080/"
        },
        "outputId": "dad90204-a00a-4e70-e82a-e1b87a852a9e"
      },
      "execution_count": 10,
      "outputs": [
        {
          "output_type": "execute_result",
          "data": {
            "text/plain": [
              "{'university teacher': 3, 'barmaid': 1, 'nurse': 2, 'mechanic': 2, 'cook': 1}"
            ]
          },
          "metadata": {},
          "execution_count": 10
        }
      ]
    },
    {
      "cell_type": "markdown",
      "source": [
        "Write a function, named \"most_popular_job\" that takes one parameter, a list of CVs, and returns a tuple (str, int) that represents the most frequent job among CVs and the number of times it appears. Test your function with the list `cvs` above and show the output.\n",
        "\n",
        "HINT: You can use your \"job_counts\"\n",
        "function.\n",
        "\n",
        "HINT: There are plenty of ways of doing it. You can use the method '.items' on dictionaries to iterate over them like a list of tuples. You can also access all the keys and all the values of a dictionary with the methods `.keys()` and `.values()`."
      ],
      "metadata": {
        "id": "gX8gEHNCP8yf"
      }
    },
    {
      "cell_type": "code",
      "execution_count": 13,
      "metadata": {
        "id": "JVgIcCUMygPG",
        "colab": {
          "base_uri": "https://localhost:8080/"
        },
        "outputId": "f85a86df-b439-474a-8e8d-94169b6de731"
      },
      "outputs": [
        {
          "output_type": "execute_result",
          "data": {
            "text/plain": [
              "('university teacher', 3)"
            ]
          },
          "metadata": {},
          "execution_count": 13
        }
      ],
      "source": [
        "# Your code here\n",
        "\n",
        "def most_popular_job(list_cvs):\n",
        "  jobcounts = job_counts(cvs)\n",
        "  keys = list(jobcounts.keys())\n",
        "  values = list(jobcounts.values())\n",
        "  maxvalues = max(values)\n",
        "  \n",
        "  return (keys[values==maxvalues], maxvalues)\n",
        "\n",
        "most_popular_job(cvs)"
      ]
    },
    {
      "cell_type": "markdown",
      "source": [
        "## Exercise 3"
      ],
      "metadata": {
        "id": "H7zl0x8MA3lL"
      }
    },
    {
      "cell_type": "markdown",
      "source": [
        "[Open Data Barcelona](https://opendata-ajuntament.barcelona.cat) provides lots of fun data about our city. \n",
        "\n",
        "You will study the evolution of mean tax revenues in Barcelona between the years 2016 and 2015.\n",
        "\n",
        "Barcelona is divided in districts and each district is divided in 'barri' or neighborhood. Each neighborhood of Barcelona is divided in several census tracts. In '2015_renda.csv' and '2016_renda.csv' you have the mean tax revenues (tax revenues / number of tax returns) in each census tract of the city for the years 2015 and 2016. \n",
        "\n",
        "The columns are in Catalan, here's the translation to English: \n",
        "\n",
        "Any = Year  \n",
        "Codi_Districte = District Code  \n",
        "Nom_Districte = District Name  \n",
        "Codi_Barri = Neighborhood Code  \n",
        "Nom_Barri = Neighborhood Name  \n",
        "Seccio_Censal = Census Tract Number  \n",
        "Import_Euros = Mean tax revenues"
      ],
      "metadata": {
        "id": "QRHUEoy7A5xg"
      }
    },
    {
      "cell_type": "markdown",
      "source": [
        "Read the two files '2015_renda.csv' and '2016_renda.csv' into Pandas dataframes."
      ],
      "metadata": {
        "id": "mFxxVQchBehu"
      }
    },
    {
      "cell_type": "code",
      "source": [
        "# Your code here.\n",
        "import pandas as pd\n",
        "df2015 = pd.read_csv('2015_renda.csv')\n",
        "df2016 = pd.read_csv('2016_renda.csv')\n",
        "\n",
        "print(df2015.head())\n",
        "print(df2015.shape)\n",
        "print(df2016.head())\n",
        "print(df2016.shape)"
      ],
      "metadata": {
        "colab": {
          "base_uri": "https://localhost:8080/"
        },
        "id": "3iPhBmN2CtWo",
        "outputId": "79006944-29df-4579-fb95-ea044cfbf5c2"
      },
      "execution_count": 32,
      "outputs": [
        {
          "output_type": "stream",
          "name": "stdout",
          "text": [
            "    Any  Codi_Districte Nom_Districte  Codi_Barri Nom_Barri  Seccio_Censal  \\\n",
            "0  2015               1  Ciutat Vella           1  el Raval              1   \n",
            "1  2015               1  Ciutat Vella           1  el Raval              2   \n",
            "2  2015               1  Ciutat Vella           1  el Raval              3   \n",
            "3  2015               1  Ciutat Vella           1  el Raval              4   \n",
            "4  2015               1  Ciutat Vella           1  el Raval              5   \n",
            "\n",
            "   Import_Euros  \n",
            "0          9310  \n",
            "1          7496  \n",
            "2          7300  \n",
            "3          9346  \n",
            "4          7763  \n",
            "(1068, 7)\n",
            "    Any  Codi_Districte Nom_Districte  Codi_Barri Nom_Barri  Seccio_Censal  \\\n",
            "0  2016               1  Ciutat Vella           1  el Raval              1   \n",
            "1  2016               1  Ciutat Vella           1  el Raval              2   \n",
            "2  2016               1  Ciutat Vella           1  el Raval              3   \n",
            "3  2016               1  Ciutat Vella           1  el Raval              4   \n",
            "4  2016               1  Ciutat Vella           1  el Raval              5   \n",
            "\n",
            "   Import_Euros  \n",
            "0          9977  \n",
            "1          7366  \n",
            "2          7657  \n",
            "3          9510  \n",
            "4          7714  \n",
            "(1068, 7)\n"
          ]
        }
      ]
    },
    {
      "cell_type": "markdown",
      "source": [
        "Obtain a single dataframe with mean tax revenues information of both 2015 and 2016"
      ],
      "metadata": {
        "id": "X3V4pL9YCvNR"
      }
    },
    {
      "cell_type": "code",
      "source": [
        "# Your code here.´\n",
        "\n",
        "df = pd.merge(df2015.drop('Any',axis=1),df2016.drop('Any',axis=1),\n",
        "              on=['Codi_Districte','Nom_Districte','Codi_Barri','Nom_Barri','Seccio_Censal'],\n",
        "              how='outer',\n",
        "              suffixes = (\"_2015\", \"_2016\"))\n",
        "print(df.head())"
      ],
      "metadata": {
        "colab": {
          "base_uri": "https://localhost:8080/"
        },
        "id": "q6yknnquDeZC",
        "outputId": "411bd045-8441-4168-c995-ddf2354aab56"
      },
      "execution_count": 35,
      "outputs": [
        {
          "output_type": "stream",
          "name": "stdout",
          "text": [
            "   Codi_Districte Nom_Districte  Codi_Barri Nom_Barri  Seccio_Censal  \\\n",
            "0               1  Ciutat Vella           1  el Raval              1   \n",
            "1               1  Ciutat Vella           1  el Raval              2   \n",
            "2               1  Ciutat Vella           1  el Raval              3   \n",
            "3               1  Ciutat Vella           1  el Raval              4   \n",
            "4               1  Ciutat Vella           1  el Raval              5   \n",
            "\n",
            "   Import_Euros_2015  Import_Euros_2016  \n",
            "0               9310               9977  \n",
            "1               7496               7366  \n",
            "2               7300               7657  \n",
            "3               9346               9510  \n",
            "4               7763               7714  \n"
          ]
        }
      ]
    },
    {
      "cell_type": "markdown",
      "source": [
        "Compute the growth in mean tax revenues for each census tract."
      ],
      "metadata": {
        "id": "YXmZP5r1DIFJ"
      }
    },
    {
      "cell_type": "code",
      "source": [
        "# Your code here.\n",
        "df['growth'] = 100*(df['Import_Euros_2016']-df['Import_Euros_2015'])/df['Import_Euros_2015']\n",
        "print(df.head())"
      ],
      "metadata": {
        "colab": {
          "base_uri": "https://localhost:8080/"
        },
        "id": "0wJ7R14FDZAm",
        "outputId": "10d975d2-d95e-40ef-ae2a-b22a670c0f5a"
      },
      "execution_count": 39,
      "outputs": [
        {
          "output_type": "stream",
          "name": "stdout",
          "text": [
            "   Codi_Districte Nom_Districte  Codi_Barri Nom_Barri  Seccio_Censal  \\\n",
            "0               1  Ciutat Vella           1  el Raval              1   \n",
            "1               1  Ciutat Vella           1  el Raval              2   \n",
            "2               1  Ciutat Vella           1  el Raval              3   \n",
            "3               1  Ciutat Vella           1  el Raval              4   \n",
            "4               1  Ciutat Vella           1  el Raval              5   \n",
            "\n",
            "   Import_Euros_2015  Import_Euros_2016    growth  \n",
            "0               9310               9977  7.164339  \n",
            "1               7496               7366 -1.734258  \n",
            "2               7300               7657  4.890411  \n",
            "3               9346               9510  1.754761  \n",
            "4               7763               7714 -0.631199  \n"
          ]
        }
      ]
    },
    {
      "cell_type": "markdown",
      "source": [
        "Sort the dataset by the growth in mean tax revenues you just computed."
      ],
      "metadata": {
        "id": "S3cvoFhVDrAJ"
      }
    },
    {
      "cell_type": "code",
      "source": [
        "# Your code here.\n",
        "df.sort_values(by='growth')"
      ],
      "metadata": {
        "colab": {
          "base_uri": "https://localhost:8080/",
          "height": 468
        },
        "id": "k7hBGEM2Drpi",
        "outputId": "5ff9c0f1-993d-4b0a-c6d9-5e0798d1d7f8"
      },
      "execution_count": 40,
      "outputs": [
        {
          "output_type": "execute_result",
          "data": {
            "text/plain": [
              "     Codi_Districte        Nom_Districte  Codi_Barri  \\\n",
              "405               5  Sarrià-Sant Gervasi          23   \n",
              "506               6               Gràcia          28   \n",
              "433               5  Sarrià-Sant Gervasi          25   \n",
              "309               3       Sants-Montjuïc          17   \n",
              "448               5  Sarrià-Sant Gervasi          25   \n",
              "..              ...                  ...         ...   \n",
              "523               6               Gràcia          30   \n",
              "404               5  Sarrià-Sant Gervasi          23   \n",
              "458               5  Sarrià-Sant Gervasi          26   \n",
              "496               5  Sarrià-Sant Gervasi          27   \n",
              "508               6               Gràcia          28   \n",
              "\n",
              "                      Nom_Barri  Seccio_Censal  Import_Euros_2015  \\\n",
              "405                      Sarrià              5              24007   \n",
              "506   Vallcarca i els Penitents              9              26603   \n",
              "433  Sant Gervasi - la Bonanova             33              27566   \n",
              "309               Sants - Badal             83              17566   \n",
              "448  Sant Gervasi - la Bonanova             48              25074   \n",
              "..                          ...            ...                ...   \n",
              "523                    la Salut             26              15020   \n",
              "404                      Sarrià              4              25023   \n",
              "458      Sant Gervasi - Galvany             58              24653   \n",
              "496           el Putget i Farró             96              17627   \n",
              "508   Vallcarca i els Penitents             11              17834   \n",
              "\n",
              "     Import_Euros_2016     growth  \n",
              "405              14469 -39.730079  \n",
              "506              21683 -18.494155  \n",
              "433              23543 -14.594065  \n",
              "309              15339 -12.677900  \n",
              "448              22461 -10.421153  \n",
              "..                 ...        ...  \n",
              "523              17576  17.017310  \n",
              "404              29364  17.348040  \n",
              "458              29364  19.109236  \n",
              "496              21255  20.582062  \n",
              "508              21679  21.559942  \n",
              "\n",
              "[1068 rows x 8 columns]"
            ],
            "text/html": [
              "\n",
              "  <div id=\"df-b3cc8142-f2ec-4970-994c-96223e6f19f1\">\n",
              "    <div class=\"colab-df-container\">\n",
              "      <div>\n",
              "<style scoped>\n",
              "    .dataframe tbody tr th:only-of-type {\n",
              "        vertical-align: middle;\n",
              "    }\n",
              "\n",
              "    .dataframe tbody tr th {\n",
              "        vertical-align: top;\n",
              "    }\n",
              "\n",
              "    .dataframe thead th {\n",
              "        text-align: right;\n",
              "    }\n",
              "</style>\n",
              "<table border=\"1\" class=\"dataframe\">\n",
              "  <thead>\n",
              "    <tr style=\"text-align: right;\">\n",
              "      <th></th>\n",
              "      <th>Codi_Districte</th>\n",
              "      <th>Nom_Districte</th>\n",
              "      <th>Codi_Barri</th>\n",
              "      <th>Nom_Barri</th>\n",
              "      <th>Seccio_Censal</th>\n",
              "      <th>Import_Euros_2015</th>\n",
              "      <th>Import_Euros_2016</th>\n",
              "      <th>growth</th>\n",
              "    </tr>\n",
              "  </thead>\n",
              "  <tbody>\n",
              "    <tr>\n",
              "      <th>405</th>\n",
              "      <td>5</td>\n",
              "      <td>Sarrià-Sant Gervasi</td>\n",
              "      <td>23</td>\n",
              "      <td>Sarrià</td>\n",
              "      <td>5</td>\n",
              "      <td>24007</td>\n",
              "      <td>14469</td>\n",
              "      <td>-39.730079</td>\n",
              "    </tr>\n",
              "    <tr>\n",
              "      <th>506</th>\n",
              "      <td>6</td>\n",
              "      <td>Gràcia</td>\n",
              "      <td>28</td>\n",
              "      <td>Vallcarca i els Penitents</td>\n",
              "      <td>9</td>\n",
              "      <td>26603</td>\n",
              "      <td>21683</td>\n",
              "      <td>-18.494155</td>\n",
              "    </tr>\n",
              "    <tr>\n",
              "      <th>433</th>\n",
              "      <td>5</td>\n",
              "      <td>Sarrià-Sant Gervasi</td>\n",
              "      <td>25</td>\n",
              "      <td>Sant Gervasi - la Bonanova</td>\n",
              "      <td>33</td>\n",
              "      <td>27566</td>\n",
              "      <td>23543</td>\n",
              "      <td>-14.594065</td>\n",
              "    </tr>\n",
              "    <tr>\n",
              "      <th>309</th>\n",
              "      <td>3</td>\n",
              "      <td>Sants-Montjuïc</td>\n",
              "      <td>17</td>\n",
              "      <td>Sants - Badal</td>\n",
              "      <td>83</td>\n",
              "      <td>17566</td>\n",
              "      <td>15339</td>\n",
              "      <td>-12.677900</td>\n",
              "    </tr>\n",
              "    <tr>\n",
              "      <th>448</th>\n",
              "      <td>5</td>\n",
              "      <td>Sarrià-Sant Gervasi</td>\n",
              "      <td>25</td>\n",
              "      <td>Sant Gervasi - la Bonanova</td>\n",
              "      <td>48</td>\n",
              "      <td>25074</td>\n",
              "      <td>22461</td>\n",
              "      <td>-10.421153</td>\n",
              "    </tr>\n",
              "    <tr>\n",
              "      <th>...</th>\n",
              "      <td>...</td>\n",
              "      <td>...</td>\n",
              "      <td>...</td>\n",
              "      <td>...</td>\n",
              "      <td>...</td>\n",
              "      <td>...</td>\n",
              "      <td>...</td>\n",
              "      <td>...</td>\n",
              "    </tr>\n",
              "    <tr>\n",
              "      <th>523</th>\n",
              "      <td>6</td>\n",
              "      <td>Gràcia</td>\n",
              "      <td>30</td>\n",
              "      <td>la Salut</td>\n",
              "      <td>26</td>\n",
              "      <td>15020</td>\n",
              "      <td>17576</td>\n",
              "      <td>17.017310</td>\n",
              "    </tr>\n",
              "    <tr>\n",
              "      <th>404</th>\n",
              "      <td>5</td>\n",
              "      <td>Sarrià-Sant Gervasi</td>\n",
              "      <td>23</td>\n",
              "      <td>Sarrià</td>\n",
              "      <td>4</td>\n",
              "      <td>25023</td>\n",
              "      <td>29364</td>\n",
              "      <td>17.348040</td>\n",
              "    </tr>\n",
              "    <tr>\n",
              "      <th>458</th>\n",
              "      <td>5</td>\n",
              "      <td>Sarrià-Sant Gervasi</td>\n",
              "      <td>26</td>\n",
              "      <td>Sant Gervasi - Galvany</td>\n",
              "      <td>58</td>\n",
              "      <td>24653</td>\n",
              "      <td>29364</td>\n",
              "      <td>19.109236</td>\n",
              "    </tr>\n",
              "    <tr>\n",
              "      <th>496</th>\n",
              "      <td>5</td>\n",
              "      <td>Sarrià-Sant Gervasi</td>\n",
              "      <td>27</td>\n",
              "      <td>el Putget i Farró</td>\n",
              "      <td>96</td>\n",
              "      <td>17627</td>\n",
              "      <td>21255</td>\n",
              "      <td>20.582062</td>\n",
              "    </tr>\n",
              "    <tr>\n",
              "      <th>508</th>\n",
              "      <td>6</td>\n",
              "      <td>Gràcia</td>\n",
              "      <td>28</td>\n",
              "      <td>Vallcarca i els Penitents</td>\n",
              "      <td>11</td>\n",
              "      <td>17834</td>\n",
              "      <td>21679</td>\n",
              "      <td>21.559942</td>\n",
              "    </tr>\n",
              "  </tbody>\n",
              "</table>\n",
              "<p>1068 rows × 8 columns</p>\n",
              "</div>\n",
              "      <button class=\"colab-df-convert\" onclick=\"convertToInteractive('df-b3cc8142-f2ec-4970-994c-96223e6f19f1')\"\n",
              "              title=\"Convert this dataframe to an interactive table.\"\n",
              "              style=\"display:none;\">\n",
              "        \n",
              "  <svg xmlns=\"http://www.w3.org/2000/svg\" height=\"24px\"viewBox=\"0 0 24 24\"\n",
              "       width=\"24px\">\n",
              "    <path d=\"M0 0h24v24H0V0z\" fill=\"none\"/>\n",
              "    <path d=\"M18.56 5.44l.94 2.06.94-2.06 2.06-.94-2.06-.94-.94-2.06-.94 2.06-2.06.94zm-11 1L8.5 8.5l.94-2.06 2.06-.94-2.06-.94L8.5 2.5l-.94 2.06-2.06.94zm10 10l.94 2.06.94-2.06 2.06-.94-2.06-.94-.94-2.06-.94 2.06-2.06.94z\"/><path d=\"M17.41 7.96l-1.37-1.37c-.4-.4-.92-.59-1.43-.59-.52 0-1.04.2-1.43.59L10.3 9.45l-7.72 7.72c-.78.78-.78 2.05 0 2.83L4 21.41c.39.39.9.59 1.41.59.51 0 1.02-.2 1.41-.59l7.78-7.78 2.81-2.81c.8-.78.8-2.07 0-2.86zM5.41 20L4 18.59l7.72-7.72 1.47 1.35L5.41 20z\"/>\n",
              "  </svg>\n",
              "      </button>\n",
              "      \n",
              "  <style>\n",
              "    .colab-df-container {\n",
              "      display:flex;\n",
              "      flex-wrap:wrap;\n",
              "      gap: 12px;\n",
              "    }\n",
              "\n",
              "    .colab-df-convert {\n",
              "      background-color: #E8F0FE;\n",
              "      border: none;\n",
              "      border-radius: 50%;\n",
              "      cursor: pointer;\n",
              "      display: none;\n",
              "      fill: #1967D2;\n",
              "      height: 32px;\n",
              "      padding: 0 0 0 0;\n",
              "      width: 32px;\n",
              "    }\n",
              "\n",
              "    .colab-df-convert:hover {\n",
              "      background-color: #E2EBFA;\n",
              "      box-shadow: 0px 1px 2px rgba(60, 64, 67, 0.3), 0px 1px 3px 1px rgba(60, 64, 67, 0.15);\n",
              "      fill: #174EA6;\n",
              "    }\n",
              "\n",
              "    [theme=dark] .colab-df-convert {\n",
              "      background-color: #3B4455;\n",
              "      fill: #D2E3FC;\n",
              "    }\n",
              "\n",
              "    [theme=dark] .colab-df-convert:hover {\n",
              "      background-color: #434B5C;\n",
              "      box-shadow: 0px 1px 3px 1px rgba(0, 0, 0, 0.15);\n",
              "      filter: drop-shadow(0px 1px 2px rgba(0, 0, 0, 0.3));\n",
              "      fill: #FFFFFF;\n",
              "    }\n",
              "  </style>\n",
              "\n",
              "      <script>\n",
              "        const buttonEl =\n",
              "          document.querySelector('#df-b3cc8142-f2ec-4970-994c-96223e6f19f1 button.colab-df-convert');\n",
              "        buttonEl.style.display =\n",
              "          google.colab.kernel.accessAllowed ? 'block' : 'none';\n",
              "\n",
              "        async function convertToInteractive(key) {\n",
              "          const element = document.querySelector('#df-b3cc8142-f2ec-4970-994c-96223e6f19f1');\n",
              "          const dataTable =\n",
              "            await google.colab.kernel.invokeFunction('convertToInteractive',\n",
              "                                                     [key], {});\n",
              "          if (!dataTable) return;\n",
              "\n",
              "          const docLinkHtml = 'Like what you see? Visit the ' +\n",
              "            '<a target=\"_blank\" href=https://colab.research.google.com/notebooks/data_table.ipynb>data table notebook</a>'\n",
              "            + ' to learn more about interactive tables.';\n",
              "          element.innerHTML = '';\n",
              "          dataTable['output_type'] = 'display_data';\n",
              "          await google.colab.output.renderOutput(dataTable, element);\n",
              "          const docLink = document.createElement('div');\n",
              "          docLink.innerHTML = docLinkHtml;\n",
              "          element.appendChild(docLink);\n",
              "        }\n",
              "      </script>\n",
              "    </div>\n",
              "  </div>\n",
              "  "
            ]
          },
          "metadata": {},
          "execution_count": 40
        }
      ]
    },
    {
      "cell_type": "markdown",
      "source": [
        "Compute the mean growth per neighborhood (barri)."
      ],
      "metadata": {
        "id": "ds-uLCXFD73C"
      }
    },
    {
      "cell_type": "code",
      "source": [
        "# Your code here.\n",
        "df[['Nom_Barri','growth']].groupby('Nom_Barri').mean('growth')"
      ],
      "metadata": {
        "colab": {
          "base_uri": "https://localhost:8080/",
          "height": 455
        },
        "id": "IcNwRvI6D814",
        "outputId": "fea72586-d6fe-40e1-e038-98e1656e02b4"
      },
      "execution_count": 43,
      "outputs": [
        {
          "output_type": "execute_result",
          "data": {
            "text/plain": [
              "                                 growth\n",
              "Nom_Barri                              \n",
              "Baró de Viver                  5.872690\n",
              "Camp de l'Arpa del Clot        2.684525\n",
              "Can Baró                       2.455837\n",
              "Can Peguera                    4.644083\n",
              "Canyelles                      3.314819\n",
              "...                                 ...\n",
              "la Verneda i la Pau            2.445924\n",
              "la Vila Olímpica del Poblenou -0.849093\n",
              "les Corts                      3.549839\n",
              "les Roquetes                   2.359010\n",
              "les Tres Torres                3.116540\n",
              "\n",
              "[73 rows x 1 columns]"
            ],
            "text/html": [
              "\n",
              "  <div id=\"df-ac65eb17-efc7-4a9c-bb91-d496d91404e7\">\n",
              "    <div class=\"colab-df-container\">\n",
              "      <div>\n",
              "<style scoped>\n",
              "    .dataframe tbody tr th:only-of-type {\n",
              "        vertical-align: middle;\n",
              "    }\n",
              "\n",
              "    .dataframe tbody tr th {\n",
              "        vertical-align: top;\n",
              "    }\n",
              "\n",
              "    .dataframe thead th {\n",
              "        text-align: right;\n",
              "    }\n",
              "</style>\n",
              "<table border=\"1\" class=\"dataframe\">\n",
              "  <thead>\n",
              "    <tr style=\"text-align: right;\">\n",
              "      <th></th>\n",
              "      <th>growth</th>\n",
              "    </tr>\n",
              "    <tr>\n",
              "      <th>Nom_Barri</th>\n",
              "      <th></th>\n",
              "    </tr>\n",
              "  </thead>\n",
              "  <tbody>\n",
              "    <tr>\n",
              "      <th>Baró de Viver</th>\n",
              "      <td>5.872690</td>\n",
              "    </tr>\n",
              "    <tr>\n",
              "      <th>Camp de l'Arpa del Clot</th>\n",
              "      <td>2.684525</td>\n",
              "    </tr>\n",
              "    <tr>\n",
              "      <th>Can Baró</th>\n",
              "      <td>2.455837</td>\n",
              "    </tr>\n",
              "    <tr>\n",
              "      <th>Can Peguera</th>\n",
              "      <td>4.644083</td>\n",
              "    </tr>\n",
              "    <tr>\n",
              "      <th>Canyelles</th>\n",
              "      <td>3.314819</td>\n",
              "    </tr>\n",
              "    <tr>\n",
              "      <th>...</th>\n",
              "      <td>...</td>\n",
              "    </tr>\n",
              "    <tr>\n",
              "      <th>la Verneda i la Pau</th>\n",
              "      <td>2.445924</td>\n",
              "    </tr>\n",
              "    <tr>\n",
              "      <th>la Vila Olímpica del Poblenou</th>\n",
              "      <td>-0.849093</td>\n",
              "    </tr>\n",
              "    <tr>\n",
              "      <th>les Corts</th>\n",
              "      <td>3.549839</td>\n",
              "    </tr>\n",
              "    <tr>\n",
              "      <th>les Roquetes</th>\n",
              "      <td>2.359010</td>\n",
              "    </tr>\n",
              "    <tr>\n",
              "      <th>les Tres Torres</th>\n",
              "      <td>3.116540</td>\n",
              "    </tr>\n",
              "  </tbody>\n",
              "</table>\n",
              "<p>73 rows × 1 columns</p>\n",
              "</div>\n",
              "      <button class=\"colab-df-convert\" onclick=\"convertToInteractive('df-ac65eb17-efc7-4a9c-bb91-d496d91404e7')\"\n",
              "              title=\"Convert this dataframe to an interactive table.\"\n",
              "              style=\"display:none;\">\n",
              "        \n",
              "  <svg xmlns=\"http://www.w3.org/2000/svg\" height=\"24px\"viewBox=\"0 0 24 24\"\n",
              "       width=\"24px\">\n",
              "    <path d=\"M0 0h24v24H0V0z\" fill=\"none\"/>\n",
              "    <path d=\"M18.56 5.44l.94 2.06.94-2.06 2.06-.94-2.06-.94-.94-2.06-.94 2.06-2.06.94zm-11 1L8.5 8.5l.94-2.06 2.06-.94-2.06-.94L8.5 2.5l-.94 2.06-2.06.94zm10 10l.94 2.06.94-2.06 2.06-.94-2.06-.94-.94-2.06-.94 2.06-2.06.94z\"/><path d=\"M17.41 7.96l-1.37-1.37c-.4-.4-.92-.59-1.43-.59-.52 0-1.04.2-1.43.59L10.3 9.45l-7.72 7.72c-.78.78-.78 2.05 0 2.83L4 21.41c.39.39.9.59 1.41.59.51 0 1.02-.2 1.41-.59l7.78-7.78 2.81-2.81c.8-.78.8-2.07 0-2.86zM5.41 20L4 18.59l7.72-7.72 1.47 1.35L5.41 20z\"/>\n",
              "  </svg>\n",
              "      </button>\n",
              "      \n",
              "  <style>\n",
              "    .colab-df-container {\n",
              "      display:flex;\n",
              "      flex-wrap:wrap;\n",
              "      gap: 12px;\n",
              "    }\n",
              "\n",
              "    .colab-df-convert {\n",
              "      background-color: #E8F0FE;\n",
              "      border: none;\n",
              "      border-radius: 50%;\n",
              "      cursor: pointer;\n",
              "      display: none;\n",
              "      fill: #1967D2;\n",
              "      height: 32px;\n",
              "      padding: 0 0 0 0;\n",
              "      width: 32px;\n",
              "    }\n",
              "\n",
              "    .colab-df-convert:hover {\n",
              "      background-color: #E2EBFA;\n",
              "      box-shadow: 0px 1px 2px rgba(60, 64, 67, 0.3), 0px 1px 3px 1px rgba(60, 64, 67, 0.15);\n",
              "      fill: #174EA6;\n",
              "    }\n",
              "\n",
              "    [theme=dark] .colab-df-convert {\n",
              "      background-color: #3B4455;\n",
              "      fill: #D2E3FC;\n",
              "    }\n",
              "\n",
              "    [theme=dark] .colab-df-convert:hover {\n",
              "      background-color: #434B5C;\n",
              "      box-shadow: 0px 1px 3px 1px rgba(0, 0, 0, 0.15);\n",
              "      filter: drop-shadow(0px 1px 2px rgba(0, 0, 0, 0.3));\n",
              "      fill: #FFFFFF;\n",
              "    }\n",
              "  </style>\n",
              "\n",
              "      <script>\n",
              "        const buttonEl =\n",
              "          document.querySelector('#df-ac65eb17-efc7-4a9c-bb91-d496d91404e7 button.colab-df-convert');\n",
              "        buttonEl.style.display =\n",
              "          google.colab.kernel.accessAllowed ? 'block' : 'none';\n",
              "\n",
              "        async function convertToInteractive(key) {\n",
              "          const element = document.querySelector('#df-ac65eb17-efc7-4a9c-bb91-d496d91404e7');\n",
              "          const dataTable =\n",
              "            await google.colab.kernel.invokeFunction('convertToInteractive',\n",
              "                                                     [key], {});\n",
              "          if (!dataTable) return;\n",
              "\n",
              "          const docLinkHtml = 'Like what you see? Visit the ' +\n",
              "            '<a target=\"_blank\" href=https://colab.research.google.com/notebooks/data_table.ipynb>data table notebook</a>'\n",
              "            + ' to learn more about interactive tables.';\n",
              "          element.innerHTML = '';\n",
              "          dataTable['output_type'] = 'display_data';\n",
              "          await google.colab.output.renderOutput(dataTable, element);\n",
              "          const docLink = document.createElement('div');\n",
              "          docLink.innerHTML = docLinkHtml;\n",
              "          element.appendChild(docLink);\n",
              "        }\n",
              "      </script>\n",
              "    </div>\n",
              "  </div>\n",
              "  "
            ]
          },
          "metadata": {},
          "execution_count": 43
        }
      ]
    },
    {
      "cell_type": "markdown",
      "source": [
        "Get the list of neighborhoods of Barcelona ranked by the mean growth in tax revenues."
      ],
      "metadata": {
        "id": "0nBSHe4GEFmK"
      }
    },
    {
      "cell_type": "code",
      "source": [
        "# Your code here.\n",
        "df[['Nom_Barri','growth']].groupby('Nom_Barri').mean('growth').sort_values('growth').reset_index()['Nom_Barri']"
      ],
      "metadata": {
        "colab": {
          "base_uri": "https://localhost:8080/"
        },
        "id": "Sahv9gNZEGPa",
        "outputId": "47d92531-ef2b-4855-ff71-631ffb018329"
      },
      "execution_count": 52,
      "outputs": [
        {
          "output_type": "execute_result",
          "data": {
            "text/plain": [
              "0                  Sant Genís dels Agudells\n",
              "1             la Vila Olímpica del Poblenou\n",
              "2                          Ciutat Meridiana\n",
              "3                             Sants - Badal\n",
              "4                                   Montbau\n",
              "                      ...                  \n",
              "68                     la Font d'en Fargues\n",
              "69                              Can Peguera\n",
              "70                            Baró de Viver\n",
              "71    Vallvidrera, el Tibidabo i les Planes\n",
              "72                                 la Clota\n",
              "Name: Nom_Barri, Length: 73, dtype: object"
            ]
          },
          "metadata": {},
          "execution_count": 52
        }
      ]
    }
  ]
}